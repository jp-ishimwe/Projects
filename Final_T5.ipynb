{
  "nbformat": 4,
  "nbformat_minor": 0,
  "metadata": {
    "accelerator": "GPU",
    "colab": {
      "name": "Final-T5.ipynb",
      "provenance": [],
      "collapsed_sections": [],
      "toc_visible": true,
      "machine_shape": "hm"
    },
    "environment": {
      "name": "pytorch-gpu.1-4.m49",
      "type": "gcloud",
      "uri": "gcr.io/deeplearning-platform-release/pytorch-gpu.1-4:m49"
    },
    "kernelspec": {
      "display_name": "Python 3",
      "language": "python",
      "name": "python3"
    },
    "language_info": {
      "codemirror_mode": {
        "name": "ipython",
        "version": 3
      },
      "file_extension": ".py",
      "mimetype": "text/x-python",
      "name": "python",
      "nbconvert_exporter": "python",
      "pygments_lexer": "ipython3",
      "version": "3.8.5"
    },
    "widgets": {
      "application/vnd.jupyter.widget-state+json": {
        "d18254e2299e4ef4979c7985adfb1e2f": {
          "model_module": "@jupyter-widgets/controls",
          "model_name": "HBoxModel",
          "state": {
            "_view_name": "HBoxView",
            "_dom_classes": [],
            "_model_name": "HBoxModel",
            "_view_module": "@jupyter-widgets/controls",
            "_model_module_version": "1.5.0",
            "_view_count": null,
            "_view_module_version": "1.5.0",
            "box_style": "",
            "layout": "IPY_MODEL_8bb33263414d401d9d6387d6f36d8841",
            "_model_module": "@jupyter-widgets/controls",
            "children": [
              "IPY_MODEL_426e893b1fe34735aab5e0b534bd46b1",
              "IPY_MODEL_1e4db699ac14463f975041bf892d596a"
            ]
          }
        },
        "8bb33263414d401d9d6387d6f36d8841": {
          "model_module": "@jupyter-widgets/base",
          "model_name": "LayoutModel",
          "state": {
            "_view_name": "LayoutView",
            "grid_template_rows": null,
            "right": null,
            "justify_content": null,
            "_view_module": "@jupyter-widgets/base",
            "overflow": null,
            "_model_module_version": "1.2.0",
            "_view_count": null,
            "flex_flow": null,
            "width": null,
            "min_width": null,
            "border": null,
            "align_items": null,
            "bottom": null,
            "_model_module": "@jupyter-widgets/base",
            "top": null,
            "grid_column": null,
            "overflow_y": null,
            "overflow_x": null,
            "grid_auto_flow": null,
            "grid_area": null,
            "grid_template_columns": null,
            "flex": null,
            "_model_name": "LayoutModel",
            "justify_items": null,
            "grid_row": null,
            "max_height": null,
            "align_content": null,
            "visibility": null,
            "align_self": null,
            "height": null,
            "min_height": null,
            "padding": null,
            "grid_auto_rows": null,
            "grid_gap": null,
            "max_width": null,
            "order": null,
            "_view_module_version": "1.2.0",
            "grid_template_areas": null,
            "object_position": null,
            "object_fit": null,
            "grid_auto_columns": null,
            "margin": null,
            "display": null,
            "left": null
          }
        },
        "426e893b1fe34735aab5e0b534bd46b1": {
          "model_module": "@jupyter-widgets/controls",
          "model_name": "FloatProgressModel",
          "state": {
            "_view_name": "ProgressView",
            "style": "IPY_MODEL_ae4a6fc5b9744a339ab8ab3d5494b91a",
            "_dom_classes": [],
            "description": "Downloading: 100%",
            "_model_name": "FloatProgressModel",
            "bar_style": "success",
            "max": 1199,
            "_view_module": "@jupyter-widgets/controls",
            "_model_module_version": "1.5.0",
            "value": 1199,
            "_view_count": null,
            "_view_module_version": "1.5.0",
            "orientation": "horizontal",
            "min": 0,
            "description_tooltip": null,
            "_model_module": "@jupyter-widgets/controls",
            "layout": "IPY_MODEL_beb9b372dd9644a28e1f704d4e22f5b1"
          }
        },
        "1e4db699ac14463f975041bf892d596a": {
          "model_module": "@jupyter-widgets/controls",
          "model_name": "HTMLModel",
          "state": {
            "_view_name": "HTMLView",
            "style": "IPY_MODEL_c74381ef306e4a63ab4ff132fa5bf4bc",
            "_dom_classes": [],
            "description": "",
            "_model_name": "HTMLModel",
            "placeholder": "​",
            "_view_module": "@jupyter-widgets/controls",
            "_model_module_version": "1.5.0",
            "value": " 1.20k/1.20k [41:58&lt;00:00, 2.10s/B]",
            "_view_count": null,
            "_view_module_version": "1.5.0",
            "description_tooltip": null,
            "_model_module": "@jupyter-widgets/controls",
            "layout": "IPY_MODEL_5ff960b2821347b6877fab701eb0bd89"
          }
        },
        "ae4a6fc5b9744a339ab8ab3d5494b91a": {
          "model_module": "@jupyter-widgets/controls",
          "model_name": "ProgressStyleModel",
          "state": {
            "_view_name": "StyleView",
            "_model_name": "ProgressStyleModel",
            "description_width": "initial",
            "_view_module": "@jupyter-widgets/base",
            "_model_module_version": "1.5.0",
            "_view_count": null,
            "_view_module_version": "1.2.0",
            "bar_color": null,
            "_model_module": "@jupyter-widgets/controls"
          }
        },
        "beb9b372dd9644a28e1f704d4e22f5b1": {
          "model_module": "@jupyter-widgets/base",
          "model_name": "LayoutModel",
          "state": {
            "_view_name": "LayoutView",
            "grid_template_rows": null,
            "right": null,
            "justify_content": null,
            "_view_module": "@jupyter-widgets/base",
            "overflow": null,
            "_model_module_version": "1.2.0",
            "_view_count": null,
            "flex_flow": null,
            "width": null,
            "min_width": null,
            "border": null,
            "align_items": null,
            "bottom": null,
            "_model_module": "@jupyter-widgets/base",
            "top": null,
            "grid_column": null,
            "overflow_y": null,
            "overflow_x": null,
            "grid_auto_flow": null,
            "grid_area": null,
            "grid_template_columns": null,
            "flex": null,
            "_model_name": "LayoutModel",
            "justify_items": null,
            "grid_row": null,
            "max_height": null,
            "align_content": null,
            "visibility": null,
            "align_self": null,
            "height": null,
            "min_height": null,
            "padding": null,
            "grid_auto_rows": null,
            "grid_gap": null,
            "max_width": null,
            "order": null,
            "_view_module_version": "1.2.0",
            "grid_template_areas": null,
            "object_position": null,
            "object_fit": null,
            "grid_auto_columns": null,
            "margin": null,
            "display": null,
            "left": null
          }
        },
        "c74381ef306e4a63ab4ff132fa5bf4bc": {
          "model_module": "@jupyter-widgets/controls",
          "model_name": "DescriptionStyleModel",
          "state": {
            "_view_name": "StyleView",
            "_model_name": "DescriptionStyleModel",
            "description_width": "",
            "_view_module": "@jupyter-widgets/base",
            "_model_module_version": "1.5.0",
            "_view_count": null,
            "_view_module_version": "1.2.0",
            "_model_module": "@jupyter-widgets/controls"
          }
        },
        "5ff960b2821347b6877fab701eb0bd89": {
          "model_module": "@jupyter-widgets/base",
          "model_name": "LayoutModel",
          "state": {
            "_view_name": "LayoutView",
            "grid_template_rows": null,
            "right": null,
            "justify_content": null,
            "_view_module": "@jupyter-widgets/base",
            "overflow": null,
            "_model_module_version": "1.2.0",
            "_view_count": null,
            "flex_flow": null,
            "width": null,
            "min_width": null,
            "border": null,
            "align_items": null,
            "bottom": null,
            "_model_module": "@jupyter-widgets/base",
            "top": null,
            "grid_column": null,
            "overflow_y": null,
            "overflow_x": null,
            "grid_auto_flow": null,
            "grid_area": null,
            "grid_template_columns": null,
            "flex": null,
            "_model_name": "LayoutModel",
            "justify_items": null,
            "grid_row": null,
            "max_height": null,
            "align_content": null,
            "visibility": null,
            "align_self": null,
            "height": null,
            "min_height": null,
            "padding": null,
            "grid_auto_rows": null,
            "grid_gap": null,
            "max_width": null,
            "order": null,
            "_view_module_version": "1.2.0",
            "grid_template_areas": null,
            "object_position": null,
            "object_fit": null,
            "grid_auto_columns": null,
            "margin": null,
            "display": null,
            "left": null
          }
        },
        "8ee6eee19bc0481380a555a7297ec510": {
          "model_module": "@jupyter-widgets/controls",
          "model_name": "HBoxModel",
          "state": {
            "_view_name": "HBoxView",
            "_dom_classes": [],
            "_model_name": "HBoxModel",
            "_view_module": "@jupyter-widgets/controls",
            "_model_module_version": "1.5.0",
            "_view_count": null,
            "_view_module_version": "1.5.0",
            "box_style": "",
            "layout": "IPY_MODEL_c525509e86e64e14a66301300df2aa7d",
            "_model_module": "@jupyter-widgets/controls",
            "children": [
              "IPY_MODEL_16a08d3efcc3448285113a65611e5ff5",
              "IPY_MODEL_b1fb594882e047a59f42af4e21eebc25"
            ]
          }
        },
        "c525509e86e64e14a66301300df2aa7d": {
          "model_module": "@jupyter-widgets/base",
          "model_name": "LayoutModel",
          "state": {
            "_view_name": "LayoutView",
            "grid_template_rows": null,
            "right": null,
            "justify_content": null,
            "_view_module": "@jupyter-widgets/base",
            "overflow": null,
            "_model_module_version": "1.2.0",
            "_view_count": null,
            "flex_flow": null,
            "width": null,
            "min_width": null,
            "border": null,
            "align_items": null,
            "bottom": null,
            "_model_module": "@jupyter-widgets/base",
            "top": null,
            "grid_column": null,
            "overflow_y": null,
            "overflow_x": null,
            "grid_auto_flow": null,
            "grid_area": null,
            "grid_template_columns": null,
            "flex": null,
            "_model_name": "LayoutModel",
            "justify_items": null,
            "grid_row": null,
            "max_height": null,
            "align_content": null,
            "visibility": null,
            "align_self": null,
            "height": null,
            "min_height": null,
            "padding": null,
            "grid_auto_rows": null,
            "grid_gap": null,
            "max_width": null,
            "order": null,
            "_view_module_version": "1.2.0",
            "grid_template_areas": null,
            "object_position": null,
            "object_fit": null,
            "grid_auto_columns": null,
            "margin": null,
            "display": null,
            "left": null
          }
        },
        "16a08d3efcc3448285113a65611e5ff5": {
          "model_module": "@jupyter-widgets/controls",
          "model_name": "FloatProgressModel",
          "state": {
            "_view_name": "ProgressView",
            "style": "IPY_MODEL_6f0237553c4e40c680191ec755ad6852",
            "_dom_classes": [],
            "description": "Downloading: 100%",
            "_model_name": "FloatProgressModel",
            "bar_style": "success",
            "max": 891691430,
            "_view_module": "@jupyter-widgets/controls",
            "_model_module_version": "1.5.0",
            "value": 891691430,
            "_view_count": null,
            "_view_module_version": "1.5.0",
            "orientation": "horizontal",
            "min": 0,
            "description_tooltip": null,
            "_model_module": "@jupyter-widgets/controls",
            "layout": "IPY_MODEL_011ec696585f4363afca23b58a915145"
          }
        },
        "b1fb594882e047a59f42af4e21eebc25": {
          "model_module": "@jupyter-widgets/controls",
          "model_name": "HTMLModel",
          "state": {
            "_view_name": "HTMLView",
            "style": "IPY_MODEL_9c344785c7a6443bab6fcc950a5cb000",
            "_dom_classes": [],
            "description": "",
            "_model_name": "HTMLModel",
            "placeholder": "​",
            "_view_module": "@jupyter-widgets/controls",
            "_model_module_version": "1.5.0",
            "value": " 892M/892M [00:22&lt;00:00, 39.8MB/s]",
            "_view_count": null,
            "_view_module_version": "1.5.0",
            "description_tooltip": null,
            "_model_module": "@jupyter-widgets/controls",
            "layout": "IPY_MODEL_a6383a1992de47d8ae4c0e0ac4e90eaa"
          }
        },
        "6f0237553c4e40c680191ec755ad6852": {
          "model_module": "@jupyter-widgets/controls",
          "model_name": "ProgressStyleModel",
          "state": {
            "_view_name": "StyleView",
            "_model_name": "ProgressStyleModel",
            "description_width": "initial",
            "_view_module": "@jupyter-widgets/base",
            "_model_module_version": "1.5.0",
            "_view_count": null,
            "_view_module_version": "1.2.0",
            "bar_color": null,
            "_model_module": "@jupyter-widgets/controls"
          }
        },
        "011ec696585f4363afca23b58a915145": {
          "model_module": "@jupyter-widgets/base",
          "model_name": "LayoutModel",
          "state": {
            "_view_name": "LayoutView",
            "grid_template_rows": null,
            "right": null,
            "justify_content": null,
            "_view_module": "@jupyter-widgets/base",
            "overflow": null,
            "_model_module_version": "1.2.0",
            "_view_count": null,
            "flex_flow": null,
            "width": null,
            "min_width": null,
            "border": null,
            "align_items": null,
            "bottom": null,
            "_model_module": "@jupyter-widgets/base",
            "top": null,
            "grid_column": null,
            "overflow_y": null,
            "overflow_x": null,
            "grid_auto_flow": null,
            "grid_area": null,
            "grid_template_columns": null,
            "flex": null,
            "_model_name": "LayoutModel",
            "justify_items": null,
            "grid_row": null,
            "max_height": null,
            "align_content": null,
            "visibility": null,
            "align_self": null,
            "height": null,
            "min_height": null,
            "padding": null,
            "grid_auto_rows": null,
            "grid_gap": null,
            "max_width": null,
            "order": null,
            "_view_module_version": "1.2.0",
            "grid_template_areas": null,
            "object_position": null,
            "object_fit": null,
            "grid_auto_columns": null,
            "margin": null,
            "display": null,
            "left": null
          }
        },
        "9c344785c7a6443bab6fcc950a5cb000": {
          "model_module": "@jupyter-widgets/controls",
          "model_name": "DescriptionStyleModel",
          "state": {
            "_view_name": "StyleView",
            "_model_name": "DescriptionStyleModel",
            "description_width": "",
            "_view_module": "@jupyter-widgets/base",
            "_model_module_version": "1.5.0",
            "_view_count": null,
            "_view_module_version": "1.2.0",
            "_model_module": "@jupyter-widgets/controls"
          }
        },
        "a6383a1992de47d8ae4c0e0ac4e90eaa": {
          "model_module": "@jupyter-widgets/base",
          "model_name": "LayoutModel",
          "state": {
            "_view_name": "LayoutView",
            "grid_template_rows": null,
            "right": null,
            "justify_content": null,
            "_view_module": "@jupyter-widgets/base",
            "overflow": null,
            "_model_module_version": "1.2.0",
            "_view_count": null,
            "flex_flow": null,
            "width": null,
            "min_width": null,
            "border": null,
            "align_items": null,
            "bottom": null,
            "_model_module": "@jupyter-widgets/base",
            "top": null,
            "grid_column": null,
            "overflow_y": null,
            "overflow_x": null,
            "grid_auto_flow": null,
            "grid_area": null,
            "grid_template_columns": null,
            "flex": null,
            "_model_name": "LayoutModel",
            "justify_items": null,
            "grid_row": null,
            "max_height": null,
            "align_content": null,
            "visibility": null,
            "align_self": null,
            "height": null,
            "min_height": null,
            "padding": null,
            "grid_auto_rows": null,
            "grid_gap": null,
            "max_width": null,
            "order": null,
            "_view_module_version": "1.2.0",
            "grid_template_areas": null,
            "object_position": null,
            "object_fit": null,
            "grid_auto_columns": null,
            "margin": null,
            "display": null,
            "left": null
          }
        },
        "8541e7e6e87940d6bd9fda81f7f6d8ba": {
          "model_module": "@jupyter-widgets/controls",
          "model_name": "HBoxModel",
          "state": {
            "_view_name": "HBoxView",
            "_dom_classes": [],
            "_model_name": "HBoxModel",
            "_view_module": "@jupyter-widgets/controls",
            "_model_module_version": "1.5.0",
            "_view_count": null,
            "_view_module_version": "1.5.0",
            "box_style": "",
            "layout": "IPY_MODEL_aaf93cf0cc4044148c53c408c25c0434",
            "_model_module": "@jupyter-widgets/controls",
            "children": [
              "IPY_MODEL_ae77b0c562a0421b8e83110fd5578155",
              "IPY_MODEL_89a874dd864445dfbdb715fde7a48cc5"
            ]
          }
        },
        "aaf93cf0cc4044148c53c408c25c0434": {
          "model_module": "@jupyter-widgets/base",
          "model_name": "LayoutModel",
          "state": {
            "_view_name": "LayoutView",
            "grid_template_rows": null,
            "right": null,
            "justify_content": null,
            "_view_module": "@jupyter-widgets/base",
            "overflow": null,
            "_model_module_version": "1.2.0",
            "_view_count": null,
            "flex_flow": null,
            "width": null,
            "min_width": null,
            "border": null,
            "align_items": null,
            "bottom": null,
            "_model_module": "@jupyter-widgets/base",
            "top": null,
            "grid_column": null,
            "overflow_y": null,
            "overflow_x": null,
            "grid_auto_flow": null,
            "grid_area": null,
            "grid_template_columns": null,
            "flex": null,
            "_model_name": "LayoutModel",
            "justify_items": null,
            "grid_row": null,
            "max_height": null,
            "align_content": null,
            "visibility": null,
            "align_self": null,
            "height": null,
            "min_height": null,
            "padding": null,
            "grid_auto_rows": null,
            "grid_gap": null,
            "max_width": null,
            "order": null,
            "_view_module_version": "1.2.0",
            "grid_template_areas": null,
            "object_position": null,
            "object_fit": null,
            "grid_auto_columns": null,
            "margin": null,
            "display": null,
            "left": null
          }
        },
        "ae77b0c562a0421b8e83110fd5578155": {
          "model_module": "@jupyter-widgets/controls",
          "model_name": "FloatProgressModel",
          "state": {
            "_view_name": "ProgressView",
            "style": "IPY_MODEL_535fac9347984afb86c432c4607eba90",
            "_dom_classes": [],
            "description": "Downloading: 100%",
            "_model_name": "FloatProgressModel",
            "bar_style": "success",
            "max": 791656,
            "_view_module": "@jupyter-widgets/controls",
            "_model_module_version": "1.5.0",
            "value": 791656,
            "_view_count": null,
            "_view_module_version": "1.5.0",
            "orientation": "horizontal",
            "min": 0,
            "description_tooltip": null,
            "_model_module": "@jupyter-widgets/controls",
            "layout": "IPY_MODEL_966a9b5e1bd94d3c94648391a3df33e5"
          }
        },
        "89a874dd864445dfbdb715fde7a48cc5": {
          "model_module": "@jupyter-widgets/controls",
          "model_name": "HTMLModel",
          "state": {
            "_view_name": "HTMLView",
            "style": "IPY_MODEL_ce2aedd7492a4f8c9cc356c510b382fc",
            "_dom_classes": [],
            "description": "",
            "_model_name": "HTMLModel",
            "placeholder": "​",
            "_view_module": "@jupyter-widgets/controls",
            "_model_module_version": "1.5.0",
            "value": " 792k/792k [00:00&lt;00:00, 4.01MB/s]",
            "_view_count": null,
            "_view_module_version": "1.5.0",
            "description_tooltip": null,
            "_model_module": "@jupyter-widgets/controls",
            "layout": "IPY_MODEL_3a92be2e5bdb491eaa7aba2077eb1afa"
          }
        },
        "535fac9347984afb86c432c4607eba90": {
          "model_module": "@jupyter-widgets/controls",
          "model_name": "ProgressStyleModel",
          "state": {
            "_view_name": "StyleView",
            "_model_name": "ProgressStyleModel",
            "description_width": "initial",
            "_view_module": "@jupyter-widgets/base",
            "_model_module_version": "1.5.0",
            "_view_count": null,
            "_view_module_version": "1.2.0",
            "bar_color": null,
            "_model_module": "@jupyter-widgets/controls"
          }
        },
        "966a9b5e1bd94d3c94648391a3df33e5": {
          "model_module": "@jupyter-widgets/base",
          "model_name": "LayoutModel",
          "state": {
            "_view_name": "LayoutView",
            "grid_template_rows": null,
            "right": null,
            "justify_content": null,
            "_view_module": "@jupyter-widgets/base",
            "overflow": null,
            "_model_module_version": "1.2.0",
            "_view_count": null,
            "flex_flow": null,
            "width": null,
            "min_width": null,
            "border": null,
            "align_items": null,
            "bottom": null,
            "_model_module": "@jupyter-widgets/base",
            "top": null,
            "grid_column": null,
            "overflow_y": null,
            "overflow_x": null,
            "grid_auto_flow": null,
            "grid_area": null,
            "grid_template_columns": null,
            "flex": null,
            "_model_name": "LayoutModel",
            "justify_items": null,
            "grid_row": null,
            "max_height": null,
            "align_content": null,
            "visibility": null,
            "align_self": null,
            "height": null,
            "min_height": null,
            "padding": null,
            "grid_auto_rows": null,
            "grid_gap": null,
            "max_width": null,
            "order": null,
            "_view_module_version": "1.2.0",
            "grid_template_areas": null,
            "object_position": null,
            "object_fit": null,
            "grid_auto_columns": null,
            "margin": null,
            "display": null,
            "left": null
          }
        },
        "ce2aedd7492a4f8c9cc356c510b382fc": {
          "model_module": "@jupyter-widgets/controls",
          "model_name": "DescriptionStyleModel",
          "state": {
            "_view_name": "StyleView",
            "_model_name": "DescriptionStyleModel",
            "description_width": "",
            "_view_module": "@jupyter-widgets/base",
            "_model_module_version": "1.5.0",
            "_view_count": null,
            "_view_module_version": "1.2.0",
            "_model_module": "@jupyter-widgets/controls"
          }
        },
        "3a92be2e5bdb491eaa7aba2077eb1afa": {
          "model_module": "@jupyter-widgets/base",
          "model_name": "LayoutModel",
          "state": {
            "_view_name": "LayoutView",
            "grid_template_rows": null,
            "right": null,
            "justify_content": null,
            "_view_module": "@jupyter-widgets/base",
            "overflow": null,
            "_model_module_version": "1.2.0",
            "_view_count": null,
            "flex_flow": null,
            "width": null,
            "min_width": null,
            "border": null,
            "align_items": null,
            "bottom": null,
            "_model_module": "@jupyter-widgets/base",
            "top": null,
            "grid_column": null,
            "overflow_y": null,
            "overflow_x": null,
            "grid_auto_flow": null,
            "grid_area": null,
            "grid_template_columns": null,
            "flex": null,
            "_model_name": "LayoutModel",
            "justify_items": null,
            "grid_row": null,
            "max_height": null,
            "align_content": null,
            "visibility": null,
            "align_self": null,
            "height": null,
            "min_height": null,
            "padding": null,
            "grid_auto_rows": null,
            "grid_gap": null,
            "max_width": null,
            "order": null,
            "_view_module_version": "1.2.0",
            "grid_template_areas": null,
            "object_position": null,
            "object_fit": null,
            "grid_auto_columns": null,
            "margin": null,
            "display": null,
            "left": null
          }
        }
      }
    }
  },
  "cells": [
    {
      "cell_type": "code",
      "metadata": {
        "colab": {
          "base_uri": "https://localhost:8080/"
        },
        "id": "wT7faVfpKLNz",
        "outputId": "8006954b-7fa8-4d46-cdc6-f8ce81911de2"
      },
      "source": [
        "gpu_info = !nvidia-smi\n",
        "gpu_info = '\\n'.join(gpu_info)\n",
        "if gpu_info.find('failed') >= 0:\n",
        "  print('Select the Runtime > \"Change runtime type\" menu to enable a GPU accelerator, ')\n",
        "  print('and then re-execute this cell.')\n",
        "else:\n",
        "  print(gpu_info)"
      ],
      "execution_count": 1,
      "outputs": [
        {
          "output_type": "stream",
          "text": [
            "Mon Dec  7 06:13:19 2020       \n",
            "+-----------------------------------------------------------------------------+\n",
            "| NVIDIA-SMI 455.45.01    Driver Version: 418.67       CUDA Version: 10.1     |\n",
            "|-------------------------------+----------------------+----------------------+\n",
            "| GPU  Name        Persistence-M| Bus-Id        Disp.A | Volatile Uncorr. ECC |\n",
            "| Fan  Temp  Perf  Pwr:Usage/Cap|         Memory-Usage | GPU-Util  Compute M. |\n",
            "|                               |                      |               MIG M. |\n",
            "|===============================+======================+======================|\n",
            "|   0  Tesla V100-SXM2...  Off  | 00000000:00:04.0 Off |                    0 |\n",
            "| N/A   36C    P0    25W / 300W |      0MiB / 16130MiB |      0%      Default |\n",
            "|                               |                      |                 ERR! |\n",
            "+-------------------------------+----------------------+----------------------+\n",
            "                                                                               \n",
            "+-----------------------------------------------------------------------------+\n",
            "| Processes:                                                                  |\n",
            "|  GPU   GI   CI        PID   Type   Process name                  GPU Memory |\n",
            "|        ID   ID                                                   Usage      |\n",
            "|=============================================================================|\n",
            "|  No running processes found                                                 |\n",
            "+-----------------------------------------------------------------------------+\n"
          ],
          "name": "stdout"
        }
      ]
    },
    {
      "cell_type": "code",
      "metadata": {
        "colab": {
          "base_uri": "https://localhost:8080/"
        },
        "id": "JImp-IBrKLCD",
        "outputId": "4a17709e-2245-4042-8c47-f0ab05ee615f"
      },
      "source": [
        "from psutil import virtual_memory\n",
        "ram_gb = virtual_memory().total / 1e9\n",
        "print('Your runtime has {:.1f} gigabytes of available RAM\\n'.format(ram_gb))\n",
        "\n",
        "if ram_gb < 20:\n",
        "  print('To enable a high-RAM runtime, select the Runtime > \"Change runtime type\"')\n",
        "  print('menu, and then select High-RAM in the Runtime shape dropdown. Then, ')\n",
        "  print('re-execute this cell.')\n",
        "else:\n",
        "  print('You are using a high-RAM runtime!')"
      ],
      "execution_count": 2,
      "outputs": [
        {
          "output_type": "stream",
          "text": [
            "Your runtime has 27.4 gigabytes of available RAM\n",
            "\n",
            "You are using a high-RAM runtime!\n"
          ],
          "name": "stdout"
        }
      ]
    },
    {
      "cell_type": "code",
      "metadata": {
        "id": "coZV5ME21Wom"
      },
      "source": [
        ""
      ],
      "execution_count": null,
      "outputs": []
    },
    {
      "cell_type": "code",
      "metadata": {
        "id": "Jdo_exyZ1WS9"
      },
      "source": [
        ""
      ],
      "execution_count": null,
      "outputs": []
    },
    {
      "cell_type": "code",
      "metadata": {
        "id": "mC1GOaVUZ0tj"
      },
      "source": [
        "%%capture\n",
        "!pip3 install transformers==3.0.2 \n",
        "#!pip install transformers -q\n",
        "#!pip install wandb -q\n",
        "!pip3 install --upgrade wandb\n",
        "!pip3 install rouge-score tqdm\n",
        "!pip3 install rouge"
      ],
      "execution_count": null,
      "outputs": []
    },
    {
      "cell_type": "code",
      "metadata": {
        "colab": {
          "base_uri": "https://localhost:8080/"
        },
        "id": "vxxkIi-xDrUz",
        "outputId": "c5ae6586-a183-42e3-edae-706c82a60335"
      },
      "source": [
        "#@title Import packages { run: \"auto\", vertical-output: true, display-mode: \"both\" }\n",
        "from __future__ import unicode_literals, print_function, division\n",
        "from io import open\n",
        "import unicodedata\n",
        "import string\n",
        "import re\n",
        "import random\n",
        "import pandas as pd\n",
        "import numpy as np\n",
        "import copy\n",
        "import os\n",
        "\n",
        "from collections import defaultdict, OrderedDict\n",
        "from sklearn.base import BaseEstimator, TransformerMixin\n",
        "#import progressbar\n",
        "from tqdm import tqdm\n",
        "from sklearn.model_selection import train_test_split\n",
        "import pickle\n",
        "#import dill\n",
        "import tarfile\n",
        "import json, gzip\n",
        "import math\n",
        "from typing import Optional, Union, Iterable, NamedTuple, Dict, List\n",
        "\n",
        "\n",
        "#!pip install transformers==3.0.2 -qq\n",
        "\n",
        "import torch\n",
        "import torch.nn as nn\n",
        "import torch.optim as optim\n",
        "import torch.nn.functional as F\n",
        "from transformers import T5Tokenizer, T5ForConditionalGeneration\n",
        "from torch.utils.data import Dataset, DataLoader\n",
        "from torch.optim.lr_scheduler import ReduceLROnPlateau\n",
        "\n",
        "from rouge import Rouge\n",
        "from rouge_score import rouge_scorer, scoring\n",
        "\n",
        "import wandb\n",
        "\n",
        "\n",
        "from transformers.modeling_t5 import T5Stack, T5LayerCrossAttention, T5Block, T5Attention\n",
        "\n",
        "# Ignore excessive warnings\n",
        "import logging\n",
        "logging.propagate = False \n",
        "logging.getLogger().setLevel(logging.ERROR)\n",
        "\n",
        "import warnings\n",
        "warnings.filterwarnings('ignore')"
      ],
      "execution_count": null,
      "outputs": [
        {
          "output_type": "stream",
          "text": [
            "\u001b[34m\u001b[1mwandb\u001b[0m: \u001b[33mWARNING\u001b[0m W&B installed but not logged in.  Run `wandb login` or set the WANDB_API_KEY env variable.\n"
          ],
          "name": "stderr"
        }
      ]
    },
    {
      "cell_type": "code",
      "metadata": {
        "id": "IQj4Gix-KHN2"
      },
      "source": [
        "def set_seed():\n",
        "    SEED = 123\n",
        "    random.seed(SEED)\n",
        "    np.random.seed(SEED)\n",
        "    torch.manual_seed(SEED)\n",
        "    torch.backends.cudnn.deterministic = True"
      ],
      "execution_count": null,
      "outputs": []
    },
    {
      "cell_type": "code",
      "metadata": {
        "colab": {
          "base_uri": "https://localhost:8080/"
        },
        "id": "LME26NCmM8ne",
        "jupyter": {
          "source_hidden": true
        },
        "outputId": "7a1ada51-7eaf-4651-8df4-9e720837500e"
      },
      "source": [
        "from google.colab import drive\n",
        "drive.mount('/content/drive')"
      ],
      "execution_count": null,
      "outputs": [
        {
          "output_type": "stream",
          "text": [
            "Mounted at /content/drive\n"
          ],
          "name": "stdout"
        }
      ]
    },
    {
      "cell_type": "markdown",
      "metadata": {
        "id": "oKtXTVaAKHN2"
      },
      "source": [
        "**Setting the environment**"
      ]
    },
    {
      "cell_type": "code",
      "metadata": {
        "id": "yrGsikKMKHN2"
      },
      "source": [
        "os.environ['WANDB_NOTEBOOK_NAME'] = 'Final-T5.ipynb'"
      ],
      "execution_count": null,
      "outputs": []
    },
    {
      "cell_type": "code",
      "metadata": {
        "id": "-t7E9fLj8Zjd",
        "jupyter": {
          "source_hidden": true
        }
      },
      "source": [
        "#!cp '/root/optimizers.py' '/root/Projects/' # SSH\n",
        "#!cp '/home/jupyter/optimizers.py' '/home/jupyter/Projects/' # for GCP\n",
        "#!cp '/content/drive/My Drive/Colab Notebooks/optimizers.py' .\n",
        "#from optimizers import AdaFactor"
      ],
      "execution_count": null,
      "outputs": []
    },
    {
      "cell_type": "code",
      "metadata": {
        "id": "7rF67H7GnK2U",
        "jupyter": {
          "source_hidden": true
        }
      },
      "source": [
        "!nvidia-smi\n",
        "!/usr/local/cuda/bin/nvcc --version"
      ],
      "execution_count": null,
      "outputs": []
    },
    {
      "cell_type": "code",
      "metadata": {
        "colab": {
          "base_uri": "https://localhost:8080/"
        },
        "id": "1g1xKdoCnMAq",
        "outputId": "4cde90f5-5e5c-4a58-c59f-9549b97e09e3"
      },
      "source": [
        "#@title To proceed should be cuda { run: \"auto\", vertical-output: true }\n",
        "CUDA = torch.cuda.is_available()\n",
        "device = torch.device(\"cuda\" if CUDA else \"cpu\")\n",
        "print(device)"
      ],
      "execution_count": null,
      "outputs": [
        {
          "output_type": "stream",
          "text": [
            "cuda\n"
          ],
          "name": "stdout"
        }
      ]
    },
    {
      "cell_type": "code",
      "metadata": {
        "colab": {
          "base_uri": "https://localhost:8080/"
        },
        "id": "R9mrEpCA1i6s",
        "outputId": "487fb8de-9b2f-4a21-f004-3d197d4485a6"
      },
      "source": [
        "torch.cuda.device_count()"
      ],
      "execution_count": null,
      "outputs": [
        {
          "output_type": "execute_result",
          "data": {
            "text/plain": [
              "1"
            ]
          },
          "metadata": {
            "tags": []
          },
          "execution_count": 10
        }
      ]
    },
    {
      "cell_type": "markdown",
      "metadata": {
        "id": "1jvIoL5I0Eb5"
      },
      "source": [
        "## Getting dataset"
      ]
    },
    {
      "cell_type": "markdown",
      "metadata": {
        "id": "wGVOHhrk0GOP"
      },
      "source": [
        "You can find the dataset [here](http://lil.nlp.cornell.edu/newsroom/download/index.html)"
      ]
    },
    {
      "cell_type": "markdown",
      "metadata": {
        "id": "zkDYkbKV0SUM"
      },
      "source": [
        "**Loading dataset and unzip**"
      ]
    },
    {
      "cell_type": "code",
      "metadata": {
        "id": "AoIiFXg1juKC",
        "jupyter": {
          "source_hidden": true
        }
      },
      "source": [
        "fname = '/content/drive/My Drive/Colab Notebooks/newsroom-release.tar'\n",
        "\n",
        "tar = tarfile.open(fname, \"r:\")\n",
        "tar.extractall()\n",
        "tar.close()"
      ],
      "execution_count": null,
      "outputs": []
    },
    {
      "cell_type": "code",
      "metadata": {
        "id": "1YuQmBQpP3C7",
        "jupyter": {
          "source_hidden": true
        }
      },
      "source": [
        "!mv '/content/data/' '/content/drive/My Drive/Colab Notebooks'\n",
        "!cp -r '/content/release/' '/content/drive/My Drive/Colab Notebooks/data'"
      ],
      "execution_count": null,
      "outputs": []
    },
    {
      "cell_type": "code",
      "metadata": {
        "id": "5Z9YGB5TmYqR",
        "jupyter": {
          "source_hidden": true
        }
      },
      "source": [
        "#path = '/home/jupyter/' # For GCp\n",
        "path = '/root/release/' # For SSH\n",
        "#path = \"/content/drive/My Drive/Colab Notebooks/data/release/\" # For Colab\n",
        "\n",
        "def read_data(path, name):\n",
        "  data = []\n",
        "  with gzip.open(path + name + \".jsonl.gz\") as f: #+\".jsonl.gz\" with GCP\n",
        "      for ln in f:\n",
        "          obj = json.loads(ln)\n",
        "          data.append(obj)\n",
        "  return data\n",
        "\n",
        "trainset = read_data(path, 'train') \n",
        "devset = read_data(path, 'dev')\n",
        "testset = read_data(path, 'test')"
      ],
      "execution_count": null,
      "outputs": []
    },
    {
      "cell_type": "code",
      "metadata": {
        "id": "Gv1SfBCrIaW4",
        "jupyter": {
          "source_hidden": true
        }
      },
      "source": [
        "def get_data(data):\n",
        "  data_dict = {'text': [], 'summary': []}\n",
        "  for article in data:\n",
        "    data_dict['text'].append(article['text'])\n",
        "    data_dict['summary'].append(article['summary'])\n",
        "  return pd.DataFrame(data_dict)\n",
        "\n",
        "train_data = get_data(trainset)\n",
        "valid_data = get_data(devset)\n",
        "test_data = get_data(testset)"
      ],
      "execution_count": null,
      "outputs": []
    },
    {
      "cell_type": "code",
      "metadata": {
        "id": "k3sSaZA_Z0ul",
        "jupyter": {
          "source_hidden": true
        }
      },
      "source": [
        "train_data.head()"
      ],
      "execution_count": null,
      "outputs": []
    },
    {
      "cell_type": "code",
      "metadata": {
        "id": "eia69USAvek8",
        "jupyter": {
          "source_hidden": true
        }
      },
      "source": [
        "print(f'The size of training dataset:{train_data.shape} | validation dataset: {valid_data.shape}')"
      ],
      "execution_count": null,
      "outputs": []
    },
    {
      "cell_type": "code",
      "metadata": {
        "id": "JX6clAc9wHuy",
        "jupyter": {
          "source_hidden": true
        }
      },
      "source": [
        "contraction = {\"isn't\": \"is not\", \"aren't\": \"are not\",\"can't\": \"cannot\", \"could've\": \"could have\", \"couldn't\": \"could not\",\n",
        "                           \"didn't\": \"did not\", \"doesn't\": \"does not\", \"don't\": \"do not\", \"hadn't\": \"had not\", \"hasn't\": \"has not\", \"haven't\": \"have not\",\n",
        "                           \"he'd\": \"he would\",\"he'll\": \"he will\", \"he's\": \"he is\", \"how'd\": \"how did\", \"how'd'y\": \"how do you\", \"how'll\": \"how will\", \"how's\": \"how is\",\n",
        "                           \"I'd\": \"I would\", \"I'd've\": \"I would have\", \"I'll\": \"I will\", \"I'll've\": \"I will have\",\"I'm\": \"I am\", \"I've\": \"I have\", \"i'd\": \"i would\",\n",
        "                           \"i'd've\": \"i would have\", \"i'll\": \"i will\",  \"i'll've\": \"i will have\",\"i'm\": \"i am\", \"i've\": \"i have\", \"isn't\": \"is not\", \"it'd\": \"it would\",\n",
        "                           \"it'd've\": \"it would have\", \"it'll\": \"it will\", \"it'll've\": \"it will have\",\"it's\": \"it is\", \"let's\": \"let us\", \"ma'am\": \"madam\",\n",
        "                           \"mayn't\": \"may not\", \"might've\": \"might have\",\"mightn't\": \"might not\",\"mightn't've\": \"might not have\", \"must've\": \"must have\",\n",
        "                           \"mustn't\": \"must not\", \"mustn't've\": \"must not have\", \"needn't\": \"need not\", \"needn't've\": \"need not have\",\"o'clock\": \"of the clock\",\n",
        "                           \"oughtn't\": \"ought not\", \"oughtn't've\": \"ought not have\", \"shan't\": \"shall not\", \"sha'n't\": \"shall not\", \"shan't've\": \"shall not have\",\n",
        "                           \"she'd\": \"she would\", \"she'd've\": \"she would have\", \"she'll\": \"she will\", \"she'll've\": \"she will have\", \"she's\": \"she is\",\n",
        "                           \"should've\": \"should have\", \"shouldn't\": \"should not\", \"shouldn't've\": \"should not have\", \"so've\": \"so have\",\"so's\": \"so as\",\n",
        "                           \"this's\": \"this is\",\"that'd\": \"that would\", \"that'd've\": \"that would have\", \"that's\": \"that is\", \"there'd\": \"there would\",\n",
        "                           \"there'd've\": \"there would have\", \"there's\": \"there is\", \"here's\": \"here is\",\"they'd\": \"they would\", \"they'd've\": \"they would have\",\n",
        "                           \"they'll\": \"they will\", \"they'll've\": \"they will have\", \"they're\": \"they are\", \"they've\": \"they have\", \"to've\": \"to have\",\n",
        "                           \"wasn't\": \"was not\", \"we'd\": \"we would\", \"we'd've\": \"we would have\", \"we'll\": \"we will\", \"we'll've\": \"we will have\", \"we're\": \"we are\",\n",
        "                           \"we've\": \"we have\", \"weren't\": \"were not\", \"what'll\": \"what will\", \"what'll've\": \"what will have\", \"what're\": \"what are\",\n",
        "                           \"what's\": \"what is\", \"what've\": \"what have\", \"when's\": \"when is\", \"when've\": \"when have\", \"where'd\": \"where did\", \"where's\": \"where is\",\n",
        "                           \"where've\": \"where have\", \"who'll\": \"who will\", \"who'll've\": \"who will have\", \"who's\": \"who is\", \"who've\": \"who have\",\n",
        "                           \"why's\": \"why is\", \"why've\": \"why have\", \"will've\": \"will have\", \"won't\": \"will not\", \"won't've\": \"will not have\",\n",
        "                           \"would've\": \"would have\", \"wouldn't\": \"would not\", \"wouldn't've\": \"would not have\", \"y'all\": \"you all\",\n",
        "                           \"y'all'd\": \"you all would\",\"y'all'd've\": \"you all would have\",\"y'all're\": \"you all are\",\"y'all've\": \"you all have\",\n",
        "                           \"you'd\": \"you would\", \"you'd've\": \"you would have\", \"you'll\": \"you will\", \"you ll\":\"you will\", \"you'll've\": \"you will have\",\n",
        "                           \"you're\": \"you are\", \"you re\": \"you are\" , \"you've\": \"you have\"}"
      ],
      "execution_count": null,
      "outputs": []
    },
    {
      "cell_type": "markdown",
      "metadata": {
        "id": "E38ktgfStkI9"
      },
      "source": [
        "###### Checking for NA"
      ]
    },
    {
      "cell_type": "code",
      "metadata": {
        "id": "b-NTfClirfL3",
        "jupyter": {
          "source_hidden": true
        }
      },
      "source": [
        "train_data.isna().sum(), valid_data.isna().sum()"
      ],
      "execution_count": null,
      "outputs": []
    },
    {
      "cell_type": "markdown",
      "metadata": {
        "id": "0HQ2wJrXEAcr"
      },
      "source": [
        "**Preprocessing**"
      ]
    },
    {
      "cell_type": "code",
      "metadata": {
        "id": "6_qmLtaZp9s0",
        "jupyter": {
          "source_hidden": true
        }
      },
      "source": [
        "class TextProccessing(BaseEstimator, TransformerMixin):\n",
        "  def __init__(self, column, contraction):\n",
        "    self.column = column\n",
        "    self.contraction = contraction\n",
        "  def fit(self, x, y=None):\n",
        "    return self\n",
        "  @staticmethod\n",
        "  def preprocessing(line):\n",
        "    date_pattern = r'(0?[1-9]/|1[0-2]/)(0?[1-9]/|[1-2][0-9]/|3[0-1]/)[0-9]{4}'\n",
        "    line = line.split(\"\\n\")\n",
        "    clean_line = []\n",
        "    for l in line:\n",
        "        if re.match(date_pattern, l) is not None:\n",
        "            pass\n",
        "        else:\n",
        "            clean_line.append(l)\n",
        "    line = \"\\n\".join(clean_line)\n",
        "\n",
        "    line = re.sub(r\"http\\S+\", \" \",line)\n",
        "    line = re.sub(r\"www\\S+\", \" \",line)\n",
        "    line = line.replace('—', ' ')\n",
        "    line = line.replace('-', ' ')\n",
        "    line = line.replace('&', 'and')\n",
        "    line = line.replace('[...]', '')\n",
        "    line = line.replace('...', '.')\n",
        "    line = line.replace('…', ' ')\n",
        "    line = re.sub(re.compile('<.*?>'), '', line)\n",
        "    line = re.sub(re.compile('@\\S+'), r'', line)\n",
        "    line = re.sub(r'#\\S+ ', r'', line)\n",
        "    line = line.replace(\"â\", \"'\") \n",
        "    line = line.replace('--', ' ')\n",
        "    line = re.sub(r'[^\\sa-zA-Z0-9.,!?]',' ',line)\n",
        "    line = line.strip()\n",
        "    line = line.replace(\"\\xa0\", \"\")\n",
        "    line = line.replace(\"click to share on twitter\", \"\")\n",
        "\n",
        "    line = re.sub(r'[ \\t]{2,}',' ', line)\n",
        "    return line\n",
        "\n",
        "  def transform(self, X):\n",
        "    return X[self.column].replace(self.contraction).fillna('').apply(lambda x: self.preprocessing(x)) "
      ],
      "execution_count": null,
      "outputs": []
    },
    {
      "cell_type": "code",
      "metadata": {
        "id": "m-XAtbFVI24a",
        "jupyter": {
          "source_hidden": true
        }
      },
      "source": [
        "class Processor:\n",
        "\n",
        "  def __init__(self, data, \n",
        "               contraction,\n",
        "               max_length = None):\n",
        "    \n",
        "    self.max_length = max_length\n",
        "    self.data = data\n",
        "    self.contraction = contraction\n",
        "\n",
        "    \n",
        "  def cleaning(self, data):\n",
        "    if not isinstance(data, pd.DataFrame):\n",
        "      raise TypeError('Only Dataframes are allowed, but got data={}'.format(data))\n",
        "    else:\n",
        "      print('Please wait, we are cleaning...')\n",
        "      titles = ['text', 'summary']\n",
        "      data_dict = {}\n",
        "\n",
        "      for title in titles:\n",
        "        proc = TextProccessing(title, self.contraction)\n",
        "        res = proc.fit_transform(data)\n",
        "        data_dict[title] = res\n",
        "\n",
        "      ss = pd.DataFrame(data_dict)\n",
        "      \n",
        "      return ss\n",
        "\n",
        "  @staticmethod\n",
        "  def split(data):\n",
        "    return len(data.split())\n",
        "\n",
        "  def get_max_tokens(self, dataframe):\n",
        "\n",
        "    dataframe['article_len'] = dataframe['text'].apply(self.split)\n",
        "    dataframe['summary_len'] = dataframe['summary'].apply(self.split)\n",
        "    \n",
        "    max_len = {'max_article_tokens': max(dataframe['article_len']), \n",
        "                'min_article_tokens': min(dataframe['article_len']),\n",
        "                'max_summary_tokens': max(dataframe['summary_len']),\n",
        "                'min_summary_tokens': min(dataframe['summary_len'])}\n",
        "    return max_len, dataframe\n",
        "\n",
        "  def cleaned_data(self):\n",
        "    dataframe = self.cleaning(self.data)\n",
        "    \n",
        "    if self.max_length is None:\n",
        "      min_len, dataframe = self.get_max_tokens(dataframe)\n",
        "    else:\n",
        "      min_len = self.max_length\n",
        "\n",
        "    min_length = min_len['min_article_tokens']\n",
        "    idx_list = []\n",
        "    for idx, paragraph in tqdm(enumerate(dataframe['text'])):\n",
        "        pragraph = len(paragraph.split())\n",
        "        if pragraph < min_length:\n",
        "          idx_list.append(idx)\n",
        "    final_data = dataframe.drop(idx_list)\n",
        "    final_data = final_data.reset_index(drop=True)\n",
        "    \n",
        "    if self.max_length is not None:\n",
        "        min_len, final_data = self.get_max_tokens(final_data)\n",
        "\n",
        "    print('Done!')\n",
        "    \n",
        "    return final_data, min_len"
      ],
      "execution_count": null,
      "outputs": []
    },
    {
      "cell_type": "code",
      "metadata": {
        "id": "bNRiUhXoVkvY",
        "jupyter": {
          "source_hidden": true
        }
      },
      "source": [
        "maxlen = {'max_article_tokens': 512,\n",
        "          'max_summary_tokens': 300,\n",
        "          'min_article_tokens': 100,\n",
        "          'min_summary_tokens': 0}"
      ],
      "execution_count": null,
      "outputs": []
    },
    {
      "cell_type": "code",
      "metadata": {
        "id": "oBiSvEkhz2ol",
        "jupyter": {
          "source_hidden": true
        }
      },
      "source": [
        "textproc = Processor(train_data, contraction, maxlen)\n",
        "train_processed, doc_lengths = textproc.cleaned_data()"
      ],
      "execution_count": null,
      "outputs": []
    },
    {
      "cell_type": "code",
      "metadata": {
        "id": "AeW5BNIkZ0u7",
        "jupyter": {
          "source_hidden": true
        }
      },
      "source": [
        "textproc = Processor(valid_data, contraction, maxlen)\n",
        "valid_processed, valid_doc_lengths = textproc.cleaned_data()"
      ],
      "execution_count": null,
      "outputs": []
    },
    {
      "cell_type": "markdown",
      "metadata": {
        "id": "nyraNqNYKHN3"
      },
      "source": [
        "**Saving preprocessed data**"
      ]
    },
    {
      "cell_type": "code",
      "metadata": {
        "jupyter": {
          "source_hidden": true
        },
        "id": "9J87ICisKHN3"
      },
      "source": [
        "train_processed.to_pickle(\"./train_processed.pkl\")"
      ],
      "execution_count": null,
      "outputs": []
    },
    {
      "cell_type": "code",
      "metadata": {
        "jupyter": {
          "source_hidden": true
        },
        "id": "HW9DGzE5KHN3"
      },
      "source": [
        "valid_processed.to_pickle(\"./valid_processed.pkl\")"
      ],
      "execution_count": null,
      "outputs": []
    },
    {
      "cell_type": "code",
      "metadata": {
        "id": "MNmq9Mgx_BNx",
        "jupyter": {
          "source_hidden": true
        }
      },
      "source": [
        "train_processed.info()"
      ],
      "execution_count": null,
      "outputs": []
    },
    {
      "cell_type": "markdown",
      "metadata": {
        "id": "Ko-HBLqNZ0vA"
      },
      "source": [
        "Only one article droped that was having zeros length. However we still have some article with no summaries. Therefore we can get rid off them."
      ]
    },
    {
      "cell_type": "markdown",
      "metadata": {
        "id": "vfO5SSmBKHN3"
      },
      "source": [
        "**Loading pre-processed data**"
      ]
    },
    {
      "cell_type": "code",
      "metadata": {
        "id": "ngCA4TwV1YBW"
      },
      "source": [
        "train_processed = pd.read_pickle(\"/content/drive/MyDrive/Colab Notebooks/data/train_processed.pkl\")\n",
        "valid_processed = pd.read_pickle(\"/content/drive/MyDrive/Colab Notebooks/data/valid_processed.pkl\")\n",
        "#test_processed = pd.read_pickle(\"./test_processed.pkl\", compression='zip')"
      ],
      "execution_count": null,
      "outputs": []
    },
    {
      "cell_type": "code",
      "metadata": {
        "id": "6jOAe_ZbZ0vD"
      },
      "source": [
        "indices = np.where(train_processed['summary_len'] < 10)\n",
        "train_processed_data = train_processed.drop(indices[0])\n",
        "train_processed_data = train_processed_data.reset_index(drop=True)\n",
        "#train_processed.iloc[indices[0]]\n",
        "\n",
        "inds = np.where(valid_processed['summary_len'] < 10)\n",
        "valid_processed_data = valid_processed.drop(inds[0])\n",
        "valid_processed_data = valid_processed_data.reset_index(drop=True)\n",
        "\n",
        "# indds = np.where(test_processed['summary_len'] < 10)\n",
        "# test_processed_data = test_processed.drop(indds[0])\n",
        "# test_processed_data = test_processed_data.reset_index(drop=True)"
      ],
      "execution_count": null,
      "outputs": []
    },
    {
      "cell_type": "code",
      "metadata": {
        "colab": {
          "base_uri": "https://localhost:8080/"
        },
        "id": "m3FQWdFDZ0vK",
        "jupyter": {
          "source_hidden": true
        },
        "outputId": "34d3e0b6-a28a-41a5-deca-d1d73c852569"
      },
      "source": [
        "train_processed_data.info()"
      ],
      "execution_count": null,
      "outputs": [
        {
          "output_type": "stream",
          "text": [
            "<class 'pandas.core.frame.DataFrame'>\n",
            "RangeIndex: 882676 entries, 0 to 882675\n",
            "Data columns (total 4 columns):\n",
            " #   Column       Non-Null Count   Dtype \n",
            "---  ------       --------------   ----- \n",
            " 0   text         882676 non-null  object\n",
            " 1   summary      882676 non-null  object\n",
            " 2   article_len  882676 non-null  int64 \n",
            " 3   summary_len  882676 non-null  int64 \n",
            "dtypes: int64(2), object(2)\n",
            "memory usage: 26.9+ MB\n"
          ],
          "name": "stdout"
        }
      ]
    },
    {
      "cell_type": "code",
      "metadata": {
        "colab": {
          "base_uri": "https://localhost:8080/"
        },
        "id": "x9chLqw-PK9e",
        "jupyter": {
          "source_hidden": true
        },
        "outputId": "0ab3a6fa-fb25-4607-8308-f579cbecf3f2"
      },
      "source": [
        "train_processed_data['summary_len'].quantile([0.5, 0.75, 0.9, 0.95, 0.99, 0.999, 0.9999])"
      ],
      "execution_count": null,
      "outputs": [
        {
          "output_type": "execute_result",
          "data": {
            "text/plain": [
              "0.5000     24.0\n",
              "0.7500     31.0\n",
              "0.9000     44.0\n",
              "0.9500     58.0\n",
              "0.9900    141.0\n",
              "0.9990    343.0\n",
              "0.9999    663.0\n",
              "Name: summary_len, dtype: float64"
            ]
          },
          "metadata": {
            "tags": []
          },
          "execution_count": 13
        }
      ]
    },
    {
      "cell_type": "code",
      "metadata": {
        "colab": {
          "base_uri": "https://localhost:8080/"
        },
        "id": "hBlW5wqJpmJK",
        "jupyter": {
          "source_hidden": true
        },
        "outputId": "f79e5968-2fd0-4df3-832a-761639060fef"
      },
      "source": [
        "train_processed_data['article_len'].quantile([0.1,0.25,0.4,0.5, 0.75, 0.9, 0.95, 0.99, 0.999, 0.9999])"
      ],
      "execution_count": null,
      "outputs": [
        {
          "output_type": "execute_result",
          "data": {
            "text/plain": [
              "0.1000      192.000\n",
              "0.2500      322.000\n",
              "0.4000      465.000\n",
              "0.5000      574.000\n",
              "0.7500      890.000\n",
              "0.9000     1237.000\n",
              "0.9500     1575.000\n",
              "0.9900     3206.250\n",
              "0.9990     8660.600\n",
              "0.9999    23091.975\n",
              "Name: article_len, dtype: float64"
            ]
          },
          "metadata": {
            "tags": []
          },
          "execution_count": 14
        }
      ]
    },
    {
      "cell_type": "code",
      "metadata": {
        "colab": {
          "base_uri": "https://localhost:8080/"
        },
        "id": "kv13R15mZ0vR",
        "jupyter": {
          "source_hidden": true
        },
        "outputId": "ec200303-2e8f-40f5-d69e-01ecc7f5f6dd"
      },
      "source": [
        "valid_processed.info()"
      ],
      "execution_count": null,
      "outputs": [
        {
          "output_type": "stream",
          "text": [
            "<class 'pandas.core.frame.DataFrame'>\n",
            "RangeIndex: 104147 entries, 0 to 104146\n",
            "Data columns (total 4 columns):\n",
            " #   Column       Non-Null Count   Dtype \n",
            "---  ------       --------------   ----- \n",
            " 0   text         104147 non-null  object\n",
            " 1   summary      104147 non-null  object\n",
            " 2   article_len  104147 non-null  int64 \n",
            " 3   summary_len  104147 non-null  int64 \n",
            "dtypes: int64(2), object(2)\n",
            "memory usage: 3.2+ MB\n"
          ],
          "name": "stdout"
        }
      ]
    },
    {
      "cell_type": "code",
      "metadata": {
        "colab": {
          "base_uri": "https://localhost:8080/"
        },
        "id": "R7yoTzCmZ0vZ",
        "jupyter": {
          "source_hidden": true
        },
        "outputId": "461fd5ed-bde0-49b0-a114-3634a36d6e20"
      },
      "source": [
        "valid_processed_data.info()"
      ],
      "execution_count": null,
      "outputs": [
        {
          "output_type": "stream",
          "text": [
            "<class 'pandas.core.frame.DataFrame'>\n",
            "RangeIndex: 96581 entries, 0 to 96580\n",
            "Data columns (total 4 columns):\n",
            " #   Column       Non-Null Count  Dtype \n",
            "---  ------       --------------  ----- \n",
            " 0   text         96581 non-null  object\n",
            " 1   summary      96581 non-null  object\n",
            " 2   article_len  96581 non-null  int64 \n",
            " 3   summary_len  96581 non-null  int64 \n",
            "dtypes: int64(2), object(2)\n",
            "memory usage: 2.9+ MB\n"
          ],
          "name": "stdout"
        }
      ]
    },
    {
      "cell_type": "code",
      "metadata": {
        "colab": {
          "base_uri": "https://localhost:8080/"
        },
        "id": "3nMUVVJVZ0vc",
        "jupyter": {
          "source_hidden": true
        },
        "outputId": "f18fe5be-89e8-41b1-df19-24f41df6473b"
      },
      "source": [
        "valid_processed_data['article_len'].quantile([0.5, 0.75, 0.9, 0.95, 0.99, 0.999, 0.9999])"
      ],
      "execution_count": null,
      "outputs": [
        {
          "output_type": "execute_result",
          "data": {
            "text/plain": [
              "0.5000      571.000\n",
              "0.7500      885.000\n",
              "0.9000     1228.000\n",
              "0.9500     1568.000\n",
              "0.9900     3119.600\n",
              "0.9990     8641.460\n",
              "0.9999    22122.936\n",
              "Name: article_len, dtype: float64"
            ]
          },
          "metadata": {
            "tags": []
          },
          "execution_count": 17
        }
      ]
    },
    {
      "cell_type": "code",
      "metadata": {
        "colab": {
          "base_uri": "https://localhost:8080/"
        },
        "id": "70NxcZwHZ0ve",
        "jupyter": {
          "source_hidden": true
        },
        "outputId": "4a4695d9-5949-490e-e65b-fdd94af82daa"
      },
      "source": [
        "valid_processed_data['summary_len'].quantile([0.5, 0.75, 0.9, 0.95, 0.99, 0.999, 0.9999])"
      ],
      "execution_count": null,
      "outputs": [
        {
          "output_type": "execute_result",
          "data": {
            "text/plain": [
              "0.5000     24.000\n",
              "0.7500     31.000\n",
              "0.9000     45.000\n",
              "0.9500     60.000\n",
              "0.9900    146.000\n",
              "0.9990    364.000\n",
              "0.9999    724.234\n",
              "Name: summary_len, dtype: float64"
            ]
          },
          "metadata": {
            "tags": []
          },
          "execution_count": 18
        }
      ]
    },
    {
      "cell_type": "code",
      "metadata": {
        "colab": {
          "base_uri": "https://localhost:8080/"
        },
        "id": "bFFt1a_35GZR",
        "outputId": "17465e7f-2d27-4ef9-b64d-8580f75da279"
      },
      "source": [
        "art = 700 #int(train_processed_data['article_len'].quantile(0.9900))\n",
        "sum_ = 250# int(train_processed_data['summary_len'].quantile(0.9900))\n",
        "\n",
        "print(f'art len:{art}, sum len:{sum_}')"
      ],
      "execution_count": null,
      "outputs": [
        {
          "output_type": "stream",
          "text": [
            "art len:700, sum len:250\n"
          ],
          "name": "stdout"
        }
      ]
    },
    {
      "cell_type": "code",
      "metadata": {
        "colab": {
          "base_uri": "https://localhost:8080/"
        },
        "id": "dxo2FbB0Z0vj",
        "outputId": "c26b9ba9-ae64-49d6-c180-16b7cafb6220"
      },
      "source": [
        "artV = 700 #int(valid_processed_data['article_len'].quantile(0.9900))\n",
        "sumV = 250# int(valid_processed_data['summary_len'].quantile(0.9900))\n",
        "\n",
        "print(f'art len:{artV}, sum len:{sumV}')"
      ],
      "execution_count": null,
      "outputs": [
        {
          "output_type": "stream",
          "text": [
            "art len:700, sum len:250\n"
          ],
          "name": "stdout"
        }
      ]
    },
    {
      "cell_type": "markdown",
      "metadata": {
        "id": "dtuTFeLttppa"
      },
      "source": [
        "#### Creating Custom Dataset"
      ]
    },
    {
      "cell_type": "code",
      "metadata": {
        "id": "iYEBtk-Ctyy4"
      },
      "source": [
        "class CustomDataReader(Dataset):\n",
        "  \"\"\"\n",
        "  Loading data to be used in pytorch pre-trained models\n",
        "  \n",
        "  \"\"\"\n",
        "  def __init__(self, dataframe, T5tokenizer, max_article_tokens=None,max_summary_tokens=None ):\n",
        "    self.tokenizer = T5tokenizer\n",
        "    self.dataframe = dataframe\n",
        "    self.eos = ' </s>'  #tokenizer.eos_token\n",
        "    self.sos = '<pad> ' #tokenizer.pad_token\n",
        "    self.source_len = max_article_tokens\n",
        "    self.target_len = max_summary_tokens\n",
        "  \n",
        "  def __len__(self):\n",
        "    return len(self.dataframe)\n",
        "\n",
        "  def __getitem__(self, idx):\n",
        "    articles = \"summarize: \" + self.dataframe.text[idx] + self.eos\n",
        "    articles = ' '.join(articles.split())\n",
        "\n",
        "    summary = self.sos + self.dataframe.summary[idx] + self.eos\n",
        "    summary = ' '.join(summary.split())\n",
        "\n",
        "    source_tokenized = self.tokenizer.batch_encode_plus([articles], max_length= self.source_len, pad_to_max_length=True, truncation=True,return_tensors='pt')\n",
        "    target_tokenized = self.tokenizer.batch_encode_plus([summary], max_length= self.target_len, pad_to_max_length=True, truncation=True,return_tensors='pt')\n",
        "\n",
        "    source_ids = source_tokenized['input_ids'].squeeze(0)\n",
        "    source_mask = source_tokenized['attention_mask'].squeeze(0)\n",
        "\n",
        "    summary_ids = target_tokenized['input_ids'].squeeze(0)\n",
        "    summary_mask = target_tokenized['attention_mask'].squeeze(0)\n",
        "\n",
        "    return source_ids, source_mask, summary_ids, summary_mask\n"
      ],
      "execution_count": null,
      "outputs": []
    },
    {
      "cell_type": "code",
      "metadata": {
        "id": "W3kRtSzZKHN4"
      },
      "source": [
        "class AverageMeter:\n",
        "    \"\"\"Computes and stores the average and current value\"\"\"\n",
        "    def __init__(self):\n",
        "        self.reset()\n",
        "\n",
        "    def reset(self):\n",
        "        self.val = 0\n",
        "        self.avg = 0\n",
        "        self.sum = 0\n",
        "        self.count = 0\n",
        "\n",
        "    def update(self, val, n=1):\n",
        "        self.val = val\n",
        "        self.sum += val * n\n",
        "        self.count += n\n",
        "        self.avg = self.sum / self.count"
      ],
      "execution_count": null,
      "outputs": []
    },
    {
      "cell_type": "markdown",
      "metadata": {
        "id": "mqfiCrePYQIK"
      },
      "source": [
        "#### Training Loop"
      ]
    },
    {
      "cell_type": "code",
      "metadata": {
        "id": "hQwJS66iz0uS"
      },
      "source": [
        "def training(model, dataset_loader, optimizer,log_interval,regularizer, eps_sched=None, batchs=None,epoch=0, use_wandb=True):\n",
        "\n",
        "    model.train()\n",
        "    avg_loss = 0\n",
        "    nItem = 0\n",
        "\n",
        "\n",
        "    print(f'\\nStart training for epoch: {epoch}')\n",
        "    \n",
        "    losses = AverageMeter()\n",
        "    tqdok = tqdm(dataset_loader, total=len(dataset_loader))\n",
        " \n",
        "    for idx, data_train in enumerate(tqdok):\n",
        "\n",
        "        input_ids, source_mask, summary_ids, summary_mask = data_train\n",
        "\n",
        "        input_ids = input_ids.to(device, dtype = torch.long)\n",
        "        source_mask = source_mask.to(device, dtype = torch.float)\n",
        "        summary_ids = summary_ids.to(device, dtype = torch.long)\n",
        "\n",
        "        target_labels = summary_ids[:, :-1].contiguous()\n",
        "        langm_labels = summary_ids[:, 1:].clone().detach()\n",
        "        langm_labels[summary_ids[:, 1:] == tokenizer.pad_token_id] = -100\n",
        "\n",
        "        optimizer.zero_grad()\n",
        "\n",
        "        output = model(input_ids=input_ids, attention_mask = source_mask, decoder_input_ids=target_labels, labels=langm_labels, lambd=regularizer)\n",
        "\n",
        "        loss = output[0]\n",
        "\n",
        "        loss.backward()\n",
        "        optimizer.step()\n",
        "\n",
        "        bs = input_ids.size(0)\n",
        "        nItem += bs\n",
        "        \n",
        "        # Before next loop: anneal optimizer variables \n",
        "        \n",
        "        if eps_sched is not None and  batchs is not None:\n",
        "            itr = epoch*(len(dataset_loader.dataset)//batchs) + idx\n",
        "            optimizer.param_groups[0]['eps'] = eps_sched[itr]\n",
        "\n",
        "        avg_loss += loss.item() * bs\n",
        "\n",
        "        if use_wandb and idx%log_interval == 0:\n",
        "            wandb.log({\"Training Loss\": loss.item()})\n",
        "        else:\n",
        "            if idx % 5000 == 0:\n",
        "                print(f'[{idx * len(input_ids)}/{len(dataset_loader.dataset)} ({100. * idx / len(dataset_loader):.0f})%] \\t Training loss: {loss:.3f}')\n",
        "   \n",
        "\n",
        "        losses.update(loss.item(), bs)\n",
        "        tqdok.set_postfix(loss=losses.avg)\n",
        "        \n",
        "    avg_loss /= nItem\n",
        "  \n",
        "    return avg_loss, output\n"
      ],
      "execution_count": null,
      "outputs": []
    },
    {
      "cell_type": "code",
      "metadata": {
        "id": "uYQaqTmxRtzQ"
      },
      "source": [
        "def validation(model, dataset_loader, regularizer, token_summaries=False):\n",
        "    model.eval()\n",
        "\n",
        "    eval_loss = 0\n",
        "    nItem = 0\n",
        "    droped = 0\n",
        "    open_gates = 0\n",
        "    total_doc_tokens = 0\n",
        "    tokens_info = None\n",
        "\n",
        "    losses = AverageMeter()\n",
        "    tqdok = tqdm(dataset_loader, total=len(dataset_loader))\n",
        "\n",
        "    with torch.no_grad():\n",
        "        for idx, data_val in enumerate(tqdok):\n",
        "            input_ids, source_mask, summary_ids, summary_mask = data_val\n",
        "\n",
        "            input_ids = input_ids.to(device, dtype = torch.long)\n",
        "            source_mask = source_mask.to(device, dtype = torch.float)\n",
        "            summary_ids = summary_ids.to(device, dtype = torch.long)\n",
        "\n",
        "            target_labels = summary_ids[:, :-1].contiguous()\n",
        "            langm_labels = summary_ids[:, 1:].clone().detach()\n",
        "            langm_labels[summary_ids[:, 1:] == tokenizer.pad_token_id] = -100\n",
        "\n",
        "            output = model(input_ids=input_ids, attention_mask = source_mask, decoder_input_ids=target_labels, labels=langm_labels, lambd=regularizer)\n",
        "\n",
        "            loss = output[0]\n",
        "            \n",
        "            if token_summaries:                \n",
        "                droped_number, nbr_of_nonzero_gates, total_tokens = output[-2] \n",
        "                droped += droped_number\n",
        "                open_gates += nbr_of_nonzero_gates\n",
        "                total_doc_tokens += total_tokens\n",
        "\n",
        "            bs = input_ids.size(0)\n",
        "            nItem += bs\n",
        "\n",
        "            eval_loss += loss.item()\n",
        "\n",
        "            losses.update(loss.item(), bs)\n",
        "            tqdok.set_postfix(loss=losses.avg)\n",
        "\n",
        "    eval_loss /= nItem\n",
        "    \n",
        "    if token_summaries:\n",
        "        tokens_info = (droped, open_gates, total_doc_tokens)\n",
        "\n",
        "    return eval_loss, tokens_info "
      ],
      "execution_count": null,
      "outputs": []
    },
    {
      "cell_type": "code",
      "metadata": {
        "id": "h5ZhapbZawXG"
      },
      "source": [
        "def saving(PATH, epoch, optm, model, LEARNING_RATE):\n",
        "  torch.save({\n",
        "            'epoch': epoch,\n",
        "            'model_state_dict': model.state_dict(),\n",
        "            'optimizer_state_dict': optm.state_dict(),\n",
        "            'learning_rate': LEARNING_RATE\n",
        "            }, PATH)"
      ],
      "execution_count": null,
      "outputs": []
    },
    {
      "cell_type": "markdown",
      "metadata": {
        "id": "XWdOypqMKHN4"
      },
      "source": [
        "#### Getting samples of data"
      ]
    },
    {
      "cell_type": "code",
      "metadata": {
        "id": "Qk-l-LauKHN4"
      },
      "source": [
        "#@title Train, Validation and Test splits { run: \"auto\" }\n",
        "\n",
        "columns = [\"text\",\"summary\"]\n",
        "\n",
        "X_train = train_processed_data[columns] #X_train.reset_index(drop=True)\n",
        "X_valid = valid_processed_data[columns] #X_val.reset_index(drop=True)\n",
        "#X_test = test_processed_data[columns]\n",
        "\n",
        "# Xtrain_trial = X_train.iloc[:50000]\n",
        "# Xvalid_trial = X_valid.iloc[:3600]\n",
        "\n",
        "indices = np.random.permutation(len(X_train))\n",
        "valind = np.random.permutation(len(X_valid))\n",
        "#testind = np.random.permutation(len(X_test))\n",
        "\n",
        "ind = indices[:70000]\n",
        "vind = valind[:6000]\n",
        "#testind = testind[:1000]\n",
        "\n",
        "\n",
        "Xtrain_trial = X_train.iloc[ind]\n",
        "Xvalid_trial = X_valid.iloc[vind]\n",
        "#Xtest_trial = X_test.iloc[testind]\n",
        "\n",
        "Xtrain_trial = Xtrain_trial.reset_index(drop=True)\n",
        "Xvalid_trial = Xvalid_trial.reset_index(drop=True)\n",
        "#Xtest_trial = Xtest_trial.reset_index(drop=True)"
      ],
      "execution_count": null,
      "outputs": []
    },
    {
      "cell_type": "markdown",
      "metadata": {
        "id": "ZsdXt4STdroJ"
      },
      "source": [
        "#### The model evaluation\n",
        "\n",
        "The perplexity:\n",
        "\n",
        "\\begin{align}\n",
        "\\large \\text{ppl}(p, D) &\\large = 2^{-\\frac{1}{N_{total}}\\log_2 p(D)}\n",
        "\\end{align}\n",
        "\n",
        "where $D=\\{(w_1,\\ldots,w_{N_i})_i\\}_{i=1}^M$ is a dataset of $M$ sequences with total length $N_{\\text{total}}=\\sum_{i}N_i$.\n",
        "\n",
        "\n",
        "#### Computing perplexity\n",
        "\n",
        "Our model's loss is the (negative) log probability of every token in the output sequence, which can be used to compute perplexity.\n",
        "\n",
        "We define perplexity using the **base 2** logarithm."
      ]
    },
    {
      "cell_type": "code",
      "metadata": {
        "id": "FarmceVkcm-Y"
      },
      "source": [
        "def get_perplexity(epoc_loss):\n",
        "  rs = epoc_loss/np.log(2)\n",
        "  pp = 2**rs\n",
        "  return pp"
      ],
      "execution_count": null,
      "outputs": []
    },
    {
      "cell_type": "code",
      "metadata": {
        "colab": {
          "base_uri": "https://localhost:8080/",
          "height": 166,
          "referenced_widgets": [
            "d18254e2299e4ef4979c7985adfb1e2f",
            "8bb33263414d401d9d6387d6f36d8841",
            "426e893b1fe34735aab5e0b534bd46b1",
            "1e4db699ac14463f975041bf892d596a",
            "ae4a6fc5b9744a339ab8ab3d5494b91a",
            "beb9b372dd9644a28e1f704d4e22f5b1",
            "c74381ef306e4a63ab4ff132fa5bf4bc",
            "5ff960b2821347b6877fab701eb0bd89",
            "8ee6eee19bc0481380a555a7297ec510",
            "c525509e86e64e14a66301300df2aa7d",
            "16a08d3efcc3448285113a65611e5ff5",
            "b1fb594882e047a59f42af4e21eebc25",
            "6f0237553c4e40c680191ec755ad6852",
            "011ec696585f4363afca23b58a915145",
            "9c344785c7a6443bab6fcc950a5cb000",
            "a6383a1992de47d8ae4c0e0ac4e90eaa",
            "8541e7e6e87940d6bd9fda81f7f6d8ba",
            "aaf93cf0cc4044148c53c408c25c0434",
            "ae77b0c562a0421b8e83110fd5578155",
            "89a874dd864445dfbdb715fde7a48cc5",
            "535fac9347984afb86c432c4607eba90",
            "966a9b5e1bd94d3c94648391a3df33e5",
            "ce2aedd7492a4f8c9cc356c510b382fc",
            "3a92be2e5bdb491eaa7aba2077eb1afa"
          ]
        },
        "id": "eDlcT25-F-sO",
        "outputId": "9382f446-04db-4c9b-9a5e-cd1f3c062b4c"
      },
      "source": [
        "#@title #### Loading T5 model and its Tokenizer { run: \"auto\" }\n",
        "\n",
        "LEARNING_RATE = 3.55e-4\n",
        "MODEL_NAME = 't5-base' # or T5-Large:770 params, T5-3B, T5-Base: 220 Params, T5-11B\n",
        "t5model = T5ForConditionalGeneration.from_pretrained(MODEL_NAME)\n",
        "tokenizer = T5Tokenizer.from_pretrained(MODEL_NAME)"
      ],
      "execution_count": null,
      "outputs": [
        {
          "output_type": "display_data",
          "data": {
            "application/vnd.jupyter.widget-view+json": {
              "model_id": "d18254e2299e4ef4979c7985adfb1e2f",
              "version_minor": 0,
              "version_major": 2
            },
            "text/plain": [
              "HBox(children=(FloatProgress(value=0.0, description='Downloading', max=1199.0, style=ProgressStyle(description…"
            ]
          },
          "metadata": {
            "tags": []
          }
        },
        {
          "output_type": "stream",
          "text": [
            "\n"
          ],
          "name": "stdout"
        },
        {
          "output_type": "display_data",
          "data": {
            "application/vnd.jupyter.widget-view+json": {
              "model_id": "8ee6eee19bc0481380a555a7297ec510",
              "version_minor": 0,
              "version_major": 2
            },
            "text/plain": [
              "HBox(children=(FloatProgress(value=0.0, description='Downloading', max=891691430.0, style=ProgressStyle(descri…"
            ]
          },
          "metadata": {
            "tags": []
          }
        },
        {
          "output_type": "stream",
          "text": [
            "\n"
          ],
          "name": "stdout"
        },
        {
          "output_type": "display_data",
          "data": {
            "application/vnd.jupyter.widget-view+json": {
              "model_id": "8541e7e6e87940d6bd9fda81f7f6d8ba",
              "version_minor": 0,
              "version_major": 2
            },
            "text/plain": [
              "HBox(children=(FloatProgress(value=0.0, description='Downloading', max=791656.0, style=ProgressStyle(descripti…"
            ]
          },
          "metadata": {
            "tags": []
          }
        },
        {
          "output_type": "stream",
          "text": [
            "\n"
          ],
          "name": "stdout"
        }
      ]
    },
    {
      "cell_type": "code",
      "metadata": {
        "id": "f_ibugrXKHN4"
      },
      "source": [
        "class GatedFilterLayer(nn.Module):\n",
        "  r\"\"\"\n",
        "  Receives the keys from the encoder output.\n",
        "\n",
        "  Returns:\n",
        "    Output the values between [0,1]\n",
        "   \"\"\"\n",
        "\n",
        "  def __init__(self, config ):\n",
        "    super(GatedFilterLayer, self).__init__()\n",
        "\n",
        "    self.d_model = config.d_model\n",
        "    self.projector = nn.Linear(self.d_model, 1,bias=False)\n",
        "\n",
        "  def forward(self, last_hidden_encoder):\n",
        "    \n",
        "    proj = self.projector(last_hidden_encoder) # (bs, seqlen,1)\n",
        "    proj = proj.unsqueeze(1) # (bs,1,seqlen,1)\n",
        "    gate = torch.sigmoid(proj) # (bs,1,seqlen,1)\n",
        "\n",
        "    return gate "
      ],
      "execution_count": null,
      "outputs": []
    },
    {
      "cell_type": "code",
      "metadata": {
        "id": "IvZNrGepKHN4"
      },
      "source": [
        "class EncoderStack(T5Stack):\n",
        "\n",
        "  def __init__(self,config, embed_tokens=None):\n",
        "    super().__init__(config)\n",
        "\n",
        "    self.embed_tokens = embed_tokens \n",
        "    self.is_decoder = config.is_decoder\n",
        "    self.config = config\n",
        "    self.gatefilter = GatedFilterLayer(config)\n",
        "\n",
        "  def forward(self, \n",
        "              input_ids=None,\n",
        "              attention_mask=None,\n",
        "              encoder_hidden_states=None,\n",
        "              encoder_attention_mask=None,\n",
        "              inputs_embeds=None,\n",
        "              head_mask=None,\n",
        "              past_key_value_states=None,\n",
        "              use_cache=False,\n",
        "              output_attentions=None,\n",
        "              output_hidden_states=None,\n",
        "          ):\n",
        "    \n",
        "        use_cache = use_cache if use_cache is not None else self.config.use_cache\n",
        "        output_attentions = output_attentions if output_attentions is not None else self.config.output_attentions\n",
        "        output_hidden_states = (\n",
        "            output_hidden_states if output_hidden_states is not None else self.config.output_hidden_states\n",
        "        )\n",
        "\n",
        "        if input_ids is not None and inputs_embeds is not None:\n",
        "            raise ValueError(\"You cannot specify both input_ids and inputs_embeds at the same time\")\n",
        "        elif input_ids is not None:\n",
        "            input_shape = input_ids.size()\n",
        "            input_ids = input_ids.view(-1, input_shape[-1])\n",
        "        elif inputs_embeds is not None:\n",
        "            input_shape = inputs_embeds.size()[:-1]\n",
        "        else:\n",
        "            if self.is_decoder:\n",
        "                raise ValueError(\"You have to specify either decoder_input_ids or decoder_inputs_embeds\")\n",
        "            else:\n",
        "                raise ValueError(\"You have to specify either input_ids or inputs_embeds\")\n",
        "\n",
        "        if inputs_embeds is None:\n",
        "            assert self.embed_tokens is not None, \"You have to intialize the model with valid token embeddings\"\n",
        "            inputs_embeds = self.embed_tokens(input_ids)\n",
        "\n",
        "        batch_size, seq_length = input_shape\n",
        "\n",
        "        if past_key_value_states is not None:\n",
        "            assert seq_length == 1, \"Input shape is {}, but should be {} when using past_key_value_sates\".format(\n",
        "                input_shape, (batch_size, 1)\n",
        "            )\n",
        "            # required mask seq length can be calculated via length of past\n",
        "            # key value states and seq_length = 1 for the last token\n",
        "            mask_seq_length = past_key_value_states[0][0].shape[2] + seq_length\n",
        "        else:\n",
        "            mask_seq_length = seq_length\n",
        "\n",
        "        if attention_mask is None:\n",
        "            attention_mask = torch.ones(batch_size, mask_seq_length).to(inputs_embeds.device)\n",
        "        if self.is_decoder and encoder_attention_mask is None and encoder_hidden_states is not None:\n",
        "            encoder_seq_length = encoder_hidden_states.shape[1]\n",
        "            encoder_attention_mask = torch.ones(\n",
        "                batch_size, encoder_seq_length, device=inputs_embeds.device, dtype=torch.long\n",
        "            )\n",
        "\n",
        "        # initialize past_key_value_states with `None` if past does not exist\n",
        "        if past_key_value_states is None:\n",
        "            past_key_value_states = [None] * len(self.block)\n",
        "\n",
        "        # ourselves in which case we just need to make it broadcastable to all heads.\n",
        "        extended_attention_mask = self.get_extended_attention_mask(attention_mask, input_shape, inputs_embeds.device)\n",
        "\n",
        "        if self.is_decoder and encoder_attention_mask is not None:\n",
        "            encoder_extended_attention_mask = self.invert_attention_mask(encoder_attention_mask)\n",
        "        else:\n",
        "            encoder_extended_attention_mask = None\n",
        "\n",
        "        # Prepare head mask if needed\n",
        "        head_mask = self.get_head_mask(head_mask, self.config.num_layers)\n",
        "        present_key_value_states = ()\n",
        "        all_hidden_states = ()\n",
        "        all_attentions = ()\n",
        "        position_bias = None\n",
        "        encoder_decoder_position_bias = None\n",
        "\n",
        "        hidden_states = self.dropout(inputs_embeds)\n",
        "\n",
        "        for i, (layer_module, past_key_value_state) in enumerate(zip(self.block, past_key_value_states)):\n",
        "            if output_hidden_states:\n",
        "                all_hidden_states = all_hidden_states + (hidden_states,)\n",
        "\n",
        "            layer_outputs = layer_module(\n",
        "                hidden_states,\n",
        "                attention_mask=extended_attention_mask,\n",
        "                position_bias=position_bias,\n",
        "                encoder_hidden_states=encoder_hidden_states,\n",
        "                encoder_attention_mask=encoder_extended_attention_mask,\n",
        "                encoder_decoder_position_bias=encoder_decoder_position_bias,\n",
        "                head_mask=head_mask[i],\n",
        "                past_key_value_state=past_key_value_state,\n",
        "                use_cache=use_cache,\n",
        "                output_attentions=output_attentions,\n",
        "            )\n",
        "            # layer_outputs is a tuple with:\n",
        "            # hidden-states, key-value-states, (self-attention weights), (self-attention position bias), (cross-attention weights), (cross-attention position bias)\n",
        "            hidden_states, present_key_value_state = layer_outputs[:2]\n",
        "\n",
        "            if i == 0:\n",
        "                # We share the position biases between the layers - the first layer store them\n",
        "                # layer_outputs = hidden-states, key-value-states (self-attention weights), (self-attention position bias), (cross-attention weights), (cross-attention position bias)\n",
        "                position_bias = layer_outputs[3 if output_attentions else 2]\n",
        "                if self.is_decoder and encoder_hidden_states is not None:\n",
        "                    encoder_decoder_position_bias = layer_outputs[5 if output_attentions else 3]\n",
        "            # append next layer key value states\n",
        "            present_key_value_states = present_key_value_states + (present_key_value_state,)\n",
        "\n",
        "            if output_attentions:\n",
        "                all_attentions = all_attentions + (layer_outputs[2],)  # We keep only self-attention weights for now\n",
        "\n",
        "        hidden_states = self.final_layer_norm(hidden_states)\n",
        "        hidden_states = self.dropout(hidden_states)\n",
        "        \n",
        "        # Add last layer\n",
        "        if output_hidden_states:\n",
        "            all_hidden_states = all_hidden_states + (hidden_states,)\n",
        "\n",
        "        outputs = (hidden_states,)\n",
        "        if use_cache is True:\n",
        "            assert self.is_decoder, \"`use_cache` can only be set to `True` if {} is used as a decoder\".format(self)\n",
        "            outputs = outputs + (present_key_value_states,)\n",
        "        if output_hidden_states:\n",
        "            outputs = outputs + (all_hidden_states,)\n",
        "        if output_attentions:\n",
        "            outputs = outputs + (all_attentions,)\n",
        "\n",
        "        # Defining gates\n",
        "\n",
        "        last_hidden_state = outputs[0]\n",
        "        gates = self.gatefilter(last_hidden_state)\n",
        "        outputs = outputs + (gates,)\n",
        "\n",
        "        return outputs  # last-layer hidden state, (presents,) (all hidden states), (all attentions), (gates,)"
      ],
      "execution_count": null,
      "outputs": []
    },
    {
      "cell_type": "code",
      "metadata": {
        "id": "YhJVBDCUKHN4"
      },
      "source": [
        "def softmax(scores,g):\n",
        "\n",
        "  scores_max = torch.max(scores,dim=-1)[0].unsqueeze(-1)\n",
        "  scores = scores - scores_max\n",
        "  A = torch.exp(scores) # (bs, n_heads, qlen, klen)\n",
        "  g= g.permute(0,1,3,2) # (bs, 1,1, klen), \n",
        "  A_g = g * A\n",
        "  sum_norm = torch.sum(A_g,axis=-1).unsqueeze(-1)\n",
        "  weights = A_g/sum_norm\n",
        "  return weights"
      ],
      "execution_count": null,
      "outputs": []
    },
    {
      "cell_type": "code",
      "metadata": {
        "id": "uUXzdXZCKHN4"
      },
      "source": [
        "class T5GatedAtention(T5Attention):\n",
        "  r\"\"\"\n",
        "  The source code is from huggingface. For more details, check their github \n",
        "  @https://github.com/huggingface/transformers/blob/master/src/transformers/modeling_t5.py#L204\n",
        "  \n",
        "  Retuns:\n",
        "    Context, attentions weights on the keys for the provided queries  \n",
        "  \"\"\"\n",
        "\n",
        "  def __init__(self, config, has_relative_attention_bias = False): \n",
        "    super(T5GatedAtention, self).__init__(config)\n",
        "\n",
        "    self.has_relative_attention_bias = has_relative_attention_bias \n",
        "    self.relative_attention_num_buckets = config.relative_attention_num_buckets\n",
        "    self.config = config\n",
        "    self.config.is_decoder = True\n",
        "    self.n_heads = config.num_heads\n",
        "\n",
        "    if self.has_relative_attention_bias:\n",
        "        self.relative_attention_bias = nn.Embedding(self.relative_attention_num_buckets, self.n_heads)\n",
        "  \n",
        "  def forward(\n",
        "        self,\n",
        "        input,\n",
        "        gates,\n",
        "        mask=None,\n",
        "        kv=None,\n",
        "        position_bias=None,\n",
        "        past_key_value_state=None,\n",
        "        head_mask=None,\n",
        "        query_length=None,\n",
        "        use_cache=True,\n",
        "        output_attentions=False,\n",
        "        speed_up = False,\n",
        "    ):\n",
        "        \"\"\"\n",
        "        Self-attention (if kv is None) or attention over source sentence (provided by kv).\n",
        "        \"\"\"\n",
        "        # Input is (bs, qlen, dim)\n",
        "        # Mask is (bs, klen) (non-causal) or (bs, klen, klen)\n",
        "        # past_key_value_state[0] is (bs, n_heads, q_len - 1, dim_per_head)\n",
        "        bs, qlen, dim = input.size()\n",
        "\n",
        "        if past_key_value_state is not None:\n",
        "            assert self.config.is_decoder is True, \"Encoder cannot cache past key value states\"\n",
        "            assert (\n",
        "                len(past_key_value_state) == 2\n",
        "            ), \"past_key_value_state should have 2 past states: keys and values. Got {} past states\".format(\n",
        "                len(past_key_value_state)\n",
        "            )\n",
        "            real_qlen = qlen + past_key_value_state[0].shape[2] if query_length is None else query_length\n",
        "        else:\n",
        "            real_qlen = qlen\n",
        "\n",
        "        if kv is None:\n",
        "            klen = real_qlen\n",
        "        else:\n",
        "            klen = kv.size(1)\n",
        "\n",
        "        def shape(x):\n",
        "            \"\"\"  projection \"\"\"\n",
        "            return x.view(bs, -1, self.n_heads, self.d_kv).transpose(1, 2)\n",
        "\n",
        "        def unshape(x):\n",
        "            \"\"\"  compute context \"\"\"\n",
        "            return x.transpose(1, 2).contiguous().view(bs, -1, self.inner_dim)\n",
        "\n",
        "        q = shape(self.q(input))  # (bs, n_heads, qlen, dim_per_head)\n",
        "        \n",
        "\n",
        "        if kv is None:\n",
        "            k = shape(self.k(input))  # (bs, n_heads, qlen, dim_per_head)\n",
        "            v = shape(self.v(input))  # (bs, n_heads, qlen, dim_per_head)\n",
        "\n",
        "        elif past_key_value_state is None:\n",
        "            k = v = kv\n",
        "            k = shape(self.k(k))  # (bs, n_heads, qlen, dim_per_head)\n",
        "            v = shape(self.v(v))  # (bs, n_heads, qlen, dim_per_head)\n",
        "\n",
        "        if past_key_value_state is not None:\n",
        "            if kv is None:\n",
        "                k_, v_ = past_key_value_state\n",
        "                k = torch.cat([k_, k], dim=2)  # (bs, n_heads, klen, dim_per_head)\n",
        "                v = torch.cat([v_, v], dim=2)  # (bs, n_heads, klen, dim_per_head)\n",
        "            else:\n",
        "                k, v = past_key_value_state\n",
        "\n",
        "        if self.config.is_decoder and use_cache is True:\n",
        "            present_key_value_state = ((k, v),)\n",
        "        else:\n",
        "            present_key_value_state = (None,)\n",
        "\n",
        "        # For evaluation remove irrelevant info if we want to\n",
        "        if not self.training:\n",
        "            if speed_up is True:\n",
        "                gates, gate_mask, enc_ids, _ = gates\n",
        "            else:\n",
        "                gates, gate_mask, _ = gates\n",
        "                \n",
        "            k = k * gate_mask\n",
        "            v = v * gate_mask\n",
        "\n",
        "        scores = torch.einsum(\"bnqd,bnkd->bnqk\", q, k)  # (bs, n_heads, qlen, klen)\n",
        "\n",
        "        if position_bias is None:\n",
        "            if not self.has_relative_attention_bias:\n",
        "                raise ValueError(\"No position_bias provided and no weights to compute position_bias\")\n",
        "            position_bias = self.compute_bias(real_qlen, klen)\n",
        "\n",
        "            # if key and values are already calculated\n",
        "            # we want only the last query position bias\n",
        "            if past_key_value_state is not None:\n",
        "                position_bias = position_bias[:, :, -1:, :]\n",
        "\n",
        "            if mask is not None:\n",
        "                if speed_up is True:\n",
        "                    if enc_ids is not None: # catch for no ids to extract\n",
        "                        mask = mask[:,:,:,enc_ids]\n",
        "                position_bias = position_bias + mask  # (bs, n_heads, qlen, klen)\n",
        "\n",
        "        scores += position_bias\n",
        "\n",
        "        #if gate_filter_output is not None:\n",
        "        bsk, n_headsk, klenk, _ = k.size()\n",
        "        bsg, _, kleng, _ = gates.size()\n",
        "        \n",
        "        error_message = \"Shapes missmatch. There should be gates of shape {}. Got {}\".format(k.shape,gates.shape)\n",
        "        assert (bsg, kleng) == (bsk, klenk), error_message\n",
        "\n",
        "\n",
        "        weights = softmax(scores.float(), g=gates).type_as(scores)  # (bs, n_heads, qlen, klen)\n",
        "        #weights = F.softmax(scores.float()).type_as(scores)  # (bs, n_heads, qlen, klen)\n",
        "\n",
        "        weights = F.dropout(weights, p=self.dropout, training=self.training)  # (bs, n_heads, qlen, klen)\n",
        "\n",
        "        # Mask heads if we want to\n",
        "        if head_mask is not None:\n",
        "            weights = weights * head_mask\n",
        "\n",
        "        context = torch.matmul(weights, v)  # (bs, n_heads, qlen, dim_per_head)\n",
        "        context = unshape(context)  # (bs, qlen, dim)\n",
        "\n",
        "        context = self.o(context)\n",
        "\n",
        "        outputs = (context,) + present_key_value_state \n",
        "\n",
        "        if output_attentions: \n",
        "            outputs = outputs + (weights,)\n",
        "        if self.has_relative_attention_bias:\n",
        "            outputs = outputs + (position_bias,)                \n",
        "        return outputs\n"
      ],
      "execution_count": null,
      "outputs": []
    },
    {
      "cell_type": "code",
      "metadata": {
        "id": "o9ez4RoQKHN4"
      },
      "source": [
        "class T5LayerGatedCrossAttention(T5LayerCrossAttention):\n",
        "\n",
        "  def __init__(self, config, has_relative_attention_bias=False):\n",
        "        super().__init__(config)\n",
        "\n",
        "        self.EncDecAttention = T5GatedAtention(config, has_relative_attention_bias)\n",
        "\n",
        "  def forward(\n",
        "      self,\n",
        "      hidden_states,\n",
        "      gates,\n",
        "      kv,\n",
        "      attention_mask=None,\n",
        "      position_bias=None,\n",
        "      head_mask=None,\n",
        "      past_key_value_state=None,\n",
        "      use_cache=True,\n",
        "      query_length=None,\n",
        "      output_attentions=False,\n",
        "      speed_up = False,\n",
        "  ):\n",
        "      norm_x = self.layer_norm(hidden_states)\n",
        "      attention_output = self.EncDecAttention(\n",
        "          norm_x,\n",
        "          gates = gates,\n",
        "          mask=attention_mask,\n",
        "          kv=kv,\n",
        "          position_bias=position_bias,\n",
        "          head_mask=head_mask,\n",
        "          past_key_value_state=past_key_value_state,\n",
        "          use_cache=use_cache,\n",
        "          query_length=query_length,\n",
        "          output_attentions=output_attentions,\n",
        "          speed_up = speed_up,\n",
        "      )\n",
        "      y = attention_output[0]\n",
        "      layer_output = hidden_states + self.dropout(y)\n",
        "      outputs = (layer_output,) + attention_output[1:]  # add attentions if we output them\n",
        "      return outputs\n"
      ],
      "execution_count": null,
      "outputs": []
    },
    {
      "cell_type": "code",
      "metadata": {
        "id": "Iu3k0SYyKHN4"
      },
      "source": [
        "class GatedT5Block(T5Block):\n",
        "\n",
        "  def __init__(self,config,DecodBlock):\n",
        "    super(GatedT5Block, self).__init__(config)\n",
        "\n",
        "    self.config = config\n",
        "    self.layer = DecodBlock.layer\n",
        "\n",
        "  def forward(\n",
        "      self,\n",
        "      hidden_states,\n",
        "      gates,\n",
        "      attention_mask=None,\n",
        "      position_bias=None,\n",
        "      encoder_hidden_states=None,\n",
        "      encoder_attention_mask=None,\n",
        "      encoder_decoder_position_bias=None,\n",
        "      head_mask=None,\n",
        "      past_key_value_state=None,\n",
        "      use_cache=True,\n",
        "      output_attentions=False,\n",
        "      speed_up = False,\n",
        "  ):\n",
        "\n",
        "      if past_key_value_state is not None:\n",
        "          assert self.config.is_decoder, \"Only decoder can use `past_key_value_states`\"\n",
        "          expected_num_past_key_value_states = 2 if encoder_hidden_states is None else 4\n",
        "\n",
        "          error_message = \"There should be {} past states. 2 (past / key) for self attention.{} Got {} past key / value states\".format(\n",
        "              expected_num_past_key_value_states,\n",
        "              \"2 (past / key) for cross attention\" if expected_num_past_key_value_states == 4 else \"\",\n",
        "              len(past_key_value_state),\n",
        "          )\n",
        "          assert len(past_key_value_state) == expected_num_past_key_value_states, error_message\n",
        "\n",
        "          self_attn_past_key_value_state = past_key_value_state[:2]\n",
        "          cross_attn_past_key_value_state = past_key_value_state[2:]\n",
        "      else:\n",
        "          self_attn_past_key_value_state, cross_attn_past_key_value_state = None, None\n",
        "\n",
        "      self_attention_outputs = self.layer[0](\n",
        "          hidden_states,\n",
        "          attention_mask=attention_mask,\n",
        "          position_bias=position_bias,\n",
        "          head_mask=head_mask,\n",
        "          past_key_value_state=self_attn_past_key_value_state,\n",
        "          use_cache=use_cache,\n",
        "          output_attentions=output_attentions,\n",
        "      )\n",
        "      hidden_states, present_key_value_state = self_attention_outputs[:2]\n",
        "      attention_outputs = self_attention_outputs[2:]  # Keep self-attention outputs and relative position weights\n",
        "\n",
        "      if self.config.is_decoder and encoder_hidden_states is not None:\n",
        "          # the actual query length is unknown for cross attention\n",
        "          # if using past key value states. Need to inject it here\n",
        "          if present_key_value_state is not None:\n",
        "              query_length = present_key_value_state[0].shape[2]\n",
        "          else:\n",
        "              query_length = None\n",
        "\n",
        "          cross_attention_outputs = self.layer[1](\n",
        "              hidden_states,\n",
        "              gates=gates,\n",
        "              kv=encoder_hidden_states,\n",
        "              attention_mask=encoder_attention_mask,\n",
        "              position_bias=encoder_decoder_position_bias,\n",
        "              head_mask=head_mask,\n",
        "              past_key_value_state=cross_attn_past_key_value_state,\n",
        "              query_length=query_length,\n",
        "              use_cache=use_cache,\n",
        "              output_attentions=output_attentions,\n",
        "              speed_up = speed_up,\n",
        "          )\n",
        "          hidden_states = cross_attention_outputs[0]\n",
        "          # Combine self attn and cross attn key value states\n",
        "          \n",
        "          # print('present_key_value_state',present_key_value_state)\n",
        "          # print('cross_attention_outputs[1]', cross_attention_outputs[1])\n",
        "          \n",
        "          if present_key_value_state is not None:\n",
        "              present_key_value_state = present_key_value_state + cross_attention_outputs[1]\n",
        "\n",
        "          # Keep cross-attention outputs and relative position weights\n",
        "          attention_outputs = attention_outputs + cross_attention_outputs[2:]\n",
        "\n",
        "      # Apply Feed Forward layer\n",
        "      hidden_states = self.layer[-1](hidden_states)\n",
        "      outputs = (hidden_states,)\n",
        "\n",
        "      # Add attentions if we output them\n",
        "      outputs = outputs + (present_key_value_state,) + attention_outputs\n",
        "      return outputs"
      ],
      "execution_count": null,
      "outputs": []
    },
    {
      "cell_type": "code",
      "metadata": {
        "id": "uJ77PgeaKHN4"
      },
      "source": [
        "class GatedT5Stack(T5Stack):\n",
        "    def __init__(self, config, t5model, embed_tokens=None):\n",
        "        super(GatedT5Stack, self).__init__(config)\n",
        "\n",
        "        self.embed_tokens = embed_tokens\n",
        "        self.block = nn.ModuleList([GatedT5Block(config, t5model.decoder.block[i]) for i in range(config.num_layers)])\n",
        "        self.config = config\n",
        "\n",
        "    def forward(\n",
        "        self,\n",
        "        gates,\n",
        "        input_ids=None,\n",
        "        attention_mask=None,\n",
        "        encoder_hidden_states=None,\n",
        "        encoder_attention_mask=None,\n",
        "        inputs_embeds=None,\n",
        "        head_mask=None,\n",
        "        past_key_value_states=None,\n",
        "        use_cache=True,\n",
        "        output_attentions=None,\n",
        "        output_hidden_states=None,\n",
        "        speed_up = False,\n",
        "    ):\n",
        "\n",
        "        use_cache = use_cache if use_cache is not None else self.config.use_cache\n",
        "        output_attentions = output_attentions if output_attentions is not None else self.config.output_attentions\n",
        "        output_hidden_states = (\n",
        "            output_hidden_states if output_hidden_states is not None else self.config.output_hidden_states\n",
        "        )\n",
        "\n",
        "        if input_ids is not None and inputs_embeds is not None:\n",
        "            raise ValueError(\"You cannot specify both input_ids and inputs_embeds at the same time\")\n",
        "        elif input_ids is not None:\n",
        "            input_shape = input_ids.size()\n",
        "            input_ids = input_ids.view(-1, input_shape[-1])\n",
        "        elif inputs_embeds is not None:\n",
        "            input_shape = inputs_embeds.size()[:-1]\n",
        "        else:\n",
        "            if self.config.is_decoder:\n",
        "                raise ValueError(\"You have to specify either decoder_input_ids or decoder_inputs_embeds\")\n",
        "            else:\n",
        "                raise ValueError(\"You have to specify either input_ids or inputs_embeds\")\n",
        "\n",
        "        if inputs_embeds is None:\n",
        "            assert self.embed_tokens is not None, \"You have to intialize the model with valid token embeddings\"\n",
        "            inputs_embeds = self.embed_tokens(input_ids)\n",
        "\n",
        "        batch_size, seq_length = input_shape\n",
        "\n",
        "        if past_key_value_states is not None:\n",
        "            assert seq_length == 1, \"Input shape is {}, but should be {} when using past_key_value_sates\".format(\n",
        "                input_shape, (batch_size, 1)\n",
        "            )\n",
        "            # required mask seq length can be calculated via length of past\n",
        "            # key value states and seq_length = 1 for the last token\n",
        "            mask_seq_length = past_key_value_states[0][0].shape[2] + seq_length\n",
        "        else:\n",
        "            mask_seq_length = seq_length\n",
        "\n",
        "        if attention_mask is None:\n",
        "            attention_mask = torch.ones(batch_size, mask_seq_length).to(inputs_embeds.device)\n",
        "        if self.config.is_decoder and encoder_attention_mask is None and encoder_hidden_states is not None:\n",
        "            encoder_seq_length = encoder_hidden_states.shape[1]\n",
        "            encoder_attention_mask = torch.ones(\n",
        "                batch_size, encoder_seq_length, device=inputs_embeds.device, dtype=torch.long\n",
        "            )\n",
        "\n",
        "        # initialize past_key_value_states with `None` if past does not exist\n",
        "        if past_key_value_states is None:\n",
        "            past_key_value_states = [None] * len(self.block)\n",
        "\n",
        "        # ourselves in which case we just need to make it broadcastable to all heads.\n",
        "        extended_attention_mask = self.get_extended_attention_mask(attention_mask, input_shape, inputs_embeds.device)\n",
        "\n",
        "        if self.config.is_decoder and encoder_attention_mask is not None:\n",
        "            encoder_extended_attention_mask = self.invert_attention_mask(encoder_attention_mask)\n",
        "        else:\n",
        "            encoder_extended_attention_mask = None\n",
        "\n",
        "        # Prepare head mask if needed\n",
        "        head_mask = self.get_head_mask(head_mask, self.config.num_layers)\n",
        "        present_key_value_states = ()\n",
        "        all_hidden_states = ()\n",
        "        all_attentions = ()\n",
        "        position_bias = None\n",
        "        encoder_decoder_position_bias = None\n",
        "\n",
        "        hidden_states = self.dropout(inputs_embeds)\n",
        "\n",
        "        for i, (layer_module, past_key_value_state) in enumerate(zip(self.block, past_key_value_states)):\n",
        "            if output_hidden_states:\n",
        "                all_hidden_states = all_hidden_states + (hidden_states,)\n",
        "\n",
        "            layer_outputs = layer_module(\n",
        "                hidden_states,\n",
        "                gates = gates,\n",
        "                attention_mask=extended_attention_mask,\n",
        "                position_bias=position_bias,\n",
        "                encoder_hidden_states=encoder_hidden_states,\n",
        "                encoder_attention_mask=encoder_extended_attention_mask,\n",
        "                encoder_decoder_position_bias=encoder_decoder_position_bias,\n",
        "                head_mask=head_mask[i],\n",
        "                past_key_value_state=past_key_value_state,\n",
        "                use_cache=use_cache,\n",
        "                output_attentions=output_attentions,\n",
        "                speed_up = speed_up,\n",
        "            )\n",
        "            # layer_outputs is a tuple with:\n",
        "            # hidden-states, key-value-states, (self-attention weights), (self-attention position bias), (cross-attention weights), (cross-attention position bias)\n",
        "            hidden_states, present_key_value_state = layer_outputs[:2]\n",
        "\n",
        "            if i == 0:\n",
        "                # We share the position biases between the layers - the first layer store them\n",
        "                # layer_outputs = hidden-states, key-value-states (self-attention weights), (self-attention position bias), (cross-attention weights), (cross-attention position bias)\n",
        "                position_bias = layer_outputs[3 if output_attentions else 2]\n",
        "                if self.config.is_decoder and encoder_hidden_states is not None:\n",
        "                    encoder_decoder_position_bias = layer_outputs[5 if output_attentions else 3]\n",
        "            # append next layer key value states\n",
        "            present_key_value_states = present_key_value_states + (present_key_value_state,)\n",
        "\n",
        "            if output_attentions:\n",
        "                all_attentions = all_attentions + (layer_outputs[2],)  # We keep only self-attention weights for now\n",
        "\n",
        "        hidden_states = self.final_layer_norm(hidden_states)\n",
        "        hidden_states = self.dropout(hidden_states)\n",
        "\n",
        "        # Add last layer\n",
        "        if output_hidden_states:\n",
        "            all_hidden_states = all_hidden_states + (hidden_states,)\n",
        "\n",
        "        outputs = (hidden_states,)\n",
        "        if use_cache is True:\n",
        "            assert self.config.is_decoder, \"`use_cache` can only be set to `True` if {} is used as a decoder\".format(self)\n",
        "            outputs = outputs + (present_key_value_states,)\n",
        "        if output_hidden_states:\n",
        "            outputs = outputs + (all_hidden_states,)\n",
        "        if output_attentions:\n",
        "            outputs = outputs + (all_attentions,)\n",
        "        return outputs  # last-layer hidden state, (presents,) (all hidden states), (all attentions)"
      ],
      "execution_count": null,
      "outputs": []
    },
    {
      "cell_type": "code",
      "metadata": {
        "id": "y9dx6rCzKHN4"
      },
      "source": [
        "class T5ForGenerationWithGate(T5ForConditionalGeneration):\n",
        "\n",
        "    def __init__(self, config, t5model):\n",
        "        super().__init__(config)\n",
        "\n",
        "        encoder_config = copy.deepcopy(t5model.encoder.config)\n",
        "        encoder_config.is_decoder = False   \n",
        "        encoder_config.use_cache = False \n",
        "\n",
        "        self.encoder = EncoderStack(encoder_config, embed_tokens=self.shared)\n",
        "\n",
        "        self.decoder_config = copy.deepcopy(t5model.decoder.config)\n",
        "        self.decoder_config.is_decoder = True\n",
        "        self.config = config\n",
        "        self.decoder = GatedT5Stack(self.decoder_config, t5model, embed_tokens=self.shared)\n",
        "\n",
        "    def forward(self,\n",
        "        input_ids=None,\n",
        "        attention_mask=None,\n",
        "        encoder_outputs=None,\n",
        "        decoder_input_ids=None,\n",
        "        decoder_attention_mask=None,\n",
        "        decoder_past_key_value_states=None,\n",
        "        use_cache=True,\n",
        "        labels=None,\n",
        "        inputs_embeds=None,\n",
        "        decoder_inputs_embeds=None,\n",
        "        head_mask=None,\n",
        "        output_attentions=None,\n",
        "        output_hidden_states=None,\n",
        "        lambd = 0.0,\n",
        "        speed_up = False,\n",
        "        **kwargs\n",
        "    ):\n",
        "\n",
        "        if \"lm_labels\" in kwargs:\n",
        "            warnings.warn(\n",
        "                \"The `lm_labels` argument is deprecated and will be removed in a future version, use `labels` instead.\",\n",
        "                DeprecationWarning,\n",
        "            )\n",
        "            labels = kwargs.pop(\"lm_labels\")\n",
        "        assert kwargs == {}, f\"Unexpected keyword arguments: {list(kwargs.keys())}.\"\n",
        "\n",
        "        use_cache = use_cache if use_cache is not None else self.config.use_cache\n",
        "\n",
        "        # Encode if needed (training, first prediction pass)\n",
        "        if encoder_outputs is None:\n",
        "            # Convert encoder inputs in embeddings if needed\n",
        "            encoder_outputs = self.encoder(\n",
        "                input_ids=input_ids,\n",
        "                attention_mask=attention_mask,\n",
        "                inputs_embeds=inputs_embeds,\n",
        "                head_mask=head_mask,\n",
        "                output_attentions=output_attentions,\n",
        "                output_hidden_states=output_hidden_states,\n",
        "            )\n",
        "\n",
        "        # Getting the last hidden states and the gates\n",
        "\n",
        "        hidden_states = encoder_outputs[0]\n",
        "        gates = encoder_outputs[-1]\n",
        "\n",
        "\n",
        "        if labels is not None and decoder_input_ids is None and decoder_inputs_embeds is None:\n",
        "            # get decoder inputs from shifting lm labels to the right\n",
        "            decoder_input_ids = self._shift_right(labels)\n",
        "\n",
        "        # If decoding with past key value states, only the last tokens\n",
        "        # should be given as an input\n",
        "        if decoder_past_key_value_states is not None:\n",
        "            assert labels is None, \"Decoder should not use cached key value states when training.\"\n",
        "            if decoder_input_ids is not None:\n",
        "                decoder_input_ids = decoder_input_ids[:, -1:]\n",
        "            if decoder_inputs_embeds is not None:\n",
        "                decoder_inputs_embeds = decoder_inputs_embeds[:, -1:]\n",
        "\n",
        "\n",
        "        if not self.training:\n",
        "            if speed_up is True:\n",
        "                \n",
        "                gates = self.extract_for_test(gates, attention_mask)\n",
        "                tokens_info = self.get_droped_tot_num_encodings(gates, attention_mask)\n",
        "                extracted_gates = gates[0]\n",
        "                gate_mask = gates[1]\n",
        "                hidden_states, extracted_gates, gate_mask, enc_ids = self.compute_for_speedup(extracted_gates, gate_mask, hidden_states)\n",
        "                encoder_outputs = (hidden_states,) + encoder_outputs[1:] \n",
        "                encoder_outputs = encoder_outputs[:-1] + (tokens_info,) + (extracted_gates,) # Add tokens summaries and extracted gates\n",
        "                gates = (extracted_gates,) + (gate_mask,) + (enc_ids,) + (gates[-1],)\n",
        "                \n",
        "            else:\n",
        "                gates = self.extract_for_test(gates, attention_mask)\n",
        "                tokens_info = self.get_droped_tot_num_encodings(gates, attention_mask)\n",
        "                extracted_gates = gates[0]\n",
        "                encoder_outputs = encoder_outputs[:-1] + (tokens_info,) + (extracted_gates,) # Add tokens summaries and extracted gates\n",
        "                \n",
        "\n",
        "        # Decode\n",
        "        decoder_outputs = self.decoder(\n",
        "            gates = gates,\n",
        "            input_ids=decoder_input_ids,\n",
        "            attention_mask=decoder_attention_mask,\n",
        "            inputs_embeds=decoder_inputs_embeds,\n",
        "            past_key_value_states=decoder_past_key_value_states,\n",
        "            encoder_hidden_states=hidden_states,\n",
        "            encoder_attention_mask=attention_mask,\n",
        "            head_mask=head_mask,\n",
        "            use_cache=use_cache,\n",
        "            output_attentions=output_attentions,\n",
        "            output_hidden_states=output_hidden_states,\n",
        "            speed_up = speed_up,\n",
        "        )\n",
        "\n",
        "        # insert decoder past at right place\n",
        "        # to speed up decoding\n",
        "        if use_cache is True:\n",
        "            past = ((encoder_outputs, decoder_outputs[1]),)\n",
        "            decoder_outputs = decoder_outputs[:1] + past + decoder_outputs[2:]\n",
        "\n",
        "        sequence_output = decoder_outputs[0]\n",
        "\n",
        "        # print('\\ndecoder hidden nan', torch.sum(torch.isnan(sequence_output)))\n",
        "\n",
        "        # Rescale output before projecting on vocab\n",
        "        # See https://github.com/tensorflow/mesh/blob/fa19d69eafc9a482aff0b59ddd96b025c0cb207d/mesh_tensorflow/transformer/transformer.py#L586\n",
        "        sequence_output = sequence_output * (self.model_dim ** -0.5)\n",
        "        lm_logits = self.lm_head(sequence_output)\n",
        "\n",
        "        decoder_outputs = (lm_logits,) + decoder_outputs[1:]  # Add hidden states and attention if they are here\n",
        "        if labels is not None:\n",
        "            loss_fct = nn.CrossEntropyLoss(ignore_index=-100)\n",
        "            loss = loss_fct(lm_logits.view(-1, lm_logits.size(-1)), labels.view(-1))\n",
        "\n",
        "            # get extracted gates if want to\n",
        "            if not self.training:\n",
        "                gates = gates[0]              \n",
        "\n",
        "            loss_gate = torch.sum(gates.squeeze(-1))/(gates.shape[0]*gates.shape[1]*gates.shape[2])\n",
        "\n",
        "            # print('loss_gate', loss_gate)\n",
        "\n",
        "            Loss = loss + loss_gate * lambd\n",
        "\n",
        "            # TODO(thom): Add z_loss https://github.com/tensorflow/mesh/blob/fa19d69eafc9a482aff0b59ddd96b025c0cb207d/mesh_tensorflow/layers.py#L666\n",
        "            decoder_outputs = (Loss,) + decoder_outputs\n",
        "\n",
        "        return decoder_outputs + encoder_outputs\n",
        "\n",
        "    def extract_for_test(self, gates, source_mask):\n",
        "\n",
        "        # thresholding gates values\n",
        "        gate_indices = gates > self.config.threshold \n",
        "        # Creating gate mask\n",
        "        gate_mask = gate_indices * 1 \n",
        "        source_mask = source_mask.unsqueeze(1)\n",
        "        gate_mask = gate_mask.squeeze(-1)\n",
        "        gate_mask = gate_mask * source_mask\n",
        "        gate_mask = gate_mask.unsqueeze(-1)\n",
        "        # getting extracted valid values of gates and last hidden states\n",
        "        extracted_gates = gate_mask * gates\n",
        "\n",
        "        return extracted_gates, gate_mask, gates\n",
        "    \n",
        "    def get_droped_tot_num_encodings(self, gtes, source_mask=None):\n",
        "        \n",
        "        extracted_gates, gate_mask, gates = gtes \n",
        "\n",
        "        if source_mask is not None:\n",
        "\n",
        "            total_tokens = torch.sum(source_mask)\n",
        "            source_mask = source_mask.unsqueeze(1)\n",
        "            gate_mask = gate_mask.squeeze(-1)\n",
        "            number_of_nonzeros_gates = torch.sum(gate_mask*source_mask)\n",
        "            droped_number = total_tokens - number_of_nonzeros_gates\n",
        "\n",
        "        else:\n",
        "            number_of_nonzeros_gates = torch.sum(gate_mask)\n",
        "            total_tokens = torch.sum((gates >= 1e-18) * 1) \n",
        "            droped_number = total_tokens - number_of_nonzeros_gates\n",
        "\n",
        "        return droped_number, number_of_nonzeros_gates, total_tokens\n",
        "    \n",
        "    def compute_for_speedup(self, gates, gate_mask, encoder_output):\n",
        "        \n",
        "\n",
        "        gbs = gates.shape[0]\n",
        "        ebs = encoder_output.shape[0]\n",
        "        gates = gates.squeeze(1)\n",
        "        gate_mask = gate_mask.squeeze(1)\n",
        "\n",
        "        assert (gbs,ebs) == (1,1), \"Expected 1 batchsize for gates and encoder output but got {}\".format(gbs)\n",
        "        idx = torch.nonzero(gates, as_tuple=True)\n",
        "        \n",
        "        #catch for nothing to drop\n",
        "        if len(idx[1]) > 0:\n",
        "            sliced_enc = encoder_output[:,idx[1],:]\n",
        "            sliced_gates = gates[:,idx[1],:].unsqueeze(1)\n",
        "            sliced_mask = gate_mask[:,idx[1],:].unsqueeze(1)\n",
        "            indices = idx[1]\n",
        "        else:\n",
        "            sliced_enc = encoder_output\n",
        "            sliced_gates = gates.unsqueeze(1)\n",
        "            sliced_mask  = gate_mask.unsqueeze(1)\n",
        "            indices = None            \n",
        "\n",
        "        return sliced_enc, sliced_gates, sliced_mask, indices\n",
        "    "
      ],
      "execution_count": null,
      "outputs": []
    },
    {
      "cell_type": "code",
      "metadata": {
        "id": "lXqz5NINKHN4"
      },
      "source": [
        "t5config = t5model.config\n",
        "t5config.reg = 0.2\n",
        "t5config.threshold = -1.0\n",
        "\n",
        "torch.save(t5model.state_dict(),\"pretrained.pth\")"
      ],
      "execution_count": null,
      "outputs": []
    },
    {
      "cell_type": "code",
      "metadata": {
        "id": "RAYuiyKAKHN4"
      },
      "source": [
        "layers_to_replace=[]\n",
        "for block in t5model.decoder.block:\n",
        "  layers_to_replace.append(block)\n",
        "for idx,block in enumerate(layers_to_replace):\n",
        "\n",
        "  # Attention\n",
        "  EncoderDecodBlock = t5model.decoder.block[idx]\n",
        "  block.layer[1].EncDecAttention = T5GatedAtention(t5config)\n",
        "\n",
        "  # CrossAttention\n",
        "  if idx == 0:\n",
        "    block.layer[1] = T5LayerGatedCrossAttention(t5config, has_relative_attention_bias=True)\n",
        "  else:\n",
        "    block.layer[1] = T5LayerGatedCrossAttention(t5config, has_relative_attention_bias=False)\n",
        "\n",
        "\n",
        "# Define Decoder\n",
        "t5model.decoder = GatedT5Stack(t5config, t5model)"
      ],
      "execution_count": null,
      "outputs": []
    },
    {
      "cell_type": "code",
      "metadata": {
        "id": "RMm1zs81KHN4"
      },
      "source": [
        "set_seed()\n",
        "model = T5ForGenerationWithGate(t5config, t5model)"
      ],
      "execution_count": null,
      "outputs": []
    },
    {
      "cell_type": "code",
      "metadata": {
        "colab": {
          "base_uri": "https://localhost:8080/"
        },
        "id": "YmOyHfJdKHN4",
        "outputId": "3383ff78-981a-423b-fef3-50216a9bff3b"
      },
      "source": [
        "state_dict = torch.load(\"pretrained.pth\")\n",
        "state_dict[\"encoder.gatefilter.projector.weight\"] = model.encoder.gatefilter.projector.weight\n",
        "state_dict[\"encoder.gatefilter.projector.weight\"].data.shape "
      ],
      "execution_count": null,
      "outputs": [
        {
          "output_type": "execute_result",
          "data": {
            "text/plain": [
              "torch.Size([1, 768])"
            ]
          },
          "metadata": {
            "tags": []
          },
          "execution_count": 44
        }
      ]
    },
    {
      "cell_type": "code",
      "metadata": {
        "colab": {
          "base_uri": "https://localhost:8080/"
        },
        "id": "WEEm9-yvKHN5",
        "outputId": "9d858b5b-2cdf-4dc6-a130-bbbfdabe5612"
      },
      "source": [
        "model.load_state_dict(state_dict)"
      ],
      "execution_count": null,
      "outputs": [
        {
          "output_type": "execute_result",
          "data": {
            "text/plain": [
              "<All keys matched successfully>"
            ]
          },
          "metadata": {
            "tags": []
          },
          "execution_count": 45
        }
      ]
    },
    {
      "cell_type": "code",
      "metadata": {
        "id": "n97QsOoCZ0v8"
      },
      "source": [
        "def get_dataloader(X, BATCH_SIZE,valid=None, **kwargs):\n",
        "\n",
        "    if valid == 'valid':\n",
        "        val_params = {\n",
        "            'batch_size': BATCH_SIZE,\n",
        "            'shuffle': False,\n",
        "            'num_workers': 2\n",
        "            }\n",
        "        data_set = CustomDataReader(X, tokenizer,**kwargs)\n",
        "        data_loader = DataLoader(data_set, **val_params)\n",
        "        \n",
        "    else:\n",
        "        data_set = CustomDataReader(X, tokenizer,**kwargs)     \n",
        "        train_params = {\n",
        "            'batch_size': BATCH_SIZE,\n",
        "            'shuffle': True,\n",
        "            'num_workers': 2\n",
        "            }\n",
        "        data_loader = DataLoader(data_set, **train_params)\n",
        "    \n",
        "    return data_loader"
      ],
      "execution_count": null,
      "outputs": []
    },
    {
      "cell_type": "code",
      "metadata": {
        "id": "Gl3VG_0RKHN5"
      },
      "source": [
        "import time\n",
        "\n",
        "def generate_time(start_time, end_time):\n",
        "    elapsed_time = end_time - start_time\n",
        "    elapsed_mins = int(elapsed_time / 60)\n",
        "    elapsed_secs = int(elapsed_time - (elapsed_mins * 60))\n",
        "    return elapsed_mins, elapsed_secs    "
      ],
      "execution_count": null,
      "outputs": []
    },
    {
      "cell_type": "code",
      "metadata": {
        "id": "sGaGMwWLzfVE"
      },
      "source": [
        "def load_pretrained_weights(model, optimizer, PATH, pretrained: Optional[bool]=False):\n",
        "\n",
        "    if pretrained:\n",
        "        checkpoint = torch.load(PATH)\n",
        "        model.load_state_dict(checkpoint['model_state_dict'])\n",
        "        optimizer.load_state_dict(checkpoint['optimizer_state_dict'])\n",
        "        #LEARNING_RATE = checkpoint['learning_rate']"
      ],
      "execution_count": null,
      "outputs": []
    },
    {
      "cell_type": "code",
      "metadata": {
        "id": "csfO3UdlJtEf"
      },
      "source": [
        "def run(model,\n",
        "        X_train, X_valid, \n",
        "        weights_dir=None,filename=None,\n",
        "        eps_aneal = False, pretrained=False,\n",
        "        lr= LEARNING_RATE):\n",
        "\n",
        "    # WandB – Initialize a new run\n",
        "    wandb.init(entity=\"jp-ishimwe\", project=\"final-summarization-model\")\n",
        "    \n",
        "#     wandb.init(entity=\"jp-ishimwe\", project=\"test-summaries\") \n",
        "#     wandb.init(entity=\"jp-ishimwe\", project=\"document-summarization-test\")\n",
        "#     wandb.init(entity=\"jp-ishimwe\", project=\"document-summarization-using-transformer\")\n",
        " \n",
        "    config = wandb.config          \n",
        "    config.BATCH_SIZE = 4\n",
        "    config.EVAL_BATCH_SIZE = 10\n",
        "    config.N_EPOCHS = 2 \n",
        "    config.LEARNING_RATE = lr\n",
        "    config.SEED = 123               \n",
        "    config.art_maxlen = art\n",
        "    config.summary_maxlen = sum_\n",
        "    config.Valid_art_maxlen = artV\n",
        "    config.Valid_summary_maxlen = sumV\n",
        "    config.log_interval = 500     # how many batches to wait before logging training status\n",
        "    config.reg = 0.2\n",
        "\n",
        "    set_seed()\n",
        "    \n",
        "    kwargs = {'max_article_tokens': config.art_maxlen,\n",
        "                'max_summary_tokens': config.summary_maxlen\n",
        "             }\n",
        "    \n",
        "    kwargsval = {'max_article_tokens': config.Valid_art_maxlen,\n",
        "                'max_summary_tokens': config.Valid_summary_maxlen\n",
        "             }\n",
        "    \n",
        "    \n",
        "    train_loader = get_dataloader(X_train, config.BATCH_SIZE,valid=None, **kwargs)\n",
        "    val_loader  = get_dataloader(X_valid, config.EVAL_BATCH_SIZE,valid='valid', **kwargsval)\n",
        "    \n",
        "    train_loss = []\n",
        "    val_loss = []\n",
        "    perplexity = []\n",
        "    \n",
        "    model = model.to(device)\n",
        "    params = {'params': model.parameters()}\n",
        "    optimizer = optim.Adam([params], lr=config.LEARNING_RATE)\n",
        "    scheduler = ReduceLROnPlateau(optimizer, factor=0.5, patience=0)\n",
        "    \n",
        "    if pretrained:\n",
        "        if wandb.run:\n",
        "            print('Here we go!!!!!!1')\n",
        "            weights_dir = \"jp-ishimwe/final-summarization-model/1830kjci\" #$ENTITY_NAME/$PROJECT_NAME/$RUN_ID'  or '$PROJECT_NAME/$RUN_ID'\n",
        "            checkpoints = wandb.restore('final_model_0.2.pth', run_path=weights_dir)\n",
        "        else:\n",
        "            print('From Here!')\n",
        "            if weights_dir is not None:\n",
        "                checkpoints = os.path.join(weights_dir, \"final_model_0.2.pth\")\n",
        "            else:\n",
        "                raise ValueError('No weights path specified')\n",
        "            \n",
        "        if os.path.exists(checkpoints):\n",
        "            load_pretrained_weights(model, optimizer, checkpoints, pretrained=pretrained)\n",
        "        else:\n",
        "            raise NameError(\"The specified weight path does not exist\")\n",
        "            \n",
        "\n",
        "    if eps_aneal:\n",
        "        maxiter = config.N_EPOCHS*(len(train_loader.dataset)//config.BATCH_SIZE)\n",
        "        eps_sched = 1e-8 + 0.5-0.5*np.cos(np.linspace(0, np.pi, maxiter))\n",
        "        batchs = config.BATCH_SIZE\n",
        "    else:\n",
        "        eps_sched = None\n",
        "        batchs = None\n",
        "    \n",
        "    wandb.watch(model, log=\"all\")\n",
        "\n",
        "    for epoch in range(config.N_EPOCHS):\n",
        "        \n",
        "        start_time = time.time()\n",
        "        \n",
        "        avg_loss, outputs = training(model, train_loader, optimizer, config.log_interval,regularizer=config.reg, eps_sched=eps_sched, batchs=batchs,epoch=epoch)\n",
        "        \n",
        "        print('\\nValidation start:')\n",
        "        eval_loss, tokens_info = validation(model, val_loader, regularizer=config.reg)\n",
        "         \n",
        "        pp = get_perplexity(eval_loss)\n",
        "\n",
        "        perplexity.append(pp)\n",
        "        train_loss.append(avg_loss)\n",
        "        val_loss.append(eval_loss)\n",
        "        scheduler.step(eval_loss)\n",
        "\n",
        "\n",
        "        print(f'Epoch loss: {avg_loss:.4f}')\n",
        "        print(f'Perplexity: {pp:.4f} | Eval loss: {eval_loss:.4f}')\n",
        "        print(\"--------------\")\n",
        "\n",
        "\n",
        "        wandb.log({\n",
        "            \"Epoc Training Loss\": avg_loss,\n",
        "            \"Perplexity \": pp,\n",
        "            \"Eval Loss\": eval_loss})\n",
        "\n",
        "        # Save model to wandb\n",
        "        #date = pd.datetime.now().strftime(format='%Y-%m-%d_%H%M_')\n",
        "        PATH = os.path.join(wandb.run.dir, f'final_model_reg0.2.pth')\n",
        "        saving(PATH, epoch, optimizer, model, config.LEARNING_RATE)\n",
        "        \n",
        "        end_time = time.time()\n",
        "        \n",
        "        epoch_mins, epoch_secs = generate_time(start_time, end_time)\n",
        "        \n",
        "        \n",
        "        \n",
        "        print(f'Epoch: {epoch} | Epoch Time: {epoch_mins}m {epoch_secs}s')\n",
        "\n",
        "\n",
        "    return train_loss, perplexity, val_loss, outputs, tokens_info\n"
      ],
      "execution_count": null,
      "outputs": []
    },
    {
      "cell_type": "code",
      "metadata": {
        "colab": {
          "base_uri": "https://localhost:8080/"
        },
        "id": "SVvNRLWLMPZl",
        "outputId": "004e56d3-04e8-4547-ebb8-df0f097b1851"
      },
      "source": [
        "!wandb login fac9119080ca108ca15c420ede645a5e6e79a07c"
      ],
      "execution_count": null,
      "outputs": [
        {
          "output_type": "stream",
          "text": [
            "\u001b[34m\u001b[1mwandb\u001b[0m: Appending key for api.wandb.ai to your netrc file: /root/.netrc\n"
          ],
          "name": "stdout"
        }
      ]
    },
    {
      "cell_type": "code",
      "metadata": {
        "colab": {
          "base_uri": "https://localhost:8080/",
          "height": 491
        },
        "id": "npvqrZ9L_Ufl",
        "outputId": "5354d75b-7e9c-4220-e2ed-f5e5a45ec7dc"
      },
      "source": [
        "pretrained = False\n",
        "weights_dir = None\n",
        "\n",
        "if pretrained:\n",
        "    weights_dir = '/root/Projects'\n",
        "    train_loss, perplexity, eval_loss, outputs, tokens_info = run(model, Xtrain_trial, Xvalid_trial,lr= LEARNING_RATE,pretrained=pretrained,weights_dir=weights_dir)\n",
        "else:\n",
        "    train_loss, perplexity, eval_loss, outputs, tokens_info = run(model, Xtrain_trial, Xvalid_trial,lr= LEARNING_RATE,pretrained=pretrained,weights_dir=weights_dir)\n",
        "    "
      ],
      "execution_count": null,
      "outputs": [
        {
          "output_type": "stream",
          "text": [
            "\u001b[34m\u001b[1mwandb\u001b[0m: Currently logged in as: \u001b[33mjp-ishimwe\u001b[0m (use `wandb login --relogin` to force relogin)\n"
          ],
          "name": "stderr"
        },
        {
          "output_type": "display_data",
          "data": {
            "text/html": [
              "\n",
              "                Tracking run with wandb version 0.10.11<br/>\n",
              "                Syncing run <strong style=\"color:#cdcd00\">vague-planet-126</strong> to <a href=\"https://wandb.ai\" target=\"_blank\">Weights & Biases</a> <a href=\"https://docs.wandb.com/integrations/jupyter.html\" target=\"_blank\">(Documentation)</a>.<br/>\n",
              "                Project page: <a href=\"https://wandb.ai/jp-ishimwe/final-summarization-model\" target=\"_blank\">https://wandb.ai/jp-ishimwe/final-summarization-model</a><br/>\n",
              "                Run page: <a href=\"https://wandb.ai/jp-ishimwe/final-summarization-model/runs/3id4aoml\" target=\"_blank\">https://wandb.ai/jp-ishimwe/final-summarization-model/runs/3id4aoml</a><br/>\n",
              "                Run data is saved locally in <code>/content/wandb/run-20201130_063735-3id4aoml</code><br/><br/>\n",
              "            "
            ],
            "text/plain": [
              "<IPython.core.display.HTML object>"
            ]
          },
          "metadata": {
            "tags": []
          }
        },
        {
          "output_type": "stream",
          "text": [
            "\r  0%|          | 0/17500 [00:00<?, ?it/s]"
          ],
          "name": "stderr"
        },
        {
          "output_type": "stream",
          "text": [
            "\n",
            "Start training for epoch: 0\n"
          ],
          "name": "stdout"
        },
        {
          "output_type": "stream",
          "text": [
            "100%|██████████| 17500/17500 [3:41:06<00:00,  1.32it/s, loss=1.73]\n",
            "  0%|          | 0/600 [00:00<?, ?it/s]"
          ],
          "name": "stderr"
        },
        {
          "output_type": "stream",
          "text": [
            "\n",
            "Validation start:\n"
          ],
          "name": "stdout"
        },
        {
          "output_type": "stream",
          "text": [
            "100%|██████████| 600/600 [05:17<00:00,  1.89it/s, loss=1.5]\n",
            "  0%|          | 0/17500 [00:00<?, ?it/s]"
          ],
          "name": "stderr"
        },
        {
          "output_type": "stream",
          "text": [
            "Epoch loss: 1.7293\n",
            "Perplexity: 1.1621 | Eval loss: 0.1503\n",
            "--------------\n",
            "Epoch: 0 | Epoch Time: 226m 24s\n",
            "\n",
            "Start training for epoch: 1\n"
          ],
          "name": "stdout"
        },
        {
          "output_type": "stream",
          "text": [
            "100%|██████████| 17500/17500 [3:41:20<00:00,  1.32it/s, loss=1.51]\n",
            "  0%|          | 0/600 [00:00<?, ?it/s]"
          ],
          "name": "stderr"
        },
        {
          "output_type": "stream",
          "text": [
            "\n",
            "Validation start:\n"
          ],
          "name": "stdout"
        },
        {
          "output_type": "stream",
          "text": [
            "100%|██████████| 600/600 [05:18<00:00,  1.88it/s, loss=1.49]\n"
          ],
          "name": "stderr"
        },
        {
          "output_type": "stream",
          "text": [
            "Epoch loss: 1.5145\n",
            "Perplexity: 1.1609 | Eval loss: 0.1492\n",
            "--------------\n",
            "Epoch: 1 | Epoch Time: 226m 39s\n"
          ],
          "name": "stdout"
        }
      ]
    },
    {
      "cell_type": "markdown",
      "metadata": {
        "id": "8f73xAw851LK"
      },
      "source": [
        "\n",
        "\n",
        "```\n",
        "function ConnectButton(){\n",
        "    console.log(\"Connect pushed\"); \n",
        "    document.querySelector(\"#top-toolbar > colab-connect-button\").shadowRoot.querySelector(\"#connect\").click() \n",
        "}\n",
        "setInterval(ConnectButton,60000);\n",
        "```\n",
        "\n"
      ]
    },
    {
      "cell_type": "markdown",
      "metadata": {
        "id": "pv-onoavKHN5"
      },
      "source": [
        "Evaluating the gate distributions"
      ]
    },
    {
      "cell_type": "code",
      "metadata": {
        "colab": {
          "base_uri": "https://localhost:8080/"
        },
        "id": "ae-RQHgHKHN5",
        "outputId": "48a8ea07-cd68-4b04-b6cc-e83655c14d03"
      },
      "source": [
        "outputs[-1].shape"
      ],
      "execution_count": null,
      "outputs": [
        {
          "output_type": "execute_result",
          "data": {
            "text/plain": [
              "torch.Size([4, 1, 700, 1])"
            ]
          },
          "metadata": {
            "tags": []
          },
          "execution_count": 55
        }
      ]
    },
    {
      "cell_type": "code",
      "metadata": {
        "id": "8kgErvU9KHN5"
      },
      "source": [
        "gates = outputs[-1].squeeze(1).squeeze(-1) "
      ],
      "execution_count": null,
      "outputs": []
    },
    {
      "cell_type": "code",
      "metadata": {
        "id": "kBV03KHigySy"
      },
      "source": [
        "#gates[0]"
      ],
      "execution_count": null,
      "outputs": []
    },
    {
      "cell_type": "code",
      "metadata": {
        "colab": {
          "base_uri": "https://localhost:8080/"
        },
        "id": "ZSkli9R7KHN5",
        "outputId": "3d5020d7-55c0-43ae-a27b-ac2100d67b90"
      },
      "source": [
        "gates.mean(dim=-1,keepdim=True)"
      ],
      "execution_count": null,
      "outputs": [
        {
          "output_type": "execute_result",
          "data": {
            "text/plain": [
              "tensor([[0.0088],\n",
              "        [0.0097],\n",
              "        [0.0046],\n",
              "        [0.0109]], device='cuda:0', grad_fn=<MeanBackward1>)"
            ]
          },
          "metadata": {
            "tags": []
          },
          "execution_count": 58
        }
      ]
    },
    {
      "cell_type": "code",
      "metadata": {
        "colab": {
          "base_uri": "https://localhost:8080/"
        },
        "id": "bs4OmGEJKHN5",
        "outputId": "663eb6f1-4c07-4d23-c581-ee4701059a27"
      },
      "source": [
        "values, _ = gates.max(dim=-1,keepdim=True)\n",
        "values"
      ],
      "execution_count": null,
      "outputs": [
        {
          "output_type": "execute_result",
          "data": {
            "text/plain": [
              "tensor([[0.4176],\n",
              "        [0.3570],\n",
              "        [0.3600],\n",
              "        [0.4341]], device='cuda:0', grad_fn=<MaxBackward0>)"
            ]
          },
          "metadata": {
            "tags": []
          },
          "execution_count": 59
        }
      ]
    },
    {
      "cell_type": "code",
      "metadata": {
        "colab": {
          "base_uri": "https://localhost:8080/"
        },
        "id": "MuSCfnuTKHN5",
        "outputId": "682366d7-155d-427d-b15a-935d6dfedbcb"
      },
      "source": [
        "vals, _ = gates.min(dim=-1, keepdim=True)\n",
        "vals"
      ],
      "execution_count": null,
      "outputs": [
        {
          "output_type": "execute_result",
          "data": {
            "text/plain": [
              "tensor([[3.1741e-06],\n",
              "        [3.6060e-05],\n",
              "        [2.5746e-06],\n",
              "        [1.2864e-04]], device='cuda:0', grad_fn=<MinBackward0>)"
            ]
          },
          "metadata": {
            "tags": []
          },
          "execution_count": 60
        }
      ]
    },
    {
      "cell_type": "code",
      "metadata": {
        "colab": {
          "base_uri": "https://localhost:8080/",
          "height": 281
        },
        "id": "jmJ94Ryul0vR",
        "outputId": "a512686f-51e1-4576-addc-f985bf0368f3"
      },
      "source": [
        "import matplotlib.pyplot as plt\n",
        "\n",
        "tr_los = np.array(train_loss)\n",
        "ev_los = np.array(eval_loss)\n",
        "per = np.array(perplexity)\n",
        "\n",
        "plt.plot(tr_los, label='Training loss')\n",
        "plt.plot(ev_los, label='Validation loss')\n",
        "plt.plot(per, label='Perplexity on val data')\n",
        "\n",
        "plt.legend(frameon=False)\n",
        "plt.title('Train loss vs Eval loss and Perplexity')\n",
        "plt.show()"
      ],
      "execution_count": null,
      "outputs": [
        {
          "output_type": "display_data",
          "data": {
            "image/png": "[encoded data removed]",
            "text/plain": [
              "<Figure size 432x288 with 1 Axes>"
            ]
          },
          "metadata": {
            "tags": [],
            "needs_background": "light"
          }
        }
      ]
    },
    {
      "cell_type": "code",
      "metadata": {
        "id": "jsxZGr_bz0cv"
      },
      "source": [
        "def generator(model, dataset_loader):\n",
        "  \n",
        "  model.eval()\n",
        "\n",
        "  results = {\"generated_summary\": [], \"golden_summary\": []}\n",
        "\n",
        "  with torch.no_grad():\n",
        "\n",
        "    for idx, data_val in tqdm(enumerate(dataset_loader)):\n",
        "      \n",
        "      input_ids, source_mask, summary_ids, summary_mask = data_val \n",
        "      \n",
        "      input_ids = input_ids.to(device, dtype = torch.long)\n",
        "      source_mask = source_mask.to(device, dtype = torch.float)\n",
        "      summary_ids = summary_ids.to(device, dtype = torch.long)\n",
        "\n",
        "      generatation = model.generate(input_ids=input_ids,\n",
        "                                    attention_mask=source_mask, \n",
        "                                    min_length=30, \n",
        "                                    max_length=300, \n",
        "                                    num_beams=1,\n",
        "                                    repetition_penalty=2.5,\n",
        "                                    eos_token_id = model.decoder.config.eos_token_id,               \n",
        "                                    length_penalty=1.0, \n",
        "                                    early_stopping=True\n",
        "                                    )\n",
        "\n",
        "      for gen, sc in zip(generatation, summary_ids): # Taking whole document IDs and docode the summary\n",
        "\n",
        "        gen_tokens_dec = tokenizer.decode(gen, skip_special_tokens=True, clean_up_tokenization_spaces=True)\n",
        "        sc_tokens_dec = tokenizer.decode(sc, skip_special_tokens=True, clean_up_tokenization_spaces=True)\n",
        "\n",
        "        results[\"generated_summary\"].append(gen_tokens_dec)\n",
        "        results[\"golden_summary\"].append(sc_tokens_dec)\n",
        "\n",
        "  return results\n"
      ],
      "execution_count": null,
      "outputs": []
    },
    {
      "cell_type": "code",
      "metadata": {
        "id": "noaHr-QvKHN6"
      },
      "source": [
        "def get_score(summaries) -> Dict:  \n",
        "    \n",
        "    src_labels = summaries['golden_summary']\n",
        "    gen_summary = summaries['generated_summary']\n",
        "    \n",
        "    scorer = rouge_scorer.RougeScorer(['rouge1','rouge2','rougeL'], use_stemmer=True)\n",
        "    aggregator = scoring.BootstrapAggregator()\n",
        "    \n",
        "    for src, gent in zip(src_labels, gen_summary):\n",
        "        scores = scorer.score(gent, src)\n",
        "        aggregator.add_scores(scores)\n",
        "        \n",
        "    results = aggregator.aggregate()\n",
        "    return {key: val.mid.fmeasure for key, val in results.items()}"
      ],
      "execution_count": null,
      "outputs": []
    },
    {
      "cell_type": "code",
      "metadata": {
        "id": "ngnzb10zKHN6"
      },
      "source": [
        "import math as m\n",
        "\n",
        "n = 8\n",
        "\n",
        "thresholds = []\n",
        "for i in range(n):\n",
        "    if i <= 2:\n",
        "        if i!=2:\n",
        "            thresholds.append(0.02 * i)\n",
        "        else:\n",
        "            nb11 = (0.02 * i) + m.exp(np.log(0.02 * i))/10\n",
        "            nb22 = (0.02 * i) + m.exp(np.log(0.02 * i))/10 *i\n",
        "            thresholds.append(0.02 * i)\n",
        "            thresholds.append(nb11)\n",
        "            thresholds.append(nb22)\n",
        "            \n",
        "        \n",
        "    else:\n",
        "        nb1 = (0.02 * i) + m.exp(np.log(0.02 * i))/10\n",
        "        nb2 = (0.02 * i) + m.exp(np.log(0.02 * i))/10 *i\n",
        "        thresholds.append(0.02 * i)\n",
        "        thresholds.append(nb1)\n",
        "        thresholds.append(nb2)\n",
        "\n",
        "# [0.02 * i if i < 3 else (0.02 * i) + m.exp(np.log(0.02 * i))/10  for i in range(n)] #+ [0.1 * (i+1) for i in range(n)]\n",
        "\n",
        "def get_scores_experiment(my_model, val_loader, config, thresholds: List):\n",
        "        \n",
        "    score_dict = {}\n",
        "    result_dict = {}\n",
        "    valid_tokens_info_dict = {}\n",
        "        \n",
        "    for threshold in thresholds:\n",
        "        \n",
        "        config.threshold = threshold\n",
        "        start_time = time.time()\n",
        "        \n",
        "        _results = generator(my_model, val_loader)\n",
        "        score_ = get_score(_results)\n",
        "        _, tokens_info = validation(my_model, val_loader, regularizer=config.reg,token_summaries=True )\n",
        "        score_dict[\"scores_on_threshold_\"+str(threshold)] = score_\n",
        "        result_dict[\"results_wth_threshold_\"+str(threshold)] = _results\n",
        "        valid_tokens_info_dict[\"tonkens_wth_threshold_\"+str(threshold)] = tokens_info\n",
        "        \n",
        "        end_time = time.time()\n",
        "        thr_mins, thr_secs = generate_time(start_time, end_time)\n",
        "        \n",
        "        print(f'Threshold: {threshold} | Threshold Time: {thr_mins}m {thr_secs}s')\n",
        "\n",
        "    print(\"End Experiments !!!\")\n",
        "\n",
        "    return score_dict, result_dict, valid_tokens_info_dict\n",
        "        "
      ],
      "execution_count": null,
      "outputs": []
    },
    {
      "cell_type": "markdown",
      "metadata": {
        "id": "MwTbUyKag_8R"
      },
      "source": [
        "#### Loading Saved Model"
      ]
    },
    {
      "cell_type": "code",
      "metadata": {
        "id": "tTLrSSGio-c-"
      },
      "source": [
        "load_weights = True\n",
        "\n",
        "if load_weights: \n",
        "    \n",
        "    model = model.to(device) # first initialize the model and optimizer\n",
        "    params = {'params': model.parameters()}\n",
        "    optimizer = optim.Adam([params], lr=LEARNING_RATE) # optimizer then,\n",
        "    if wandb.run:\n",
        "        print('>>>>>> Here we Go !')\n",
        "        PATH = os.path.join(wandb.run.dir, 'final_model_0.04.pth')\n",
        "    else:\n",
        "        PATH = os.path.join('.', 'final_model_reg0.4.pth')\n",
        "    \n",
        "    load_pretrained_weights(model, optimizer, PATH, pretrained=load_weights)"
      ],
      "execution_count": null,
      "outputs": []
    },
    {
      "cell_type": "code",
      "metadata": {
        "id": "6gN916sFKHN6"
      },
      "source": [
        "!ls /root/Projects\n"
      ],
      "execution_count": null,
      "outputs": []
    },
    {
      "cell_type": "code",
      "metadata": {
        "id": "KfiQzkUCKHN6"
      },
      "source": [
        "ivind = valind[5000:6000]\n",
        "\n",
        "Xx_trial = X_valid.iloc[ivind]\n",
        "\n",
        "val_sample_trial = Xx_trial.reset_index(drop=True)\n",
        "\n",
        "argsval = {'max_article_tokens': 700,\n",
        "                'max_summary_tokens': 250\n",
        "             }\n",
        "    \n",
        "val_loader  = get_dataloader(val_sample_trial, 8,valid='valid', **argsval)\n",
        "#test_loader  = get_dataloader(Xtest_trial, 8,valid='valid', **argsval)"
      ],
      "execution_count": null,
      "outputs": []
    },
    {
      "cell_type": "code",
      "metadata": {
        "colab": {
          "base_uri": "https://localhost:8080/"
        },
        "id": "GRJA25MZKHN6",
        "outputId": "568d772a-1d2d-4cc9-841e-e6715af75e13"
      },
      "source": [
        "threshold = [-1.0,0.01,0.02,0.04]\n",
        "score_dict, result_dict, valid_tokens_info_dict = get_scores_experiment(model, val_loader, t5config, threshold)"
      ],
      "execution_count": null,
      "outputs": [
        {
          "output_type": "stream",
          "text": [
            "125it [09:55,  4.76s/it]\n",
            "100%|██████████| 125/125 [00:54<00:00,  2.31it/s, loss=1.5]"
          ],
          "name": "stderr"
        },
        {
          "output_type": "stream",
          "text": [
            "Threshold: -1.0 | Threshold Time: 10m 51s\n"
          ],
          "name": "stdout"
        },
        {
          "output_type": "stream",
          "text": [
            "\n",
            "125it [10:48,  5.19s/it]\n",
            "100%|██████████| 125/125 [00:54<00:00,  2.30it/s, loss=2.58]"
          ],
          "name": "stderr"
        },
        {
          "output_type": "stream",
          "text": [
            "Threshold: 0.01 | Threshold Time: 11m 44s\n"
          ],
          "name": "stdout"
        },
        {
          "output_type": "stream",
          "text": [
            "\n",
            "125it [11:47,  5.66s/it]\n",
            "100%|██████████| 125/125 [00:54<00:00,  2.30it/s, loss=3.18]"
          ],
          "name": "stderr"
        },
        {
          "output_type": "stream",
          "text": [
            "Threshold: 0.02 | Threshold Time: 12m 43s\n"
          ],
          "name": "stdout"
        },
        {
          "output_type": "stream",
          "text": [
            "\n",
            "125it [19:21,  9.29s/it]\n",
            "100%|██████████| 125/125 [00:54<00:00,  2.29it/s, loss=3.76]"
          ],
          "name": "stderr"
        },
        {
          "output_type": "stream",
          "text": [
            "Threshold: 0.04 | Threshold Time: 20m 18s\n",
            "End Experiments !!!\n"
          ],
          "name": "stdout"
        },
        {
          "output_type": "stream",
          "text": [
            "\n"
          ],
          "name": "stderr"
        }
      ]
    },
    {
      "cell_type": "code",
      "metadata": {
        "colab": {
          "base_uri": "https://localhost:8080/"
        },
        "id": "F6LcfEXxrcDc",
        "outputId": "5a3da905-b6fd-4455-d5ee-0a1c5476fabc"
      },
      "source": [
        "score_dict"
      ],
      "execution_count": null,
      "outputs": [
        {
          "output_type": "execute_result",
          "data": {
            "text/plain": [
              "{'scores_on_threshold_-1.0': {'rouge1': 0.357046802503852,\n",
              "  'rouge2': 0.21689341101750673,\n",
              "  'rougeL': 0.3119873148255845},\n",
              " 'scores_on_threshold_0.01': {'rouge1': 0.32175567276783246,\n",
              "  'rouge2': 0.1489443916041466,\n",
              "  'rougeL': 0.26277605876983945},\n",
              " 'scores_on_threshold_0.02': {'rouge1': 0.2557395517180317,\n",
              "  'rouge2': 0.07705057371601604,\n",
              "  'rougeL': 0.19129873582406368},\n",
              " 'scores_on_threshold_0.04': {'rouge1': 0.1724363996714677,\n",
              "  'rouge2': 0.024068775018283344,\n",
              "  'rougeL': 0.12564003143121788}}"
            ]
          },
          "metadata": {
            "tags": []
          },
          "execution_count": 67
        }
      ]
    },
    {
      "cell_type": "code",
      "metadata": {
        "colab": {
          "base_uri": "https://localhost:8080/"
        },
        "id": "aJcXP06ErcAu",
        "outputId": "ca44cc39-7862-4729-8c82-9509fad474f2"
      },
      "source": [
        "valid_tokens_info_dict"
      ],
      "execution_count": null,
      "outputs": [
        {
          "output_type": "execute_result",
          "data": {
            "text/plain": [
              "{'tonkens_wth_threshold_-1.0': (tensor(0., device='cuda:0'),\n",
              "  tensor(565529., device='cuda:0'),\n",
              "  tensor(565529., device='cuda:0')),\n",
              " 'tonkens_wth_threshold_0.01': (tensor(472389., device='cuda:0'),\n",
              "  tensor(93140., device='cuda:0'),\n",
              "  tensor(565529., device='cuda:0')),\n",
              " 'tonkens_wth_threshold_0.02': (tensor(524481., device='cuda:0'),\n",
              "  tensor(41048., device='cuda:0'),\n",
              "  tensor(565529., device='cuda:0')),\n",
              " 'tonkens_wth_threshold_0.04': (tensor(547605., device='cuda:0'),\n",
              "  tensor(17924., device='cuda:0'),\n",
              "  tensor(565529., device='cuda:0'))}"
            ]
          },
          "metadata": {
            "tags": []
          },
          "execution_count": 68
        }
      ]
    },
    {
      "cell_type": "code",
      "metadata": {
        "colab": {
          "base_uri": "https://localhost:8080/"
        },
        "id": "-PDHE1ZTgNr_",
        "outputId": "8b28fc19-3111-4db3-d220-83fd7c7733d3"
      },
      "source": [
        "score_dict"
      ],
      "execution_count": null,
      "outputs": [
        {
          "output_type": "execute_result",
          "data": {
            "text/plain": [
              "{'scores_on_threshold-1.0': {'rouge1': 0.5906451831620396,\n",
              "  'rouge2': 0.5011540979794559,\n",
              "  'rougeL': 0.5641540869506033},\n",
              " 'scores_on_threshold0.01': {'rouge1': 0.18549177068423076,\n",
              "  'rouge2': 0.01987912307315054,\n",
              "  'rougeL': 0.10995639131764251},\n",
              " 'scores_on_threshold0.02': {'rouge1': 0.15953620648785288,\n",
              "  'rouge2': 0.011950894955628647,\n",
              "  'rougeL': 0.09487391846344412},\n",
              " 'scores_on_threshold0.04': {'rouge1': 0.1705463415974903,\n",
              "  'rouge2': 0.011377104919420435,\n",
              "  'rougeL': 0.09747446201227974}}"
            ]
          },
          "metadata": {
            "tags": []
          },
          "execution_count": 60
        }
      ]
    },
    {
      "cell_type": "code",
      "metadata": {
        "colab": {
          "base_uri": "https://localhost:8080/"
        },
        "id": "7v1oKTyLgcmW",
        "outputId": "e6332c6c-1330-4cbd-c0ed-b07b66a3a4e0"
      },
      "source": [
        "valid_tokens_info_dict"
      ],
      "execution_count": null,
      "outputs": [
        {
          "output_type": "execute_result",
          "data": {
            "text/plain": [
              "{'tonkens_wth_threshold-1.0': (tensor(0., device='cuda:0'),\n",
              "  tensor(603214., device='cuda:0'),\n",
              "  tensor(603214., device='cuda:0')),\n",
              " 'tonkens_wth_threshold0.01': (tensor(591613., device='cuda:0'),\n",
              "  tensor(11601., device='cuda:0'),\n",
              "  tensor(603214., device='cuda:0')),\n",
              " 'tonkens_wth_threshold0.02': (tensor(598948., device='cuda:0'),\n",
              "  tensor(4266., device='cuda:0'),\n",
              "  tensor(603214., device='cuda:0')),\n",
              " 'tonkens_wth_threshold0.04': (tensor(600627., device='cuda:0'),\n",
              "  tensor(2587., device='cuda:0'),\n",
              "  tensor(603214., device='cuda:0'))}"
            ]
          },
          "metadata": {
            "tags": []
          },
          "execution_count": 61
        }
      ]
    },
    {
      "cell_type": "code",
      "metadata": {
        "id": "Mnvimm80KHN6",
        "outputId": "13dad713-ff8f-4d93-bf0a-82a60d21b461"
      },
      "source": [
        "score_dict"
      ],
      "execution_count": null,
      "outputs": [
        {
          "output_type": "execute_result",
          "data": {
            "text/plain": [
              "{'scores_on_threshold0.0': {'rouge1': 0.37267710123827913,\n",
              "  'rouge2': 0.22804756626788253,\n",
              "  'rougeL': 0.323766193296955},\n",
              " 'scores_on_threshold0.01': {'rouge1': 0.3377205645223521,\n",
              "  'rouge2': 0.16584082489380714,\n",
              "  'rougeL': 0.2822319559656456},\n",
              " 'scores_on_threshold0.011': {'rouge1': 0.33220332254740115,\n",
              "  'rouge2': 0.15778036757441966,\n",
              "  'rougeL': 0.2731539374813109}}"
            ]
          },
          "metadata": {
            "tags": []
          },
          "execution_count": 47
        }
      ]
    },
    {
      "cell_type": "code",
      "metadata": {
        "id": "d1SAJkjVKHN6",
        "outputId": "402033ee-b74d-4d9f-f888-29349a1af5af"
      },
      "source": [
        "valid_tokens_info_dict"
      ],
      "execution_count": null,
      "outputs": [
        {
          "output_type": "execute_result",
          "data": {
            "text/plain": [
              "{'tonkens_wth_threshold0.0': (tensor(0., device='cuda:0'),\n",
              "  tensor(563405., device='cuda:0'),\n",
              "  tensor(563405., device='cuda:0')),\n",
              " 'tonkens_wth_threshold0.01': (tensor(473498., device='cuda:0'),\n",
              "  tensor(89907., device='cuda:0'),\n",
              "  tensor(563405., device='cuda:0')),\n",
              " 'tonkens_wth_threshold0.011': (tensor(484199., device='cuda:0'),\n",
              "  tensor(79206., device='cuda:0'),\n",
              "  tensor(563405., device='cuda:0'))}"
            ]
          },
          "metadata": {
            "tags": []
          },
          "execution_count": 48
        }
      ]
    },
    {
      "cell_type": "code",
      "metadata": {
        "id": "odOBHw4UKHN6",
        "outputId": "4bc1284c-0605-407e-ed8e-7aab04967a5d"
      },
      "source": [
        "threshold = [0.003,0.006, 0.008]\n",
        "score_dicta, result_dicta, valid_tokens_info_dicta = get_scores_experiment(model, val_loader, config, threshold)"
      ],
      "execution_count": null,
      "outputs": [
        {
          "output_type": "stream",
          "text": [
            "125it [08:33,  4.11s/it]\n",
            "100%|██████████| 125/125 [00:53<00:00,  2.34it/s, loss=1.83]"
          ],
          "name": "stderr"
        },
        {
          "output_type": "stream",
          "text": [
            "Threshold: 0.003 | Threshold Time: 9m 29s\n"
          ],
          "name": "stdout"
        },
        {
          "output_type": "stream",
          "text": [
            "\n",
            "125it [08:21,  4.01s/it]\n",
            "100%|██████████| 125/125 [00:58<00:00,  2.14it/s, loss=2.2] "
          ],
          "name": "stderr"
        },
        {
          "output_type": "stream",
          "text": [
            "Threshold: 0.006 | Threshold Time: 9m 21s\n"
          ],
          "name": "stdout"
        },
        {
          "output_type": "stream",
          "text": [
            "\n",
            "125it [08:17,  3.98s/it]\n",
            "100%|██████████| 125/125 [00:53<00:00,  2.35it/s, loss=2.41]"
          ],
          "name": "stderr"
        },
        {
          "output_type": "stream",
          "text": [
            "Threshold: 0.008 | Threshold Time: 9m 12s\n",
            "End Experiments !!!\n"
          ],
          "name": "stdout"
        },
        {
          "output_type": "stream",
          "text": [
            "\n"
          ],
          "name": "stderr"
        }
      ]
    },
    {
      "cell_type": "code",
      "metadata": {
        "id": "RLvSVkEbKHN6",
        "outputId": "1bc5f9cd-3ebf-4ef0-90bf-0f18bdc2773b"
      },
      "source": [
        "score_dicta"
      ],
      "execution_count": null,
      "outputs": [
        {
          "output_type": "execute_result",
          "data": {
            "text/plain": [
              "{'scores_on_threshold0.003': {'rouge1': 0.36689204741608406,\n",
              "  'rouge2': 0.21797408028264958,\n",
              "  'rougeL': 0.3182570838698275},\n",
              " 'scores_on_threshold0.006': {'rouge1': 0.3570659620200773,\n",
              "  'rouge2': 0.19534261162103905,\n",
              "  'rougeL': 0.3039796271366043},\n",
              " 'scores_on_threshold0.008': {'rouge1': 0.3452948734085789,\n",
              "  'rouge2': 0.1771894142183646,\n",
              "  'rougeL': 0.28939499795086454}}"
            ]
          },
          "metadata": {
            "tags": []
          },
          "execution_count": 60
        }
      ]
    },
    {
      "cell_type": "code",
      "metadata": {
        "id": "MrOFSyMrKHN6",
        "outputId": "e72edb51-a22a-4145-cb92-0fe8553e12ef"
      },
      "source": [
        "valid_tokens_info_dicta"
      ],
      "execution_count": null,
      "outputs": [
        {
          "output_type": "execute_result",
          "data": {
            "text/plain": [
              "{'tonkens_wth_threshold0.003': (tensor(288285., device='cuda:0'),\n",
              "  tensor(275120., device='cuda:0'),\n",
              "  tensor(563405., device='cuda:0')),\n",
              " 'tonkens_wth_threshold0.006': (tensor(404471., device='cuda:0'),\n",
              "  tensor(158934., device='cuda:0'),\n",
              "  tensor(563405., device='cuda:0')),\n",
              " 'tonkens_wth_threshold0.008': (tensor(445644., device='cuda:0'),\n",
              "  tensor(117761., device='cuda:0'),\n",
              "  tensor(563405., device='cuda:0'))}"
            ]
          },
          "metadata": {
            "tags": []
          },
          "execution_count": 61
        }
      ]
    },
    {
      "cell_type": "code",
      "metadata": {
        "id": "gUli9hZlKHN6"
      },
      "source": [
        "thresholds = threshold"
      ],
      "execution_count": null,
      "outputs": []
    },
    {
      "cell_type": "markdown",
      "metadata": {
        "id": "IqpwXNVHKHN6"
      },
      "source": [
        "for validation data"
      ]
    },
    {
      "cell_type": "code",
      "metadata": {
        "id": "9NL8AnNrKHN6",
        "outputId": "46efc31c-31a3-425e-c2f2-046f026cbd1e"
      },
      "source": [
        "#%time results = generator(my_model, val_loader)\n",
        "score_dict, result_dict, valid_tokens_info_dict = get_scores_experiment(model, val_loader, config, thresholds)"
      ],
      "execution_count": null,
      "outputs": [
        {
          "output_type": "stream",
          "text": [
            "125it [05:44,  2.75s/it]\n",
            "100%|██████████| 125/125 [00:52<00:00,  2.40it/s, loss=1.53]"
          ],
          "name": "stderr"
        },
        {
          "output_type": "stream",
          "text": [
            "Threshold: 0.0 | Threshold Time: 6m 37s\n"
          ],
          "name": "stdout"
        },
        {
          "output_type": "stream",
          "text": [
            "\n",
            "125it [09:54,  4.75s/it]\n",
            "100%|██████████| 125/125 [00:52<00:00,  2.38it/s, loss=3.63]"
          ],
          "name": "stderr"
        },
        {
          "output_type": "stream",
          "text": [
            "Threshold: 0.02 | Threshold Time: 10m 47s\n"
          ],
          "name": "stdout"
        },
        {
          "output_type": "stream",
          "text": [
            "\n",
            "125it [10:46,  5.17s/it]\n",
            "100%|██████████| 125/125 [00:52<00:00,  2.38it/s, loss=3.98]"
          ],
          "name": "stderr"
        },
        {
          "output_type": "stream",
          "text": [
            "Threshold: 0.04 | Threshold Time: 11m 40s\n"
          ],
          "name": "stdout"
        },
        {
          "output_type": "stream",
          "text": [
            "\n",
            "125it [09:18,  4.47s/it]\n",
            "100%|██████████| 125/125 [00:52<00:00,  2.39it/s, loss=4.01]"
          ],
          "name": "stderr"
        },
        {
          "output_type": "stream",
          "text": [
            "Threshold: 0.044000000000000004 | Threshold Time: 10m 12s\n"
          ],
          "name": "stdout"
        },
        {
          "output_type": "stream",
          "text": [
            "\n",
            "125it [08:03,  3.87s/it]\n",
            "100%|██████████| 125/125 [00:52<00:00,  2.40it/s, loss=4.03]"
          ],
          "name": "stderr"
        },
        {
          "output_type": "stream",
          "text": [
            "Threshold: 0.048 | Threshold Time: 8m 56s\n"
          ],
          "name": "stdout"
        },
        {
          "output_type": "stream",
          "text": [
            "\n",
            "125it [05:51,  2.81s/it]\n",
            "100%|██████████| 125/125 [00:52<00:00,  2.39it/s, loss=4.06]"
          ],
          "name": "stderr"
        },
        {
          "output_type": "stream",
          "text": [
            "Threshold: 0.06 | Threshold Time: 6m 45s\n"
          ],
          "name": "stdout"
        },
        {
          "output_type": "stream",
          "text": [
            "\n",
            "125it [05:14,  2.52s/it]\n",
            "100%|██████████| 125/125 [00:52<00:00,  2.40it/s, loss=4.06]"
          ],
          "name": "stderr"
        },
        {
          "output_type": "stream",
          "text": [
            "Threshold: 0.066 | Threshold Time: 6m 7s\n"
          ],
          "name": "stdout"
        },
        {
          "output_type": "stream",
          "text": [
            "\n",
            "125it [04:24,  2.12s/it]\n",
            "100%|██████████| 125/125 [00:52<00:00,  2.40it/s, loss=4.07]"
          ],
          "name": "stderr"
        },
        {
          "output_type": "stream",
          "text": [
            "Threshold: 0.078 | Threshold Time: 5m 17s\n"
          ],
          "name": "stdout"
        },
        {
          "output_type": "stream",
          "text": [
            "\n",
            "125it [04:28,  2.15s/it]\n",
            "100%|██████████| 125/125 [00:52<00:00,  2.40it/s, loss=4.07]"
          ],
          "name": "stderr"
        },
        {
          "output_type": "stream",
          "text": [
            "Threshold: 0.08 | Threshold Time: 5m 21s\n"
          ],
          "name": "stdout"
        },
        {
          "output_type": "stream",
          "text": [
            "\n",
            "125it [04:25,  2.12s/it]\n",
            "100%|██████████| 125/125 [00:52<00:00,  2.40it/s, loss=4.07]"
          ],
          "name": "stderr"
        },
        {
          "output_type": "stream",
          "text": [
            "Threshold: 0.088 | Threshold Time: 5m 18s\n"
          ],
          "name": "stdout"
        },
        {
          "output_type": "stream",
          "text": [
            "\n",
            "125it [04:30,  2.16s/it]\n",
            "100%|██████████| 125/125 [00:52<00:00,  2.40it/s, loss=4.08]"
          ],
          "name": "stderr"
        },
        {
          "output_type": "stream",
          "text": [
            "Threshold: 0.11199999999999999 | Threshold Time: 5m 23s\n"
          ],
          "name": "stdout"
        },
        {
          "output_type": "stream",
          "text": [
            "\n",
            "125it [04:29,  2.15s/it]\n",
            "100%|██████████| 125/125 [00:52<00:00,  2.40it/s, loss=4.08]"
          ],
          "name": "stderr"
        },
        {
          "output_type": "stream",
          "text": [
            "Threshold: 0.1 | Threshold Time: 5m 22s\n"
          ],
          "name": "stdout"
        },
        {
          "output_type": "stream",
          "text": [
            "\n",
            "125it [04:31,  2.17s/it]\n",
            "100%|██████████| 125/125 [00:52<00:00,  2.40it/s, loss=4.08]"
          ],
          "name": "stderr"
        },
        {
          "output_type": "stream",
          "text": [
            "Threshold: 0.11000000000000001 | Threshold Time: 5m 25s\n"
          ],
          "name": "stdout"
        },
        {
          "output_type": "stream",
          "text": [
            "\n",
            "125it [04:29,  2.16s/it]\n",
            "100%|██████████| 125/125 [00:52<00:00,  2.40it/s, loss=4.08]"
          ],
          "name": "stderr"
        },
        {
          "output_type": "stream",
          "text": [
            "Threshold: 0.15000000000000002 | Threshold Time: 5m 23s\n"
          ],
          "name": "stdout"
        },
        {
          "output_type": "stream",
          "text": [
            "\n",
            "125it [04:32,  2.18s/it]\n",
            "100%|██████████| 125/125 [00:52<00:00,  2.40it/s, loss=4.08]"
          ],
          "name": "stderr"
        },
        {
          "output_type": "stream",
          "text": [
            "Threshold: 0.12 | Threshold Time: 5m 25s\n"
          ],
          "name": "stdout"
        },
        {
          "output_type": "stream",
          "text": [
            "\n",
            "125it [04:33,  2.19s/it]\n",
            "100%|██████████| 125/125 [00:52<00:00,  2.40it/s, loss=4.08]"
          ],
          "name": "stderr"
        },
        {
          "output_type": "stream",
          "text": [
            "Threshold: 0.132 | Threshold Time: 5m 27s\n"
          ],
          "name": "stdout"
        },
        {
          "output_type": "stream",
          "text": [
            "\n",
            "125it [04:24,  2.11s/it]\n",
            "100%|██████████| 125/125 [00:52<00:00,  2.40it/s, loss=4.08]"
          ],
          "name": "stderr"
        },
        {
          "output_type": "stream",
          "text": [
            "Threshold: 0.192 | Threshold Time: 5m 17s\n"
          ],
          "name": "stdout"
        },
        {
          "output_type": "stream",
          "text": [
            "\n",
            "125it [04:30,  2.16s/it]\n",
            "100%|██████████| 125/125 [00:52<00:00,  2.40it/s, loss=4.08]"
          ],
          "name": "stderr"
        },
        {
          "output_type": "stream",
          "text": [
            "Threshold: 0.14 | Threshold Time: 5m 23s\n"
          ],
          "name": "stdout"
        },
        {
          "output_type": "stream",
          "text": [
            "\n",
            "125it [04:29,  2.16s/it]\n",
            "100%|██████████| 125/125 [00:52<00:00,  2.40it/s, loss=4.08]"
          ],
          "name": "stderr"
        },
        {
          "output_type": "stream",
          "text": [
            "Threshold: 0.15400000000000003 | Threshold Time: 5m 22s\n"
          ],
          "name": "stdout"
        },
        {
          "output_type": "stream",
          "text": [
            "\n",
            "125it [04:17,  2.06s/it]\n",
            "100%|██████████| 125/125 [00:52<00:00,  2.40it/s, loss=4.08]"
          ],
          "name": "stderr"
        },
        {
          "output_type": "stream",
          "text": [
            "Threshold: 0.23800000000000004 | Threshold Time: 5m 10s\n",
            "End Experiments !!!\n"
          ],
          "name": "stdout"
        },
        {
          "output_type": "stream",
          "text": [
            "\n"
          ],
          "name": "stderr"
        }
      ]
    },
    {
      "cell_type": "markdown",
      "metadata": {
        "id": "6NV90DhrKHN7"
      },
      "source": [
        "#### For validation data"
      ]
    },
    {
      "cell_type": "code",
      "metadata": {
        "id": "nlv9F3J8KHN7"
      },
      "source": [
        "rouge1 = []\n",
        "rouge2 = []\n",
        "rougeL = []\n",
        "dropped = []\n",
        "nonzerostokens = []\n",
        "totaltokens = []\n",
        "retained_rate = []\n",
        "dropped_rates = []\n",
        "\n",
        "for thr, thr_t in zip(score_dict.keys(), valid_tokens_info_dict.keys()):\n",
        "    \n",
        "    rouge1.append(score_dict[thr]['rouge1'])\n",
        "    rouge2.append(score_dict[thr]['rouge2'])\n",
        "    rougeL.append(score_dict[thr]['rougeL'])\n",
        "    \n",
        "    dropped.append(valid_tokens_info_dict[thr_t][0])\n",
        "    nonzerostokens.append(valid_tokens_info_dict[thr_t][1])\n",
        "    totaltokens.append(valid_tokens_info_dict[thr_t][-1])\n",
        "    drop_rate = valid_tokens_info_dict[thr_t][1].item()/valid_tokens_info_dict[thr_t][-1].item()\n",
        "    dropped_rates.append(1-drop_rate)\n",
        "    retained_rate.append(drop_rate)"
      ],
      "execution_count": null,
      "outputs": []
    },
    {
      "cell_type": "code",
      "metadata": {
        "id": "e1gw77ngKHN7",
        "colab": {
          "base_uri": "https://localhost:8080/",
          "height": 513
        },
        "outputId": "fa2ac8dd-75b1-4462-b8f2-84bfb414dcc5"
      },
      "source": [
        "import matplotlib.pyplot as plt\n",
        "\n",
        "rouge11 = np.array(rouge1)\n",
        "rouge22 = np.array(rouge2)\n",
        "rougeLL = np.array(rougeL)\n",
        "\n",
        "rate = np.array(retained_rate)\n",
        "\n",
        "fig, axes = plt.subplots(1, 3, figsize=(20, 8))\n",
        "\n",
        "axes[0].plot(rate,rouge11)\n",
        "axes[0].set_xlabel('Tokens rate')\n",
        "axes[0].set_ylabel('Rouge1 score')\n",
        "axes[0].set_title(\"Rouge1 vs retained rate's tokens\")\n",
        "\n",
        "axes[1].plot(rate,rouge22)\n",
        "#axes[1].axis('tight')\n",
        "axes[1].set_xlabel('Tokens rate')\n",
        "axes[1].set_ylabel('Rouge2 score')\n",
        "axes[1].set_title(\"Rouge2 vs retained rate's tokens\")\n",
        "\n",
        "axes[2].plot(rate,rougeLL)\n",
        "axes[2].set_xlabel('Tokens rate')\n",
        "axes[2].set_ylabel('RougeL score')\n",
        "axes[2].set_title(\"RougeL vs retained rate's tokens\");\n"
      ],
      "execution_count": null,
      "outputs": [
        {
          "output_type": "display_data",
          "data": {
            "image/png": "[encoded data removed]",
            "text/plain": [
              "<Figure size 1440x576 with 3 Axes>"
            ]
          },
          "metadata": {
            "tags": [],
            "needs_background": "light"
          }
        }
      ]
    },
    {
      "cell_type": "code",
      "metadata": {
        "colab": {
          "base_uri": "https://localhost:8080/"
        },
        "id": "8DEygkq4tm5y",
        "outputId": "3e6d5a4d-77a6-4ca1-c17d-574617ea749d"
      },
      "source": [
        "rate"
      ],
      "execution_count": null,
      "outputs": [
        {
          "output_type": "execute_result",
          "data": {
            "text/plain": [
              "array([1.        , 0.16469536, 0.07258337, 0.03169422])"
            ]
          },
          "metadata": {
            "tags": []
          },
          "execution_count": 73
        }
      ]
    },
    {
      "cell_type": "code",
      "metadata": {
        "colab": {
          "base_uri": "https://localhost:8080/"
        },
        "id": "PfvhWpnEuDB1",
        "outputId": "7ce66ac7-d571-4a9f-bed4-b5ee222fd427"
      },
      "source": [
        "rouge1"
      ],
      "execution_count": null,
      "outputs": [
        {
          "output_type": "execute_result",
          "data": {
            "text/plain": [
              "[0.357046802503852,\n",
              " 0.32175567276783246,\n",
              " 0.2557395517180317,\n",
              " 0.1724363996714677]"
            ]
          },
          "metadata": {
            "tags": []
          },
          "execution_count": 74
        }
      ]
    },
    {
      "cell_type": "code",
      "metadata": {
        "id": "9kcvIXw6KHN7",
        "colab": {
          "base_uri": "https://localhost:8080/",
          "height": 513
        },
        "outputId": "a3868cb9-1aaa-42ef-8c28-aaeccdcf42df"
      },
      "source": [
        "import matplotlib.pyplot as plt\n",
        "\n",
        "rouge11 = np.array(rouge1)\n",
        "rouge22 = np.array(rouge2)\n",
        "rougeLL = np.array(rougeL)\n",
        "\n",
        "rate1 = np.array(dropped_rates)\n",
        "\n",
        "fig, axes = plt.subplots(1, 3, figsize=(20, 8))\n",
        "\n",
        "axes[0].plot(rate1,rouge11)\n",
        "axes[0].set_xlabel('dropped rate')\n",
        "axes[0].set_ylabel('Rouge1 score')\n",
        "axes[0].set_title(\"Rouge1 vs dropped rate's tokens\")\n",
        "\n",
        "axes[1].plot(rate1,rouge22)\n",
        "#axes[1].axis('tight')\n",
        "axes[1].set_xlabel('dropped rate')\n",
        "axes[1].set_ylabel('Rouge2 score')\n",
        "axes[1].set_title(\"Rouge2 vs dropped rate's tokens\")\n",
        "\n",
        "axes[2].plot(rate1,rougeLL)\n",
        "axes[2].set_xlabel('dropped rate')\n",
        "axes[2].set_ylabel('RougeL score')\n",
        "axes[2].set_title(\"RougeL vs dropped rate's tokens\");\n"
      ],
      "execution_count": null,
      "outputs": [
        {
          "output_type": "display_data",
          "data": {
            "image/png": "[encoded data removed]",
            "text/plain": [
              "<Figure size 1440x576 with 3 Axes>"
            ]
          },
          "metadata": {
            "tags": [],
            "needs_background": "light"
          }
        }
      ]
    },
    {
      "cell_type": "code",
      "metadata": {
        "id": "o-6226N9KHN7",
        "colab": {
          "base_uri": "https://localhost:8080/",
          "height": 513
        },
        "outputId": "9ea554c0-072e-4c60-f12b-925838e1dab0"
      },
      "source": [
        "figure, axeses = plt.subplots(1, 3, figsize=(20, 8))\n",
        "thresholds = threshold\n",
        "thresholds[0] = 0.0\n",
        "\n",
        "axeses[0].plot(thresholds,rouge11)\n",
        "axeses[0].set_xlabel('Thresholds')\n",
        "axeses[0].set_ylabel('Rouge1 score')\n",
        "axeses[0].set_title(\"Rouge1 vs Thresholds\")\n",
        "\n",
        "axeses[1].plot(thresholds,rouge22)\n",
        "#axes[1].axis('tight')\n",
        "axeses[1].set_xlabel('Thresholds')\n",
        "axeses[1].set_ylabel('Rouge2 score')\n",
        "axeses[1].set_title(\"Rouge2 vs Thresholds\")\n",
        "\n",
        "axeses[2].plot(thresholds,rougeLL)\n",
        "axeses[2].set_xlabel('Thresholds')\n",
        "axeses[2].set_ylabel('RougeL score')\n",
        "axeses[2].set_title(\"RougeL vs Thresholds\");"
      ],
      "execution_count": null,
      "outputs": [
        {
          "output_type": "display_data",
          "data": {
            "image/png": "[encoded data removed]",
            "text/plain": [
              "<Figure size 1440x576 with 3 Axes>"
            ]
          },
          "metadata": {
            "tags": [],
            "needs_background": "light"
          }
        }
      ]
    },
    {
      "cell_type": "code",
      "metadata": {
        "id": "Qj_pdQrmKHN7",
        "outputId": "9692ea17-e95d-4dd9-caa2-d7d8354e7a88"
      },
      "source": [
        "plt.plot(threshold, rate)\n",
        "plt.xlabel('Thresholds')\n",
        "plt.ylabel('Tokens rate')\n",
        "plt.title('Rate vs Thresholds')\n",
        "plt.show()"
      ],
      "execution_count": null,
      "outputs": [
        {
          "output_type": "display_data",
          "data": {
            "image/png": "[encoded data removed]",
            "text/plain": [
              "<Figure size 432x288 with 1 Axes>"
            ]
          },
          "metadata": {
            "tags": [],
            "needs_background": "light"
          }
        }
      ]
    },
    {
      "cell_type": "code",
      "metadata": {
        "id": "e4hZGdAmKHN7",
        "outputId": "47d8637b-a1a1-4f74-eae0-fe97609f5891"
      },
      "source": [
        "rate # if we keep 16% tokens is better than using 100%"
      ],
      "execution_count": null,
      "outputs": [
        {
          "output_type": "execute_result",
          "data": {
            "text/plain": [
              "array([1.        , 0.15957792, 0.14058448])"
            ]
          },
          "metadata": {
            "tags": []
          },
          "execution_count": 67
        }
      ]
    },
    {
      "cell_type": "code",
      "metadata": {
        "id": "9C8FfAYHKHN7",
        "outputId": "410f68b3-ac60-4a09-c7a8-ec24c37d88c2"
      },
      "source": [
        "rouge11"
      ],
      "execution_count": null,
      "outputs": [
        {
          "output_type": "execute_result",
          "data": {
            "text/plain": [
              "array([0.3726771 , 0.33772056, 0.33220332])"
            ]
          },
          "metadata": {
            "tags": []
          },
          "execution_count": 68
        }
      ]
    },
    {
      "cell_type": "code",
      "metadata": {
        "id": "VrnaKV02KHN7",
        "outputId": "2c83d5b0-e390-4fa7-ffce-35ef2f7c94ee"
      },
      "source": [
        "threshold"
      ],
      "execution_count": null,
      "outputs": [
        {
          "output_type": "execute_result",
          "data": {
            "text/plain": [
              "[0.003, 0.006, 0.008]"
            ]
          },
          "metadata": {
            "tags": []
          },
          "execution_count": 69
        }
      ]
    },
    {
      "cell_type": "code",
      "metadata": {
        "id": "BhYRmho8KHN7",
        "outputId": "66e3927b-6837-49c4-989b-6ce47ad7d251"
      },
      "source": [
        "score_dict"
      ],
      "execution_count": null,
      "outputs": [
        {
          "output_type": "execute_result",
          "data": {
            "text/plain": [
              "{'scores_on_threshold0.0': {'rouge1': 0.35715757504678675,\n",
              "  'rouge2': 0.2088677309696763,\n",
              "  'rougeL': 0.3053822654350669},\n",
              " 'scores_on_threshold0.02': {'rouge1': 0.1926514832966883,\n",
              "  'rouge2': 0.034230522600337154,\n",
              "  'rougeL': 0.13985749605826264},\n",
              " 'scores_on_threshold0.04': {'rouge1': 0.11247301985695449,\n",
              "  'rouge2': 0.008190483490553761,\n",
              "  'rougeL': 0.08721434793780328},\n",
              " 'scores_on_threshold0.044000000000000004': {'rouge1': 0.10417125311177503,\n",
              "  'rouge2': 0.006659464080301792,\n",
              "  'rougeL': 0.08172124109686218},\n",
              " 'scores_on_threshold0.048': {'rouge1': 0.09937821149326406,\n",
              "  'rouge2': 0.00586638469864632,\n",
              "  'rougeL': 0.07829942974622262},\n",
              " 'scores_on_threshold0.06': {'rouge1': 0.0883732789212189,\n",
              "  'rouge2': 0.004092999524800503,\n",
              "  'rougeL': 0.07218457923022524},\n",
              " 'scores_on_threshold0.066': {'rouge1': 0.08467120282035084,\n",
              "  'rouge2': 0.003425524973286631,\n",
              "  'rougeL': 0.07001564076139268},\n",
              " 'scores_on_threshold0.078': {'rouge1': 0.08365627875284853,\n",
              "  'rouge2': 0.002615227194808719,\n",
              "  'rougeL': 0.0686031032630108},\n",
              " 'scores_on_threshold0.08': {'rouge1': 0.08476610650147971,\n",
              "  'rouge2': 0.0026190223970973536,\n",
              "  'rougeL': 0.06932917825654862},\n",
              " 'scores_on_threshold0.088': {'rouge1': 0.08812684416651807,\n",
              "  'rouge2': 0.002851627002121741,\n",
              "  'rougeL': 0.07196967178106128},\n",
              " 'scores_on_threshold0.1': {'rouge1': 0.09825213971277308,\n",
              "  'rouge2': 0.0042765050834825,\n",
              "  'rougeL': 0.07903077306230827},\n",
              " 'scores_on_threshold0.11000000000000001': {'rouge1': 0.10433886069080131,\n",
              "  'rouge2': 0.004907862328339846,\n",
              "  'rougeL': 0.08326773576312516},\n",
              " 'scores_on_threshold0.11199999999999999': {'rouge1': 0.10505654964847969,\n",
              "  'rouge2': 0.004903231834415193,\n",
              "  'rougeL': 0.08342676154094023},\n",
              " 'scores_on_threshold0.12': {'rouge1': 0.10718159573925373,\n",
              "  'rouge2': 0.004971936648659911,\n",
              "  'rougeL': 0.08453216843272329},\n",
              " 'scores_on_threshold0.132': {'rouge1': 0.10719940305159484,\n",
              "  'rouge2': 0.005014856645998464,\n",
              "  'rougeL': 0.08478764231907429},\n",
              " 'scores_on_threshold0.14': {'rouge1': 0.10720884185712026,\n",
              "  'rouge2': 0.005038156709216763,\n",
              "  'rougeL': 0.0850039181924414},\n",
              " 'scores_on_threshold0.15000000000000002': {'rouge1': 0.10732218815853944,\n",
              "  'rouge2': 0.0048382140472153674,\n",
              "  'rougeL': 0.08478363174477078},\n",
              " 'scores_on_threshold0.15400000000000003': {'rouge1': 0.10721976136792655,\n",
              "  'rouge2': 0.004824506385576617,\n",
              "  'rougeL': 0.08463835362019022},\n",
              " 'scores_on_threshold0.192': {'rouge1': 0.10897966967803158,\n",
              "  'rouge2': 0.005239763173265733,\n",
              "  'rougeL': 0.0847744722015043},\n",
              " 'scores_on_threshold0.23800000000000004': {'rouge1': 0.12949268302850908,\n",
              "  'rouge2': 0.007293053258941412,\n",
              "  'rougeL': 0.09734775820356173}}"
            ]
          },
          "metadata": {
            "tags": []
          },
          "execution_count": 48
        }
      ]
    },
    {
      "cell_type": "code",
      "metadata": {
        "id": "txpN-B7lKHN7",
        "outputId": "71541a90-61fa-4125-edb7-094147652718"
      },
      "source": [
        "valid_tokens_info_dict"
      ],
      "execution_count": null,
      "outputs": [
        {
          "output_type": "execute_result",
          "data": {
            "text/plain": [
              "{'tonkens_wth_threshold0.0': (tensor(0., device='cuda:0'),\n",
              "  tensor(573136., device='cuda:0'),\n",
              "  tensor(573136., device='cuda:0')),\n",
              " 'tonkens_wth_threshold0.02': (tensor(557019., device='cuda:0'),\n",
              "  tensor(16117., device='cuda:0'),\n",
              "  tensor(573136., device='cuda:0')),\n",
              " 'tonkens_wth_threshold0.04': (tensor(563062., device='cuda:0'),\n",
              "  tensor(10074., device='cuda:0'),\n",
              "  tensor(573136., device='cuda:0')),\n",
              " 'tonkens_wth_threshold0.044000000000000004': (tensor(563307., device='cuda:0'),\n",
              "  tensor(9829., device='cuda:0'),\n",
              "  tensor(573136., device='cuda:0')),\n",
              " 'tonkens_wth_threshold0.048': (tensor(563451., device='cuda:0'),\n",
              "  tensor(9685., device='cuda:0'),\n",
              "  tensor(573136., device='cuda:0')),\n",
              " 'tonkens_wth_threshold0.06': (tensor(563722., device='cuda:0'),\n",
              "  tensor(9414., device='cuda:0'),\n",
              "  tensor(573136., device='cuda:0')),\n",
              " 'tonkens_wth_threshold0.066': (tensor(563807., device='cuda:0'),\n",
              "  tensor(9329., device='cuda:0'),\n",
              "  tensor(573136., device='cuda:0')),\n",
              " 'tonkens_wth_threshold0.078': (tensor(563952., device='cuda:0'),\n",
              "  tensor(9184., device='cuda:0'),\n",
              "  tensor(573136., device='cuda:0')),\n",
              " 'tonkens_wth_threshold0.08': (tensor(563987., device='cuda:0'),\n",
              "  tensor(9149., device='cuda:0'),\n",
              "  tensor(573136., device='cuda:0')),\n",
              " 'tonkens_wth_threshold0.088': (tensor(564156., device='cuda:0'),\n",
              "  tensor(8980., device='cuda:0'),\n",
              "  tensor(573136., device='cuda:0')),\n",
              " 'tonkens_wth_threshold0.1': (tensor(564532., device='cuda:0'),\n",
              "  tensor(8604., device='cuda:0'),\n",
              "  tensor(573136., device='cuda:0')),\n",
              " 'tonkens_wth_threshold0.11000000000000001': (tensor(564870., device='cuda:0'),\n",
              "  tensor(8266., device='cuda:0'),\n",
              "  tensor(573136., device='cuda:0')),\n",
              " 'tonkens_wth_threshold0.11199999999999999': (tensor(564937., device='cuda:0'),\n",
              "  tensor(8199., device='cuda:0'),\n",
              "  tensor(573136., device='cuda:0')),\n",
              " 'tonkens_wth_threshold0.12': (tensor(565143., device='cuda:0'),\n",
              "  tensor(7993., device='cuda:0'),\n",
              "  tensor(573136., device='cuda:0')),\n",
              " 'tonkens_wth_threshold0.132': (tensor(565369., device='cuda:0'),\n",
              "  tensor(7767., device='cuda:0'),\n",
              "  tensor(573136., device='cuda:0')),\n",
              " 'tonkens_wth_threshold0.14': (tensor(565537., device='cuda:0'),\n",
              "  tensor(7599., device='cuda:0'),\n",
              "  tensor(573136., device='cuda:0')),\n",
              " 'tonkens_wth_threshold0.15000000000000002': (tensor(565850., device='cuda:0'),\n",
              "  tensor(7286., device='cuda:0'),\n",
              "  tensor(573136., device='cuda:0')),\n",
              " 'tonkens_wth_threshold0.15400000000000003': (tensor(565978., device='cuda:0'),\n",
              "  tensor(7158., device='cuda:0'),\n",
              "  tensor(573136., device='cuda:0')),\n",
              " 'tonkens_wth_threshold0.192': (tensor(567504., device='cuda:0'),\n",
              "  tensor(5632., device='cuda:0'),\n",
              "  tensor(573136., device='cuda:0')),\n",
              " 'tonkens_wth_threshold0.23800000000000004': (tensor(570931., device='cuda:0'),\n",
              "  tensor(2205., device='cuda:0'),\n",
              "  tensor(573136., device='cuda:0'))}"
            ]
          },
          "metadata": {
            "tags": []
          },
          "execution_count": 49
        }
      ]
    },
    {
      "cell_type": "code",
      "metadata": {
        "id": "pPtiOJgzKHN7"
      },
      "source": [
        "# For test data\n",
        "score_dictt, result_dictt, valid_tokens_info_dictt = get_scores_experiment(model, test_loader, config, thresholds)"
      ],
      "execution_count": null,
      "outputs": []
    },
    {
      "cell_type": "markdown",
      "metadata": {
        "id": "QyqYtVUdKHN7"
      },
      "source": [
        "#### For test data"
      ]
    },
    {
      "cell_type": "code",
      "metadata": {
        "id": "-9xAcVjVKHN8"
      },
      "source": [
        "rouge1t = []\n",
        "rouge2t = []\n",
        "rougeLt = []\n",
        "droppedt = []\n",
        "nonzerostokenst = []\n",
        "totaltokenst = []\n",
        "retained_ratet = []\n",
        "\n",
        "for thrt, thr_tt in zip(score_dictt.keys(), valid_tokens_info_dictt.keys()):\n",
        "    \n",
        "    rouge1t.append(score_dictt[thrt]['rouge1'])\n",
        "    rouge2t.append(score_dictt[thrt]['rouge2'])\n",
        "    rougeLt.append(score_dictt[thrt]['rougeL'])\n",
        "    \n",
        "    droppedt.append(valid_tokens_info_dictt[thr_tt][0])\n",
        "    nonzerostokenst.append(valid_tokens_info_dictt[thr_tt][1])\n",
        "    totaltokenst.append(valid_tokens_info_dictt[thr_tt][-1])\n",
        "    drop_ratet = valid_tokens_info_dictt[thr_tt][1].item()/valid_tokens_info_dictt[thr_tt][-1].item()\n",
        "    retained_ratet.append(drop_ratet)"
      ],
      "execution_count": null,
      "outputs": []
    },
    {
      "cell_type": "code",
      "metadata": {
        "id": "Tk9HpfxbKHN8",
        "outputId": "c3b06b9f-73e2-4919-c004-f43075965654"
      },
      "source": [
        "import matplotlib.pyplot as plt\n",
        "\n",
        "rouge11t = np.array(rouge1t)\n",
        "rouge22t = np.array(rouge2t)\n",
        "rougeLLt = np.array(rougeLt)\n",
        "\n",
        "ratet = np.array(retained_ratet)\n",
        "\n",
        "fig, axes = plt.subplots(1, 3, figsize=(20, 8))\n",
        "\n",
        "axes[0].plot(ratet,rouge11t)\n",
        "axes[0].set_xlabel('Tokens rate')\n",
        "axes[0].set_ylabel('Rouge1 score')\n",
        "axes[0].set_title(\"Rouge1 vs retained rate's tokens\")\n",
        "\n",
        "axes[1].plot(ratet,rouge22t)\n",
        "#axes[1].axis('tight')\n",
        "axes[1].set_xlabel('Tokens rate')\n",
        "axes[1].set_ylabel('Rouge2 score')\n",
        "axes[1].set_title(\"Rouge2 vs retained rate's tokens\")\n",
        "\n",
        "axes[2].plot(ratet,rougeLLt)\n",
        "axes[2].set_xlabel('Tokens rate')\n",
        "axes[2].set_ylabel('RougeL score')\n",
        "axes[2].set_title(\"RougeL vs retained rate's tokens\");"
      ],
      "execution_count": null,
      "outputs": [
        {
          "output_type": "display_data",
          "data": {
            "image/png": "[encoded data removed]",
            "text/plain": [
              "<Figure size 1440x576 with 3 Axes>"
            ]
          },
          "metadata": {
            "tags": [],
            "needs_background": "light"
          }
        }
      ]
    },
    {
      "cell_type": "code",
      "metadata": {
        "id": "RO4Gr4K1KHN8",
        "outputId": "b2b71a18-a94f-46d8-ab3a-22baf8c6c9ec"
      },
      "source": [
        "thresh = np.array(thresholds)\n",
        "\n",
        "figg, axess = plt.subplots(1, 3, figsize=(20, 8))\n",
        "\n",
        "axess[0].plot(thresh,rouge11t)\n",
        "axess[0].set_xlabel('Thresholds')\n",
        "axess[0].set_ylabel('Rouge1 score')\n",
        "axess[0].set_title(\"Rouge1 vs Thresholds\")\n",
        "\n",
        "axess[1].plot(thresh,rouge22t)\n",
        "#axes[1].axis('tight')\n",
        "axess[1].set_xlabel('Thresholds')\n",
        "axess[1].set_ylabel('Rouge2 score')\n",
        "axess[1].set_title(\"Rouge2 vs Thresholds\")\n",
        "\n",
        "axess[2].plot(thresh,rougeLLt)\n",
        "axess[2].set_xlabel('Thresholds')\n",
        "axess[2].set_ylabel('RougeL score')\n",
        "axess[2].set_title(\"RougeL vs Thresholds\");"
      ],
      "execution_count": null,
      "outputs": [
        {
          "output_type": "display_data",
          "data": {
            "image/png": "[encoded data removed]",
            "text/plain": [
              "<Figure size 1440x576 with 3 Axes>"
            ]
          },
          "metadata": {
            "tags": [],
            "needs_background": "light"
          }
        }
      ]
    },
    {
      "cell_type": "code",
      "metadata": {
        "id": "whl1LzA9KHN8",
        "outputId": "baf0e08c-045c-47d3-c561-86d9387e3d07"
      },
      "source": [
        "nozerostokens = np.array(nonzerostokenst)\n",
        "\n",
        "figgg, axessx = plt.subplots(1, 3, figsize=(20, 8))\n",
        "\n",
        "axessx[0].plot(nozerostokens,rouge11t)\n",
        "axessx[0].set_xlabel('nozerostokens')\n",
        "axessx[0].set_ylabel('Rouge1 score')\n",
        "axessx[0].set_title(\"Rouge1 vs number of nozerostokens\")\n",
        "\n",
        "axessx[1].plot(nozerostokens,rouge22t)\n",
        "#axes[1].axis('tight')\n",
        "axessx[1].set_xlabel('nozerostokens')\n",
        "axessx[1].set_ylabel('Rouge2 score')\n",
        "axessx[1].set_title(\"Rouge2 vs number of nozerostokens\")\n",
        "\n",
        "axessx[2].plot(nozerostokens,rougeLLt)\n",
        "axessx[2].set_xlabel('nozerostokens')\n",
        "axessx[2].set_ylabel('RougeL score')\n",
        "axessx[2].set_title(\"RougeL vs number of nozerostokens\");\n",
        "\n"
      ],
      "execution_count": null,
      "outputs": [
        {
          "output_type": "display_data",
          "data": {
            "image/png": "[encoded data removed]",
            "text/plain": [
              "<Figure size 1440x576 with 3 Axes>"
            ]
          },
          "metadata": {
            "tags": [],
            "needs_background": "light"
          }
        }
      ]
    },
    {
      "cell_type": "code",
      "metadata": {
        "id": "sUjIAU_ZKHN8",
        "outputId": "a493db44-6522-4940-ca4e-7112599de92b"
      },
      "source": [
        "score_dictt"
      ],
      "execution_count": null,
      "outputs": [
        {
          "output_type": "execute_result",
          "data": {
            "text/plain": [
              "{'scores_on_threshold0.0': {'rouge1': 0.3735656786555749,\n",
              "  'rouge2': 0.2238579614311642,\n",
              "  'rougeL': 0.32214857711076217},\n",
              " 'scores_on_threshold0.02': {'rouge1': 0.37365966458531297,\n",
              "  'rouge2': 0.21084658160845893,\n",
              "  'rougeL': 0.3167173837293873},\n",
              " 'scores_on_threshold0.04': {'rouge1': 0.34905102094308,\n",
              "  'rouge2': 0.1717439601979478,\n",
              "  'rougeL': 0.28504774600896143},\n",
              " 'scores_on_threshold0.044000000000000004': {'rouge1': 0.3431820843379738,\n",
              "  'rouge2': 0.1651880256919571,\n",
              "  'rougeL': 0.2783490379155201},\n",
              " 'scores_on_threshold0.048': {'rouge1': 0.3395067992175421,\n",
              "  'rouge2': 0.1596758685663034,\n",
              "  'rougeL': 0.27424486319903796},\n",
              " 'scores_on_threshold0.06': {'rouge1': 0.3238297153932598,\n",
              "  'rouge2': 0.14190138986114068,\n",
              "  'rougeL': 0.2603659429055155},\n",
              " 'scores_on_threshold0.066': {'rouge1': 0.317807012682197,\n",
              "  'rouge2': 0.1321306500482885,\n",
              "  'rougeL': 0.2509670757067267},\n",
              " 'scores_on_threshold0.078': {'rouge1': 0.2978314199740584,\n",
              "  'rouge2': 0.11478029670211916,\n",
              "  'rougeL': 0.2314278042406356},\n",
              " 'scores_on_threshold0.08': {'rouge1': 0.29531882451648894,\n",
              "  'rouge2': 0.11239655450595698,\n",
              "  'rougeL': 0.23048368872062353},\n",
              " 'scores_on_threshold0.088': {'rouge1': 0.28784824366084866,\n",
              "  'rouge2': 0.10160057568293648,\n",
              "  'rougeL': 0.2210117534979416},\n",
              " 'scores_on_threshold0.1': {'rouge1': 0.27391488006903,\n",
              "  'rouge2': 0.08725362670004151,\n",
              "  'rougeL': 0.20646283234322127},\n",
              " 'scores_on_threshold0.11000000000000001': {'rouge1': 0.2673149019243588,\n",
              "  'rouge2': 0.08082129686632486,\n",
              "  'rougeL': 0.20033175037342243},\n",
              " 'scores_on_threshold0.11199999999999999': {'rouge1': 0.2648571978518593,\n",
              "  'rouge2': 0.07882818162464228,\n",
              "  'rougeL': 0.19730770221119603},\n",
              " 'scores_on_threshold0.12': {'rouge1': 0.2574130447909197,\n",
              "  'rouge2': 0.07425753900611234,\n",
              "  'rougeL': 0.19192580563255685},\n",
              " 'scores_on_threshold0.132': {'rouge1': 0.25004358547335137,\n",
              "  'rouge2': 0.0657832186683189,\n",
              "  'rougeL': 0.18291371677331192},\n",
              " 'scores_on_threshold0.14': {'rouge1': 0.2414504140233392,\n",
              "  'rouge2': 0.05883973031039176,\n",
              "  'rougeL': 0.17689637849913958},\n",
              " 'scores_on_threshold0.15000000000000002': {'rouge1': 0.2379003646980145,\n",
              "  'rouge2': 0.05646181338246956,\n",
              "  'rougeL': 0.17432147248510665},\n",
              " 'scores_on_threshold0.15400000000000003': {'rouge1': 0.2357754216368958,\n",
              "  'rouge2': 0.05505344271021559,\n",
              "  'rougeL': 0.1719912686136708},\n",
              " 'scores_on_threshold0.192': {'rouge1': 0.21139564285929935,\n",
              "  'rouge2': 0.040616192626012126,\n",
              "  'rougeL': 0.15231266975455834},\n",
              " 'scores_on_threshold0.23800000000000004': {'rouge1': 0.1940063698582299,\n",
              "  'rouge2': 0.029504263287113475,\n",
              "  'rougeL': 0.13847237752109345}}"
            ]
          },
          "metadata": {
            "tags": []
          },
          "execution_count": 45
        }
      ]
    },
    {
      "cell_type": "code",
      "metadata": {
        "id": "aZ8yuWN-KHN8",
        "outputId": "172dc455-17c7-4772-9263-4013e07a04ef"
      },
      "source": [
        "valid_tokens_info_dictt"
      ],
      "execution_count": null,
      "outputs": [
        {
          "output_type": "execute_result",
          "data": {
            "text/plain": [
              "{'tonkens_wth_threshold0.0': (tensor(472975., device='cuda:0'),\n",
              "  tensor(87500., device='cuda:0'),\n",
              "  tensor(560475., device='cuda:0')),\n",
              " 'tonkens_wth_threshold0.02': (tensor(545473.2500, device='cuda:0'),\n",
              "  tensor(15001.6445, device='cuda:0'),\n",
              "  tensor(560475., device='cuda:0')),\n",
              " 'tonkens_wth_threshold0.04': (tensor(552801.9375, device='cuda:0'),\n",
              "  tensor(7673.0312, device='cuda:0'),\n",
              "  tensor(560475., device='cuda:0')),\n",
              " 'tonkens_wth_threshold0.044000000000000004': (tensor(553586.7500, device='cuda:0'),\n",
              "  tensor(6888.1772, device='cuda:0'),\n",
              "  tensor(560475., device='cuda:0')),\n",
              " 'tonkens_wth_threshold0.048': (tensor(554259.8750, device='cuda:0'),\n",
              "  tensor(6215.0410, device='cuda:0'),\n",
              "  tensor(560475., device='cuda:0')),\n",
              " 'tonkens_wth_threshold0.06': (tensor(555772.6875, device='cuda:0'),\n",
              "  tensor(4702.2080, device='cuda:0'),\n",
              "  tensor(560475., device='cuda:0')),\n",
              " 'tonkens_wth_threshold0.066': (tensor(556330.8125, device='cuda:0'),\n",
              "  tensor(4144.2607, device='cuda:0'),\n",
              "  tensor(560475., device='cuda:0')),\n",
              " 'tonkens_wth_threshold0.078': (tensor(557194.1250, device='cuda:0'),\n",
              "  tensor(3280.9170, device='cuda:0'),\n",
              "  tensor(560475., device='cuda:0')),\n",
              " 'tonkens_wth_threshold0.08': (tensor(557311.4375, device='cuda:0'),\n",
              "  tensor(3163.4160, device='cuda:0'),\n",
              "  tensor(560475., device='cuda:0')),\n",
              " 'tonkens_wth_threshold0.088': (tensor(557720.4375, device='cuda:0'),\n",
              "  tensor(2754.6562, device='cuda:0'),\n",
              "  tensor(560475., device='cuda:0')),\n",
              " 'tonkens_wth_threshold0.1': (tensor(558201.5000, device='cuda:0'),\n",
              "  tensor(2273.5518, device='cuda:0'),\n",
              "  tensor(560475., device='cuda:0')),\n",
              " 'tonkens_wth_threshold0.11000000000000001': (tensor(558510.3125, device='cuda:0'),\n",
              "  tensor(1964.6248, device='cuda:0'),\n",
              "  tensor(560475., device='cuda:0')),\n",
              " 'tonkens_wth_threshold0.11199999999999999': (tensor(558565.2500, device='cuda:0'),\n",
              "  tensor(1909.8329, device='cuda:0'),\n",
              "  tensor(560475., device='cuda:0')),\n",
              " 'tonkens_wth_threshold0.12': (tensor(558761.1875, device='cuda:0'),\n",
              "  tensor(1713.8749, device='cuda:0'),\n",
              "  tensor(560475., device='cuda:0')),\n",
              " 'tonkens_wth_threshold0.132': (tensor(558998.1250, device='cuda:0'),\n",
              "  tensor(1476.8020, device='cuda:0'),\n",
              "  tensor(560475., device='cuda:0')),\n",
              " 'tonkens_wth_threshold0.14': (tensor(559130.1875, device='cuda:0'),\n",
              "  tensor(1344.8022, device='cuda:0'),\n",
              "  tensor(560475., device='cuda:0')),\n",
              " 'tonkens_wth_threshold0.15000000000000002': (tensor(559270.6250, device='cuda:0'),\n",
              "  tensor(1204.3751, device='cuda:0'),\n",
              "  tensor(560475., device='cuda:0')),\n",
              " 'tonkens_wth_threshold0.15400000000000003': (tensor(559319.9375, device='cuda:0'),\n",
              "  tensor(1155., device='cuda:0'),\n",
              "  tensor(560475., device='cuda:0')),\n",
              " 'tonkens_wth_threshold0.192': (tensor(559650.5625, device='cuda:0'),\n",
              "  tensor(824.5208, device='cuda:0'),\n",
              "  tensor(560475., device='cuda:0')),\n",
              " 'tonkens_wth_threshold0.23800000000000004': (tensor(559861.5000, device='cuda:0'),\n",
              "  tensor(613.5624, device='cuda:0'),\n",
              "  tensor(560475., device='cuda:0'))}"
            ]
          },
          "metadata": {
            "tags": []
          },
          "execution_count": 46
        }
      ]
    },
    {
      "cell_type": "markdown",
      "metadata": {
        "id": "KD_dyjJ2KHN8"
      },
      "source": [
        "## Visualize the cross-attention last layer"
      ]
    },
    {
      "cell_type": "code",
      "metadata": {
        "id": "OFhPCLrdKHN8"
      },
      "source": [
        "def visual(model, seq_trg, seq_src, lay_num):\n",
        "    plt.clf()\n",
        "    f = plt.figure(figsize=(8, 8.5))\n",
        "    ax = f.add_subplot(1, 1, 1)\n",
        "\n",
        "    # add image\n",
        "    attention_map = model.decoder.block[lay_num].layer[1].EncDecAttention.o.weight.data[:len(seq_trg), :len(seq_src)]\n",
        "    i = ax.imshow(attention_map, interpolation='nearest', cmap='Blues')\n",
        "\n",
        "    # add colorbar\n",
        "    cbaxes = f.add_axes([0.2, 0, 0.6, 0.03])\n",
        "    cbar = f.colorbar(i, cax=cbaxes, orientation='horizontal')\n",
        "    cbar.ax.set_xlabel('Alpha value (Projector values)', labelpad=2)\n",
        "\n",
        "    # add labels\n",
        "    ax.set_yticks(range(len(seq_trg)))\n",
        "    ax.set_yticklabels(seq_trg)\n",
        "\n",
        "    ax.set_xticks(range(len(seq_src)))\n",
        "    ax.set_xticklabels(seq_src, rotation=45)\n",
        "\n",
        "    ax.set_xlabel('Input Sequence')\n",
        "    ax.set_ylabel('Output Sequence')\n",
        "\n",
        "    # add grid and legend\n",
        "    ax.grid()"
      ],
      "execution_count": null,
      "outputs": []
    },
    {
      "cell_type": "code",
      "metadata": {
        "id": "s2La6hojKHN8"
      },
      "source": [
        "import matplotlib.pyplot as plt\n",
        "\n",
        "src_sent = in_seq.split()\n",
        "tgt_sent = targt.split()\n",
        "visual(model, tgt_sent, src_sent, 10)\n"
      ],
      "execution_count": null,
      "outputs": []
    },
    {
      "cell_type": "code",
      "metadata": {
        "id": "LJk1PeH9KHN8"
      },
      "source": [
        ""
      ],
      "execution_count": null,
      "outputs": []
    },
    {
      "cell_type": "markdown",
      "metadata": {
        "id": "Ho2euh23KHN8"
      },
      "source": [
        "{'tonkens_wth_threshold0.0': (tensor(472975., device='cuda:0'),\n",
        "  tensor(87500., device='cuda:0'),\n",
        "  tensor(560475., device='cuda:0')),\n",
        " 'tonkens_wth_threshold0.02': (tensor(545473.2500, device='cuda:0'),\n",
        "  tensor(15001.6445, device='cuda:0'),\n",
        "  tensor(560475., device='cuda:0')),\n",
        " 'tonkens_wth_threshold0.04': (tensor(552801.9375, device='cuda:0'),\n",
        "  tensor(7673.0312, device='cuda:0'),\n",
        "  tensor(560475., device='cuda:0')),\n",
        " 'tonkens_wth_threshold0.066': (tensor(556330.8125, device='cuda:0'),\n",
        "  tensor(4144.2607, device='cuda:0'),\n",
        "  tensor(560475., device='cuda:0')),\n",
        " 'tonkens_wth_threshold0.088': (tensor(557720.4375, device='cuda:0'),\n",
        "  tensor(2754.6562, device='cuda:0'),\n",
        "  tensor(560475., device='cuda:0')),\n",
        " 'tonkens_wth_threshold0.11000000000000001': (tensor(558510.3125, device='cuda:0'),\n",
        "  tensor(1964.6248, device='cuda:0'),\n",
        "  tensor(560475., device='cuda:0')),\n",
        " 'tonkens_wth_threshold0.132': (tensor(558998.1250, device='cuda:0'),\n",
        "  tensor(1476.8020, device='cuda:0'),\n",
        "  tensor(560475., device='cuda:0')),\n",
        " 'tonkens_wth_threshold0.15400000000000003': (tensor(559319.9375, device='cuda:0'),\n",
        "  tensor(1155., device='cuda:0'),\n",
        "  tensor(560475., device='cuda:0'))}"
      ]
    },
    {
      "cell_type": "markdown",
      "metadata": {
        "id": "qukCReybKHN8"
      },
      "source": [
        "{'scores_on_threshold0.0': {'rouge1': 0.3723578127111644,\n",
        "  'rouge2': 0.22332841688272087,\n",
        "  'rougeL': 0.32212056291371494},\n",
        " 'scores_on_threshold0.02': {'rouge1': 0.3733211234073336,\n",
        "  'rouge2': 0.21134641236785295,\n",
        "  'rougeL': 0.31677640485792724},\n",
        " 'scores_on_threshold0.04': {'rouge1': 0.3491588093401824,\n",
        "  'rouge2': 0.17198094528101562,\n",
        "  'rougeL': 0.28578864128718834},\n",
        " 'scores_on_threshold0.066': {'rouge1': 0.31817834947826673,\n",
        "  'rouge2': 0.13165551075645018,\n",
        "  'rougeL': 0.2506328242630175},\n",
        " 'scores_on_threshold0.088': {'rouge1': 0.2879115121071392,\n",
        "  'rouge2': 0.10172776744515194,\n",
        "  'rougeL': 0.2207533345224155},\n",
        " 'scores_on_threshold0.11000000000000001': {'rouge1': 0.2670271101642573,\n",
        "  'rouge2': 0.08066298634806701,\n",
        "  'rougeL': 0.20051296541526148},\n",
        " 'scores_on_threshold0.132': {'rouge1': 0.2502004628868403,\n",
        "  'rouge2': 0.06570402442395107,\n",
        "  'rougeL': 0.1830067712198777},\n",
        " 'scores_on_threshold0.15400000000000003': {'rouge1': 0.23586888885345014,\n",
        "  'rouge2': 0.055478204433030406,\n",
        "  'rougeL': 0.1719535028129635}}"
      ]
    },
    {
      "cell_type": "code",
      "metadata": {
        "id": "oVj1oskjKHN8"
      },
      "source": [
        ""
      ],
      "execution_count": null,
      "outputs": []
    },
    {
      "cell_type": "markdown",
      "metadata": {
        "id": "kNpZ1c5TBmqD"
      },
      "source": [
        "#### Visualizing examples"
      ]
    },
    {
      "cell_type": "markdown",
      "metadata": {
        "id": "GkwqzhhvEXqt"
      },
      "source": [
        "**Example 1**"
      ]
    },
    {
      "cell_type": "code",
      "metadata": {
        "id": "tTOYKGXaKHN8"
      },
      "source": [
        "Xtest_trial.iloc[0,:]['text']"
      ],
      "execution_count": null,
      "outputs": []
    },
    {
      "cell_type": "code",
      "metadata": {
        "id": "6eQnF1XN_T8r"
      },
      "source": [
        "print(\"Actual summary:\")\n",
        "results['golden_summary'][0]"
      ],
      "execution_count": null,
      "outputs": []
    },
    {
      "cell_type": "code",
      "metadata": {
        "id": "PNXoHiQjBjAY"
      },
      "source": [
        "print('Generated summary:')\n",
        "results['generated_summary'][0]"
      ],
      "execution_count": null,
      "outputs": []
    },
    {
      "cell_type": "markdown",
      "metadata": {
        "id": "5xU7pMWeEfh8"
      },
      "source": [
        "**Example 2**"
      ]
    },
    {
      "cell_type": "code",
      "metadata": {
        "id": "g_K3Q-5GB92N"
      },
      "source": [
        "Xtest_trial.iloc[1,:]['text']"
      ],
      "execution_count": null,
      "outputs": []
    },
    {
      "cell_type": "code",
      "metadata": {
        "id": "ITAC0YvZB0um"
      },
      "source": [
        "print('Generated summary:')\n",
        "results['generated_summary'][1]"
      ],
      "execution_count": null,
      "outputs": []
    },
    {
      "cell_type": "markdown",
      "metadata": {
        "id": "OuLET9kiEkTa"
      },
      "source": [
        "**Example 3**"
      ]
    },
    {
      "cell_type": "code",
      "metadata": {
        "id": "s6eSs1ZWD_sD"
      },
      "source": [
        "Xtest_trial.iloc[3,:]['text']"
      ],
      "execution_count": null,
      "outputs": []
    },
    {
      "cell_type": "code",
      "metadata": {
        "id": "QTOwXNrqDUMp"
      },
      "source": [
        "print(\"Actual summary:\")\n",
        "results['golden_summary'][3]"
      ],
      "execution_count": null,
      "outputs": []
    },
    {
      "cell_type": "code",
      "metadata": {
        "id": "8KPpq-pUDcfe"
      },
      "source": [
        "print('Generated summary:')\n",
        "results['generated_summary'][3]"
      ],
      "execution_count": null,
      "outputs": []
    },
    {
      "cell_type": "markdown",
      "metadata": {
        "id": "C0TEEYozZ0wm"
      },
      "source": [
        "**Example 4**"
      ]
    },
    {
      "cell_type": "code",
      "metadata": {
        "id": "J8J_ZRKZZ0wm"
      },
      "source": [
        "Xtest_trial.iloc[4,:]['text']"
      ],
      "execution_count": null,
      "outputs": []
    },
    {
      "cell_type": "code",
      "metadata": {
        "id": "NQrei0JEZ0wo"
      },
      "source": [
        "print(\"Actual summary:\")\n",
        "results['golden_summary'][4]"
      ],
      "execution_count": null,
      "outputs": []
    },
    {
      "cell_type": "code",
      "metadata": {
        "id": "OJIYcxJ4Z0wp"
      },
      "source": [
        "print('Generated summary:')\n",
        "results['generated_summary'][4]"
      ],
      "execution_count": null,
      "outputs": []
    },
    {
      "cell_type": "markdown",
      "metadata": {
        "id": "1m2bB5ZvKHN9"
      },
      "source": [
        "**Example 5**"
      ]
    },
    {
      "cell_type": "code",
      "metadata": {
        "id": "9nCBsTLIKHN9"
      },
      "source": [
        "Xtest_trial.iloc[5,:]['text']"
      ],
      "execution_count": null,
      "outputs": []
    },
    {
      "cell_type": "code",
      "metadata": {
        "id": "BELuLzl_KHN9"
      },
      "source": [
        "print(\"Actual summary:\")\n",
        "results['golden_summary'][5]"
      ],
      "execution_count": null,
      "outputs": []
    },
    {
      "cell_type": "code",
      "metadata": {
        "id": "Dri3sQAAKHN9"
      },
      "source": [
        "print('Generated summary:')\n",
        "results['generated_summary'][5]"
      ],
      "execution_count": null,
      "outputs": []
    },
    {
      "cell_type": "markdown",
      "metadata": {
        "id": "xPqrulL5KHN9"
      },
      "source": [
        "**Example 6**"
      ]
    },
    {
      "cell_type": "code",
      "metadata": {
        "id": "j4OPBIcPKHN9"
      },
      "source": [
        "Xtest_trial.iloc[6,:]['text']"
      ],
      "execution_count": null,
      "outputs": []
    },
    {
      "cell_type": "code",
      "metadata": {
        "id": "2o_hgkpnKHN9"
      },
      "source": [
        "print(\"Actual summary:\")\n",
        "results['golden_summary'][6]"
      ],
      "execution_count": null,
      "outputs": []
    },
    {
      "cell_type": "code",
      "metadata": {
        "id": "byNh2BXDKHN9"
      },
      "source": [
        "print('Generated summary:')\n",
        "results['generated_summary'][6]"
      ],
      "execution_count": null,
      "outputs": []
    },
    {
      "cell_type": "markdown",
      "metadata": {
        "id": "MG4DVLmjKHN9"
      },
      "source": [
        "**Example 7**"
      ]
    },
    {
      "cell_type": "code",
      "metadata": {
        "id": "ys56vs7DKHN9"
      },
      "source": [
        "Xtest_trial.iloc[7,:]['text']"
      ],
      "execution_count": null,
      "outputs": []
    },
    {
      "cell_type": "code",
      "metadata": {
        "id": "gyevkEhyKHN9"
      },
      "source": [
        "print(\"Actual summary:\")\n",
        "results['golden_summary'][7]"
      ],
      "execution_count": null,
      "outputs": []
    },
    {
      "cell_type": "code",
      "metadata": {
        "id": "4-X9dNXjKHN9"
      },
      "source": [
        "print('Generated summary:')\n",
        "results['generated_summary'][7]"
      ],
      "execution_count": null,
      "outputs": []
    },
    {
      "cell_type": "markdown",
      "metadata": {
        "id": "-AQO45R6KHN9"
      },
      "source": [
        "**Example 8**"
      ]
    },
    {
      "cell_type": "code",
      "metadata": {
        "id": "8SeOmIjIKHN9"
      },
      "source": [
        "Xtest_trial.iloc[8,:]['text']"
      ],
      "execution_count": null,
      "outputs": []
    },
    {
      "cell_type": "code",
      "metadata": {
        "id": "V-dzlvrMKHN9"
      },
      "source": [
        "print(\"Actual summary:\")\n",
        "results['golden_summary'][8]"
      ],
      "execution_count": null,
      "outputs": []
    },
    {
      "cell_type": "code",
      "metadata": {
        "id": "0ASpZl9xKHN-"
      },
      "source": [
        "print('Generated summary:')\n",
        "results['generated_summary'][8]"
      ],
      "execution_count": null,
      "outputs": []
    },
    {
      "cell_type": "markdown",
      "metadata": {
        "id": "Jn5BEUD9KHN-"
      },
      "source": [
        "**Example 9**"
      ]
    },
    {
      "cell_type": "code",
      "metadata": {
        "id": "UCzHO274KHN-"
      },
      "source": [
        "Xtest_trial.iloc[9,:]['text']"
      ],
      "execution_count": null,
      "outputs": []
    },
    {
      "cell_type": "code",
      "metadata": {
        "id": "94fDPMUbKHN-"
      },
      "source": [
        "print(\"Actual summary:\")\n",
        "results['golden_summary'][9]"
      ],
      "execution_count": null,
      "outputs": []
    },
    {
      "cell_type": "code",
      "metadata": {
        "id": "d1VrkHbGKHN-"
      },
      "source": [
        "print('Generated summary:')\n",
        "results['generated_summary'][9]"
      ],
      "execution_count": null,
      "outputs": []
    },
    {
      "cell_type": "markdown",
      "metadata": {
        "id": "IqTSv571KHN-"
      },
      "source": [
        "**Example 10**"
      ]
    },
    {
      "cell_type": "code",
      "metadata": {
        "id": "xrWGm59pKHN-"
      },
      "source": [
        "Xtest_trial.iloc[15,:]['text']"
      ],
      "execution_count": null,
      "outputs": []
    },
    {
      "cell_type": "code",
      "metadata": {
        "id": "7tOh4DVLKHN-"
      },
      "source": [
        "print(\"Actual summary:\")\n",
        "results['golden_summary'][15]"
      ],
      "execution_count": null,
      "outputs": []
    },
    {
      "cell_type": "code",
      "metadata": {
        "id": "DKJpA5owKHN-"
      },
      "source": [
        "print('Generated summary:')\n",
        "results['generated_summary'][15]"
      ],
      "execution_count": null,
      "outputs": []
    },
    {
      "cell_type": "markdown",
      "metadata": {
        "id": "4KX71gPzy_bH"
      },
      "source": [
        "### Performance"
      ]
    },
    {
      "cell_type": "code",
      "metadata": {
        "id": "ter9ktdQ6_54"
      },
      "source": [
        "from typing import Dict\n",
        "\n",
        "def get_score(summaries) -> Dict:  \n",
        "    \n",
        "    src_labels = summaries['golden_summary']\n",
        "    gen_summary = summaries['generated_summary']\n",
        "    \n",
        "    scorer = rouge_scorer.RougeScorer(['rouge1','rouge2','rougeL'], use_stemmer=True)\n",
        "    aggregator = scoring.BootstrapAggregator()\n",
        "    \n",
        "    for src, gent in zip(src_labels, gen_summary):\n",
        "        scores = scorer.score(gent, src)\n",
        "        aggregator.add_scores(scores)\n",
        "        \n",
        "    results = aggregator.aggregate()\n",
        "    return {key: val.mid.fmeasure for key, val in results.items()}"
      ],
      "execution_count": null,
      "outputs": []
    },
    {
      "cell_type": "code",
      "metadata": {
        "id": "jfhyTtEwZ0ww"
      },
      "source": [
        "get_score(results)"
      ],
      "execution_count": null,
      "outputs": []
    },
    {
      "cell_type": "code",
      "metadata": {
        "id": "6UtF_jowZ0wz"
      },
      "source": [
        "rouge = Rouge()\n",
        "\n",
        "score = rouge.get_scores(results['generated_summary'], results['golden_summary'], avg=True)\n",
        "{key: val['f'] for key, val in score.items()}"
      ],
      "execution_count": null,
      "outputs": []
    },
    {
      "cell_type": "code",
      "metadata": {
        "id": "w8OCwBvAKHN-"
      },
      "source": [
        "{'rouge-1': 0.23891854897729273,\n",
        " 'rouge-2': 0.10855931785640041,\n",
        " 'rouge-l': 0.21982563644064748}"
      ],
      "execution_count": null,
      "outputs": []
    },
    {
      "cell_type": "code",
      "metadata": {
        "id": "naFkXqubKHN-"
      },
      "source": [
        "{'rouge-1': 0.2934569607894014,\n",
        " 'rouge-2': 0.16207342615668757,\n",
        " 'rouge-l': 0.2762959592687011} #0.2"
      ],
      "execution_count": null,
      "outputs": []
    },
    {
      "cell_type": "code",
      "metadata": {
        "id": "SuKNdMkjZ0w1"
      },
      "source": [
        ""
      ],
      "execution_count": null,
      "outputs": []
    }
  ]
}