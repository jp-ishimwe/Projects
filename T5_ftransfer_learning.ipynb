{
 "cells": [
  {
   "cell_type": "markdown",
   "metadata": {
    "colab_type": "text",
    "id": "view-in-github"
   },
   "source": [
    "<a href=\"https://colab.research.google.com/github/jp-ishimwe/Projects/blob/master/T5_ftransfer_learning.ipynb\" target=\"_parent\"><img src=\"https://colab.research.google.com/assets/colab-badge.svg\" alt=\"Open In Colab\"/></a>"
   ]
  },
  {
   "cell_type": "code",
   "execution_count": 1,
   "metadata": {},
   "outputs": [],
   "source": [
    "%%capture\n",
    "!pip3 install transformers --upgrade\n",
    "#!pip install transformers -q\n",
    "#!pip3 install wandb -q\n",
    "!pip3 install dill -q"
   ]
  },
  {
   "cell_type": "code",
   "execution_count": 2,
   "metadata": {
    "colab": {},
    "colab_type": "code",
    "id": "vxxkIi-xDrUz"
   },
   "outputs": [
    {
     "name": "stderr",
     "output_type": "stream",
     "text": [
      "\u001b[34m\u001b[1mwandb\u001b[0m: \u001b[33mWARNING\u001b[0m W&B installed but not logged in.  Run `wandb login` or set the WANDB_API_KEY env variable.\n"
     ]
    }
   ],
   "source": [
    "#@title Import packages { run: \"auto\", vertical-output: true, display-mode: \"both\" }\n",
    "from __future__ import unicode_literals, print_function, division\n",
    "from io import open\n",
    "import unicodedata\n",
    "import string\n",
    "import re\n",
    "import random\n",
    "import pandas as pd\n",
    "import numpy as np\n",
    "from collections import defaultdict\n",
    "from sklearn.base import BaseEstimator, TransformerMixin\n",
    "from tqdm.notebook import tqdm\n",
    "from sklearn.model_selection import train_test_split\n",
    "import pickle\n",
    "import dill\n",
    "import tarfile\n",
    "import json, gzip\n",
    "\n",
    "import wandb\n",
    "\n",
    "#!pip install transformers -q\n",
    "\n",
    "import torch\n",
    "import torch.nn as nn\n",
    "import torch.optim as optim\n",
    "import torch.nn.functional as F\n",
    "from transformers import T5Tokenizer, T5ForConditionalGeneration\n",
    "from torch.utils.data import Dataset, DataLoader\n",
    "from torch.optim.lr_scheduler import ReduceLROnPlateau\n",
    "\n",
    "# Ignore excessive warnings\n",
    "import logging\n",
    "logging.propagate = False \n",
    "logging.getLogger().setLevel(logging.ERROR)\n",
    "\n",
    "import warnings\n",
    "warnings.filterwarnings('ignore')"
   ]
  },
  {
   "cell_type": "code",
   "execution_count": null,
   "metadata": {
    "colab": {
     "base_uri": "https://localhost:8080/",
     "height": 126
    },
    "colab_type": "code",
    "id": "LME26NCmM8ne",
    "outputId": "51817a09-342e-4c1c-f4b7-e5c301008ba9"
   },
   "outputs": [
    {
     "name": "stdout",
     "output_type": "stream",
     "text": [
      "Go to this URL in a browser: https://accounts.google.com/o/oauth2/auth?client_id=947318989803-6bn6qk8qdgf4n4g3pfee6491hc0brc4i.apps.googleusercontent.com&redirect_uri=urn%3aietf%3awg%3aoauth%3a2.0%3aoob&response_type=code&scope=email%20https%3a%2f%2fwww.googleapis.com%2fauth%2fdocs.test%20https%3a%2f%2fwww.googleapis.com%2fauth%2fdrive%20https%3a%2f%2fwww.googleapis.com%2fauth%2fdrive.photos.readonly%20https%3a%2f%2fwww.googleapis.com%2fauth%2fpeopleapi.readonly\n",
      "\n",
      "Enter your authorization code:\n",
      "··········\n",
      "Mounted at /content/drive\n"
     ]
    }
   ],
   "source": [
    "from google.colab import drive\n",
    "drive.mount('/content/drive')"
   ]
  },
  {
   "cell_type": "code",
   "execution_count": 29,
   "metadata": {},
   "outputs": [
    {
     "data": {
      "text/plain": [
       "'/home/jupyter/Projects'"
      ]
     },
     "execution_count": 29,
     "metadata": {},
     "output_type": "execute_result"
    }
   ],
   "source": [
    "pwd"
   ]
  },
  {
   "cell_type": "code",
   "execution_count": 3,
   "metadata": {
    "colab": {},
    "colab_type": "code",
    "id": "-t7E9fLj8Zjd"
   },
   "outputs": [],
   "source": [
    "#!cp '/root/optimizers.py' '/root/Projects/' # SSH\n",
    "\n",
    "#!cp '/home/jupyter/optimizers.py' '/home/jupyter/Projects/' # for GCP\n",
    "\n",
    "from optimizers import AdaFactor"
   ]
  },
  {
   "cell_type": "code",
   "execution_count": null,
   "metadata": {
    "colab": {
     "base_uri": "https://localhost:8080/",
     "height": 439
    },
    "colab_type": "code",
    "id": "7rF67H7GnK2U",
    "outputId": "66ec1de6-eea8-4141-f167-1ae0880a0e1a"
   },
   "outputs": [
    {
     "name": "stdout",
     "output_type": "stream",
     "text": [
      "Wed Jul 15 14:31:45 2020       \n",
      "+-----------------------------------------------------------------------------+\n",
      "| NVIDIA-SMI 450.51.05    Driver Version: 418.67       CUDA Version: 10.1     |\n",
      "|-------------------------------+----------------------+----------------------+\n",
      "| GPU  Name        Persistence-M| Bus-Id        Disp.A | Volatile Uncorr. ECC |\n",
      "| Fan  Temp  Perf  Pwr:Usage/Cap|         Memory-Usage | GPU-Util  Compute M. |\n",
      "|                               |                      |               MIG M. |\n",
      "|===============================+======================+======================|\n",
      "|   0  Tesla K80           Off  | 00000000:00:04.0 Off |                    0 |\n",
      "| N/A   73C    P8    32W / 149W |     11MiB / 11441MiB |      0%      Default |\n",
      "|                               |                      |                 ERR! |\n",
      "+-------------------------------+----------------------+----------------------+\n",
      "                                                                               \n",
      "+-----------------------------------------------------------------------------+\n",
      "| Processes:                                                                  |\n",
      "|  GPU   GI   CI        PID   Type   Process name                  GPU Memory |\n",
      "|        ID   ID                                                   Usage      |\n",
      "|=============================================================================|\n",
      "|  No running processes found                                                 |\n",
      "+-----------------------------------------------------------------------------+\n",
      "nvcc: NVIDIA (R) Cuda compiler driver\n",
      "Copyright (c) 2005-2019 NVIDIA Corporation\n",
      "Built on Sun_Jul_28_19:07:16_PDT_2019\n",
      "Cuda compilation tools, release 10.1, V10.1.243\n"
     ]
    }
   ],
   "source": [
    "!nvidia-smi\n",
    "!/usr/local/cuda/bin/nvcc --version"
   ]
  },
  {
   "cell_type": "code",
   "execution_count": 4,
   "metadata": {
    "colab": {
     "base_uri": "https://localhost:8080/",
     "height": 35
    },
    "colab_type": "code",
    "id": "1g1xKdoCnMAq",
    "outputId": "30b4e592-2b76-4fbe-a5cb-685083c55dde"
   },
   "outputs": [
    {
     "name": "stdout",
     "output_type": "stream",
     "text": [
      "cuda\n"
     ]
    }
   ],
   "source": [
    "#@title To proceed should be cuda { run: \"auto\", vertical-output: true }\n",
    "CUDA = torch.cuda.is_available()\n",
    "device = torch.device(\"cuda\" if CUDA else \"cpu\")\n",
    "print(device)"
   ]
  },
  {
   "cell_type": "code",
   "execution_count": 6,
   "metadata": {},
   "outputs": [],
   "source": [
    "if torch.cuda.device_count() > 1:\n",
    "    print(\"Let's use\", torch.cuda.device_count(), \"GPUs!\")"
   ]
  },
  {
   "cell_type": "code",
   "execution_count": null,
   "metadata": {},
   "outputs": [],
   "source": [
    "##!pip install --upgrade wandb"
   ]
  },
  {
   "cell_type": "code",
   "execution_count": null,
   "metadata": {},
   "outputs": [],
   "source": [
    "##!wandb login fac9119080ca108ca15c420ede645a5e6e79a07c"
   ]
  },
  {
   "cell_type": "markdown",
   "metadata": {
    "colab_type": "text",
    "id": "1jvIoL5I0Eb5"
   },
   "source": [
    "#### Getting dataset"
   ]
  },
  {
   "cell_type": "markdown",
   "metadata": {
    "colab_type": "text",
    "id": "wGVOHhrk0GOP"
   },
   "source": [
    "You can find the dataset [here](http://lil.nlp.cornell.edu/newsroom/download/index.html)"
   ]
  },
  {
   "cell_type": "markdown",
   "metadata": {
    "colab_type": "text",
    "id": "zkDYkbKV0SUM"
   },
   "source": [
    "**Loading data**"
   ]
  },
  {
   "cell_type": "code",
   "execution_count": 1,
   "metadata": {
    "colab": {},
    "colab_type": "code",
    "id": "AoIiFXg1juKC"
   },
   "outputs": [],
   "source": [
    "# fname = '/content/drive/My Drive/Colab Notebooks/newsroom-release.tar'\n",
    "\n",
    "# tar = tarfile.open(fname, \"r:\")\n",
    "# tar.extractall()\n",
    "# tar.close()"
   ]
  },
  {
   "cell_type": "code",
   "execution_count": null,
   "metadata": {
    "colab": {},
    "colab_type": "code",
    "id": "1YuQmBQpP3C7"
   },
   "outputs": [],
   "source": [
    "#!mv '/content/data/' '/content/drive/My Drive/Colab Notebooks'"
   ]
  },
  {
   "cell_type": "code",
   "execution_count": null,
   "metadata": {
    "colab": {},
    "colab_type": "code",
    "id": "GDTflryEPO9G"
   },
   "outputs": [],
   "source": [
    "#!cp -r '/content/release/' '/content/drive/My Drive/Colab Notebooks/data'"
   ]
  },
  {
   "cell_type": "code",
   "execution_count": 6,
   "metadata": {
    "colab": {},
    "colab_type": "code",
    "id": "5Z9YGB5TmYqR"
   },
   "outputs": [],
   "source": [
    "path = '/home/jupyter/' # GCp\n",
    "#path = '/root/release/' # SSH\n",
    "#path = \"/content/drive/My Drive/Colab Notebooks/data/release/\" # Colab\n",
    "\n",
    "def read_data(path, name):\n",
    "  data = []\n",
    "  with gzip.open(path + name) as f: #+\".jsonl.gz\" with GCP\n",
    "      for ln in f:\n",
    "          obj = json.loads(ln)\n",
    "          data.append(obj)\n",
    "  return data\n",
    "\n",
    "trainset = read_data(path, 'train') \n",
    "devset = read_data(path, 'valid')\n",
    "#testset = read_data(path, 'test')"
   ]
  },
  {
   "cell_type": "code",
   "execution_count": 7,
   "metadata": {
    "colab": {},
    "colab_type": "code",
    "id": "Gv1SfBCrIaW4"
   },
   "outputs": [],
   "source": [
    "def get_data(data):\n",
    "  data_dict = {'text': [], 'summary': []}\n",
    "  for article in data:\n",
    "    data_dict['text'].append(article['text'])\n",
    "    data_dict['summary'].append(article['summary'])\n",
    "  return pd.DataFrame(data_dict)\n",
    "\n",
    "train_data = get_data(trainset)\n",
    "valid_data = get_data(devset)\n",
    "# test_data = get_data(testset)"
   ]
  },
  {
   "cell_type": "code",
   "execution_count": 8,
   "metadata": {},
   "outputs": [
    {
     "data": {
      "text/html": [
       "<div>\n",
       "<style scoped>\n",
       "    .dataframe tbody tr th:only-of-type {\n",
       "        vertical-align: middle;\n",
       "    }\n",
       "\n",
       "    .dataframe tbody tr th {\n",
       "        vertical-align: top;\n",
       "    }\n",
       "\n",
       "    .dataframe thead th {\n",
       "        text-align: right;\n",
       "    }\n",
       "</style>\n",
       "<table border=\"1\" class=\"dataframe\">\n",
       "  <thead>\n",
       "    <tr style=\"text-align: right;\">\n",
       "      <th></th>\n",
       "      <th>text</th>\n",
       "      <th>summary</th>\n",
       "    </tr>\n",
       "  </thead>\n",
       "  <tbody>\n",
       "    <tr>\n",
       "      <th>0</th>\n",
       "      <td>HAMBURG, Germany, June 3  As he left the socc...</td>\n",
       "      <td>A surge in discriminatory behavior toward blac...</td>\n",
       "    </tr>\n",
       "    <tr>\n",
       "      <th>1</th>\n",
       "      <td>WASHINGTON, Dec. 23 - The National Security Ag...</td>\n",
       "      <td>The volume of information harvested, without \\...</td>\n",
       "    </tr>\n",
       "    <tr>\n",
       "      <th>2</th>\n",
       "      <td>IF outsized executive pay has indeed become a ...</td>\n",
       "      <td>The battle between Pfizer Inc.'s investors and...</td>\n",
       "    </tr>\n",
       "    <tr>\n",
       "      <th>3</th>\n",
       "      <td>BY A.J. BENZA &amp; MICHAEL LEWITTES\\n\\nIf Simon R...</td>\n",
       "      <td>If Simon Rex looks a little familiar, it may n...</td>\n",
       "    </tr>\n",
       "    <tr>\n",
       "      <th>4</th>\n",
       "      <td>Spinach has terrorized generations of veggie-p...</td>\n",
       "      <td>POPEYE-WORTHY PIE. PHYLLO DOUGH WRAPS SPINACH ...</td>\n",
       "    </tr>\n",
       "  </tbody>\n",
       "</table>\n",
       "</div>"
      ],
      "text/plain": [
       "                                                text  \\\n",
       "0  HAMBURG, Germany, June 3  As he left the socc...   \n",
       "1  WASHINGTON, Dec. 23 - The National Security Ag...   \n",
       "2  IF outsized executive pay has indeed become a ...   \n",
       "3  BY A.J. BENZA & MICHAEL LEWITTES\\n\\nIf Simon R...   \n",
       "4  Spinach has terrorized generations of veggie-p...   \n",
       "\n",
       "                                             summary  \n",
       "0  A surge in discriminatory behavior toward blac...  \n",
       "1  The volume of information harvested, without \\...  \n",
       "2  The battle between Pfizer Inc.'s investors and...  \n",
       "3  If Simon Rex looks a little familiar, it may n...  \n",
       "4  POPEYE-WORTHY PIE. PHYLLO DOUGH WRAPS SPINACH ...  "
      ]
     },
     "execution_count": 8,
     "metadata": {},
     "output_type": "execute_result"
    }
   ],
   "source": [
    "train_data.head()"
   ]
  },
  {
   "cell_type": "code",
   "execution_count": 9,
   "metadata": {
    "colab": {
     "base_uri": "https://localhost:8080/",
     "height": 35
    },
    "colab_type": "code",
    "id": "eia69USAvek8",
    "outputId": "e7388ea8-e6cc-4c8f-9b57-2f10d2fb6889"
   },
   "outputs": [
    {
     "name": "stdout",
     "output_type": "stream",
     "text": [
      "The size of training dataset:(995041, 2) | validation dataset: (108837, 2)\n"
     ]
    }
   ],
   "source": [
    "print(f'The size of training dataset:{train_data.shape} | validation dataset: {valid_data.shape}')"
   ]
  },
  {
   "cell_type": "code",
   "execution_count": 10,
   "metadata": {
    "colab": {},
    "colab_type": "code",
    "id": "JX6clAc9wHuy"
   },
   "outputs": [],
   "source": [
    "contraction = {\"isn't\": \"is not\", \"aren't\": \"are not\",\"can't\": \"cannot\", \"could've\": \"could have\", \"couldn't\": \"could not\",\n",
    "                           \"didn't\": \"did not\", \"doesn't\": \"does not\", \"don't\": \"do not\", \"hadn't\": \"had not\", \"hasn't\": \"has not\", \"haven't\": \"have not\",\n",
    "                           \"he'd\": \"he would\",\"he'll\": \"he will\", \"he's\": \"he is\", \"how'd\": \"how did\", \"how'd'y\": \"how do you\", \"how'll\": \"how will\", \"how's\": \"how is\",\n",
    "                           \"I'd\": \"I would\", \"I'd've\": \"I would have\", \"I'll\": \"I will\", \"I'll've\": \"I will have\",\"I'm\": \"I am\", \"I've\": \"I have\", \"i'd\": \"i would\",\n",
    "                           \"i'd've\": \"i would have\", \"i'll\": \"i will\",  \"i'll've\": \"i will have\",\"i'm\": \"i am\", \"i've\": \"i have\", \"isn't\": \"is not\", \"it'd\": \"it would\",\n",
    "                           \"it'd've\": \"it would have\", \"it'll\": \"it will\", \"it'll've\": \"it will have\",\"it's\": \"it is\", \"let's\": \"let us\", \"ma'am\": \"madam\",\n",
    "                           \"mayn't\": \"may not\", \"might've\": \"might have\",\"mightn't\": \"might not\",\"mightn't've\": \"might not have\", \"must've\": \"must have\",\n",
    "                           \"mustn't\": \"must not\", \"mustn't've\": \"must not have\", \"needn't\": \"need not\", \"needn't've\": \"need not have\",\"o'clock\": \"of the clock\",\n",
    "                           \"oughtn't\": \"ought not\", \"oughtn't've\": \"ought not have\", \"shan't\": \"shall not\", \"sha'n't\": \"shall not\", \"shan't've\": \"shall not have\",\n",
    "                           \"she'd\": \"she would\", \"she'd've\": \"she would have\", \"she'll\": \"she will\", \"she'll've\": \"she will have\", \"she's\": \"she is\",\n",
    "                           \"should've\": \"should have\", \"shouldn't\": \"should not\", \"shouldn't've\": \"should not have\", \"so've\": \"so have\",\"so's\": \"so as\",\n",
    "                           \"this's\": \"this is\",\"that'd\": \"that would\", \"that'd've\": \"that would have\", \"that's\": \"that is\", \"there'd\": \"there would\",\n",
    "                           \"there'd've\": \"there would have\", \"there's\": \"there is\", \"here's\": \"here is\",\"they'd\": \"they would\", \"they'd've\": \"they would have\",\n",
    "                           \"they'll\": \"they will\", \"they'll've\": \"they will have\", \"they're\": \"they are\", \"they've\": \"they have\", \"to've\": \"to have\",\n",
    "                           \"wasn't\": \"was not\", \"we'd\": \"we would\", \"we'd've\": \"we would have\", \"we'll\": \"we will\", \"we'll've\": \"we will have\", \"we're\": \"we are\",\n",
    "                           \"we've\": \"we have\", \"weren't\": \"were not\", \"what'll\": \"what will\", \"what'll've\": \"what will have\", \"what're\": \"what are\",\n",
    "                           \"what's\": \"what is\", \"what've\": \"what have\", \"when's\": \"when is\", \"when've\": \"when have\", \"where'd\": \"where did\", \"where's\": \"where is\",\n",
    "                           \"where've\": \"where have\", \"who'll\": \"who will\", \"who'll've\": \"who will have\", \"who's\": \"who is\", \"who've\": \"who have\",\n",
    "                           \"why's\": \"why is\", \"why've\": \"why have\", \"will've\": \"will have\", \"won't\": \"will not\", \"won't've\": \"will not have\",\n",
    "                           \"would've\": \"would have\", \"wouldn't\": \"would not\", \"wouldn't've\": \"would not have\", \"y'all\": \"you all\",\n",
    "                           \"y'all'd\": \"you all would\",\"y'all'd've\": \"you all would have\",\"y'all're\": \"you all are\",\"y'all've\": \"you all have\",\n",
    "                           \"you'd\": \"you would\", \"you'd've\": \"you would have\", \"you'll\": \"you will\", \"you ll\":\"you will\", \"you'll've\": \"you will have\",\n",
    "                           \"you're\": \"you are\", \"you re\": \"you are\" , \"you've\": \"you have\"}"
   ]
  },
  {
   "cell_type": "markdown",
   "metadata": {
    "colab_type": "text",
    "id": "E38ktgfStkI9"
   },
   "source": [
    "###### Checking for NA"
   ]
  },
  {
   "cell_type": "code",
   "execution_count": 11,
   "metadata": {
    "colab": {
     "base_uri": "https://localhost:8080/",
     "height": 70
    },
    "colab_type": "code",
    "id": "b-NTfClirfL3",
    "outputId": "1586f04e-aa55-4e97-ee4d-2fbe4fbc1862"
   },
   "outputs": [
    {
     "data": {
      "text/plain": [
       "(text       0\n",
       " summary    0\n",
       " dtype: int64,\n",
       " text       0\n",
       " summary    0\n",
       " dtype: int64)"
      ]
     },
     "execution_count": 11,
     "metadata": {},
     "output_type": "execute_result"
    }
   ],
   "source": [
    "train_data.isna().sum(), valid_data.isna().sum()"
   ]
  },
  {
   "cell_type": "markdown",
   "metadata": {
    "colab_type": "text",
    "id": "0HQ2wJrXEAcr"
   },
   "source": [
    "##### Preprocessing"
   ]
  },
  {
   "cell_type": "code",
   "execution_count": 12,
   "metadata": {
    "colab": {},
    "colab_type": "code",
    "id": "6_qmLtaZp9s0"
   },
   "outputs": [],
   "source": [
    "class TextProccessing(BaseEstimator, TransformerMixin):\n",
    "  def __init__(self, column, contraction):\n",
    "    self.column = column\n",
    "    self.contraction = contraction\n",
    "  def fit(self, x, y=None):\n",
    "    return self\n",
    "  @staticmethod\n",
    "  def preprocessing(line):\n",
    "    date_pattern = r'(0?[1-9]/|1[0-2]/)(0?[1-9]/|[1-2][0-9]/|3[0-1]/)[0-9]{4}'\n",
    "    line = line.split(\"\\n\")\n",
    "    clean_line = []\n",
    "    for l in line:\n",
    "        if re.match(date_pattern, l) is not None:\n",
    "            pass\n",
    "        else:\n",
    "            clean_line.append(l)\n",
    "    line = \"\\n\".join(clean_line)\n",
    "\n",
    "    line = re.sub(r\"http\\S+\", \" \",line)\n",
    "    line = re.sub(r\"www\\S+\", \" \",line)\n",
    "    line = line.replace('—', ' ')\n",
    "    line = line.replace('-', ' ')\n",
    "    line = line.replace('&', 'and')\n",
    "    line = line.replace('[...]', '')\n",
    "    line = line.replace('...', '.')\n",
    "    line = line.replace('…', ' ')\n",
    "    line = re.sub(re.compile('<.*?>'), '', line)\n",
    "    line = re.sub(re.compile('@\\S+'), r'', line)\n",
    "    line = re.sub(r'#\\S+ ', r'', line)\n",
    "    line = line.replace(\"â\", \"'\") \n",
    "    line = line.replace('--', ' ')\n",
    "    line = re.sub(r'[^\\sa-zA-Z0-9.,!?]',' ',line)\n",
    "    line = line.strip()\n",
    "    line = line.replace(\"\\xa0\", \"\")\n",
    "    line = line.replace(\"click to share on twitter\", \"\")\n",
    "\n",
    "    line = re.sub(r'[ \\t]{2,}',' ', line)\n",
    "    return line\n",
    "\n",
    "  def transform(self, X):\n",
    "    #X = X[self.column].replace(self.contraction)\n",
    "    return X[self.column].replace(self.contraction).fillna('').apply(lambda x: self.preprocessing(x)) "
   ]
  },
  {
   "cell_type": "code",
   "execution_count": 13,
   "metadata": {
    "colab": {},
    "colab_type": "code",
    "id": "m-XAtbFVI24a"
   },
   "outputs": [],
   "source": [
    "class Processor:\n",
    "\n",
    "  def __init__(self, data, \n",
    "               contraction,\n",
    "               max_length = None):\n",
    "    \n",
    "    self.max_length = max_length\n",
    "    self.data = data\n",
    "    self.contraction = contraction\n",
    "\n",
    "    \n",
    "  def cleaning(self, data):\n",
    "    if not isinstance(data, pd.DataFrame):\n",
    "      raise TypeError('Only Dataframes are allowed, but got data={}'.format(data))\n",
    "    else:\n",
    "      print('Please wait, we are cleaning...')\n",
    "      titles = ['text', 'summary']\n",
    "      data_dict = {}\n",
    "\n",
    "      for title in titles:\n",
    "        proc = TextProccessing(title, self.contraction)\n",
    "        res = proc.fit_transform(data)\n",
    "        data_dict[title] = res\n",
    "\n",
    "      ss = pd.DataFrame(data_dict)\n",
    "      \n",
    "      return ss\n",
    "\n",
    "  @staticmethod\n",
    "  def split(data):\n",
    "    return len(data.split())\n",
    "\n",
    "  def get_max_tokens(self, dataframe):\n",
    "\n",
    "    dataframe['article_len'] = dataframe['text'].apply(self.split)\n",
    "    dataframe['summary_len'] = dataframe['summary'].apply(self.split)\n",
    "    \n",
    "    max_len = {'max_article_tokens': max(dataframe['article_len']), \n",
    "                'min_article_tokens': min(dataframe['article_len']),\n",
    "                'max_summary_tokens': max(dataframe['summary_len']),\n",
    "                'min_summary_tokens': min(dataframe['summary_len'])}\n",
    "    return max_len, dataframe\n",
    "\n",
    "  def cleaned_data(self):\n",
    "    dataframe = self.cleaning(self.data)\n",
    "    \n",
    "    if self.max_length is None:\n",
    "      min_len, dataframe = self.get_max_tokens(dataframe)\n",
    "    else:\n",
    "      min_len = self.max_length\n",
    "      max_len, dataframe = self.get_max_tokens(dataframe)    \n",
    "\n",
    "    min_length = min_len['min_article_tokens']\n",
    "    idx_list = []\n",
    "    for idx, length in tqdm(enumerate(dataframe['article_len'])):\n",
    "        #pragraph = len(paragraph.split())\n",
    "        if length < min_length:\n",
    "          idx_list.append(idx)\n",
    "    final_data = dataframe.drop(idx_list)\n",
    "    final_data = final_data.reset_index(drop=True)\n",
    "\n",
    "    #max_len, _ = self.get_max_tokens(final_data)\n",
    "\n",
    "    print('Done!')\n",
    "    \n",
    "    return final_data, max_len"
   ]
  },
  {
   "cell_type": "code",
   "execution_count": 14,
   "metadata": {
    "colab": {},
    "colab_type": "code",
    "id": "bNRiUhXoVkvY"
   },
   "outputs": [],
   "source": [
    "maxlen = {'max_article_tokens': 512,\n",
    "          'max_summary_tokens': 300,\n",
    "          'min_article_tokens': 100,\n",
    "          'min_summary_tokens': 0}"
   ]
  },
  {
   "cell_type": "code",
   "execution_count": 15,
   "metadata": {
    "colab": {
     "base_uri": "https://localhost:8080/",
     "height": 102,
     "referenced_widgets": [
      "aa59dbf1348742868c526a5cd2881b28",
      "f3c1ebc2d36d4311940c75068d491dfd",
      "bda49606b3254b45aa01aea5eacdccb9",
      "495e64e746fb4ac5a3ebb93e72d80cf2",
      "246eeb6e3e814185a92d51b933a6cf16",
      "a5b8c79b6fd34d62b0c804035fd792d4",
      "1a0b9019aa7a41298e993a61d3803b74",
      "761c5839d34445bbb39d713b2b1e1c7c"
     ]
    },
    "colab_type": "code",
    "id": "oBiSvEkhz2ol",
    "outputId": "f818edec-29e4-4f35-86e5-3cd078e4b887"
   },
   "outputs": [
    {
     "name": "stdout",
     "output_type": "stream",
     "text": [
      "Please wait, we are cleaning...\n"
     ]
    },
    {
     "data": {
      "application/vnd.jupyter.widget-view+json": {
       "model_id": "7e61066a5c984f9f894f7159eb2648f9",
       "version_major": 2,
       "version_minor": 0
      },
      "text/plain": [
       "HBox(children=(FloatProgress(value=1.0, bar_style='info', max=1.0), HTML(value='')))"
      ]
     },
     "metadata": {},
     "output_type": "display_data"
    },
    {
     "name": "stdout",
     "output_type": "stream",
     "text": [
      "\n",
      "Done!\n"
     ]
    }
   ],
   "source": [
    "textproc = Processor(train_data, contraction, maxlen)\n",
    "train_processed, doc_lengths = textproc.cleaned_data()"
   ]
  },
  {
   "cell_type": "code",
   "execution_count": 16,
   "metadata": {},
   "outputs": [
    {
     "name": "stdout",
     "output_type": "stream",
     "text": [
      "Please wait, we are cleaning...\n"
     ]
    },
    {
     "data": {
      "application/vnd.jupyter.widget-view+json": {
       "model_id": "d4eb0f229ef74aeaaf0955badc8ed8a0",
       "version_major": 2,
       "version_minor": 0
      },
      "text/plain": [
       "HBox(children=(FloatProgress(value=1.0, bar_style='info', max=1.0), HTML(value='')))"
      ]
     },
     "metadata": {},
     "output_type": "display_data"
    },
    {
     "name": "stdout",
     "output_type": "stream",
     "text": [
      "\n",
      "Done!\n"
     ]
    }
   ],
   "source": [
    "textproc = Processor(valid_data, contraction, maxlen)\n",
    "valid_processed, valid_doc_lengths = textproc.cleaned_data()"
   ]
  },
  {
   "cell_type": "code",
   "execution_count": 17,
   "metadata": {
    "colab": {
     "base_uri": "https://localhost:8080/",
     "height": 210
    },
    "colab_type": "code",
    "id": "MNmq9Mgx_BNx",
    "outputId": "76787690-88a2-49c8-eed6-de45a698b67f"
   },
   "outputs": [
    {
     "name": "stdout",
     "output_type": "stream",
     "text": [
      "<class 'pandas.core.frame.DataFrame'>\n",
      "RangeIndex: 951381 entries, 0 to 951380\n",
      "Data columns (total 4 columns):\n",
      " #   Column       Non-Null Count   Dtype \n",
      "---  ------       --------------   ----- \n",
      " 0   text         951381 non-null  object\n",
      " 1   summary      951381 non-null  object\n",
      " 2   article_len  951381 non-null  int64 \n",
      " 3   summary_len  951381 non-null  int64 \n",
      "dtypes: int64(2), object(2)\n",
      "memory usage: 29.0+ MB\n"
     ]
    }
   ],
   "source": [
    "train_processed.info()"
   ]
  },
  {
   "cell_type": "markdown",
   "metadata": {},
   "source": [
    "Only one article droped that was having zeros length. However we still have some article with no summaries. Therefore we can get rid off them."
   ]
  },
  {
   "cell_type": "code",
   "execution_count": 18,
   "metadata": {
    "colab": {
     "base_uri": "https://localhost:8080/",
     "height": 87
    },
    "colab_type": "code",
    "id": "ngCA4TwV1YBW",
    "outputId": "35a242e0-e94a-434d-e6ab-2f4dcaf6022d"
   },
   "outputs": [
    {
     "data": {
      "text/plain": [
       "{'max_article_tokens': 115752,\n",
       " 'min_article_tokens': 0,\n",
       " 'max_summary_tokens': 6534,\n",
       " 'min_summary_tokens': 0}"
      ]
     },
     "execution_count": 18,
     "metadata": {},
     "output_type": "execute_result"
    }
   ],
   "source": [
    "doc_lengths"
   ]
  },
  {
   "cell_type": "code",
   "execution_count": 19,
   "metadata": {},
   "outputs": [],
   "source": [
    "indices = np.where(train_processed['summary_len'] < 10)\n",
    "#train_processed.iloc[indices[0]]"
   ]
  },
  {
   "cell_type": "code",
   "execution_count": 20,
   "metadata": {},
   "outputs": [],
   "source": [
    "#train_data.iloc[954753]['summary'] # '<ul>\\n\\t<li><b>£', 'Ø¨Ø§ Ø§Û\\x8cÙ\\x86 Ø§Ø\\xadØ³Ø§Ø³ Ø¯Ø±Ù\\x85Ø§Ù\\x86Ø¯Ú¯Û\\x8cØ\\x8c Ø¨Ù\\x87 Ù\\x86Ø¸Ø±Øª Ù\\x85Û\\x8câ\\x80\\x8fØ±Ø³Ø¯ Ú©Ù\\x87 ØªØ\\xadØ±Û\\x8cÙ\\x85â\\x80\\x8fÙ\\x87Ø§ Ø¯Ø§Ø±Ù\\x86Ø¯ Ú©Ø§Ø± Ù\\x85Û\\x8câ\\x80\\x8fÚ©Ù\\x86Ù\\x86Ø¯'"
   ]
  },
  {
   "cell_type": "code",
   "execution_count": 21,
   "metadata": {},
   "outputs": [],
   "source": [
    "train_processed_data = train_processed.drop(indices[0])\n",
    "train_processed_data = train_processed_data.reset_index(drop=True)"
   ]
  },
  {
   "cell_type": "code",
   "execution_count": 22,
   "metadata": {},
   "outputs": [],
   "source": [
    "train_processed_data.to_pickle(\"./preprocessed_train.pkl\")"
   ]
  },
  {
   "cell_type": "code",
   "execution_count": 8,
   "metadata": {},
   "outputs": [],
   "source": [
    "train_processed_data = pd.read_pickle(\"./preprocessed_train.pkl\")"
   ]
  },
  {
   "cell_type": "code",
   "execution_count": 6,
   "metadata": {},
   "outputs": [
    {
     "name": "stdout",
     "output_type": "stream",
     "text": [
      "<class 'pandas.core.frame.DataFrame'>\n",
      "RangeIndex: 882676 entries, 0 to 882675\n",
      "Data columns (total 4 columns):\n",
      " #   Column       Non-Null Count   Dtype \n",
      "---  ------       --------------   ----- \n",
      " 0   text         882676 non-null  object\n",
      " 1   summary      882676 non-null  object\n",
      " 2   article_len  882676 non-null  int64 \n",
      " 3   summary_len  882676 non-null  int64 \n",
      "dtypes: int64(2), object(2)\n",
      "memory usage: 26.9+ MB\n"
     ]
    }
   ],
   "source": [
    "train_processed_data.info()"
   ]
  },
  {
   "cell_type": "code",
   "execution_count": 7,
   "metadata": {
    "colab": {
     "base_uri": "https://localhost:8080/",
     "height": 158
    },
    "colab_type": "code",
    "id": "x9chLqw-PK9e",
    "outputId": "e2cebd34-52fa-4767-d432-c8b0c9af6d9d"
   },
   "outputs": [
    {
     "data": {
      "text/plain": [
       "0.5000     24.0\n",
       "0.7500     31.0\n",
       "0.9000     44.0\n",
       "0.9500     58.0\n",
       "0.9900    141.0\n",
       "0.9990    343.0\n",
       "0.9999    663.0\n",
       "Name: summary_len, dtype: float64"
      ]
     },
     "execution_count": 7,
     "metadata": {},
     "output_type": "execute_result"
    }
   ],
   "source": [
    "train_processed_data['summary_len'].quantile([0.5, 0.75, 0.9, 0.95, 0.99, 0.999, 0.9999])"
   ]
  },
  {
   "cell_type": "code",
   "execution_count": 8,
   "metadata": {
    "colab": {
     "base_uri": "https://localhost:8080/",
     "height": 158
    },
    "colab_type": "code",
    "id": "hBlW5wqJpmJK",
    "outputId": "7a8991bf-5f84-4e1a-9a00-e071c1ee35e3"
   },
   "outputs": [
    {
     "data": {
      "text/plain": [
       "0.5000      574.000\n",
       "0.7500      890.000\n",
       "0.9000     1237.000\n",
       "0.9500     1575.000\n",
       "0.9900     3206.250\n",
       "0.9990     8660.600\n",
       "0.9999    23091.975\n",
       "Name: article_len, dtype: float64"
      ]
     },
     "execution_count": 8,
     "metadata": {},
     "output_type": "execute_result"
    }
   ],
   "source": [
    "train_processed_data['article_len'].quantile([0.5, 0.75, 0.9, 0.95, 0.99, 0.999, 0.9999])"
   ]
  },
  {
   "cell_type": "code",
   "execution_count": 27,
   "metadata": {},
   "outputs": [
    {
     "data": {
      "text/plain": [
       "{'max_article_tokens': 67366,\n",
       " 'min_article_tokens': 5,\n",
       " 'max_summary_tokens': 1502,\n",
       " 'min_summary_tokens': 0}"
      ]
     },
     "execution_count": 27,
     "metadata": {},
     "output_type": "execute_result"
    }
   ],
   "source": [
    "#valid_doc_lengths"
   ]
  },
  {
   "cell_type": "code",
   "execution_count": 28,
   "metadata": {},
   "outputs": [],
   "source": [
    "inds = np.where(valid_processed['summary_len'] < 10)\n",
    "#valid_processed.iloc[inds[0]]\n",
    "valid_processed_data = valid_processed.drop(inds[0])\n",
    "valid_processed_data = valid_processed_data.reset_index(drop=True)"
   ]
  },
  {
   "cell_type": "code",
   "execution_count": 29,
   "metadata": {},
   "outputs": [],
   "source": [
    "valid_processed_data.to_pickle(\"./preprocessed_valid.pkl\")"
   ]
  },
  {
   "cell_type": "code",
   "execution_count": 10,
   "metadata": {},
   "outputs": [],
   "source": [
    "valid_processed_data = pd.read_pickle(\"./preprocessed_valid.pkl\")"
   ]
  },
  {
   "cell_type": "code",
   "execution_count": 11,
   "metadata": {},
   "outputs": [
    {
     "name": "stdout",
     "output_type": "stream",
     "text": [
      "<class 'pandas.core.frame.DataFrame'>\n",
      "RangeIndex: 96581 entries, 0 to 96580\n",
      "Data columns (total 4 columns):\n",
      " #   Column       Non-Null Count  Dtype \n",
      "---  ------       --------------  ----- \n",
      " 0   text         96581 non-null  object\n",
      " 1   summary      96581 non-null  object\n",
      " 2   article_len  96581 non-null  int64 \n",
      " 3   summary_len  96581 non-null  int64 \n",
      "dtypes: int64(2), object(2)\n",
      "memory usage: 2.9+ MB\n"
     ]
    }
   ],
   "source": [
    "valid_processed_data.info()"
   ]
  },
  {
   "cell_type": "code",
   "execution_count": 12,
   "metadata": {},
   "outputs": [
    {
     "data": {
      "text/plain": [
       "0.5000      571.000\n",
       "0.7500      885.000\n",
       "0.9000     1228.000\n",
       "0.9500     1568.000\n",
       "0.9900     3119.600\n",
       "0.9990     8641.460\n",
       "0.9999    22122.936\n",
       "Name: article_len, dtype: float64"
      ]
     },
     "execution_count": 12,
     "metadata": {},
     "output_type": "execute_result"
    }
   ],
   "source": [
    "valid_processed_data['article_len'].quantile([0.5, 0.75, 0.9, 0.95, 0.99, 0.999, 0.9999])"
   ]
  },
  {
   "cell_type": "code",
   "execution_count": 13,
   "metadata": {},
   "outputs": [
    {
     "data": {
      "text/plain": [
       "0.5000     24.000\n",
       "0.7500     31.000\n",
       "0.9000     45.000\n",
       "0.9500     60.000\n",
       "0.9900    146.000\n",
       "0.9990    364.000\n",
       "0.9999    724.234\n",
       "Name: summary_len, dtype: float64"
      ]
     },
     "execution_count": 13,
     "metadata": {},
     "output_type": "execute_result"
    }
   ],
   "source": [
    "valid_processed_data['summary_len'].quantile([0.5, 0.75, 0.9, 0.95, 0.99, 0.999, 0.9999])"
   ]
  },
  {
   "cell_type": "code",
   "execution_count": 12,
   "metadata": {
    "colab": {
     "base_uri": "https://localhost:8080/",
     "height": 34
    },
    "colab_type": "code",
    "id": "bFFt1a_35GZR",
    "outputId": "f0e6781d-9141-4f4b-d915-9c6d5000a5dc"
   },
   "outputs": [
    {
     "name": "stdout",
     "output_type": "stream",
     "text": [
      "art len:512, sum len:150\n"
     ]
    }
   ],
   "source": [
    "art = 512 #int(train_processed_data['article_len'].quantile(0.9900))\n",
    "sum_ = 150# int(train_processed_data['summary_len'].quantile(0.9900))\n",
    "\n",
    "print(f'art len:{art}, sum len:{sum_}')"
   ]
  },
  {
   "cell_type": "code",
   "execution_count": 13,
   "metadata": {},
   "outputs": [
    {
     "name": "stdout",
     "output_type": "stream",
     "text": [
      "art len:512, sum len:150\n"
     ]
    }
   ],
   "source": [
    "artV = 512 #int(valid_processed_data['article_len'].quantile(0.9900))\n",
    "sumV = 150# int(valid_processed_data['summary_len'].quantile(0.9900))\n",
    "\n",
    "print(f'art len:{artV}, sum len:{sumV}')"
   ]
  },
  {
   "cell_type": "markdown",
   "metadata": {
    "colab_type": "text",
    "id": "dtuTFeLttppa"
   },
   "source": [
    "#### Creating Custom Dataset"
   ]
  },
  {
   "cell_type": "code",
   "execution_count": 15,
   "metadata": {
    "colab": {},
    "colab_type": "code",
    "id": "iYEBtk-Ctyy4"
   },
   "outputs": [],
   "source": [
    "class CustomDataReader(Dataset):\n",
    "  \"\"\"\n",
    "  Loading data to be used in pytorch pre-trained models\n",
    "  \n",
    "  \"\"\"\n",
    "  def __init__(self, dataframe, T5tokenizer, max_article_tokens=None,max_summary_tokens=None ):\n",
    "    self.tokenizer = T5tokenizer\n",
    "    self.dataframe = dataframe\n",
    "    self.eos = ' </s>'  #tokenizer.eos_token\n",
    "    self.sos = '<pad> ' #tokenizer.pad_token\n",
    "    self.source_len = max_article_tokens\n",
    "    self.target_len = max_summary_tokens\n",
    "  \n",
    "  def __len__(self):\n",
    "    return len(self.dataframe)\n",
    "\n",
    "  def __getitem__(self, idx):\n",
    "    articles = \"summarize: \" + str(self.dataframe.text[idx]) + self.eos\n",
    "    articles = ' '.join(articles.split())\n",
    "\n",
    "    summary = self.sos + str(self.dataframe.summary[idx]) + self.eos\n",
    "    summary = ' '.join(summary.split())\n",
    "\n",
    "    source_tokenized = self.tokenizer.batch_encode_plus([articles], max_length= self.source_len, pad_to_max_length=True, truncation=True,return_tensors='pt')\n",
    "    target_tokenized = self.tokenizer.batch_encode_plus([summary], max_length= self.target_len, pad_to_max_length=True, truncation=True,return_tensors='pt')\n",
    "\n",
    "    source_ids = source_tokenized['input_ids'].squeeze(0)\n",
    "    source_mask = source_tokenized['attention_mask'].squeeze(0)\n",
    "\n",
    "    summary_ids = target_tokenized['input_ids'].squeeze(0)\n",
    "    summary_mask = target_tokenized['attention_mask'].squeeze(0)\n",
    "\n",
    "    return source_ids, source_mask, summary_ids, summary_mask\n"
   ]
  },
  {
   "cell_type": "markdown",
   "metadata": {
    "colab_type": "text",
    "id": "mqfiCrePYQIK"
   },
   "source": [
    "#### Training Loop"
   ]
  },
  {
   "cell_type": "code",
   "execution_count": 17,
   "metadata": {
    "colab": {},
    "colab_type": "code",
    "id": "hQwJS66iz0uS"
   },
   "outputs": [],
   "source": [
    "def training(model, dataset_loader, optimizer, iteration=0):\n",
    "\n",
    "  model.train()\n",
    "  avg_loss = 0\n",
    "  nItem = 0\n",
    "\n",
    "\n",
    "  print(f'Start training for epoch: {iteration}')\n",
    " \n",
    "  for idx, data_train in enumerate(dataset_loader):\n",
    "\n",
    "    input_ids, source_mask, summary_ids, summary_mask = data_train\n",
    "\n",
    "    input_ids = input_ids.to(device, dtype = torch.long)\n",
    "    source_mask = source_mask.to(device, dtype = torch.float)\n",
    "    summary_ids = summary_ids.to(device, dtype = torch.long)\n",
    "\n",
    "    target_labels = summary_ids[:, :-1].contiguous()\n",
    "    langm_labels = summary_ids[:, 1:].clone().detach()\n",
    "    langm_labels[summary_ids[:, 1:] == tokenizer.pad_token_id] = -100\n",
    "\n",
    "    optimizer.zero_grad()\n",
    "    \n",
    "    output = model(input_ids=input_ids, attention_mask = source_mask, decoder_input_ids=target_labels, lm_labels=langm_labels)\n",
    "    \n",
    "    loss = output[0]\n",
    "\n",
    "    loss.backward()\n",
    "    optimizer.step()\n",
    "\n",
    "    bs = input_ids.size(0)\n",
    "    nItem += bs\n",
    "\n",
    "    avg_loss += loss.item() * bs\n",
    "    \n",
    "#     if idx%config.log_interval == 0:\n",
    "#             wandb.log({\"Training Loss\": loss.item()})\n",
    "    if idx % 5000 == 0:\n",
    "      print(f'[{idx * len(input_ids)}/{len(dataset_loader.dataset)} ({100. * idx / len(dataset_loader):.0f})%] \\t Training loss: {loss:.3f}')\n",
    "  \n",
    "  avg_loss /= nItem\n",
    "  \n",
    "  return avg_loss, output\n"
   ]
  },
  {
   "cell_type": "code",
   "execution_count": 18,
   "metadata": {
    "colab": {},
    "colab_type": "code",
    "id": "uYQaqTmxRtzQ"
   },
   "outputs": [],
   "source": [
    "def validation(model, dataset_loader):\n",
    "  model.eval()\n",
    "\n",
    "  eval_loss = 0\n",
    "  nItem = 0\n",
    "\n",
    "  with torch.no_grad():\n",
    "    for idx, data_val in tqdm(enumerate(dataset_loader)):\n",
    "\n",
    "      input_ids, source_mask, summary_ids, summary_mask = data_val\n",
    "\n",
    "      input_ids = input_ids.to(device, dtype = torch.long)\n",
    "      source_mask = source_mask.to(device, dtype = torch.float)\n",
    "      summary_ids = summary_ids.to(device, dtype = torch.long)\n",
    "\n",
    "      target_labels = summary_ids[:, :-1].contiguous()\n",
    "      langm_labels = summary_ids[:, 1:].clone().detach()\n",
    "      langm_labels[summary_ids[:, 1:] == tokenizer.pad_token_id] = -100\n",
    "      \n",
    "      output = model(input_ids=input_ids, attention_mask = source_mask, decoder_input_ids=target_labels, lm_labels=langm_labels)\n",
    "      \n",
    "      loss = output[0]\n",
    "\n",
    "      bs = input_ids.size(0)\n",
    "      nItem += bs\n",
    "\n",
    "      eval_loss += loss.item()\n",
    "\n",
    "    eval_loss /= nItem\n",
    "\n",
    "    return eval_loss"
   ]
  },
  {
   "cell_type": "code",
   "execution_count": 19,
   "metadata": {
    "colab": {},
    "colab_type": "code",
    "id": "h5ZhapbZawXG"
   },
   "outputs": [],
   "source": [
    "def saving(PATH, epoch, avg_loss, model,pp, LEARNING_RATE):\n",
    "  torch.save({\n",
    "            'epoch': epoch,\n",
    "            'model_state_dict': model.state_dict(),\n",
    "            'train_loss': avg_loss,\n",
    "            'perplexity': pp,\n",
    "            'learning_rate': LEARNING_RATE\n",
    "            }, PATH)"
   ]
  },
  {
   "cell_type": "markdown",
   "metadata": {
    "colab_type": "text",
    "id": "ZsdXt4STdroJ"
   },
   "source": [
    "#### The model evaluation\n",
    "\n",
    "The perplexity:\n",
    "\n",
    "\\begin{align}\n",
    "\\large \\text{ppl}(p, D) &\\large = 2^{-\\frac{1}{N_{total}}\\log_2 p(D)}\n",
    "\\end{align}\n",
    "\n",
    "where $D=\\{(w_1,\\ldots,w_{N_i})_i\\}_{i=1}^M$ is a dataset of $M$ sequences with total length $N_{\\text{total}}=\\sum_{i}N_i$.\n",
    "\n",
    "#### Computing perplexity\n",
    "\n",
    "Our model's loss is the (negative) log probability of every token in the output sequence, which can be used to compute perplexity.\n",
    "\n",
    "We define perplexity using the **base 2** logarithm."
   ]
  },
  {
   "cell_type": "code",
   "execution_count": 20,
   "metadata": {
    "colab": {},
    "colab_type": "code",
    "id": "FarmceVkcm-Y"
   },
   "outputs": [],
   "source": [
    "def get_perplexity(epoc_loss):\n",
    "  rs = epoc_loss/np.log(2)\n",
    "  pp = 2**rs\n",
    "  return pp"
   ]
  },
  {
   "cell_type": "code",
   "execution_count": 21,
   "metadata": {
    "cellView": "both",
    "colab": {
     "base_uri": "https://localhost:8080/",
     "height": 67,
     "referenced_widgets": [
      "daf94faf76d5426291b3b6af7c203256",
      "c1a456c1a76d4fcca0ed4026b8e8213d",
      "c474da83a17e48eb811437af8bd293f8",
      "f00129f87cd9473d92a43cd7d493f765",
      "d8b35d4a603047daa47a923b3dad5843",
      "af2e6d37b662467a9995900e0a00bcb7",
      "7bfefa6286fa41d4b67e27f0908758e7",
      "c6df116aced44356a6e450bc17adab9f"
     ]
    },
    "colab_type": "code",
    "id": "eDlcT25-F-sO",
    "outputId": "7a1b86eb-0a55-4911-a2f4-9e622687ddb5"
   },
   "outputs": [],
   "source": [
    "#@title #### Loading T5 model and its Tokenizer { run: \"auto\" }\n",
    "\n",
    "LEARNING_RATE = 3e-4\n",
    "MODEL_NAME = 't5-base' # or T5-Large:770 params, T5-3B, T5-Base: 220 Params, T5-11B\n",
    "model = T5ForConditionalGeneration.from_pretrained(MODEL_NAME)\n",
    "tokenizer = T5Tokenizer.from_pretrained(MODEL_NAME)\n",
    "#optimizer = optim.Adam(model.parameters(), lr=LEARNING_RATE)"
   ]
  },
  {
   "cell_type": "code",
   "execution_count": 42,
   "metadata": {
    "colab": {
     "base_uri": "https://localhost:8080/",
     "height": 35
    },
    "colab_type": "code",
    "id": "Jkp7dIU9-ZO3",
    "outputId": "f18b53f5-38d8-4bc1-c664-98b01f61f546"
   },
   "outputs": [
    {
     "data": {
      "text/plain": [
       "('</s>', '<pad>')"
      ]
     },
     "execution_count": 42,
     "metadata": {},
     "output_type": "execute_result"
    }
   ],
   "source": [
    "eos = tokenizer.eos_token\n",
    "sos = tokenizer.pad_token\n",
    "eos, sos"
   ]
  },
  {
   "cell_type": "code",
   "execution_count": 22,
   "metadata": {
    "colab": {},
    "colab_type": "code",
    "id": "W51Hk0xEz0sH"
   },
   "outputs": [],
   "source": [
    "#@title Train, Validation and Test splits { run: \"auto\" }\n",
    "\n",
    "columns = [\"text\",\"summary\"]\n",
    "\n",
    "X_train = train_processed_data[columns] #X_train.reset_index(drop=True)\n",
    "X_valid = valid_processed_data[columns] #X_val.reset_index(drop=True)"
   ]
  },
  {
   "cell_type": "code",
   "execution_count": 23,
   "metadata": {
    "colab": {
     "base_uri": "https://localhost:8080/",
     "height": 195
    },
    "colab_type": "code",
    "id": "sQeVMTtGz0p7",
    "outputId": "3e428252-9f55-4243-8cd2-a5d6f4c6641d"
   },
   "outputs": [
    {
     "data": {
      "text/html": [
       "<div>\n",
       "<style scoped>\n",
       "    .dataframe tbody tr th:only-of-type {\n",
       "        vertical-align: middle;\n",
       "    }\n",
       "\n",
       "    .dataframe tbody tr th {\n",
       "        vertical-align: top;\n",
       "    }\n",
       "\n",
       "    .dataframe thead th {\n",
       "        text-align: right;\n",
       "    }\n",
       "</style>\n",
       "<table border=\"1\" class=\"dataframe\">\n",
       "  <thead>\n",
       "    <tr style=\"text-align: right;\">\n",
       "      <th></th>\n",
       "      <th>text</th>\n",
       "      <th>summary</th>\n",
       "    </tr>\n",
       "  </thead>\n",
       "  <tbody>\n",
       "    <tr>\n",
       "      <th>0</th>\n",
       "      <td>HAMBURG, Germany, June 3 As he left the soccer...</td>\n",
       "      <td>A surge in discriminatory behavior toward blac...</td>\n",
       "    </tr>\n",
       "    <tr>\n",
       "      <th>1</th>\n",
       "      <td>WASHINGTON, Dec. 23 The National Security Agen...</td>\n",
       "      <td>The volume of information harvested, without \\...</td>\n",
       "    </tr>\n",
       "    <tr>\n",
       "      <th>2</th>\n",
       "      <td>IF outsized executive pay has indeed become a ...</td>\n",
       "      <td>The battle between Pfizer Inc. s investors and...</td>\n",
       "    </tr>\n",
       "    <tr>\n",
       "      <th>3</th>\n",
       "      <td>BY A.J. BENZA and MICHAEL LEWITTES\\n\\nIf Simon...</td>\n",
       "      <td>If Simon Rex looks a little familiar, it may n...</td>\n",
       "    </tr>\n",
       "    <tr>\n",
       "      <th>4</th>\n",
       "      <td>Spinach has terrorized generations of veggie p...</td>\n",
       "      <td>POPEYE WORTHY PIE. PHYLLO DOUGH WRAPS SPINACH ...</td>\n",
       "    </tr>\n",
       "  </tbody>\n",
       "</table>\n",
       "</div>"
      ],
      "text/plain": [
       "                                                text  \\\n",
       "0  HAMBURG, Germany, June 3 As he left the soccer...   \n",
       "1  WASHINGTON, Dec. 23 The National Security Agen...   \n",
       "2  IF outsized executive pay has indeed become a ...   \n",
       "3  BY A.J. BENZA and MICHAEL LEWITTES\\n\\nIf Simon...   \n",
       "4  Spinach has terrorized generations of veggie p...   \n",
       "\n",
       "                                             summary  \n",
       "0  A surge in discriminatory behavior toward blac...  \n",
       "1  The volume of information harvested, without \\...  \n",
       "2  The battle between Pfizer Inc. s investors and...  \n",
       "3  If Simon Rex looks a little familiar, it may n...  \n",
       "4  POPEYE WORTHY PIE. PHYLLO DOUGH WRAPS SPINACH ...  "
      ]
     },
     "execution_count": 23,
     "metadata": {},
     "output_type": "execute_result"
    }
   ],
   "source": [
    "X_train.head()"
   ]
  },
  {
   "cell_type": "code",
   "execution_count": 24,
   "metadata": {},
   "outputs": [],
   "source": [
    "def get_dataloader(X, BATCH_SIZE,valid=None, **kwargs):\n",
    "\n",
    "    if valid == 'valid':\n",
    "        val_params = {\n",
    "            'batch_size': BATCH_SIZE,\n",
    "            'shuffle': False,\n",
    "            'num_workers': 2\n",
    "            }\n",
    "        data_set = CustomDataReader(X, tokenizer,**kwargs)\n",
    "        data_loader = DataLoader(data_set, **val_params)\n",
    "        \n",
    "    else:\n",
    "        data_set = CustomDataReader(X, tokenizer,**kwargs)     \n",
    "        train_params = {\n",
    "            'batch_size': BATCH_SIZE,\n",
    "            'shuffle': True,\n",
    "            'num_workers': 4\n",
    "            }\n",
    "        data_loader = DataLoader(data_set, **train_params)\n",
    "    \n",
    "    return data_loader"
   ]
  },
  {
   "cell_type": "code",
   "execution_count": 25,
   "metadata": {
    "colab": {},
    "colab_type": "code",
    "id": "08lW8ejhmgya"
   },
   "outputs": [],
   "source": [
    "Xtrain_trial = X_train.iloc[:100000]\n",
    "Xvalid_trial = X_valid.iloc[:11600]"
   ]
  },
  {
   "cell_type": "code",
   "execution_count": 34,
   "metadata": {
    "colab": {},
    "colab_type": "code",
    "id": "sGaGMwWLzfVE"
   },
   "outputs": [],
   "source": [
    "N_EPOCHS = 5\n",
    "path = '/home/jupyter/Projects/best_model.pth'\n",
    "pcle = '/home/jupyter/Projects/optimizer_state_dict.pkl'\n",
    "filename = open(pcle, 'wb')"
   ]
  },
  {
   "cell_type": "code",
   "execution_count": 35,
   "metadata": {
    "colab": {},
    "colab_type": "code",
    "id": "csfO3UdlJtEf"
   },
   "outputs": [],
   "source": [
    "def run(model,\n",
    "        X_train, X_valid, \n",
    "        path=None,filename=None,\n",
    "        lr= LEARNING_RATE):\n",
    "\n",
    "    #best_loss = float('inf')\n",
    "    #best_pp = float('inf')\n",
    "    # WandB – Initialize a new run\n",
    "\n",
    "#     wandb.init(project=\"document-summarization-using-transformer\", WANDB_MODE=dryrun)\n",
    "#     wandb.watch_called = False # Re-run the model without restarting the runtime, unnecessary after our next release\n",
    "\n",
    "    # WandB – Config is a variable that holds and saves hyperparameters and inputs\n",
    "    # Defining some key variables that will be used later on in the training  \n",
    "#     config = wandb.config          \n",
    "#     config.BATCH_SIZE = 4\n",
    "#     config.EVAL_BATCH_SIZE = 10\n",
    "#     config.N_EPOCHS = 5 \n",
    "#     config.LEARNING_RATE = lr\n",
    "#     config.SEED = 42               \n",
    "#     config.art_maxlen = art\n",
    "#     config.summary_maxlen = sum_\n",
    "#     config.Valid_art_maxlen = artV\n",
    "#     config.Valid_summary_maxlen = sumV\n",
    "#     config.log_interval = 10     # how many batches to wait before logging training status\n",
    "\n",
    "    \n",
    "    BATCH_SIZE = 4\n",
    "    EVAL_BATCH_SIZE = 4\n",
    "    N_EPOCHS = 5 \n",
    "    LEARNING_RATE = lr\n",
    "    SEED = 42               \n",
    "    art_maxlen = art\n",
    "    summary_maxlen = sum_\n",
    "    Valid_art_maxlen = artV\n",
    "    Valid_summary_maxlen = sumV\n",
    "    #config.log_interval = 10     # how many batches to wait before logging training status\n",
    "    random.seed(SEED)\n",
    "    np.random.seed(SEED)\n",
    "    torch.manual_seed(SEED)\n",
    "    torch.backends.cudnn.deterministic = True\n",
    "    \n",
    "    kwargs = {'max_article_tokens': art_maxlen,\n",
    "                'max_summary_tokens': summary_maxlen\n",
    "             }\n",
    "    \n",
    "    kwargsval = {'max_article_tokens': Valid_art_maxlen,\n",
    "                'max_summary_tokens': Valid_summary_maxlen\n",
    "             }\n",
    "    \n",
    "    \n",
    "    train_loader = get_dataloader(X_train, BATCH_SIZE,valid=None, **kwargs)\n",
    "    val_loader  = get_dataloader(X_valid, EVAL_BATCH_SIZE,valid='valid', **kwargsval)\n",
    "    \n",
    "    train_loss = []\n",
    "    val_loss = []\n",
    "    perplexity = []\n",
    "    \n",
    "    model = model.to(device)\n",
    "    optimizer = AdaFactor(model.parameters(), lr=LEARNING_RATE)\n",
    "    scheduler = ReduceLROnPlateau(optimizer, factor=0.5, patience=0)\n",
    "    \n",
    "    #wandb.watch(model, log=\"all\")\n",
    "\n",
    "    for epoch in range(N_EPOCHS):\n",
    "\n",
    "        avg_loss, outputs = training(model, train_loader, optimizer, iteration=epoch)\n",
    "        print('\\nValidation start:')\n",
    "        eval_loss = validation(model, val_loader)\n",
    "\n",
    "        pp = get_perplexity(eval_loss)\n",
    "\n",
    "        perplexity.append(pp)\n",
    "        train_loss.append(avg_loss)\n",
    "        val_loss.append(eval_loss)\n",
    "        scheduler.step(eval_loss)\n",
    "\n",
    "\n",
    "        print(f'Epoch loss: {avg_loss:.2f}')\n",
    "        print(f'Perplexity: {pp:.3f} | Eval loss: {eval_loss:.2f}')\n",
    "        print(\"--------------\")\n",
    "        \n",
    "        \n",
    "#         wandb.log({\n",
    "#             \"Training Loss\": avg_loss,\n",
    "#             \"Perplexity \": pp,\n",
    "#             \"Eval Loss\": eval_loss})\n",
    "\n",
    "\n",
    "#         if pp < best_pp:\n",
    "#           best_pp = pp\n",
    "#           saving(path, epoch, avg_loss, model, pp, lr)\n",
    "#           dill.dump(optimizer, filename)\n",
    "\n",
    "    # Save model for every 3 epochs\n",
    "    # if i%3==0:\n",
    "    #   torch.save(model.state_dict(), path)\n",
    "    #print(f'Best Perplexity: {best_pp}')\n",
    "    #filename.close()\n",
    "\n",
    "    return train_loss, perplexity, val_loss, outputs"
   ]
  },
  {
   "cell_type": "code",
   "execution_count": 36,
   "metadata": {
    "colab": {
     "base_uri": "https://localhost:8080/",
     "height": 1000,
     "referenced_widgets": [
      "cb47163880b644e99674d508f1407349",
      "e94c000d5060445ca93691f6af42e70c",
      "6e1089fcff4a4ad19de6fc9dfb87c171",
      "c5b5410811de4ab59ff76737f353ce27",
      "2f28dc0b45cc4b30acb85fecdc128397",
      "0551f8a91cb547948703416f5c200c93",
      "e8fbc6f859784253a0cf6fe88cc0d9ca",
      "cd662889ecd24a5fbfbf078039e270a8",
      "ddd0f5a0f838494daf3d0581081c3e86",
      "3856954e8b1e47a08fce9fff7a038027",
      "f842c10d414f41c6846c1dc74200f301",
      "a694fbafc40c41e98fe568668e4db732",
      "8365405f8a1c4d178b5ab5cd9d905e32",
      "4800749f8151430c8cc49570cd4ccaf7",
      "dc75ce283dff4270b9c537d4e057d416",
      "992143ed056d4a23afff16b83c514432",
      "dffe3b78e72e4c309bda155884c2c7a7",
      "00632d7b23cc45f59515669601334fcd",
      "d9fb635e32cd4ed4bcddf6574de80b1b",
      "1523672396354424b0658ce14786fbd2",
      "273de981090749b29ce385706c449722",
      "3353a6712b3a482d8907ca80a0824020",
      "ffc60b07ad704ea2afc0ac2c79c10c11",
      "864cb033af344f22b288a320088ec71c",
      "2d96618428094902b80450d649566a66",
      "c7a670342db348f0b703a95438137574",
      "a33ce8bb19284323a89a317403263c0d",
      "90937a3fdc314010948a13e9e2c70e40",
      "b506bbd1464b407980a6ef55a7819828",
      "a2026ad15de541eebf332cb4ce4e1ad2",
      "a56cd84f576841259aace5b34b0efda7",
      "2004cd6b66034fdda39e09c4ea44b3ce",
      "90f39af76e9846b18c45633dce765584",
      "4a42cbf2455346818c8fb92da5665bca",
      "d2a4e7e937804562a63d0191223c0dd0",
      "02d1d8ffcf3a4873880bb4ec2b7eefbf",
      "d689f347b2e040d186d0353abaa96dd4",
      "17e87d4a9a974aa6828c5ae0f9e0cf3a",
      "1f778937b7484fac8de6530ea10a5470",
      "7a0883324f8b4256adf0e8a54c77524f",
      "53c9e46489fc4d708c7fe856173f3b12",
      "27afa2d568d6441690a6d0ee44e40e1c",
      "0cdd1f83587643f68b9cc4659ba75fb8",
      "2732c77700724db3beb39d1c64469852",
      "598b0d3d4ba64ed48d511ce9dd360f64",
      "9efdf4e9fd8c42598cced165c426f5bf",
      "f1010194505c44b588ba44a39e4afd9f",
      "a504d4571ae54c97a6fb586051f17b07",
      "a633f4726f6a4ba5babb0e0414e6c5e1",
      "007752d9ce5e47f480ae606afeb2cd16",
      "58fa30020dc14801a78967796be9df3e",
      "9712936912b84e498783132d111037bf",
      "89f6bfd52126419ab7c6b6ba00894c24",
      "501fe7de2d29471c9ad3580ba42b274d",
      "9e0d68b268384372ae1ec48b6c363b3a",
      "e595378941654a4dbe560a646dc52272",
      "c56a3c25a1284582bdfb1ad9e02ccb06",
      "888804a45395411cb9db622b0e6878cb",
      "b986d76f127a48669bfaf9c674079d87",
      "e941a8dd61c641c88445eb5497fd2760",
      "6736870c4aa94b20adeed80a00507dce",
      "4d3bd152e2b14612bdec4f9692d48739",
      "63ff13ee95f64beea555e0660be15eec",
      "ce7dc5c992754af5a545aa408ed67c88",
      "430de0fcf9ce45799f8cec7b508a8f7f",
      "99791d40ec534ebc9a7f4b01767f9aad",
      "e2be21b2cc584489b535309b9c8904e3",
      "354fdd4a6e064367be8398d996b63d38",
      "8503f63352114056ace6ee5662d746da",
      "fca884b72b1946cd8403edac7d41924e",
      "3008461ae4e440d081f2f3ac46afa685",
      "22e8567701184b729be80c57098badc4",
      "40ef9fea4c03417db6bdc76b480fb59e",
      "3c42fdea3dcd4f2bbd6ba10777f27db3",
      "8b5212a3ed9f49aea201644e1ed1ac53",
      "a637e9d5dda44c3e9c8c3b9154b1b20d",
      "e7ccb000bd83423fb4693a908c638ddb",
      "4e394e72017442e989642afdc2b8abcb",
      "87a5e794f5ff408ebbf2a740a7560adb",
      "200ba008099045719694899c681c2d16",
      "8b0a112033ab4a3a9a970c6eaaec5531",
      "9acb641a7ede4dd6b68097dbff290ce1",
      "8ef3688940ae4ff4840fc3ca4c231125",
      "f7dd810e69fa4f1f91acaec17fb8c64a",
      "68ba61411c5d4097883b053f06493415",
      "838fc6b6bb704fd897d9145830d7bb9f",
      "268c4187cfc9490bacfa1eafe1fbcca1",
      "940db33506ef463788996553c4bf5f74",
      "fb5c1e7223ac4634a16c161784505836",
      "7475bb3748de434eae59ef85715514da",
      "471a09375e984a31824b27e279a6c4f3",
      "27deb6f565ac4447a44770288071a0b8",
      "7a407d5347104eaa9ce6ec36250715d3",
      "37454b94184a4a10a9affa6e84e74f43",
      "e94b124aaf674431b6e424b9c6c1da87",
      "9a9728af9dcb4e67a1a006297cd7b74c",
      "e7fc29feb6d3404d83c1e455602d5c1b",
      "ddf41c306dc441eb85beb6ea7bfbfedd",
      "2d2b6b3effa34b809c30379c42c3c861",
      "f46251823d4f4d219bffc095047f8867",
      "5605c8c2ad12431b88e1404953ecd6b9",
      "ad0c71bcf6d945098f04025bc52055f9",
      "04619e3db74847f5b637c7d2b1d5b8b8",
      "9d3ae70779e447d0aa495a9872209d38",
      "906c310a405b4822a19d206cf3467f9b",
      "75b200a4d1cb4f1cab2204139ac8fff5",
      "61a4358811654212bd669c1c6c40b4cd",
      "917a8ab6a55b4cd382b1cd1982d5a227",
      "7b8fca08cafe4f7e9ad9f519bb005fd1",
      "2df67220b98547639c10a80ceb63b1ef",
      "58d8bd8caffa47788931111cd5d05409",
      "4778d193b45a4e2ca8871f19b195a26b",
      "267a56c7a2f542e3b24a5f790491a550",
      "dc94b3b543714dd0845fdadca7db22a3",
      "db85fdb064634d80b1904313a3b81ddb",
      "1cbf0dd906ac41e985bd752f526fa2d4",
      "ed804e9c6fae4499aa3e6fef00f5de44",
      "9459d0d307814c34aa8a31945a82adb7",
      "41ceec6b9c214b18891c8ab915d5c19c",
      "6005029df2504711a96df12e14290100"
     ]
    },
    "colab_type": "code",
    "id": "npvqrZ9L_Ufl",
    "outputId": "84bc79d3-9ae7-4882-d791-6c3699ca45fb"
   },
   "outputs": [
    {
     "name": "stdout",
     "output_type": "stream",
     "text": [
      "Start training for epoch: 0\n",
      "[0/100000 (0)%] \t Training loss: 0.592\n",
      "[20000/100000 (20)%] \t Training loss: 0.610\n",
      "[40000/100000 (40)%] \t Training loss: 0.778\n",
      "[60000/100000 (60)%] \t Training loss: 1.042\n",
      "[80000/100000 (80)%] \t Training loss: 0.995\n",
      "\n",
      "Validation start:\n"
     ]
    },
    {
     "data": {
      "application/vnd.jupyter.widget-view+json": {
       "model_id": "2b1f4950852f41d8b2217efa8519bc6d",
       "version_major": 2,
       "version_minor": 0
      },
      "text/plain": [
       "HBox(children=(FloatProgress(value=1.0, bar_style='info', max=1.0), HTML(value='')))"
      ]
     },
     "metadata": {},
     "output_type": "display_data"
    },
    {
     "name": "stdout",
     "output_type": "stream",
     "text": [
      "\n",
      "Epoch loss: 1.20\n",
      "Perplexity: 1.473 | Eval loss: 0.39\n",
      "--------------\n",
      "Start training for epoch: 1\n",
      "[0/100000 (0)%] \t Training loss: 0.487\n",
      "[20000/100000 (20)%] \t Training loss: 0.617\n",
      "[40000/100000 (40)%] \t Training loss: 2.403\n",
      "[60000/100000 (60)%] \t Training loss: 0.205\n",
      "[80000/100000 (80)%] \t Training loss: 0.885\n",
      "\n",
      "Validation start:\n"
     ]
    },
    {
     "data": {
      "application/vnd.jupyter.widget-view+json": {
       "model_id": "54737645a9234fd482109dd69f6e063e",
       "version_major": 2,
       "version_minor": 0
      },
      "text/plain": [
       "HBox(children=(FloatProgress(value=1.0, bar_style='info', max=1.0), HTML(value='')))"
      ]
     },
     "metadata": {},
     "output_type": "display_data"
    },
    {
     "name": "stdout",
     "output_type": "stream",
     "text": [
      "\n",
      "Epoch loss: 1.30\n",
      "Perplexity: 1.455 | Eval loss: 0.37\n",
      "--------------\n",
      "Start training for epoch: 2\n",
      "[0/100000 (0)%] \t Training loss: 2.223\n",
      "[20000/100000 (20)%] \t Training loss: 0.976\n",
      "[40000/100000 (40)%] \t Training loss: 2.746\n",
      "[60000/100000 (60)%] \t Training loss: 0.301\n",
      "[80000/100000 (80)%] \t Training loss: 0.865\n",
      "\n",
      "Validation start:\n"
     ]
    },
    {
     "data": {
      "application/vnd.jupyter.widget-view+json": {
       "model_id": "77be1efdec9c4c769308219e6fb09fac",
       "version_major": 2,
       "version_minor": 0
      },
      "text/plain": [
       "HBox(children=(FloatProgress(value=1.0, bar_style='info', max=1.0), HTML(value='')))"
      ]
     },
     "metadata": {},
     "output_type": "display_data"
    },
    {
     "name": "stdout",
     "output_type": "stream",
     "text": [
      "\n",
      "Epoch loss: 1.20\n",
      "Perplexity: 1.457 | Eval loss: 0.38\n",
      "--------------\n",
      "Start training for epoch: 3\n",
      "[0/100000 (0)%] \t Training loss: 1.703\n",
      "[20000/100000 (20)%] \t Training loss: 0.268\n",
      "[40000/100000 (40)%] \t Training loss: 0.834\n",
      "[60000/100000 (60)%] \t Training loss: 0.334\n",
      "[80000/100000 (80)%] \t Training loss: 2.390\n",
      "\n",
      "Validation start:\n"
     ]
    },
    {
     "data": {
      "application/vnd.jupyter.widget-view+json": {
       "model_id": "a269d97f02ad40d382f4a90173734eeb",
       "version_major": 2,
       "version_minor": 0
      },
      "text/plain": [
       "HBox(children=(FloatProgress(value=1.0, bar_style='info', max=1.0), HTML(value='')))"
      ]
     },
     "metadata": {},
     "output_type": "display_data"
    },
    {
     "name": "stdout",
     "output_type": "stream",
     "text": [
      "\n",
      "Epoch loss: 1.02\n",
      "Perplexity: 1.464 | Eval loss: 0.38\n",
      "--------------\n",
      "Start training for epoch: 4\n",
      "[0/100000 (0)%] \t Training loss: 0.753\n",
      "[20000/100000 (20)%] \t Training loss: 0.935\n",
      "[40000/100000 (40)%] \t Training loss: 1.199\n",
      "[60000/100000 (60)%] \t Training loss: 1.753\n",
      "[80000/100000 (80)%] \t Training loss: 0.809\n",
      "\n",
      "Validation start:\n"
     ]
    },
    {
     "data": {
      "application/vnd.jupyter.widget-view+json": {
       "model_id": "a2360548e961452dbff0c29b76bc6677",
       "version_major": 2,
       "version_minor": 0
      },
      "text/plain": [
       "HBox(children=(FloatProgress(value=1.0, bar_style='info', max=1.0), HTML(value='')))"
      ]
     },
     "metadata": {},
     "output_type": "display_data"
    },
    {
     "name": "stdout",
     "output_type": "stream",
     "text": [
      "\n",
      "Epoch loss: 0.90\n",
      "Perplexity: 1.476 | Eval loss: 0.39\n",
      "--------------\n"
     ]
    }
   ],
   "source": [
    "train_loss, perplexity, eval_loss, outputs = run(model, Xtrain_trial, Xvalid_trial, path=path,filename=filename,lr= LEARNING_RATE)"
   ]
  },
  {
   "cell_type": "code",
   "execution_count": 37,
   "metadata": {
    "colab": {
     "base_uri": "https://localhost:8080/",
     "height": 298
    },
    "colab_type": "code",
    "id": "jmJ94Ryul0vR",
    "outputId": "f5f05284-122e-4f8f-cb3c-176e845c19db"
   },
   "outputs": [
    {
     "data": {
      "image/png": "[encoded data removed]",
      "text/plain": [
       "<Figure size 432x288 with 1 Axes>"
      ]
     },
     "metadata": {
      "needs_background": "light"
     },
     "output_type": "display_data"
    }
   ],
   "source": [
    "import matplotlib.pyplot as plt\n",
    "\n",
    "tr_los = np.array(train_loss)\n",
    "ev_los = np.array(eval_loss)\n",
    "per = np.array(perplexity)\n",
    "\n",
    "plt.plot(tr_los, label='Training loss')\n",
    "plt.plot(ev_los, label='Validation loss')\n",
    "plt.plot(per, label='Perplexity on val data')\n",
    "\n",
    "plt.legend(frameon=False)\n",
    "plt.title('Train loss vs Eval loss and Perplexity')\n",
    "plt.show()"
   ]
  },
  {
   "cell_type": "code",
   "execution_count": 38,
   "metadata": {
    "colab": {},
    "colab_type": "code",
    "id": "jsxZGr_bz0cv"
   },
   "outputs": [],
   "source": [
    "def generator(model, dataset_loader):\n",
    "  \n",
    "  model.eval()\n",
    "\n",
    "  results = {\"generated_summary\": [], \"golden_summary\": []}\n",
    "\n",
    "  with torch.no_grad():\n",
    "\n",
    "    for idx, data_val in enumerate(dataset_loader):\n",
    "      \n",
    "      input_ids, source_mask, summary_ids, summary_mask = data_val \n",
    "      \n",
    "      input_ids = input_ids.to(device, dtype = torch.long)\n",
    "      source_mask = source_mask.to(device, dtype = torch.float)\n",
    "      summary_ids = summary_ids.to(device, dtype = torch.long)\n",
    "\n",
    "      generatation = model.generate(input_ids=input_ids,\n",
    "                                    attention_mask=source_mask, \n",
    "                                    min_length=30, \n",
    "                                    max_length=300, \n",
    "                                    num_beams=1,\n",
    "                                    repetition_penalty=2.5,\n",
    "                                    eos_token_id = model.config.eos_token_id,               \n",
    "                                    length_penalty=1.0, \n",
    "                                    early_stopping=True\n",
    "                                    )\n",
    "\n",
    "      for gen, sc in zip(generatation, summary_ids): # Taking whole document IDs and docode the summary\n",
    "\n",
    "        gen_tokens_dec = tokenizer.decode(gen, skip_special_tokens=True, clean_up_tokenization_spaces=True)\n",
    "        sc_tokens_dec = tokenizer.decode(sc, skip_special_tokens=True, clean_up_tokenization_spaces=True)\n",
    "\n",
    "        results[\"generated_summary\"].append(gen_tokens_dec)\n",
    "        results[\"golden_summary\"].append(sc_tokens_dec)\n",
    "\n",
    "  return results\n"
   ]
  },
  {
   "cell_type": "markdown",
   "metadata": {
    "colab_type": "text",
    "id": "MwTbUyKag_8R"
   },
   "source": [
    "#### Loading Saved Model"
   ]
  },
  {
   "cell_type": "code",
   "execution_count": null,
   "metadata": {
    "colab": {},
    "colab_type": "code",
    "id": "tTLrSSGio-c-"
   },
   "outputs": [],
   "source": [
    "pretrained = False\n",
    "\n",
    "if pretrained:    \n",
    "\n",
    "    model = .... # first initialize the model and optimizer\n",
    "\n",
    "    #optimizer = ... # optimizer then,\n",
    "    infile = open(pcle,'rb')\n",
    "    optimizer = pickle.load(infile)\n",
    "    infile.close()\n",
    "\n",
    "    checkpoint = torch.load(PATH)\n",
    "    model.load_state_dict(checkpoint['model_state_dict'])\n",
    "    epoch = checkpoint['epoch']\n",
    "    loss = checkpoint['loss']"
   ]
  },
  {
   "cell_type": "code",
   "execution_count": 42,
   "metadata": {},
   "outputs": [],
   "source": [
    "#Xtest = X_valid.iloc[11600:12600]\n",
    "indices = np.random.permutation(len(X_valid))\n",
    "ind = indices[:1000]\n",
    "Xtest = X_valid.iloc[ind]\n",
    "\n",
    "xtest = Xtest.reset_index(drop=True)\n",
    "val_arg = {'max_article_tokens': 512,\n",
    "                'max_summary_tokens': 150\n",
    "             }\n",
    "val_loader  = get_dataloader(xtest, 5,valid='valid', **val_arg)"
   ]
  },
  {
   "cell_type": "code",
   "execution_count": 43,
   "metadata": {
    "colab": {
     "base_uri": "https://localhost:8080/",
     "height": 52
    },
    "colab_type": "code",
    "id": "N1yAtA49oJ4X",
    "outputId": "8bf203b2-65bd-42aa-a13b-a367a980c6b4"
   },
   "outputs": [
    {
     "name": "stdout",
     "output_type": "stream",
     "text": [
      "CPU times: user 32min 37s, sys: 1min 1s, total: 33min 39s\n",
      "Wall time: 19min 28s\n"
     ]
    }
   ],
   "source": [
    "%time results = generator(model, val_loader)"
   ]
  },
  {
   "cell_type": "markdown",
   "metadata": {
    "colab_type": "text",
    "id": "kNpZ1c5TBmqD"
   },
   "source": [
    "#### Visualizing examples"
   ]
  },
  {
   "cell_type": "markdown",
   "metadata": {
    "colab_type": "text",
    "id": "GkwqzhhvEXqt"
   },
   "source": [
    "**Example 1**"
   ]
  },
  {
   "cell_type": "code",
   "execution_count": 48,
   "metadata": {},
   "outputs": [
    {
     "name": "stdout",
     "output_type": "stream",
     "text": [
      "Example:0\n",
      "\n",
      "Ultra Orthodox Jews attend the funeral of Rabbi Yosef Shalom Elyashiv in Jerusalem, Wednesday, July 18, 2012. Elyashiv, revered by Jews worldwide as the top rabbinic authority of this generation for his scholarship and rulings on complex elements of Jewish law, died Wednesday, hospital officials said. He was 102.\n",
      "\n",
      "Oded Balilty AP for TIME\n",
      "\n",
      "Elhanan Gibli found God. not just in the personal salvation sense. There was an address.\n",
      "\n",
      "God was last known to reside approximately 300 yards north of the minimart at the corner of Ma ale HaShalom and Wadi Hilwa. There stood the Second Temple, built around the Ark of the Covenant containing the Holy of Holies. And two millennia after the temple s destruction, the power of the divine still radiated so potently from the remaining stones that Gibli recalls feeling it in his entire being the first time he entered Jerusalem s Old City, at age 13. The welling of awe affirmed a pair of.\n",
      "\n",
      "Current print subscribers to register\n",
      "\n",
      "Subscribe now to get TIME All Access\n",
      "\n",
      "Your subscription has expired. Please click here to gain access again.\n",
      "\n",
      "Email, Password or Region is incorrect\n",
      "\n",
      "A required form parameter was missing.\n",
      "\n",
      "The System is currently down. Please try again in a few minutes.\n",
      "\n",
      "Actual summary:\n",
      "\n",
      "With their numbers and their political clout growing, the ultra Orthodox aren t just changing the makeup of Jerusalem. They are altering Israel s national identity\n",
      "\n",
      "Generated summary:\n",
      "\n",
      "Elyashiv, revered by Jews worldwide as the top rabbinic authority of this generation for his scholarship and rulings on complex elements of Jewish law, died Wednesday, hospital officials said. He was 102. Oded Balilty AP for TIME Elhanan Gibli found God. not just in the personal salvation sense. There was an address\n",
      "----------\n",
      "Example:1\n",
      "\n",
      "One of the hottest topics among business people is how to increase profits by being environmentally friendly. There are many ways to achieve this. At hotels, for instance, by not washing towels during a guest s stay unless the guest asks, the hotel saves both money and the environment. Green innovations can be featured in advertising campaigns to attract customers. Another potential benefit of going green is that it makes environmentally minded employees happy, increasing their loyalty to the firm.\n",
      "\n",
      "A Berlin brothel has hit on another way to use environmental arguments to its benefit price discrimination. Mary MacPherson Lane writes in an AP article \n",
      "\n",
      "The bordellos in the capital of Germany, where prostitution is legal, have seen business suffer with the global financial crisis. Patrons have become more frugal and there are fewer potential customers coming to the city for business trips and conferences.\n",
      "\n",
      "But Maison d Envie has seen its business begin to return since it began offering the euro 5 7.50 discount in July, Goetz said.\n",
      "\n",
      "To qualify, customers must show the receptionist either a bicycle padlock key or proof they used public transit to get to the neighborhood. That knocks the price for 45 minutes in a room, for example, to euro 65 from euro 70.\n",
      "\n",
      "Although the brothel says the reason for the price discount is that it wants to be environmentally conscious, it sure looks to me like the brothel is dressing up some good old fashioned price discrimination arguments in a green disguise.\n",
      "\n",
      "Customers who come by bus or bicycle are likely to have lower incomes and be more price sensitive than those who arrive by car. If that is the case, the brothel would like to charge such customers lower prices than the richer ones. The difficulty is that, without a justifiable rationale, the rich customers would be angry if the brothel tried to charge them more and indeed, how in general, would the brothel know who is rich? . The environmental argument gives the brothel cover for doing what it always wanted to do anyway.\n",
      "\n",
      "Actual summary:\n",
      "\n",
      "One of the hottest topics among business people is how to increase profits by being environmentally friendly. There are many ways to achieve this. At hotels, for instance, by not washing towels during a guest s stay unless the guest asks, the hotel saves both money and the environment. Green innovations can be featured in advertising campaigns to attract customers. Another potential benefit of going green is that it makes environmentally minded employees happy, increasing their loyalty to the firm. A Berlin brothel has hit on another way to use environmental arguments to its benefit.\n",
      "\n",
      "Generated summary:\n",
      "\n",
      "One of the hottest topics among business people is how to increase profits by being environmentally friendly. There are many ways to achieve this. At hotels, for instance, by not washing towels during a guest s stay unless the guest asks, the hotel saves both money and the environment. Green innovations can be featured in advertising campaigns to attract customers. Another potential benefit of going green is that it makes environmentally minded employees happy, increasing their loyalty\n",
      "----------\n",
      "Example:2\n",
      "\n",
      "RIVERSIDE, Calif. As federal officials scour the backgrounds of the couple who went on a terrorist rampage here last week, they are looking carefully at Enrique Marquez, a childhood friend and relation by marriage of the husband, Syed Rizwan Farook. It was Mr. Marquez, 24, who bought the two assault rifles that Mr. Farook and his wife, Tashfeen Malik, used to carry out the attack, which killed 14 people and wounded 21 others.\n",
      "\n",
      "Mr. Marquez, who works at a Walmart store, bought the weapons legally in 2011 or 2012 and either gave or sold them to Mr. Farook, federal officials said. Investigators have spoken with Mr. Marquez and were keeping close tabs on him although they have not named him as a suspect, they believe he has knowledge about the Farook family and its recent activities.\n",
      "\n",
      "In November 2014, Mr. Marquez married Mariya Chernykh, whose sister, Tatiana, is married to Syed Raheel Farook, brother of Syed Rizwan Farook. Tatiana Farook is a hairstylist and makeup artist who also goes by the name Tatiana Gigliotti. She and her husband were witnesses at the wedding of Mr. Marquez and Ms. Chernykh, according to a marriage certificate released by the California Department of Public Health.\n",
      "\n",
      "Another of Mr. Farook s siblings, Saira, is married to Farhan Khan. For some period of time the Khans attended the same mosque as Mr. Marquez, who is a convert to Islam, according to people who know them.\n",
      "\n",
      "Mr. Marquez could be crucial in helping the Federal Bureau of Investigation determine when the couple began their plot and understand more about their thinking. On Monday, F.B.I. officials said that both Mr. Farook and Ms. Malik had been radicalized for years and had gone to target practice ranges in the days before the attack.\n",
      "\n",
      "Mr. Marquez started attending the Islamic Society of Corona Norco four and a half or five years ago, soon after he converted to Islam at a different mosque, according to Azmi Hasan, the facilities manager at the Islamic Society. At first, Mr. Marquez came about once a month, usually to Friday Prayer.\n",
      "\n",
      " He looked like a regular kid, Mr. Hasan said.\n",
      "\n",
      "Part of Mr. Hasan s job was to know everyone at the mosque and make them feel welcome. He said he sometimes had quick conversations with Mr. Marquez, just regular greetings How are you? How s your family? \n",
      "\n",
      "As time went on, Mr. Marquez attended less often, perhaps every three or four months. Once, he went eight months between visits. Mr. Hasan asked where he had been, but Mr. Marquez offered little explanation.\n",
      "\n",
      "Mr. Hasan said he had not seen Mr. Marquez at all in about three years.\n",
      "\n",
      "On Saturday, investigators raided the modest stucco home here where Mr. Marquez lived with his family, opening the garage door with blowtorches and sending in bomb sniffing dogs. The next day, agents returned and seized more items.\n",
      "\n",
      "Mr. Farook had since moved away, but for almost a decade, he lived next door to Mr. Marquez in this suburban neighborhood of palm and pine tree lined streets. Sometimes, Mr. Marquez would hop the short brick wall that separated their yards to hang out, a relative said. Or Mr. Marquez would pitch in as Mr. Farook worked on cars, a hobby.\n",
      "\n",
      "Mr. Marquez s name first appeared in connection with the attack on a list left by federal investigators after they raided Mr. Farook s home in Redlands, Calif., where the authorities said the couple had stashed weapons and built pipe bombs in the garage. They seized an empty long gun box in Mr. Marquez s name. The F.B.I. has declined to say if his transfer of the rifles to Mr. Farook violated California law, which requires even private sales or gifts of firearms to be done through a licensed dealer.\n",
      "\n",
      "For a time last week, officials could not find Mr. Marquez, but then found that he had checked himself into a mental health facility.\n",
      "\n",
      "Mr. Marquez s stepfather, Gustavo Ramirez, said in a recent interview outside his family s home that he was stunned by the claim that his stepson had purchased firearms for Mr. Farook and his wife. I have no idea, he said. It is so strange to us. We don t have anything to do with guns. \n",
      "\n",
      "He said Mr. Marquez grew up with the Farook family and went to school with one of Mr. Farook s sisters. Mr. Marquez now splits his time between his family s home and his girlfriend s.\n",
      "\n",
      "Investigators said that about 28,000 had been deposited in an account in Mr. Farook s name at Web Bank, an online bank based in Utah, in the weeks before the attack. They said the deposit, reported by Fox News, had come from a loan arranged by Prosper, a San Francisco company. Such loans are typically processed almost entirely online and can be approved in days, while traditional banks can take weeks.\n",
      "\n",
      "A spokeswoman for Prosper declined to comment on whether Mr. Farook had received a loan, but said in a statement, All loans originated through the Prosper platform are subject to all identity verification and screening procedures required by law, including U.S. antiterrorism and anti money laundering laws. \n",
      "\n",
      "Reporting was contributed by Julie Turkewitz from Riverside, Michael Corkery and Michael S. Schmidt from New York, and Eric Schmitt from Washington.\n",
      "\n",
      "A version of this article appears in print on December 9, 2015, on page A16 of the New York edition with the headline Buyer of Guns Used in Attack Is Studied. Order Reprints Today s Paper Subscribe\n",
      "\n",
      "Actual summary:\n",
      "\n",
      "Mr. Marquez, who bought the assault rifles used in the rampage, was a neighbor of one of the attackers. Officials hope he holds clues about their thinking.\n",
      "\n",
      "Generated summary:\n",
      "\n",
      "Enrique Marquez bought the two assault rifles that Syed Rizwan Farook and his wife, Tashfeen Malik, used to carry out the attack.\n",
      "----------\n",
      "Example:3\n",
      "\n",
      "By Sue Kirchhoff, USA TODAY\n",
      "\n",
      "WASHINGTON Consumer confidence plunged to the lowest since the onset of the Iraq war in 2003, while wholesale inflation surged to the highest yearly rate in a quarter century, according to Tuesday reports offering fresh evidence the economy is teetering near recession.\n",
      "\n",
      "Also Tuesday, a closely watched index indicated U.S. home prices dropped 9 in the final quarter of 2007 from a year earlier. That s the steepest decline in the 20 year history of the SandP Case Shiller home price index.\n",
      "\n",
      "The reports complicate the work of the Federal Reserve, which has been cutting interest rates since September to ease a credit crunch in financial markets and bolster business and consumer spending.\n",
      "\n",
      "The central bank s ability to maneuver could be limited if the inflation rate continues rising. But in a Tuesday speech, Fed Vice Chairman Donald Kohn suggested the Fed is worried more about slow growth than rising prices. I do not expect the recent elevated inflation rates to persist, Kohn said in a speech at the University of North Carolina at Wilmington. He said a severe credit crunch and plunging housing market threaten economic growth.\n",
      "\n",
      "Kohn also repeated Fed Chairman Ben Bernanke s promise that the Fed will do what is needed, which analysts took as a sign more rate cuts are in store.\n",
      "\n",
      "Democrats in Congress are calling for more vigorous action to address the slumping housing market. President Bush, however, said Tuesday the economy should avoid recession. We re not in a recession I don t think we will go in a recession. We re in a slowdown, and there s a difference, Bush told American Urban Radio Networks.\n",
      "\n",
      "The New York based Conference Board said its consumer confidence index plunged to a reading of 75 in February from 87.3 in January. With the exception of a drop in consumer sentiment in 2003, the report is the most downbeat in 15 years. Things don t look much brighter down the line. Consumers assessment of economic conditions in the next six months is at a 17 year low, according to the survey.\n",
      "\n",
      "The Fed is closely watching consumer spending, which accounts for more than two thirds of economic activity. While the confidence figures don t necessarily predict a slowdown in spending, households are under stress from a slowing job market, sluggish wages, declining home equity and high food and energy prices.\n",
      "\n",
      " The expectations number is what counts, says Ian Shepherdson, chief U.S. economist of High Frequency Economics. The drop is absolutely disastrous. \n",
      "\n",
      "Separately, the U.S. Labor Department said the wholesale inflation rate jumped 1 in January, about double economists predictions, and is up 7.4 , not seasonally adjusted, in the past 12 months.\n",
      "\n",
      "Prices for finished energy goods gasoline and home heating oil, for example rose 1.5 in January, while food prices increased 1.7 , the biggest bump in four years. Over 12 months ended in January, prices for finished energy goods climbed 22.6 .\n",
      "\n",
      "Conversation guidelines USA TODAY welcomes your thoughts, stories and information related to this article. Please stay on topic and be respectful of others. Keep the conversation appropriate for interested readers across the map.\n",
      "\n",
      "Actual summary:\n",
      "\n",
      "Consumer confidence plunged to its lowest level since the start of the Iraq war, while wholesale inflation surged to its highest yearly rate in a quarter century in January, according to Tuesday reports offering fresh evidence the economy is veering.\n",
      "\n",
      "Generated summary:\n",
      "\n",
      "By Sue Kirchhoff, USA TODAY WASHINGTON Consumer confidence plunged to the lowest since the onset of the Iraq war in 2003, while wholesale inflation surgedto the highest yearly rate in a quarter century, according to Tuesday reports offering fresh evidence the economy is teetering near recession. Also Tuesday, a closely watched index indicated U.S. home prices dropped 9\n",
      "----------\n",
      "Example:4\n",
      "\n",
      "Perhaps most troubling of all for the White House, just 37 percent rate the president highly for being honest and straightforward down from 47 percent in January and 63 percent at the outset of his presidency. Peter Hart, the Democratic pollster who conducts the NBC WSJ survey with his Republican counterpart Bill McInturff, pointed toward the president s discredited promise that Americans could keep insurance plans they liked under the new health care law as a contributing factor.\n",
      "\n",
      "Mr. Obama s struggles with the law help explain why he hasn t benefited from improved assessments of the economy in recent weeks. The proportion of Americans predicting the economy will get worse in the next year has fallen to 24 percent from 42 percent in early October, amid anxiety about the government shutdown and federal debt limit. Yet public approval of Mr. Obama s handling of the economy has declined to 39 percent from 45 percent in September.\n",
      "\n",
      " Read more Budget deal rolls back automatic spending cuts \n",
      "\n",
      "Congress hardly fares well in the public s esteem. A 51 percent majority calls this year s Congress one of the worst another 28 percent call it below average. \n",
      "\n",
      "But from that public opinion rubble, Republicans have gained a slight advantage heading into next year s mid term elections. By 44 percent to 42 percent, Americans say they prefer Republicans to control Congress after election day, wiping out the 8 point edge Democrats opened up amid the government shutdown.\n",
      "\n",
      "The results on health care show that 50 percent of Americans the highest the NBC WSJ poll has recorded call the health care law a bad idea, while just 34 percent call it a good idea. Only slightly more encouraging to the Obama administration and Democrats is that only 26 percent say the law should be totally eliminated . Another 31 percent say the law needs a major overhaul. \n",
      "\n",
      " Read more Obama shakes hands with Cuba s Castro \n",
      "\n",
      "Another policy priority of the White House fares much better. Fully 63 percent of Americans back an increase in the federal minimum wage to 10.10 from its current level of 7.25.\n",
      "\n",
      "The telephone survey of 1,000 adults, conducted Dec. 4 8, carries a margin for error of 3.1 percentage points.\n",
      "\n",
      " By CNBC s John Harwood. Follow him on Twitter\n",
      "\n",
      "Actual summary:\n",
      "\n",
      "President Obama has suffered serious political damage from the troubled first year of his second term, according to a new poll.\n",
      "\n",
      "Generated summary:\n",
      "\n",
      "A new NBC WSJ survey finds that President Obama is the most honest and straightforward in his presidency. But Republicans have gained a slight advantage heading into next year s mid term elections, while Republicans have gained a slight advantage.\n",
      "----------\n",
      "Example:5\n",
      "\n",
      "This undated photo provided by the California Department of Motor Vehicles shows Syed Rizwan Farook who has been named as the suspect in the San Bernardino, Calif., shootings. Farook communicated with individuals who were under FBI scrutiny in connection with a terrorism investigation. But the official said the contact was with people who weren t significant players on our radar, dated back some time, and there was no immediate indication of any surge in communication ahead of the shooting. California Department of Motor Vehicles via AP \n",
      "\n",
      "An investigator looks at a Black SUV that was involved in a police shootout with suspects, Thursday, Dec. 3, 2015, in San Bernardino, Calif. A heavily armed man and woman opened fire Wednesday on a holiday banquet, killing multiple people and seriously wounding others in a precision assault, authorities said. Hours later, they died in a shootout with police. AP Photo Jae C. Hong \n",
      "\n",
      "FBI agents search outside a home in connection to the shootings in San Bernardino, Thursday, Dec. 3, 2015, in Redlands, Calif.. A heavily armed man and woman opened fire Wednesday on a holiday banquet, killing multiple people and seriously wounding others in a precision assault, authorities said. Hours later, they died in a shootout with police. AP Photo Ringo H.W. Chiu \n",
      "\n",
      "Investigators search for bullet casings at the scene where Wednesday s police shootout with suspects took place, Thursday, Dec. 3, 2015, in San Bernardino, Calif. A heavily armed man and woman dressed for battle opened fire on a holiday banquet for his co workers Wednesday, killing multiple people and seriously wounding others in a precision assault, authorities said. Hours later, they died in a shootout with police. AP Photo Jae C. Hong \n",
      "\n",
      "Investigators gather around a Black SUV that was involved in Wednesday s police shootout with suspects, Thursday, Dec. 3, 2015, in San Bernardino, Calif. A heavily armed man and woman dressed for battle opened fire on a holiday banquet for his co workers Wednesday, killing multiple people and seriously wounding others in a precision assault, authorities said. Hours later, they died in a shootout with police. AP Photo Jae C. Hong \n",
      "\n",
      "REDLANDS, CA DECEMBER 2 A SWAT team member stands watch with a rifle pointed at a home being investigated by police is shown after a mass shooting at the Inland Regional Center in San Bernardino December 2, 2105 in Redlands, California. Multiple fatalities and injuries were reported in the shooting Photo by Marcus Yam Los Angeles Times via Getty Images \n",
      "\n",
      "Law enforcement officers investigate a suspicious bag, later found not to be a threat, on Victoria Avenue after a mass shooting at the Inland Regional Center on Wednesday, December 2, 2015 in San Bernardino, California. At least 14 people were killed in a gun attack on a holiday party, triggering a massive manhunt that ended when police shot dead two heavily armed suspects a man and a woman on a quiet residential street. AFP PHOTO PATRICK T. FALLON AFP Patrick T. Fallon Photo credit should read PATRICK T. FALLON AFP Getty Images \n",
      "\n",
      "SAN BERNARDINO, USA DECEMBER 02 Yellow stripe is seen as the US Security Forces secure the area following a shooting that killed multiple people at a social services center for the disabled in San Bernardino, California of United States on December 02, 2015. Two suspects in a deadly mass shooting that killed 14 victims at a social services facility in California were killed after a confrontation with police, authorities said Wednesday. The initial shooting occurred earlier Wednesday when at least one shooter opened fire in San Bernardino at the Inland Regional Center, which provides services to persons with developmental disabilities and their families. At least 17 others were injured. Photo by Mintaha Neslihan Eroglu Anadolu Agency Getty Images \n",
      "\n",
      "SAN BERNARDINO, CA DECEMBER 2 A police officer officer guards a police line as officers prepare to raid the home of one or more suspects of a mass shooting at the Inland Regional Center by multiple gunmen on December 2, 2015 near San Bernardino, California. Police continue to investigate the shooting that left at least 14 people dead and another 17 injured. Photo by David McNew Getty Images \n",
      "\n",
      "Authorities surround the scene following a shootout Wednesday, Dec. 2, 2015, in San Bernardino, Calif. Multiple attackers opened fire on a banquet at a social services center for the disabled in San Bernardino on Wednesday, killing multiple people and sending police on a manhunt for suspects. AP Photo Jae C. Hong \n",
      "\n",
      "Authorities guard the perimeter near the location of an officer involved shooting Wednesday, Dec. 2, 2015, in San Bernardino, Calif., following a shooting that killed multiple people at a social services center for the disabled. AP Photo Damian Dovarganes \n",
      "\n",
      "SAN BERNARDINO, CA DECEMBER 2 Police place a marker along E. San Bernardino Ave. where a shootout occurred December 2, 2015 in San Bernardino, California. Multiple fatalities and injuries were reported as police search for suspects still at large. Photo by Rick Loomis Los Angeles Times via Getty Images \n",
      "\n",
      "Armed police personnel walk along closed off streets in the San Bernardino neighborhood near the intersection of Richardson and Gould where a house was searched on December 2, 2015. A man and a woman suspected of carrying out a deadly shooting at a center for the disabled in California were killed in a shootout with police, while a third person was detained, police said. AFP PHOTO FREDERIC J. BROWN AFP FREDERIC J. BROWN Photo credit should read FREDERIC J. BROWN AFP Getty Images \n",
      "\n",
      "SAN BERNARDINO, CA DECEMBER 2 A police helicopter circles as officers search for a possible suspect following a shootout with suspects of a mass shooting at the Inland Regional Center by multiple gunmen on December 2, 2015 in San Bernardino, California. Police continue to investigate the shooting that left at least 14 people dead and another 17 injured. Photo by David McNew Getty Images \n",
      "\n",
      "Law enforcement officers search for the suspects of a mass shooting December 2, 2015 in San Bernardino, California. A man and a woman suspected of carrying out a deadly shooting at a center for the disabled were killed in a shootout with police, while a third person was detained, police said. AFP PHOTO PATRICK T. FALLON AFP Patrick T. Fallon Photo credit should read PATRICK T. FALLON AFP Getty Images \n",
      "\n",
      "A police officer deploys tape to an area near where authorities stopped a vehicle in San Bernardino, Calif., Wednesday, Dec. 2, 2015. Multiple attackers opened fire on a banquet at a social services center for the disabled in San Bernardino on Wednesday, killing multiple people and sending police on a manhunt for suspects. AP Photo Damian Dovarganes \n",
      "\n",
      "Law enforcement officers search for the suspects of a mass shooting December 2, 2015 in San Bernardino, California. A man and a woman suspected of carrying out a deadly shooting at a center for the disabled were killed in a shootout with police, while a third person was detained, police said. AFP PHOTO PATRICK T. FALLON AFP Patrick T. Fallon Photo credit should read PATRICK T. FALLON AFP Getty Images \n",
      "\n",
      "SAN BERNARDINO, CA DECEMBER 2 A SWAT unit mobilizes near Richardson Street after a mass shooting at the Inland Regional Center on December 2, 2105 in San Bernardino, California. Multiple fatalities and injuries were reported as police search for up to three suspects who are still at large. Photo by Marcus Yam Los Angeles Times via Getty Images \n",
      "\n",
      "SAN BERNARDINO, CA DECEMBER 2 Law enforcement officers search for a possible suspect following a shootout with suspects of a mass shooting at the Inland Regional Center by multiple gunmen on December 2, 2015 in San Bernardino, California. Numerous deaths and injuries have been reported. Photo by David McNew Getty Images \n",
      "\n",
      "Law enforcement officers search for the suspects of a mass shooting December 2, 2015 in San Bernardino, California. A man and a woman suspected of carrying out a deadly shooting at a center for the disabled were killed in a shootout with police, while a third person was detained, police said. AFP PHOTO PATRICK T. FALLON AFP Patrick T. Fallon Photo credit should read PATRICK T. FALLON AFP Getty Images \n",
      "\n",
      "In this image taken from video, armored vehicles surround an SUV following a shootout in San Bernardino, Calif., Wednesday, Dec. 2, 2015. The scene followed a military style attack that killed multiple people and wounded others at a California center that serves people with developmental disabilities, authorities said. KTTV via AP \n",
      "\n",
      "SAN BERNARDINA, CA DECEMBER 2 A search team goes door to door looking for the third suspect in a residential neighborhood after a mass shooting at the Inland Regional Center on December 2, 2105 in San Bernardino, California. Multiple fatalities and injuries were reported as police search for up to three suspects who are still at large. Photo by Marcus Yam Los Angeles Times via Getty Images \n",
      "\n",
      "SAN BERNARDINO, CA DECEMBER 02 A California Highway Patrol officer stands with his weapon as authorities pursued the suspects in a shooting that occurred at the Inland Regional Center on December 2, 2015 in San Bernardino, California. Police continue to search for suspects in the shooting that left at least 14 people dead and another 17 injured. Photo by Sean M. Haffey Getty Images \n",
      "\n",
      "SAN BERNARDINO, CA DECEMBER 02 A California Highway Patrol officer stands with his weapon as authorities pursued the suspects in a shooting that occurred at the Inland Regional Center on December 2, 2015 in San Bernardino, California. Police continue to search for suspects in the shooting that left at least 14 people dead and another 17 injured. Photo by Sean M. Haffey Getty Images \n",
      "\n",
      "SAN BERNARDINO, CA DECEMBER 02 A San Bernadino Sheriff helicopter flys above a neighborhood as authorities pursue suspects of the shooting at the Inland Regional Center on December 2, 2015 in San Bernardino, California. Police continue to search for suspects in the shooting that left at least 14 people dead and another 17 injured. Photo by Sean M. Haffey Getty Images \n",
      "\n",
      "SAN BERNARDINO, CA DECEMBER 2 Officers swarm San bernardino Ave at Richardson Street near where suspects were shot in a black SUV December 2, 2015 in San Bernardino, California. Multiple fatalities and injuries were reported as police search for suspects still at large. Photo by Irfan Khan Los Angeles Times via Getty Images \n",
      "\n",
      "Law enforcement officials with armored vehicles search an area near where police stopped a suspect SUV in San Bernardino, Calif., Wednesday, Dec. 2, 2015. The search followed a military style attack that killed multiple people and wounded others at a California center that serves people with developmental disabilities, authorities said. AP Photo Chris Carlson \n",
      "\n",
      "Armored vehicles surround an SUV following a shootout in San Bernardino, Calif., Wednesday, Dec. 2, 2015. The scene followed a military style attack that killed multiple people and wounded others at a California center that serves people with developmental disabilities, authorities said. KNBC via AP TV OUT\n",
      "\n",
      "SAN BERNARDINO, CA DECEMBER 2 Ambulances leave the scene of a mass shooting at the Inland Regional Center on December 2, 2105 in San Bernardino, California. Multiple fatalities and injuries were reported as police search for up to three suspects who are still at large. Photo by Gina Ferazzi Los Angeles Times via Getty Images \n",
      "\n",
      "SAN BERNARDINO, CA DECEMBER 2 Police draw guns on San Bernardino Avenue while chasing suspects in an SUV December 2, 2015 in San Bernardino, California. Multiple fatalities and injuries were reported as police search for suspects still at large. Photo by Francine Orr Los Angeles Times via Getty Images \n",
      "\n",
      "SAN BERNARDINO, CA DECEMBER 2 Police draw guns on San Bernardino Avenue while chasing suspects in an SUV December 2, 2015 in San Bernardino, California. Multiple fatalities and injuries were reported as police search for suspects still at large. Photo by Francine Orr Los Angeles Times via Getty Images \n",
      "\n",
      "SAN BERNARDINO, CA DECEMBER 2 Police and emergency vehicles line Waterman Avenue in front of the Inland Regional Center in San Bernardino, scene of a mass shooting on December 2, 2105 in San Bernardino, California. Multiple fatalities and injuries were reported as police search for up to three suspects who are still at large. Photo by Luis Sinco Los Angeles Times via Getty Images \n",
      "\n",
      "SAN BERNARDINO, CA DECEMBER 2 Police and emergency vehicles line Waterman Avenue in front of the Inland Regional Center in San Bernardino, scene of a mass shooting on December 2, 2105 in San Bernardino, California. Multiple fatalities and injuries were reported as police search for up to three suspects who are still at large. Photo by Luis Sinco Los Angeles Times via Getty Images \n",
      "\n",
      "Police at the scene of a shooting on December 2, 2015 in San Bernardino, California. One or more gunman opened fire inside a building in San Bernardino in California, with reports of 20 victims at a center that provides services for the disabled. Police were still hunting for the shooter, saying one to three possible suspects were involved. Heavily armed SWAT teams, firefighters and ambulances swarmed the scene, located about an hour east of Los Angeles, as police warned residents away. AFP PHOTO FREDERIC J. BROWN AFP FREDERIC J. BROWN Photo credit should read FREDERIC J. BROWN AFP Getty Images \n",
      "\n",
      "SAN BERNARDINO, CA DECEMBER 02 Members of the FBI Joint Terrorism Task Force stand outside of a press conference regarding the shooting that occurred at the Inland Regional Center on December 2, 2015 in San Bernardino, California. Multiple fatalities were reported as police search for up to three suspects who are still at large. Photo by Sean M. Haffey Getty Images \n",
      "\n",
      "SAN BERNARDINO, CA DECEMBER 02 Ambulances pull out of a staging area near the Inland Regional Center where a shooting occurred earlier in the day on December 2, 2015 in San Bernardino, California. Multiple fatalities were reported as police search for up to three suspects who are still at large. Photo by Sean M. Haffey Getty Images \n",
      "\n",
      "A heavily armed officer sets up a perimeter near the site of a shooting that took place on December 2, 2015 in San Bernardino, California. One or more gunman opened fire inside a building in San Bernardino in California, with reports of 20 victims at a center that provides services for the disabled. Police were still hunting for the shooter, saying one to three possible suspects were involved. Heavily armed SWAT teams, firefighters and ambulances swarmed the scene, located about an hour east of Los Angeles, as police warned residents away. AFP PHOTO FREDERIC J. BROWN AFP FREDERIC J. BROWN Photo credit should read FREDERIC J. BROWN AFP Getty Images \n",
      "\n",
      "SAN BERNARDINO, CA DECEMBER 2 San Bernardino County Sheriffs deputies respond to a mass shooting at the Inland Regional Center December 2, 2015 in San Bernardino, California. Multiple fatalities were reported as police search for up to three suspects who are still at large. Photo by David McNew Getty Images \n",
      "\n",
      "SAN BERNARDINO, CA DECEMBER 2 A San Bernardino County Sheriffs Department investigator responds to a mass shooting at the Inland Regional Center December 2, 2015 in San Bernardino, California. Multiple fatalities were reported as police search for up to three suspects who are still at large. Photo by David McNew Getty Images \n",
      "\n",
      "SAN BERNARDINO, CA DECEMBER 2 Employees and other people are evacuated by bus from the site of a mass shooting at the Inland Regional Center December 2, 2015 in San Bernardino, California. Multiple fatalities were reported as police search for up to three suspects who are still at large. Photo by David McNew Getty Images \n",
      "\n",
      "Police escort civilians away from the 1300 block of S. Waterman Street near the site of a shooting took place on December 2, 2015 in San Bernardino, California. One or more gunman opened fire inside a building in San Bernardino in California, with reports of 20 victims at a center that provides services for the disabled. Police were still hunting for the shooter, saying one to three possible suspects were involved. Heavily armed SWAT teams, firefighters and ambulances swarmed the scene, located about an hour east of Los Angeles, as police warned residents away. AFP PHOTO FREDERIC J. BROWN AFP FREDERIC J. BROWN Photo credit should read FREDERIC J. BROWN AFP Getty Images \n",
      "\n",
      "Police escort civilians away from the 1300 block of S. Waterman Street near the site of a shooting took place on December 2, 2015 in San Bernardino, California. One or more gunman opened fire inside a building in San Bernardino in California, with reports of 20 victims at a center that provides services for the disabled. Police were still hunting for the shooter, saying one to three possible suspects were involved. Heavily armed SWAT teams, firefighters and ambulances swarmed the scene, located about an hour east of Los Angeles, as police warned residents away. AFP PHOTO FREDERIC J. BROWN AFP FREDERIC J. BROWN Photo credit should read FREDERIC J. BROWN AFP Getty Images \n",
      "\n",
      "Armed Sheriff s department personel man a roadblock at Waterman Street near the site of a shooting took place on December 2, 2015 in San Bernardino, California. One or more gunman opened fire inside a building in San Bernardino in California, with reports of 20 victims at a center that provides services for the disabled. Police were still hunting for the shooter, saying one to three possible suspects were involved. Heavily armed SWAT teams, firefighters and ambulances swarmed the scene, located about an hour east of Los Angeles, as police warned residents away. AFP PHOTO FREDERIC J. BROWN AFP FREDERIC J. BROWN Photo credit should read FREDERIC J. BROWN AFP Getty Images \n",
      "\n",
      "A swat team arrives at the scene of a shooting in San Bernardino, Calif. on Wednesday, Dec. 2, 2015. Police responded to reports of an active shooter at a social services facility. Doug Saunders Los Angeles News Group via AP \n",
      "\n",
      "SAN BERNARDINO, CA DECEMBER 2 Police and fire personnel secure the scene where a mass shooting occurred at the Inland Regional Center on December 2, 2105 in San Bernardino, California. Multiple fatalities and injuries were reported as police search for up to three suspects who are still at large. Photo by Gina Ferazzi Los Angeles Times via Getty Images \n",
      "\n",
      "SAN BERNARDINO, CA DECEMBER 2 San Bernardino police offices in SWAT gear secure the scene where a mass shooting occurred at the Inland Regional Center on December 2, 2105 in San Bernardino, California. Multiple fatalities and injuries were reported as police search for up to three suspects who are still at large. Photo by Gina Ferazzi Los Angeles Times via Getty Images \n",
      "\n",
      "A crowd gathers behind police line near the scene of a shooting on December 2, 2015 in San Bernardino, California. One or more gunman opened fire inside a building in San Bernardino in California, with reports of 20 victims at a center that provides services for the disabled. Police were still hunting for the shooter, saying one to three possible suspects were involved. Heavily armed SWAT teams, firefighters and ambulances swarmed the scene, located about an hour east of Los Angeles, as police warned residents away. AFP PHOTO FREDERIC J. BROWN AFP FREDERIC J. BROWN Photo credit should read FREDERIC J. BROWN AFP Getty Images \n",
      "\n",
      "A couple embraces following a shooting that killed multiple people at a social services facility, Wednesday, Dec. 2, 2015, in San Bernardino, Calif. David Bauman The Press Enterprise via AP \n",
      "\n",
      "People are evacuated by law enforcement agencies from the Inland Regional Center the scene of a shooting in San Bernardino, Calif. on Wednesday, Dec. 2, 2015. Police in San Bernardino, California, were responding to reports of an active shooter at a social services facility. There were reports of multiple victims, Lt. Rich Lawhead said Wednesday. Doug Saunders Los Angeles News Group via AP \n",
      "\n",
      "A first responder attends to a person outside a Southern California social services center in San Bernardino, where authorities said multiple people were shot Wednesday, Dec. 2, 2015. KNBC via AP \n",
      "\n",
      "People are evacuated by law enforcement agencies from the Inland Regional Center the scene of a shooting in San Bernardino, Calif. on Wednesday, Dec. 2, 2015. Police in San Bernardino, California, were responding to reports of an active shooter at a social services facility. There were reports of multiple victims, Lt. Rich Lawhead said Wednesday. Doug Saunders Los Angeles News Group via AP \n",
      "\n",
      "First responders attend to people outside a Southern California social services center in San Bernardino, where one or more gunmen opened fire, shooting multiple people on Wednesday, Dec. 2, 2015. KNBC via AP \n",
      "\n",
      "First responders gather outside a Southern California social services center in San Bernardino, Calif., where authorities said multiple people were shot Wednesday, Dec. 2, 2015. KTTV via AP \n",
      "\n",
      "A woman holds her arm as first responders attend to people outside a Southern California social services center in San Bernardino, Calif., where one or more gunmen opened fire, shooting multiple people on Wednesday, Dec. 2, 2015. KNBC via AP \n",
      "\n",
      "This aerial view shows a Southern California social services center in San Bernardino, Calif., where authorities said multiple people were shot Wednesday, Dec. 2, 2015. KTTV via AP \n",
      "\n",
      "In this aerial view, first responders gather on a nearby street corner, lower left, outside a Southern California social services center, upper right, in San Bernardino, Calif., where authorities said multiple people were shot Wednesday, Dec. 2, 2015. KTTV via AP \n",
      "\n",
      "First responders gather on a nearby street corner as victims are treated outside a Southern California social services center in San Bernardino, Calif., where authorities said multiple people were shot Wednesday, Dec. 2, 2015. KTTV via AP \n",
      "\n",
      "Law enforcement officials walk with weapons drawn outside a Southern California social services center in San Bernardino, Calif., where authorities said multiple people were shot Wednesday, Dec. 2, 2015. KTTV via AP \n",
      "\n",
      "Graphic locates mass shooting in San Bernardino, California. 2c x 5 inches 96.3 mm x 127 mm\n",
      "\n",
      "Actual summary:\n",
      "\n",
      "Police said the couple had enough bullets and bombs to slaughter hundreds when they launched their deadly attack on a holiday party.\n",
      "\n",
      "Generated summary:\n",
      "\n",
      "The official said the contact was with people who weren t significant players on our radar, dated back some time, and there was no immediate indication of any surge in communication ahead of the shooting.\n",
      "----------\n",
      "Example:6\n",
      "\n",
      "KIM Kardashian is slowly returning to social media and this week she played the doting auntie as she gives Joyce Bonelli s newborn twins a kiss in sweet snap.\n",
      "\n",
      "The reality star rushed to the hospital to visit her make up artist BFF and planted a kiss on the heads of the baby boys.\n",
      "\n",
      "Joyce shared the snaps on her Instagram account and wrote The Boys First Kiss From Auntie KiKi.\n",
      "\n",
      "Kim went for a casual look during the hospital visit wearing a couple of gold chains around her neck, a scooped white tank top and a black bomber jacket.\n",
      "\n",
      "The mum of two looked a tad tired with black make up smudged around her eyes.\n",
      "\n",
      "Joyce also shared a picture of her breast feeding her twins at the same time.\n",
      "\n",
      "Another picture shows her older son Zeplin meeting his baby brothers.\n",
      "\n",
      "She wrote Your greatest gifts of lyyyfeeeee. Our boys. My life is complete. So proud of out little guy, truly the best big brother right here.\n",
      "\n",
      " Zeplin says his name isn t big brother , It s ZEPLIN! Hence the t shirt we made him screaming who he is . She added My babies. I really Can t take it. I m so thankful. Truly blessed. \n",
      "\n",
      "Meanwhile, Kim s other make up artist BFF Mario Dedivanovic revealed he often has to apply body make up to some of her more intimate areas.\n",
      "\n",
      "Sharing the revealing picture on Kim s website it shows the mum of two leaning over as Mario makes sure every part of her body looks just right.\n",
      "\n",
      "Kim, 36, shows off her ample cleavage in a plunging black dress as Mario fixes her nude spanks and makes sure her legs are ready for their close up at the MTV VMAS.\n",
      "\n",
      "He explained Hey guys. I wanted to share some behind the scenes pics from one of my favorite looks that we did in 2016.\n",
      "\n",
      " Here s a sneak peek of what really goes on before a big red carpet event. When a girl needs her body make up I gotta get to work. Tough job, LOL. xo Mario \n",
      "\n",
      "Kim will make her first public appearance since her Paris ordeal on January 13 when she joins Mario for a make up masterclass in Dubai.\n",
      "\n",
      "Kim has stayed away from social media since being robbed at gunpoint in Paris but Kanye West shared a family photo over the Christmas holidays.\n",
      "\n",
      "Appearing to dismiss rumours of trouble in his marriage to Kim, the newly blonde musician could be seen holding his son Saint while standing next to his stunning wife as she held their daughter North.\n",
      "\n",
      "The clan were posing in front of the Christmas tree from Kris Jenner s Christmas Eve bash dismissing reports that Kanye had not attended the event and had been told to keep away from Kim.\n",
      "\n",
      "However, speculation had begun to mount during the bash as fans noticed that Kim, 36, ditched her wedding ring on the night.\n",
      "\n",
      "Her wedding finger was bare on Saturday night as she partied with her mum and sisters at their annual festive gathering in LA.\n",
      "\n",
      "While troubled rapper Kanye, 39, had headed to the cinema with friends before making a late appearance at the event.\n",
      "\n",
      "It had been reported that Kim blanked her husband and insiders had claimed their two year marriage is as good as over .\n",
      "\n",
      "It comes at the end of a nightmare 2016 for the couple which saw Kim, 36, robbed at gunpoint in Paris in October and Kanye hospitalised a month later after a mental breakdown.\n",
      "\n",
      "However, the pair put on a united front with their daughter North, three, at a performance of The Nutcracker ballet at an LA theatre before Christmas.\n",
      "\n",
      "Kendall Jenner says family are praying for Kanye West s recovery\n",
      "\n",
      "But onlookers revealed the couple who also have a year old son Saint barely spoke to each other.\n",
      "\n",
      "A source said Kim and Kanye s marriage is as good as over. It s looking bleak.\n",
      "\n",
      " She didn t want Kanye at her mum s Christmas bash this year, as she felt it was the first time she could really let her hair down.\n",
      "\n",
      " But he made a late show and spent the last hour just sitting on the couch talking to Scott Disick dad of Kourtney s kids he was a total wallflower.\n",
      "\n",
      " On Friday they took North to see The Nutcracker but they barely spoke or interacted inside.\n",
      "\n",
      " The tensions were visible. Neither of them are in a happy place right now.\n",
      "\n",
      " He spent Christmas morning at Kris Kim s mum to make things as normal for the kids as possible, but it s just a matter of timing.\n",
      "\n",
      " The only thing that might keep them together is the kids. \n",
      "\n",
      "New video of Kanye West ranting before he stops Sacramento gig early Kim, who wore a gold dress at the Christmas Eve party in Calabasas, blew kisses in a video shared on her sister Khloe s Snapchat account.\n",
      "\n",
      "She was also sporting a new lip ring but her wedding band was off.\n",
      "\n",
      "In the video, Khloe, 32, can be heard saying How dope is my f ing sister? Look at this dress. And look at the jewellery. You are a bad bitch, Kim. \n",
      "\n",
      "The US reality star has barely been seen in public since her Paris ordeal, when she was bound and robbed at gunpoint in a reported 8.5million heist.\n",
      "\n",
      "Kanye has cancelled all tour dates after coming out of hospital at the end of November.\n",
      "\n",
      "He suffered a mental breakdown, with a cousin claiming he has stopped trusting people .\n",
      "\n",
      "Lawrence Franklin claimed last week Kanye s decline started after he paid 200,000 to a relative who was threatening to leak a sex tape of him.\n",
      "\n",
      "Kim and Kanye have also reportedly been in counselling while the rapper is receiving therapy.\n",
      "\n",
      "Kim is said to be still angry after Kanye flew to New York for a meeting with President elect Donald Trump within hours of leaving hospital.\n",
      "\n",
      "A source said It was the worst thing that he has ever done in her eyes. When she tried to get him to call it off and come home, he refused. \n",
      "\n",
      "Any break up is likely to lead to a complicated split of Kanye s fortune, estimated by Forbes to be 145million.\n",
      "\n",
      "Kanye West meets with President elect Donald Trump at Trump Towers\n",
      "\n",
      "Got a story? email digishowbiz sun.co.uk or call us direct on 02077824220\n",
      "\n",
      "Actual summary:\n",
      "\n",
      "KIM Kardashian is slowly returning to social media and this week she played the doting auntie as she gives Joyce Bonelli s newborn twins a kiss in sweet snap. The reality star r\n",
      "\n",
      "Generated summary:\n",
      "\n",
      "KIM Kardashian is slowly returning to social media and this week she played the doting auntie as she gives Joyce Bonelli s newborn twins a kiss in sweet snap.\n",
      "----------\n",
      "Example:7\n",
      "\n",
      "Sir Tim Rice who is transforming the story, set in the Second World War, into a West End musical, tells Mandrake that he will restore the homosexual subtext to its rightful place.\n",
      "\n",
      " Obviously, things have moved on in terms of what you can portray over the last 60 years, and the production will reflect that, says the award winning lyricist.\n",
      "\n",
      "The original manuscript of the book featured two passages that did not make it into the published edition due to their homosexual content.\n",
      "\n",
      "One involves a private confessing to performing a sexual act on a wealthy man in exchange for money and, in another, a military investigation into gay activity is mooted.\n",
      "\n",
      "These two scenes were restored to the text earlier this year when the e book was released.\n",
      "\n",
      "Sir Tim, 67, is hoping that the musical, which will feature a score composed by Stuart Brayson, will hit Theatreland in June.\n",
      "\n",
      " It s all systems go, he says. We ve got the team almost assembled and we are recording the soundtrack next week.\n",
      "\n",
      "Actual summary:\n",
      "\n",
      "Sir Tim Rice will remain true to the original book in his forthcoming musical adaptation of From Here to Eternity and incorporate the homosexual elements that were deemed inappropriate for the 1953 film.\n",
      "\n",
      "Generated summary:\n",
      "\n",
      "Sir Tim Rice who is transforming the story, set in the Second World War, into a West End musical, tells Mandrake that he will restore the homosexual subtext to its rightful place.\n",
      "----------\n",
      "Example:8\n",
      "\n",
      "On Thursday, The Lede followed testimony to the House Energy and Commerce Committee from BP s chief executive, Tony Hayward.\n",
      "\n",
      "Mr. Stupak called the hearing to an end, after thanking Mr. Hayward for appearing but chastising him for the evasiveness of your answers. \n",
      "\n",
      "One last point for the day. A New Orleans blog notes that some of the money BP has given to the city has apparently been plowed into an ad campaign evoking the damage done to the city during the war of 1812, with the tag line This isn t the first time New Orleans has survived the British. \n",
      "\n",
      "Ms. DeGette expressed frustration that Mr. Hayward would not say if the long term health care costs of people affected by the spill would be paid from the 20 billion escrow fund. He said it is for the independent adjudicator to decide which claims will be paid from the fund.\n",
      "\n",
      "Ms. DeGette, a Colorado Democrat, asked Mr. Hayward to ask his technical expert who has been sitting silently behind him all day if he can help answer a specific question about how cement was used to try to seal the well. Mr. Hayward turned away for a few moments to speak with the expert and then returned to say that he the man is an expert on drilling, not sealing wells.\n",
      "\n",
      "Representative Steve Scalise returned to the question of how amateurs with bright ideas on how to stop the spill can get them to BP. He also seemed unaware that there is a system in place to gather and evaluate those ideas. According to Mr. Scalise, many of the ideas he has heard have tremendous merit. He told Mr. Hayward, if you ve got more ideas, try em all. \n",
      "\n",
      "Perhaps proving that members of Congress are so busy that they just cannot keep up with the news, or that there is no limit to how much faith some of them have in the idea that ordinary folk know better than experts how to do everything, Representative Michael Burgess, a Texas Republican, just told Mr. Hayward a few minutes ago that he really wished the company would make it easier for people sitting at home watching the oil spill on their computer monitors and television sets to share their ideas about how to stop it. He suggested that it would be great if there was a telephone number to handle such suggestions. Americans are terribly we have a lot of ingenuity in America, he said.\n",
      "\n",
      "As readers of The Lede will be aware, there already is such a number for handling those sorts of ideas 281 366 5511.\n",
      "\n",
      "Still, there is something quite elegant about this idea.\n",
      "\n",
      "Robert Gibbs, the White House press secretary, just noted on his Twitter feed \n",
      "\n",
      "Who would the GOP put in charge of overseeing the energy industry and Big Oil if they won control of Congress? Yup, u guessed it JOE BARTON\n",
      "\n",
      "Republican leaders in Congress appear to see that this is not the best political issue for the party. As Talking Points Memo notes \n",
      "\n",
      "House Republican leaders Boehner, Cantor and Pence released a statement saying Barton s comments today were wrong \n",
      "\n",
      " The oil spill in the Gulf is this nation s largest natural disaster and stopping the leak and cleaning up the region is our top priority. Congressman Barton s statements this morning were wrong. BP itself has acknowledged that responsibility for the economic damages lies with them and has offered an initial pledge of 20 billion dollars for that purpose. \n",
      "\n",
      "As Andrew Clark points out on The Guardian s Web site, BP has repeatedly stressed the crucial role of the failed blow out preventer in today s hearing. This piece of kit, made by the US firm Cameron, seems to be at the center of any effort by BP to get other firms to shoulder a portion of the blame for the Gulf disaster. \n",
      "\n",
      "Soon after that, when Mr. Barton asked Mr. Hayward to suggest what might be learned for the future, he replied \n",
      "\n",
      " I believe the most important one is to take the fail safe mechanism that is the blow out preventer and design it so that it is genuinely fail safe. \n",
      "\n",
      "Mr. Stupak then pointed out to Mr. Hayward that just two weeks ago, in an op ed he wrote for the Wall Street Journal, he called the blow out preventer, fail safe. \n",
      "\n",
      "We in the industry have long had great confidence in the blow out preventer as the ultimate failsafe piece of safety equipment. Yet on this occasion it failed, with disastrous consequences.\n",
      "\n",
      "Since the April 20 explosions and fire, BP is carefully evaluating the subsea blow out preventers used in all our drilling operations world wide, including the testing and maintenance procedures of our drilling contractors using the devices. We will participate in industry wide efforts to improve the safety and reliability of subsea blow out preventers and deep water drilling practices.\n",
      "\n",
      "Mr. Stupak said that he doesn t understand why Mr. Hayward continues to insist that the blow out preventer is the ultimate fail safe system. \n",
      "\n",
      "Mr. Stupak and Mr. Hayward continue to speak past each other for several minutes, with Mr. Stupak insisting that the system cannot be fail safe if it can fail. Mr. Hayward, using the technical sense of the term, continues to insist that it is the fail safe mechanism, although it can fail.\n",
      "\n",
      "MSNBC s First Read blog has posted yet another apology from Representative Joe Barton retracting his first apology of the day, to BP \n",
      "\n",
      "I apologize for using the term shakedown with regard to yesterday s actions at the White House in my opening statement this morning, and I retract my apology to BP. As I told my colleagues yesterday and said again this morning, BP should bear the full financial responsibility for the accident on their lease in the Gulf of Mexico. BP should fully compensate those families and businesses that have been hurt by this accident. BP and the federal government need to stop the leak, clean up the damage, and take whatever steps necessary to prevent a similar accident in the future. I regret the impact that my statement this morning implied that BP should not pay for the consequences of their decisions and actions in this incident.\n",
      "\n",
      "In response to a question from Representative Kathy Castor, who said that the government has been told over and over that off shore oil drilling is safe, Mr. Hayward said that the blow out preventer was designed to fail between one in a hundred thousand and one in a million times. Ms. Castor said that means that the blow out preventers are not fail safe. \n",
      "\n",
      "Representative Charlie Melancon, a Democrat from Louisiana, asked Mr. Hayward why, of more than 600 ideas on how to stop the flow of oil sent to the committee by outsiders and forwarded on to the company, only three have gotten any response. Mr. Hayward said We are trying very hard to engage with everyone who has a good idea we have, quite frankly, been inundated with hundreds of thousands of ideas. Mr. Melancon said that he understands that some of them are, essentially, absurd.\n",
      "\n",
      "A colleague points out that Joebartonwouldliketoapologize.com is already up and running. Visitors to the site are shown a series of entities the satirists behind it say Joe Barton would like to apologize to. Among them \n",
      "\n",
      "ENGLAND, AGAIN, FOR THE WAR OF 1812, AND IN PARTICULAR, THE BATTLE OF NEW ORLEANS. WE SHOULD JUST HAVE LET YOU GUYS HAVE NORTH AMERICA. YOU OBVIOUSLY REALLY WANTED IT.\n",
      "\n",
      "ENGLAND FOR TYING YOU GUYS IN THE WORLD CUP. IF THERE WAS A DO OVER, WE D TOTALLY GIVE YOU BACK THAT GOAL.\n",
      "\n",
      "Ms. Capps, a California Democrat who spoke about her experience of the oil spill off Santa Barbara in 1969 during Tuesday s hearing with oil executives, asked Mr. Hayward why people working to clean up the oil are not properly trained. Mr. Hayward said that the company was following federal guidelines.\n",
      "\n",
      "Ms. Capps asked Mr. Hayward if this spill had happened to a different oil company, would they have done better than BP? Mr. Hayward said that he could not comment.\n",
      "\n",
      "Ms. Capps said that Rex Tillerson, Exxon Mobil s chief executive, admitted during Tuesday s hearing that his company was not prepared to deal with a spill of this size. She asked Mr. Hayward if he agreed that BP was not equipped to deal with the spill. Mr. Hayward said that there would be many learnings to be had from this accident but did not say that the company was overwhelmed by the disaster.\n",
      "\n",
      "Representative Steve Scalise, a Louisiana Republican, pressed Mr. Hayward to explain whether the federal government or BP is blocking a plan formulated by Louisiana s state government to build sand barriers to keep oil from the shores. Mr. Hayward said that in general We are operating under the direction of the federal government, but says that he does not know why the barriers have not been fully built yet.\n",
      "\n",
      "Mr. Scalise told Mr. Hayward that he would give him a disc with ideas that might help mitigate the disaster.\n",
      "\n",
      "Representative Eliot Engel, a New York Democrat, told Mr. Hayward it s really an insult that he keeps saying that he has to wait for the conclusion of an investigation to answer any detailed questions. Mr. Hayward said that the company is conducting a full and comprehensive investigation, it involves a team of more than 50 people. \n",
      "\n",
      "Mr. Engel complained that BP s investigation seemed to be taking much too long and said You re really insulting our intelligence, with respect, by not explaining now what went wrong.\n",
      "\n",
      "Mr. Engel finished by saying Mr. Hayward, let me just say with all due respect I, like everyone else here, and everyone else in America, am thoroughly disgusted. I think you re stalling, I think you re insulting our intelligence and I really resent it. \n",
      "\n",
      "In response to questions from Representative Cliff Stearns, Mr. Hayward said that no one has yet been fired by BP for the accident. He also said, I have seen no evidence of reckless behavior. \n",
      "\n",
      "Mr. Stearns expressed frustration with what he called Mr. Hayward s stonewalling and concluded by noting, Well, Mr. Chairman, he did answer that today s Thursday. \n",
      "\n",
      "Mr. Welch, a Vermont Democrat, appeared to take the turn he missed to question Mr. Hayward. He continues to press the BP chief executive to explain why the company made decisions on Deepwater Horizon that might appear to have been taken for cost saving reasons. Mr. Hayward said that he was not qualified as a technical expert to say if any of those decisions were responsible for the accident.\n",
      "\n",
      "Representative Betty Sutton, an Ohio Democrat, told Mr. Hayward, I think there s a real detachement here, a real disconnect. It seems to me there was a disconnect prior to the explosion, and there remains a disconnect when viewing evidence that is very clear and being presented. This was a tragic failure. You ve talked about your commitment to safety and the environment but when push came to shove on the Deepwater Horizon, the company s concern seemed to be the bottom line. And I guess this is my question to you, Mr. Hayward Who was responsible for the failures on the Deepwater Horizon and the terrible set of decisions that led to the tragedy in the gulf? \n",
      "\n",
      "He replied That is what our investigation is going to determine. He added, If there is at any point evidence that people put costs ahead of safety, I will take action. \n",
      "\n",
      "Asked by Mr. Barton if he agrees with the statements of the other oil company executives that the accident on the Deepwater Horizon was preventable, Mr. Hayward said, I think all accidents are preventable. \n",
      "\n",
      "Mr. Barton concluded by saying I want the record to be absolutely clear, that I think BP is responsible for this accident, should be held responsible and should in every way do everything possible to make good on the consequences that have resulted from this accident. And if anything I said this morning has been misconstrued in an opposite effect, I want to apologize for that misconstrue misconstruction. \n",
      "\n",
      "Mr. Barton, who has come in for some criticism since his apology to Mr. Hayward at the start of the hearing, asked Mr. Hayward about criticism of his company by the executives of other oil companies, who testified to Congress on Tuesday. Mr. Hayward said that he does not think that BP s way of drilling the well was more dangerous than the way other companies would have done it. He also said that the company and its contractors do have the necessary authority to stop drilling when they have safety concerns.\n",
      "\n",
      "Mr. Stupak said, Next would be Mr. Welch. He s not here. The members of the panel seem to come in and out rather than stay to listen to all of the questions their colleagues ask. Representative Gene Green, a Texas Democrat, gets Mr. Welch s turn. He asks Mr. Hayward if the standards the company uses in the Gulf of Mexico is as rigorous as those in other parts of the world, like off the shores of Britain or Norway. Mr. Hayward said that he thinks the standards in the gulf are higher than they are in European seas.\n",
      "\n",
      "Mr. Ross asked Mr. Hayward why relief wells, which appear to be an on off switch are not drilled as a matter of course in case of emergencies. Mr. Hayward said that the blow out preventer was in place for emergencies and simply failed to work.\n",
      "\n",
      " We believed that the blow out preventer was the ultimate fail safe mechanism. That clearly wasn t the case. \n",
      "\n",
      "Representative Mike Ross, a Democrat from Arkansas, asked if BP plans to use the relief wells to make a profit or simply to stop the leak. Mr. Hayward said that the wells will only be used to stop the leak. He also said that it is rare to hear Democrats and Republicans on this committee agree on anything, so the fact that some members of both parties have expressed outrage about the leak is a sign of how upset the American people are at BP.\n",
      "\n",
      "Suzanne Goldenberg notes on her Twitter feed that Mr. Doyle told Mr. Hayward You are not chairman of a chain of department stores where it is fine to leave life and death decisions to branch managers. \n",
      "\n",
      "In response to a question from Representative Mike Doyle, a Pennsylvania Democrat, Mr. Hayward admits that there are no efforts underway to try to kill the well at the moment. The focus now is on containing the leak until a relief well can be completed later this year.\n",
      "\n",
      "Representative Dianna DeGette, a Colorado Democrat, asked Mr. Hayward if, since you had difficulty answering some of the technical questions members have asked you, he might like to have the panel swear in his technical adviser to answer questions for him.\n",
      "\n",
      "Ms. DeGette asks Mr. Hayward to read an internal BP memo from April 14 discovered by the committee in which said, this has been a nightmare well which has everyone all over the place. She asked him if anyone at the company had ever told him that this was a nightmare well. He said, no the first he heard of that was when the committee discovered the memo.\n",
      "\n",
      "Representative Bruce Braley, an Iowa Democrat, lambasted Mr. Hayward for safety violations that took place on his watch.\n",
      "\n",
      "He then pressed Mr. Hayward to say if he agreed with Mr. Barton s statement that BP was shaken down to come up with the 20 billion compensation fund. Mr. Hayward dodged the question with a bland statement that the company attended the meeting at the government s invitation.\n",
      "\n",
      "Mr. Braley tried again, saying, I realize that we speak the same language but it s not always speak the same language, when we speak English in the United States and English in Great Britain, so I want to make sure I m clear on this. Mr. Hayward refused to agree or disagree that BP was shaken down, or forced to contribute to a slush fund. He said, We came together to figure out a way of working together to resolve what is obviously a serious problem and added, The fund is a signal of our commitment to do right. \n",
      "\n",
      "Asked if we can take that as a no, that you did not consider it a slush fund? Mr. Hayward said, I did not consider it a slush fund. \n",
      "\n",
      "Earlier we posted a list of how much money members of the House Energy and Commerce Committee have received in political contributions from oil and gas interests since the beginning of 2009, according to the Center for Responsive Politics. At the end of April, as Congress turned its attention to the BP disaster, the center s blog noted \n",
      "\n",
      "In 2009, individuals and political action committees associated with BP donated 16,000 to members of the House Energy and Commerce Committee.\n",
      "\n",
      "In addition, five of the all time top 10 recipients of BP money in the House of Representatives sit on the House Energy Committee John D. Dingell D Mich. Joe Barton R Tex. , Ralph M. Hall R Tex. , Roy Blunt R Mo. and Fred Upton, R Mich. .\n",
      "\n",
      "All have received upward of 13,000 from BP related individuals and political action committees during the past two decades. Dingell, the second most favored recipient of BP money in the House, has received 31,000.\n",
      "\n",
      "During the 2008 election cycle, individuals and political action committees associated with BP a Center for Responsive Politics heavy hitter contributed half a million dollars to federal candidates. About 40 percent of these donations went to Democrats. The top recipient of BP related donations during the 2008 cycle was President Barack Obama himself, who collected 71,000.\n",
      "\n",
      "BP regularly lobbies on Capitol Hill, as well. In 2009, the company spent a massive 16 million to influence legislation. During the first quarter of 2010, it spent 3.53 million on federal lobbying efforts, ranking it second behind ConocoPhillips among all oil and gas industry interests.\n",
      "\n",
      "Mr. Markey presented information that he said shows that there are plumes of oil in the gulf caused by the leak. He presses Mr. Hayward to admit once and for all that there are plumes or clouds of oil suspended beneath the ocean. \n",
      "\n",
      "Mr. Hayward said there are concentrations of oil, beneath the surface of the gulf, but he said some of it is related to this spill and some of it is not. Pressed to say whether or not that constitutes a plume, Mr. Hayward said, I m not an oceanographic scientist. Mr. Markey said he would take that as a no.\n",
      "\n",
      "In response to questions from Ms. Blackburn, Mr. Hayward said that BP did reach out for help from their competitors in the oil business and from academic institutions. He said that some of the greatest minds in the country are now working on the problem.\n",
      "\n",
      "Representative Marsha Blackburn, a Tennessee Republican, presses Mr. Hayward on what actions he has taken to address safety concerns in BP operations in Alaska and the Gulf of Mexico before and after the accident. Mr. Hayward says that the company has made changes based on what it has learned from the accident. He said that he will submit details on the changes in writing.\n",
      "\n",
      "Talking Points Memo has posted video of the part of Mr. Barton s opening remarks in which he apologized to BP for what he called President Obama s 20 billion shakedown of the company. Notice that since the video was posted on YouTube, and BP has purchased ads on videos about the oil spill, his apology is accompanied by an ad for the company featuring Mr. Hayward s face \n",
      "\n",
      "TPM also reports that Rep. Jeff Miller R FL , who represents Pensacola, has called on Rep. Joe Barton R TX to resign as ranking member of the House Energy and Commerce Committee. \n",
      "\n",
      "The blog also shows video of Pat Buchanan responding to Mr. Barton s comments on MSNBC. Speaking as video of oil gushing from the damaged well played, Mr. Buchanan called the remarks courageous. \n",
      "\n",
      "Chairman Stupak announced a break in the hearing so that members can attend several votes. He said that when the hearing resumes at 2 p.m. they should be able to proceed without further interruption.\n",
      "\n",
      "Before the break, Mr. Stupak hears a request from Representative Michael Burgess, a Texas Republican, who said that officials from the Interior Department should be answering questions about the well and the procedures they approved. Mr. Stupak defends the methodical approach of the committee in gathering testimony from the company first.\n",
      "\n",
      "Representative John Dingell, a Michigan Democrat, asked Mr. Hayward to answer a series of specific, detailed questions about how much time and money was saved by decisions to drill the well using certain procedures that now appear to have been risky. Mr. Hayward said, repeatedly, that he could not respond to specific questions because again, I was not involved in the decision making. He adds that the process the team on the rig was using was approved by the MMS, the American government regulator.\n",
      "\n",
      "Mr. Waxman pushed Mr. Hayward to say if he feels responsible for the decisions made by his engineering team when the well was being drilled. The chief executive said I feel a great sense of responsibility for the accident. Mr. Waxman suggested that Mr. Hayward is acting as if you have nothing to do with this company, and said that he was stonewalling. Mr. Hayward said that he was not prepared to pass judgment on what went wrong during the drilling of the well but insisted he was not stonewalling. \n",
      "\n",
      "In response to a question from Representative Henry Waxman, the chair of the House Energy Committee, Mr. Hayward insists that he has been focused like a laser on safety during his period in charge of BP. He added that he was not briefed on the technical details of how the well was drilled.\n",
      "\n",
      "Mr. Hayward said I wasn t involved in any of the decision making about how the well was drilled and so cannot explain how decisions were made by the engineering team that seemed to cut corners to save money.\n",
      "\n",
      "The Associated Press has published this list of how much money members of the House Energy and Commerce Committee have received in political contributions from oil and gas interests since the beginning of 2009, according to the Center for Responsive Politics. Contributions are from political action committees run by oil and gas companies and from individuals employed by those companies.\n",
      "\n",
      "Tammy Baldwin, D Wis., none John Barrow, D Ga., 31,500 Joe Barton, R Texas, 100,470 Marsha Blackburn, R Tenn., 33,500 Roy Blunt, R Mo., 133,100 Mary Bono Mack, R Calif., 5,750 Rick Boucher, D Va., 36,000 Bruce Braley, D Iowa, none Michael Burgess, R Texas, 39,350 G.K. Butterfield, D N.C., 19,500 Steve Buyer, R Ind., 5,000 Lois Capps, D Calif., none Kathy Castor, D Fla., none Donna Christian Christensen, D Virgin Islands, 1,500 Nathan Deal, R Ga., none Diana DeGette, D Colo., 2,250 John D Dingell, D Mich., 7,000 Mike Doyle, D Pa., 8,000 Eliot L Engel, D N.Y., none Anna Eshoo, D Calif., none Phil Gingrey, R Ga., 20,500 Charlie A Gonzalez, D Texas, 30,000 Bart Gordon, D Tenn., 13,500 Gene Green, D Texas, 43,500 Ralph M Hall, R Texas, 31,250 Jane Harman, D Calif., 3,000 Baron Hill, D Ind., 2,000 Jay Inslee, D Wash., none Edward J Markey, D Mass., 16,000 Jim Matheson, D Utah, 47,750 Doris O Matsui, D Calif., 7,500 Jerry McNerney, D Calif., 3,000 Charles Melancon, D La., 65,500 Chris Murphy, D Conn., 6,800 Tim Murphy, R Pa., 62,950 Sue Myrick, R N.C., 11,500 Frank Pallone Jr., D N.J., none Joe Pitts, R Pa., 18,000 George Radanovich, R Calif., 14,000 Mike Rogers, R Mich., 20,400 Mike Ross, D Ark., 76,950 Bobby L Rush, D Ill., 1,000 John Sarbanes, D Md., 3,300 Steve Scalise, R La., 44,335 Jan Schakowsky, D Ill., none John Shadegg, R Ariz., 13,400 John M Shimkus, R Ill., 34,000 Zachary T Space, D Ohio, 9,600 Cliff Stearns, R Fla., 1,000 Bart Stupak, D Mich., 12,000 John Sullivan, R Okla., 65,250 Betty Sue Sutton, D Ohio, 6,000 Lee Terry, R Neb., 30,350 Fred Upton, R Mich., 22,000 Greg Walden, R Ore., 31,200 Henry A Waxman, D Calif., 6,000 Anthony D Weiner, D N.Y., none Peter Welch, D Vt., 10,000 Ed Whitfield, R Ky., 20,500\n",
      "\n",
      "Chairman Bart Stupak asks Mr. Hayward if he expects to be chief executive of BP much longer. He dodges the question and says that he is focused on the task at hand.\n",
      "\n",
      "The hearing has just resumed. During the break, CBS News identified the protester who interrupted the proceedings earlier. CBS reports The protester was the same woman arrested at a Senate hearing last week Diane Wilson, a Texas shrimper and activist and co founder of Codepink for Peace. At that hearing, Wilson dumped what appeared to be oil on herself to protest Alaska Sen. Lisa Murkowski s blocking of a bill that would have lifted BP s liability cap. Here is video of Ms. Wilson s protest today \n",
      "\n",
      "This CBS News video shows Ms. Wilson s protest in the Senate last week \n",
      "\n",
      "Talking Points Memo notes that Robert Gibbs, the White House press secretary has issued this statement on representative Joe Barton s apology to BP in his opening remarks this morning \n",
      "\n",
      "What is shameful is that Joe Barton seems to have more concern for big corporations that caused this disaster than the fishermen, small business owners and communities whose lives have been devastated by the destruction. Congressman Barton may think that a fund to compensate these Americans is a tragedy , but most Americans know that the real tragedy is what the men and women of the Gulf Coast are going through right now. Members from both parties should repudiate his comments.\n",
      "\n",
      "The Guardian s Suzanne Goldenberg, who is filing updates to her Twitter feed from the hearing room, wrote that the protester did not leave without a fight \n",
      "\n",
      "Police wrestle woman protester to ground. She is screaming You need to be charged with a crime. You need to go to jail. \n",
      "\n",
      "The committee has gone into recess until noon so that members can attend a vote. Mr. Hayward had concluded reading his opening statement and will face questions when the hearing resumes.\n",
      "\n",
      "As Mr. Hayward reads his remarks, a look back at the tape shows that the women who started shouting as soon as he began held up hands daubed with what looked like oil or black paint meant to suggest oil and said that this is what the Gulf of Mexico now looks like. She added that he should be tarred too and go to hell. \n",
      "\n",
      "The hearing resumed soon after the protester was ejected. Mr. Hayward is now reading his lengthy prepared remarks to the subcommittee. The complete text of his testimony is posted below in our 10 06 a.m. update.\n",
      "\n",
      "Mr. Hayward waived his right to be advised by a lawyer during his testimony and was sworn in. But before he can deliver the first line of his prepared remarks, the hearing is suspended to clear a woman from the room who started shouting at the BP chief executive.\n",
      "\n",
      "Representative Gene Green, a Texas Democrat, said that time after time, its been shown that BP chooses expediency over safety. He suggests that adding up the hours that it would have taken BP to make sure that the Deepwater Horizon was safe and prevent the explosion would have taken the company just three to four days. \n",
      "\n",
      "Representative Mike Ross, an Arkansas Democrat, told Mr. Hayward that in the hour since the hearing began it is likely that another 112,000 gallons of oil have flowed into the Gulf of Mexico.\n",
      "\n",
      "As my colleagues Liz Robbins and Justin Gillis reported, on Tuesday the government released a higher estimate for the flow rate from the damaged well, of 35,000 barrels to 60,000 barrels a day. That means that more than 2.5 million gallons of oil may be flowing into the gulf each day.\n",
      "\n",
      "In his opening remarks, Representative Parker Griffith, an Alabama Republican said that if we re going to talk about the environment, he d like to remind the committee that the greatest environmental disaster in America has been cigarettes. That means, he said, that the spill is not going to be the worst thing that s ever happened to America. \n",
      "\n",
      "In his opening remarks, Representative John Sullivan said that the Deepwater Horizon disaster was the fault of British Petroleum and the American taxpayer should not be on the hook for a dime. As his colleague Mr. Barton noted earlier, this is not the company s name. The company changed its name from British Petroleum to BP years ago, after it was privatized.\n",
      "\n",
      "Mr. Sullivan also charged that the Obama administration is focused on the politics of putting the oil and gas industry out of business. \n",
      "\n",
      "In his opening remarks, Representative Ed Markey, who chairs the House Committee for Energy Independence and Global Warming, said he disagreed strongly with Mr. Barton s characterization of the 20 billion compensation fund as the result of a shakedown. As my colleagues Jackie Calmes and Helene Cooper report \n",
      "\n",
      "The 20 billion fund announced on Wednesday will be administered by Kenneth R. Feinberg, the lawyer and mediator who ran the fund for victims of the Sept. 11 attacks and has emerged as a troubleshooter on issues like executive compensation and resolving claims for asbestos and Agent Orange victims.\n",
      "\n",
      "In his opening remarks, Representative Joe Barton, a Texas Republican, apologized to Mr. Hayward for the company s meeting at the White House on Wednesday in which President Obama pressed BP to set aside 20 billion to pay damages to Gulf Coast businesses and the costs of cleaning up the oil spill. Mr. Barton called the president s meeting with the oil company a tragedy and a shakedown. \n",
      "\n",
      "Opening statements by members of the House Committee on Energy and Commerce are being read now. Soon Mr. Hayward will read his prepared testimony to the hearing before answering questions from the Subcommittee on Oversight and Investigations.\n",
      "\n",
      "Mr. Hayward s prepared remarks were released in advance of the hearing. Here they are in full \n",
      "\n",
      "Chairman Stupak, Ranking Member Burgess, members of the Subcommittee. I am Tony Hayward, Chief Executive of BP plc.\n",
      "\n",
      "The explosion and fire aboard the Deepwater Horizon and the resulting oil spill in the Gulf of Mexico never should have happened and I am deeply sorry that they did. None of us yet knows why it happened. But whatever the cause, we at BP will do what we can to make certain that an incident like this does not happen again.\n",
      "\n",
      "Since April 20, I have spent a great deal of my time in the Gulf Coast region and in the incident command center in Houston, and let there be no mistake I understand how serious this situation is. This is a tragedy people lost their lives others were injured and the Gulf Coast environment and communities are suffering. This is unacceptable, I understand that, and let me be very clear I fully grasp the terrible reality of the situation.\n",
      "\n",
      "When I learned that eleven men had lost their lives in the explosion and fire on the Deepwater Horizon, I was personally devastated. Three weeks ago, I attended a memorial service for those men, and it was a shattering moment. I want to offer my sincere condolences to their friends and families I can only imagine their sorrow.\n",
      "\n",
      "My sadness has only grown as the disaster continues. I want to speak directly to the people who live and work in the Gulf region I know that this incident has profoundly impacted lives and caused turmoil, and I deeply regret that. Indeed, this is personal for us at BP. Many of our 23,000 U.S. employees live and work in the Gulf Coast region. For decades, the people of the Gulf Coast states have extended their hospitality to us and to the companies like Arco and Amoco that are now part of BP. We have always strived to be a good neighbor. We have worked to hire employees and contractors, and to buy many of our supplies, locally.\n",
      "\n",
      "I want to acknowledge the questions that you and the public are rightly asking. How could this happen? How damaging is the spill to the environment? Why is it taking so long to stop the flow of oil and gas into the Gulf?\n",
      "\n",
      "And questions are being asked about energy policy more broadly Can we as a society explore for oil and gas in safer and more reliable ways? What is the appropriate regulatory framework for the industry? We don t yet have answers to all these important questions. But I hear the concerns, fears, frustrations and anger being voiced across the country. I understand it, and I know that these sentiments will continue until the leak is stopped, and until we prove through our actions that we will do the right thing. Our actions will mean more than words, and we know that, in the end, we will be judged by the quality of our response. Until this happens, no words will be satisfying.\n",
      "\n",
      "Nonetheless, I am here today because I have a responsibility to the American people to do my best to explain what BP has done, is doing, and will do in the future to respond to this terrible incident. And while we can t undo these tragic events, I give you my word that we will do the right thing. We will not rest until the well is under control, and we will meet all our obligations to clean up the spill and address its environmental and economic impacts.\n",
      "\n",
      "From the moment I learned of the explosion and fire, I committed the global resources of BP to the response efforts. To be sure, neither I nor the company is perfect. But we are unwavering in our commitment to fulfill all our responsibilities. We are a strong company, and nothing is being spared. We are going to do everything in our power to address fully the economic and environmental consequences of this spill and to ensure that we use the lessons learned from this incident to make energy exploration and production safer and more reliable for everyone.\n",
      "\n",
      "We have been committed to responding to these tragic events and coordinating with the federal government from the beginning. On April 21, the Administration began holding meetings and regular calls with me and other members of BP s leadership to discuss BP s response effort, as well as federal oversight and support. Even before the Deepwater Horizon sank on the morning of April 22, a Unified Command structure was established, as provided by federal regulations. Currently led by the National Incident Commander, Admiral Thad Allen, the Unified Command provides a structure for BP s work with the Coast Guard, the Minerals Management Service and Transocean, among others. We are grateful for the leadership of President Obama, members of his cabinet, the state governors and local officials.\n",
      "\n",
      "As the scope of the unfolding disaster became more apparent, we reached out to additional scientists and engineers from our partners and competitors in the energy industry, as well as engineering firms, academia, government and the military.\n",
      "\n",
      "Among the resources that have been made available \n",
      "\n",
      " Drilling and technical experts who are helping determine solutions to stopping the spill and mitigating its impact, including specialists in the areas of subsea wells, environmental science and emergency response Technical advice on blowout preventers, dispersant application, well construction and containment options Additional facilities to serve as staging areas for equipment and responders, more remotely operated vehicles ROVs for deep underwater work, barges, support vessels and additional aircraft, as well as training and working space for the Unified Command.\n",
      "\n",
      "Working under the umbrella of the Unified Command, BP s team of operational and technical experts is coordinating with many federal, state, and local governmental entities and private sector organizations. These include the Departments of Interior, Homeland Security, Energy, and Defense, the National Oceanic and Atmospheric Administration NOAA , US Fish and Wildlife Service USFW , National Marine Fisheries Service NMFS , EPA, OSHA, Gulf Coast state environmental and wildlife agencies, the Marine Spill Response Corporation MSRC an oil spill response organization , as well as numerous state, city, parish and county agencies.\n",
      "\n",
      "Some of the best minds and the deepest expertise are being brought to bear. With the possible exception of the space program in the 1960s, it is difficult to imagine the gathering of a larger, more technically proficient team in one place in peacetime. And including BP, industry and government resources, more than 27,000 personnel are now engaged in the response in various activities such as booming, skimming, surveying, clean up operations, wildlife protection and rehabilitation and claims support. In addition, we are helping to train and organize the more than 19,000 citizen volunteers who have come forward to offer their services. The outpouring of support from government, industry, businesses and private citizens has truly been both humbling and inspiring.\n",
      "\n",
      "Our efforts in response to this incident are focused on two critical goals \n",
      "\n",
      " Successfully stopping the flow of oil and Minimizing the environmental and economic impacts from the oil spill.\n",
      "\n",
      "These are without a doubt complex and challenging tasks. While we have had to overcome hurdles, we are doing everything we can to respond as quickly and effectively as we can.\n",
      "\n",
      "From the beginning, we have been committed to a transparent response. We know the public wants as much information as possible about this unprecedented event, and we continue to do our best to provide it so the public can understand the incident and its impacts.\n",
      "\n",
      "Our first priority is to stop the flow of oil and secure the well.\n",
      "\n",
      "We are currently drilling two relief wells, which we believe represents the ultimate solution to stopping the flow of oil and gas from the well. The first relief well is currently at a depth of 15,226 feet, and the second relief well is currently at 9,778 feet.\n",
      "\n",
      "Separately, the goal has been to minimize or stop the flow of oil and gas before the relief wells are completed. From the beginning, we have implemented a multifaceted strategy, featuring a range of technological approaches. Our efforts to stop the well from the seabed included a number of interventions to the failed BOP, and the top kill procedure. We understand the public s frustration that these approaches did not stop the flow of oil. We, too, were disappointed.\n",
      "\n",
      "Although we were not able to stop the well at the seabed, our efforts to contain the oil and gas have been more successful. While our first attempt with a Containment Dome was not successful due to gas hydrate formation, we learned lessons that have underpinned subsequent successes. Specifically, we first deployed a Riser Insertion Tube Tool that overcame these gas hydrate problems and captured more than 2,000 barrels per day for ten days. On June 3, we replaced this with the Lower Marine Riser Package Cap, which had increased our collection to about 15,000 barrels per day.\n",
      "\n",
      "On Wednesday morning, we were in the early stages of increasing oil and gas collection through our next containment step, the Q4000 Direct Connect. It utilizes much of the subsea top kill equipment and takes oil directly from the failed BOP to the Q4000 on the surface. We expect to optimize collection over the next few days to levels well above what was previously accomplished.\n",
      "\n",
      "It is important to keep in mind that these techniques have never before been attempted 5,000 feet under water. On the seabed, we have made unprecedented use of ROVs for a variety of tasks, including working on the BOP, positioning riser cutting devices and slings, connecting hoses, positioning containment devices and providing extensive surveying and monitoring. We cannot guarantee the outcome of these operations, but we are working around the clock with the best experts from government and industry.\n",
      "\n",
      "We continue to do more to increase our operational flexibility and collection capability. This includes securing vessels with greater processing and storage capacity, adding shuttle tankers for transporting oil, procuring spares of critical equipment, installing permanent riser systems, and replacing the containment cap with a more secure system. We will not rest with our containment efforts until the well is permanently killed. I know it feels like this all takes a long time but we are compressing operations that normally take months into days.\n",
      "\n",
      "In addition to these containment operations, and with the approval of the Unified Command and in conjunction with the EPA, we continue injecting dispersant subsea using ROVs. Dispersant acts by separating the oil into small droplets that can break down more easily through natural processes before they reach the surface. Use of dispersant subsea reduces the amount of oil traveling to the surface, which, in turn, reduces the amount of spray dispersant required at the surface. In addition, dispersant use at the source requires approximately one quarter of the amount of dispersant that would be necessary for use on the surface. Sonar testing and aerial photographs show encouraging results.\n",
      "\n",
      "There has been a lot of discussion about the use of dispersants. On June 4, a federal panel of experts studying this issue recommended continued use of dispersants after analyzing potential risks and benefits for the environment. The dispersant we are using Corexit is on the National Contingency Plan Product Schedule, which is maintained by the EPA. We will continue to work closely with the EPA to try to identify alternative dispersants and to monitor the situation closely. We will only use dispersants in ways approved by the Unified Command, supported by the EPA and other relevant agencies.\n",
      "\n",
      "BP is a responsible party under the Oil Pollution Act. This means that federal law requires BP, as one of the working interest owners of Mississippi Canyon 252, to pay to clean up the spill and to compensate for the economic and environmental impacts of the spill. Let me be clear BP has accepted this responsibility and will fulfill this obligation. We have spent nearly 1.5 billion so far, and we will not stop until the job is done. It is important to understand that this responsible party designation is distinct from an assessment of legal liability for the actions that led to the spill. Investigations into the causes of the incident are ongoing, and issues of liability will be sorted out separately when the facts are clear and all the evidence is available. The focus now is on ensuring that cleanup, and compensation for those harmed by the spill, are carried out as quickly as possible.\n",
      "\n",
      "Our cleanup efforts are focused on two fronts in the open water and at the shoreline.\n",
      "\n",
      "On the open water, more than 4,200 response vessels are in use, including skimmers, storage barges, tugs, and other vessels. The Hoss barge, the world s largest skimming vessel, has been onsite since April 25. In addition, there are 49 deepwater skimming vessels, which includes ten 210 foot MSRC Oil Responder Class Vessels, which each have the capacity to collect, separate, and store 4,000 barrels of oily water mix. To date, over 400,000 barrels of oily water mix have been recovered.\n",
      "\n",
      "As part of our response efforts, over 2,000 Vessels of Opportunity , independent vessel owners throughout the Gulf Coast are using their boats in a variety of oil recovery activities, including towing and deploying booms, supporting skimming and burn operations, finding and recovering tar balls and transporting general supplies and personnel. Also on the open water, with the Coast Guard s approval, we are attacking the spill area with EPA approved biodegradable dispersants, which are being applied from both planes and boats.\n",
      "\n",
      " Actions to protect the shoreline\n",
      "\n",
      "Near the shoreline, we are implementing oil spill response contingency plans to protect sensitive areas. According to the Coast Guard, the result is the most massive shoreline protection effort ever mounted. To support rapid response, we have made available a total of 175 million to Louisiana, Mississippi, Alabama, and Florida, as well as 70 million to assist these states in tourism promotion efforts.\n",
      "\n",
      "To date, we have deployed over 2.5 million feet of containment boom and over 3.0 million feet of sorbent boom in an effort to contain the spill and protect the coastal shoreline. The Department of Defense is helping to airlift boom to wherever it is currently needed across the Gulf coast.\n",
      "\n",
      "Highly mobile, shallow draft skimmers are also staged along the coast ready to attack the oil where it approaches the shoreline. Wildlife clean up stations have been mobilized, and pre impact baseline assessment and beach clean up has been completed in many locations, Shoreline cleanup assessment teams SCAT are being deployed to affected areas to assess the type and quantity of oiling, so the most effective cleaning strategies can be rapidly applied.\n",
      "\n",
      "Our largest single project commitment to date is to fund the 360 million cost of six berms in the Louisiana barrier islands project. On June 7, we announced that we will make an immediate payment of 60 million to the state of Louisiana to allow the state to begin work on the project immediately. BP will make five additional 60 million payments when the Coastal Protection and Restoration Authority of Louisiana certifies that the project has satisfied 20 , 40 , 60 , 80 and then 100 completion milestones. The entire 360 million will be funded by the completion of the project.\n",
      "\n",
      "In addition, BP is committing up to 500 million to an open research program studying the impact of the Deepwater Horizon incident, and the associated response, on the marine and shoreline environment of the Gulf of Mexico. The program will investigate the impacts of the oil, dispersed oil, and dispersant on the ecosystems of the Gulf of Mexico and coastal States.\n",
      "\n",
      "We are also working hard to keep the public and government officials around the country informed of what is happening. We are regularly briefing federal, state, and local officials, and we are holding town hall sessions to keep affected communities informed.\n",
      "\n",
      "BP is also supporting volunteer efforts related to shoreline clean up. We have partnered with existing volunteer organizations in each of the states to ensure efficient registration and deployment of volunteers to the areas where they can help most.\n",
      "\n",
      "Untrained volunteers are not being used for any work involving contact or handling of oil, tar balls, or other hydrocarbon materials. This work is being carried out by trained personnel. In some cases, volunteers who receive more intensive training on the safe handling of hazardous materials and vessel operation for laying boom can become contract employees Qualified Community Responders .\n",
      "\n",
      "There are twenty five BP community outreach sites engaging, training, and preparing volunteers in Alabama, Florida, Louisiana and Mississippi. A phone line has also been established for potential volunteers to register their interest in assisting the response effort.\n",
      "\n",
      "We recognize that beyond the environmental impacts there are also economic impacts on many of the people who rely on the Gulf for their livelihood. BP will pay all necessary cleanup costs and all legitimate claims for other losses and damages caused by the spill.\n",
      "\n",
      "The BP claims process is integral to our commitment to do the right thing. To date, BP has already paid out over 90 million on the more than 56,000 claims that have been submitted. While the initial focus has been on individuals, we are now moving funds on an expedited basis to business owners with nearly 16 million to be paid out this week to businesses alone.\n",
      "\n",
      "To ensure the process is as fair and transparent as possible, an independent mediator will be appointed to provide an independent judgment in cases in which BP and a claimant are in disagreement. The mediator will be fully independent of BP, and claimants who disagree with the mediator s judgment will retain all rights under the Oil Pollution Act of 1990 either to seek reimbursement from the Oil Spill Liability Trust Fund or to file a claim in court.\n",
      "\n",
      "Thirty two walk in claims offices are open in Alabama, Florida, Louisiana and Mississippi. Our call center is operating 24 hours a day, seven days a week. We also have in place an on line claims filing system. Nearly 700 people are assigned to handle the claims, including almost 600 experienced claims adjusters working in the impacted communities. Claim forms can be filled out in English, Spanish or Vietnamese, and Spanish and Vietnamese translators are available in many offices.\n",
      "\n",
      "We are striving to be efficient and fair and we look for guidance to the established laws, regulations and other information provided by the US Coast Guard, which oversees the process.\n",
      "\n",
      "We will continue adding people, offices and resources as necessary.\n",
      "\n",
      "The question we all want answered is What caused this tragic accident ?\n",
      "\n",
      "A full answer to this and other questions must await the outcome of multiple investigations now underway, including a joint investigation by the Departments of Homeland Security and Interior Marine Board and an internal investigation by BP itself.\n",
      "\n",
      "Our internal investigation was launched on April 21, 2010 and is being conducted by BP s Head of Group Safety and Operations.\n",
      "\n",
      "The investigation team s work thus far suggests that this accident was brought about by the apparent failure of a number of processes, systems and equipment. While the team s work is not done, it appears that there were multiple control mechanisms procedures and equipment in place that should have prevented this accident or reduced the impact of the spill. The investigation is focused on the following seven mechanisms \n",
      "\n",
      "1. The cement that seals the reservoir from the well 2. The casing system,which seals the well bore 3. The pressure tests to confirm the well is sealed 4. The execution of procedures to detect and control hydrocarbons in the well, including the use of the blowout preventer BOP and the maintenance of that BOP 5. The BOP Emergency Disconnect System, which can be activated by pushing a button at multiple locations on the rig 6. The automatic closure of the BOP after its connection is lost with the rig and 7. Features in the BOP to allow ROVs to close the BOP and thereby seal the well at the seabed after a blowout.\n",
      "\n",
      "I understand people want a simple answer about why this happened and who is to blame. The truth, however, is that this is a complex accident, caused by an unprecedented combination of failures. A number of companies are involved, including BP, and it is simply too early to understand the cause. There is still extensive work to do.\n",
      "\n",
      "There are events that occurred on April 20 that were not foreseen by me or BP, but which we need to address in the future as lessons learned from this terrible tragedy. With ongoing investigations into the incident and continuing efforts to secure the well, we are in the early stages of trying to learn from this incident.\n",
      "\n",
      "But, as I see it, there are already lessons to be learned, and I wanted to share two of them with you today. Lesson 1 Based on the events of April 20 and thereafter, we need to be better prepared for a subsea disaster. It is clear that our industry needs to significantly improve our ability to quickly address deep sea accidents of this type and magnitude.\n",
      "\n",
      "The industry has made significant strides in preparedness measures before, and we will do so again. Following the Exxon Valdez oil spill, the industry recognized the need to enhance its capacity to address oil spills. The result was the MSRC, an independent, nonprofit company which maintains a significant inventory of vessels, equipment and trained personnel, complemented by a large contractor work force. The work of MSRC and other contractors has been central to the surface spill response efforts in the Gulf.\n",
      "\n",
      "But based on the events of April 20 and thereafter, it is clear that this is not enough. We now need to develop a similar capability for dealing with large undersea spills. We have no doubt that others in the industry will join us in efforts to develop this capability.\n",
      "\n",
      "Lesson 2 Based on what happened on April 20, we now know we need better safety technology. We in the industry have long relied on the blowout preventer as the principal piece of safety equipment. Yet, on this occasion it apparently failed, with disastrous consequences. We must use this incident as a case study to avoid a similar failure in the future.\n",
      "\n",
      "Since the April 20 explosion and fire, BP has been carefully evaluating the subsea blow out preventers used in all our drilling operations worldwide, including the testing and maintenance procedures of the drilling contractors using the devices. We will participate in industry wide efforts to improve the safety and reliability of subsea blowout preventers and deep water drilling practices. And we will work closely with other interested parties as we do so.\n",
      "\n",
      "We understand the seriousness of the situation. We know the world is watching us. No one will forget the 11 men who lost their lives in the explosion on the Deepwater Horizon. We hear and understand the concerns, frustrations, and fears that have been and will continue to be voiced. I understand that only actions and results, and not mere words, ultimately can give you the confidence you seek. We will be, and deserve to be, judged by our response.\n",
      "\n",
      "I give my pledge as leader of BP that we will not rest until we stop this well, mitigate the environmental impact of the spill and address economic claims in a responsible manner. No resource available to this company will be spared. We and the entire industry will learn from this terrible event and emerge from it stronger, smarter and safer.\n",
      "\n",
      "Actual summary:\n",
      "\n",
      "On Tuesday, The Lede is following testimony to Congress from BP s chief executive, Tony Hayward.\n",
      "\n",
      "Generated summary:\n",
      "\n",
      "The Lede followed testimony to the House Energy and Commerce Committee from BP s chief executive, Tony Hayward. Mr. Hayward called the hearing to an end, after thanking Mr. Hayward for appearing but chastising him for the evasiveness of your answers\n",
      "----------\n",
      "Example:9\n",
      "\n",
      "The deadline for President Obama to secure congressional authorization for the military operation in Libya went whizzing by Friday without such a vote, fueling lawmakers concerns that the administration was flouting the law, but the White House insisted it was on solid legal footing.\n",
      "\n",
      "The concerns stem from provisions in the 1973 War Powers Resolution. The resolution, passed in defiance of then President Nixon at the tail end of the Vietnam War, states that presidents must seek congressional approval to keep U.S. forces in hostilities for more than two months. Friday was the 60th day of U.S. involvement in the U.N. backed military intervention in Libya.\n",
      "\n",
      "Asked about the requirements in the law, White House Press Secretary Jay Carney cited the president s ongoing consultation with Congress and claimed his actions have been and are consistent with the War Powers Resolution. He said the White House would continue to consult with Congress, adding that the administration would welcome an expression of support from lawmakers.\n",
      "\n",
      "But sporadic attempts to cobble together language in support of U.S. intervention so far have not yielded a firm resolution in Congress. The House wasn t even in session this week.\n",
      "\n",
      "Obama sent a letter to Congress Friday, prodding lawmakers to pass a resolution, while downplaying the scope of U.S. involvement.\n",
      "\n",
      " While we are no longer in the lead, U.S. support for the NATO based coalition remains crucial to assuring the success of international efforts to protect civilians from the actions of the Qaddafi regime, he wrote.\n",
      "\n",
      "The inaction has raised concern among lawmakers from both parties. Rep. Dennis Kucinich, D Ohio, told Fox News that a bipartisan House coalition is prepared to move a resolution Monday that would either get Congress to sign off on the intervention or cut off the operation.\n",
      "\n",
      "Without stating whether or how they might challenge the U.S. military involvement, several other lawmakers called for an explanation from the administration, and fast.\n",
      "\n",
      "House Armed Services Committee Chairman Buck McKeon, R Calif., fired off a letter to Obama calling for the president to justify the U.S. military s presence in the country and underscoring the 60 day deadline.\n",
      "\n",
      " With America s armed forces in harm s way, it is not my intention to second guess or undermine your authority as Commander in Chief. However, the War Powers Resolution requires that, within sixty calendar days after a notification is submitted to Congress regarding the introduction of U.S. forces into hostilities, the President terminate any use of U.S. forces unless the Congress has acted. As you are aware, we are approaching this critical juncture, McKeon wrote.\n",
      "\n",
      "Rep. Justin Amash, R Mich., in a Detroit News op ed, called on Congress to assert its authority.\n",
      "\n",
      " There has been no better time to regain our Constitutional balance and check the president s war powers. Congress is a co equal branch and it should start acting like it, he wrote, conceding that a related bill he introduced in late March is unlikely to get a vote. He also expressed concern about a defense bill he claimed would grant authorization for use of force worldwide.\n",
      "\n",
      "Six GOP senators earlier this week penned a letter to Obama asking whether you intend to comply with the requirements of the war powers law. A spokeswoman for Sen. Rand Paul, R Ky., who helped organize the letter, said the senator would wait to see how the president responds before making a decision on how to proceed.\n",
      "\n",
      "Compliance with the War Powers Resolution has been a muddy area ever since its enactment. Presidents routinely claim it is unconstitutional, but the law has not been struck down in court. Congress and the White House historically have avoided major standoffs over the law because either military intervention has ended before the 60 day deadline or Congress approved the intervention for instance, with the two Iraq wars. President Clinton squared off in a War Powers Resolution fight against Congress over bombing in Kosovo in 1999, but the president won that fight.\n",
      "\n",
      "Sen. John McCain, R Ariz., who had been working on legislative language in support of the military action in Libya, recently told Fox News that he does not think the law is constitutional either. He said there doesn t seem to be any great movement towards acting. \n",
      "\n",
      "But the Obama administration, which cited the War Powers Resolution when it authorized the action in Libya, may be taking precautions.\n",
      "\n",
      "Several reports have indicated the administration is weighing whether to pause the mission in Libya, only to restart it and presumably reset the 60 day timeline. Or the administration could stop using its drones for attacks.\n",
      "\n",
      "Kucinich, though, said doing so would merely be a legal loophole. He suggested the administration would still be in violation of the law as it was intended. \n",
      "\n",
      "John Yoo, a former Bush administration attorney who played a key role in drafting its interrogation policies, and Robert Delahunty, a fellow Bush Justice Department official, wrote in a Wall Street Journal column Friday that these tactics would not count as a fair, honest reading of the War Powers Resolution.\n",
      "\n",
      "Actual summary:\n",
      "\n",
      "The deadline for President Obama to secure congressional authorization for the military operation in Libya went whizzing by Friday, fueling lawmakers concerns that the administration was flouting the law. The White House insisted it was on solid legal footing.\n",
      "\n",
      "Generated summary:\n",
      "\n",
      "The deadline for President Obama to secure congressional authorization for the military operation in Libya went whizzing by Friday without such a vote, fueling lawmakers concerns that the administration was flouting the law, but\n",
      "----------\n",
      "Example:10\n",
      "\n",
      "Operations began at Upper Big Branch Mine South in 1994 The mine employs about 200 people The mine produced about 1.2 million tons of coal last year FoxNews.com \n",
      "\n",
      " In 2010, Upper Big Branch was fined 188,769 and has paid 2,676 to date, according to the Mine Safety and Health Administration MSHA AP CBS \n",
      "\n",
      " Since 1995, there have been more than 3,000 violations at Upper Big Branch MSHA has proposed 1.5 million in fines against Big Branch since 2007 The mine s parent corporation has paid less than 300,000 of the 1.5 million in penalties In 2009 Upper Big Branch faced 900,000 in fines for more than 450 violations In 2009 Upper Big Branch faced 48 unwarrantable failure orders, which are considered serious Charleston Daily Mail \n",
      "\n",
      " In 2009 slightly more than 10 percent of Upper Big Branch mine s violations were unwarrantable failures Routine scheduled inspections resulted in more than 100 citations three times in a 12 month period Since July 2008, 7 regularly scheduled safety inspections turned up 614 safety violations Pittsburgh Post Gazette \n",
      "\n",
      " Federal records show there have been three previous fatalities at the Upper Branch site since 1995 January 1998 A contractor dies when materials fall on him March 2001 A miner dies when struck by a falling rock at the mine July 2003 An electrician is fatally electrocuted while repairing a shuttle car trailing cable Charleston Daily Mail\n",
      "\n",
      "Actual summary:\n",
      "\n",
      "The following are extensive details on the history of safety violations and fatalities at the Upper Big Branch mine in West Virginia, where 25 coal miners died Monday night in an underground explosion.\n",
      "\n",
      "Generated summary:\n",
      "\n",
      "The Upper Big Branch mine has been the site of more than 450 fatalities in 2009, according to the Mine Safety and Health Administration. Since 1995, there have been more than 3,000 violations at the mine since 2007\n",
      "----------\n"
     ]
    }
   ],
   "source": [
    "examples = 10\n",
    "\n",
    "for ex in range(len(results['golden_summary'])):\n",
    "    print(f'Example:{ex}\\n')\n",
    "    print(xtest.iloc[ex,:]['text'])\n",
    "    print(\"\\nActual summary:\\n\")\n",
    "    print(results['golden_summary'][ex])\n",
    "    print('\\nGenerated summary:\\n')\n",
    "    print(results['generated_summary'][ex])\n",
    "    print('-'*10)\n",
    "    \n",
    "    if ex == examples:\n",
    "        break\n",
    "    "
   ]
  },
  {
   "cell_type": "code",
   "execution_count": 49,
   "metadata": {
    "colab": {
     "base_uri": "https://localhost:8080/",
     "height": 106
    },
    "colab_type": "code",
    "id": "6eQnF1XN_T8r",
    "outputId": "2f75a808-e1ea-44bd-c636-1e1d6a007111"
   },
   "outputs": [
    {
     "name": "stdout",
     "output_type": "stream",
     "text": [
      "Actual summary:\n"
     ]
    },
    {
     "data": {
      "text/plain": [
       "'With their numbers and their political clout growing, the ultra Orthodox aren t just changing the makeup of Jerusalem. They are altering Israel s national identity'"
      ]
     },
     "execution_count": 49,
     "metadata": {},
     "output_type": "execute_result"
    }
   ],
   "source": [
    "print(\"Actual summary:\")\n",
    "results['golden_summary'][0]"
   ]
  },
  {
   "cell_type": "code",
   "execution_count": 50,
   "metadata": {
    "colab": {
     "base_uri": "https://localhost:8080/",
     "height": 177
    },
    "colab_type": "code",
    "id": "PNXoHiQjBjAY",
    "outputId": "ee260cb0-641e-46ce-9a69-bd2ea8441a4f"
   },
   "outputs": [
    {
     "name": "stdout",
     "output_type": "stream",
     "text": [
      "Generated summary:\n"
     ]
    },
    {
     "data": {
      "text/plain": [
       "'Elyashiv, revered by Jews worldwide as the top rabbinic authority of this generation for his scholarship and rulings on complex elements of Jewish law, died Wednesday, hospital officials said. He was 102. Oded Balilty AP for TIME Elhanan Gibli found God. not just in the personal salvation sense. There was an address'"
      ]
     },
     "execution_count": 50,
     "metadata": {},
     "output_type": "execute_result"
    }
   ],
   "source": [
    "print('Generated summary:')\n",
    "results['generated_summary'][0]"
   ]
  },
  {
   "cell_type": "markdown",
   "metadata": {
    "colab_type": "text",
    "id": "5xU7pMWeEfh8"
   },
   "source": [
    "**Example 2**"
   ]
  },
  {
   "cell_type": "code",
   "execution_count": 52,
   "metadata": {
    "colab": {
     "base_uri": "https://localhost:8080/",
     "height": 159
    },
    "colab_type": "code",
    "id": "g_K3Q-5GB92N",
    "outputId": "3b960f64-d419-41ab-bdf2-df342e9711ef"
   },
   "outputs": [
    {
     "data": {
      "text/plain": [
       "'One of the hottest topics among business people is how to increase profits by being environmentally friendly. There are many ways to achieve this. At hotels, for instance, by not washing towels during a guest s stay unless the guest asks, the hotel saves both money and the environment. Green innovations can be featured in advertising campaigns to attract customers. Another potential benefit of going green is that it makes environmentally minded employees happy, increasing their loyalty to the firm.\\n\\nA Berlin brothel has hit on another way to use environmental arguments to its benefit price discrimination. Mary MacPherson Lane writes in an AP article \\n\\nThe bordellos in the capital of Germany, where prostitution is legal, have seen business suffer with the global financial crisis. Patrons have become more frugal and there are fewer potential customers coming to the city for business trips and conferences.\\n\\nBut Maison d Envie has seen its business begin to return since it began offering the euro 5 7.50 discount in July, Goetz said.\\n\\nTo qualify, customers must show the receptionist either a bicycle padlock key or proof they used public transit to get to the neighborhood. That knocks the price for 45 minutes in a room, for example, to euro 65 from euro 70.\\n\\nAlthough the brothel says the reason for the price discount is that it wants to be environmentally conscious, it sure looks to me like the brothel is dressing up some good old fashioned price discrimination arguments in a green disguise.\\n\\nCustomers who come by bus or bicycle are likely to have lower incomes and be more price sensitive than those who arrive by car. If that is the case, the brothel would like to charge such customers lower prices than the richer ones. The difficulty is that, without a justifiable rationale, the rich customers would be angry if the brothel tried to charge them more and indeed, how in general, would the brothel know who is rich? . The environmental argument gives the brothel cover for doing what it always wanted to do anyway.'"
      ]
     },
     "execution_count": 52,
     "metadata": {},
     "output_type": "execute_result"
    }
   ],
   "source": [
    "xtest.iloc[1,:]['text']"
   ]
  },
  {
   "cell_type": "code",
   "execution_count": 53,
   "metadata": {
    "colab": {
     "base_uri": "https://localhost:8080/",
     "height": 54
    },
    "colab_type": "code",
    "id": "l_CBGaOSBvmL",
    "outputId": "1b18480c-dc94-4d98-dbd5-fada568312d2"
   },
   "outputs": [
    {
     "name": "stdout",
     "output_type": "stream",
     "text": [
      "Actual summary:\n"
     ]
    },
    {
     "data": {
      "text/plain": [
       "'One of the hottest topics among business people is how to increase profits by being environmentally friendly. There are many ways to achieve this. At hotels, for instance, by not washing towels during a guest s stay unless the guest asks, the hotel saves both money and the environment. Green innovations can be featured in advertising campaigns to attract customers. Another potential benefit of going green is that it makes environmentally minded employees happy, increasing their loyalty to the firm. A Berlin brothel has hit on another way to use environmental arguments to its benefit.'"
      ]
     },
     "execution_count": 53,
     "metadata": {},
     "output_type": "execute_result"
    }
   ],
   "source": [
    "print(\"Actual summary:\")\n",
    "results['golden_summary'][1]"
   ]
  },
  {
   "cell_type": "code",
   "execution_count": 54,
   "metadata": {
    "colab": {
     "base_uri": "https://localhost:8080/",
     "height": 212
    },
    "colab_type": "code",
    "id": "ITAC0YvZB0um",
    "outputId": "bff5f8b7-b225-44fa-f28a-91cfa698469d"
   },
   "outputs": [
    {
     "name": "stdout",
     "output_type": "stream",
     "text": [
      "Generated summary:\n"
     ]
    },
    {
     "data": {
      "text/plain": [
       "'One of the hottest topics among business people is how to increase profits by being environmentally friendly. There are many ways to achieve this. At hotels, for instance, by not washing towels during a guest s stay unless the guest asks, the hotel saves both money and the environment. Green innovations can be featured in advertising campaigns to attract customers. Another potential benefit of going green is that it makes environmentally minded employees happy, increasing their loyalty'"
      ]
     },
     "execution_count": 54,
     "metadata": {},
     "output_type": "execute_result"
    }
   ],
   "source": [
    "print('Generated summary:')\n",
    "results['generated_summary'][1]"
   ]
  },
  {
   "cell_type": "markdown",
   "metadata": {
    "colab_type": "text",
    "id": "OuLET9kiEkTa"
   },
   "source": [
    "**Example 3**"
   ]
  },
  {
   "cell_type": "code",
   "execution_count": 55,
   "metadata": {
    "colab": {
     "base_uri": "https://localhost:8080/",
     "height": 159
    },
    "colab_type": "code",
    "id": "s6eSs1ZWD_sD",
    "outputId": "f9af3dd9-6e7a-4c32-9aa4-7a024bb8607e"
   },
   "outputs": [
    {
     "data": {
      "text/plain": [
       "'RIVERSIDE, Calif. As federal officials scour the backgrounds of the couple who went on a terrorist rampage here last week, they are looking carefully at Enrique Marquez, a childhood friend and relation by marriage of the husband, Syed Rizwan Farook. It was Mr. Marquez, 24, who bought the two assault rifles that Mr. Farook and his wife, Tashfeen Malik, used to carry out the attack, which killed 14 people and wounded 21 others.\\n\\nMr. Marquez, who works at a Walmart store, bought the weapons legally in 2011 or 2012 and either gave or sold them to Mr. Farook, federal officials said. Investigators have spoken with Mr. Marquez and were keeping close tabs on him although they have not named him as a suspect, they believe he has knowledge about the Farook family and its recent activities.\\n\\nIn November 2014, Mr. Marquez married Mariya Chernykh, whose sister, Tatiana, is married to Syed Raheel Farook, brother of Syed Rizwan Farook. Tatiana Farook is a hairstylist and makeup artist who also goes by the name Tatiana Gigliotti. She and her husband were witnesses at the wedding of Mr. Marquez and Ms. Chernykh, according to a marriage certificate released by the California Department of Public Health.\\n\\nAnother of Mr. Farook s siblings, Saira, is married to Farhan Khan. For some period of time the Khans attended the same mosque as Mr. Marquez, who is a convert to Islam, according to people who know them.\\n\\nMr. Marquez could be crucial in helping the Federal Bureau of Investigation determine when the couple began their plot and understand more about their thinking. On Monday, F.B.I. officials said that both Mr. Farook and Ms. Malik had been radicalized for years and had gone to target practice ranges in the days before the attack.\\n\\nMr. Marquez started attending the Islamic Society of Corona Norco four and a half or five years ago, soon after he converted to Islam at a different mosque, according to Azmi Hasan, the facilities manager at the Islamic Society. At first, Mr. Marquez came about once a month, usually to Friday Prayer.\\n\\n He looked like a regular kid, Mr. Hasan said.\\n\\nPart of Mr. Hasan s job was to know everyone at the mosque and make them feel welcome. He said he sometimes had quick conversations with Mr. Marquez, just regular greetings How are you? How s your family? \\n\\nAs time went on, Mr. Marquez attended less often, perhaps every three or four months. Once, he went eight months between visits. Mr. Hasan asked where he had been, but Mr. Marquez offered little explanation.\\n\\nMr. Hasan said he had not seen Mr. Marquez at all in about three years.\\n\\nOn Saturday, investigators raided the modest stucco home here where Mr. Marquez lived with his family, opening the garage door with blowtorches and sending in bomb sniffing dogs. The next day, agents returned and seized more items.\\n\\nMr. Farook had since moved away, but for almost a decade, he lived next door to Mr. Marquez in this suburban neighborhood of palm and pine tree lined streets. Sometimes, Mr. Marquez would hop the short brick wall that separated their yards to hang out, a relative said. Or Mr. Marquez would pitch in as Mr. Farook worked on cars, a hobby.\\n\\nMr. Marquez s name first appeared in connection with the attack on a list left by federal investigators after they raided Mr. Farook s home in Redlands, Calif., where the authorities said the couple had stashed weapons and built pipe bombs in the garage. They seized an empty long gun box in Mr. Marquez s name. The F.B.I. has declined to say if his transfer of the rifles to Mr. Farook violated California law, which requires even private sales or gifts of firearms to be done through a licensed dealer.\\n\\nFor a time last week, officials could not find Mr. Marquez, but then found that he had checked himself into a mental health facility.\\n\\nMr. Marquez s stepfather, Gustavo Ramirez, said in a recent interview outside his family s home that he was stunned by the claim that his stepson had purchased firearms for Mr. Farook and his wife. I have no idea, he said. It is so strange to us. We don t have anything to do with guns. \\n\\nHe said Mr. Marquez grew up with the Farook family and went to school with one of Mr. Farook s sisters. Mr. Marquez now splits his time between his family s home and his girlfriend s.\\n\\nInvestigators said that about 28,000 had been deposited in an account in Mr. Farook s name at Web Bank, an online bank based in Utah, in the weeks before the attack. They said the deposit, reported by Fox News, had come from a loan arranged by Prosper, a San Francisco company. Such loans are typically processed almost entirely online and can be approved in days, while traditional banks can take weeks.\\n\\nA spokeswoman for Prosper declined to comment on whether Mr. Farook had received a loan, but said in a statement, All loans originated through the Prosper platform are subject to all identity verification and screening procedures required by law, including U.S. antiterrorism and anti money laundering laws. \\n\\nReporting was contributed by Julie Turkewitz from Riverside, Michael Corkery and Michael S. Schmidt from New York, and Eric Schmitt from Washington.\\n\\nA version of this article appears in print on December 9, 2015, on page A16 of the New York edition with the headline Buyer of Guns Used in Attack Is Studied. Order Reprints Today s Paper Subscribe'"
      ]
     },
     "execution_count": 55,
     "metadata": {},
     "output_type": "execute_result"
    }
   ],
   "source": [
    "xtest.iloc[2,:]['text']"
   ]
  },
  {
   "cell_type": "code",
   "execution_count": 56,
   "metadata": {
    "colab": {
     "base_uri": "https://localhost:8080/",
     "height": 142
    },
    "colab_type": "code",
    "id": "QTOwXNrqDUMp",
    "outputId": "22ea1bef-0ee9-41e4-9424-1747acabab9f"
   },
   "outputs": [
    {
     "name": "stdout",
     "output_type": "stream",
     "text": [
      "Actual summary:\n"
     ]
    },
    {
     "data": {
      "text/plain": [
       "'Mr. Marquez, who bought the assault rifles used in the rampage, was a neighbor of one of the attackers. Officials hope he holds clues about their thinking.'"
      ]
     },
     "execution_count": 56,
     "metadata": {},
     "output_type": "execute_result"
    }
   ],
   "source": [
    "print(\"Actual summary:\")\n",
    "results['golden_summary'][2]"
   ]
  },
  {
   "cell_type": "code",
   "execution_count": 57,
   "metadata": {
    "colab": {
     "base_uri": "https://localhost:8080/",
     "height": 177
    },
    "colab_type": "code",
    "id": "8KPpq-pUDcfe",
    "outputId": "f8042bcb-cf9a-4b20-88c9-df472a921934"
   },
   "outputs": [
    {
     "name": "stdout",
     "output_type": "stream",
     "text": [
      "Generated summary:\n"
     ]
    },
    {
     "data": {
      "text/plain": [
       "'Enrique Marquez bought the two assault rifles that Syed Rizwan Farook and his wife, Tashfeen Malik, used to carry out the attack.'"
      ]
     },
     "execution_count": 57,
     "metadata": {},
     "output_type": "execute_result"
    }
   ],
   "source": [
    "print('Generated summary:')\n",
    "results['generated_summary'][2]"
   ]
  },
  {
   "cell_type": "markdown",
   "metadata": {},
   "source": [
    "**Example 4**"
   ]
  },
  {
   "cell_type": "code",
   "execution_count": 58,
   "metadata": {},
   "outputs": [
    {
     "data": {
      "text/plain": [
       "'By Sue Kirchhoff, USA TODAY\\n\\nWASHINGTON Consumer confidence plunged to the lowest since the onset of the Iraq war in 2003, while wholesale inflation surged to the highest yearly rate in a quarter century, according to Tuesday reports offering fresh evidence the economy is teetering near recession.\\n\\nAlso Tuesday, a closely watched index indicated U.S. home prices dropped 9 in the final quarter of 2007 from a year earlier. That s the steepest decline in the 20 year history of the SandP Case Shiller home price index.\\n\\nThe reports complicate the work of the Federal Reserve, which has been cutting interest rates since September to ease a credit crunch in financial markets and bolster business and consumer spending.\\n\\nThe central bank s ability to maneuver could be limited if the inflation rate continues rising. But in a Tuesday speech, Fed Vice Chairman Donald Kohn suggested the Fed is worried more about slow growth than rising prices. I do not expect the recent elevated inflation rates to persist, Kohn said in a speech at the University of North Carolina at Wilmington. He said a severe credit crunch and plunging housing market threaten economic growth.\\n\\nKohn also repeated Fed Chairman Ben Bernanke s promise that the Fed will do what is needed, which analysts took as a sign more rate cuts are in store.\\n\\nDemocrats in Congress are calling for more vigorous action to address the slumping housing market. President Bush, however, said Tuesday the economy should avoid recession. We re not in a recession I don t think we will go in a recession. We re in a slowdown, and there s a difference, Bush told American Urban Radio Networks.\\n\\nThe New York based Conference Board said its consumer confidence index plunged to a reading of 75 in February from 87.3 in January. With the exception of a drop in consumer sentiment in 2003, the report is the most downbeat in 15 years. Things don t look much brighter down the line. Consumers assessment of economic conditions in the next six months is at a 17 year low, according to the survey.\\n\\nThe Fed is closely watching consumer spending, which accounts for more than two thirds of economic activity. While the confidence figures don t necessarily predict a slowdown in spending, households are under stress from a slowing job market, sluggish wages, declining home equity and high food and energy prices.\\n\\n The expectations number is what counts, says Ian Shepherdson, chief U.S. economist of High Frequency Economics. The drop is absolutely disastrous. \\n\\nSeparately, the U.S. Labor Department said the wholesale inflation rate jumped 1 in January, about double economists predictions, and is up 7.4 , not seasonally adjusted, in the past 12 months.\\n\\nPrices for finished energy goods gasoline and home heating oil, for example rose 1.5 in January, while food prices increased 1.7 , the biggest bump in four years. Over 12 months ended in January, prices for finished energy goods climbed 22.6 .\\n\\nConversation guidelines USA TODAY welcomes your thoughts, stories and information related to this article. Please stay on topic and be respectful of others. Keep the conversation appropriate for interested readers across the map.'"
      ]
     },
     "execution_count": 58,
     "metadata": {},
     "output_type": "execute_result"
    }
   ],
   "source": [
    "xtest.iloc[3,:]['text']"
   ]
  },
  {
   "cell_type": "code",
   "execution_count": 59,
   "metadata": {},
   "outputs": [
    {
     "name": "stdout",
     "output_type": "stream",
     "text": [
      "Actual summary:\n"
     ]
    },
    {
     "data": {
      "text/plain": [
       "'Consumer confidence plunged to its lowest level since the start of the Iraq war, while wholesale inflation surged to its highest yearly rate in a quarter century in January, according to Tuesday reports offering fresh evidence the economy is veering.'"
      ]
     },
     "execution_count": 59,
     "metadata": {},
     "output_type": "execute_result"
    }
   ],
   "source": [
    "print(\"Actual summary:\")\n",
    "results['golden_summary'][3]"
   ]
  },
  {
   "cell_type": "code",
   "execution_count": 60,
   "metadata": {},
   "outputs": [
    {
     "name": "stdout",
     "output_type": "stream",
     "text": [
      "Generated summary:\n"
     ]
    },
    {
     "data": {
      "text/plain": [
       "'By Sue Kirchhoff, USA TODAY WASHINGTON Consumer confidence plunged to the lowest since the onset of the Iraq war in 2003, while wholesale inflation surgedto the highest yearly rate in a quarter century, according to Tuesday reports offering fresh evidence the economy is teetering near recession. Also Tuesday, a closely watched index indicated U.S. home prices dropped 9'"
      ]
     },
     "execution_count": 60,
     "metadata": {},
     "output_type": "execute_result"
    }
   ],
   "source": [
    "print('Generated summary:')\n",
    "results['generated_summary'][3]"
   ]
  },
  {
   "cell_type": "code",
   "execution_count": 64,
   "metadata": {},
   "outputs": [
    {
     "data": {
      "text/plain": [
       "'First things first just in case the headline isn t enough of a giveaway, this article may contain spoilers for Zack Snyder s forthcoming Batman v Superman Dawn of Justice, which stars Ben Affleck and Henry Cavill as the warring superheroes. If you don t like spoilers, we suggest you click away now, and look at this picture of Harrison Ford instead.\\n\\nWe re saying may contain spoilers , because it s not yet 100 clear whether the source of the new details is accurate. A Reddit user named ViolatingNDA, who is claiming to have seen an early screening of the film, has posted some plot and character information online, alongside a general review of the film.\\n\\nWhen challenged by commenters, the user provided a screen shot of a Warner Bros screening invitation as proof that he she actually saw the movie not the most compelling evidence in the world . It s also worth noting that there s been no corroboration of the rumours from other Hollywood based sources, and no confirmation that a screening took place at all.\\n\\nThat said, some of the post s claims about the film do sound as if they could be genuine. Below, we ve listed the most interesting.\\n\\n1. Scoot McNairy is definitely playing Jimmy Olsen\\n\\nThis was previously rumoured to be the case. Despite losing his legs in the destruction at the end of Snyder s previous Superman film, Man of Steel, Olsen is apparently still a big fan of Superman in the new movie.\\n\\n2. Jenna Malone is playing Commissioner Gordon s daughter\\n\\nEralier stories suggested that the Hunger Games actress had been cast as Carrie Kelly, a young woman who becomes Batman s sidekick Robin. But the new leak states she s actually playing a character named Barba Gordon, daughter of the late Commissioner Gordon.\\n\\n3. Dan Amboyer is playing the Green Lantern\\n\\nAccording to the Reddit post, actor Dan Amboyer currently credited as a simple drone pilot will be playing the Green Lantern in the film. A pilot named Hal Jordan, he is sent in to compete against an army of drones, assembled by Lex Luthor to protect the Earth from supernatural threats.\\n\\n LexCorp is basically developing a worldwide drone system to protect against alien invasion, writes ViolatingNDA. There is fierce opposition to it, especially from General Swanwick. He believes that humans should always be in control of powerful weapons such as the drones. This leads to a pretty cool scene of Swanwick sending his best pilot to compete against a drone, Hal Jordan! \\n\\nLater on in the thread, asked if Jordan is already the Green Lantern, ViolatingNDA confirms this is the case the character apparently reveals himself at the end during the drone fight .\\n\\n4. It will end with the formation of the full Justice League\\n\\nAccording to the Reddit post, while the first two acts of the film are focused on the Batman Superman conflict, the final part of the film is about the Dawn of Justice and focuses on the formation of a full Justice League, as Aquaman Jason Momoa , Cyborg Ray Fisher , The Flash Ezra Miller and Green Lantern team up with Batman, Superman and Wonder Woman Gal Gadot to take on Jesse Eisenberg s Lex Luthor.\\n\\nAs we mentioned before, the Reddit post is written like a review and, as reviews go, it s an extremely positive one.\\n\\nBen Affleck gives a standout performance , Eisenberg s Luthor is satisfyingly complex , everyone else is great and Batman vs Superman is apparently the greatest comic book movie since The Dark Knight .'"
      ]
     },
     "execution_count": 64,
     "metadata": {},
     "output_type": "execute_result"
    }
   ],
   "source": [
    "xtest.iloc[20,:]['text']"
   ]
  },
  {
   "cell_type": "code",
   "execution_count": 69,
   "metadata": {},
   "outputs": [
    {
     "name": "stdout",
     "output_type": "stream",
     "text": [
      "Actual summary:\n"
     ]
    },
    {
     "data": {
      "text/plain": [
       "'A Reddit user claiming to have seen the film has revealed several major plot points'"
      ]
     },
     "execution_count": 69,
     "metadata": {},
     "output_type": "execute_result"
    }
   ],
   "source": [
    "print(\"Actual summary:\")\n",
    "results['golden_summary'][20]"
   ]
  },
  {
   "cell_type": "code",
   "execution_count": 74,
   "metadata": {},
   "outputs": [
    {
     "name": "stdout",
     "output_type": "stream",
     "text": [
      "Generated summary:\n"
     ]
    },
    {
     "data": {
      "text/plain": [
       "'First things first just in case the headline isn t enough of a giveaway, this article may contain spoilers for Zack Snyder s forthcoming Batman v Superman Dawn'"
      ]
     },
     "execution_count": 74,
     "metadata": {},
     "output_type": "execute_result"
    }
   ],
   "source": [
    "print('Generated summary:')\n",
    "results['generated_summary'][20]"
   ]
  },
  {
   "cell_type": "code",
   "execution_count": 65,
   "metadata": {},
   "outputs": [
    {
     "data": {
      "text/plain": [
       "'The Coast Guard is searching for a man swept out to sea in Northern California while taking pictures of tsunami waves.\\n\\nNearby, authorities in Brookings, Ore., say four people have survived after a tsunami surge swept them off a beach in Curry County and into the sea.\\n\\nThe five were on the beach Friday to watch the waves generated by a massive earthquake in Japan. The Curry County sheriff s department says two were able to get out of the water on their own, and two were rescued by law enforcement and fire officials.\\n\\nA man was also found dead aboard a commercial vessel in Brookings, but sheriff s officials said it appeared to be from natural causes.\\n\\nThe large waves shook loose boats in that weren t moved in time and tore apart wooden docks in at least two California harbors.\\n\\n This is just devastating. I never thought I d see this again, said Ted Scott, a retired mill worker who lived in Crescent City when a 1964 tsunami killed 17 people on the West Coast, including 11 in his town. I watched the docks bust apart. It buckled like a graham cracker. \\n\\nThe waves didn t make it over a 20 foot break wall protecting the rest of the city, and no home damage was immediately reported.\\n\\nDamage estimates in Crescent City were in the millions, and more boats and docks were hit in Santa Cruz on California s central coast. Surges are expected throughout the afternoon.\\n\\nPresident Obama said the Federal Emergency Management Agency is ready to come to the aid of any U.S. states or territories who need help.\\n\\nEarlier, the tsunami hit Hawaii before dawn, rushing up on roadways and into hotel lobbies on the Big Island and low lying areas in Maui were flooded as 7 foot waves crashed ashore.\\n\\nScientists warned that the first tsunami waves are not always the strongest, and officials said people in Hawaii and along the West Coast should remain vigilant. Tsunami warnings continued in California and Oregon, but were downgraded to an advisory in Hawaii, and Gov. Neil Abercrombie said the islands were fortunate almost beyond words. \\n\\n All of us had that feeling that Hawaii was just the most blessed place on the face of the Earth today, he said.\\n\\nThe tsunami, spawned by an 8.9 magnitude earthquake in Japan, killed hundreds as it slammed the eastern coast of Japan, sweeping away boats, cars, homes and people as widespread fires burned out of control. It raced across the Pacific at 500 mph as fast as a jetliner before hitting Hawaii and the West Coast. Sirens sounded for hours on the islands and the West Coast before dawn and roadways and beaches were mostly empty as the tsunami struck.\\n\\nIt is the second time in a little over a year that Hawaii and the U.S. West coast faced the threat of a massive tsunami. A magnitude 8.8 earthquake in Chile spawned warnings on Feb. 27, 2010, but the waves were much smaller than predicted and did little damage.\\n\\nScientists then acknowledged they overstated the threat but defended their actions, saying they took the proper steps and learned the lessons of the 2004 Indonesian tsunami that killed thousands of people who didn t get enough warning.\\n\\nThis time around, the warning went out within 10 minutes of the earthquake in Japan, said Gerard Fryer, a geophysicist for the Pacific Tsunami Warning Center in Honolulu.\\n\\n We called this right. This evacuation was necessary, Fryer said. There s absolutely no question, this was the right thing to do, he said.\\n\\nThe warnings issued by the tsunami center covered an area stretching the entire western coast of the United States and Canada from the Mexican border to Chignik Bay in Alaska.\\n\\nMany islands in the Pacific evacuated, but officials later told residents to go home because the waves weren t as bad as expected.\\n\\nIn Guam, the waves broke two U.S. Navy submarines from their moorings, but tug boats corralled the subs and brought them back to their pier. No damage was reported to Navy ships in Hawaii.\\n\\nIn the Canadian pacific coast province of British Columbia, authorities evacuated marinas, beaches and other areas.\\n\\nOfficials in two coastal Washington counties used an automated phone alert system, phoning residents on the coast and in low lying areas and asking them to move to higher ground.\\n\\n We certainly don t want to cry wolf, said Sheriff Scott Johnson of Washington s Pacific County. We just have to hope we re doing the right thing based on our information. We don t want to be wrong and have people hurt or killed.\\n\\nIn Oregon, hotels were evacuated and shops stayed shuttered in the northwest tourist town of Seaside, where arcades, salt water taffy shops and seafood restaurants line a beachfront boardwalk.\\n\\nLarge waves didn t materialize, and by noon coastal residents were expected to be able to return home.\\n\\n We weren t really worried about it, said Erik Bergman, whose roommate woke him early Friday.\\n\\nLatin American governments ordered islanders and coastal residents to head for higher ground. Coastal officials from Mexico to Chile were hauling boats from the sea, closing ports and schools and preparing to evacuate thousands of people ahead of the tsunami s expected arrival at 5 p.m. EST.\\n\\nHeavy swells rolled through ports and marinas of Mexico s Baja California resort of Cab San Lucas, and the major Pacific cargo port of Manzanillo was closed. Several cargo ships and a cruise ship decided to wait out a possible tsunami at sea rather than risk possible damage in a harbor.\\n\\nThe Honolulu International Airport remained open but seven or eight jets bound for Hawaii turned around, including some originating from Japan, the state Department of Transportation said. All harbors were closed and vessels were ordered to leave the harbor.\\n\\nAbout 70 percent of Hawaii s 1.4 million population resides in Honolulu, and as many as 100,000 tourists are in the city on any given day.\\n\\nA small 4.5 magnitude earthquake struck the Big Island just before 5 a.m. EST, but there were no reports of damages and the quake likely wasn t related to the much larger one in Japan, the USGS said.\\n\\nThe worst big wave to strike the U.S. was a 1946 tsunami caused by a magnitude of 8.1 earthquake near Unimak Islands, Alaska, that killed 165 people, mostly in Hawaii. In 1960, a magnitude 9.5 earthquake in southern Chile caused a tsunami that killed at least 1,716 people, including 61 people in Hilo. It also destroyed most of that city s downtown. On the U.S. mainland, a 1964 tsunami from a 9.2 magnitude earthquake in Prince William Sound, Alaska, struck Washington State, Oregon and California. It killed 128 people, including 11 in Crescent City, Calif.\\n\\nThe Associated Press contributed to this report'"
      ]
     },
     "execution_count": 65,
     "metadata": {},
     "output_type": "execute_result"
    }
   ],
   "source": [
    "xtest.iloc[21,:]['text']"
   ]
  },
  {
   "cell_type": "code",
   "execution_count": 70,
   "metadata": {},
   "outputs": [
    {
     "name": "stdout",
     "output_type": "stream",
     "text": [
      "Actual summary:\n"
     ]
    },
    {
     "data": {
      "text/plain": [
       "'The Coast Guard is searching for a man who was swept out to sea in Northern California while taking pictures of the tsunami waves Friday.'"
      ]
     },
     "execution_count": 70,
     "metadata": {},
     "output_type": "execute_result"
    }
   ],
   "source": [
    "print(\"Actual summary:\")\n",
    "results['golden_summary'][21]"
   ]
  },
  {
   "cell_type": "code",
   "execution_count": 75,
   "metadata": {},
   "outputs": [
    {
     "name": "stdout",
     "output_type": "stream",
     "text": [
      "Generated summary:\n"
     ]
    },
    {
     "data": {
      "text/plain": [
       "'The Coast Guard is searching for a man swept out to sea in Northern California while taking pictures of tsunami waves. Nearby, authorities in Brookings, Ore., say four people have survived after a tsunami surge swept them off a beach in Curry County and into the sea. The five were on the beach Friday'"
      ]
     },
     "execution_count": 75,
     "metadata": {},
     "output_type": "execute_result"
    }
   ],
   "source": [
    "print('Generated summary:')\n",
    "results['generated_summary'][21]"
   ]
  },
  {
   "cell_type": "code",
   "execution_count": 66,
   "metadata": {},
   "outputs": [
    {
     "data": {
      "text/plain": [
       "'Art deco buildings in Miami Beach. Press Association \\n\\nCuban food, Latin American culture, babe filled beaches, and models, lots and lots of models Miami is a great melting pot of all types who find themselves on the suntanned shores of the Gold Coast in search of a good time.\\n\\nIt is the antidote to Mickey Mouse and the gated communities and pink stucco that south Florida replicates in robotic fashion. The city suffered from the recession and foreclosure cyclone that shook Florida, but that means it is a better bargain than it has been in years. It is also definitely a year round destination, so the longer you spend there, the better.\\n\\nWhat is it known for? The rhythm is gonna get you here. Just a wander up Lincoln Road on South Beach and a quick cortadito espresso from David s Caf on Collins Avenue is all you need to get in the mood. Miami is a party town for all sorts of visitors, and not that just the kind that arrive in a speed boat, Miami Vice style. South Beach is usually what comes to mind, with Art Deco buildings turned into boutique hotel paradise and the gorgeous bodies on the beach by day, stalking hotel lobbies like towering herds of giraffes in their stilettos at night. But Miami is also Florida s cultural centre the art world descends every December for Art Basel Miami Beach and the New World Symphony s new home designed by Frank Gehry, and its SoundScape Park, where passersbys can watch wallcasts of concerts in the hall, has garnered rave reviews from architects, music critics and everyone in between.\\n\\nMiami has had a recent uptick in its fashion cred with boutiques like The Webster opened by a founder of the concept store Colette in Paris , the raft of pop up stores, and the mid century furniture stores in the Design District. There is a well established Cuban population that has been joined by many Central American and South American groups, making it one of the best places for vaca frita, grilled corn and everything in between. Miami is also near one of the world s greatest wetlands, the Everglades. Head west on the Tamiami Trail and soon you will be in gator country, where fan boats push tourists across the water and those bumps on a log have lots of teeth.\\n\\nWhere do you want to live? Not surprisingly, many buyers and renters want to be near the beach, particularly South Beach for its great nightlife, restaurants and 24 hour action. Development has stretched northward to North Miami Beach, Sunny Isles and even Aventura, and prices are good. Miami is on sale, said Jack H. Levine, chairman of the Miami Association of Realtors. We are on pace for a record year in transactions, better than the peak year of 2005. But in terms of price point, we are at 50 percent lower than 2005. Across the Intracoastal near downtown Miami, the boom time condos and high rises in the Brickell area offer lower prices in a good location near the business district and great views of Biscayne Bay. Downtown Miami has gotten a lot more residential, giving it the 24 hour life it previously lacked. The Design District and Wynwood have been gentrifying and there are plans on the drawing board for condo development that are slowing coming back online after the housing market bottom fell out in 2008.\\n\\nHouse hunters should like Spanish style architecture with white or yellow stucco and red tiles. Coconut Grove is south of downtown, with wide, shaded streets and a laidback vibe that make it a permanently popular location with buyers. Nearby Coral Gables is a similar story.\\n\\nSide trips The Everglades are a great day trip, as is a drive down to the most northern islands of the Florida Keys or up to the Japanese Gardens of the Morikami Museum in Delray Beach. For a weekend, the rest of the Keys are a draw Key Largo, Islamorada, and of course, Key West, the delightfully unique and charming pinky toe of America. With multiple daily flights from Miami International Airport, the Caribbean islands make popular getaways, as does much of South America.\\n\\nMiami and nearby Fort Lauderdale are the great cruise ports, leaving for points south, and Orlando is a few hours north. There are great beaches up and down the west coast, on the Gulf of Mexico, where pods of dolphins ride along playfully with jet skiers.'"
      ]
     },
     "execution_count": 66,
     "metadata": {},
     "output_type": "execute_result"
    }
   ],
   "source": [
    "xtest.iloc[22,:]['text']"
   ]
  },
  {
   "cell_type": "code",
   "execution_count": 71,
   "metadata": {},
   "outputs": [
    {
     "name": "stdout",
     "output_type": "stream",
     "text": [
      "Actual summary:\n"
     ]
    },
    {
     "data": {
      "text/plain": [
       "'The Cuban food, Latin American culture, beaches and models attract those in search of a good time.'"
      ]
     },
     "execution_count": 71,
     "metadata": {},
     "output_type": "execute_result"
    }
   ],
   "source": [
    "print(\"Actual summary:\")\n",
    "results['golden_summary'][22]"
   ]
  },
  {
   "cell_type": "code",
   "execution_count": 76,
   "metadata": {},
   "outputs": [
    {
     "name": "stdout",
     "output_type": "stream",
     "text": [
      "Generated summary:\n"
     ]
    },
    {
     "data": {
      "text/plain": [
       "'The city suffered from the recession and foreclosure cyclone that shook Florida, but that means it is a better bargain than it has been in years.'"
      ]
     },
     "execution_count": 76,
     "metadata": {},
     "output_type": "execute_result"
    }
   ],
   "source": [
    "print('Generated summary:')\n",
    "results['generated_summary'][22]"
   ]
  },
  {
   "cell_type": "code",
   "execution_count": 67,
   "metadata": {},
   "outputs": [
    {
     "data": {
      "text/plain": [
       "'Edward Daly, who as the Roman Catholic bishop of Northern Ireland s second largest city argued relentlessly for peace during the three decades of sectarian violence known as the Troubles, died on Monday in Londonderry. He was 82.\\n\\nHis death, at Altnagelvin Area Hospital, was announced by Bishop Donal McKeown of Derry, the diocese that Bishop Daly led from 1974 to 1993, when he stepped down after having a stroke. The city, officially Londonderry, is commonly known by its shorter name. He was hospitalized after a fall several weeks ago.\\n\\n Bishop Daly served, without any concern for himself, throughout the traumatic years of the Troubles, finding his ministry shaped by the experience of witnessing violence and its effects, Bishop McKeown said in a statement.\\n\\nOn Jan. 30, 1972, as a 38 year old curate at St. Eugene s Cathedral, Father Daly escorted unarmed protesters on a march toward the city center when British soldiers opened fire, resulting in the deaths of 14 people. The massacre became known as Bloody Sunday.\\n\\nImages of Father Daly waving a bloodied white handkerchief as protesters tried to carry a wounded man, Jackie Duddy, to safety circulated around the world.\\n\\n I went in front with this handkerchief in my hand, and they carried Jackie behind me, he later told the BBC. All hell was let loose. We were very nervous and frightened, and when we laid him down on the pavement, he had died. \\n\\nHe added It was utterly disgraceful. There was nothing fired at them I can say that with absolute certainty because I was there. \\n\\nFather Daly later told The New York Times that the massacre fueled the growth of the Irish Republican Army, the paramilitary group that battled British security forces and the unionist segments of Northern Ireland s population throughout the Troubles.\\n\\n Many young people I have talked to in prison have told me they would have never joined the I.R.A. had it not been for what they witnessed on Bloody Sunday, he said.\\n\\nIn 2010, after a 12 year investigation that cost about 200 million pounds, or 265 million at current exchange rates, a serious and widespread loss of discipline among the soldiers was blamed for the massacre.\\n\\nBritain s prime minister at the time, David Cameron, apologized, calling the massacre unjustified and unjustifiable. The next year, the government agreed to compensate the victims families.\\n\\nEdward Daly was born on Dec. 5, 1933, in the village of Belleek, County Fermanagh, near the border with Ireland. He attended St. Columb s College, a boys grammar school in Londonderry, before the diocese sent him to the Pontifical Irish College in Rome to prepare for the priesthood.\\n\\nHe was ordained as a priest in 1957 and appointed a curate in Castlederg, County Tyrone in 1962, he was named a curate at St. Eugene s, the Roman Catholic cathedral in Londonderry, and he was ordained a bishop in 1974.\\n\\nAs bishop, he repeatedly denounced waves of violence. In 1976, he deplored a firebombing that destroyed much of Londonderry s shopping district, and in 1987, he stopped church funerals for I.R.A. men after one service was turned into a paramilitary display by republican gunmen.\\n\\nOn Oct. 24, 1990, the I.R.A., threatening to kill his family if he did not obey, forced Patrick Gillespie, 42, a Catholic kitchen worker at a British Army base, to drive a van containing explosives into a military checkpoint outside Londonderry.\\n\\nThe attack, one of three proxy bombs that day, killed Mr. Gillespie and five soldiers. At a Mass attended by Catholics and Protestants, Bishop Daly said the killers had crossed a new threshold of evil. \\n\\n They may say they are followers of Christ, he said. Some of them may even still engage in the hypocrisy of coming to church, but their lives and their works proclaim clearly that they follow Satan. \\n\\nBishop Daly was equally unsparing in his criticism of the British authorities. After prosecutors moved to quash the murder convictions of six Catholics who said they had been coerced into confessing to the 1974 bombings of two bars in Birmingham, England, he said in 1991, The justice system in Britain has problems, and it must face up to those problems. \\n\\nThe same year, he expressed alarm about the covert recruitment of I.R.A. members by the British security services some were found out and killed.\\n\\nThe Troubles largely ended in 1998 with the Good Friday Agreement, which provided for self government in Northern Ireland with power sharing among its political factions.\\n\\nThe agreement also set out the principle that Northern Ireland would remain part of the United Kingdom until a majority of people in both Northern Ireland and Ireland wished otherwise.\\n\\nBishop Daly, who is survived by two sisters, spent his retirement as a chaplain to the Foyle Hospice in Londonderry and as archivist for the diocese.\\n\\nHe wrote two memoirs, Mister, Are You a Priest? 2000 and A Troubled See Memoirs of a Derry Bishop 2011 .\\n\\nIn the 2011 book, he questioned the Vatican s policy on priestly celibacy. I think priests should have the freedom to marry if they wish, he told the BBC, expressing worries about a shortage of priests.\\n\\nOn Monday, religious and secular leaders, Catholic and Protestant alike, mourned Bishop Daly s death.\\n\\nBishop Kenneth Good of Derry of the Church of Ireland, which is part of the Anglican Communion praised him for unwavering Christian leadership and guidance when it was desperately needed in this city and community, during the darkest days of the Troubles. \\n\\nFollow Sewell Chan on Twitter \\n\\nA version of this article appears in print on August 9, 2016, on page B16 of the New York edition with the headline Edward Daly, 82, Bishop During Troubles . Order Reprints Today s Paper Subscribe'"
      ]
     },
     "execution_count": 67,
     "metadata": {},
     "output_type": "execute_result"
    }
   ],
   "source": [
    "xtest.iloc[23,:]['text']"
   ]
  },
  {
   "cell_type": "code",
   "execution_count": 72,
   "metadata": {},
   "outputs": [
    {
     "name": "stdout",
     "output_type": "stream",
     "text": [
      "Actual summary:\n"
     ]
    },
    {
     "data": {
      "text/plain": [
       "'As a priest and later as bishop, he argued relentlessly for peace during the three decades of sectarian violence.'"
      ]
     },
     "execution_count": 72,
     "metadata": {},
     "output_type": "execute_result"
    }
   ],
   "source": [
    "print(\"Actual summary:\")\n",
    "results['golden_summary'][23]"
   ]
  },
  {
   "cell_type": "code",
   "execution_count": 77,
   "metadata": {},
   "outputs": [
    {
     "name": "stdout",
     "output_type": "stream",
     "text": [
      "Generated summary:\n"
     ]
    },
    {
     "data": {
      "text/plain": [
       "'The Roman Catholic bishop of Northern Ireland s second largest city argued relentlessly for peace during the three decades of sectarian violence known as the Troubles.'"
      ]
     },
     "execution_count": 77,
     "metadata": {},
     "output_type": "execute_result"
    }
   ],
   "source": [
    "print('Generated summary:')\n",
    "results['generated_summary'][23]"
   ]
  },
  {
   "cell_type": "code",
   "execution_count": 68,
   "metadata": {},
   "outputs": [
    {
     "data": {
      "text/plain": [
       "'Lindsay Lohan s biggest sobriety aid a kind of tea called Kombucha that usually contains harmless traces of alcohol could get LiLo in serious SCRAM trouble . because it might be more alcoholic than she thought.According to the label, the tea contains less than 0.5 alcohol a negligible amount but Whole Foods recently yanked all the teas from their shelves over concerns the label isn t so accurate.The guy behind Kombucha, GT Dave, admitted there are concerns over alcohol levels in the drink but tells TMZ, Although we are not familiar with the technology or sensitivity of SCRAM bracelets, we think it would be highly unlikely that our products would trigger an alarm. Bottom line, Lindsay would probably have to drink a ton of this stuff to set off her SCRAM shackle but that s not to say she couldn t do it.\\n\\nTags Lindsay Lohan, Developing Stories, Celebrity Justice'"
      ]
     },
     "execution_count": 68,
     "metadata": {},
     "output_type": "execute_result"
    }
   ],
   "source": [
    "xtest.iloc[30,:]['text']"
   ]
  },
  {
   "cell_type": "code",
   "execution_count": 73,
   "metadata": {},
   "outputs": [
    {
     "name": "stdout",
     "output_type": "stream",
     "text": [
      "Actual summary:\n"
     ]
    },
    {
     "data": {
      "text/plain": [
       "'Lindsay Lohan s biggest sobriety aid a kind of tea called Kombucha that usually contains harmless traces of alcohol could get LiLo in serious'"
      ]
     },
     "execution_count": 73,
     "metadata": {},
     "output_type": "execute_result"
    }
   ],
   "source": [
    "print(\"Actual summary:\")\n",
    "results['golden_summary'][30]"
   ]
  },
  {
   "cell_type": "code",
   "execution_count": 78,
   "metadata": {},
   "outputs": [
    {
     "name": "stdout",
     "output_type": "stream",
     "text": [
      "Generated summary:\n"
     ]
    },
    {
     "data": {
      "text/plain": [
       "'Lindsay Lohan s biggest sobriety aid a kind of tea called Kombucha that usually contains harmless traces of alcohol could get LiLo in serious SCRAM trouble. because it might be more alcoholic than'"
      ]
     },
     "execution_count": 78,
     "metadata": {},
     "output_type": "execute_result"
    }
   ],
   "source": [
    "print('Generated summary:')\n",
    "results['generated_summary'][30]"
   ]
  },
  {
   "cell_type": "markdown",
   "metadata": {
    "colab_type": "text",
    "id": "4KX71gPzy_bH"
   },
   "source": [
    "### Performance"
   ]
  },
  {
   "cell_type": "code",
   "execution_count": 62,
   "metadata": {
    "colab": {
     "base_uri": "https://localhost:8080/",
     "height": 125
    },
    "colab_type": "code",
    "id": "rdMr6tAWFpG8",
    "outputId": "a0b7677b-be23-49cf-e215-d3f9b566084c"
   },
   "outputs": [
    {
     "name": "stdout",
     "output_type": "stream",
     "text": [
      "Collecting rouge\n",
      "  Downloading rouge-1.0.0-py3-none-any.whl (14 kB)\n",
      "Requirement already satisfied: six in /opt/conda/lib/python3.7/site-packages (from rouge) (1.15.0)\n",
      "Installing collected packages: rouge\n",
      "Successfully installed rouge-1.0.0\n"
     ]
    }
   ],
   "source": [
    "!pip3 install rouge\n",
    "from rouge import Rouge"
   ]
  },
  {
   "cell_type": "code",
   "execution_count": 63,
   "metadata": {},
   "outputs": [
    {
     "name": "stdout",
     "output_type": "stream",
     "text": [
      "Collecting rouge-score\n",
      "  Downloading rouge_score-0.0.4-py2.py3-none-any.whl (22 kB)\n",
      "Requirement already satisfied: tqdm in /opt/conda/lib/python3.7/site-packages (4.46.1)\n",
      "Requirement already satisfied: six>=1.14.0 in /opt/conda/lib/python3.7/site-packages (from rouge-score) (1.15.0)\n",
      "Requirement already satisfied: numpy in /opt/conda/lib/python3.7/site-packages (from rouge-score) (1.18.1)\n",
      "Collecting absl-py\n",
      "  Downloading absl-py-0.9.0.tar.gz (104 kB)\n",
      "\u001b[K     |████████████████████████████████| 104 kB 6.5 MB/s eta 0:00:01\n",
      "\u001b[?25hRequirement already satisfied: nltk in /opt/conda/lib/python3.7/site-packages (from rouge-score) (3.4.4)\n",
      "Building wheels for collected packages: absl-py\n",
      "  Building wheel for absl-py (setup.py) ... \u001b[?25ldone\n",
      "\u001b[?25h  Created wheel for absl-py: filename=absl_py-0.9.0-py3-none-any.whl size=121931 sha256=869b584340fee616c3bc9bf5f854b09a96c5e4bf01914e637d615b22fd92487c\n",
      "  Stored in directory: /home/jupyter/.cache/pip/wheels/cc/af/1a/498a24d0730ef484019e007bb9e8cef3ac00311a672c049a3e\n",
      "Successfully built absl-py\n",
      "Installing collected packages: absl-py, rouge-score\n",
      "Successfully installed absl-py-0.9.0 rouge-score-0.0.4\n"
     ]
    }
   ],
   "source": [
    "!pip3 install rouge-score tqdm\n",
    "from rouge_score import rouge_scorer, scoring"
   ]
  },
  {
   "cell_type": "code",
   "execution_count": 79,
   "metadata": {
    "colab": {},
    "colab_type": "code",
    "id": "ter9ktdQ6_54"
   },
   "outputs": [],
   "source": [
    "from typing import Dict\n",
    "\n",
    "def get_score(summaries) -> Dict:  \n",
    "    \n",
    "    src_labels = summaries['golden_summary']\n",
    "    gen_summary = summaries['generated_summary']\n",
    "    \n",
    "    scorer = rouge_scorer.RougeScorer(['rouge1','rouge2','rougeL'], use_stemmer=True)\n",
    "    aggregator = scoring.BootstrapAggregator()\n",
    "    \n",
    "    for src, gent in zip(src_labels, gen_summary):\n",
    "        scores = scorer.score(gent, src)\n",
    "        aggregator.add_scores(scores)\n",
    "        \n",
    "    results = aggregator.aggregate()\n",
    "    return {key: val.mid.fmeasure for key, val in results.items()}"
   ]
  },
  {
   "cell_type": "code",
   "execution_count": 80,
   "metadata": {},
   "outputs": [
    {
     "data": {
      "text/plain": [
       "{'rouge1': 0.39125958591653576,\n",
       " 'rouge2': 0.2660470961210495,\n",
       " 'rougeL': 0.3460145925856343}"
      ]
     },
     "execution_count": 80,
     "metadata": {},
     "output_type": "execute_result"
    }
   ],
   "source": [
    "get_score(results)"
   ]
  },
  {
   "cell_type": "code",
   "execution_count": 81,
   "metadata": {},
   "outputs": [
    {
     "data": {
      "text/plain": [
       "{'rouge-1': 0.365011292445863,\n",
       " 'rouge-2': 0.2552586262863975,\n",
       " 'rouge-l': 0.35304477720327215}"
      ]
     },
     "execution_count": 81,
     "metadata": {},
     "output_type": "execute_result"
    }
   ],
   "source": [
    "rouge = Rouge()\n",
    "\n",
    "score = rouge.get_scores(results['generated_summary'], results['golden_summary'], avg=True)\n",
    "{key: val['f'] for key, val in score.items()}"
   ]
  },
  {
   "cell_type": "code",
   "execution_count": null,
   "metadata": {},
   "outputs": [],
   "source": []
  },
  {
   "cell_type": "code",
   "execution_count": null,
   "metadata": {},
   "outputs": [],
   "source": []
  },
  {
   "cell_type": "code",
   "execution_count": null,
   "metadata": {},
   "outputs": [],
   "source": []
  },
  {
   "cell_type": "code",
   "execution_count": null,
   "metadata": {},
   "outputs": [],
   "source": []
  },
  {
   "cell_type": "code",
   "execution_count": null,
   "metadata": {},
   "outputs": [],
   "source": []
  },
  {
   "cell_type": "code",
   "execution_count": null,
   "metadata": {},
   "outputs": [],
   "source": []
  },
  {
   "cell_type": "code",
   "execution_count": null,
   "metadata": {},
   "outputs": [],
   "source": []
  },
  {
   "cell_type": "code",
   "execution_count": null,
   "metadata": {},
   "outputs": [],
   "source": []
  },
  {
   "cell_type": "code",
   "execution_count": null,
   "metadata": {},
   "outputs": [],
   "source": []
  },
  {
   "cell_type": "code",
   "execution_count": null,
   "metadata": {},
   "outputs": [],
   "source": []
  },
  {
   "cell_type": "code",
   "execution_count": null,
   "metadata": {},
   "outputs": [],
   "source": []
  },
  {
   "cell_type": "markdown",
   "metadata": {
    "colab_type": "text",
    "id": "sTkqfrwoy5QR"
   },
   "source": [
    "##### Freezing layers"
   ]
  },
  {
   "cell_type": "code",
   "execution_count": null,
   "metadata": {
    "colab": {},
    "colab_type": "code",
    "id": "tDjdxQUI6_1w"
   },
   "outputs": [],
   "source": [
    "model.decoder.block[11].requires_grad=True\n",
    "model.decoder.block[4].requires_grad=True\n",
    "\n",
    "for param model.parameters():\n",
    "    param.requires_grad = False"
   ]
  },
  {
   "cell_type": "code",
   "execution_count": null,
   "metadata": {
    "colab": {},
    "colab_type": "code",
    "id": "imlmpMSC6_K2"
   },
   "outputs": [],
   "source": []
  },
  {
   "cell_type": "code",
   "execution_count": null,
   "metadata": {
    "colab": {},
    "colab_type": "code",
    "id": "OljFlfM5z0OW"
   },
   "outputs": [],
   "source": [
    "class T5Model(nn.Module):\n",
    "\n",
    "  def __init__(self, t5, )"
   ]
  },
  {
   "cell_type": "code",
   "execution_count": null,
   "metadata": {
    "colab": {},
    "colab_type": "code",
    "id": "wkpccxfe_Rwc"
   },
   "outputs": [],
   "source": [
    "class DictionaryDataset:\n",
    "  def __init__(self, dataset=None):\n",
    "    self.w2index = defaultdict(int)\n",
    "    self.index2w = defaultdict(lambda: 'SOS')\n",
    "    self.symbols = ['SOS','EOS','PAD']\n",
    "    self.wcount = 3\n",
    "\n",
    "    for i, s in enumerate(self.symbols):\n",
    "      self.index2w[i] = s\n",
    "    for i, s in enumerate(self.symbols):\n",
    "      self.w2index[s] = i\n",
    "      \n",
    "    if dataset:\n",
    "      for i, line in tqdm(enumerate(dataset)):\n",
    "        self.word2index(line)\n",
    "\n",
    "  def word2index(self, sentence):\n",
    "    words = sentence.split()\n",
    "    for word in words:\n",
    "      if word not in self.w2index.keys():\n",
    "        self.w2index[word] = self.wcount\n",
    "        self.index2w[self.wcount] = word\n",
    "        self.wcount +=1\n",
    "    \n",
    "  def encode_sequence(self, dataset):\n",
    "    for i, line in tqdm(enumerate(dataset)):\n",
    "      self.word2index(line)\n",
    "\n",
    "  def decode_idx(self, idx):\n",
    "    dec_words = []\n",
    "    for i in idx:\n",
    "      dec_words.append(self.index2w[i])\n",
    "    return dec_words"
   ]
  },
  {
   "cell_type": "markdown",
   "metadata": {
    "colab_type": "text",
    "id": "h01oJ3XRCSBV"
   },
   "source": [
    "![LSTM](https://drive.google.com/open?id=19pYBGaKGx2wTHjDC3QLMkpr5HDqTPbb6)"
   ]
  },
  {
   "cell_type": "markdown",
   "metadata": {
    "colab_type": "text",
    "id": "ujAMkc2nDPaB"
   },
   "source": [
    "![Seq2SeqWithAttention](https://drive.google.com/open?id=1QDLNN0XQ0TfeA-nyAGBhG3YgwAX0bPQU)"
   ]
  },
  {
   "cell_type": "markdown",
   "metadata": {
    "colab_type": "text",
    "id": "gfvg8MT3RBFI"
   },
   "source": [
    "You should use the same number of layers, for encoder and decoder\n",
    "shape for inputs is (batch size, sequence length), (batch size, 1) respectively.\n"
   ]
  },
  {
   "cell_type": "code",
   "execution_count": null,
   "metadata": {
    "colab": {},
    "colab_type": "code",
    "id": "QQF-TwabDk4Q"
   },
   "outputs": [],
   "source": [
    "class Encoder(nn.Module):\n",
    "  def __init__(self,input_size, embed_size, num_hidden, batch_size, num_layers=3, dropout = 0.1):\n",
    "    super(Encoder, self).__init__()\n",
    "    self.num_hidden = num_hidden\n",
    "    self.num_layers = num_layers\n",
    "    self.input_size = input_size\n",
    "    self.batch_size = batch_size\n",
    "\n",
    "    self.embed = nn.Embedding(input_size, embed_size)\n",
    "    self.lstm = nn.LSTM(input_size=embed_size, hidden_size=num_hidden,num_layers = num_layers, dropout=(0 if num_layers ==2 else dropout))\n",
    "\n",
    "  def init_hidden(self):\n",
    "     # The axes semantics are (num_layers, minibatch_size, hidden_dim)\n",
    "    return (torch.zeros(self.num_layers, self.batch_size, self.num_hidden), torch.zeros(self.num_layers, self.batch_size, self.num_hidden))\n",
    "  def forward(self, input, hidden):\n",
    "    # input (batch size, sequence length)\n",
    "    embedding = self.embed(input)\n",
    "    #print(embedding.shape)\n",
    "    embed_out = embedding.transpose(0,1)\n",
    "    print(embed_out.shape)\n",
    "    lstm_out, hidden = self.lstm(embed_out, hidden)\n",
    "\n",
    "    # The shape of lstm_out is (seq_len, batch_size, num_hiddens).\n",
    "    # state contains the hidden state and the memory cell\n",
    "    # of the last time step, the shape is (num_layers, batch_size, num_hiddens)\n",
    "    #lstout is (seq_length, batch_size, num_hiddens)\n",
    "    return lstm_out, hidden"
   ]
  },
  {
   "cell_type": "code",
   "execution_count": null,
   "metadata": {
    "colab": {
     "base_uri": "https://localhost:8080/",
     "height": 34
    },
    "colab_type": "code",
    "id": "m4_h0bXp0cl7",
    "outputId": "1310d376-e495-41c8-fd80-730b4970dca2"
   },
   "outputs": [
    {
     "name": "stdout",
     "output_type": "stream",
     "text": [
      "torch.Size([7, 4, 8])\n"
     ]
    }
   ],
   "source": [
    "encoder = Encoder(input_size =10, embed_size=8, num_hidden=16, batch_size=4)\n",
    "X = torch.zeros((4, 7),dtype=torch.long)\n",
    "hidden = encoder.init_hidden()\n",
    "output, hidden = encoder(X, hidden)"
   ]
  },
  {
   "cell_type": "code",
   "execution_count": null,
   "metadata": {
    "colab": {
     "base_uri": "https://localhost:8080/",
     "height": 34
    },
    "colab_type": "code",
    "id": "zJ53T62V6ZOO",
    "outputId": "70b9e373-d6ba-4eed-da7d-b002257ab62b"
   },
   "outputs": [
    {
     "data": {
      "text/plain": [
       "torch.Size([3, 4, 16])"
      ]
     },
     "execution_count": 89,
     "metadata": {
      "tags": []
     },
     "output_type": "execute_result"
    }
   ],
   "source": [
    "hidden[0].shape"
   ]
  },
  {
   "cell_type": "code",
   "execution_count": null,
   "metadata": {
    "colab": {
     "base_uri": "https://localhost:8080/",
     "height": 34
    },
    "colab_type": "code",
    "id": "0XNO21wuBTGi",
    "outputId": "ab86113b-05af-4271-d479-df115a533fd9"
   },
   "outputs": [
    {
     "data": {
      "text/plain": [
       "torch.Size([7, 4, 16])"
      ]
     },
     "execution_count": 90,
     "metadata": {
      "tags": []
     },
     "output_type": "execute_result"
    }
   ],
   "source": [
    "output.shape"
   ]
  },
  {
   "cell_type": "code",
   "execution_count": null,
   "metadata": {
    "colab": {},
    "colab_type": "code",
    "id": "e55gItUrF_wD"
   },
   "outputs": [],
   "source": [
    "class Attention(nn.Module):\n",
    "  def __init__(self, hidden_size, method='dot'):\n",
    "    super(Attention, self).__init__()\n",
    "    self.method = method\n",
    "    self.hidden_size = hidden_size\n",
    "  def dot_score(self, hidden, encoder_output):\n",
    "    return torch.sum(hidden * encoder_output, dim=2)\n",
    "\n",
    "  def forward(self, hidden, encoder_output):\n",
    "    att_prod = self.dot_score(hidden, encoder_output)\n",
    "    attn_weights = att_prod.t()\n",
    "    return F.softmax(attn_weights, dim=1).unsqueeze(1)\n",
    "\n"
   ]
  },
  {
   "cell_type": "code",
   "execution_count": null,
   "metadata": {
    "colab": {},
    "colab_type": "code",
    "id": "Lp5VhnhRnuaL"
   },
   "outputs": [],
   "source": [
    "class DecoderWithAtt(nn.Module):\n",
    "  def __init__(self, embed_size_in, num_hidden, output_size, att_method=None, num_layers = 3):\n",
    "    super(DecoderWithAtt, self).__init__()\n",
    "    self.num_layers = num_layers\n",
    "    self.num_hidden = num_hidden\n",
    "    self.output_size = output_size\n",
    "    self.att_method = att_method\n",
    "\n",
    "    self.emb = nn.Embedding(embed_size_in, num_hidden)\n",
    "    self.lstm = nn.LSTM(input_size=num_hidden, hidden_size=num_hidden, num_layers = num_layers)\n",
    "    self.con_ln = nn.Linear(num_hidden * 2, num_hidden)\n",
    "    self.drop = nn.Dropout(p=0.2)\n",
    "    self.fc  = nn.Linear(self.num_hidden, self.output_size)\n",
    "    self.attention = Attention(att_method, num_hidden)\n",
    "\n",
    "  def forward(self, prev_hidden, target_input, enconder_outputs):\n",
    "    embed_out = self.emb(target_input).transpose(0,1)\n",
    "    embed_out = self.drop(embed_out)\n",
    "    print('embed out >>>', embed_out.shape)\n",
    "    output, hidden = self.lstm(embed_out, prev_hidden) # shape (1, batch_size, hidden_size), 1 for one time step word \n",
    "    print('lstm out >>>', output.shape)\n",
    "    print('hidden out >>>', hidden[0].shape)\n",
    "\n",
    "    attent_weights = self.attention(output, enconder_outputs) # (att out shape: batch_size, 1, max_length), enc in shape: (max_length, batch_size, hidden_size)\n",
    "    print('attent_weights out >>>', attent_weights.shape)\n",
    "    print('enconder_outputs >>>', enconder_outputs.shape)\n",
    "\n",
    "    context = torch.bmm(attent_weights, enconder_outputs.transpose(0,1))\n",
    "    print('context out >>>', context.shape)\n",
    "    cont_dec_out = torch.cat((context, output.transpose(0,1)), 1)\n",
    "    print('to linear out >>>', cont_dec_out.shape)\n",
    "    cont_dec_out = cont_dec_out.view(cont_dec_out.shape[0], -1)\n",
    "    concat_out = self.con_ln(cont_dec_out)\n",
    "    concat_out = torch.tanh(concat_out)\n",
    "\n",
    "    out = self.fc(concat_out)\n",
    "    out = F.softmax(out, dim=1)\n",
    "\n",
    "    return out, hidden"
   ]
  },
  {
   "cell_type": "code",
   "execution_count": null,
   "metadata": {
    "colab": {},
    "colab_type": "code",
    "id": "--9oa_EJ6_GG"
   },
   "outputs": [],
   "source": [
    "decoder = DecoderWithAtt(10,16,2)"
   ]
  },
  {
   "cell_type": "code",
   "execution_count": null,
   "metadata": {
    "colab": {
     "base_uri": "https://localhost:8080/",
     "height": 137
    },
    "colab_type": "code",
    "id": "KHklHQXG7x4d",
    "outputId": "eeeb0cd9-0cd2-424f-dc6a-3823273e7fdb"
   },
   "outputs": [
    {
     "name": "stdout",
     "output_type": "stream",
     "text": [
      "embed out >>> torch.Size([1, 4, 16])\n",
      "lstm out >>> torch.Size([1, 4, 16])\n",
      "hidden out >>> torch.Size([3, 4, 16])\n",
      "attent_weights out >>> torch.Size([4, 1, 7])\n",
      "enconder_outputs >>> torch.Size([7, 4, 16])\n",
      "context out >>> torch.Size([4, 1, 16])\n",
      "to linear out >>> torch.Size([4, 2, 16])\n"
     ]
    }
   ],
   "source": [
    "x = torch.zeros((4, 1),dtype=torch.long)\n",
    "out, hidden = decoder(hidden, x, output)"
   ]
  },
  {
   "cell_type": "code",
   "execution_count": null,
   "metadata": {
    "colab": {
     "base_uri": "https://localhost:8080/",
     "height": 34
    },
    "colab_type": "code",
    "id": "oW94xBGOOPQH",
    "outputId": "0cc0b4a1-9b8f-4a40-db3a-0a809f844f35"
   },
   "outputs": [
    {
     "data": {
      "text/plain": [
       "torch.Size([4, 2])"
      ]
     },
     "execution_count": 96,
     "metadata": {
      "tags": []
     },
     "output_type": "execute_result"
    }
   ],
   "source": [
    "out.shape"
   ]
  },
  {
   "cell_type": "code",
   "execution_count": null,
   "metadata": {
    "colab": {
     "base_uri": "https://localhost:8080/",
     "height": 34
    },
    "colab_type": "code",
    "id": "fSB0L7_6QyEN",
    "outputId": "6b4d1c40-e5b1-446d-c843-4deb13218d54"
   },
   "outputs": [
    {
     "data": {
      "text/plain": [
       "torch.Size([3, 4, 16])"
      ]
     },
     "execution_count": 97,
     "metadata": {
      "tags": []
     },
     "output_type": "execute_result"
    }
   ],
   "source": [
    "hidden[0].shape"
   ]
  },
  {
   "cell_type": "code",
   "execution_count": null,
   "metadata": {
    "colab": {},
    "colab_type": "code",
    "id": "5Rl0M8_pQ6sD"
   },
   "outputs": [],
   "source": []
  }
 ],
 "metadata": {
  "accelerator": "GPU",
  "colab": {
   "collapsed_sections": [],
   "include_colab_link": true,
   "name": "T5-ftransfer_learning",
   "provenance": []
  },
  "environment": {
   "name": "pytorch-gpu.1-4.m49",
   "type": "gcloud",
   "uri": "gcr.io/deeplearning-platform-release/pytorch-gpu.1-4:m49"
  },
  "kernelspec": {
   "display_name": "Python 3",
   "language": "python",
   "name": "python3"
  },
  "language_info": {
   "codemirror_mode": {
    "name": "ipython",
    "version": 3
   },
   "file_extension": ".py",
   "mimetype": "text/x-python",
   "name": "python",
   "nbconvert_exporter": "python",
   "pygments_lexer": "ipython3",
   "version": "3.7.6"
  },
  "widgets": {
   "application/vnd.jupyter.widget-state+json": {
    "00632d7b23cc45f59515669601334fcd": {
     "model_module": "@jupyter-widgets/base",
     "model_name": "LayoutModel",
     "state": {
      "_model_module": "@jupyter-widgets/base",
      "_model_module_version": "1.2.0",
      "_model_name": "LayoutModel",
      "_view_count": null,
      "_view_module": "@jupyter-widgets/base",
      "_view_module_version": "1.2.0",
      "_view_name": "LayoutView",
      "align_content": null,
      "align_items": null,
      "align_self": null,
      "border": null,
      "bottom": null,
      "display": null,
      "flex": null,
      "flex_flow": null,
      "grid_area": null,
      "grid_auto_columns": null,
      "grid_auto_flow": null,
      "grid_auto_rows": null,
      "grid_column": null,
      "grid_gap": null,
      "grid_row": null,
      "grid_template_areas": null,
      "grid_template_columns": null,
      "grid_template_rows": null,
      "height": null,
      "justify_content": null,
      "justify_items": null,
      "left": null,
      "margin": null,
      "max_height": null,
      "max_width": null,
      "min_height": null,
      "min_width": null,
      "object_fit": null,
      "object_position": null,
      "order": null,
      "overflow": null,
      "overflow_x": null,
      "overflow_y": null,
      "padding": null,
      "right": null,
      "top": null,
      "visibility": null,
      "width": null
     }
    },
    "007752d9ce5e47f480ae606afeb2cd16": {
     "model_module": "@jupyter-widgets/base",
     "model_name": "LayoutModel",
     "state": {
      "_model_module": "@jupyter-widgets/base",
      "_model_module_version": "1.2.0",
      "_model_name": "LayoutModel",
      "_view_count": null,
      "_view_module": "@jupyter-widgets/base",
      "_view_module_version": "1.2.0",
      "_view_name": "LayoutView",
      "align_content": null,
      "align_items": null,
      "align_self": null,
      "border": null,
      "bottom": null,
      "display": null,
      "flex": null,
      "flex_flow": null,
      "grid_area": null,
      "grid_auto_columns": null,
      "grid_auto_flow": null,
      "grid_auto_rows": null,
      "grid_column": null,
      "grid_gap": null,
      "grid_row": null,
      "grid_template_areas": null,
      "grid_template_columns": null,
      "grid_template_rows": null,
      "height": null,
      "justify_content": null,
      "justify_items": null,
      "left": null,
      "margin": null,
      "max_height": null,
      "max_width": null,
      "min_height": null,
      "min_width": null,
      "object_fit": null,
      "object_position": null,
      "order": null,
      "overflow": null,
      "overflow_x": null,
      "overflow_y": null,
      "padding": null,
      "right": null,
      "top": null,
      "visibility": null,
      "width": null
     }
    },
    "02d1d8ffcf3a4873880bb4ec2b7eefbf": {
     "model_module": "@jupyter-widgets/controls",
     "model_name": "HTMLModel",
     "state": {
      "_dom_classes": [],
      "_model_module": "@jupyter-widgets/controls",
      "_model_module_version": "1.5.0",
      "_model_name": "HTMLModel",
      "_view_count": null,
      "_view_module": "@jupyter-widgets/controls",
      "_view_module_version": "1.5.0",
      "_view_name": "HTMLView",
      "description": "",
      "description_tooltip": null,
      "layout": "IPY_MODEL_7a0883324f8b4256adf0e8a54c77524f",
      "placeholder": "​",
      "style": "IPY_MODEL_1f778937b7484fac8de6530ea10a5470",
      "value": " 150/? [2:07:40&lt;00:00, 51.07s/it]"
     }
    },
    "04619e3db74847f5b637c7d2b1d5b8b8": {
     "model_module": "@jupyter-widgets/controls",
     "model_name": "DescriptionStyleModel",
     "state": {
      "_model_module": "@jupyter-widgets/controls",
      "_model_module_version": "1.5.0",
      "_model_name": "DescriptionStyleModel",
      "_view_count": null,
      "_view_module": "@jupyter-widgets/base",
      "_view_module_version": "1.2.0",
      "_view_name": "StyleView",
      "description_width": ""
     }
    },
    "0551f8a91cb547948703416f5c200c93": {
     "model_module": "@jupyter-widgets/base",
     "model_name": "LayoutModel",
     "state": {
      "_model_module": "@jupyter-widgets/base",
      "_model_module_version": "1.2.0",
      "_model_name": "LayoutModel",
      "_view_count": null,
      "_view_module": "@jupyter-widgets/base",
      "_view_module_version": "1.2.0",
      "_view_name": "LayoutView",
      "align_content": null,
      "align_items": null,
      "align_self": null,
      "border": null,
      "bottom": null,
      "display": null,
      "flex": null,
      "flex_flow": null,
      "grid_area": null,
      "grid_auto_columns": null,
      "grid_auto_flow": null,
      "grid_auto_rows": null,
      "grid_column": null,
      "grid_gap": null,
      "grid_row": null,
      "grid_template_areas": null,
      "grid_template_columns": null,
      "grid_template_rows": null,
      "height": null,
      "justify_content": null,
      "justify_items": null,
      "left": null,
      "margin": null,
      "max_height": null,
      "max_width": null,
      "min_height": null,
      "min_width": null,
      "object_fit": null,
      "object_position": null,
      "order": null,
      "overflow": null,
      "overflow_x": null,
      "overflow_y": null,
      "padding": null,
      "right": null,
      "top": null,
      "visibility": null,
      "width": null
     }
    },
    "0cdd1f83587643f68b9cc4659ba75fb8": {
     "model_module": "@jupyter-widgets/controls",
     "model_name": "FloatProgressModel",
     "state": {
      "_dom_classes": [],
      "_model_module": "@jupyter-widgets/controls",
      "_model_module_version": "1.5.0",
      "_model_name": "FloatProgressModel",
      "_view_count": null,
      "_view_module": "@jupyter-widgets/controls",
      "_view_module_version": "1.5.0",
      "_view_name": "ProgressView",
      "bar_style": "success",
      "description": "",
      "description_tooltip": null,
      "layout": "IPY_MODEL_9efdf4e9fd8c42598cced165c426f5bf",
      "max": 1,
      "min": 0,
      "orientation": "horizontal",
      "style": "IPY_MODEL_598b0d3d4ba64ed48d511ce9dd360f64",
      "value": 1
     }
    },
    "1523672396354424b0658ce14786fbd2": {
     "model_module": "@jupyter-widgets/controls",
     "model_name": "HTMLModel",
     "state": {
      "_dom_classes": [],
      "_model_module": "@jupyter-widgets/controls",
      "_model_module_version": "1.5.0",
      "_model_name": "HTMLModel",
      "_view_count": null,
      "_view_module": "@jupyter-widgets/controls",
      "_view_module_version": "1.5.0",
      "_view_name": "HTMLView",
      "description": "",
      "description_tooltip": null,
      "layout": "IPY_MODEL_864cb033af344f22b288a320088ec71c",
      "placeholder": "​",
      "style": "IPY_MODEL_ffc60b07ad704ea2afc0ac2c79c10c11",
      "value": " 150/? [01:24&lt;00:00,  1.77it/s]"
     }
    },
    "17e87d4a9a974aa6828c5ae0f9e0cf3a": {
     "model_module": "@jupyter-widgets/base",
     "model_name": "LayoutModel",
     "state": {
      "_model_module": "@jupyter-widgets/base",
      "_model_module_version": "1.2.0",
      "_model_name": "LayoutModel",
      "_view_count": null,
      "_view_module": "@jupyter-widgets/base",
      "_view_module_version": "1.2.0",
      "_view_name": "LayoutView",
      "align_content": null,
      "align_items": null,
      "align_self": null,
      "border": null,
      "bottom": null,
      "display": null,
      "flex": null,
      "flex_flow": null,
      "grid_area": null,
      "grid_auto_columns": null,
      "grid_auto_flow": null,
      "grid_auto_rows": null,
      "grid_column": null,
      "grid_gap": null,
      "grid_row": null,
      "grid_template_areas": null,
      "grid_template_columns": null,
      "grid_template_rows": null,
      "height": null,
      "justify_content": null,
      "justify_items": null,
      "left": null,
      "margin": null,
      "max_height": null,
      "max_width": null,
      "min_height": null,
      "min_width": null,
      "object_fit": null,
      "object_position": null,
      "order": null,
      "overflow": null,
      "overflow_x": null,
      "overflow_y": null,
      "padding": null,
      "right": null,
      "top": null,
      "visibility": null,
      "width": null
     }
    },
    "1a0b9019aa7a41298e993a61d3803b74": {
     "model_module": "@jupyter-widgets/controls",
     "model_name": "DescriptionStyleModel",
     "state": {
      "_model_module": "@jupyter-widgets/controls",
      "_model_module_version": "1.5.0",
      "_model_name": "DescriptionStyleModel",
      "_view_count": null,
      "_view_module": "@jupyter-widgets/base",
      "_view_module_version": "1.2.0",
      "_view_name": "StyleView",
      "description_width": ""
     }
    },
    "1cbf0dd906ac41e985bd752f526fa2d4": {
     "model_module": "@jupyter-widgets/controls",
     "model_name": "HTMLModel",
     "state": {
      "_dom_classes": [],
      "_model_module": "@jupyter-widgets/controls",
      "_model_module_version": "1.5.0",
      "_model_name": "HTMLModel",
      "_view_count": null,
      "_view_module": "@jupyter-widgets/controls",
      "_view_module_version": "1.5.0",
      "_view_name": "HTMLView",
      "description": "",
      "description_tooltip": null,
      "layout": "IPY_MODEL_6005029df2504711a96df12e14290100",
      "placeholder": "​",
      "style": "IPY_MODEL_41ceec6b9c214b18891c8ab915d5c19c",
      "value": " 150/? [01:09&lt;00:00,  2.17it/s]"
     }
    },
    "1f778937b7484fac8de6530ea10a5470": {
     "model_module": "@jupyter-widgets/controls",
     "model_name": "DescriptionStyleModel",
     "state": {
      "_model_module": "@jupyter-widgets/controls",
      "_model_module_version": "1.5.0",
      "_model_name": "DescriptionStyleModel",
      "_view_count": null,
      "_view_module": "@jupyter-widgets/base",
      "_view_module_version": "1.2.0",
      "_view_name": "StyleView",
      "description_width": ""
     }
    },
    "2004cd6b66034fdda39e09c4ea44b3ce": {
     "model_module": "@jupyter-widgets/base",
     "model_name": "LayoutModel",
     "state": {
      "_model_module": "@jupyter-widgets/base",
      "_model_module_version": "1.2.0",
      "_model_name": "LayoutModel",
      "_view_count": null,
      "_view_module": "@jupyter-widgets/base",
      "_view_module_version": "1.2.0",
      "_view_name": "LayoutView",
      "align_content": null,
      "align_items": null,
      "align_self": null,
      "border": null,
      "bottom": null,
      "display": null,
      "flex": null,
      "flex_flow": null,
      "grid_area": null,
      "grid_auto_columns": null,
      "grid_auto_flow": null,
      "grid_auto_rows": null,
      "grid_column": null,
      "grid_gap": null,
      "grid_row": null,
      "grid_template_areas": null,
      "grid_template_columns": null,
      "grid_template_rows": null,
      "height": null,
      "justify_content": null,
      "justify_items": null,
      "left": null,
      "margin": null,
      "max_height": null,
      "max_width": null,
      "min_height": null,
      "min_width": null,
      "object_fit": null,
      "object_position": null,
      "order": null,
      "overflow": null,
      "overflow_x": null,
      "overflow_y": null,
      "padding": null,
      "right": null,
      "top": null,
      "visibility": null,
      "width": null
     }
    },
    "200ba008099045719694899c681c2d16": {
     "model_module": "@jupyter-widgets/base",
     "model_name": "LayoutModel",
     "state": {
      "_model_module": "@jupyter-widgets/base",
      "_model_module_version": "1.2.0",
      "_model_name": "LayoutModel",
      "_view_count": null,
      "_view_module": "@jupyter-widgets/base",
      "_view_module_version": "1.2.0",
      "_view_name": "LayoutView",
      "align_content": null,
      "align_items": null,
      "align_self": null,
      "border": null,
      "bottom": null,
      "display": null,
      "flex": null,
      "flex_flow": null,
      "grid_area": null,
      "grid_auto_columns": null,
      "grid_auto_flow": null,
      "grid_auto_rows": null,
      "grid_column": null,
      "grid_gap": null,
      "grid_row": null,
      "grid_template_areas": null,
      "grid_template_columns": null,
      "grid_template_rows": null,
      "height": null,
      "justify_content": null,
      "justify_items": null,
      "left": null,
      "margin": null,
      "max_height": null,
      "max_width": null,
      "min_height": null,
      "min_width": null,
      "object_fit": null,
      "object_position": null,
      "order": null,
      "overflow": null,
      "overflow_x": null,
      "overflow_y": null,
      "padding": null,
      "right": null,
      "top": null,
      "visibility": null,
      "width": null
     }
    },
    "22e8567701184b729be80c57098badc4": {
     "model_module": "@jupyter-widgets/base",
     "model_name": "LayoutModel",
     "state": {
      "_model_module": "@jupyter-widgets/base",
      "_model_module_version": "1.2.0",
      "_model_name": "LayoutModel",
      "_view_count": null,
      "_view_module": "@jupyter-widgets/base",
      "_view_module_version": "1.2.0",
      "_view_name": "LayoutView",
      "align_content": null,
      "align_items": null,
      "align_self": null,
      "border": null,
      "bottom": null,
      "display": null,
      "flex": null,
      "flex_flow": null,
      "grid_area": null,
      "grid_auto_columns": null,
      "grid_auto_flow": null,
      "grid_auto_rows": null,
      "grid_column": null,
      "grid_gap": null,
      "grid_row": null,
      "grid_template_areas": null,
      "grid_template_columns": null,
      "grid_template_rows": null,
      "height": null,
      "justify_content": null,
      "justify_items": null,
      "left": null,
      "margin": null,
      "max_height": null,
      "max_width": null,
      "min_height": null,
      "min_width": null,
      "object_fit": null,
      "object_position": null,
      "order": null,
      "overflow": null,
      "overflow_x": null,
      "overflow_y": null,
      "padding": null,
      "right": null,
      "top": null,
      "visibility": null,
      "width": null
     }
    },
    "246eeb6e3e814185a92d51b933a6cf16": {
     "model_module": "@jupyter-widgets/controls",
     "model_name": "ProgressStyleModel",
     "state": {
      "_model_module": "@jupyter-widgets/controls",
      "_model_module_version": "1.5.0",
      "_model_name": "ProgressStyleModel",
      "_view_count": null,
      "_view_module": "@jupyter-widgets/base",
      "_view_module_version": "1.2.0",
      "_view_name": "StyleView",
      "bar_color": null,
      "description_width": "initial"
     }
    },
    "267a56c7a2f542e3b24a5f790491a550": {
     "model_module": "@jupyter-widgets/controls",
     "model_name": "HBoxModel",
     "state": {
      "_dom_classes": [],
      "_model_module": "@jupyter-widgets/controls",
      "_model_module_version": "1.5.0",
      "_model_name": "HBoxModel",
      "_view_count": null,
      "_view_module": "@jupyter-widgets/controls",
      "_view_module_version": "1.5.0",
      "_view_name": "HBoxView",
      "box_style": "",
      "children": [
       "IPY_MODEL_db85fdb064634d80b1904313a3b81ddb",
       "IPY_MODEL_1cbf0dd906ac41e985bd752f526fa2d4"
      ],
      "layout": "IPY_MODEL_dc94b3b543714dd0845fdadca7db22a3"
     }
    },
    "268c4187cfc9490bacfa1eafe1fbcca1": {
     "model_module": "@jupyter-widgets/controls",
     "model_name": "DescriptionStyleModel",
     "state": {
      "_model_module": "@jupyter-widgets/controls",
      "_model_module_version": "1.5.0",
      "_model_name": "DescriptionStyleModel",
      "_view_count": null,
      "_view_module": "@jupyter-widgets/base",
      "_view_module_version": "1.2.0",
      "_view_name": "StyleView",
      "description_width": ""
     }
    },
    "2732c77700724db3beb39d1c64469852": {
     "model_module": "@jupyter-widgets/controls",
     "model_name": "HTMLModel",
     "state": {
      "_dom_classes": [],
      "_model_module": "@jupyter-widgets/controls",
      "_model_module_version": "1.5.0",
      "_model_name": "HTMLModel",
      "_view_count": null,
      "_view_module": "@jupyter-widgets/controls",
      "_view_module_version": "1.5.0",
      "_view_name": "HTMLView",
      "description": "",
      "description_tooltip": null,
      "layout": "IPY_MODEL_a504d4571ae54c97a6fb586051f17b07",
      "placeholder": "​",
      "style": "IPY_MODEL_f1010194505c44b588ba44a39e4afd9f",
      "value": " 150/? [01:09&lt;00:00,  2.16it/s]"
     }
    },
    "273de981090749b29ce385706c449722": {
     "model_module": "@jupyter-widgets/controls",
     "model_name": "ProgressStyleModel",
     "state": {
      "_model_module": "@jupyter-widgets/controls",
      "_model_module_version": "1.5.0",
      "_model_name": "ProgressStyleModel",
      "_view_count": null,
      "_view_module": "@jupyter-widgets/base",
      "_view_module_version": "1.2.0",
      "_view_name": "StyleView",
      "bar_color": null,
      "description_width": "initial"
     }
    },
    "27afa2d568d6441690a6d0ee44e40e1c": {
     "model_module": "@jupyter-widgets/base",
     "model_name": "LayoutModel",
     "state": {
      "_model_module": "@jupyter-widgets/base",
      "_model_module_version": "1.2.0",
      "_model_name": "LayoutModel",
      "_view_count": null,
      "_view_module": "@jupyter-widgets/base",
      "_view_module_version": "1.2.0",
      "_view_name": "LayoutView",
      "align_content": null,
      "align_items": null,
      "align_self": null,
      "border": null,
      "bottom": null,
      "display": null,
      "flex": null,
      "flex_flow": null,
      "grid_area": null,
      "grid_auto_columns": null,
      "grid_auto_flow": null,
      "grid_auto_rows": null,
      "grid_column": null,
      "grid_gap": null,
      "grid_row": null,
      "grid_template_areas": null,
      "grid_template_columns": null,
      "grid_template_rows": null,
      "height": null,
      "justify_content": null,
      "justify_items": null,
      "left": null,
      "margin": null,
      "max_height": null,
      "max_width": null,
      "min_height": null,
      "min_width": null,
      "object_fit": null,
      "object_position": null,
      "order": null,
      "overflow": null,
      "overflow_x": null,
      "overflow_y": null,
      "padding": null,
      "right": null,
      "top": null,
      "visibility": null,
      "width": null
     }
    },
    "27deb6f565ac4447a44770288071a0b8": {
     "model_module": "@jupyter-widgets/controls",
     "model_name": "HTMLModel",
     "state": {
      "_dom_classes": [],
      "_model_module": "@jupyter-widgets/controls",
      "_model_module_version": "1.5.0",
      "_model_name": "HTMLModel",
      "_view_count": null,
      "_view_module": "@jupyter-widgets/controls",
      "_view_module_version": "1.5.0",
      "_view_name": "HTMLView",
      "description": "",
      "description_tooltip": null,
      "layout": "IPY_MODEL_9a9728af9dcb4e67a1a006297cd7b74c",
      "placeholder": "​",
      "style": "IPY_MODEL_e94b124aaf674431b6e424b9c6c1da87",
      "value": " 150/? [01:26&lt;00:00,  1.73it/s]"
     }
    },
    "2d2b6b3effa34b809c30379c42c3c861": {
     "model_module": "@jupyter-widgets/controls",
     "model_name": "FloatProgressModel",
     "state": {
      "_dom_classes": [],
      "_model_module": "@jupyter-widgets/controls",
      "_model_module_version": "1.5.0",
      "_model_name": "FloatProgressModel",
      "_view_count": null,
      "_view_module": "@jupyter-widgets/controls",
      "_view_module_version": "1.5.0",
      "_view_name": "ProgressView",
      "bar_style": "success",
      "description": "",
      "description_tooltip": null,
      "layout": "IPY_MODEL_ad0c71bcf6d945098f04025bc52055f9",
      "max": 1,
      "min": 0,
      "orientation": "horizontal",
      "style": "IPY_MODEL_5605c8c2ad12431b88e1404953ecd6b9",
      "value": 1
     }
    },
    "2d96618428094902b80450d649566a66": {
     "model_module": "@jupyter-widgets/controls",
     "model_name": "HBoxModel",
     "state": {
      "_dom_classes": [],
      "_model_module": "@jupyter-widgets/controls",
      "_model_module_version": "1.5.0",
      "_model_name": "HBoxModel",
      "_view_count": null,
      "_view_module": "@jupyter-widgets/controls",
      "_view_module_version": "1.5.0",
      "_view_name": "HBoxView",
      "box_style": "",
      "children": [
       "IPY_MODEL_a33ce8bb19284323a89a317403263c0d",
       "IPY_MODEL_90937a3fdc314010948a13e9e2c70e40"
      ],
      "layout": "IPY_MODEL_c7a670342db348f0b703a95438137574"
     }
    },
    "2df67220b98547639c10a80ceb63b1ef": {
     "model_module": "@jupyter-widgets/base",
     "model_name": "LayoutModel",
     "state": {
      "_model_module": "@jupyter-widgets/base",
      "_model_module_version": "1.2.0",
      "_model_name": "LayoutModel",
      "_view_count": null,
      "_view_module": "@jupyter-widgets/base",
      "_view_module_version": "1.2.0",
      "_view_name": "LayoutView",
      "align_content": null,
      "align_items": null,
      "align_self": null,
      "border": null,
      "bottom": null,
      "display": null,
      "flex": null,
      "flex_flow": null,
      "grid_area": null,
      "grid_auto_columns": null,
      "grid_auto_flow": null,
      "grid_auto_rows": null,
      "grid_column": null,
      "grid_gap": null,
      "grid_row": null,
      "grid_template_areas": null,
      "grid_template_columns": null,
      "grid_template_rows": null,
      "height": null,
      "justify_content": null,
      "justify_items": null,
      "left": null,
      "margin": null,
      "max_height": null,
      "max_width": null,
      "min_height": null,
      "min_width": null,
      "object_fit": null,
      "object_position": null,
      "order": null,
      "overflow": null,
      "overflow_x": null,
      "overflow_y": null,
      "padding": null,
      "right": null,
      "top": null,
      "visibility": null,
      "width": null
     }
    },
    "2f28dc0b45cc4b30acb85fecdc128397": {
     "model_module": "@jupyter-widgets/controls",
     "model_name": "ProgressStyleModel",
     "state": {
      "_model_module": "@jupyter-widgets/controls",
      "_model_module_version": "1.5.0",
      "_model_name": "ProgressStyleModel",
      "_view_count": null,
      "_view_module": "@jupyter-widgets/base",
      "_view_module_version": "1.2.0",
      "_view_name": "StyleView",
      "bar_color": null,
      "description_width": "initial"
     }
    },
    "3008461ae4e440d081f2f3ac46afa685": {
     "model_module": "@jupyter-widgets/controls",
     "model_name": "DescriptionStyleModel",
     "state": {
      "_model_module": "@jupyter-widgets/controls",
      "_model_module_version": "1.5.0",
      "_model_name": "DescriptionStyleModel",
      "_view_count": null,
      "_view_module": "@jupyter-widgets/base",
      "_view_module_version": "1.2.0",
      "_view_name": "StyleView",
      "description_width": ""
     }
    },
    "3353a6712b3a482d8907ca80a0824020": {
     "model_module": "@jupyter-widgets/base",
     "model_name": "LayoutModel",
     "state": {
      "_model_module": "@jupyter-widgets/base",
      "_model_module_version": "1.2.0",
      "_model_name": "LayoutModel",
      "_view_count": null,
      "_view_module": "@jupyter-widgets/base",
      "_view_module_version": "1.2.0",
      "_view_name": "LayoutView",
      "align_content": null,
      "align_items": null,
      "align_self": null,
      "border": null,
      "bottom": null,
      "display": null,
      "flex": null,
      "flex_flow": null,
      "grid_area": null,
      "grid_auto_columns": null,
      "grid_auto_flow": null,
      "grid_auto_rows": null,
      "grid_column": null,
      "grid_gap": null,
      "grid_row": null,
      "grid_template_areas": null,
      "grid_template_columns": null,
      "grid_template_rows": null,
      "height": null,
      "justify_content": null,
      "justify_items": null,
      "left": null,
      "margin": null,
      "max_height": null,
      "max_width": null,
      "min_height": null,
      "min_width": null,
      "object_fit": null,
      "object_position": null,
      "order": null,
      "overflow": null,
      "overflow_x": null,
      "overflow_y": null,
      "padding": null,
      "right": null,
      "top": null,
      "visibility": null,
      "width": null
     }
    },
    "354fdd4a6e064367be8398d996b63d38": {
     "model_module": "@jupyter-widgets/controls",
     "model_name": "HTMLModel",
     "state": {
      "_dom_classes": [],
      "_model_module": "@jupyter-widgets/controls",
      "_model_module_version": "1.5.0",
      "_model_name": "HTMLModel",
      "_view_count": null,
      "_view_module": "@jupyter-widgets/controls",
      "_view_module_version": "1.5.0",
      "_view_name": "HTMLView",
      "description": "",
      "description_tooltip": null,
      "layout": "IPY_MODEL_22e8567701184b729be80c57098badc4",
      "placeholder": "​",
      "style": "IPY_MODEL_3008461ae4e440d081f2f3ac46afa685",
      "value": " 150/? [01:10&lt;00:00,  2.12it/s]"
     }
    },
    "37454b94184a4a10a9affa6e84e74f43": {
     "model_module": "@jupyter-widgets/base",
     "model_name": "LayoutModel",
     "state": {
      "_model_module": "@jupyter-widgets/base",
      "_model_module_version": "1.2.0",
      "_model_name": "LayoutModel",
      "_view_count": null,
      "_view_module": "@jupyter-widgets/base",
      "_view_module_version": "1.2.0",
      "_view_name": "LayoutView",
      "align_content": null,
      "align_items": null,
      "align_self": null,
      "border": null,
      "bottom": null,
      "display": null,
      "flex": null,
      "flex_flow": null,
      "grid_area": null,
      "grid_auto_columns": null,
      "grid_auto_flow": null,
      "grid_auto_rows": null,
      "grid_column": null,
      "grid_gap": null,
      "grid_row": null,
      "grid_template_areas": null,
      "grid_template_columns": null,
      "grid_template_rows": null,
      "height": null,
      "justify_content": null,
      "justify_items": null,
      "left": null,
      "margin": null,
      "max_height": null,
      "max_width": null,
      "min_height": null,
      "min_width": null,
      "object_fit": null,
      "object_position": null,
      "order": null,
      "overflow": null,
      "overflow_x": null,
      "overflow_y": null,
      "padding": null,
      "right": null,
      "top": null,
      "visibility": null,
      "width": null
     }
    },
    "3856954e8b1e47a08fce9fff7a038027": {
     "model_module": "@jupyter-widgets/base",
     "model_name": "LayoutModel",
     "state": {
      "_model_module": "@jupyter-widgets/base",
      "_model_module_version": "1.2.0",
      "_model_name": "LayoutModel",
      "_view_count": null,
      "_view_module": "@jupyter-widgets/base",
      "_view_module_version": "1.2.0",
      "_view_name": "LayoutView",
      "align_content": null,
      "align_items": null,
      "align_self": null,
      "border": null,
      "bottom": null,
      "display": null,
      "flex": null,
      "flex_flow": null,
      "grid_area": null,
      "grid_auto_columns": null,
      "grid_auto_flow": null,
      "grid_auto_rows": null,
      "grid_column": null,
      "grid_gap": null,
      "grid_row": null,
      "grid_template_areas": null,
      "grid_template_columns": null,
      "grid_template_rows": null,
      "height": null,
      "justify_content": null,
      "justify_items": null,
      "left": null,
      "margin": null,
      "max_height": null,
      "max_width": null,
      "min_height": null,
      "min_width": null,
      "object_fit": null,
      "object_position": null,
      "order": null,
      "overflow": null,
      "overflow_x": null,
      "overflow_y": null,
      "padding": null,
      "right": null,
      "top": null,
      "visibility": null,
      "width": null
     }
    },
    "3c42fdea3dcd4f2bbd6ba10777f27db3": {
     "model_module": "@jupyter-widgets/base",
     "model_name": "LayoutModel",
     "state": {
      "_model_module": "@jupyter-widgets/base",
      "_model_module_version": "1.2.0",
      "_model_name": "LayoutModel",
      "_view_count": null,
      "_view_module": "@jupyter-widgets/base",
      "_view_module_version": "1.2.0",
      "_view_name": "LayoutView",
      "align_content": null,
      "align_items": null,
      "align_self": null,
      "border": null,
      "bottom": null,
      "display": null,
      "flex": null,
      "flex_flow": null,
      "grid_area": null,
      "grid_auto_columns": null,
      "grid_auto_flow": null,
      "grid_auto_rows": null,
      "grid_column": null,
      "grid_gap": null,
      "grid_row": null,
      "grid_template_areas": null,
      "grid_template_columns": null,
      "grid_template_rows": null,
      "height": null,
      "justify_content": null,
      "justify_items": null,
      "left": null,
      "margin": null,
      "max_height": null,
      "max_width": null,
      "min_height": null,
      "min_width": null,
      "object_fit": null,
      "object_position": null,
      "order": null,
      "overflow": null,
      "overflow_x": null,
      "overflow_y": null,
      "padding": null,
      "right": null,
      "top": null,
      "visibility": null,
      "width": null
     }
    },
    "40ef9fea4c03417db6bdc76b480fb59e": {
     "model_module": "@jupyter-widgets/controls",
     "model_name": "HBoxModel",
     "state": {
      "_dom_classes": [],
      "_model_module": "@jupyter-widgets/controls",
      "_model_module_version": "1.5.0",
      "_model_name": "HBoxModel",
      "_view_count": null,
      "_view_module": "@jupyter-widgets/controls",
      "_view_module_version": "1.5.0",
      "_view_name": "HBoxView",
      "box_style": "",
      "children": [
       "IPY_MODEL_8b5212a3ed9f49aea201644e1ed1ac53",
       "IPY_MODEL_a637e9d5dda44c3e9c8c3b9154b1b20d"
      ],
      "layout": "IPY_MODEL_3c42fdea3dcd4f2bbd6ba10777f27db3"
     }
    },
    "41ceec6b9c214b18891c8ab915d5c19c": {
     "model_module": "@jupyter-widgets/controls",
     "model_name": "DescriptionStyleModel",
     "state": {
      "_model_module": "@jupyter-widgets/controls",
      "_model_module_version": "1.5.0",
      "_model_name": "DescriptionStyleModel",
      "_view_count": null,
      "_view_module": "@jupyter-widgets/base",
      "_view_module_version": "1.2.0",
      "_view_name": "StyleView",
      "description_width": ""
     }
    },
    "430de0fcf9ce45799f8cec7b508a8f7f": {
     "model_module": "@jupyter-widgets/controls",
     "model_name": "HBoxModel",
     "state": {
      "_dom_classes": [],
      "_model_module": "@jupyter-widgets/controls",
      "_model_module_version": "1.5.0",
      "_model_name": "HBoxModel",
      "_view_count": null,
      "_view_module": "@jupyter-widgets/controls",
      "_view_module_version": "1.5.0",
      "_view_name": "HBoxView",
      "box_style": "",
      "children": [
       "IPY_MODEL_e2be21b2cc584489b535309b9c8904e3",
       "IPY_MODEL_354fdd4a6e064367be8398d996b63d38"
      ],
      "layout": "IPY_MODEL_99791d40ec534ebc9a7f4b01767f9aad"
     }
    },
    "471a09375e984a31824b27e279a6c4f3": {
     "model_module": "@jupyter-widgets/controls",
     "model_name": "FloatProgressModel",
     "state": {
      "_dom_classes": [],
      "_model_module": "@jupyter-widgets/controls",
      "_model_module_version": "1.5.0",
      "_model_name": "FloatProgressModel",
      "_view_count": null,
      "_view_module": "@jupyter-widgets/controls",
      "_view_module_version": "1.5.0",
      "_view_name": "ProgressView",
      "bar_style": "success",
      "description": "",
      "description_tooltip": null,
      "layout": "IPY_MODEL_37454b94184a4a10a9affa6e84e74f43",
      "max": 1,
      "min": 0,
      "orientation": "horizontal",
      "style": "IPY_MODEL_7a407d5347104eaa9ce6ec36250715d3",
      "value": 1
     }
    },
    "4778d193b45a4e2ca8871f19b195a26b": {
     "model_module": "@jupyter-widgets/base",
     "model_name": "LayoutModel",
     "state": {
      "_model_module": "@jupyter-widgets/base",
      "_model_module_version": "1.2.0",
      "_model_name": "LayoutModel",
      "_view_count": null,
      "_view_module": "@jupyter-widgets/base",
      "_view_module_version": "1.2.0",
      "_view_name": "LayoutView",
      "align_content": null,
      "align_items": null,
      "align_self": null,
      "border": null,
      "bottom": null,
      "display": null,
      "flex": null,
      "flex_flow": null,
      "grid_area": null,
      "grid_auto_columns": null,
      "grid_auto_flow": null,
      "grid_auto_rows": null,
      "grid_column": null,
      "grid_gap": null,
      "grid_row": null,
      "grid_template_areas": null,
      "grid_template_columns": null,
      "grid_template_rows": null,
      "height": null,
      "justify_content": null,
      "justify_items": null,
      "left": null,
      "margin": null,
      "max_height": null,
      "max_width": null,
      "min_height": null,
      "min_width": null,
      "object_fit": null,
      "object_position": null,
      "order": null,
      "overflow": null,
      "overflow_x": null,
      "overflow_y": null,
      "padding": null,
      "right": null,
      "top": null,
      "visibility": null,
      "width": null
     }
    },
    "4800749f8151430c8cc49570cd4ccaf7": {
     "model_module": "@jupyter-widgets/base",
     "model_name": "LayoutModel",
     "state": {
      "_model_module": "@jupyter-widgets/base",
      "_model_module_version": "1.2.0",
      "_model_name": "LayoutModel",
      "_view_count": null,
      "_view_module": "@jupyter-widgets/base",
      "_view_module_version": "1.2.0",
      "_view_name": "LayoutView",
      "align_content": null,
      "align_items": null,
      "align_self": null,
      "border": null,
      "bottom": null,
      "display": null,
      "flex": null,
      "flex_flow": null,
      "grid_area": null,
      "grid_auto_columns": null,
      "grid_auto_flow": null,
      "grid_auto_rows": null,
      "grid_column": null,
      "grid_gap": null,
      "grid_row": null,
      "grid_template_areas": null,
      "grid_template_columns": null,
      "grid_template_rows": null,
      "height": null,
      "justify_content": null,
      "justify_items": null,
      "left": null,
      "margin": null,
      "max_height": null,
      "max_width": null,
      "min_height": null,
      "min_width": null,
      "object_fit": null,
      "object_position": null,
      "order": null,
      "overflow": null,
      "overflow_x": null,
      "overflow_y": null,
      "padding": null,
      "right": null,
      "top": null,
      "visibility": null,
      "width": null
     }
    },
    "495e64e746fb4ac5a3ebb93e72d80cf2": {
     "model_module": "@jupyter-widgets/controls",
     "model_name": "HTMLModel",
     "state": {
      "_dom_classes": [],
      "_model_module": "@jupyter-widgets/controls",
      "_model_module_version": "1.5.0",
      "_model_name": "HTMLModel",
      "_view_count": null,
      "_view_module": "@jupyter-widgets/controls",
      "_view_module_version": "1.5.0",
      "_view_name": "HTMLView",
      "description": "",
      "description_tooltip": null,
      "layout": "IPY_MODEL_761c5839d34445bbb39d713b2b1e1c7c",
      "placeholder": "​",
      "style": "IPY_MODEL_1a0b9019aa7a41298e993a61d3803b74",
      "value": " 4/? [00:06&lt;00:00,  1.55s/it]"
     }
    },
    "4a42cbf2455346818c8fb92da5665bca": {
     "model_module": "@jupyter-widgets/base",
     "model_name": "LayoutModel",
     "state": {
      "_model_module": "@jupyter-widgets/base",
      "_model_module_version": "1.2.0",
      "_model_name": "LayoutModel",
      "_view_count": null,
      "_view_module": "@jupyter-widgets/base",
      "_view_module_version": "1.2.0",
      "_view_name": "LayoutView",
      "align_content": null,
      "align_items": null,
      "align_self": null,
      "border": null,
      "bottom": null,
      "display": null,
      "flex": null,
      "flex_flow": null,
      "grid_area": null,
      "grid_auto_columns": null,
      "grid_auto_flow": null,
      "grid_auto_rows": null,
      "grid_column": null,
      "grid_gap": null,
      "grid_row": null,
      "grid_template_areas": null,
      "grid_template_columns": null,
      "grid_template_rows": null,
      "height": null,
      "justify_content": null,
      "justify_items": null,
      "left": null,
      "margin": null,
      "max_height": null,
      "max_width": null,
      "min_height": null,
      "min_width": null,
      "object_fit": null,
      "object_position": null,
      "order": null,
      "overflow": null,
      "overflow_x": null,
      "overflow_y": null,
      "padding": null,
      "right": null,
      "top": null,
      "visibility": null,
      "width": null
     }
    },
    "4d3bd152e2b14612bdec4f9692d48739": {
     "model_module": "@jupyter-widgets/base",
     "model_name": "LayoutModel",
     "state": {
      "_model_module": "@jupyter-widgets/base",
      "_model_module_version": "1.2.0",
      "_model_name": "LayoutModel",
      "_view_count": null,
      "_view_module": "@jupyter-widgets/base",
      "_view_module_version": "1.2.0",
      "_view_name": "LayoutView",
      "align_content": null,
      "align_items": null,
      "align_self": null,
      "border": null,
      "bottom": null,
      "display": null,
      "flex": null,
      "flex_flow": null,
      "grid_area": null,
      "grid_auto_columns": null,
      "grid_auto_flow": null,
      "grid_auto_rows": null,
      "grid_column": null,
      "grid_gap": null,
      "grid_row": null,
      "grid_template_areas": null,
      "grid_template_columns": null,
      "grid_template_rows": null,
      "height": null,
      "justify_content": null,
      "justify_items": null,
      "left": null,
      "margin": null,
      "max_height": null,
      "max_width": null,
      "min_height": null,
      "min_width": null,
      "object_fit": null,
      "object_position": null,
      "order": null,
      "overflow": null,
      "overflow_x": null,
      "overflow_y": null,
      "padding": null,
      "right": null,
      "top": null,
      "visibility": null,
      "width": null
     }
    },
    "4e394e72017442e989642afdc2b8abcb": {
     "model_module": "@jupyter-widgets/base",
     "model_name": "LayoutModel",
     "state": {
      "_model_module": "@jupyter-widgets/base",
      "_model_module_version": "1.2.0",
      "_model_name": "LayoutModel",
      "_view_count": null,
      "_view_module": "@jupyter-widgets/base",
      "_view_module_version": "1.2.0",
      "_view_name": "LayoutView",
      "align_content": null,
      "align_items": null,
      "align_self": null,
      "border": null,
      "bottom": null,
      "display": null,
      "flex": null,
      "flex_flow": null,
      "grid_area": null,
      "grid_auto_columns": null,
      "grid_auto_flow": null,
      "grid_auto_rows": null,
      "grid_column": null,
      "grid_gap": null,
      "grid_row": null,
      "grid_template_areas": null,
      "grid_template_columns": null,
      "grid_template_rows": null,
      "height": null,
      "justify_content": null,
      "justify_items": null,
      "left": null,
      "margin": null,
      "max_height": null,
      "max_width": null,
      "min_height": null,
      "min_width": null,
      "object_fit": null,
      "object_position": null,
      "order": null,
      "overflow": null,
      "overflow_x": null,
      "overflow_y": null,
      "padding": null,
      "right": null,
      "top": null,
      "visibility": null,
      "width": null
     }
    },
    "501fe7de2d29471c9ad3580ba42b274d": {
     "model_module": "@jupyter-widgets/base",
     "model_name": "LayoutModel",
     "state": {
      "_model_module": "@jupyter-widgets/base",
      "_model_module_version": "1.2.0",
      "_model_name": "LayoutModel",
      "_view_count": null,
      "_view_module": "@jupyter-widgets/base",
      "_view_module_version": "1.2.0",
      "_view_name": "LayoutView",
      "align_content": null,
      "align_items": null,
      "align_self": null,
      "border": null,
      "bottom": null,
      "display": null,
      "flex": null,
      "flex_flow": null,
      "grid_area": null,
      "grid_auto_columns": null,
      "grid_auto_flow": null,
      "grid_auto_rows": null,
      "grid_column": null,
      "grid_gap": null,
      "grid_row": null,
      "grid_template_areas": null,
      "grid_template_columns": null,
      "grid_template_rows": null,
      "height": null,
      "justify_content": null,
      "justify_items": null,
      "left": null,
      "margin": null,
      "max_height": null,
      "max_width": null,
      "min_height": null,
      "min_width": null,
      "object_fit": null,
      "object_position": null,
      "order": null,
      "overflow": null,
      "overflow_x": null,
      "overflow_y": null,
      "padding": null,
      "right": null,
      "top": null,
      "visibility": null,
      "width": null
     }
    },
    "53c9e46489fc4d708c7fe856173f3b12": {
     "model_module": "@jupyter-widgets/controls",
     "model_name": "HBoxModel",
     "state": {
      "_dom_classes": [],
      "_model_module": "@jupyter-widgets/controls",
      "_model_module_version": "1.5.0",
      "_model_name": "HBoxModel",
      "_view_count": null,
      "_view_module": "@jupyter-widgets/controls",
      "_view_module_version": "1.5.0",
      "_view_name": "HBoxView",
      "box_style": "",
      "children": [
       "IPY_MODEL_0cdd1f83587643f68b9cc4659ba75fb8",
       "IPY_MODEL_2732c77700724db3beb39d1c64469852"
      ],
      "layout": "IPY_MODEL_27afa2d568d6441690a6d0ee44e40e1c"
     }
    },
    "5605c8c2ad12431b88e1404953ecd6b9": {
     "model_module": "@jupyter-widgets/controls",
     "model_name": "ProgressStyleModel",
     "state": {
      "_model_module": "@jupyter-widgets/controls",
      "_model_module_version": "1.5.0",
      "_model_name": "ProgressStyleModel",
      "_view_count": null,
      "_view_module": "@jupyter-widgets/base",
      "_view_module_version": "1.2.0",
      "_view_name": "StyleView",
      "bar_color": null,
      "description_width": "initial"
     }
    },
    "58d8bd8caffa47788931111cd5d05409": {
     "model_module": "@jupyter-widgets/controls",
     "model_name": "DescriptionStyleModel",
     "state": {
      "_model_module": "@jupyter-widgets/controls",
      "_model_module_version": "1.5.0",
      "_model_name": "DescriptionStyleModel",
      "_view_count": null,
      "_view_module": "@jupyter-widgets/base",
      "_view_module_version": "1.2.0",
      "_view_name": "StyleView",
      "description_width": ""
     }
    },
    "58fa30020dc14801a78967796be9df3e": {
     "model_module": "@jupyter-widgets/controls",
     "model_name": "FloatProgressModel",
     "state": {
      "_dom_classes": [],
      "_model_module": "@jupyter-widgets/controls",
      "_model_module_version": "1.5.0",
      "_model_name": "FloatProgressModel",
      "_view_count": null,
      "_view_module": "@jupyter-widgets/controls",
      "_view_module_version": "1.5.0",
      "_view_name": "ProgressView",
      "bar_style": "success",
      "description": "",
      "description_tooltip": null,
      "layout": "IPY_MODEL_501fe7de2d29471c9ad3580ba42b274d",
      "max": 1,
      "min": 0,
      "orientation": "horizontal",
      "style": "IPY_MODEL_89f6bfd52126419ab7c6b6ba00894c24",
      "value": 1
     }
    },
    "598b0d3d4ba64ed48d511ce9dd360f64": {
     "model_module": "@jupyter-widgets/controls",
     "model_name": "ProgressStyleModel",
     "state": {
      "_model_module": "@jupyter-widgets/controls",
      "_model_module_version": "1.5.0",
      "_model_name": "ProgressStyleModel",
      "_view_count": null,
      "_view_module": "@jupyter-widgets/base",
      "_view_module_version": "1.2.0",
      "_view_name": "StyleView",
      "bar_color": null,
      "description_width": "initial"
     }
    },
    "6005029df2504711a96df12e14290100": {
     "model_module": "@jupyter-widgets/base",
     "model_name": "LayoutModel",
     "state": {
      "_model_module": "@jupyter-widgets/base",
      "_model_module_version": "1.2.0",
      "_model_name": "LayoutModel",
      "_view_count": null,
      "_view_module": "@jupyter-widgets/base",
      "_view_module_version": "1.2.0",
      "_view_name": "LayoutView",
      "align_content": null,
      "align_items": null,
      "align_self": null,
      "border": null,
      "bottom": null,
      "display": null,
      "flex": null,
      "flex_flow": null,
      "grid_area": null,
      "grid_auto_columns": null,
      "grid_auto_flow": null,
      "grid_auto_rows": null,
      "grid_column": null,
      "grid_gap": null,
      "grid_row": null,
      "grid_template_areas": null,
      "grid_template_columns": null,
      "grid_template_rows": null,
      "height": null,
      "justify_content": null,
      "justify_items": null,
      "left": null,
      "margin": null,
      "max_height": null,
      "max_width": null,
      "min_height": null,
      "min_width": null,
      "object_fit": null,
      "object_position": null,
      "order": null,
      "overflow": null,
      "overflow_x": null,
      "overflow_y": null,
      "padding": null,
      "right": null,
      "top": null,
      "visibility": null,
      "width": null
     }
    },
    "61a4358811654212bd669c1c6c40b4cd": {
     "model_module": "@jupyter-widgets/controls",
     "model_name": "FloatProgressModel",
     "state": {
      "_dom_classes": [],
      "_model_module": "@jupyter-widgets/controls",
      "_model_module_version": "1.5.0",
      "_model_name": "FloatProgressModel",
      "_view_count": null,
      "_view_module": "@jupyter-widgets/controls",
      "_view_module_version": "1.5.0",
      "_view_name": "ProgressView",
      "bar_style": "success",
      "description": "",
      "description_tooltip": null,
      "layout": "IPY_MODEL_2df67220b98547639c10a80ceb63b1ef",
      "max": 1,
      "min": 0,
      "orientation": "horizontal",
      "style": "IPY_MODEL_7b8fca08cafe4f7e9ad9f519bb005fd1",
      "value": 1
     }
    },
    "63ff13ee95f64beea555e0660be15eec": {
     "model_module": "@jupyter-widgets/controls",
     "model_name": "DescriptionStyleModel",
     "state": {
      "_model_module": "@jupyter-widgets/controls",
      "_model_module_version": "1.5.0",
      "_model_name": "DescriptionStyleModel",
      "_view_count": null,
      "_view_module": "@jupyter-widgets/base",
      "_view_module_version": "1.2.0",
      "_view_name": "StyleView",
      "description_width": ""
     }
    },
    "6736870c4aa94b20adeed80a00507dce": {
     "model_module": "@jupyter-widgets/controls",
     "model_name": "ProgressStyleModel",
     "state": {
      "_model_module": "@jupyter-widgets/controls",
      "_model_module_version": "1.5.0",
      "_model_name": "ProgressStyleModel",
      "_view_count": null,
      "_view_module": "@jupyter-widgets/base",
      "_view_module_version": "1.2.0",
      "_view_name": "StyleView",
      "bar_color": null,
      "description_width": "initial"
     }
    },
    "68ba61411c5d4097883b053f06493415": {
     "model_module": "@jupyter-widgets/controls",
     "model_name": "ProgressStyleModel",
     "state": {
      "_model_module": "@jupyter-widgets/controls",
      "_model_module_version": "1.5.0",
      "_model_name": "ProgressStyleModel",
      "_view_count": null,
      "_view_module": "@jupyter-widgets/base",
      "_view_module_version": "1.2.0",
      "_view_name": "StyleView",
      "bar_color": null,
      "description_width": "initial"
     }
    },
    "6e1089fcff4a4ad19de6fc9dfb87c171": {
     "model_module": "@jupyter-widgets/controls",
     "model_name": "FloatProgressModel",
     "state": {
      "_dom_classes": [],
      "_model_module": "@jupyter-widgets/controls",
      "_model_module_version": "1.5.0",
      "_model_name": "FloatProgressModel",
      "_view_count": null,
      "_view_module": "@jupyter-widgets/controls",
      "_view_module_version": "1.5.0",
      "_view_name": "ProgressView",
      "bar_style": "success",
      "description": "",
      "description_tooltip": null,
      "layout": "IPY_MODEL_0551f8a91cb547948703416f5c200c93",
      "max": 1,
      "min": 0,
      "orientation": "horizontal",
      "style": "IPY_MODEL_2f28dc0b45cc4b30acb85fecdc128397",
      "value": 1
     }
    },
    "7475bb3748de434eae59ef85715514da": {
     "model_module": "@jupyter-widgets/base",
     "model_name": "LayoutModel",
     "state": {
      "_model_module": "@jupyter-widgets/base",
      "_model_module_version": "1.2.0",
      "_model_name": "LayoutModel",
      "_view_count": null,
      "_view_module": "@jupyter-widgets/base",
      "_view_module_version": "1.2.0",
      "_view_name": "LayoutView",
      "align_content": null,
      "align_items": null,
      "align_self": null,
      "border": null,
      "bottom": null,
      "display": null,
      "flex": null,
      "flex_flow": null,
      "grid_area": null,
      "grid_auto_columns": null,
      "grid_auto_flow": null,
      "grid_auto_rows": null,
      "grid_column": null,
      "grid_gap": null,
      "grid_row": null,
      "grid_template_areas": null,
      "grid_template_columns": null,
      "grid_template_rows": null,
      "height": null,
      "justify_content": null,
      "justify_items": null,
      "left": null,
      "margin": null,
      "max_height": null,
      "max_width": null,
      "min_height": null,
      "min_width": null,
      "object_fit": null,
      "object_position": null,
      "order": null,
      "overflow": null,
      "overflow_x": null,
      "overflow_y": null,
      "padding": null,
      "right": null,
      "top": null,
      "visibility": null,
      "width": null
     }
    },
    "75b200a4d1cb4f1cab2204139ac8fff5": {
     "model_module": "@jupyter-widgets/base",
     "model_name": "LayoutModel",
     "state": {
      "_model_module": "@jupyter-widgets/base",
      "_model_module_version": "1.2.0",
      "_model_name": "LayoutModel",
      "_view_count": null,
      "_view_module": "@jupyter-widgets/base",
      "_view_module_version": "1.2.0",
      "_view_name": "LayoutView",
      "align_content": null,
      "align_items": null,
      "align_self": null,
      "border": null,
      "bottom": null,
      "display": null,
      "flex": null,
      "flex_flow": null,
      "grid_area": null,
      "grid_auto_columns": null,
      "grid_auto_flow": null,
      "grid_auto_rows": null,
      "grid_column": null,
      "grid_gap": null,
      "grid_row": null,
      "grid_template_areas": null,
      "grid_template_columns": null,
      "grid_template_rows": null,
      "height": null,
      "justify_content": null,
      "justify_items": null,
      "left": null,
      "margin": null,
      "max_height": null,
      "max_width": null,
      "min_height": null,
      "min_width": null,
      "object_fit": null,
      "object_position": null,
      "order": null,
      "overflow": null,
      "overflow_x": null,
      "overflow_y": null,
      "padding": null,
      "right": null,
      "top": null,
      "visibility": null,
      "width": null
     }
    },
    "761c5839d34445bbb39d713b2b1e1c7c": {
     "model_module": "@jupyter-widgets/base",
     "model_name": "LayoutModel",
     "state": {
      "_model_module": "@jupyter-widgets/base",
      "_model_module_version": "1.2.0",
      "_model_name": "LayoutModel",
      "_view_count": null,
      "_view_module": "@jupyter-widgets/base",
      "_view_module_version": "1.2.0",
      "_view_name": "LayoutView",
      "align_content": null,
      "align_items": null,
      "align_self": null,
      "border": null,
      "bottom": null,
      "display": null,
      "flex": null,
      "flex_flow": null,
      "grid_area": null,
      "grid_auto_columns": null,
      "grid_auto_flow": null,
      "grid_auto_rows": null,
      "grid_column": null,
      "grid_gap": null,
      "grid_row": null,
      "grid_template_areas": null,
      "grid_template_columns": null,
      "grid_template_rows": null,
      "height": null,
      "justify_content": null,
      "justify_items": null,
      "left": null,
      "margin": null,
      "max_height": null,
      "max_width": null,
      "min_height": null,
      "min_width": null,
      "object_fit": null,
      "object_position": null,
      "order": null,
      "overflow": null,
      "overflow_x": null,
      "overflow_y": null,
      "padding": null,
      "right": null,
      "top": null,
      "visibility": null,
      "width": null
     }
    },
    "7a0883324f8b4256adf0e8a54c77524f": {
     "model_module": "@jupyter-widgets/base",
     "model_name": "LayoutModel",
     "state": {
      "_model_module": "@jupyter-widgets/base",
      "_model_module_version": "1.2.0",
      "_model_name": "LayoutModel",
      "_view_count": null,
      "_view_module": "@jupyter-widgets/base",
      "_view_module_version": "1.2.0",
      "_view_name": "LayoutView",
      "align_content": null,
      "align_items": null,
      "align_self": null,
      "border": null,
      "bottom": null,
      "display": null,
      "flex": null,
      "flex_flow": null,
      "grid_area": null,
      "grid_auto_columns": null,
      "grid_auto_flow": null,
      "grid_auto_rows": null,
      "grid_column": null,
      "grid_gap": null,
      "grid_row": null,
      "grid_template_areas": null,
      "grid_template_columns": null,
      "grid_template_rows": null,
      "height": null,
      "justify_content": null,
      "justify_items": null,
      "left": null,
      "margin": null,
      "max_height": null,
      "max_width": null,
      "min_height": null,
      "min_width": null,
      "object_fit": null,
      "object_position": null,
      "order": null,
      "overflow": null,
      "overflow_x": null,
      "overflow_y": null,
      "padding": null,
      "right": null,
      "top": null,
      "visibility": null,
      "width": null
     }
    },
    "7a407d5347104eaa9ce6ec36250715d3": {
     "model_module": "@jupyter-widgets/controls",
     "model_name": "ProgressStyleModel",
     "state": {
      "_model_module": "@jupyter-widgets/controls",
      "_model_module_version": "1.5.0",
      "_model_name": "ProgressStyleModel",
      "_view_count": null,
      "_view_module": "@jupyter-widgets/base",
      "_view_module_version": "1.2.0",
      "_view_name": "StyleView",
      "bar_color": null,
      "description_width": "initial"
     }
    },
    "7b8fca08cafe4f7e9ad9f519bb005fd1": {
     "model_module": "@jupyter-widgets/controls",
     "model_name": "ProgressStyleModel",
     "state": {
      "_model_module": "@jupyter-widgets/controls",
      "_model_module_version": "1.5.0",
      "_model_name": "ProgressStyleModel",
      "_view_count": null,
      "_view_module": "@jupyter-widgets/base",
      "_view_module_version": "1.2.0",
      "_view_name": "StyleView",
      "bar_color": null,
      "description_width": "initial"
     }
    },
    "7bfefa6286fa41d4b67e27f0908758e7": {
     "model_module": "@jupyter-widgets/controls",
     "model_name": "DescriptionStyleModel",
     "state": {
      "_model_module": "@jupyter-widgets/controls",
      "_model_module_version": "1.5.0",
      "_model_name": "DescriptionStyleModel",
      "_view_count": null,
      "_view_module": "@jupyter-widgets/base",
      "_view_module_version": "1.2.0",
      "_view_name": "StyleView",
      "description_width": ""
     }
    },
    "8365405f8a1c4d178b5ab5cd9d905e32": {
     "model_module": "@jupyter-widgets/controls",
     "model_name": "ProgressStyleModel",
     "state": {
      "_model_module": "@jupyter-widgets/controls",
      "_model_module_version": "1.5.0",
      "_model_name": "ProgressStyleModel",
      "_view_count": null,
      "_view_module": "@jupyter-widgets/base",
      "_view_module_version": "1.2.0",
      "_view_name": "StyleView",
      "bar_color": null,
      "description_width": "initial"
     }
    },
    "838fc6b6bb704fd897d9145830d7bb9f": {
     "model_module": "@jupyter-widgets/base",
     "model_name": "LayoutModel",
     "state": {
      "_model_module": "@jupyter-widgets/base",
      "_model_module_version": "1.2.0",
      "_model_name": "LayoutModel",
      "_view_count": null,
      "_view_module": "@jupyter-widgets/base",
      "_view_module_version": "1.2.0",
      "_view_name": "LayoutView",
      "align_content": null,
      "align_items": null,
      "align_self": null,
      "border": null,
      "bottom": null,
      "display": null,
      "flex": null,
      "flex_flow": null,
      "grid_area": null,
      "grid_auto_columns": null,
      "grid_auto_flow": null,
      "grid_auto_rows": null,
      "grid_column": null,
      "grid_gap": null,
      "grid_row": null,
      "grid_template_areas": null,
      "grid_template_columns": null,
      "grid_template_rows": null,
      "height": null,
      "justify_content": null,
      "justify_items": null,
      "left": null,
      "margin": null,
      "max_height": null,
      "max_width": null,
      "min_height": null,
      "min_width": null,
      "object_fit": null,
      "object_position": null,
      "order": null,
      "overflow": null,
      "overflow_x": null,
      "overflow_y": null,
      "padding": null,
      "right": null,
      "top": null,
      "visibility": null,
      "width": null
     }
    },
    "8503f63352114056ace6ee5662d746da": {
     "model_module": "@jupyter-widgets/controls",
     "model_name": "ProgressStyleModel",
     "state": {
      "_model_module": "@jupyter-widgets/controls",
      "_model_module_version": "1.5.0",
      "_model_name": "ProgressStyleModel",
      "_view_count": null,
      "_view_module": "@jupyter-widgets/base",
      "_view_module_version": "1.2.0",
      "_view_name": "StyleView",
      "bar_color": null,
      "description_width": "initial"
     }
    },
    "864cb033af344f22b288a320088ec71c": {
     "model_module": "@jupyter-widgets/base",
     "model_name": "LayoutModel",
     "state": {
      "_model_module": "@jupyter-widgets/base",
      "_model_module_version": "1.2.0",
      "_model_name": "LayoutModel",
      "_view_count": null,
      "_view_module": "@jupyter-widgets/base",
      "_view_module_version": "1.2.0",
      "_view_name": "LayoutView",
      "align_content": null,
      "align_items": null,
      "align_self": null,
      "border": null,
      "bottom": null,
      "display": null,
      "flex": null,
      "flex_flow": null,
      "grid_area": null,
      "grid_auto_columns": null,
      "grid_auto_flow": null,
      "grid_auto_rows": null,
      "grid_column": null,
      "grid_gap": null,
      "grid_row": null,
      "grid_template_areas": null,
      "grid_template_columns": null,
      "grid_template_rows": null,
      "height": null,
      "justify_content": null,
      "justify_items": null,
      "left": null,
      "margin": null,
      "max_height": null,
      "max_width": null,
      "min_height": null,
      "min_width": null,
      "object_fit": null,
      "object_position": null,
      "order": null,
      "overflow": null,
      "overflow_x": null,
      "overflow_y": null,
      "padding": null,
      "right": null,
      "top": null,
      "visibility": null,
      "width": null
     }
    },
    "87a5e794f5ff408ebbf2a740a7560adb": {
     "model_module": "@jupyter-widgets/controls",
     "model_name": "DescriptionStyleModel",
     "state": {
      "_model_module": "@jupyter-widgets/controls",
      "_model_module_version": "1.5.0",
      "_model_name": "DescriptionStyleModel",
      "_view_count": null,
      "_view_module": "@jupyter-widgets/base",
      "_view_module_version": "1.2.0",
      "_view_name": "StyleView",
      "description_width": ""
     }
    },
    "888804a45395411cb9db622b0e6878cb": {
     "model_module": "@jupyter-widgets/base",
     "model_name": "LayoutModel",
     "state": {
      "_model_module": "@jupyter-widgets/base",
      "_model_module_version": "1.2.0",
      "_model_name": "LayoutModel",
      "_view_count": null,
      "_view_module": "@jupyter-widgets/base",
      "_view_module_version": "1.2.0",
      "_view_name": "LayoutView",
      "align_content": null,
      "align_items": null,
      "align_self": null,
      "border": null,
      "bottom": null,
      "display": null,
      "flex": null,
      "flex_flow": null,
      "grid_area": null,
      "grid_auto_columns": null,
      "grid_auto_flow": null,
      "grid_auto_rows": null,
      "grid_column": null,
      "grid_gap": null,
      "grid_row": null,
      "grid_template_areas": null,
      "grid_template_columns": null,
      "grid_template_rows": null,
      "height": null,
      "justify_content": null,
      "justify_items": null,
      "left": null,
      "margin": null,
      "max_height": null,
      "max_width": null,
      "min_height": null,
      "min_width": null,
      "object_fit": null,
      "object_position": null,
      "order": null,
      "overflow": null,
      "overflow_x": null,
      "overflow_y": null,
      "padding": null,
      "right": null,
      "top": null,
      "visibility": null,
      "width": null
     }
    },
    "89f6bfd52126419ab7c6b6ba00894c24": {
     "model_module": "@jupyter-widgets/controls",
     "model_name": "ProgressStyleModel",
     "state": {
      "_model_module": "@jupyter-widgets/controls",
      "_model_module_version": "1.5.0",
      "_model_name": "ProgressStyleModel",
      "_view_count": null,
      "_view_module": "@jupyter-widgets/base",
      "_view_module_version": "1.2.0",
      "_view_name": "StyleView",
      "bar_color": null,
      "description_width": "initial"
     }
    },
    "8b0a112033ab4a3a9a970c6eaaec5531": {
     "model_module": "@jupyter-widgets/controls",
     "model_name": "HBoxModel",
     "state": {
      "_dom_classes": [],
      "_model_module": "@jupyter-widgets/controls",
      "_model_module_version": "1.5.0",
      "_model_name": "HBoxModel",
      "_view_count": null,
      "_view_module": "@jupyter-widgets/controls",
      "_view_module_version": "1.5.0",
      "_view_name": "HBoxView",
      "box_style": "",
      "children": [
       "IPY_MODEL_8ef3688940ae4ff4840fc3ca4c231125",
       "IPY_MODEL_f7dd810e69fa4f1f91acaec17fb8c64a"
      ],
      "layout": "IPY_MODEL_9acb641a7ede4dd6b68097dbff290ce1"
     }
    },
    "8b5212a3ed9f49aea201644e1ed1ac53": {
     "model_module": "@jupyter-widgets/controls",
     "model_name": "FloatProgressModel",
     "state": {
      "_dom_classes": [],
      "_model_module": "@jupyter-widgets/controls",
      "_model_module_version": "1.5.0",
      "_model_name": "FloatProgressModel",
      "_view_count": null,
      "_view_module": "@jupyter-widgets/controls",
      "_view_module_version": "1.5.0",
      "_view_name": "ProgressView",
      "bar_style": "success",
      "description": "",
      "description_tooltip": null,
      "layout": "IPY_MODEL_4e394e72017442e989642afdc2b8abcb",
      "max": 1,
      "min": 0,
      "orientation": "horizontal",
      "style": "IPY_MODEL_e7ccb000bd83423fb4693a908c638ddb",
      "value": 1
     }
    },
    "8ef3688940ae4ff4840fc3ca4c231125": {
     "model_module": "@jupyter-widgets/controls",
     "model_name": "FloatProgressModel",
     "state": {
      "_dom_classes": [],
      "_model_module": "@jupyter-widgets/controls",
      "_model_module_version": "1.5.0",
      "_model_name": "FloatProgressModel",
      "_view_count": null,
      "_view_module": "@jupyter-widgets/controls",
      "_view_module_version": "1.5.0",
      "_view_name": "ProgressView",
      "bar_style": "success",
      "description": "",
      "description_tooltip": null,
      "layout": "IPY_MODEL_838fc6b6bb704fd897d9145830d7bb9f",
      "max": 1,
      "min": 0,
      "orientation": "horizontal",
      "style": "IPY_MODEL_68ba61411c5d4097883b053f06493415",
      "value": 1
     }
    },
    "906c310a405b4822a19d206cf3467f9b": {
     "model_module": "@jupyter-widgets/controls",
     "model_name": "HBoxModel",
     "state": {
      "_dom_classes": [],
      "_model_module": "@jupyter-widgets/controls",
      "_model_module_version": "1.5.0",
      "_model_name": "HBoxModel",
      "_view_count": null,
      "_view_module": "@jupyter-widgets/controls",
      "_view_module_version": "1.5.0",
      "_view_name": "HBoxView",
      "box_style": "",
      "children": [
       "IPY_MODEL_61a4358811654212bd669c1c6c40b4cd",
       "IPY_MODEL_917a8ab6a55b4cd382b1cd1982d5a227"
      ],
      "layout": "IPY_MODEL_75b200a4d1cb4f1cab2204139ac8fff5"
     }
    },
    "90937a3fdc314010948a13e9e2c70e40": {
     "model_module": "@jupyter-widgets/controls",
     "model_name": "HTMLModel",
     "state": {
      "_dom_classes": [],
      "_model_module": "@jupyter-widgets/controls",
      "_model_module_version": "1.5.0",
      "_model_name": "HTMLModel",
      "_view_count": null,
      "_view_module": "@jupyter-widgets/controls",
      "_view_module_version": "1.5.0",
      "_view_name": "HTMLView",
      "description": "",
      "description_tooltip": null,
      "layout": "IPY_MODEL_2004cd6b66034fdda39e09c4ea44b3ce",
      "placeholder": "​",
      "style": "IPY_MODEL_a56cd84f576841259aace5b34b0efda7",
      "value": " 150/? [14:16&lt;00:00,  5.71s/it]"
     }
    },
    "90f39af76e9846b18c45633dce765584": {
     "model_module": "@jupyter-widgets/controls",
     "model_name": "HBoxModel",
     "state": {
      "_dom_classes": [],
      "_model_module": "@jupyter-widgets/controls",
      "_model_module_version": "1.5.0",
      "_model_name": "HBoxModel",
      "_view_count": null,
      "_view_module": "@jupyter-widgets/controls",
      "_view_module_version": "1.5.0",
      "_view_name": "HBoxView",
      "box_style": "",
      "children": [
       "IPY_MODEL_d2a4e7e937804562a63d0191223c0dd0",
       "IPY_MODEL_02d1d8ffcf3a4873880bb4ec2b7eefbf"
      ],
      "layout": "IPY_MODEL_4a42cbf2455346818c8fb92da5665bca"
     }
    },
    "917a8ab6a55b4cd382b1cd1982d5a227": {
     "model_module": "@jupyter-widgets/controls",
     "model_name": "HTMLModel",
     "state": {
      "_dom_classes": [],
      "_model_module": "@jupyter-widgets/controls",
      "_model_module_version": "1.5.0",
      "_model_name": "HTMLModel",
      "_view_count": null,
      "_view_module": "@jupyter-widgets/controls",
      "_view_module_version": "1.5.0",
      "_view_name": "HTMLView",
      "description": "",
      "description_tooltip": null,
      "layout": "IPY_MODEL_4778d193b45a4e2ca8871f19b195a26b",
      "placeholder": "​",
      "style": "IPY_MODEL_58d8bd8caffa47788931111cd5d05409",
      "value": " 150/? [01:08&lt;00:00,  2.18it/s]"
     }
    },
    "940db33506ef463788996553c4bf5f74": {
     "model_module": "@jupyter-widgets/base",
     "model_name": "LayoutModel",
     "state": {
      "_model_module": "@jupyter-widgets/base",
      "_model_module_version": "1.2.0",
      "_model_name": "LayoutModel",
      "_view_count": null,
      "_view_module": "@jupyter-widgets/base",
      "_view_module_version": "1.2.0",
      "_view_name": "LayoutView",
      "align_content": null,
      "align_items": null,
      "align_self": null,
      "border": null,
      "bottom": null,
      "display": null,
      "flex": null,
      "flex_flow": null,
      "grid_area": null,
      "grid_auto_columns": null,
      "grid_auto_flow": null,
      "grid_auto_rows": null,
      "grid_column": null,
      "grid_gap": null,
      "grid_row": null,
      "grid_template_areas": null,
      "grid_template_columns": null,
      "grid_template_rows": null,
      "height": null,
      "justify_content": null,
      "justify_items": null,
      "left": null,
      "margin": null,
      "max_height": null,
      "max_width": null,
      "min_height": null,
      "min_width": null,
      "object_fit": null,
      "object_position": null,
      "order": null,
      "overflow": null,
      "overflow_x": null,
      "overflow_y": null,
      "padding": null,
      "right": null,
      "top": null,
      "visibility": null,
      "width": null
     }
    },
    "9459d0d307814c34aa8a31945a82adb7": {
     "model_module": "@jupyter-widgets/base",
     "model_name": "LayoutModel",
     "state": {
      "_model_module": "@jupyter-widgets/base",
      "_model_module_version": "1.2.0",
      "_model_name": "LayoutModel",
      "_view_count": null,
      "_view_module": "@jupyter-widgets/base",
      "_view_module_version": "1.2.0",
      "_view_name": "LayoutView",
      "align_content": null,
      "align_items": null,
      "align_self": null,
      "border": null,
      "bottom": null,
      "display": null,
      "flex": null,
      "flex_flow": null,
      "grid_area": null,
      "grid_auto_columns": null,
      "grid_auto_flow": null,
      "grid_auto_rows": null,
      "grid_column": null,
      "grid_gap": null,
      "grid_row": null,
      "grid_template_areas": null,
      "grid_template_columns": null,
      "grid_template_rows": null,
      "height": null,
      "justify_content": null,
      "justify_items": null,
      "left": null,
      "margin": null,
      "max_height": null,
      "max_width": null,
      "min_height": null,
      "min_width": null,
      "object_fit": null,
      "object_position": null,
      "order": null,
      "overflow": null,
      "overflow_x": null,
      "overflow_y": null,
      "padding": null,
      "right": null,
      "top": null,
      "visibility": null,
      "width": null
     }
    },
    "9712936912b84e498783132d111037bf": {
     "model_module": "@jupyter-widgets/controls",
     "model_name": "HTMLModel",
     "state": {
      "_dom_classes": [],
      "_model_module": "@jupyter-widgets/controls",
      "_model_module_version": "1.5.0",
      "_model_name": "HTMLModel",
      "_view_count": null,
      "_view_module": "@jupyter-widgets/controls",
      "_view_module_version": "1.5.0",
      "_view_name": "HTMLView",
      "description": "",
      "description_tooltip": null,
      "layout": "IPY_MODEL_e595378941654a4dbe560a646dc52272",
      "placeholder": "​",
      "style": "IPY_MODEL_9e0d68b268384372ae1ec48b6c363b3a",
      "value": " 150/? [1:39:19&lt;00:00, 39.73s/it]"
     }
    },
    "992143ed056d4a23afff16b83c514432": {
     "model_module": "@jupyter-widgets/base",
     "model_name": "LayoutModel",
     "state": {
      "_model_module": "@jupyter-widgets/base",
      "_model_module_version": "1.2.0",
      "_model_name": "LayoutModel",
      "_view_count": null,
      "_view_module": "@jupyter-widgets/base",
      "_view_module_version": "1.2.0",
      "_view_name": "LayoutView",
      "align_content": null,
      "align_items": null,
      "align_self": null,
      "border": null,
      "bottom": null,
      "display": null,
      "flex": null,
      "flex_flow": null,
      "grid_area": null,
      "grid_auto_columns": null,
      "grid_auto_flow": null,
      "grid_auto_rows": null,
      "grid_column": null,
      "grid_gap": null,
      "grid_row": null,
      "grid_template_areas": null,
      "grid_template_columns": null,
      "grid_template_rows": null,
      "height": null,
      "justify_content": null,
      "justify_items": null,
      "left": null,
      "margin": null,
      "max_height": null,
      "max_width": null,
      "min_height": null,
      "min_width": null,
      "object_fit": null,
      "object_position": null,
      "order": null,
      "overflow": null,
      "overflow_x": null,
      "overflow_y": null,
      "padding": null,
      "right": null,
      "top": null,
      "visibility": null,
      "width": null
     }
    },
    "99791d40ec534ebc9a7f4b01767f9aad": {
     "model_module": "@jupyter-widgets/base",
     "model_name": "LayoutModel",
     "state": {
      "_model_module": "@jupyter-widgets/base",
      "_model_module_version": "1.2.0",
      "_model_name": "LayoutModel",
      "_view_count": null,
      "_view_module": "@jupyter-widgets/base",
      "_view_module_version": "1.2.0",
      "_view_name": "LayoutView",
      "align_content": null,
      "align_items": null,
      "align_self": null,
      "border": null,
      "bottom": null,
      "display": null,
      "flex": null,
      "flex_flow": null,
      "grid_area": null,
      "grid_auto_columns": null,
      "grid_auto_flow": null,
      "grid_auto_rows": null,
      "grid_column": null,
      "grid_gap": null,
      "grid_row": null,
      "grid_template_areas": null,
      "grid_template_columns": null,
      "grid_template_rows": null,
      "height": null,
      "justify_content": null,
      "justify_items": null,
      "left": null,
      "margin": null,
      "max_height": null,
      "max_width": null,
      "min_height": null,
      "min_width": null,
      "object_fit": null,
      "object_position": null,
      "order": null,
      "overflow": null,
      "overflow_x": null,
      "overflow_y": null,
      "padding": null,
      "right": null,
      "top": null,
      "visibility": null,
      "width": null
     }
    },
    "9a9728af9dcb4e67a1a006297cd7b74c": {
     "model_module": "@jupyter-widgets/base",
     "model_name": "LayoutModel",
     "state": {
      "_model_module": "@jupyter-widgets/base",
      "_model_module_version": "1.2.0",
      "_model_name": "LayoutModel",
      "_view_count": null,
      "_view_module": "@jupyter-widgets/base",
      "_view_module_version": "1.2.0",
      "_view_name": "LayoutView",
      "align_content": null,
      "align_items": null,
      "align_self": null,
      "border": null,
      "bottom": null,
      "display": null,
      "flex": null,
      "flex_flow": null,
      "grid_area": null,
      "grid_auto_columns": null,
      "grid_auto_flow": null,
      "grid_auto_rows": null,
      "grid_column": null,
      "grid_gap": null,
      "grid_row": null,
      "grid_template_areas": null,
      "grid_template_columns": null,
      "grid_template_rows": null,
      "height": null,
      "justify_content": null,
      "justify_items": null,
      "left": null,
      "margin": null,
      "max_height": null,
      "max_width": null,
      "min_height": null,
      "min_width": null,
      "object_fit": null,
      "object_position": null,
      "order": null,
      "overflow": null,
      "overflow_x": null,
      "overflow_y": null,
      "padding": null,
      "right": null,
      "top": null,
      "visibility": null,
      "width": null
     }
    },
    "9acb641a7ede4dd6b68097dbff290ce1": {
     "model_module": "@jupyter-widgets/base",
     "model_name": "LayoutModel",
     "state": {
      "_model_module": "@jupyter-widgets/base",
      "_model_module_version": "1.2.0",
      "_model_name": "LayoutModel",
      "_view_count": null,
      "_view_module": "@jupyter-widgets/base",
      "_view_module_version": "1.2.0",
      "_view_name": "LayoutView",
      "align_content": null,
      "align_items": null,
      "align_self": null,
      "border": null,
      "bottom": null,
      "display": null,
      "flex": null,
      "flex_flow": null,
      "grid_area": null,
      "grid_auto_columns": null,
      "grid_auto_flow": null,
      "grid_auto_rows": null,
      "grid_column": null,
      "grid_gap": null,
      "grid_row": null,
      "grid_template_areas": null,
      "grid_template_columns": null,
      "grid_template_rows": null,
      "height": null,
      "justify_content": null,
      "justify_items": null,
      "left": null,
      "margin": null,
      "max_height": null,
      "max_width": null,
      "min_height": null,
      "min_width": null,
      "object_fit": null,
      "object_position": null,
      "order": null,
      "overflow": null,
      "overflow_x": null,
      "overflow_y": null,
      "padding": null,
      "right": null,
      "top": null,
      "visibility": null,
      "width": null
     }
    },
    "9d3ae70779e447d0aa495a9872209d38": {
     "model_module": "@jupyter-widgets/base",
     "model_name": "LayoutModel",
     "state": {
      "_model_module": "@jupyter-widgets/base",
      "_model_module_version": "1.2.0",
      "_model_name": "LayoutModel",
      "_view_count": null,
      "_view_module": "@jupyter-widgets/base",
      "_view_module_version": "1.2.0",
      "_view_name": "LayoutView",
      "align_content": null,
      "align_items": null,
      "align_self": null,
      "border": null,
      "bottom": null,
      "display": null,
      "flex": null,
      "flex_flow": null,
      "grid_area": null,
      "grid_auto_columns": null,
      "grid_auto_flow": null,
      "grid_auto_rows": null,
      "grid_column": null,
      "grid_gap": null,
      "grid_row": null,
      "grid_template_areas": null,
      "grid_template_columns": null,
      "grid_template_rows": null,
      "height": null,
      "justify_content": null,
      "justify_items": null,
      "left": null,
      "margin": null,
      "max_height": null,
      "max_width": null,
      "min_height": null,
      "min_width": null,
      "object_fit": null,
      "object_position": null,
      "order": null,
      "overflow": null,
      "overflow_x": null,
      "overflow_y": null,
      "padding": null,
      "right": null,
      "top": null,
      "visibility": null,
      "width": null
     }
    },
    "9e0d68b268384372ae1ec48b6c363b3a": {
     "model_module": "@jupyter-widgets/controls",
     "model_name": "DescriptionStyleModel",
     "state": {
      "_model_module": "@jupyter-widgets/controls",
      "_model_module_version": "1.5.0",
      "_model_name": "DescriptionStyleModel",
      "_view_count": null,
      "_view_module": "@jupyter-widgets/base",
      "_view_module_version": "1.2.0",
      "_view_name": "StyleView",
      "description_width": ""
     }
    },
    "9efdf4e9fd8c42598cced165c426f5bf": {
     "model_module": "@jupyter-widgets/base",
     "model_name": "LayoutModel",
     "state": {
      "_model_module": "@jupyter-widgets/base",
      "_model_module_version": "1.2.0",
      "_model_name": "LayoutModel",
      "_view_count": null,
      "_view_module": "@jupyter-widgets/base",
      "_view_module_version": "1.2.0",
      "_view_name": "LayoutView",
      "align_content": null,
      "align_items": null,
      "align_self": null,
      "border": null,
      "bottom": null,
      "display": null,
      "flex": null,
      "flex_flow": null,
      "grid_area": null,
      "grid_auto_columns": null,
      "grid_auto_flow": null,
      "grid_auto_rows": null,
      "grid_column": null,
      "grid_gap": null,
      "grid_row": null,
      "grid_template_areas": null,
      "grid_template_columns": null,
      "grid_template_rows": null,
      "height": null,
      "justify_content": null,
      "justify_items": null,
      "left": null,
      "margin": null,
      "max_height": null,
      "max_width": null,
      "min_height": null,
      "min_width": null,
      "object_fit": null,
      "object_position": null,
      "order": null,
      "overflow": null,
      "overflow_x": null,
      "overflow_y": null,
      "padding": null,
      "right": null,
      "top": null,
      "visibility": null,
      "width": null
     }
    },
    "a2026ad15de541eebf332cb4ce4e1ad2": {
     "model_module": "@jupyter-widgets/base",
     "model_name": "LayoutModel",
     "state": {
      "_model_module": "@jupyter-widgets/base",
      "_model_module_version": "1.2.0",
      "_model_name": "LayoutModel",
      "_view_count": null,
      "_view_module": "@jupyter-widgets/base",
      "_view_module_version": "1.2.0",
      "_view_name": "LayoutView",
      "align_content": null,
      "align_items": null,
      "align_self": null,
      "border": null,
      "bottom": null,
      "display": null,
      "flex": null,
      "flex_flow": null,
      "grid_area": null,
      "grid_auto_columns": null,
      "grid_auto_flow": null,
      "grid_auto_rows": null,
      "grid_column": null,
      "grid_gap": null,
      "grid_row": null,
      "grid_template_areas": null,
      "grid_template_columns": null,
      "grid_template_rows": null,
      "height": null,
      "justify_content": null,
      "justify_items": null,
      "left": null,
      "margin": null,
      "max_height": null,
      "max_width": null,
      "min_height": null,
      "min_width": null,
      "object_fit": null,
      "object_position": null,
      "order": null,
      "overflow": null,
      "overflow_x": null,
      "overflow_y": null,
      "padding": null,
      "right": null,
      "top": null,
      "visibility": null,
      "width": null
     }
    },
    "a33ce8bb19284323a89a317403263c0d": {
     "model_module": "@jupyter-widgets/controls",
     "model_name": "FloatProgressModel",
     "state": {
      "_dom_classes": [],
      "_model_module": "@jupyter-widgets/controls",
      "_model_module_version": "1.5.0",
      "_model_name": "FloatProgressModel",
      "_view_count": null,
      "_view_module": "@jupyter-widgets/controls",
      "_view_module_version": "1.5.0",
      "_view_name": "ProgressView",
      "bar_style": "success",
      "description": "",
      "description_tooltip": null,
      "layout": "IPY_MODEL_a2026ad15de541eebf332cb4ce4e1ad2",
      "max": 1,
      "min": 0,
      "orientation": "horizontal",
      "style": "IPY_MODEL_b506bbd1464b407980a6ef55a7819828",
      "value": 1
     }
    },
    "a504d4571ae54c97a6fb586051f17b07": {
     "model_module": "@jupyter-widgets/base",
     "model_name": "LayoutModel",
     "state": {
      "_model_module": "@jupyter-widgets/base",
      "_model_module_version": "1.2.0",
      "_model_name": "LayoutModel",
      "_view_count": null,
      "_view_module": "@jupyter-widgets/base",
      "_view_module_version": "1.2.0",
      "_view_name": "LayoutView",
      "align_content": null,
      "align_items": null,
      "align_self": null,
      "border": null,
      "bottom": null,
      "display": null,
      "flex": null,
      "flex_flow": null,
      "grid_area": null,
      "grid_auto_columns": null,
      "grid_auto_flow": null,
      "grid_auto_rows": null,
      "grid_column": null,
      "grid_gap": null,
      "grid_row": null,
      "grid_template_areas": null,
      "grid_template_columns": null,
      "grid_template_rows": null,
      "height": null,
      "justify_content": null,
      "justify_items": null,
      "left": null,
      "margin": null,
      "max_height": null,
      "max_width": null,
      "min_height": null,
      "min_width": null,
      "object_fit": null,
      "object_position": null,
      "order": null,
      "overflow": null,
      "overflow_x": null,
      "overflow_y": null,
      "padding": null,
      "right": null,
      "top": null,
      "visibility": null,
      "width": null
     }
    },
    "a56cd84f576841259aace5b34b0efda7": {
     "model_module": "@jupyter-widgets/controls",
     "model_name": "DescriptionStyleModel",
     "state": {
      "_model_module": "@jupyter-widgets/controls",
      "_model_module_version": "1.5.0",
      "_model_name": "DescriptionStyleModel",
      "_view_count": null,
      "_view_module": "@jupyter-widgets/base",
      "_view_module_version": "1.2.0",
      "_view_name": "StyleView",
      "description_width": ""
     }
    },
    "a5b8c79b6fd34d62b0c804035fd792d4": {
     "model_module": "@jupyter-widgets/base",
     "model_name": "LayoutModel",
     "state": {
      "_model_module": "@jupyter-widgets/base",
      "_model_module_version": "1.2.0",
      "_model_name": "LayoutModel",
      "_view_count": null,
      "_view_module": "@jupyter-widgets/base",
      "_view_module_version": "1.2.0",
      "_view_name": "LayoutView",
      "align_content": null,
      "align_items": null,
      "align_self": null,
      "border": null,
      "bottom": null,
      "display": null,
      "flex": null,
      "flex_flow": null,
      "grid_area": null,
      "grid_auto_columns": null,
      "grid_auto_flow": null,
      "grid_auto_rows": null,
      "grid_column": null,
      "grid_gap": null,
      "grid_row": null,
      "grid_template_areas": null,
      "grid_template_columns": null,
      "grid_template_rows": null,
      "height": null,
      "justify_content": null,
      "justify_items": null,
      "left": null,
      "margin": null,
      "max_height": null,
      "max_width": null,
      "min_height": null,
      "min_width": null,
      "object_fit": null,
      "object_position": null,
      "order": null,
      "overflow": null,
      "overflow_x": null,
      "overflow_y": null,
      "padding": null,
      "right": null,
      "top": null,
      "visibility": null,
      "width": null
     }
    },
    "a633f4726f6a4ba5babb0e0414e6c5e1": {
     "model_module": "@jupyter-widgets/controls",
     "model_name": "HBoxModel",
     "state": {
      "_dom_classes": [],
      "_model_module": "@jupyter-widgets/controls",
      "_model_module_version": "1.5.0",
      "_model_name": "HBoxModel",
      "_view_count": null,
      "_view_module": "@jupyter-widgets/controls",
      "_view_module_version": "1.5.0",
      "_view_name": "HBoxView",
      "box_style": "",
      "children": [
       "IPY_MODEL_58fa30020dc14801a78967796be9df3e",
       "IPY_MODEL_9712936912b84e498783132d111037bf"
      ],
      "layout": "IPY_MODEL_007752d9ce5e47f480ae606afeb2cd16"
     }
    },
    "a637e9d5dda44c3e9c8c3b9154b1b20d": {
     "model_module": "@jupyter-widgets/controls",
     "model_name": "HTMLModel",
     "state": {
      "_dom_classes": [],
      "_model_module": "@jupyter-widgets/controls",
      "_model_module_version": "1.5.0",
      "_model_name": "HTMLModel",
      "_view_count": null,
      "_view_module": "@jupyter-widgets/controls",
      "_view_module_version": "1.5.0",
      "_view_name": "HTMLView",
      "description": "",
      "description_tooltip": null,
      "layout": "IPY_MODEL_200ba008099045719694899c681c2d16",
      "placeholder": "​",
      "style": "IPY_MODEL_87a5e794f5ff408ebbf2a740a7560adb",
      "value": " 150/? [14:12&lt;00:00,  5.68s/it]"
     }
    },
    "a694fbafc40c41e98fe568668e4db732": {
     "model_module": "@jupyter-widgets/controls",
     "model_name": "HTMLModel",
     "state": {
      "_dom_classes": [],
      "_model_module": "@jupyter-widgets/controls",
      "_model_module_version": "1.5.0",
      "_model_name": "HTMLModel",
      "_view_count": null,
      "_view_module": "@jupyter-widgets/controls",
      "_view_module_version": "1.5.0",
      "_view_name": "HTMLView",
      "description": "",
      "description_tooltip": null,
      "layout": "IPY_MODEL_992143ed056d4a23afff16b83c514432",
      "placeholder": "​",
      "style": "IPY_MODEL_dc75ce283dff4270b9c537d4e057d416",
      "value": " 150/? [01:11&lt;00:00,  2.10it/s]"
     }
    },
    "aa59dbf1348742868c526a5cd2881b28": {
     "model_module": "@jupyter-widgets/controls",
     "model_name": "HBoxModel",
     "state": {
      "_dom_classes": [],
      "_model_module": "@jupyter-widgets/controls",
      "_model_module_version": "1.5.0",
      "_model_name": "HBoxModel",
      "_view_count": null,
      "_view_module": "@jupyter-widgets/controls",
      "_view_module_version": "1.5.0",
      "_view_name": "HBoxView",
      "box_style": "",
      "children": [
       "IPY_MODEL_bda49606b3254b45aa01aea5eacdccb9",
       "IPY_MODEL_495e64e746fb4ac5a3ebb93e72d80cf2"
      ],
      "layout": "IPY_MODEL_f3c1ebc2d36d4311940c75068d491dfd"
     }
    },
    "ad0c71bcf6d945098f04025bc52055f9": {
     "model_module": "@jupyter-widgets/base",
     "model_name": "LayoutModel",
     "state": {
      "_model_module": "@jupyter-widgets/base",
      "_model_module_version": "1.2.0",
      "_model_name": "LayoutModel",
      "_view_count": null,
      "_view_module": "@jupyter-widgets/base",
      "_view_module_version": "1.2.0",
      "_view_name": "LayoutView",
      "align_content": null,
      "align_items": null,
      "align_self": null,
      "border": null,
      "bottom": null,
      "display": null,
      "flex": null,
      "flex_flow": null,
      "grid_area": null,
      "grid_auto_columns": null,
      "grid_auto_flow": null,
      "grid_auto_rows": null,
      "grid_column": null,
      "grid_gap": null,
      "grid_row": null,
      "grid_template_areas": null,
      "grid_template_columns": null,
      "grid_template_rows": null,
      "height": null,
      "justify_content": null,
      "justify_items": null,
      "left": null,
      "margin": null,
      "max_height": null,
      "max_width": null,
      "min_height": null,
      "min_width": null,
      "object_fit": null,
      "object_position": null,
      "order": null,
      "overflow": null,
      "overflow_x": null,
      "overflow_y": null,
      "padding": null,
      "right": null,
      "top": null,
      "visibility": null,
      "width": null
     }
    },
    "af2e6d37b662467a9995900e0a00bcb7": {
     "model_module": "@jupyter-widgets/base",
     "model_name": "LayoutModel",
     "state": {
      "_model_module": "@jupyter-widgets/base",
      "_model_module_version": "1.2.0",
      "_model_name": "LayoutModel",
      "_view_count": null,
      "_view_module": "@jupyter-widgets/base",
      "_view_module_version": "1.2.0",
      "_view_name": "LayoutView",
      "align_content": null,
      "align_items": null,
      "align_self": null,
      "border": null,
      "bottom": null,
      "display": null,
      "flex": null,
      "flex_flow": null,
      "grid_area": null,
      "grid_auto_columns": null,
      "grid_auto_flow": null,
      "grid_auto_rows": null,
      "grid_column": null,
      "grid_gap": null,
      "grid_row": null,
      "grid_template_areas": null,
      "grid_template_columns": null,
      "grid_template_rows": null,
      "height": null,
      "justify_content": null,
      "justify_items": null,
      "left": null,
      "margin": null,
      "max_height": null,
      "max_width": null,
      "min_height": null,
      "min_width": null,
      "object_fit": null,
      "object_position": null,
      "order": null,
      "overflow": null,
      "overflow_x": null,
      "overflow_y": null,
      "padding": null,
      "right": null,
      "top": null,
      "visibility": null,
      "width": null
     }
    },
    "b506bbd1464b407980a6ef55a7819828": {
     "model_module": "@jupyter-widgets/controls",
     "model_name": "ProgressStyleModel",
     "state": {
      "_model_module": "@jupyter-widgets/controls",
      "_model_module_version": "1.5.0",
      "_model_name": "ProgressStyleModel",
      "_view_count": null,
      "_view_module": "@jupyter-widgets/base",
      "_view_module_version": "1.2.0",
      "_view_name": "StyleView",
      "bar_color": null,
      "description_width": "initial"
     }
    },
    "b986d76f127a48669bfaf9c674079d87": {
     "model_module": "@jupyter-widgets/controls",
     "model_name": "FloatProgressModel",
     "state": {
      "_dom_classes": [],
      "_model_module": "@jupyter-widgets/controls",
      "_model_module_version": "1.5.0",
      "_model_name": "FloatProgressModel",
      "_view_count": null,
      "_view_module": "@jupyter-widgets/controls",
      "_view_module_version": "1.5.0",
      "_view_name": "ProgressView",
      "bar_style": "success",
      "description": "",
      "description_tooltip": null,
      "layout": "IPY_MODEL_4d3bd152e2b14612bdec4f9692d48739",
      "max": 1,
      "min": 0,
      "orientation": "horizontal",
      "style": "IPY_MODEL_6736870c4aa94b20adeed80a00507dce",
      "value": 1
     }
    },
    "bda49606b3254b45aa01aea5eacdccb9": {
     "model_module": "@jupyter-widgets/controls",
     "model_name": "FloatProgressModel",
     "state": {
      "_dom_classes": [],
      "_model_module": "@jupyter-widgets/controls",
      "_model_module_version": "1.5.0",
      "_model_name": "FloatProgressModel",
      "_view_count": null,
      "_view_module": "@jupyter-widgets/controls",
      "_view_module_version": "1.5.0",
      "_view_name": "ProgressView",
      "bar_style": "success",
      "description": "",
      "description_tooltip": null,
      "layout": "IPY_MODEL_a5b8c79b6fd34d62b0c804035fd792d4",
      "max": 1,
      "min": 0,
      "orientation": "horizontal",
      "style": "IPY_MODEL_246eeb6e3e814185a92d51b933a6cf16",
      "value": 1
     }
    },
    "c1a456c1a76d4fcca0ed4026b8e8213d": {
     "model_module": "@jupyter-widgets/base",
     "model_name": "LayoutModel",
     "state": {
      "_model_module": "@jupyter-widgets/base",
      "_model_module_version": "1.2.0",
      "_model_name": "LayoutModel",
      "_view_count": null,
      "_view_module": "@jupyter-widgets/base",
      "_view_module_version": "1.2.0",
      "_view_name": "LayoutView",
      "align_content": null,
      "align_items": null,
      "align_self": null,
      "border": null,
      "bottom": null,
      "display": null,
      "flex": null,
      "flex_flow": null,
      "grid_area": null,
      "grid_auto_columns": null,
      "grid_auto_flow": null,
      "grid_auto_rows": null,
      "grid_column": null,
      "grid_gap": null,
      "grid_row": null,
      "grid_template_areas": null,
      "grid_template_columns": null,
      "grid_template_rows": null,
      "height": null,
      "justify_content": null,
      "justify_items": null,
      "left": null,
      "margin": null,
      "max_height": null,
      "max_width": null,
      "min_height": null,
      "min_width": null,
      "object_fit": null,
      "object_position": null,
      "order": null,
      "overflow": null,
      "overflow_x": null,
      "overflow_y": null,
      "padding": null,
      "right": null,
      "top": null,
      "visibility": null,
      "width": null
     }
    },
    "c474da83a17e48eb811437af8bd293f8": {
     "model_module": "@jupyter-widgets/controls",
     "model_name": "FloatProgressModel",
     "state": {
      "_dom_classes": [],
      "_model_module": "@jupyter-widgets/controls",
      "_model_module_version": "1.5.0",
      "_model_name": "FloatProgressModel",
      "_view_count": null,
      "_view_module": "@jupyter-widgets/controls",
      "_view_module_version": "1.5.0",
      "_view_name": "ProgressView",
      "bar_style": "success",
      "description": "Downloading: 100%",
      "description_tooltip": null,
      "layout": "IPY_MODEL_af2e6d37b662467a9995900e0a00bcb7",
      "max": 791656,
      "min": 0,
      "orientation": "horizontal",
      "style": "IPY_MODEL_d8b35d4a603047daa47a923b3dad5843",
      "value": 791656
     }
    },
    "c56a3c25a1284582bdfb1ad9e02ccb06": {
     "model_module": "@jupyter-widgets/controls",
     "model_name": "HBoxModel",
     "state": {
      "_dom_classes": [],
      "_model_module": "@jupyter-widgets/controls",
      "_model_module_version": "1.5.0",
      "_model_name": "HBoxModel",
      "_view_count": null,
      "_view_module": "@jupyter-widgets/controls",
      "_view_module_version": "1.5.0",
      "_view_name": "HBoxView",
      "box_style": "",
      "children": [
       "IPY_MODEL_b986d76f127a48669bfaf9c674079d87",
       "IPY_MODEL_e941a8dd61c641c88445eb5497fd2760"
      ],
      "layout": "IPY_MODEL_888804a45395411cb9db622b0e6878cb"
     }
    },
    "c5b5410811de4ab59ff76737f353ce27": {
     "model_module": "@jupyter-widgets/controls",
     "model_name": "HTMLModel",
     "state": {
      "_dom_classes": [],
      "_model_module": "@jupyter-widgets/controls",
      "_model_module_version": "1.5.0",
      "_model_name": "HTMLModel",
      "_view_count": null,
      "_view_module": "@jupyter-widgets/controls",
      "_view_module_version": "1.5.0",
      "_view_name": "HTMLView",
      "description": "",
      "description_tooltip": null,
      "layout": "IPY_MODEL_cd662889ecd24a5fbfbf078039e270a8",
      "placeholder": "​",
      "style": "IPY_MODEL_e8fbc6f859784253a0cf6fe88cc0d9ca",
      "value": " 150/? [01:08&lt;00:00,  2.19it/s]"
     }
    },
    "c6df116aced44356a6e450bc17adab9f": {
     "model_module": "@jupyter-widgets/base",
     "model_name": "LayoutModel",
     "state": {
      "_model_module": "@jupyter-widgets/base",
      "_model_module_version": "1.2.0",
      "_model_name": "LayoutModel",
      "_view_count": null,
      "_view_module": "@jupyter-widgets/base",
      "_view_module_version": "1.2.0",
      "_view_name": "LayoutView",
      "align_content": null,
      "align_items": null,
      "align_self": null,
      "border": null,
      "bottom": null,
      "display": null,
      "flex": null,
      "flex_flow": null,
      "grid_area": null,
      "grid_auto_columns": null,
      "grid_auto_flow": null,
      "grid_auto_rows": null,
      "grid_column": null,
      "grid_gap": null,
      "grid_row": null,
      "grid_template_areas": null,
      "grid_template_columns": null,
      "grid_template_rows": null,
      "height": null,
      "justify_content": null,
      "justify_items": null,
      "left": null,
      "margin": null,
      "max_height": null,
      "max_width": null,
      "min_height": null,
      "min_width": null,
      "object_fit": null,
      "object_position": null,
      "order": null,
      "overflow": null,
      "overflow_x": null,
      "overflow_y": null,
      "padding": null,
      "right": null,
      "top": null,
      "visibility": null,
      "width": null
     }
    },
    "c7a670342db348f0b703a95438137574": {
     "model_module": "@jupyter-widgets/base",
     "model_name": "LayoutModel",
     "state": {
      "_model_module": "@jupyter-widgets/base",
      "_model_module_version": "1.2.0",
      "_model_name": "LayoutModel",
      "_view_count": null,
      "_view_module": "@jupyter-widgets/base",
      "_view_module_version": "1.2.0",
      "_view_name": "LayoutView",
      "align_content": null,
      "align_items": null,
      "align_self": null,
      "border": null,
      "bottom": null,
      "display": null,
      "flex": null,
      "flex_flow": null,
      "grid_area": null,
      "grid_auto_columns": null,
      "grid_auto_flow": null,
      "grid_auto_rows": null,
      "grid_column": null,
      "grid_gap": null,
      "grid_row": null,
      "grid_template_areas": null,
      "grid_template_columns": null,
      "grid_template_rows": null,
      "height": null,
      "justify_content": null,
      "justify_items": null,
      "left": null,
      "margin": null,
      "max_height": null,
      "max_width": null,
      "min_height": null,
      "min_width": null,
      "object_fit": null,
      "object_position": null,
      "order": null,
      "overflow": null,
      "overflow_x": null,
      "overflow_y": null,
      "padding": null,
      "right": null,
      "top": null,
      "visibility": null,
      "width": null
     }
    },
    "cb47163880b644e99674d508f1407349": {
     "model_module": "@jupyter-widgets/controls",
     "model_name": "HBoxModel",
     "state": {
      "_dom_classes": [],
      "_model_module": "@jupyter-widgets/controls",
      "_model_module_version": "1.5.0",
      "_model_name": "HBoxModel",
      "_view_count": null,
      "_view_module": "@jupyter-widgets/controls",
      "_view_module_version": "1.5.0",
      "_view_name": "HBoxView",
      "box_style": "",
      "children": [
       "IPY_MODEL_6e1089fcff4a4ad19de6fc9dfb87c171",
       "IPY_MODEL_c5b5410811de4ab59ff76737f353ce27"
      ],
      "layout": "IPY_MODEL_e94c000d5060445ca93691f6af42e70c"
     }
    },
    "cd662889ecd24a5fbfbf078039e270a8": {
     "model_module": "@jupyter-widgets/base",
     "model_name": "LayoutModel",
     "state": {
      "_model_module": "@jupyter-widgets/base",
      "_model_module_version": "1.2.0",
      "_model_name": "LayoutModel",
      "_view_count": null,
      "_view_module": "@jupyter-widgets/base",
      "_view_module_version": "1.2.0",
      "_view_name": "LayoutView",
      "align_content": null,
      "align_items": null,
      "align_self": null,
      "border": null,
      "bottom": null,
      "display": null,
      "flex": null,
      "flex_flow": null,
      "grid_area": null,
      "grid_auto_columns": null,
      "grid_auto_flow": null,
      "grid_auto_rows": null,
      "grid_column": null,
      "grid_gap": null,
      "grid_row": null,
      "grid_template_areas": null,
      "grid_template_columns": null,
      "grid_template_rows": null,
      "height": null,
      "justify_content": null,
      "justify_items": null,
      "left": null,
      "margin": null,
      "max_height": null,
      "max_width": null,
      "min_height": null,
      "min_width": null,
      "object_fit": null,
      "object_position": null,
      "order": null,
      "overflow": null,
      "overflow_x": null,
      "overflow_y": null,
      "padding": null,
      "right": null,
      "top": null,
      "visibility": null,
      "width": null
     }
    },
    "ce7dc5c992754af5a545aa408ed67c88": {
     "model_module": "@jupyter-widgets/base",
     "model_name": "LayoutModel",
     "state": {
      "_model_module": "@jupyter-widgets/base",
      "_model_module_version": "1.2.0",
      "_model_name": "LayoutModel",
      "_view_count": null,
      "_view_module": "@jupyter-widgets/base",
      "_view_module_version": "1.2.0",
      "_view_name": "LayoutView",
      "align_content": null,
      "align_items": null,
      "align_self": null,
      "border": null,
      "bottom": null,
      "display": null,
      "flex": null,
      "flex_flow": null,
      "grid_area": null,
      "grid_auto_columns": null,
      "grid_auto_flow": null,
      "grid_auto_rows": null,
      "grid_column": null,
      "grid_gap": null,
      "grid_row": null,
      "grid_template_areas": null,
      "grid_template_columns": null,
      "grid_template_rows": null,
      "height": null,
      "justify_content": null,
      "justify_items": null,
      "left": null,
      "margin": null,
      "max_height": null,
      "max_width": null,
      "min_height": null,
      "min_width": null,
      "object_fit": null,
      "object_position": null,
      "order": null,
      "overflow": null,
      "overflow_x": null,
      "overflow_y": null,
      "padding": null,
      "right": null,
      "top": null,
      "visibility": null,
      "width": null
     }
    },
    "d2a4e7e937804562a63d0191223c0dd0": {
     "model_module": "@jupyter-widgets/controls",
     "model_name": "FloatProgressModel",
     "state": {
      "_dom_classes": [],
      "_model_module": "@jupyter-widgets/controls",
      "_model_module_version": "1.5.0",
      "_model_name": "FloatProgressModel",
      "_view_count": null,
      "_view_module": "@jupyter-widgets/controls",
      "_view_module_version": "1.5.0",
      "_view_name": "ProgressView",
      "bar_style": "success",
      "description": "",
      "description_tooltip": null,
      "layout": "IPY_MODEL_17e87d4a9a974aa6828c5ae0f9e0cf3a",
      "max": 1,
      "min": 0,
      "orientation": "horizontal",
      "style": "IPY_MODEL_d689f347b2e040d186d0353abaa96dd4",
      "value": 1
     }
    },
    "d689f347b2e040d186d0353abaa96dd4": {
     "model_module": "@jupyter-widgets/controls",
     "model_name": "ProgressStyleModel",
     "state": {
      "_model_module": "@jupyter-widgets/controls",
      "_model_module_version": "1.5.0",
      "_model_name": "ProgressStyleModel",
      "_view_count": null,
      "_view_module": "@jupyter-widgets/base",
      "_view_module_version": "1.2.0",
      "_view_name": "StyleView",
      "bar_color": null,
      "description_width": "initial"
     }
    },
    "d8b35d4a603047daa47a923b3dad5843": {
     "model_module": "@jupyter-widgets/controls",
     "model_name": "ProgressStyleModel",
     "state": {
      "_model_module": "@jupyter-widgets/controls",
      "_model_module_version": "1.5.0",
      "_model_name": "ProgressStyleModel",
      "_view_count": null,
      "_view_module": "@jupyter-widgets/base",
      "_view_module_version": "1.2.0",
      "_view_name": "StyleView",
      "bar_color": null,
      "description_width": "initial"
     }
    },
    "d9fb635e32cd4ed4bcddf6574de80b1b": {
     "model_module": "@jupyter-widgets/controls",
     "model_name": "FloatProgressModel",
     "state": {
      "_dom_classes": [],
      "_model_module": "@jupyter-widgets/controls",
      "_model_module_version": "1.5.0",
      "_model_name": "FloatProgressModel",
      "_view_count": null,
      "_view_module": "@jupyter-widgets/controls",
      "_view_module_version": "1.5.0",
      "_view_name": "ProgressView",
      "bar_style": "success",
      "description": "",
      "description_tooltip": null,
      "layout": "IPY_MODEL_3353a6712b3a482d8907ca80a0824020",
      "max": 1,
      "min": 0,
      "orientation": "horizontal",
      "style": "IPY_MODEL_273de981090749b29ce385706c449722",
      "value": 1
     }
    },
    "daf94faf76d5426291b3b6af7c203256": {
     "model_module": "@jupyter-widgets/controls",
     "model_name": "HBoxModel",
     "state": {
      "_dom_classes": [],
      "_model_module": "@jupyter-widgets/controls",
      "_model_module_version": "1.5.0",
      "_model_name": "HBoxModel",
      "_view_count": null,
      "_view_module": "@jupyter-widgets/controls",
      "_view_module_version": "1.5.0",
      "_view_name": "HBoxView",
      "box_style": "",
      "children": [
       "IPY_MODEL_c474da83a17e48eb811437af8bd293f8",
       "IPY_MODEL_f00129f87cd9473d92a43cd7d493f765"
      ],
      "layout": "IPY_MODEL_c1a456c1a76d4fcca0ed4026b8e8213d"
     }
    },
    "db85fdb064634d80b1904313a3b81ddb": {
     "model_module": "@jupyter-widgets/controls",
     "model_name": "FloatProgressModel",
     "state": {
      "_dom_classes": [],
      "_model_module": "@jupyter-widgets/controls",
      "_model_module_version": "1.5.0",
      "_model_name": "FloatProgressModel",
      "_view_count": null,
      "_view_module": "@jupyter-widgets/controls",
      "_view_module_version": "1.5.0",
      "_view_name": "ProgressView",
      "bar_style": "success",
      "description": "",
      "description_tooltip": null,
      "layout": "IPY_MODEL_9459d0d307814c34aa8a31945a82adb7",
      "max": 1,
      "min": 0,
      "orientation": "horizontal",
      "style": "IPY_MODEL_ed804e9c6fae4499aa3e6fef00f5de44",
      "value": 1
     }
    },
    "dc75ce283dff4270b9c537d4e057d416": {
     "model_module": "@jupyter-widgets/controls",
     "model_name": "DescriptionStyleModel",
     "state": {
      "_model_module": "@jupyter-widgets/controls",
      "_model_module_version": "1.5.0",
      "_model_name": "DescriptionStyleModel",
      "_view_count": null,
      "_view_module": "@jupyter-widgets/base",
      "_view_module_version": "1.2.0",
      "_view_name": "StyleView",
      "description_width": ""
     }
    },
    "dc94b3b543714dd0845fdadca7db22a3": {
     "model_module": "@jupyter-widgets/base",
     "model_name": "LayoutModel",
     "state": {
      "_model_module": "@jupyter-widgets/base",
      "_model_module_version": "1.2.0",
      "_model_name": "LayoutModel",
      "_view_count": null,
      "_view_module": "@jupyter-widgets/base",
      "_view_module_version": "1.2.0",
      "_view_name": "LayoutView",
      "align_content": null,
      "align_items": null,
      "align_self": null,
      "border": null,
      "bottom": null,
      "display": null,
      "flex": null,
      "flex_flow": null,
      "grid_area": null,
      "grid_auto_columns": null,
      "grid_auto_flow": null,
      "grid_auto_rows": null,
      "grid_column": null,
      "grid_gap": null,
      "grid_row": null,
      "grid_template_areas": null,
      "grid_template_columns": null,
      "grid_template_rows": null,
      "height": null,
      "justify_content": null,
      "justify_items": null,
      "left": null,
      "margin": null,
      "max_height": null,
      "max_width": null,
      "min_height": null,
      "min_width": null,
      "object_fit": null,
      "object_position": null,
      "order": null,
      "overflow": null,
      "overflow_x": null,
      "overflow_y": null,
      "padding": null,
      "right": null,
      "top": null,
      "visibility": null,
      "width": null
     }
    },
    "ddd0f5a0f838494daf3d0581081c3e86": {
     "model_module": "@jupyter-widgets/controls",
     "model_name": "HBoxModel",
     "state": {
      "_dom_classes": [],
      "_model_module": "@jupyter-widgets/controls",
      "_model_module_version": "1.5.0",
      "_model_name": "HBoxModel",
      "_view_count": null,
      "_view_module": "@jupyter-widgets/controls",
      "_view_module_version": "1.5.0",
      "_view_name": "HBoxView",
      "box_style": "",
      "children": [
       "IPY_MODEL_f842c10d414f41c6846c1dc74200f301",
       "IPY_MODEL_a694fbafc40c41e98fe568668e4db732"
      ],
      "layout": "IPY_MODEL_3856954e8b1e47a08fce9fff7a038027"
     }
    },
    "ddf41c306dc441eb85beb6ea7bfbfedd": {
     "model_module": "@jupyter-widgets/base",
     "model_name": "LayoutModel",
     "state": {
      "_model_module": "@jupyter-widgets/base",
      "_model_module_version": "1.2.0",
      "_model_name": "LayoutModel",
      "_view_count": null,
      "_view_module": "@jupyter-widgets/base",
      "_view_module_version": "1.2.0",
      "_view_name": "LayoutView",
      "align_content": null,
      "align_items": null,
      "align_self": null,
      "border": null,
      "bottom": null,
      "display": null,
      "flex": null,
      "flex_flow": null,
      "grid_area": null,
      "grid_auto_columns": null,
      "grid_auto_flow": null,
      "grid_auto_rows": null,
      "grid_column": null,
      "grid_gap": null,
      "grid_row": null,
      "grid_template_areas": null,
      "grid_template_columns": null,
      "grid_template_rows": null,
      "height": null,
      "justify_content": null,
      "justify_items": null,
      "left": null,
      "margin": null,
      "max_height": null,
      "max_width": null,
      "min_height": null,
      "min_width": null,
      "object_fit": null,
      "object_position": null,
      "order": null,
      "overflow": null,
      "overflow_x": null,
      "overflow_y": null,
      "padding": null,
      "right": null,
      "top": null,
      "visibility": null,
      "width": null
     }
    },
    "dffe3b78e72e4c309bda155884c2c7a7": {
     "model_module": "@jupyter-widgets/controls",
     "model_name": "HBoxModel",
     "state": {
      "_dom_classes": [],
      "_model_module": "@jupyter-widgets/controls",
      "_model_module_version": "1.5.0",
      "_model_name": "HBoxModel",
      "_view_count": null,
      "_view_module": "@jupyter-widgets/controls",
      "_view_module_version": "1.5.0",
      "_view_name": "HBoxView",
      "box_style": "",
      "children": [
       "IPY_MODEL_d9fb635e32cd4ed4bcddf6574de80b1b",
       "IPY_MODEL_1523672396354424b0658ce14786fbd2"
      ],
      "layout": "IPY_MODEL_00632d7b23cc45f59515669601334fcd"
     }
    },
    "e2be21b2cc584489b535309b9c8904e3": {
     "model_module": "@jupyter-widgets/controls",
     "model_name": "FloatProgressModel",
     "state": {
      "_dom_classes": [],
      "_model_module": "@jupyter-widgets/controls",
      "_model_module_version": "1.5.0",
      "_model_name": "FloatProgressModel",
      "_view_count": null,
      "_view_module": "@jupyter-widgets/controls",
      "_view_module_version": "1.5.0",
      "_view_name": "ProgressView",
      "bar_style": "success",
      "description": "",
      "description_tooltip": null,
      "layout": "IPY_MODEL_fca884b72b1946cd8403edac7d41924e",
      "max": 1,
      "min": 0,
      "orientation": "horizontal",
      "style": "IPY_MODEL_8503f63352114056ace6ee5662d746da",
      "value": 1
     }
    },
    "e595378941654a4dbe560a646dc52272": {
     "model_module": "@jupyter-widgets/base",
     "model_name": "LayoutModel",
     "state": {
      "_model_module": "@jupyter-widgets/base",
      "_model_module_version": "1.2.0",
      "_model_name": "LayoutModel",
      "_view_count": null,
      "_view_module": "@jupyter-widgets/base",
      "_view_module_version": "1.2.0",
      "_view_name": "LayoutView",
      "align_content": null,
      "align_items": null,
      "align_self": null,
      "border": null,
      "bottom": null,
      "display": null,
      "flex": null,
      "flex_flow": null,
      "grid_area": null,
      "grid_auto_columns": null,
      "grid_auto_flow": null,
      "grid_auto_rows": null,
      "grid_column": null,
      "grid_gap": null,
      "grid_row": null,
      "grid_template_areas": null,
      "grid_template_columns": null,
      "grid_template_rows": null,
      "height": null,
      "justify_content": null,
      "justify_items": null,
      "left": null,
      "margin": null,
      "max_height": null,
      "max_width": null,
      "min_height": null,
      "min_width": null,
      "object_fit": null,
      "object_position": null,
      "order": null,
      "overflow": null,
      "overflow_x": null,
      "overflow_y": null,
      "padding": null,
      "right": null,
      "top": null,
      "visibility": null,
      "width": null
     }
    },
    "e7ccb000bd83423fb4693a908c638ddb": {
     "model_module": "@jupyter-widgets/controls",
     "model_name": "ProgressStyleModel",
     "state": {
      "_model_module": "@jupyter-widgets/controls",
      "_model_module_version": "1.5.0",
      "_model_name": "ProgressStyleModel",
      "_view_count": null,
      "_view_module": "@jupyter-widgets/base",
      "_view_module_version": "1.2.0",
      "_view_name": "StyleView",
      "bar_color": null,
      "description_width": "initial"
     }
    },
    "e7fc29feb6d3404d83c1e455602d5c1b": {
     "model_module": "@jupyter-widgets/controls",
     "model_name": "HBoxModel",
     "state": {
      "_dom_classes": [],
      "_model_module": "@jupyter-widgets/controls",
      "_model_module_version": "1.5.0",
      "_model_name": "HBoxModel",
      "_view_count": null,
      "_view_module": "@jupyter-widgets/controls",
      "_view_module_version": "1.5.0",
      "_view_name": "HBoxView",
      "box_style": "",
      "children": [
       "IPY_MODEL_2d2b6b3effa34b809c30379c42c3c861",
       "IPY_MODEL_f46251823d4f4d219bffc095047f8867"
      ],
      "layout": "IPY_MODEL_ddf41c306dc441eb85beb6ea7bfbfedd"
     }
    },
    "e8fbc6f859784253a0cf6fe88cc0d9ca": {
     "model_module": "@jupyter-widgets/controls",
     "model_name": "DescriptionStyleModel",
     "state": {
      "_model_module": "@jupyter-widgets/controls",
      "_model_module_version": "1.5.0",
      "_model_name": "DescriptionStyleModel",
      "_view_count": null,
      "_view_module": "@jupyter-widgets/base",
      "_view_module_version": "1.2.0",
      "_view_name": "StyleView",
      "description_width": ""
     }
    },
    "e941a8dd61c641c88445eb5497fd2760": {
     "model_module": "@jupyter-widgets/controls",
     "model_name": "HTMLModel",
     "state": {
      "_dom_classes": [],
      "_model_module": "@jupyter-widgets/controls",
      "_model_module_version": "1.5.0",
      "_model_name": "HTMLModel",
      "_view_count": null,
      "_view_module": "@jupyter-widgets/controls",
      "_view_module_version": "1.5.0",
      "_view_name": "HTMLView",
      "description": "",
      "description_tooltip": null,
      "layout": "IPY_MODEL_ce7dc5c992754af5a545aa408ed67c88",
      "placeholder": "​",
      "style": "IPY_MODEL_63ff13ee95f64beea555e0660be15eec",
      "value": " 150/? [01:09&lt;00:00,  2.17it/s]"
     }
    },
    "e94b124aaf674431b6e424b9c6c1da87": {
     "model_module": "@jupyter-widgets/controls",
     "model_name": "DescriptionStyleModel",
     "state": {
      "_model_module": "@jupyter-widgets/controls",
      "_model_module_version": "1.5.0",
      "_model_name": "DescriptionStyleModel",
      "_view_count": null,
      "_view_module": "@jupyter-widgets/base",
      "_view_module_version": "1.2.0",
      "_view_name": "StyleView",
      "description_width": ""
     }
    },
    "e94c000d5060445ca93691f6af42e70c": {
     "model_module": "@jupyter-widgets/base",
     "model_name": "LayoutModel",
     "state": {
      "_model_module": "@jupyter-widgets/base",
      "_model_module_version": "1.2.0",
      "_model_name": "LayoutModel",
      "_view_count": null,
      "_view_module": "@jupyter-widgets/base",
      "_view_module_version": "1.2.0",
      "_view_name": "LayoutView",
      "align_content": null,
      "align_items": null,
      "align_self": null,
      "border": null,
      "bottom": null,
      "display": null,
      "flex": null,
      "flex_flow": null,
      "grid_area": null,
      "grid_auto_columns": null,
      "grid_auto_flow": null,
      "grid_auto_rows": null,
      "grid_column": null,
      "grid_gap": null,
      "grid_row": null,
      "grid_template_areas": null,
      "grid_template_columns": null,
      "grid_template_rows": null,
      "height": null,
      "justify_content": null,
      "justify_items": null,
      "left": null,
      "margin": null,
      "max_height": null,
      "max_width": null,
      "min_height": null,
      "min_width": null,
      "object_fit": null,
      "object_position": null,
      "order": null,
      "overflow": null,
      "overflow_x": null,
      "overflow_y": null,
      "padding": null,
      "right": null,
      "top": null,
      "visibility": null,
      "width": null
     }
    },
    "ed804e9c6fae4499aa3e6fef00f5de44": {
     "model_module": "@jupyter-widgets/controls",
     "model_name": "ProgressStyleModel",
     "state": {
      "_model_module": "@jupyter-widgets/controls",
      "_model_module_version": "1.5.0",
      "_model_name": "ProgressStyleModel",
      "_view_count": null,
      "_view_module": "@jupyter-widgets/base",
      "_view_module_version": "1.2.0",
      "_view_name": "StyleView",
      "bar_color": null,
      "description_width": "initial"
     }
    },
    "f00129f87cd9473d92a43cd7d493f765": {
     "model_module": "@jupyter-widgets/controls",
     "model_name": "HTMLModel",
     "state": {
      "_dom_classes": [],
      "_model_module": "@jupyter-widgets/controls",
      "_model_module_version": "1.5.0",
      "_model_name": "HTMLModel",
      "_view_count": null,
      "_view_module": "@jupyter-widgets/controls",
      "_view_module_version": "1.5.0",
      "_view_name": "HTMLView",
      "description": "",
      "description_tooltip": null,
      "layout": "IPY_MODEL_c6df116aced44356a6e450bc17adab9f",
      "placeholder": "​",
      "style": "IPY_MODEL_7bfefa6286fa41d4b67e27f0908758e7",
      "value": " 792k/792k [00:09&lt;00:00, 80.4kB/s]"
     }
    },
    "f1010194505c44b588ba44a39e4afd9f": {
     "model_module": "@jupyter-widgets/controls",
     "model_name": "DescriptionStyleModel",
     "state": {
      "_model_module": "@jupyter-widgets/controls",
      "_model_module_version": "1.5.0",
      "_model_name": "DescriptionStyleModel",
      "_view_count": null,
      "_view_module": "@jupyter-widgets/base",
      "_view_module_version": "1.2.0",
      "_view_name": "StyleView",
      "description_width": ""
     }
    },
    "f3c1ebc2d36d4311940c75068d491dfd": {
     "model_module": "@jupyter-widgets/base",
     "model_name": "LayoutModel",
     "state": {
      "_model_module": "@jupyter-widgets/base",
      "_model_module_version": "1.2.0",
      "_model_name": "LayoutModel",
      "_view_count": null,
      "_view_module": "@jupyter-widgets/base",
      "_view_module_version": "1.2.0",
      "_view_name": "LayoutView",
      "align_content": null,
      "align_items": null,
      "align_self": null,
      "border": null,
      "bottom": null,
      "display": null,
      "flex": null,
      "flex_flow": null,
      "grid_area": null,
      "grid_auto_columns": null,
      "grid_auto_flow": null,
      "grid_auto_rows": null,
      "grid_column": null,
      "grid_gap": null,
      "grid_row": null,
      "grid_template_areas": null,
      "grid_template_columns": null,
      "grid_template_rows": null,
      "height": null,
      "justify_content": null,
      "justify_items": null,
      "left": null,
      "margin": null,
      "max_height": null,
      "max_width": null,
      "min_height": null,
      "min_width": null,
      "object_fit": null,
      "object_position": null,
      "order": null,
      "overflow": null,
      "overflow_x": null,
      "overflow_y": null,
      "padding": null,
      "right": null,
      "top": null,
      "visibility": null,
      "width": null
     }
    },
    "f46251823d4f4d219bffc095047f8867": {
     "model_module": "@jupyter-widgets/controls",
     "model_name": "HTMLModel",
     "state": {
      "_dom_classes": [],
      "_model_module": "@jupyter-widgets/controls",
      "_model_module_version": "1.5.0",
      "_model_name": "HTMLModel",
      "_view_count": null,
      "_view_module": "@jupyter-widgets/controls",
      "_view_module_version": "1.5.0",
      "_view_name": "HTMLView",
      "description": "",
      "description_tooltip": null,
      "layout": "IPY_MODEL_9d3ae70779e447d0aa495a9872209d38",
      "placeholder": "​",
      "style": "IPY_MODEL_04619e3db74847f5b637c7d2b1d5b8b8",
      "value": " 150/? [14:12&lt;00:00,  5.68s/it]"
     }
    },
    "f7dd810e69fa4f1f91acaec17fb8c64a": {
     "model_module": "@jupyter-widgets/controls",
     "model_name": "HTMLModel",
     "state": {
      "_dom_classes": [],
      "_model_module": "@jupyter-widgets/controls",
      "_model_module_version": "1.5.0",
      "_model_name": "HTMLModel",
      "_view_count": null,
      "_view_module": "@jupyter-widgets/controls",
      "_view_module_version": "1.5.0",
      "_view_name": "HTMLView",
      "description": "",
      "description_tooltip": null,
      "layout": "IPY_MODEL_940db33506ef463788996553c4bf5f74",
      "placeholder": "​",
      "style": "IPY_MODEL_268c4187cfc9490bacfa1eafe1fbcca1",
      "value": " 150/? [42:34&lt;00:00, 17.03s/it]"
     }
    },
    "f842c10d414f41c6846c1dc74200f301": {
     "model_module": "@jupyter-widgets/controls",
     "model_name": "FloatProgressModel",
     "state": {
      "_dom_classes": [],
      "_model_module": "@jupyter-widgets/controls",
      "_model_module_version": "1.5.0",
      "_model_name": "FloatProgressModel",
      "_view_count": null,
      "_view_module": "@jupyter-widgets/controls",
      "_view_module_version": "1.5.0",
      "_view_name": "ProgressView",
      "bar_style": "success",
      "description": "",
      "description_tooltip": null,
      "layout": "IPY_MODEL_4800749f8151430c8cc49570cd4ccaf7",
      "max": 1,
      "min": 0,
      "orientation": "horizontal",
      "style": "IPY_MODEL_8365405f8a1c4d178b5ab5cd9d905e32",
      "value": 1
     }
    },
    "fb5c1e7223ac4634a16c161784505836": {
     "model_module": "@jupyter-widgets/controls",
     "model_name": "HBoxModel",
     "state": {
      "_dom_classes": [],
      "_model_module": "@jupyter-widgets/controls",
      "_model_module_version": "1.5.0",
      "_model_name": "HBoxModel",
      "_view_count": null,
      "_view_module": "@jupyter-widgets/controls",
      "_view_module_version": "1.5.0",
      "_view_name": "HBoxView",
      "box_style": "",
      "children": [
       "IPY_MODEL_471a09375e984a31824b27e279a6c4f3",
       "IPY_MODEL_27deb6f565ac4447a44770288071a0b8"
      ],
      "layout": "IPY_MODEL_7475bb3748de434eae59ef85715514da"
     }
    },
    "fca884b72b1946cd8403edac7d41924e": {
     "model_module": "@jupyter-widgets/base",
     "model_name": "LayoutModel",
     "state": {
      "_model_module": "@jupyter-widgets/base",
      "_model_module_version": "1.2.0",
      "_model_name": "LayoutModel",
      "_view_count": null,
      "_view_module": "@jupyter-widgets/base",
      "_view_module_version": "1.2.0",
      "_view_name": "LayoutView",
      "align_content": null,
      "align_items": null,
      "align_self": null,
      "border": null,
      "bottom": null,
      "display": null,
      "flex": null,
      "flex_flow": null,
      "grid_area": null,
      "grid_auto_columns": null,
      "grid_auto_flow": null,
      "grid_auto_rows": null,
      "grid_column": null,
      "grid_gap": null,
      "grid_row": null,
      "grid_template_areas": null,
      "grid_template_columns": null,
      "grid_template_rows": null,
      "height": null,
      "justify_content": null,
      "justify_items": null,
      "left": null,
      "margin": null,
      "max_height": null,
      "max_width": null,
      "min_height": null,
      "min_width": null,
      "object_fit": null,
      "object_position": null,
      "order": null,
      "overflow": null,
      "overflow_x": null,
      "overflow_y": null,
      "padding": null,
      "right": null,
      "top": null,
      "visibility": null,
      "width": null
     }
    },
    "ffc60b07ad704ea2afc0ac2c79c10c11": {
     "model_module": "@jupyter-widgets/controls",
     "model_name": "DescriptionStyleModel",
     "state": {
      "_model_module": "@jupyter-widgets/controls",
      "_model_module_version": "1.5.0",
      "_model_name": "DescriptionStyleModel",
      "_view_count": null,
      "_view_module": "@jupyter-widgets/base",
      "_view_module_version": "1.2.0",
      "_view_name": "StyleView",
      "description_width": ""
     }
    }
   }
  }
 },
 "nbformat": 4,
 "nbformat_minor": 4
}
