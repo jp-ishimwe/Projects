{
  "nbformat": 4,
  "nbformat_minor": 0,
  "metadata": {
    "colab": {
      "name": "T5-ftransfer_learning",
      "provenance": [],
      "collapsed_sections": [],
      "include_colab_link": true
    },
    "kernelspec": {
      "name": "python3",
      "display_name": "Python 3"
    },
    "accelerator": "GPU",
    "widgets": {
      "application/vnd.jupyter.widget-state+json": {
        "aa59dbf1348742868c526a5cd2881b28": {
          "model_module": "@jupyter-widgets/controls",
          "model_name": "HBoxModel",
          "state": {
            "_view_name": "HBoxView",
            "_dom_classes": [],
            "_model_name": "HBoxModel",
            "_view_module": "@jupyter-widgets/controls",
            "_model_module_version": "1.5.0",
            "_view_count": null,
            "_view_module_version": "1.5.0",
            "box_style": "",
            "layout": "IPY_MODEL_f3c1ebc2d36d4311940c75068d491dfd",
            "_model_module": "@jupyter-widgets/controls",
            "children": [
              "IPY_MODEL_bda49606b3254b45aa01aea5eacdccb9",
              "IPY_MODEL_495e64e746fb4ac5a3ebb93e72d80cf2"
            ]
          }
        },
        "f3c1ebc2d36d4311940c75068d491dfd": {
          "model_module": "@jupyter-widgets/base",
          "model_name": "LayoutModel",
          "state": {
            "_view_name": "LayoutView",
            "grid_template_rows": null,
            "right": null,
            "justify_content": null,
            "_view_module": "@jupyter-widgets/base",
            "overflow": null,
            "_model_module_version": "1.2.0",
            "_view_count": null,
            "flex_flow": null,
            "width": null,
            "min_width": null,
            "border": null,
            "align_items": null,
            "bottom": null,
            "_model_module": "@jupyter-widgets/base",
            "top": null,
            "grid_column": null,
            "overflow_y": null,
            "overflow_x": null,
            "grid_auto_flow": null,
            "grid_area": null,
            "grid_template_columns": null,
            "flex": null,
            "_model_name": "LayoutModel",
            "justify_items": null,
            "grid_row": null,
            "max_height": null,
            "align_content": null,
            "visibility": null,
            "align_self": null,
            "height": null,
            "min_height": null,
            "padding": null,
            "grid_auto_rows": null,
            "grid_gap": null,
            "max_width": null,
            "order": null,
            "_view_module_version": "1.2.0",
            "grid_template_areas": null,
            "object_position": null,
            "object_fit": null,
            "grid_auto_columns": null,
            "margin": null,
            "display": null,
            "left": null
          }
        },
        "bda49606b3254b45aa01aea5eacdccb9": {
          "model_module": "@jupyter-widgets/controls",
          "model_name": "FloatProgressModel",
          "state": {
            "_view_name": "ProgressView",
            "style": "IPY_MODEL_246eeb6e3e814185a92d51b933a6cf16",
            "_dom_classes": [],
            "description": "",
            "_model_name": "FloatProgressModel",
            "bar_style": "success",
            "max": 1,
            "_view_module": "@jupyter-widgets/controls",
            "_model_module_version": "1.5.0",
            "value": 1,
            "_view_count": null,
            "_view_module_version": "1.5.0",
            "orientation": "horizontal",
            "min": 0,
            "description_tooltip": null,
            "_model_module": "@jupyter-widgets/controls",
            "layout": "IPY_MODEL_a5b8c79b6fd34d62b0c804035fd792d4"
          }
        },
        "495e64e746fb4ac5a3ebb93e72d80cf2": {
          "model_module": "@jupyter-widgets/controls",
          "model_name": "HTMLModel",
          "state": {
            "_view_name": "HTMLView",
            "style": "IPY_MODEL_1a0b9019aa7a41298e993a61d3803b74",
            "_dom_classes": [],
            "description": "",
            "_model_name": "HTMLModel",
            "placeholder": "​",
            "_view_module": "@jupyter-widgets/controls",
            "_model_module_version": "1.5.0",
            "value": " 4/? [00:06&lt;00:00,  1.55s/it]",
            "_view_count": null,
            "_view_module_version": "1.5.0",
            "description_tooltip": null,
            "_model_module": "@jupyter-widgets/controls",
            "layout": "IPY_MODEL_761c5839d34445bbb39d713b2b1e1c7c"
          }
        },
        "246eeb6e3e814185a92d51b933a6cf16": {
          "model_module": "@jupyter-widgets/controls",
          "model_name": "ProgressStyleModel",
          "state": {
            "_view_name": "StyleView",
            "_model_name": "ProgressStyleModel",
            "description_width": "initial",
            "_view_module": "@jupyter-widgets/base",
            "_model_module_version": "1.5.0",
            "_view_count": null,
            "_view_module_version": "1.2.0",
            "bar_color": null,
            "_model_module": "@jupyter-widgets/controls"
          }
        },
        "a5b8c79b6fd34d62b0c804035fd792d4": {
          "model_module": "@jupyter-widgets/base",
          "model_name": "LayoutModel",
          "state": {
            "_view_name": "LayoutView",
            "grid_template_rows": null,
            "right": null,
            "justify_content": null,
            "_view_module": "@jupyter-widgets/base",
            "overflow": null,
            "_model_module_version": "1.2.0",
            "_view_count": null,
            "flex_flow": null,
            "width": null,
            "min_width": null,
            "border": null,
            "align_items": null,
            "bottom": null,
            "_model_module": "@jupyter-widgets/base",
            "top": null,
            "grid_column": null,
            "overflow_y": null,
            "overflow_x": null,
            "grid_auto_flow": null,
            "grid_area": null,
            "grid_template_columns": null,
            "flex": null,
            "_model_name": "LayoutModel",
            "justify_items": null,
            "grid_row": null,
            "max_height": null,
            "align_content": null,
            "visibility": null,
            "align_self": null,
            "height": null,
            "min_height": null,
            "padding": null,
            "grid_auto_rows": null,
            "grid_gap": null,
            "max_width": null,
            "order": null,
            "_view_module_version": "1.2.0",
            "grid_template_areas": null,
            "object_position": null,
            "object_fit": null,
            "grid_auto_columns": null,
            "margin": null,
            "display": null,
            "left": null
          }
        },
        "1a0b9019aa7a41298e993a61d3803b74": {
          "model_module": "@jupyter-widgets/controls",
          "model_name": "DescriptionStyleModel",
          "state": {
            "_view_name": "StyleView",
            "_model_name": "DescriptionStyleModel",
            "description_width": "",
            "_view_module": "@jupyter-widgets/base",
            "_model_module_version": "1.5.0",
            "_view_count": null,
            "_view_module_version": "1.2.0",
            "_model_module": "@jupyter-widgets/controls"
          }
        },
        "761c5839d34445bbb39d713b2b1e1c7c": {
          "model_module": "@jupyter-widgets/base",
          "model_name": "LayoutModel",
          "state": {
            "_view_name": "LayoutView",
            "grid_template_rows": null,
            "right": null,
            "justify_content": null,
            "_view_module": "@jupyter-widgets/base",
            "overflow": null,
            "_model_module_version": "1.2.0",
            "_view_count": null,
            "flex_flow": null,
            "width": null,
            "min_width": null,
            "border": null,
            "align_items": null,
            "bottom": null,
            "_model_module": "@jupyter-widgets/base",
            "top": null,
            "grid_column": null,
            "overflow_y": null,
            "overflow_x": null,
            "grid_auto_flow": null,
            "grid_area": null,
            "grid_template_columns": null,
            "flex": null,
            "_model_name": "LayoutModel",
            "justify_items": null,
            "grid_row": null,
            "max_height": null,
            "align_content": null,
            "visibility": null,
            "align_self": null,
            "height": null,
            "min_height": null,
            "padding": null,
            "grid_auto_rows": null,
            "grid_gap": null,
            "max_width": null,
            "order": null,
            "_view_module_version": "1.2.0",
            "grid_template_areas": null,
            "object_position": null,
            "object_fit": null,
            "grid_auto_columns": null,
            "margin": null,
            "display": null,
            "left": null
          }
        },
        "cb47163880b644e99674d508f1407349": {
          "model_module": "@jupyter-widgets/controls",
          "model_name": "HBoxModel",
          "state": {
            "_view_name": "HBoxView",
            "_dom_classes": [],
            "_model_name": "HBoxModel",
            "_view_module": "@jupyter-widgets/controls",
            "_model_module_version": "1.5.0",
            "_view_count": null,
            "_view_module_version": "1.5.0",
            "box_style": "",
            "layout": "IPY_MODEL_e94c000d5060445ca93691f6af42e70c",
            "_model_module": "@jupyter-widgets/controls",
            "children": [
              "IPY_MODEL_6e1089fcff4a4ad19de6fc9dfb87c171",
              "IPY_MODEL_c5b5410811de4ab59ff76737f353ce27"
            ]
          }
        },
        "e94c000d5060445ca93691f6af42e70c": {
          "model_module": "@jupyter-widgets/base",
          "model_name": "LayoutModel",
          "state": {
            "_view_name": "LayoutView",
            "grid_template_rows": null,
            "right": null,
            "justify_content": null,
            "_view_module": "@jupyter-widgets/base",
            "overflow": null,
            "_model_module_version": "1.2.0",
            "_view_count": null,
            "flex_flow": null,
            "width": null,
            "min_width": null,
            "border": null,
            "align_items": null,
            "bottom": null,
            "_model_module": "@jupyter-widgets/base",
            "top": null,
            "grid_column": null,
            "overflow_y": null,
            "overflow_x": null,
            "grid_auto_flow": null,
            "grid_area": null,
            "grid_template_columns": null,
            "flex": null,
            "_model_name": "LayoutModel",
            "justify_items": null,
            "grid_row": null,
            "max_height": null,
            "align_content": null,
            "visibility": null,
            "align_self": null,
            "height": null,
            "min_height": null,
            "padding": null,
            "grid_auto_rows": null,
            "grid_gap": null,
            "max_width": null,
            "order": null,
            "_view_module_version": "1.2.0",
            "grid_template_areas": null,
            "object_position": null,
            "object_fit": null,
            "grid_auto_columns": null,
            "margin": null,
            "display": null,
            "left": null
          }
        },
        "6e1089fcff4a4ad19de6fc9dfb87c171": {
          "model_module": "@jupyter-widgets/controls",
          "model_name": "FloatProgressModel",
          "state": {
            "_view_name": "ProgressView",
            "style": "IPY_MODEL_2f28dc0b45cc4b30acb85fecdc128397",
            "_dom_classes": [],
            "description": "",
            "_model_name": "FloatProgressModel",
            "bar_style": "success",
            "max": 1,
            "_view_module": "@jupyter-widgets/controls",
            "_model_module_version": "1.5.0",
            "value": 1,
            "_view_count": null,
            "_view_module_version": "1.5.0",
            "orientation": "horizontal",
            "min": 0,
            "description_tooltip": null,
            "_model_module": "@jupyter-widgets/controls",
            "layout": "IPY_MODEL_0551f8a91cb547948703416f5c200c93"
          }
        },
        "c5b5410811de4ab59ff76737f353ce27": {
          "model_module": "@jupyter-widgets/controls",
          "model_name": "HTMLModel",
          "state": {
            "_view_name": "HTMLView",
            "style": "IPY_MODEL_e8fbc6f859784253a0cf6fe88cc0d9ca",
            "_dom_classes": [],
            "description": "",
            "_model_name": "HTMLModel",
            "placeholder": "​",
            "_view_module": "@jupyter-widgets/controls",
            "_model_module_version": "1.5.0",
            "value": " 150/? [01:08&lt;00:00,  2.19it/s]",
            "_view_count": null,
            "_view_module_version": "1.5.0",
            "description_tooltip": null,
            "_model_module": "@jupyter-widgets/controls",
            "layout": "IPY_MODEL_cd662889ecd24a5fbfbf078039e270a8"
          }
        },
        "2f28dc0b45cc4b30acb85fecdc128397": {
          "model_module": "@jupyter-widgets/controls",
          "model_name": "ProgressStyleModel",
          "state": {
            "_view_name": "StyleView",
            "_model_name": "ProgressStyleModel",
            "description_width": "initial",
            "_view_module": "@jupyter-widgets/base",
            "_model_module_version": "1.5.0",
            "_view_count": null,
            "_view_module_version": "1.2.0",
            "bar_color": null,
            "_model_module": "@jupyter-widgets/controls"
          }
        },
        "0551f8a91cb547948703416f5c200c93": {
          "model_module": "@jupyter-widgets/base",
          "model_name": "LayoutModel",
          "state": {
            "_view_name": "LayoutView",
            "grid_template_rows": null,
            "right": null,
            "justify_content": null,
            "_view_module": "@jupyter-widgets/base",
            "overflow": null,
            "_model_module_version": "1.2.0",
            "_view_count": null,
            "flex_flow": null,
            "width": null,
            "min_width": null,
            "border": null,
            "align_items": null,
            "bottom": null,
            "_model_module": "@jupyter-widgets/base",
            "top": null,
            "grid_column": null,
            "overflow_y": null,
            "overflow_x": null,
            "grid_auto_flow": null,
            "grid_area": null,
            "grid_template_columns": null,
            "flex": null,
            "_model_name": "LayoutModel",
            "justify_items": null,
            "grid_row": null,
            "max_height": null,
            "align_content": null,
            "visibility": null,
            "align_self": null,
            "height": null,
            "min_height": null,
            "padding": null,
            "grid_auto_rows": null,
            "grid_gap": null,
            "max_width": null,
            "order": null,
            "_view_module_version": "1.2.0",
            "grid_template_areas": null,
            "object_position": null,
            "object_fit": null,
            "grid_auto_columns": null,
            "margin": null,
            "display": null,
            "left": null
          }
        },
        "e8fbc6f859784253a0cf6fe88cc0d9ca": {
          "model_module": "@jupyter-widgets/controls",
          "model_name": "DescriptionStyleModel",
          "state": {
            "_view_name": "StyleView",
            "_model_name": "DescriptionStyleModel",
            "description_width": "",
            "_view_module": "@jupyter-widgets/base",
            "_model_module_version": "1.5.0",
            "_view_count": null,
            "_view_module_version": "1.2.0",
            "_model_module": "@jupyter-widgets/controls"
          }
        },
        "cd662889ecd24a5fbfbf078039e270a8": {
          "model_module": "@jupyter-widgets/base",
          "model_name": "LayoutModel",
          "state": {
            "_view_name": "LayoutView",
            "grid_template_rows": null,
            "right": null,
            "justify_content": null,
            "_view_module": "@jupyter-widgets/base",
            "overflow": null,
            "_model_module_version": "1.2.0",
            "_view_count": null,
            "flex_flow": null,
            "width": null,
            "min_width": null,
            "border": null,
            "align_items": null,
            "bottom": null,
            "_model_module": "@jupyter-widgets/base",
            "top": null,
            "grid_column": null,
            "overflow_y": null,
            "overflow_x": null,
            "grid_auto_flow": null,
            "grid_area": null,
            "grid_template_columns": null,
            "flex": null,
            "_model_name": "LayoutModel",
            "justify_items": null,
            "grid_row": null,
            "max_height": null,
            "align_content": null,
            "visibility": null,
            "align_self": null,
            "height": null,
            "min_height": null,
            "padding": null,
            "grid_auto_rows": null,
            "grid_gap": null,
            "max_width": null,
            "order": null,
            "_view_module_version": "1.2.0",
            "grid_template_areas": null,
            "object_position": null,
            "object_fit": null,
            "grid_auto_columns": null,
            "margin": null,
            "display": null,
            "left": null
          }
        },
        "ddd0f5a0f838494daf3d0581081c3e86": {
          "model_module": "@jupyter-widgets/controls",
          "model_name": "HBoxModel",
          "state": {
            "_view_name": "HBoxView",
            "_dom_classes": [],
            "_model_name": "HBoxModel",
            "_view_module": "@jupyter-widgets/controls",
            "_model_module_version": "1.5.0",
            "_view_count": null,
            "_view_module_version": "1.5.0",
            "box_style": "",
            "layout": "IPY_MODEL_3856954e8b1e47a08fce9fff7a038027",
            "_model_module": "@jupyter-widgets/controls",
            "children": [
              "IPY_MODEL_f842c10d414f41c6846c1dc74200f301",
              "IPY_MODEL_a694fbafc40c41e98fe568668e4db732"
            ]
          }
        },
        "3856954e8b1e47a08fce9fff7a038027": {
          "model_module": "@jupyter-widgets/base",
          "model_name": "LayoutModel",
          "state": {
            "_view_name": "LayoutView",
            "grid_template_rows": null,
            "right": null,
            "justify_content": null,
            "_view_module": "@jupyter-widgets/base",
            "overflow": null,
            "_model_module_version": "1.2.0",
            "_view_count": null,
            "flex_flow": null,
            "width": null,
            "min_width": null,
            "border": null,
            "align_items": null,
            "bottom": null,
            "_model_module": "@jupyter-widgets/base",
            "top": null,
            "grid_column": null,
            "overflow_y": null,
            "overflow_x": null,
            "grid_auto_flow": null,
            "grid_area": null,
            "grid_template_columns": null,
            "flex": null,
            "_model_name": "LayoutModel",
            "justify_items": null,
            "grid_row": null,
            "max_height": null,
            "align_content": null,
            "visibility": null,
            "align_self": null,
            "height": null,
            "min_height": null,
            "padding": null,
            "grid_auto_rows": null,
            "grid_gap": null,
            "max_width": null,
            "order": null,
            "_view_module_version": "1.2.0",
            "grid_template_areas": null,
            "object_position": null,
            "object_fit": null,
            "grid_auto_columns": null,
            "margin": null,
            "display": null,
            "left": null
          }
        },
        "f842c10d414f41c6846c1dc74200f301": {
          "model_module": "@jupyter-widgets/controls",
          "model_name": "FloatProgressModel",
          "state": {
            "_view_name": "ProgressView",
            "style": "IPY_MODEL_8365405f8a1c4d178b5ab5cd9d905e32",
            "_dom_classes": [],
            "description": "",
            "_model_name": "FloatProgressModel",
            "bar_style": "success",
            "max": 1,
            "_view_module": "@jupyter-widgets/controls",
            "_model_module_version": "1.5.0",
            "value": 1,
            "_view_count": null,
            "_view_module_version": "1.5.0",
            "orientation": "horizontal",
            "min": 0,
            "description_tooltip": null,
            "_model_module": "@jupyter-widgets/controls",
            "layout": "IPY_MODEL_4800749f8151430c8cc49570cd4ccaf7"
          }
        },
        "a694fbafc40c41e98fe568668e4db732": {
          "model_module": "@jupyter-widgets/controls",
          "model_name": "HTMLModel",
          "state": {
            "_view_name": "HTMLView",
            "style": "IPY_MODEL_dc75ce283dff4270b9c537d4e057d416",
            "_dom_classes": [],
            "description": "",
            "_model_name": "HTMLModel",
            "placeholder": "​",
            "_view_module": "@jupyter-widgets/controls",
            "_model_module_version": "1.5.0",
            "value": " 150/? [01:11&lt;00:00,  2.10it/s]",
            "_view_count": null,
            "_view_module_version": "1.5.0",
            "description_tooltip": null,
            "_model_module": "@jupyter-widgets/controls",
            "layout": "IPY_MODEL_992143ed056d4a23afff16b83c514432"
          }
        },
        "8365405f8a1c4d178b5ab5cd9d905e32": {
          "model_module": "@jupyter-widgets/controls",
          "model_name": "ProgressStyleModel",
          "state": {
            "_view_name": "StyleView",
            "_model_name": "ProgressStyleModel",
            "description_width": "initial",
            "_view_module": "@jupyter-widgets/base",
            "_model_module_version": "1.5.0",
            "_view_count": null,
            "_view_module_version": "1.2.0",
            "bar_color": null,
            "_model_module": "@jupyter-widgets/controls"
          }
        },
        "4800749f8151430c8cc49570cd4ccaf7": {
          "model_module": "@jupyter-widgets/base",
          "model_name": "LayoutModel",
          "state": {
            "_view_name": "LayoutView",
            "grid_template_rows": null,
            "right": null,
            "justify_content": null,
            "_view_module": "@jupyter-widgets/base",
            "overflow": null,
            "_model_module_version": "1.2.0",
            "_view_count": null,
            "flex_flow": null,
            "width": null,
            "min_width": null,
            "border": null,
            "align_items": null,
            "bottom": null,
            "_model_module": "@jupyter-widgets/base",
            "top": null,
            "grid_column": null,
            "overflow_y": null,
            "overflow_x": null,
            "grid_auto_flow": null,
            "grid_area": null,
            "grid_template_columns": null,
            "flex": null,
            "_model_name": "LayoutModel",
            "justify_items": null,
            "grid_row": null,
            "max_height": null,
            "align_content": null,
            "visibility": null,
            "align_self": null,
            "height": null,
            "min_height": null,
            "padding": null,
            "grid_auto_rows": null,
            "grid_gap": null,
            "max_width": null,
            "order": null,
            "_view_module_version": "1.2.0",
            "grid_template_areas": null,
            "object_position": null,
            "object_fit": null,
            "grid_auto_columns": null,
            "margin": null,
            "display": null,
            "left": null
          }
        },
        "dc75ce283dff4270b9c537d4e057d416": {
          "model_module": "@jupyter-widgets/controls",
          "model_name": "DescriptionStyleModel",
          "state": {
            "_view_name": "StyleView",
            "_model_name": "DescriptionStyleModel",
            "description_width": "",
            "_view_module": "@jupyter-widgets/base",
            "_model_module_version": "1.5.0",
            "_view_count": null,
            "_view_module_version": "1.2.0",
            "_model_module": "@jupyter-widgets/controls"
          }
        },
        "992143ed056d4a23afff16b83c514432": {
          "model_module": "@jupyter-widgets/base",
          "model_name": "LayoutModel",
          "state": {
            "_view_name": "LayoutView",
            "grid_template_rows": null,
            "right": null,
            "justify_content": null,
            "_view_module": "@jupyter-widgets/base",
            "overflow": null,
            "_model_module_version": "1.2.0",
            "_view_count": null,
            "flex_flow": null,
            "width": null,
            "min_width": null,
            "border": null,
            "align_items": null,
            "bottom": null,
            "_model_module": "@jupyter-widgets/base",
            "top": null,
            "grid_column": null,
            "overflow_y": null,
            "overflow_x": null,
            "grid_auto_flow": null,
            "grid_area": null,
            "grid_template_columns": null,
            "flex": null,
            "_model_name": "LayoutModel",
            "justify_items": null,
            "grid_row": null,
            "max_height": null,
            "align_content": null,
            "visibility": null,
            "align_self": null,
            "height": null,
            "min_height": null,
            "padding": null,
            "grid_auto_rows": null,
            "grid_gap": null,
            "max_width": null,
            "order": null,
            "_view_module_version": "1.2.0",
            "grid_template_areas": null,
            "object_position": null,
            "object_fit": null,
            "grid_auto_columns": null,
            "margin": null,
            "display": null,
            "left": null
          }
        },
        "dffe3b78e72e4c309bda155884c2c7a7": {
          "model_module": "@jupyter-widgets/controls",
          "model_name": "HBoxModel",
          "state": {
            "_view_name": "HBoxView",
            "_dom_classes": [],
            "_model_name": "HBoxModel",
            "_view_module": "@jupyter-widgets/controls",
            "_model_module_version": "1.5.0",
            "_view_count": null,
            "_view_module_version": "1.5.0",
            "box_style": "",
            "layout": "IPY_MODEL_00632d7b23cc45f59515669601334fcd",
            "_model_module": "@jupyter-widgets/controls",
            "children": [
              "IPY_MODEL_d9fb635e32cd4ed4bcddf6574de80b1b",
              "IPY_MODEL_1523672396354424b0658ce14786fbd2"
            ]
          }
        },
        "00632d7b23cc45f59515669601334fcd": {
          "model_module": "@jupyter-widgets/base",
          "model_name": "LayoutModel",
          "state": {
            "_view_name": "LayoutView",
            "grid_template_rows": null,
            "right": null,
            "justify_content": null,
            "_view_module": "@jupyter-widgets/base",
            "overflow": null,
            "_model_module_version": "1.2.0",
            "_view_count": null,
            "flex_flow": null,
            "width": null,
            "min_width": null,
            "border": null,
            "align_items": null,
            "bottom": null,
            "_model_module": "@jupyter-widgets/base",
            "top": null,
            "grid_column": null,
            "overflow_y": null,
            "overflow_x": null,
            "grid_auto_flow": null,
            "grid_area": null,
            "grid_template_columns": null,
            "flex": null,
            "_model_name": "LayoutModel",
            "justify_items": null,
            "grid_row": null,
            "max_height": null,
            "align_content": null,
            "visibility": null,
            "align_self": null,
            "height": null,
            "min_height": null,
            "padding": null,
            "grid_auto_rows": null,
            "grid_gap": null,
            "max_width": null,
            "order": null,
            "_view_module_version": "1.2.0",
            "grid_template_areas": null,
            "object_position": null,
            "object_fit": null,
            "grid_auto_columns": null,
            "margin": null,
            "display": null,
            "left": null
          }
        },
        "d9fb635e32cd4ed4bcddf6574de80b1b": {
          "model_module": "@jupyter-widgets/controls",
          "model_name": "FloatProgressModel",
          "state": {
            "_view_name": "ProgressView",
            "style": "IPY_MODEL_273de981090749b29ce385706c449722",
            "_dom_classes": [],
            "description": "",
            "_model_name": "FloatProgressModel",
            "bar_style": "success",
            "max": 1,
            "_view_module": "@jupyter-widgets/controls",
            "_model_module_version": "1.5.0",
            "value": 1,
            "_view_count": null,
            "_view_module_version": "1.5.0",
            "orientation": "horizontal",
            "min": 0,
            "description_tooltip": null,
            "_model_module": "@jupyter-widgets/controls",
            "layout": "IPY_MODEL_3353a6712b3a482d8907ca80a0824020"
          }
        },
        "1523672396354424b0658ce14786fbd2": {
          "model_module": "@jupyter-widgets/controls",
          "model_name": "HTMLModel",
          "state": {
            "_view_name": "HTMLView",
            "style": "IPY_MODEL_ffc60b07ad704ea2afc0ac2c79c10c11",
            "_dom_classes": [],
            "description": "",
            "_model_name": "HTMLModel",
            "placeholder": "​",
            "_view_module": "@jupyter-widgets/controls",
            "_model_module_version": "1.5.0",
            "value": " 150/? [01:24&lt;00:00,  1.77it/s]",
            "_view_count": null,
            "_view_module_version": "1.5.0",
            "description_tooltip": null,
            "_model_module": "@jupyter-widgets/controls",
            "layout": "IPY_MODEL_864cb033af344f22b288a320088ec71c"
          }
        },
        "273de981090749b29ce385706c449722": {
          "model_module": "@jupyter-widgets/controls",
          "model_name": "ProgressStyleModel",
          "state": {
            "_view_name": "StyleView",
            "_model_name": "ProgressStyleModel",
            "description_width": "initial",
            "_view_module": "@jupyter-widgets/base",
            "_model_module_version": "1.5.0",
            "_view_count": null,
            "_view_module_version": "1.2.0",
            "bar_color": null,
            "_model_module": "@jupyter-widgets/controls"
          }
        },
        "3353a6712b3a482d8907ca80a0824020": {
          "model_module": "@jupyter-widgets/base",
          "model_name": "LayoutModel",
          "state": {
            "_view_name": "LayoutView",
            "grid_template_rows": null,
            "right": null,
            "justify_content": null,
            "_view_module": "@jupyter-widgets/base",
            "overflow": null,
            "_model_module_version": "1.2.0",
            "_view_count": null,
            "flex_flow": null,
            "width": null,
            "min_width": null,
            "border": null,
            "align_items": null,
            "bottom": null,
            "_model_module": "@jupyter-widgets/base",
            "top": null,
            "grid_column": null,
            "overflow_y": null,
            "overflow_x": null,
            "grid_auto_flow": null,
            "grid_area": null,
            "grid_template_columns": null,
            "flex": null,
            "_model_name": "LayoutModel",
            "justify_items": null,
            "grid_row": null,
            "max_height": null,
            "align_content": null,
            "visibility": null,
            "align_self": null,
            "height": null,
            "min_height": null,
            "padding": null,
            "grid_auto_rows": null,
            "grid_gap": null,
            "max_width": null,
            "order": null,
            "_view_module_version": "1.2.0",
            "grid_template_areas": null,
            "object_position": null,
            "object_fit": null,
            "grid_auto_columns": null,
            "margin": null,
            "display": null,
            "left": null
          }
        },
        "ffc60b07ad704ea2afc0ac2c79c10c11": {
          "model_module": "@jupyter-widgets/controls",
          "model_name": "DescriptionStyleModel",
          "state": {
            "_view_name": "StyleView",
            "_model_name": "DescriptionStyleModel",
            "description_width": "",
            "_view_module": "@jupyter-widgets/base",
            "_model_module_version": "1.5.0",
            "_view_count": null,
            "_view_module_version": "1.2.0",
            "_model_module": "@jupyter-widgets/controls"
          }
        },
        "864cb033af344f22b288a320088ec71c": {
          "model_module": "@jupyter-widgets/base",
          "model_name": "LayoutModel",
          "state": {
            "_view_name": "LayoutView",
            "grid_template_rows": null,
            "right": null,
            "justify_content": null,
            "_view_module": "@jupyter-widgets/base",
            "overflow": null,
            "_model_module_version": "1.2.0",
            "_view_count": null,
            "flex_flow": null,
            "width": null,
            "min_width": null,
            "border": null,
            "align_items": null,
            "bottom": null,
            "_model_module": "@jupyter-widgets/base",
            "top": null,
            "grid_column": null,
            "overflow_y": null,
            "overflow_x": null,
            "grid_auto_flow": null,
            "grid_area": null,
            "grid_template_columns": null,
            "flex": null,
            "_model_name": "LayoutModel",
            "justify_items": null,
            "grid_row": null,
            "max_height": null,
            "align_content": null,
            "visibility": null,
            "align_self": null,
            "height": null,
            "min_height": null,
            "padding": null,
            "grid_auto_rows": null,
            "grid_gap": null,
            "max_width": null,
            "order": null,
            "_view_module_version": "1.2.0",
            "grid_template_areas": null,
            "object_position": null,
            "object_fit": null,
            "grid_auto_columns": null,
            "margin": null,
            "display": null,
            "left": null
          }
        },
        "2d96618428094902b80450d649566a66": {
          "model_module": "@jupyter-widgets/controls",
          "model_name": "HBoxModel",
          "state": {
            "_view_name": "HBoxView",
            "_dom_classes": [],
            "_model_name": "HBoxModel",
            "_view_module": "@jupyter-widgets/controls",
            "_model_module_version": "1.5.0",
            "_view_count": null,
            "_view_module_version": "1.5.0",
            "box_style": "",
            "layout": "IPY_MODEL_c7a670342db348f0b703a95438137574",
            "_model_module": "@jupyter-widgets/controls",
            "children": [
              "IPY_MODEL_a33ce8bb19284323a89a317403263c0d",
              "IPY_MODEL_90937a3fdc314010948a13e9e2c70e40"
            ]
          }
        },
        "c7a670342db348f0b703a95438137574": {
          "model_module": "@jupyter-widgets/base",
          "model_name": "LayoutModel",
          "state": {
            "_view_name": "LayoutView",
            "grid_template_rows": null,
            "right": null,
            "justify_content": null,
            "_view_module": "@jupyter-widgets/base",
            "overflow": null,
            "_model_module_version": "1.2.0",
            "_view_count": null,
            "flex_flow": null,
            "width": null,
            "min_width": null,
            "border": null,
            "align_items": null,
            "bottom": null,
            "_model_module": "@jupyter-widgets/base",
            "top": null,
            "grid_column": null,
            "overflow_y": null,
            "overflow_x": null,
            "grid_auto_flow": null,
            "grid_area": null,
            "grid_template_columns": null,
            "flex": null,
            "_model_name": "LayoutModel",
            "justify_items": null,
            "grid_row": null,
            "max_height": null,
            "align_content": null,
            "visibility": null,
            "align_self": null,
            "height": null,
            "min_height": null,
            "padding": null,
            "grid_auto_rows": null,
            "grid_gap": null,
            "max_width": null,
            "order": null,
            "_view_module_version": "1.2.0",
            "grid_template_areas": null,
            "object_position": null,
            "object_fit": null,
            "grid_auto_columns": null,
            "margin": null,
            "display": null,
            "left": null
          }
        },
        "a33ce8bb19284323a89a317403263c0d": {
          "model_module": "@jupyter-widgets/controls",
          "model_name": "FloatProgressModel",
          "state": {
            "_view_name": "ProgressView",
            "style": "IPY_MODEL_b506bbd1464b407980a6ef55a7819828",
            "_dom_classes": [],
            "description": "",
            "_model_name": "FloatProgressModel",
            "bar_style": "success",
            "max": 1,
            "_view_module": "@jupyter-widgets/controls",
            "_model_module_version": "1.5.0",
            "value": 1,
            "_view_count": null,
            "_view_module_version": "1.5.0",
            "orientation": "horizontal",
            "min": 0,
            "description_tooltip": null,
            "_model_module": "@jupyter-widgets/controls",
            "layout": "IPY_MODEL_a2026ad15de541eebf332cb4ce4e1ad2"
          }
        },
        "90937a3fdc314010948a13e9e2c70e40": {
          "model_module": "@jupyter-widgets/controls",
          "model_name": "HTMLModel",
          "state": {
            "_view_name": "HTMLView",
            "style": "IPY_MODEL_a56cd84f576841259aace5b34b0efda7",
            "_dom_classes": [],
            "description": "",
            "_model_name": "HTMLModel",
            "placeholder": "​",
            "_view_module": "@jupyter-widgets/controls",
            "_model_module_version": "1.5.0",
            "value": " 150/? [01:08&lt;00:00,  2.19it/s]",
            "_view_count": null,
            "_view_module_version": "1.5.0",
            "description_tooltip": null,
            "_model_module": "@jupyter-widgets/controls",
            "layout": "IPY_MODEL_2004cd6b66034fdda39e09c4ea44b3ce"
          }
        },
        "b506bbd1464b407980a6ef55a7819828": {
          "model_module": "@jupyter-widgets/controls",
          "model_name": "ProgressStyleModel",
          "state": {
            "_view_name": "StyleView",
            "_model_name": "ProgressStyleModel",
            "description_width": "initial",
            "_view_module": "@jupyter-widgets/base",
            "_model_module_version": "1.5.0",
            "_view_count": null,
            "_view_module_version": "1.2.0",
            "bar_color": null,
            "_model_module": "@jupyter-widgets/controls"
          }
        },
        "a2026ad15de541eebf332cb4ce4e1ad2": {
          "model_module": "@jupyter-widgets/base",
          "model_name": "LayoutModel",
          "state": {
            "_view_name": "LayoutView",
            "grid_template_rows": null,
            "right": null,
            "justify_content": null,
            "_view_module": "@jupyter-widgets/base",
            "overflow": null,
            "_model_module_version": "1.2.0",
            "_view_count": null,
            "flex_flow": null,
            "width": null,
            "min_width": null,
            "border": null,
            "align_items": null,
            "bottom": null,
            "_model_module": "@jupyter-widgets/base",
            "top": null,
            "grid_column": null,
            "overflow_y": null,
            "overflow_x": null,
            "grid_auto_flow": null,
            "grid_area": null,
            "grid_template_columns": null,
            "flex": null,
            "_model_name": "LayoutModel",
            "justify_items": null,
            "grid_row": null,
            "max_height": null,
            "align_content": null,
            "visibility": null,
            "align_self": null,
            "height": null,
            "min_height": null,
            "padding": null,
            "grid_auto_rows": null,
            "grid_gap": null,
            "max_width": null,
            "order": null,
            "_view_module_version": "1.2.0",
            "grid_template_areas": null,
            "object_position": null,
            "object_fit": null,
            "grid_auto_columns": null,
            "margin": null,
            "display": null,
            "left": null
          }
        },
        "a56cd84f576841259aace5b34b0efda7": {
          "model_module": "@jupyter-widgets/controls",
          "model_name": "DescriptionStyleModel",
          "state": {
            "_view_name": "StyleView",
            "_model_name": "DescriptionStyleModel",
            "description_width": "",
            "_view_module": "@jupyter-widgets/base",
            "_model_module_version": "1.5.0",
            "_view_count": null,
            "_view_module_version": "1.2.0",
            "_model_module": "@jupyter-widgets/controls"
          }
        },
        "2004cd6b66034fdda39e09c4ea44b3ce": {
          "model_module": "@jupyter-widgets/base",
          "model_name": "LayoutModel",
          "state": {
            "_view_name": "LayoutView",
            "grid_template_rows": null,
            "right": null,
            "justify_content": null,
            "_view_module": "@jupyter-widgets/base",
            "overflow": null,
            "_model_module_version": "1.2.0",
            "_view_count": null,
            "flex_flow": null,
            "width": null,
            "min_width": null,
            "border": null,
            "align_items": null,
            "bottom": null,
            "_model_module": "@jupyter-widgets/base",
            "top": null,
            "grid_column": null,
            "overflow_y": null,
            "overflow_x": null,
            "grid_auto_flow": null,
            "grid_area": null,
            "grid_template_columns": null,
            "flex": null,
            "_model_name": "LayoutModel",
            "justify_items": null,
            "grid_row": null,
            "max_height": null,
            "align_content": null,
            "visibility": null,
            "align_self": null,
            "height": null,
            "min_height": null,
            "padding": null,
            "grid_auto_rows": null,
            "grid_gap": null,
            "max_width": null,
            "order": null,
            "_view_module_version": "1.2.0",
            "grid_template_areas": null,
            "object_position": null,
            "object_fit": null,
            "grid_auto_columns": null,
            "margin": null,
            "display": null,
            "left": null
          }
        }
      }
    }
  },
  "cells": [
    {
      "cell_type": "markdown",
      "metadata": {
        "id": "view-in-github",
        "colab_type": "text"
      },
      "source": [
        "<a href=\"https://colab.research.google.com/github/jp-ishimwe/Projects/blob/master/T5_ftransfer_learning.ipynb\" target=\"_parent\"><img src=\"https://colab.research.google.com/assets/colab-badge.svg\" alt=\"Open In Colab\"/></a>"
      ]
    },
    {
      "cell_type": "code",
      "metadata": {
        "id": "vxxkIi-xDrUz",
        "colab_type": "code",
        "colab": {}
      },
      "source": [
        "#@title Import packages { run: \"auto\", vertical-output: true, display-mode: \"both\" }\n",
        "from __future__ import unicode_literals, print_function, division\n",
        "from io import open\n",
        "import unicodedata\n",
        "import string\n",
        "import re\n",
        "import random\n",
        "import pandas as pd\n",
        "import numpy as np\n",
        "from collections import defaultdict\n",
        "from sklearn.base import BaseEstimator, TransformerMixin\n",
        "import progressbar\n",
        "from tqdm.notebook import tqdm\n",
        "from sklearn.model_selection import train_test_split\n",
        "import pickle\n",
        "import dill\n",
        "\n",
        "\n",
        "!pip install transformers -q\n",
        "\n",
        "import torch\n",
        "import torch.nn as nn\n",
        "import torch.optim as optim\n",
        "import torch.nn.functional as F\n",
        "from transformers import T5Tokenizer, T5ForConditionalGeneration\n",
        "from torch.utils.data import Dataset, DataLoader\n",
        "from torch.optim.lr_scheduler import ReduceLROnPlateau\n",
        "\n",
        "\n",
        "import warnings\n",
        "warnings.filterwarnings('ignore')\n",
        "\n",
        "SEED = 1234\n",
        "\n",
        "random.seed(SEED)\n",
        "np.random.seed(SEED)\n",
        "torch.manual_seed(SEED)\n",
        "torch.backends.cudnn.deterministic = True\n"
      ],
      "execution_count": null,
      "outputs": []
    },
    {
      "cell_type": "code",
      "metadata": {
        "id": "LME26NCmM8ne",
        "colab_type": "code",
        "colab": {
          "base_uri": "https://localhost:8080/",
          "height": 54
        },
        "outputId": "88f23260-726f-4c39-b8cf-2e69f1c6cac6"
      },
      "source": [
        "from google.colab import drive\n",
        "drive.mount('/content/drive')"
      ],
      "execution_count": null,
      "outputs": [
        {
          "output_type": "stream",
          "text": [
            "Drive already mounted at /content/drive; to attempt to forcibly remount, call drive.mount(\"/content/drive\", force_remount=True).\n"
          ],
          "name": "stdout"
        }
      ]
    },
    {
      "cell_type": "code",
      "metadata": {
        "id": "-t7E9fLj8Zjd",
        "colab_type": "code",
        "colab": {}
      },
      "source": [
        "#!cp '/content/drive/My Drive/Colab Notebooks/optimizers.py' .\n",
        "\n",
        "from optimizers import AdaFactor"
      ],
      "execution_count": null,
      "outputs": []
    },
    {
      "cell_type": "code",
      "metadata": {
        "id": "7rF67H7GnK2U",
        "colab_type": "code",
        "colab": {
          "base_uri": "https://localhost:8080/",
          "height": 439
        },
        "outputId": "66ec1de6-eea8-4141-f167-1ae0880a0e1a"
      },
      "source": [
        "!nvidia-smi\n",
        "!/usr/local/cuda/bin/nvcc --version"
      ],
      "execution_count": null,
      "outputs": [
        {
          "output_type": "stream",
          "text": [
            "Wed Jul 15 14:31:45 2020       \n",
            "+-----------------------------------------------------------------------------+\n",
            "| NVIDIA-SMI 450.51.05    Driver Version: 418.67       CUDA Version: 10.1     |\n",
            "|-------------------------------+----------------------+----------------------+\n",
            "| GPU  Name        Persistence-M| Bus-Id        Disp.A | Volatile Uncorr. ECC |\n",
            "| Fan  Temp  Perf  Pwr:Usage/Cap|         Memory-Usage | GPU-Util  Compute M. |\n",
            "|                               |                      |               MIG M. |\n",
            "|===============================+======================+======================|\n",
            "|   0  Tesla K80           Off  | 00000000:00:04.0 Off |                    0 |\n",
            "| N/A   73C    P8    32W / 149W |     11MiB / 11441MiB |      0%      Default |\n",
            "|                               |                      |                 ERR! |\n",
            "+-------------------------------+----------------------+----------------------+\n",
            "                                                                               \n",
            "+-----------------------------------------------------------------------------+\n",
            "| Processes:                                                                  |\n",
            "|  GPU   GI   CI        PID   Type   Process name                  GPU Memory |\n",
            "|        ID   ID                                                   Usage      |\n",
            "|=============================================================================|\n",
            "|  No running processes found                                                 |\n",
            "+-----------------------------------------------------------------------------+\n",
            "nvcc: NVIDIA (R) Cuda compiler driver\n",
            "Copyright (c) 2005-2019 NVIDIA Corporation\n",
            "Built on Sun_Jul_28_19:07:16_PDT_2019\n",
            "Cuda compilation tools, release 10.1, V10.1.243\n"
          ],
          "name": "stdout"
        }
      ]
    },
    {
      "cell_type": "code",
      "metadata": {
        "id": "1g1xKdoCnMAq",
        "colab_type": "code",
        "colab": {
          "base_uri": "https://localhost:8080/",
          "height": 34
        },
        "outputId": "3f12939d-8d1f-4b2f-e63e-7fd819764ab4"
      },
      "source": [
        "#@title To proceed should be cuda { run: \"auto\", vertical-output: true }\n",
        "CUDA = torch.cuda.is_available()\n",
        "device = torch.device(\"cuda\" if CUDA else \"cpu\")\n",
        "print(device)"
      ],
      "execution_count": null,
      "outputs": [
        {
          "output_type": "stream",
          "text": [
            "cuda\n"
          ],
          "name": "stdout"
        }
      ]
    },
    {
      "cell_type": "markdown",
      "metadata": {
        "id": "1jvIoL5I0Eb5",
        "colab_type": "text"
      },
      "source": [
        "#### Getting dataset"
      ]
    },
    {
      "cell_type": "markdown",
      "metadata": {
        "id": "wGVOHhrk0GOP",
        "colab_type": "text"
      },
      "source": [
        "You can find the dataset [here](https://github.com/mahnazkoupaee/WikiHow-Dataset)"
      ]
    },
    {
      "cell_type": "markdown",
      "metadata": {
        "id": "zkDYkbKV0SUM",
        "colab_type": "text"
      },
      "source": [
        "**Loading data**"
      ]
    },
    {
      "cell_type": "code",
      "metadata": {
        "id": "5sAQxsN4M8k-",
        "colab_type": "code",
        "colab": {
          "base_uri": "https://localhost:8080/",
          "height": 34
        },
        "outputId": "39d9ada0-bd43-4c2c-d888-e3aea341affb"
      },
      "source": [
        "with open('/content/drive/My Drive/Colab Notebooks/wikihowAll.csv') as f:\n",
        "  wikihowAll = pd.read_csv(f)\n",
        "print(f'The size of data:{wikihowAll.shape}')"
      ],
      "execution_count": null,
      "outputs": [
        {
          "output_type": "stream",
          "text": [
            "The size of data:(215365, 3)\n"
          ],
          "name": "stdout"
        }
      ]
    },
    {
      "cell_type": "code",
      "metadata": {
        "id": "eia69USAvek8",
        "colab_type": "code",
        "colab": {
          "base_uri": "https://localhost:8080/",
          "height": 106
        },
        "outputId": "0915c7bd-638e-41b9-eea1-d481623a8c54"
      },
      "source": [
        "wikihowAll.head(2)"
      ],
      "execution_count": null,
      "outputs": [
        {
          "output_type": "execute_result",
          "data": {
            "text/html": [
              "<div>\n",
              "<style scoped>\n",
              "    .dataframe tbody tr th:only-of-type {\n",
              "        vertical-align: middle;\n",
              "    }\n",
              "\n",
              "    .dataframe tbody tr th {\n",
              "        vertical-align: top;\n",
              "    }\n",
              "\n",
              "    .dataframe thead th {\n",
              "        text-align: right;\n",
              "    }\n",
              "</style>\n",
              "<table border=\"1\" class=\"dataframe\">\n",
              "  <thead>\n",
              "    <tr style=\"text-align: right;\">\n",
              "      <th></th>\n",
              "      <th>headline</th>\n",
              "      <th>title</th>\n",
              "      <th>text</th>\n",
              "    </tr>\n",
              "  </thead>\n",
              "  <tbody>\n",
              "    <tr>\n",
              "      <th>0</th>\n",
              "      <td>\\nKeep related supplies in the same area.,\\nMa...</td>\n",
              "      <td>How to Be an Organized Artist1</td>\n",
              "      <td>If you're a photographer, keep all the necess...</td>\n",
              "    </tr>\n",
              "    <tr>\n",
              "      <th>1</th>\n",
              "      <td>\\nCreate a sketch in the NeoPopRealist manner ...</td>\n",
              "      <td>How to Create a Neopoprealist Art Work</td>\n",
              "      <td>See the image for how this drawing develops s...</td>\n",
              "    </tr>\n",
              "  </tbody>\n",
              "</table>\n",
              "</div>"
            ],
            "text/plain": [
              "                                            headline  ...                                               text\n",
              "0  \\nKeep related supplies in the same area.,\\nMa...  ...   If you're a photographer, keep all the necess...\n",
              "1  \\nCreate a sketch in the NeoPopRealist manner ...  ...   See the image for how this drawing develops s...\n",
              "\n",
              "[2 rows x 3 columns]"
            ]
          },
          "metadata": {
            "tags": []
          },
          "execution_count": 8
        }
      ]
    },
    {
      "cell_type": "code",
      "metadata": {
        "id": "JX6clAc9wHuy",
        "colab_type": "code",
        "colab": {}
      },
      "source": [
        "contraction = {\"isn't\": \"is not\", \"aren't\": \"are not\",\"can't\": \"cannot\", \"could've\": \"could have\", \"couldn't\": \"could not\",\n",
        "                           \"didn't\": \"did not\", \"doesn't\": \"does not\", \"don't\": \"do not\", \"hadn't\": \"had not\", \"hasn't\": \"has not\", \"haven't\": \"have not\",\n",
        "                           \"he'd\": \"he would\",\"he'll\": \"he will\", \"he's\": \"he is\", \"how'd\": \"how did\", \"how'd'y\": \"how do you\", \"how'll\": \"how will\", \"how's\": \"how is\",\n",
        "                           \"I'd\": \"I would\", \"I'd've\": \"I would have\", \"I'll\": \"I will\", \"I'll've\": \"I will have\",\"I'm\": \"I am\", \"I've\": \"I have\", \"i'd\": \"i would\",\n",
        "                           \"i'd've\": \"i would have\", \"i'll\": \"i will\",  \"i'll've\": \"i will have\",\"i'm\": \"i am\", \"i've\": \"i have\", \"isn't\": \"is not\", \"it'd\": \"it would\",\n",
        "                           \"it'd've\": \"it would have\", \"it'll\": \"it will\", \"it'll've\": \"it will have\",\"it's\": \"it is\", \"let's\": \"let us\", \"ma'am\": \"madam\",\n",
        "                           \"mayn't\": \"may not\", \"might've\": \"might have\",\"mightn't\": \"might not\",\"mightn't've\": \"might not have\", \"must've\": \"must have\",\n",
        "                           \"mustn't\": \"must not\", \"mustn't've\": \"must not have\", \"needn't\": \"need not\", \"needn't've\": \"need not have\",\"o'clock\": \"of the clock\",\n",
        "                           \"oughtn't\": \"ought not\", \"oughtn't've\": \"ought not have\", \"shan't\": \"shall not\", \"sha'n't\": \"shall not\", \"shan't've\": \"shall not have\",\n",
        "                           \"she'd\": \"she would\", \"she'd've\": \"she would have\", \"she'll\": \"she will\", \"she'll've\": \"she will have\", \"she's\": \"she is\",\n",
        "                           \"should've\": \"should have\", \"shouldn't\": \"should not\", \"shouldn't've\": \"should not have\", \"so've\": \"so have\",\"so's\": \"so as\",\n",
        "                           \"this's\": \"this is\",\"that'd\": \"that would\", \"that'd've\": \"that would have\", \"that's\": \"that is\", \"there'd\": \"there would\",\n",
        "                           \"there'd've\": \"there would have\", \"there's\": \"there is\", \"here's\": \"here is\",\"they'd\": \"they would\", \"they'd've\": \"they would have\",\n",
        "                           \"they'll\": \"they will\", \"they'll've\": \"they will have\", \"they're\": \"they are\", \"they've\": \"they have\", \"to've\": \"to have\",\n",
        "                           \"wasn't\": \"was not\", \"we'd\": \"we would\", \"we'd've\": \"we would have\", \"we'll\": \"we will\", \"we'll've\": \"we will have\", \"we're\": \"we are\",\n",
        "                           \"we've\": \"we have\", \"weren't\": \"were not\", \"what'll\": \"what will\", \"what'll've\": \"what will have\", \"what're\": \"what are\",\n",
        "                           \"what's\": \"what is\", \"what've\": \"what have\", \"when's\": \"when is\", \"when've\": \"when have\", \"where'd\": \"where did\", \"where's\": \"where is\",\n",
        "                           \"where've\": \"where have\", \"who'll\": \"who will\", \"who'll've\": \"who will have\", \"who's\": \"who is\", \"who've\": \"who have\",\n",
        "                           \"why's\": \"why is\", \"why've\": \"why have\", \"will've\": \"will have\", \"won't\": \"will not\", \"won't've\": \"will not have\",\n",
        "                           \"would've\": \"would have\", \"wouldn't\": \"would not\", \"wouldn't've\": \"would not have\", \"y'all\": \"you all\",\n",
        "                           \"y'all'd\": \"you all would\",\"y'all'd've\": \"you all would have\",\"y'all're\": \"you all are\",\"y'all've\": \"you all have\",\n",
        "                           \"you'd\": \"you would\", \"you'd've\": \"you would have\", \"you'll\": \"you will\", \"you ll\":\"you will\", \"you'll've\": \"you will have\",\n",
        "                           \"you're\": \"you are\", \"you re\": \"you are\" , \"you've\": \"you have\"}"
      ],
      "execution_count": null,
      "outputs": []
    },
    {
      "cell_type": "markdown",
      "metadata": {
        "id": "E38ktgfStkI9",
        "colab_type": "text"
      },
      "source": [
        "###### Checking for NA"
      ]
    },
    {
      "cell_type": "code",
      "metadata": {
        "id": "b-NTfClirfL3",
        "colab_type": "code",
        "colab": {
          "base_uri": "https://localhost:8080/",
          "height": 87
        },
        "outputId": "fe50e8cc-2b0f-4f49-b4e3-13fe161247a0"
      },
      "source": [
        "wikihowAll.isnull().sum()"
      ],
      "execution_count": null,
      "outputs": [
        {
          "output_type": "execute_result",
          "data": {
            "text/plain": [
              "headline     818\n",
              "title          1\n",
              "text        1071\n",
              "dtype: int64"
            ]
          },
          "metadata": {
            "tags": []
          },
          "execution_count": 10
        }
      ]
    },
    {
      "cell_type": "markdown",
      "metadata": {
        "id": "jF6jYdXItg7W",
        "colab_type": "text"
      },
      "source": [
        "we have 818 articles without summaries"
      ]
    },
    {
      "cell_type": "code",
      "metadata": {
        "id": "SOAJwnKks87U",
        "colab_type": "code",
        "colab": {}
      },
      "source": [
        "new_wikihowAll = wikihowAll[['text', 'headline']]\n",
        "new_wikihowAll = new_wikihowAll.dropna(how='all')"
      ],
      "execution_count": null,
      "outputs": []
    },
    {
      "cell_type": "code",
      "metadata": {
        "id": "KGJZY7L2tTWG",
        "colab_type": "code",
        "colab": {
          "base_uri": "https://localhost:8080/",
          "height": 70
        },
        "outputId": "a1e462d8-b4c8-4af4-9e77-2d26ffca9024"
      },
      "source": [
        "new_wikihowAll.isnull().sum()"
      ],
      "execution_count": null,
      "outputs": [
        {
          "output_type": "execute_result",
          "data": {
            "text/plain": [
              "text        253\n",
              "headline      0\n",
              "dtype: int64"
            ]
          },
          "metadata": {
            "tags": []
          },
          "execution_count": 12
        }
      ]
    },
    {
      "cell_type": "code",
      "metadata": {
        "id": "z6BJG-DsuQ4F",
        "colab_type": "code",
        "colab": {}
      },
      "source": [
        "indices = np.where(new_wikihowAll['text'].isna())"
      ],
      "execution_count": null,
      "outputs": []
    },
    {
      "cell_type": "code",
      "metadata": {
        "id": "GJ2ZXsLmuuIY",
        "colab_type": "code",
        "colab": {
          "base_uri": "https://localhost:8080/",
          "height": 402
        },
        "outputId": "a690a0c9-0c59-4c29-a056-9eb077f4eb3a"
      },
      "source": [
        "new_wikihowAll.iloc[indices]"
      ],
      "execution_count": null,
      "outputs": [
        {
          "output_type": "execute_result",
          "data": {
            "text/html": [
              "<div>\n",
              "<style scoped>\n",
              "    .dataframe tbody tr th:only-of-type {\n",
              "        vertical-align: middle;\n",
              "    }\n",
              "\n",
              "    .dataframe tbody tr th {\n",
              "        vertical-align: top;\n",
              "    }\n",
              "\n",
              "    .dataframe thead th {\n",
              "        text-align: right;\n",
              "    }\n",
              "</style>\n",
              "<table border=\"1\" class=\"dataframe\">\n",
              "  <thead>\n",
              "    <tr style=\"text-align: right;\">\n",
              "      <th></th>\n",
              "      <th>text</th>\n",
              "      <th>headline</th>\n",
              "    </tr>\n",
              "  </thead>\n",
              "  <tbody>\n",
              "    <tr>\n",
              "      <th>1492</th>\n",
              "      <td>NaN</td>\n",
              "      <td>Colour coordinate your looks (For all Events)\\n\\n</td>\n",
              "    </tr>\n",
              "    <tr>\n",
              "      <th>4328</th>\n",
              "      <td>NaN</td>\n",
              "      <td>\\nRecognize the following symptoms:\\n\\nBloatin...</td>\n",
              "    </tr>\n",
              "    <tr>\n",
              "      <th>7190</th>\n",
              "      <td>NaN</td>\n",
              "      <td>\\nAt each practice, teach all of your squad di...</td>\n",
              "    </tr>\n",
              "    <tr>\n",
              "      <th>7228</th>\n",
              "      <td>NaN</td>\n",
              "      <td>Understand that these directions assume the re...</td>\n",
              "    </tr>\n",
              "    <tr>\n",
              "      <th>7378</th>\n",
              "      <td>NaN</td>\n",
              "      <td>Dribble with your left or right hand, whicheve...</td>\n",
              "    </tr>\n",
              "    <tr>\n",
              "      <th>...</th>\n",
              "      <td>...</td>\n",
              "      <td>...</td>\n",
              "    </tr>\n",
              "    <tr>\n",
              "      <th>208605</th>\n",
              "      <td>NaN</td>\n",
              "      <td>\\nStretch each arm as far across your chest wh...</td>\n",
              "    </tr>\n",
              "    <tr>\n",
              "      <th>210787</th>\n",
              "      <td>NaN</td>\n",
              "      <td>\\nDownshift to a lower gear to get more power ...</td>\n",
              "    </tr>\n",
              "    <tr>\n",
              "      <th>212574</th>\n",
              "      <td>NaN</td>\n",
              "      <td>\\nThe next thing you need to do is show Invisi...</td>\n",
              "    </tr>\n",
              "    <tr>\n",
              "      <th>213977</th>\n",
              "      <td>NaN</td>\n",
              "      <td>\\nIt is the same as the chorus, but with the s...</td>\n",
              "    </tr>\n",
              "    <tr>\n",
              "      <th>214419</th>\n",
              "      <td>NaN</td>\n",
              "      <td>\\nLower the fifth 1/2 step (make the D into a ...</td>\n",
              "    </tr>\n",
              "  </tbody>\n",
              "</table>\n",
              "<p>253 rows × 2 columns</p>\n",
              "</div>"
            ],
            "text/plain": [
              "       text                                           headline\n",
              "1492    NaN  Colour coordinate your looks (For all Events)\\n\\n\n",
              "4328    NaN  \\nRecognize the following symptoms:\\n\\nBloatin...\n",
              "7190    NaN  \\nAt each practice, teach all of your squad di...\n",
              "7228    NaN  Understand that these directions assume the re...\n",
              "7378    NaN  Dribble with your left or right hand, whicheve...\n",
              "...     ...                                                ...\n",
              "208605  NaN  \\nStretch each arm as far across your chest wh...\n",
              "210787  NaN  \\nDownshift to a lower gear to get more power ...\n",
              "212574  NaN  \\nThe next thing you need to do is show Invisi...\n",
              "213977  NaN  \\nIt is the same as the chorus, but with the s...\n",
              "214419  NaN  \\nLower the fifth 1/2 step (make the D into a ...\n",
              "\n",
              "[253 rows x 2 columns]"
            ]
          },
          "metadata": {
            "tags": []
          },
          "execution_count": 12
        }
      ]
    },
    {
      "cell_type": "code",
      "metadata": {
        "id": "lNQP3dX3vzaD",
        "colab_type": "code",
        "colab": {
          "base_uri": "https://localhost:8080/",
          "height": 70
        },
        "outputId": "ad21ed3c-0ba2-4569-def1-bb2e5fc2100e"
      },
      "source": [
        "new_wikihowAll = new_wikihowAll.dropna().reset_index(drop=True)\n",
        "new_wikihowAll.isnull().sum()"
      ],
      "execution_count": null,
      "outputs": [
        {
          "output_type": "execute_result",
          "data": {
            "text/plain": [
              "text        0\n",
              "headline    0\n",
              "dtype: int64"
            ]
          },
          "metadata": {
            "tags": []
          },
          "execution_count": 15
        }
      ]
    },
    {
      "cell_type": "code",
      "metadata": {
        "id": "fbFoCHsVv9Fw",
        "colab_type": "code",
        "colab": {
          "base_uri": "https://localhost:8080/",
          "height": 166
        },
        "outputId": "f023775e-0625-471a-8b50-124fab32e406"
      },
      "source": [
        "new_wikihowAll.shape"
      ],
      "execution_count": null,
      "outputs": [
        {
          "output_type": "error",
          "ename": "NameError",
          "evalue": "ignored",
          "traceback": [
            "\u001b[0;31m---------------------------------------------------------------------------\u001b[0m",
            "\u001b[0;31mNameError\u001b[0m                                 Traceback (most recent call last)",
            "\u001b[0;32m<ipython-input-6-1b435651d6c8>\u001b[0m in \u001b[0;36m<module>\u001b[0;34m()\u001b[0m\n\u001b[0;32m----> 1\u001b[0;31m \u001b[0mnew_wikihowAll\u001b[0m\u001b[0;34m.\u001b[0m\u001b[0mshape\u001b[0m\u001b[0;34m\u001b[0m\u001b[0;34m\u001b[0m\u001b[0m\n\u001b[0m",
            "\u001b[0;31mNameError\u001b[0m: name 'new_wikihowAll' is not defined"
          ]
        }
      ]
    },
    {
      "cell_type": "code",
      "metadata": {
        "id": "_wBbyQwv5P1A",
        "colab_type": "code",
        "colab": {}
      },
      "source": [
        "# h = new_wikihowAll\n",
        "\n",
        "# for x in ['text', 'headline']:\n",
        "# \t\th[x+'_tokenized'] = h[x].apply(lambda x:x.lower().split() );\n",
        "# \t\th[x+'_len'] = h[x+'_tokenized'].apply(lambda x: len(x))\n",
        "# min(h['headline_len']), min(h['text_len']), len(h[h['headline_len']==1]), len(h[h['text_len']==0])"
      ],
      "execution_count": null,
      "outputs": []
    },
    {
      "cell_type": "markdown",
      "metadata": {
        "id": "0HQ2wJrXEAcr",
        "colab_type": "text"
      },
      "source": [
        "#####Preprocessing"
      ]
    },
    {
      "cell_type": "code",
      "metadata": {
        "id": "6_qmLtaZp9s0",
        "colab_type": "code",
        "colab": {}
      },
      "source": [
        "class TextProccessing(BaseEstimator, TransformerMixin):\n",
        "  def __init__(self, column, contraction):\n",
        "    self.column = column\n",
        "    self.contraction = contraction\n",
        "  def fit(self, x, y=None):\n",
        "    return self\n",
        "  @staticmethod\n",
        "  def preprocessing(line):\n",
        "    \n",
        "    line = line.lower() \n",
        "    line = re.sub(r\"http\\S+\", \" \",line)\n",
        "    line = re.sub(r'[^\\sa-zA-Z0-9.,!?]',' ',line)\n",
        "    line = line.replace('-', ' ')\n",
        "    line = line.strip(' ')\n",
        "    line = re.sub(r'\\s{2,}',' ', line)\n",
        "\n",
        "    return line\n",
        "\n",
        "  def transform(self, X):\n",
        "    #X = X[self.column].replace(self.contraction)\n",
        "    return X[self.column].replace(self.contraction).fillna('').apply(lambda x: self.preprocessing(x)) "
      ],
      "execution_count": null,
      "outputs": []
    },
    {
      "cell_type": "code",
      "metadata": {
        "id": "m-XAtbFVI24a",
        "colab_type": "code",
        "colab": {}
      },
      "source": [
        "class Processor:\n",
        "\n",
        "  def __init__(self, data, \n",
        "               contraction,\n",
        "               max_length = None):\n",
        "    \n",
        "    self.max_length = max_length\n",
        "    self.data = data\n",
        "    self.contraction = contraction\n",
        "    #self.textproc = textproc\n",
        "\n",
        "  def cleaning(self, data):\n",
        "    if not isinstance(data, pd.DataFrame):\n",
        "      raise TypeError('Only Dataframes are allowed, but got data={}'.format(data))\n",
        "    else:\n",
        "      print('Please wait, we are cleaning...')\n",
        "      titles = ['headline', 'text']\n",
        "      data_dict = {}\n",
        "      good = []\n",
        "\n",
        "      for title in titles:\n",
        "        proc = TextProccessing(title, self.contraction)\n",
        "        res = proc.fit_transform(data)\n",
        "        if title == 'headline':    \n",
        "          for tt in res:\n",
        "            row = ' '.join(tt.split('\\n'))\n",
        "            good.append(row.strip())\n",
        "        data_dict[title] = res\n",
        "\n",
        "      dd = pd.DataFrame(good)\n",
        "      dd.columns = ['headline']\n",
        "      ss = pd.DataFrame(data_dict)\n",
        "      ss = ss.drop(columns='headline', axis=1)\n",
        "      dataset = pd.concat([ss, dd], axis=1)\n",
        "      \n",
        "      return dataset\n",
        "\n",
        "  @staticmethod\n",
        "  def split(data):\n",
        "    return len(data.split())\n",
        "\n",
        "  def get_max_tokens(self, dataframe):\n",
        "\n",
        "    dataframe['article_len'] = dataframe['text'].apply(self.split)\n",
        "    dataframe['summary_len'] = dataframe['headline'].apply(self.split)\n",
        "    \n",
        "    max_len = {'max_article_tokens': max(dataframe['article_len']), \n",
        "                'min_article_tokens': min(dataframe['article_len']),\n",
        "                'max_summary_tokens': max(dataframe['summary_len']),\n",
        "                'min_summary_tokens': min(dataframe['summary_len'])}\n",
        "    return max_len, dataframe\n",
        "\n",
        "  def cleaned_data(self):\n",
        "    dataframe = self.cleaning(self.data)\n",
        "    \n",
        "    if self.max_length is None:\n",
        "      max_len, dataframe = self.get_max_tokens(dataframe)\n",
        "    else:\n",
        "      max_len = self.max_length\n",
        "\n",
        "    min_length = max_len['min_article_tokens']\n",
        "    idx_list = []\n",
        "    for idx, paragraph in tqdm(enumerate(dataframe)):\n",
        "        pragraph = len(paragraph.split())\n",
        "        if pragraph <= min_length:\n",
        "          idx_list.append(idx)\n",
        "    final_data = dataframe.drop(idx_list)\n",
        "    final_data = final_data.reset_index(drop=True)\n",
        "\n",
        "    _, final_data = self.get_max_tokens(final_data)\n",
        "\n",
        "\n",
        "    print('Done!')\n",
        "    return final_data, max_len"
      ],
      "execution_count": null,
      "outputs": []
    },
    {
      "cell_type": "code",
      "metadata": {
        "id": "bNRiUhXoVkvY",
        "colab_type": "code",
        "colab": {}
      },
      "source": [
        "maxlen = {'max_article_tokens': 512,\n",
        "          'max_summary_tokens': 300,\n",
        "          'min_article_tokens': 30,\n",
        "          'min_summary_tokens': 0}"
      ],
      "execution_count": null,
      "outputs": []
    },
    {
      "cell_type": "code",
      "metadata": {
        "id": "oBiSvEkhz2ol",
        "colab_type": "code",
        "colab": {
          "base_uri": "https://localhost:8080/",
          "height": 102,
          "referenced_widgets": [
            "aa59dbf1348742868c526a5cd2881b28",
            "f3c1ebc2d36d4311940c75068d491dfd",
            "bda49606b3254b45aa01aea5eacdccb9",
            "495e64e746fb4ac5a3ebb93e72d80cf2",
            "246eeb6e3e814185a92d51b933a6cf16",
            "a5b8c79b6fd34d62b0c804035fd792d4",
            "1a0b9019aa7a41298e993a61d3803b74",
            "761c5839d34445bbb39d713b2b1e1c7c"
          ]
        },
        "outputId": "f818edec-29e4-4f35-86e5-3cd078e4b887"
      },
      "source": [
        "textproc = Processor(new_wikihowAll,contraction)#, maxlen)\n",
        "dataset, max_len = textproc.cleaned_data()"
      ],
      "execution_count": null,
      "outputs": [
        {
          "output_type": "stream",
          "text": [
            "Please wait, we are cleaning...\n"
          ],
          "name": "stdout"
        },
        {
          "output_type": "display_data",
          "data": {
            "application/vnd.jupyter.widget-view+json": {
              "model_id": "aa59dbf1348742868c526a5cd2881b28",
              "version_minor": 0,
              "version_major": 2
            },
            "text/plain": [
              "HBox(children=(FloatProgress(value=1.0, bar_style='info', max=1.0), HTML(value='')))"
            ]
          },
          "metadata": {
            "tags": []
          }
        },
        {
          "output_type": "stream",
          "text": [
            "\n",
            "Done!\n"
          ],
          "name": "stdout"
        }
      ]
    },
    {
      "cell_type": "code",
      "metadata": {
        "id": "MNmq9Mgx_BNx",
        "colab_type": "code",
        "colab": {
          "base_uri": "https://localhost:8080/",
          "height": 210
        },
        "outputId": "76787690-88a2-49c8-eed6-de45a698b67f"
      },
      "source": [
        "dataset.info()"
      ],
      "execution_count": null,
      "outputs": [
        {
          "output_type": "stream",
          "text": [
            "<class 'pandas.core.frame.DataFrame'>\n",
            "RangeIndex: 214294 entries, 0 to 214293\n",
            "Data columns (total 4 columns):\n",
            " #   Column       Non-Null Count   Dtype \n",
            "---  ------       --------------   ----- \n",
            " 0   text         214294 non-null  object\n",
            " 1   headline     214294 non-null  object\n",
            " 2   article_len  214294 non-null  int64 \n",
            " 3   summary_len  214294 non-null  int64 \n",
            "dtypes: int64(2), object(2)\n",
            "memory usage: 6.5+ MB\n"
          ],
          "name": "stdout"
        }
      ]
    },
    {
      "cell_type": "code",
      "metadata": {
        "id": "ngCA4TwV1YBW",
        "colab_type": "code",
        "colab": {
          "base_uri": "https://localhost:8080/",
          "height": 87
        },
        "outputId": "35a242e0-e94a-434d-e6ab-2f4dcaf6022d"
      },
      "source": [
        "max_len"
      ],
      "execution_count": null,
      "outputs": [
        {
          "output_type": "execute_result",
          "data": {
            "text/plain": [
              "{'max_article_tokens': 12394,\n",
              " 'max_summary_tokens': 4341,\n",
              " 'min_article_tokens': 0,\n",
              " 'min_summary_tokens': 1}"
            ]
          },
          "metadata": {
            "tags": []
          },
          "execution_count": 18
        }
      ]
    },
    {
      "cell_type": "code",
      "metadata": {
        "id": "x9chLqw-PK9e",
        "colab_type": "code",
        "colab": {
          "base_uri": "https://localhost:8080/",
          "height": 158
        },
        "outputId": "e2cebd34-52fa-4767-d432-c8b0c9af6d9d"
      },
      "source": [
        "dataset['summary_len'].quantile([0.5, 0.75, 0.9, 0.95, 0.99, 0.999, 0.9999])"
      ],
      "execution_count": null,
      "outputs": [
        {
          "output_type": "execute_result",
          "data": {
            "text/plain": [
              "0.5000      44.0000\n",
              "0.7500      77.0000\n",
              "0.9000     122.0000\n",
              "0.9500     159.0000\n",
              "0.9900     266.0000\n",
              "0.9990     503.0000\n",
              "0.9999    1024.9796\n",
              "Name: summary_len, dtype: float64"
            ]
          },
          "metadata": {
            "tags": []
          },
          "execution_count": 21
        }
      ]
    },
    {
      "cell_type": "code",
      "metadata": {
        "id": "hBlW5wqJpmJK",
        "colab_type": "code",
        "colab": {
          "base_uri": "https://localhost:8080/",
          "height": 158
        },
        "outputId": "7a8991bf-5f84-4e1a-9a00-e071c1ee35e3"
      },
      "source": [
        "dataset['article_len'].quantile([0.5, 0.75, 0.9, 0.95, 0.99, 0.999, 0.9999])"
      ],
      "execution_count": null,
      "outputs": [
        {
          "output_type": "execute_result",
          "data": {
            "text/plain": [
              "0.5000     306.0000\n",
              "0.7500     550.0000\n",
              "0.9000    1049.0000\n",
              "0.9500    1484.0000\n",
              "0.9900    2364.0700\n",
              "0.9990    3665.1210\n",
              "0.9999    5201.5503\n",
              "Name: article_len, dtype: float64"
            ]
          },
          "metadata": {
            "tags": []
          },
          "execution_count": 22
        }
      ]
    },
    {
      "cell_type": "code",
      "metadata": {
        "id": "bFFt1a_35GZR",
        "colab_type": "code",
        "colab": {
          "base_uri": "https://localhost:8080/",
          "height": 34
        },
        "outputId": "f0e6781d-9141-4f4b-d915-9c6d5000a5dc"
      },
      "source": [
        "art = int(dataset['article_len'].quantile(0.9900))\n",
        "sum = int(dataset['summary_len'].quantile(0.9900))\n",
        "\n",
        "print(f'art len:{art}, sum len:{sum}')"
      ],
      "execution_count": null,
      "outputs": [
        {
          "output_type": "stream",
          "text": [
            "art len:2364, sum len:266\n"
          ],
          "name": "stdout"
        }
      ]
    },
    {
      "cell_type": "markdown",
      "metadata": {
        "id": "dtuTFeLttppa",
        "colab_type": "text"
      },
      "source": [
        "#### Creating Custom Dataset"
      ]
    },
    {
      "cell_type": "code",
      "metadata": {
        "id": "iYEBtk-Ctyy4",
        "colab_type": "code",
        "colab": {}
      },
      "source": [
        "class CustomDataReader(Dataset):\n",
        "  \"\"\"\n",
        "  Loading data to be used in pytorch pre-trained models\n",
        "  \n",
        "  \"\"\"\n",
        "  def __init__(self, dataframe, T5tokenizer, **kwargs):\n",
        "    self.tokenizer = T5tokenizer\n",
        "    self.dataframe = dataframe\n",
        "    self.articles = dataframe.text\n",
        "    self.summary  = dataframe.headline\n",
        "    self.source_len = kwargs.get('max_article_tokens', 512)\n",
        "    self.target_len = kwargs.get('max_summary_tokens', 150)\n",
        "  \n",
        "  def __len__(self):\n",
        "    return len(self.articles)\n",
        "\n",
        "  def __getitem__(self, idx):\n",
        "    articles = self.articles[idx]\n",
        "    articles = ' '.join(articles.split())\n",
        "\n",
        "    summary = self.summary[idx]\n",
        "    summary = ' '.join(summary.split())\n",
        "\n",
        "    source_tokenized = self.tokenizer.batch_encode_plus([articles], max_length= self.source_len, pad_to_max_length=True, truncation=True,return_tensors='pt')\n",
        "    target_tokenized = self.tokenizer.batch_encode_plus([summary], max_length= self.target_len, pad_to_max_length=True, truncation=True,return_tensors='pt')\n",
        "\n",
        "    source_ids = source_tokenized['input_ids'].squeeze(0)\n",
        "    source_mask = source_tokenized['attention_mask'].squeeze(0)\n",
        "\n",
        "    summary_ids = target_tokenized['input_ids'].squeeze(0)\n",
        "    summary_mask = target_tokenized['attention_mask'].squeeze(0)\n",
        "\n",
        "    return source_ids, source_mask, summary_ids, summary_mask\n"
      ],
      "execution_count": null,
      "outputs": []
    },
    {
      "cell_type": "markdown",
      "metadata": {
        "id": "mqfiCrePYQIK",
        "colab_type": "text"
      },
      "source": [
        "#### Training Loop"
      ]
    },
    {
      "cell_type": "code",
      "metadata": {
        "id": "hQwJS66iz0uS",
        "colab_type": "code",
        "colab": {}
      },
      "source": [
        "def training(model, dataset_loader, optimizer, iteration=0):\n",
        "\n",
        "  model.train()\n",
        "  avg_loss = 0\n",
        "  nItem = 0\n",
        "\n",
        "\n",
        "  print(f'Start training for epoch: {iteration}')\n",
        " \n",
        "  for idx, data_train in enumerate(dataset_loader):\n",
        "\n",
        "    input_ids, source_mask, summary_ids, summary_mask = data_train\n",
        "\n",
        "    input_ids = input_ids.to(device, dtype = torch.long)\n",
        "    source_mask = source_mask.to(device, dtype = torch.float)\n",
        "    summary_ids = summary_ids.to(device, dtype = torch.long)\n",
        "\n",
        "    target_labels = summary_ids[:, :-1].contiguous()\n",
        "    langm_labels = summary_ids[:, 1:].clone().detach()\n",
        "    langm_labels[summary_ids[:, 1:] == tokenizer.pad_token_id] = -100\n",
        "\n",
        "    optimizer.zero_grad()\n",
        "    \n",
        "    output = model(input_ids=input_ids, attention_mask = source_mask, decoder_input_ids=target_labels, lm_labels=langm_labels, output_hidden_states=True)\n",
        "    \n",
        "    loss = output[0]\n",
        "\n",
        "    loss.backward()\n",
        "    optimizer.step()\n",
        "\n",
        "    bs = input_ids.size(0)\n",
        "    nItem += bs\n",
        "\n",
        "    avg_loss += loss.item() * bs\n",
        "    if idx % 100 == 0:\n",
        "      print(f'[{idx * len(input_ids)}/{len(dataset_loader.dataset)} ({100. * idx / len(dataset_loader):.0f})%] \\t Training loss: {loss:.3f}')\n",
        "  \n",
        "  avg_loss /= nItem\n",
        "  \n",
        "  return avg_loss, output\n"
      ],
      "execution_count": null,
      "outputs": []
    },
    {
      "cell_type": "code",
      "metadata": {
        "id": "uYQaqTmxRtzQ",
        "colab_type": "code",
        "colab": {}
      },
      "source": [
        "def validation(model, dataset_loader):\n",
        "  model.eval()\n",
        "\n",
        "  eval_loss = 0\n",
        "  nItem = 0\n",
        "\n",
        "  with torch.no_grad():\n",
        "    for idx, data_val in tqdm(enumerate(dataset_loader)):\n",
        "\n",
        "      input_ids, source_mask, summary_ids, summary_mask = data_val\n",
        "\n",
        "      input_ids = input_ids.to(device, dtype = torch.long)\n",
        "      source_mask = source_mask.to(device, dtype = torch.float)\n",
        "      summary_ids = summary_ids.to(device, dtype = torch.long)\n",
        "\n",
        "      target_labels = summary_ids[:, :-1].contiguous()\n",
        "      langm_labels = summary_ids[:, 1:].clone().detach()\n",
        "      langm_labels[summary_ids[:, 1:] == tokenizer.pad_token_id] = -100\n",
        "      \n",
        "      output = model(input_ids=input_ids, attention_mask = source_mask, decoder_input_ids=target_labels, lm_labels=langm_labels)\n",
        "      \n",
        "      loss = output[0]\n",
        "\n",
        "      bs = input_ids.size(0)\n",
        "      nItem += bs\n",
        "\n",
        "      eval_loss += loss.item()\n",
        "\n",
        "    eval_loss /= nItem\n",
        "\n",
        "    return eval_loss"
      ],
      "execution_count": null,
      "outputs": []
    },
    {
      "cell_type": "code",
      "metadata": {
        "id": "h5ZhapbZawXG",
        "colab_type": "code",
        "colab": {}
      },
      "source": [
        "def saving(PATH, epoch, avg_loss, model,pp, LEARNING_RATE):\n",
        "  torch.save({\n",
        "            'epoch': epoch,\n",
        "            'model_state_dict': model.state_dict(),\n",
        "            'train_loss': avg_loss,\n",
        "            'perplexity': pp,\n",
        "            'learning_rate': LEARNING_RATE\n",
        "            }, PATH)"
      ],
      "execution_count": null,
      "outputs": []
    },
    {
      "cell_type": "markdown",
      "metadata": {
        "id": "ZsdXt4STdroJ",
        "colab_type": "text"
      },
      "source": [
        "#### The model evaluation\n",
        "\n",
        "The perplexity:\n",
        "\n",
        "\\begin{align}\n",
        "\\large \\text{ppl}(p, D) &\\large = 2^{-\\frac{1}{N_{total}}\\log_2 p(D)}\n",
        "\\end{align}\n",
        "\n",
        "where $D=\\{(w_1,\\ldots,w_{N_i})_i\\}_{i=1}^M$ is a dataset of $M$ sequences with total length $N_{\\text{total}}=\\sum_{i}N_i$.\n",
        "\n",
        "#### Computing perplexity\n",
        "\n",
        "Our model's loss is the (negative) log probability of every token in the output sequence, which can be used to compute perplexity.\n",
        "\n",
        "We define perplexity using the **base 2** logarithm."
      ]
    },
    {
      "cell_type": "code",
      "metadata": {
        "id": "FarmceVkcm-Y",
        "colab_type": "code",
        "colab": {}
      },
      "source": [
        "def get_perplexity(epoc_loss):\n",
        "  rs = epoc_loss/np.log(2)\n",
        "  pp = 2**rs\n",
        "  return pp"
      ],
      "execution_count": null,
      "outputs": []
    },
    {
      "cell_type": "code",
      "metadata": {
        "id": "eDlcT25-F-sO",
        "colab_type": "code",
        "cellView": "both",
        "colab": {
          "base_uri": "https://localhost:8080/",
          "height": 72
        },
        "outputId": "75e8c044-694e-45de-b8f9-3460e516cd90"
      },
      "source": [
        "#@title #### Loading T5 model and its Tokenizer { run: \"auto\" }\n",
        "\n",
        "LEARNING_RATE = 3e-4\n",
        "MODEL_NAME = 't5-base' # or T5-Large:770 params, T5-3B, T5-Base: 220 Params, T5-11B\n",
        "model = T5ForConditionalGeneration.from_pretrained(MODEL_NAME)\n",
        "tokenizer = T5Tokenizer.from_pretrained(MODEL_NAME)\n",
        "#optimizer = optim.Adam(model.parameters(), lr=LEARNING_RATE)\n",
        "optimizer = AdaFactor(model.parameters(), lr=LEARNING_RATE)\n",
        "\n",
        "scheduler = ReduceLROnPlateau(optimizer, factor=0.5, patience=0)\n",
        "\n",
        "model = model.to(device)"
      ],
      "execution_count": null,
      "outputs": [
        {
          "output_type": "stream",
          "text": [
            "Some weights of T5ForConditionalGeneration were not initialized from the model checkpoint at t5-base and are newly initialized: ['encoder.embed_tokens.weight', 'decoder.embed_tokens.weight', 'lm_head.weight']\n",
            "You should probably TRAIN this model on a down-stream task to be able to use it for predictions and inference.\n"
          ],
          "name": "stderr"
        }
      ]
    },
    {
      "cell_type": "code",
      "metadata": {
        "id": "Jkp7dIU9-ZO3",
        "colab_type": "code",
        "colab": {
          "base_uri": "https://localhost:8080/",
          "height": 34
        },
        "outputId": "3c067885-12dc-44cb-85d3-8c4dff07628c"
      },
      "source": [
        "eos = tokenizer.eos_token\n",
        "sos = tokenizer.pad_token\n",
        "eos, sos"
      ],
      "execution_count": null,
      "outputs": [
        {
          "output_type": "execute_result",
          "data": {
            "text/plain": [
              "('</s>', '<pad>')"
            ]
          },
          "metadata": {
            "tags": []
          },
          "execution_count": 47
        }
      ]
    },
    {
      "cell_type": "code",
      "metadata": {
        "id": "W51Hk0xEz0sH",
        "colab_type": "code",
        "colab": {}
      },
      "source": [
        "#@title Train, Validation and Test splits { run: \"auto\" }\n",
        "\n",
        "eos = ' </s>'  #tokenizer.eos_token\n",
        "sos = '<pad> ' #tokenizer.pad_token\n",
        "\n",
        "dataset.text = \"summarize: \" + dataset.text + eos # for T5 conformity\n",
        "dataset.headline = sos + dataset.headline + eos\n",
        "columns = [\"text\",\"headline\"]\n",
        "\n",
        "df = dataset[columns]\n",
        "X_train, X_val = train_test_split(df, test_size=0.1, random_state = 42)\n",
        "\n",
        "X_train = X_train.reset_index(drop=True)\n",
        "X_test = X_val.reset_index(drop=True)"
      ],
      "execution_count": null,
      "outputs": []
    },
    {
      "cell_type": "code",
      "metadata": {
        "id": "sQeVMTtGz0p7",
        "colab_type": "code",
        "colab": {
          "base_uri": "https://localhost:8080/",
          "height": 195
        },
        "outputId": "3e428252-9f55-4243-8cd2-a5d6f4c6641d"
      },
      "source": [
        "X_train.head()"
      ],
      "execution_count": null,
      "outputs": [
        {
          "output_type": "execute_result",
          "data": {
            "text/html": [
              "<div>\n",
              "<style scoped>\n",
              "    .dataframe tbody tr th:only-of-type {\n",
              "        vertical-align: middle;\n",
              "    }\n",
              "\n",
              "    .dataframe tbody tr th {\n",
              "        vertical-align: top;\n",
              "    }\n",
              "\n",
              "    .dataframe thead th {\n",
              "        text-align: right;\n",
              "    }\n",
              "</style>\n",
              "<table border=\"1\" class=\"dataframe\">\n",
              "  <thead>\n",
              "    <tr style=\"text-align: right;\">\n",
              "      <th></th>\n",
              "      <th>text</th>\n",
              "      <th>headline</th>\n",
              "    </tr>\n",
              "  </thead>\n",
              "  <tbody>\n",
              "    <tr>\n",
              "      <th>0</th>\n",
              "      <td>summarize: this calendar of events is availabl...</td>\n",
              "      <td>&lt;pad&gt; consult the formula 1 race calendar., pi...</td>\n",
              "    </tr>\n",
              "    <tr>\n",
              "      <th>1</th>\n",
              "      <td>summarize: once you ve finished your self anal...</td>\n",
              "      <td>&lt;pad&gt; fix the problem., make a conscious effor...</td>\n",
              "    </tr>\n",
              "    <tr>\n",
              "      <th>2</th>\n",
              "      <td>summarize: stir it thoroughly and then set it ...</td>\n",
              "      <td>&lt;pad&gt; add 1 teaspoon 4.9 ml of borax to 500 mi...</td>\n",
              "    </tr>\n",
              "    <tr>\n",
              "      <th>3</th>\n",
              "      <td>summarize: recognizing that you need to establ...</td>\n",
              "      <td>&lt;pad&gt; decide to set boundaries., define the bo...</td>\n",
              "    </tr>\n",
              "    <tr>\n",
              "      <th>4</th>\n",
              "      <td>summarize: communicate with your significant o...</td>\n",
              "      <td>&lt;pad&gt; talk with your significant other about y...</td>\n",
              "    </tr>\n",
              "  </tbody>\n",
              "</table>\n",
              "</div>"
            ],
            "text/plain": [
              "                                                text                                           headline\n",
              "0  summarize: this calendar of events is availabl...  <pad> consult the formula 1 race calendar., pi...\n",
              "1  summarize: once you ve finished your self anal...  <pad> fix the problem., make a conscious effor...\n",
              "2  summarize: stir it thoroughly and then set it ...  <pad> add 1 teaspoon 4.9 ml of borax to 500 mi...\n",
              "3  summarize: recognizing that you need to establ...  <pad> decide to set boundaries., define the bo...\n",
              "4  summarize: communicate with your significant o...  <pad> talk with your significant other about y..."
            ]
          },
          "metadata": {
            "tags": []
          },
          "execution_count": 28
        }
      ]
    },
    {
      "cell_type": "code",
      "metadata": {
        "id": "Dm_SPfP6z0nH",
        "colab_type": "code",
        "colab": {}
      },
      "source": [
        "# train_size = 0.8\n",
        "# train_dataset=df.sample(frac=train_size, random_state = SEED).reset_index(drop=True)\n",
        "# val_dataset=df.drop(train_dataset.index).reset_index(drop=True)"
      ],
      "execution_count": null,
      "outputs": []
    },
    {
      "cell_type": "code",
      "metadata": {
        "id": "G582OWlZz0kd",
        "colab_type": "code",
        "colab": {}
      },
      "source": [
        "#d = ' '.join(X_train.iloc[0]['text'].split())\n",
        "#d"
      ],
      "execution_count": null,
      "outputs": []
    },
    {
      "cell_type": "code",
      "metadata": {
        "id": "vSInOEG2M2U-",
        "colab_type": "code",
        "colab": {}
      },
      "source": [
        "#d = ' '.join(X_train.iloc[0]['headline'].split())\n",
        "#d"
      ],
      "execution_count": null,
      "outputs": []
    },
    {
      "cell_type": "code",
      "metadata": {
        "id": "08lW8ejhmgya",
        "colab_type": "code",
        "colab": {}
      },
      "source": [
        "X_train = X_train.iloc[:2000]\n",
        "X_test = X_test.iloc[:600]"
      ],
      "execution_count": null,
      "outputs": []
    },
    {
      "cell_type": "code",
      "metadata": {
        "id": "tDGi1RVicmTp",
        "colab_type": "code",
        "colab": {}
      },
      "source": [
        "args = {'max_article_tokens': 512,\n",
        "          'max_summary_tokens': 150}\n",
        "\n",
        "train_set = CustomDataReader(X_train, tokenizer,**args)\n",
        "val_set = CustomDataReader(X_test, tokenizer,**args)"
      ],
      "execution_count": null,
      "outputs": []
    },
    {
      "cell_type": "code",
      "metadata": {
        "id": "05TKZmNgkr8V",
        "colab_type": "code",
        "colab": {}
      },
      "source": [
        "BATCH_SIZE = 4\n",
        "train_params = {\n",
        "        'batch_size': BATCH_SIZE,\n",
        "        'shuffle': True,\n",
        "        'num_workers': 2\n",
        "        }\n",
        "\n",
        "val_params = {\n",
        "    'batch_size': BATCH_SIZE,\n",
        "    'shuffle': False,\n",
        "    'num_workers': 2\n",
        "    }\n",
        "\n",
        "train_loader = DataLoader(train_set, **train_params)\n",
        "val_loader = DataLoader(val_set, **val_params)"
      ],
      "execution_count": null,
      "outputs": []
    },
    {
      "cell_type": "code",
      "metadata": {
        "id": "sGaGMwWLzfVE",
        "colab_type": "code",
        "colab": {}
      },
      "source": [
        "N_EPOCHS = 15\n",
        "path = '/content/drive/My Drive/Colab Notebooks/best_model.pth'\n",
        "pcle = '/content/drive/My Drive/Colab Notebooks/optimizer_state_dict.pkl'\n",
        "filename = open(pcle, 'wb')"
      ],
      "execution_count": null,
      "outputs": []
    },
    {
      "cell_type": "code",
      "metadata": {
        "id": "csfO3UdlJtEf",
        "colab_type": "code",
        "colab": {}
      },
      "source": [
        "def run(N_EPOCHS, model, train_loader, val_loader, optimizer, path, filename, lr= LEARNING_RATE):\n",
        "\n",
        "  #best_loss = float('inf')\n",
        "  best_pp = float('inf')\n",
        "\n",
        "  train_loss = []\n",
        "  val_loss = []\n",
        "  perplexity = []\n",
        "\n",
        "  for epoch in range(N_EPOCHS):\n",
        "\n",
        "    avg_loss, outputs = training(model, train_loader, optimizer, iteration=epoch)\n",
        "    print('\\nValidation start:')\n",
        "    eval_loss = validation(model, val_loader)\n",
        "    \n",
        "    pp = get_perplexity(eval_loss)\n",
        "    \n",
        "    perplexity.append(pp)\n",
        "    train_loss.append(avg_loss)\n",
        "    val_loss.append(eval_loss)\n",
        "    scheduler.step(eval_loss)\n",
        "\n",
        "    \n",
        "    print(f'Epoch loss: {avg_loss:.2f}')\n",
        "    print(f'Perplexity: {pp:.3f} | Eval loss: {eval_loss:.2f}')\n",
        "    print(\"--------------\")\n",
        "\n",
        "\n",
        "    if pp < best_pp:\n",
        "      best_pp = pp\n",
        "      saving(path, epoch, avg_loss, model, pp, lr)\n",
        "      dill.dump(optimizer, filename)\n",
        "\n",
        "    # Save model for every 3 epochs\n",
        "    # if i%3==0:\n",
        "    #   torch.save(model.state_dict(), path)\n",
        "  print(f'Best Perplexity: {best_pp}')\n",
        "  filename.close()\n",
        "\n",
        "  return train_loss, perplexity, val_loss, outputs"
      ],
      "execution_count": null,
      "outputs": []
    },
    {
      "cell_type": "code",
      "metadata": {
        "id": "npvqrZ9L_Ufl",
        "colab_type": "code",
        "colab": {
          "base_uri": "https://localhost:8080/",
          "height": 1000,
          "referenced_widgets": [
            "cb47163880b644e99674d508f1407349",
            "e94c000d5060445ca93691f6af42e70c",
            "6e1089fcff4a4ad19de6fc9dfb87c171",
            "c5b5410811de4ab59ff76737f353ce27",
            "2f28dc0b45cc4b30acb85fecdc128397",
            "0551f8a91cb547948703416f5c200c93",
            "e8fbc6f859784253a0cf6fe88cc0d9ca",
            "cd662889ecd24a5fbfbf078039e270a8",
            "ddd0f5a0f838494daf3d0581081c3e86",
            "3856954e8b1e47a08fce9fff7a038027",
            "f842c10d414f41c6846c1dc74200f301",
            "a694fbafc40c41e98fe568668e4db732",
            "8365405f8a1c4d178b5ab5cd9d905e32",
            "4800749f8151430c8cc49570cd4ccaf7",
            "dc75ce283dff4270b9c537d4e057d416",
            "992143ed056d4a23afff16b83c514432",
            "dffe3b78e72e4c309bda155884c2c7a7",
            "00632d7b23cc45f59515669601334fcd",
            "d9fb635e32cd4ed4bcddf6574de80b1b",
            "1523672396354424b0658ce14786fbd2",
            "273de981090749b29ce385706c449722",
            "3353a6712b3a482d8907ca80a0824020",
            "ffc60b07ad704ea2afc0ac2c79c10c11",
            "864cb033af344f22b288a320088ec71c",
            "2d96618428094902b80450d649566a66",
            "c7a670342db348f0b703a95438137574",
            "a33ce8bb19284323a89a317403263c0d",
            "90937a3fdc314010948a13e9e2c70e40",
            "b506bbd1464b407980a6ef55a7819828",
            "a2026ad15de541eebf332cb4ce4e1ad2",
            "a56cd84f576841259aace5b34b0efda7",
            "2004cd6b66034fdda39e09c4ea44b3ce"
          ]
        },
        "outputId": "c4adf22e-7a8b-4a99-b718-5a028a2e0255"
      },
      "source": [
        "train_loss, perplexity, eval_loss, outputs = run(N_EPOCHS, model, train_loader, val_loader, optimizer, path, filename)"
      ],
      "execution_count": null,
      "outputs": [
        {
          "output_type": "stream",
          "text": [
            "Start training for epoch: 0\n",
            "[0/2000 (0)%] \t Training loss: 2.290\n",
            "[400/2000 (20)%] \t Training loss: 1.788\n",
            "[800/2000 (40)%] \t Training loss: 1.877\n",
            "[1200/2000 (60)%] \t Training loss: 1.744\n",
            "[1600/2000 (80)%] \t Training loss: 1.879\n",
            "\n",
            "Validation start:\n"
          ],
          "name": "stdout"
        },
        {
          "output_type": "display_data",
          "data": {
            "application/vnd.jupyter.widget-view+json": {
              "model_id": "cb47163880b644e99674d508f1407349",
              "version_minor": 0,
              "version_major": 2
            },
            "text/plain": [
              "HBox(children=(FloatProgress(value=1.0, bar_style='info', max=1.0), HTML(value='')))"
            ]
          },
          "metadata": {
            "tags": []
          }
        },
        {
          "output_type": "stream",
          "text": [
            "\n",
            "Epoch loss: 2.16\n",
            "Perplexity: 1.819 | Eval loss: 0.60\n",
            "--------------\n",
            "Start training for epoch: 1\n",
            "[0/2000 (0)%] \t Training loss: 1.844\n",
            "[400/2000 (20)%] \t Training loss: 2.476\n",
            "[800/2000 (40)%] \t Training loss: 2.162\n",
            "[1200/2000 (60)%] \t Training loss: 1.940\n",
            "[1600/2000 (80)%] \t Training loss: 1.635\n",
            "\n",
            "Validation start:\n"
          ],
          "name": "stdout"
        },
        {
          "output_type": "display_data",
          "data": {
            "application/vnd.jupyter.widget-view+json": {
              "model_id": "ddd0f5a0f838494daf3d0581081c3e86",
              "version_minor": 0,
              "version_major": 2
            },
            "text/plain": [
              "HBox(children=(FloatProgress(value=1.0, bar_style='info', max=1.0), HTML(value='')))"
            ]
          },
          "metadata": {
            "tags": []
          }
        },
        {
          "output_type": "stream",
          "text": [
            "\n",
            "Epoch loss: 1.86\n",
            "Perplexity: 1.855 | Eval loss: 0.62\n",
            "--------------\n",
            "Start training for epoch: 2\n",
            "[0/2000 (0)%] \t Training loss: 1.272\n",
            "[400/2000 (20)%] \t Training loss: 1.563\n",
            "[800/2000 (40)%] \t Training loss: 1.591\n",
            "[1200/2000 (60)%] \t Training loss: 2.472\n",
            "[1600/2000 (80)%] \t Training loss: 1.661\n",
            "\n",
            "Validation start:\n"
          ],
          "name": "stdout"
        },
        {
          "output_type": "display_data",
          "data": {
            "application/vnd.jupyter.widget-view+json": {
              "model_id": "dffe3b78e72e4c309bda155884c2c7a7",
              "version_minor": 0,
              "version_major": 2
            },
            "text/plain": [
              "HBox(children=(FloatProgress(value=1.0, bar_style='info', max=1.0), HTML(value='')))"
            ]
          },
          "metadata": {
            "tags": []
          }
        },
        {
          "output_type": "stream",
          "text": [
            "\n",
            "Epoch loss: 1.54\n",
            "Perplexity: 1.899 | Eval loss: 0.64\n",
            "--------------\n",
            "Start training for epoch: 3\n",
            "[0/2000 (0)%] \t Training loss: 1.354\n",
            "[400/2000 (20)%] \t Training loss: 1.350\n",
            "[800/2000 (40)%] \t Training loss: 1.180\n",
            "[1200/2000 (60)%] \t Training loss: 1.844\n",
            "[1600/2000 (80)%] \t Training loss: 1.183\n",
            "\n",
            "Validation start:\n"
          ],
          "name": "stdout"
        },
        {
          "output_type": "display_data",
          "data": {
            "application/vnd.jupyter.widget-view+json": {
              "model_id": "2d96618428094902b80450d649566a66",
              "version_minor": 0,
              "version_major": 2
            },
            "text/plain": [
              "HBox(children=(FloatProgress(value=1.0, bar_style='info', max=1.0), HTML(value='')))"
            ]
          },
          "metadata": {
            "tags": []
          }
        },
        {
          "output_type": "stream",
          "text": [
            "\n",
            "Epoch loss: 1.31\n",
            "Perplexity: 1.943 | Eval loss: 0.66\n",
            "--------------\n",
            "Start training for epoch: 4\n",
            "[0/2000 (0)%] \t Training loss: 1.010\n",
            "[400/2000 (20)%] \t Training loss: 0.689\n",
            "[800/2000 (40)%] \t Training loss: 0.824\n",
            "[1200/2000 (60)%] \t Training loss: 1.255\n"
          ],
          "name": "stdout"
        }
      ]
    },
    {
      "cell_type": "code",
      "metadata": {
        "id": "jmJ94Ryul0vR",
        "colab_type": "code",
        "colab": {
          "base_uri": "https://localhost:8080/",
          "height": 298
        },
        "outputId": "f5f05284-122e-4f8f-cb3c-176e845c19db"
      },
      "source": [
        "import matplotlib.pyplot as plt\n",
        "\n",
        "tr_los = np.array(train_loss)\n",
        "ev_los = np.array(eval_loss)\n",
        "\n",
        "plt.plot(tr_los, label='Training loss')\n",
        "plt.plot(ev_los, label='Validation loss')\n",
        "plt.plot(ev_los, label='Perplexity on val data')\n",
        "\n",
        "plt.legend(frameon=False)\n",
        "plt.title('Train loss vs Eval loss and Perplexity')\n",
        "plt.show()"
      ],
      "execution_count": null,
      "outputs": [
        {
          "output_type": "execute_result",
          "data": {
            "text/plain": [
              "Text(0.5, 1.0, 'Train loss')"
            ]
          },
          "metadata": {
            "tags": []
          },
          "execution_count": 21
        },
        {
          "output_type": "display_data",
          "data": {
            "image/png": "[encoded data removed]",
            "text/plain": [
              "<Figure size 432x288 with 1 Axes>"
            ]
          },
          "metadata": {
            "tags": [],
            "needs_background": "light"
          }
        }
      ]
    },
    {
      "cell_type": "code",
      "metadata": {
        "id": "jsxZGr_bz0cv",
        "colab_type": "code",
        "colab": {}
      },
      "source": [
        "def generator(model, dataset_loader):\n",
        "  \n",
        "  model.eval()\n",
        "\n",
        "  results = {\"generated_summary\": [], \"golden_summary\": []}\n",
        "\n",
        "  with torch.no_grad():\n",
        "\n",
        "    for idx, data_val in enumerate(dataset_loader):\n",
        "      \n",
        "      input_ids, source_mask, summary_ids, summary_mask = data_val \n",
        "      \n",
        "      input_ids = input_ids.to(device, dtype = torch.long)\n",
        "      source_mask = source_mask.to(device, dtype = torch.float)\n",
        "      summary_ids = summary_ids.to(device, dtype = torch.long)\n",
        "\n",
        "      generatation = model.generate(input_ids=input_ids,\n",
        "                                    attention_mask=source_mask, \n",
        "                                    min_length=30, \n",
        "                                    max_length=300, \n",
        "                                    num_beams=3,\n",
        "                                    repetition_penalty=2.5,\n",
        "                                    eos_token_id = model.config.eos_token_id,               \n",
        "                                    length_penalty=1.0, \n",
        "                                    early_stopping=True\n",
        "                                    )\n",
        "\n",
        "      for gen, sc in zip(generatation, summary_ids): # Taking whole document IDs and docode the summary\n",
        "\n",
        "        gen_tokens_dec = tokenizer.decode(gen, skip_special_tokens=True, clean_up_tokenization_spaces=True)\n",
        "        sc_tokens_dec = tokenizer.decode(sc, skip_special_tokens=True, clean_up_tokenization_spaces=True)\n",
        "\n",
        "        results[\"generated_summary\"].append(gen_tokens_dec)\n",
        "        results[\"golden_summary\"].append(sc_tokens_dec)\n",
        "\n",
        "  return results\n"
      ],
      "execution_count": null,
      "outputs": []
    },
    {
      "cell_type": "markdown",
      "metadata": {
        "id": "MwTbUyKag_8R",
        "colab_type": "text"
      },
      "source": [
        "#### Loading Saved Model"
      ]
    },
    {
      "cell_type": "code",
      "metadata": {
        "id": "tTLrSSGio-c-",
        "colab_type": "code",
        "colab": {}
      },
      "source": [
        "model = .... # first initialize the model and optimizer\n",
        "\n",
        "#optimizer = ... # optimizer then,\n",
        "infile = open(pcle,'rb')\n",
        "optimizer = pickle.load(infile)\n",
        "infile.close()\n",
        "\n",
        "checkpoint = torch.load(PATH)\n",
        "model.load_state_dict(checkpoint['model_state_dict'])\n",
        "epoch = checkpoint['epoch']\n",
        "loss = checkpoint['loss']"
      ],
      "execution_count": null,
      "outputs": []
    },
    {
      "cell_type": "code",
      "metadata": {
        "id": "N1yAtA49oJ4X",
        "colab_type": "code",
        "colab": {
          "base_uri": "https://localhost:8080/",
          "height": 52
        },
        "outputId": "8bf203b2-65bd-42aa-a13b-a367a980c6b4"
      },
      "source": [
        "%time results = generator(model, val_loader)"
      ],
      "execution_count": null,
      "outputs": [
        {
          "output_type": "stream",
          "text": [
            "CPU times: user 1h 34min 40s, sys: 8min 4s, total: 1h 42min 45s\n",
            "Wall time: 1h 42min 46s\n"
          ],
          "name": "stdout"
        }
      ]
    },
    {
      "cell_type": "markdown",
      "metadata": {
        "id": "kNpZ1c5TBmqD",
        "colab_type": "text"
      },
      "source": [
        "#### Visualizing examples"
      ]
    },
    {
      "cell_type": "markdown",
      "metadata": {
        "id": "GkwqzhhvEXqt",
        "colab_type": "text"
      },
      "source": [
        "**Example 1**"
      ]
    },
    {
      "cell_type": "code",
      "metadata": {
        "id": "6eQnF1XN_T8r",
        "colab_type": "code",
        "colab": {
          "base_uri": "https://localhost:8080/",
          "height": 106
        },
        "outputId": "2f75a808-e1ea-44bd-c636-1e1d6a007111"
      },
      "source": [
        "print(\"Actual summary:\")\n",
        "results['golden_summary'][0]"
      ],
      "execution_count": null,
      "outputs": [
        {
          "output_type": "stream",
          "text": [
            "Actual summary:\n"
          ],
          "name": "stdout"
        },
        {
          "output_type": "execute_result",
          "data": {
            "application/vnd.google.colaboratory.intrinsic": {
              "type": "string"
            },
            "text/plain": [
              "'insert the black probe into the common terminal and the red probe into the terminal marked for measuring ohms, volts or diode test., use the selector knob to choose the test diode function., turn the power off to the circuit., test forward bias., reverse the probes to test reverse bias., a reading of ol or 0 while testing forward bias, and 0 while testing reverse bias indicates that the diode is bad.'"
            ]
          },
          "metadata": {
            "tags": []
          },
          "execution_count": 25
        }
      ]
    },
    {
      "cell_type": "code",
      "metadata": {
        "id": "PNXoHiQjBjAY",
        "colab_type": "code",
        "colab": {
          "base_uri": "https://localhost:8080/",
          "height": 177
        },
        "outputId": "ee260cb0-641e-46ce-9a69-bd2ea8441a4f"
      },
      "source": [
        "print('Generated summary:')\n",
        "results['generated_summary'][0]"
      ],
      "execution_count": null,
      "outputs": [
        {
          "output_type": "stream",
          "text": [
            "Generated summary:\n"
          ],
          "name": "stdout"
        },
        {
          "output_type": "execute_result",
          "data": {
            "application/vnd.google.colaboratory.intrinsic": {
              "type": "string"
            },
            "text/plain": [
              "'the display will beep when the reading is less than 1., place the diode on the positive and negative side of the diode., measure the forward bias., check to see if the display reads ol overload., check to see if the reading is more than 0., check to see if the diode is shorted., test for reverse bias., check to see if the display displays a beep., check to see if there is a shorted diode indicates a shorted diode., turn off the display., switch off the diode., change the power supply., adjust the power supply voltage., reset the power supply voltage., set the power supply voltage., restart the power supply voltage., start the power supply voltage., repeat until the power supply voltage is equal to or greater than 1 volts., stop the power supply voltage., turn off the power supply voltage., turn off the power supply voltage., turn off the power supply voltage., turn off the power supply voltage., turn off the power supply voltage., turn off the power supply voltage., turn off the power supply voltage., turn off the power supply voltage., turn off the power'"
            ]
          },
          "metadata": {
            "tags": []
          },
          "execution_count": 26
        }
      ]
    },
    {
      "cell_type": "markdown",
      "metadata": {
        "id": "5xU7pMWeEfh8",
        "colab_type": "text"
      },
      "source": [
        "**Example 2**"
      ]
    },
    {
      "cell_type": "code",
      "metadata": {
        "id": "g_K3Q-5GB92N",
        "colab_type": "code",
        "colab": {
          "base_uri": "https://localhost:8080/",
          "height": 159
        },
        "outputId": "3b960f64-d419-41ab-bdf2-df342e9711ef"
      },
      "source": [
        "X_test.iloc[10,:]['text']"
      ],
      "execution_count": null,
      "outputs": [
        {
          "output_type": "execute_result",
          "data": {
            "application/vnd.google.colaboratory.intrinsic": {
              "type": "string"
            },
            "text/plain": [
              "'summarize: marshmallows are very sticky, so you need to start with a greased pan. spray down a 9 by 13 inch pan 23 centimeters by 33 centimeters with cooking spray. it can also help to spray down any utensils you re going to use. the mixture will stick to anything., mix the packets of gelatin with about half a cup 125 milliliters of water and the vanilla extract in the bowl of a stand mixer. just use a fork to mix them together. let the mixture sit to the side for a few minutes so the gelatin can bloom hydrate .try to get all the lumps out with the fork.\\nyou can also use extracts like raspberry, lemon, orange, almond, or banana, depending on what you want to do with the marshmallows. , add 1 2 cup 125 milliliters of water to a small pan. pour in the sugar or the sugar plus the corn syrup, whichever you re using. bring it to a boil over medium to high heat, and let it boil until it reaches 250 degrees fahrenheit 121 degrees celsius or just under. continually wipe down the insides of the pan with a pastry brush to keep sugar from crystallizing there.alternatively, you can let the sugar and water come to a boil, and take it off the heat.corn syrup helps keep the mixture from crystallizing, meaning your marshmallows will usually stay softer. , you have two options here. if you raised the mixture to 250 degrees, simply pour it into the mixing bowl with the gelatin. do it slowly, and have the mixer on low.alternatively, if you just heated the mixture to boiling, add the gelatin to the pot. heat it again until the mixture is boiling, stirring as it comes to a boil. pour the mixture into the stand mixer, and let it cool down until it is just warm before going to the next step.if you prefer not to use gelatin, you can try agar in a one to one ratio with gelatin. another option is vegan jel.'"
            ]
          },
          "metadata": {
            "tags": []
          },
          "execution_count": 27
        }
      ]
    },
    {
      "cell_type": "code",
      "metadata": {
        "id": "l_CBGaOSBvmL",
        "colab_type": "code",
        "colab": {
          "base_uri": "https://localhost:8080/",
          "height": 54
        },
        "outputId": "1b18480c-dc94-4d98-dbd5-fada568312d2"
      },
      "source": [
        "print(\"Actual summary:\")\n",
        "results['golden_summary'][10]"
      ],
      "execution_count": null,
      "outputs": [
        {
          "output_type": "stream",
          "text": [
            "Actual summary:\n"
          ],
          "name": "stdout"
        },
        {
          "output_type": "execute_result",
          "data": {
            "application/vnd.google.colaboratory.intrinsic": {
              "type": "string"
            },
            "text/plain": [
              "'grease the pan., hydrate the gelatin., make the simple syrup., mix the gelatin in.'"
            ]
          },
          "metadata": {
            "tags": []
          },
          "execution_count": 28
        }
      ]
    },
    {
      "cell_type": "code",
      "metadata": {
        "id": "ITAC0YvZB0um",
        "colab_type": "code",
        "colab": {
          "base_uri": "https://localhost:8080/",
          "height": 212
        },
        "outputId": "bff5f8b7-b225-44fa-f28a-91cfa698469d"
      },
      "source": [
        "print('Generated summary:')\n",
        "results['generated_summary'][10]"
      ],
      "execution_count": null,
      "outputs": [
        {
          "output_type": "stream",
          "text": [
            "Generated summary:\n"
          ],
          "name": "stdout"
        },
        {
          "output_type": "execute_result",
          "data": {
            "application/vnd.google.colaboratory.intrinsic": {
              "type": "string"
            },
            "text/plain": [
              "'the marshmallows will stick to any cooking spray or utensils., mix the gelatin and water in a mixing bowl., bring the sugar and water to a boil., heat the mixture until it reaches 250 degrees fahrenheit 121 degrees celsius., pour the gelatin into the pan., add the corn syrup., let it cool down., make the gelatin., remove the marshmallows from the pan., cut the marshmallows into chunks., bake the marshmallows on top of the marshmallows., serve the marshmallows., enjoy!, finish your marshmallows., finished., place the marshmallows back on top of the marshmallows., repeat steps 1 2 3 4 times., use a stand mixer., stir everything together., store at room temperature., serve., refrigerate the marshmallows for up to servings., wrap the marshmallows., decorate the top of the marshmallows., sprinkle the top of the marshmallows., spread the marshmallows., put the marshmallows., cook the marshmallows., serve immediately., serve immediately., serve immediately., serve immediately., serve immediately., serve immediately., serve immediately., serve immediately., serve immediately., serve immediately., serve immediately., serve immediately., serve immediately., serve immediately., serve immediately., serve immediately'"
            ]
          },
          "metadata": {
            "tags": []
          },
          "execution_count": 29
        }
      ]
    },
    {
      "cell_type": "markdown",
      "metadata": {
        "id": "OuLET9kiEkTa",
        "colab_type": "text"
      },
      "source": [
        "**Example 3**"
      ]
    },
    {
      "cell_type": "code",
      "metadata": {
        "id": "s6eSs1ZWD_sD",
        "colab_type": "code",
        "colab": {
          "base_uri": "https://localhost:8080/",
          "height": 159
        },
        "outputId": "f9af3dd9-6e7a-4c32-9aa4-7a024bb8607e"
      },
      "source": [
        "X_test.iloc[3,:]['text']"
      ],
      "execution_count": null,
      "outputs": [
        {
          "output_type": "execute_result",
          "data": {
            "application/vnd.google.colaboratory.intrinsic": {
              "type": "string"
            },
            "text/plain": [
              "'summarize: now download the setup for your operating system by clicking on the link right besides the package name. for this article, i have downloaded, virtualbox 4.3.16 for windows hosts. make sure you download the latest version of virtualbox for your operating system. i am presently working on windows 8.1. ,,, if you like to place a shortcut icon for virtualbox on your desktop and in the quick launch bar, leave the first two boxes selected. ,\\xa0this will help you to access internet and other network resources from windows 10. , now sit back and chillax while virtualbox installs on your system. depending on the security settings on your operating system and available system drivers, your operating system may ask you to allow or deny the setup proceed and install few drivers. this is essential for your virtualbox to let windows 10 access hardware and other resources on your host operating system the operating system you are using right now . you may choose to accept and install them. ,, we will come back to this once we download an official copy of windows 10 technical preview. we are now ready to download and install windows 10 technical preview on our virtualbox. , to join the program, visit and click on join now. , if you do not have one, you can click on sign up now to create one and then go back to the previous step of this tutorial. if you were already logged in the microsoft account, you would not be shown a sign in page. , once you have read this page and all the relevant information, you may choose to click on, i accept and then proceed with this article. ,, you will see a list of available downloads. depending on your language and your system architecture you may download one of those files. if you are not sure whether you are working on a\\xa064 bit or 32 bit machine, you can download the 32 bit x86 file by clicking on the download link right besides it. to make use of 64 bit you may need to enable virtualisation from your bios. if you are not aware of these concepts or do not know how to do it, download the 32 bit x86 file for a safer bet.\\xa0in this article\\xa0i have picked english 64 bit x64 as i am working on a machine with a 64 bit processor with a\\xa064 bit operating system. ,, now select windows 8.1 64 bit as the version. if you had downloaded a 32 bit windows 10 technical preview file then select windows 8.1 32 bit from the list. now click on next. if you had downloaded the 64 bit windows 10 technical preview file and if you do not see windows 8.1 64 bit in the version list then you might need to enable virtualisation in your bios. if your are not aware of how to do so, you may search for a tutorial using your favourite search engine or go back a couple of steps in this tutorial and download a 32 bit x86 windows 10 technical preview file. ,,,,, leave the size of the virtual hard disk to its default value and click on create. , now click on start to boot up our virtual machine. , click on the browse folder icon. ,,, this is what we have been waiting for. just a few more steps and you would then be using the new version of windows! click next on windows setup running on your virtual machine. ,,,, if you wish you can click on customize and follow the onscreen instructions till windows 10 has been installed. in this article, we are following the express settings. ,, follow the onscreen instructions and continue to the next step in this tutorial. ,,, this is what we have been excited about. your windows 10 technical preview is up and running! go ahead, experiment with it. check out new features and share it with the world.check out the start button! it is back! enjoy windows 10... '"
            ]
          },
          "metadata": {
            "tags": []
          },
          "execution_count": 30
        }
      ]
    },
    {
      "cell_type": "code",
      "metadata": {
        "id": "QTOwXNrqDUMp",
        "colab_type": "code",
        "colab": {
          "base_uri": "https://localhost:8080/",
          "height": 142
        },
        "outputId": "22ea1bef-0ee9-41e4-9424-1747acabab9f"
      },
      "source": [
        "print(\"Actual summary:\")\n",
        "results['golden_summary'][3]"
      ],
      "execution_count": null,
      "outputs": [
        {
          "output_type": "stream",
          "text": [
            "Actual summary:\n"
          ],
          "name": "stdout"
        },
        {
          "output_type": "execute_result",
          "data": {
            "application/vnd.google.colaboratory.intrinsic": {
              "type": "string"
            },
            "text/plain": [
              "'visit and look for a list of virtualbox platform packages., run the setup file you downloaded and click on next., on the custom setup screen, you can leave the settings as it is and proceed by clicking on the next button., leave the register file associations selected and click on next., now click on yes to ensure that virtualbox is able to access your network interfaces., click on install., once virtualbox has been installed on your system, you can then select, start oracle vm virtualbox if not already selected and then click on finish., after the virtualbox opens up, minimize it or keep it open., to download an official copy of windows 10 technical'"
            ]
          },
          "metadata": {
            "tags": []
          },
          "execution_count": 31
        }
      ]
    },
    {
      "cell_type": "code",
      "metadata": {
        "id": "8KPpq-pUDcfe",
        "colab_type": "code",
        "colab": {
          "base_uri": "https://localhost:8080/",
          "height": 177
        },
        "outputId": "f8042bcb-cf9a-4b20-88c9-df472a921934"
      },
      "source": [
        "print('Generated summary:')\n",
        "results['generated_summary'][3]"
      ],
      "execution_count": null,
      "outputs": [
        {
          "output_type": "stream",
          "text": [
            "Generated summary:\n"
          ],
          "name": "stdout"
        },
        {
          "output_type": "execute_result",
          "data": {
            "application/vnd.google.colaboratory.intrinsic": {
              "type": "string"
            },
            "text/plain": [
              "', click on install now., select virtualbox from the list of available downloads., click on accept and then proceed with this article., click on open in the quick launch bar at the bottom of the screen., click on create a new account to join the microsoft virtualbox program., click on sign up for the virtualbox program., click on start installing windows 10 on your computer., click on continue installing windows 10 on your computer., click on run as administrator., click on complete., click on finish., click on continue., click on continue., click on continue., click on continue., click on continue., click on continue., click on continue., click on continue., click on continue., click on continue., click on continue., click on continue., click on continue., click on continue., click on continue., click on continue., click on continue., click on continue., click on continue., click on continue., click on continue., click on continue., click on continue., click on continue., click on continue., click on continue., click on continue., click on continue., click on continue.,'"
            ]
          },
          "metadata": {
            "tags": []
          },
          "execution_count": 32
        }
      ]
    },
    {
      "cell_type": "markdown",
      "metadata": {
        "id": "4KX71gPzy_bH",
        "colab_type": "text"
      },
      "source": [
        "######Performance"
      ]
    },
    {
      "cell_type": "code",
      "metadata": {
        "id": "rdMr6tAWFpG8",
        "colab_type": "code",
        "colab": {
          "base_uri": "https://localhost:8080/",
          "height": 125
        },
        "outputId": "a0b7677b-be23-49cf-e215-d3f9b566084c"
      },
      "source": [
        "!pip install rouge\n",
        "from rouge import Rouge"
      ],
      "execution_count": null,
      "outputs": [
        {
          "output_type": "stream",
          "text": [
            "Collecting rouge\n",
            "  Downloading https://files.pythonhosted.org/packages/43/cc/e18e33be20971ff73a056ebdb023476b5a545e744e3fc22acd8c758f1e0d/rouge-1.0.0-py3-none-any.whl\n",
            "Requirement already satisfied: six in /usr/local/lib/python3.6/dist-packages (from rouge) (1.12.0)\n",
            "Installing collected packages: rouge\n",
            "Successfully installed rouge-1.0.0\n"
          ],
          "name": "stdout"
        }
      ]
    },
    {
      "cell_type": "code",
      "metadata": {
        "id": "Jq8K8QqCGGjt",
        "colab_type": "code",
        "colab": {}
      },
      "source": [
        "rouge = Rouge()"
      ],
      "execution_count": null,
      "outputs": []
    },
    {
      "cell_type": "code",
      "metadata": {
        "id": "lKV-aVrkGQY4",
        "colab_type": "code",
        "colab": {}
      },
      "source": [
        "refs = results['golden_summary'][3]\n",
        "hyps = results['generated_summary'][3]\n",
        "score = rouge.get_scores(hyps, refs, avg=True)"
      ],
      "execution_count": null,
      "outputs": []
    },
    {
      "cell_type": "code",
      "metadata": {
        "id": "mbfsK7IFGyrl",
        "colab_type": "code",
        "colab": {
          "base_uri": "https://localhost:8080/",
          "height": 175
        },
        "outputId": "567233ec-6ad2-4dfc-f329-db9322512df5"
      },
      "source": [
        "score"
      ],
      "execution_count": null,
      "outputs": [
        {
          "output_type": "execute_result",
          "data": {
            "text/plain": [
              "{'rouge-1': {'f': 0.2994011929678368,\n",
              "  'p': 0.2358490566037736,\n",
              "  'r': 0.4098360655737705},\n",
              " 'rouge-2': {'f': 0.0843373447650242,\n",
              "  'p': 0.06635071090047394,\n",
              "  'r': 0.11570247933884298},\n",
              " 'rouge-l': {'f': 0.33599999516928003,\n",
              "  'p': 0.4117647058823529,\n",
              "  'r': 0.28378378378378377}}"
            ]
          },
          "metadata": {
            "tags": []
          },
          "execution_count": 38
        }
      ]
    },
    {
      "cell_type": "code",
      "metadata": {
        "id": "ter9ktdQ6_54",
        "colab_type": "code",
        "colab": {}
      },
      "source": [
        "def metric(labels, gen_target):\n",
        "  print(f'Start evaluation')\n",
        "  bar = progressbar.ProgressBar(maxval=len(dataset_loader))\n",
        "  bar.start()\n",
        "  \n",
        "\n",
        "\n",
        "  bar.finish()\n"
      ],
      "execution_count": null,
      "outputs": []
    },
    {
      "cell_type": "markdown",
      "metadata": {
        "id": "sTkqfrwoy5QR",
        "colab_type": "text"
      },
      "source": [
        "##### Freezing layers"
      ]
    },
    {
      "cell_type": "code",
      "metadata": {
        "id": "tDjdxQUI6_1w",
        "colab_type": "code",
        "colab": {}
      },
      "source": [
        "model.decoder.block[11].requires_grad=True\n",
        "model.decoder.block[4].requires_grad=True\n",
        "\n",
        "for param model.parameters():\n",
        "    param.requires_grad = False"
      ],
      "execution_count": null,
      "outputs": []
    },
    {
      "cell_type": "code",
      "metadata": {
        "id": "lfdlo_5_6_xS",
        "colab_type": "code",
        "colab": {}
      },
      "source": [
        ""
      ],
      "execution_count": null,
      "outputs": []
    },
    {
      "cell_type": "code",
      "metadata": {
        "id": "qqWc1IdF6_tA",
        "colab_type": "code",
        "colab": {}
      },
      "source": [
        ""
      ],
      "execution_count": null,
      "outputs": []
    },
    {
      "cell_type": "code",
      "metadata": {
        "id": "I7FyuTjN6_om",
        "colab_type": "code",
        "colab": {}
      },
      "source": [
        ""
      ],
      "execution_count": null,
      "outputs": []
    },
    {
      "cell_type": "code",
      "metadata": {
        "id": "2O8oTENj6_kI",
        "colab_type": "code",
        "colab": {}
      },
      "source": [
        ""
      ],
      "execution_count": null,
      "outputs": []
    },
    {
      "cell_type": "code",
      "metadata": {
        "id": "qKLE0jCV6_Wu",
        "colab_type": "code",
        "colab": {}
      },
      "source": [
        ""
      ],
      "execution_count": null,
      "outputs": []
    },
    {
      "cell_type": "code",
      "metadata": {
        "id": "IElLmIW36_Sx",
        "colab_type": "code",
        "colab": {}
      },
      "source": [
        ""
      ],
      "execution_count": null,
      "outputs": []
    },
    {
      "cell_type": "code",
      "metadata": {
        "id": "7Be5LE3q6_O2",
        "colab_type": "code",
        "colab": {}
      },
      "source": [
        ""
      ],
      "execution_count": null,
      "outputs": []
    },
    {
      "cell_type": "code",
      "metadata": {
        "id": "imlmpMSC6_K2",
        "colab_type": "code",
        "colab": {}
      },
      "source": [
        ""
      ],
      "execution_count": null,
      "outputs": []
    },
    {
      "cell_type": "code",
      "metadata": {
        "id": "7CLDteX96_Gg",
        "colab_type": "code",
        "colab": {}
      },
      "source": [
        ""
      ],
      "execution_count": null,
      "outputs": []
    },
    {
      "cell_type": "code",
      "metadata": {
        "id": "KOSEmtEe6_Ap",
        "colab_type": "code",
        "colab": {}
      },
      "source": [
        ""
      ],
      "execution_count": null,
      "outputs": []
    },
    {
      "cell_type": "code",
      "metadata": {
        "id": "jCbkYzyj6-7M",
        "colab_type": "code",
        "colab": {}
      },
      "source": [
        ""
      ],
      "execution_count": null,
      "outputs": []
    },
    {
      "cell_type": "code",
      "metadata": {
        "id": "x15lYdFGz0XL",
        "colab_type": "code",
        "colab": {}
      },
      "source": [
        ""
      ],
      "execution_count": null,
      "outputs": []
    },
    {
      "cell_type": "code",
      "metadata": {
        "id": "2NrQfhPSz0UQ",
        "colab_type": "code",
        "colab": {}
      },
      "source": [
        ""
      ],
      "execution_count": null,
      "outputs": []
    },
    {
      "cell_type": "code",
      "metadata": {
        "id": "JYnfvPt3z0Rf",
        "colab_type": "code",
        "colab": {}
      },
      "source": [
        ""
      ],
      "execution_count": null,
      "outputs": []
    },
    {
      "cell_type": "code",
      "metadata": {
        "id": "OljFlfM5z0OW",
        "colab_type": "code",
        "colab": {}
      },
      "source": [
        "class T5Model(nn.Module):\n",
        "\n",
        "  def __init__(self, t5, )"
      ],
      "execution_count": null,
      "outputs": []
    },
    {
      "cell_type": "code",
      "metadata": {
        "id": "wkpccxfe_Rwc",
        "colab_type": "code",
        "colab": {}
      },
      "source": [
        "class DictionaryDataset:\n",
        "  def __init__(self, dataset=None):\n",
        "    self.w2index = defaultdict(int)\n",
        "    self.index2w = defaultdict(lambda: 'SOS')\n",
        "    self.symbols = ['SOS','EOS','PAD']\n",
        "    self.wcount = 3\n",
        "\n",
        "    for i, s in enumerate(self.symbols):\n",
        "      self.index2w[i] = s\n",
        "    for i, s in enumerate(self.symbols):\n",
        "      self.w2index[s] = i\n",
        "      \n",
        "    if dataset:\n",
        "      for i, line in tqdm(enumerate(dataset)):\n",
        "        self.word2index(line)\n",
        "\n",
        "  def word2index(self, sentence):\n",
        "    words = sentence.split()\n",
        "    for word in words:\n",
        "      if word not in self.w2index.keys():\n",
        "        self.w2index[word] = self.wcount\n",
        "        self.index2w[self.wcount] = word\n",
        "        self.wcount +=1\n",
        "    \n",
        "  def encode_sequence(self, dataset):\n",
        "    for i, line in tqdm(enumerate(dataset)):\n",
        "      self.word2index(line)\n",
        "\n",
        "  def decode_idx(self, idx):\n",
        "    dec_words = []\n",
        "    for i in idx:\n",
        "      dec_words.append(self.index2w[i])\n",
        "    return dec_words"
      ],
      "execution_count": null,
      "outputs": []
    },
    {
      "cell_type": "markdown",
      "metadata": {
        "id": "h01oJ3XRCSBV",
        "colab_type": "text"
      },
      "source": [
        "![LSTM](https://drive.google.com/open?id=19pYBGaKGx2wTHjDC3QLMkpr5HDqTPbb6)"
      ]
    },
    {
      "cell_type": "markdown",
      "metadata": {
        "id": "ujAMkc2nDPaB",
        "colab_type": "text"
      },
      "source": [
        "![Seq2SeqWithAttention](https://drive.google.com/open?id=1QDLNN0XQ0TfeA-nyAGBhG3YgwAX0bPQU)"
      ]
    },
    {
      "cell_type": "markdown",
      "metadata": {
        "id": "gfvg8MT3RBFI",
        "colab_type": "text"
      },
      "source": [
        "You should use the same number of layers, for encoder and decoder\n",
        "shape for inputs is (batch size, sequence length), (batch size, 1) respectively.\n"
      ]
    },
    {
      "cell_type": "code",
      "metadata": {
        "id": "QQF-TwabDk4Q",
        "colab_type": "code",
        "colab": {}
      },
      "source": [
        "class Encoder(nn.Module):\n",
        "  def __init__(self,input_size, embed_size, num_hidden, batch_size, num_layers=3, dropout = 0.1):\n",
        "    super(Encoder, self).__init__()\n",
        "    self.num_hidden = num_hidden\n",
        "    self.num_layers = num_layers\n",
        "    self.input_size = input_size\n",
        "    self.batch_size = batch_size\n",
        "\n",
        "    self.embed = nn.Embedding(input_size, embed_size)\n",
        "    self.lstm = nn.LSTM(input_size=embed_size, hidden_size=num_hidden,num_layers = num_layers, dropout=(0 if num_layers ==2 else dropout))\n",
        "\n",
        "  def init_hidden(self):\n",
        "     # The axes semantics are (num_layers, minibatch_size, hidden_dim)\n",
        "    return (torch.zeros(self.num_layers, self.batch_size, self.num_hidden), torch.zeros(self.num_layers, self.batch_size, self.num_hidden))\n",
        "  def forward(self, input, hidden):\n",
        "    # input (batch size, sequence length)\n",
        "    embedding = self.embed(input)\n",
        "    #print(embedding.shape)\n",
        "    embed_out = embedding.transpose(0,1)\n",
        "    print(embed_out.shape)\n",
        "    lstm_out, hidden = self.lstm(embed_out, hidden)\n",
        "\n",
        "    # The shape of lstm_out is (seq_len, batch_size, num_hiddens).\n",
        "    # state contains the hidden state and the memory cell\n",
        "    # of the last time step, the shape is (num_layers, batch_size, num_hiddens)\n",
        "    #lstout is (seq_length, batch_size, num_hiddens)\n",
        "    return lstm_out, hidden"
      ],
      "execution_count": null,
      "outputs": []
    },
    {
      "cell_type": "code",
      "metadata": {
        "id": "m4_h0bXp0cl7",
        "colab_type": "code",
        "colab": {
          "base_uri": "https://localhost:8080/",
          "height": 34
        },
        "outputId": "1310d376-e495-41c8-fd80-730b4970dca2"
      },
      "source": [
        "encoder = Encoder(input_size =10, embed_size=8, num_hidden=16, batch_size=4)\n",
        "X = torch.zeros((4, 7),dtype=torch.long)\n",
        "hidden = encoder.init_hidden()\n",
        "output, hidden = encoder(X, hidden)"
      ],
      "execution_count": null,
      "outputs": [
        {
          "output_type": "stream",
          "text": [
            "torch.Size([7, 4, 8])\n"
          ],
          "name": "stdout"
        }
      ]
    },
    {
      "cell_type": "code",
      "metadata": {
        "id": "zJ53T62V6ZOO",
        "colab_type": "code",
        "colab": {
          "base_uri": "https://localhost:8080/",
          "height": 34
        },
        "outputId": "70b9e373-d6ba-4eed-da7d-b002257ab62b"
      },
      "source": [
        "hidden[0].shape"
      ],
      "execution_count": null,
      "outputs": [
        {
          "output_type": "execute_result",
          "data": {
            "text/plain": [
              "torch.Size([3, 4, 16])"
            ]
          },
          "metadata": {
            "tags": []
          },
          "execution_count": 89
        }
      ]
    },
    {
      "cell_type": "code",
      "metadata": {
        "id": "0XNO21wuBTGi",
        "colab_type": "code",
        "colab": {
          "base_uri": "https://localhost:8080/",
          "height": 34
        },
        "outputId": "ab86113b-05af-4271-d479-df115a533fd9"
      },
      "source": [
        "output.shape"
      ],
      "execution_count": null,
      "outputs": [
        {
          "output_type": "execute_result",
          "data": {
            "text/plain": [
              "torch.Size([7, 4, 16])"
            ]
          },
          "metadata": {
            "tags": []
          },
          "execution_count": 90
        }
      ]
    },
    {
      "cell_type": "code",
      "metadata": {
        "id": "e55gItUrF_wD",
        "colab_type": "code",
        "colab": {}
      },
      "source": [
        "class Attention(nn.Module):\n",
        "  def __init__(self, hidden_size, method='dot'):\n",
        "    super(Attention, self).__init__()\n",
        "    self.method = method\n",
        "    self.hidden_size = hidden_size\n",
        "  def dot_score(self, hidden, encoder_output):\n",
        "    return torch.sum(hidden * encoder_output, dim=2)\n",
        "\n",
        "  def forward(self, hidden, encoder_output):\n",
        "    att_prod = self.dot_score(hidden, encoder_output)\n",
        "    attn_weights = att_prod.t()\n",
        "    return F.softmax(attn_weights, dim=1).unsqueeze(1)\n",
        "\n"
      ],
      "execution_count": null,
      "outputs": []
    },
    {
      "cell_type": "code",
      "metadata": {
        "id": "Lp5VhnhRnuaL",
        "colab_type": "code",
        "colab": {}
      },
      "source": [
        "class DecoderWithAtt(nn.Module):\n",
        "  def __init__(self, embed_size_in, num_hidden, output_size, att_method=None, num_layers = 3):\n",
        "    super(DecoderWithAtt, self).__init__()\n",
        "    self.num_layers = num_layers\n",
        "    self.num_hidden = num_hidden\n",
        "    self.output_size = output_size\n",
        "    self.att_method = att_method\n",
        "\n",
        "    self.emb = nn.Embedding(embed_size_in, num_hidden)\n",
        "    self.lstm = nn.LSTM(input_size=num_hidden, hidden_size=num_hidden, num_layers = num_layers)\n",
        "    self.con_ln = nn.Linear(num_hidden * 2, num_hidden)\n",
        "    self.drop = nn.Dropout(p=0.2)\n",
        "    self.fc  = nn.Linear(self.num_hidden, self.output_size)\n",
        "    self.attention = Attention(att_method, num_hidden)\n",
        "\n",
        "  def forward(self, prev_hidden, target_input, enconder_outputs):\n",
        "    embed_out = self.emb(target_input).transpose(0,1)\n",
        "    embed_out = self.drop(embed_out)\n",
        "    print('embed out >>>', embed_out.shape)\n",
        "    output, hidden = self.lstm(embed_out, prev_hidden) # shape (1, batch_size, hidden_size), 1 for one time step word \n",
        "    print('lstm out >>>', output.shape)\n",
        "    print('hidden out >>>', hidden[0].shape)\n",
        "\n",
        "    attent_weights = self.attention(output, enconder_outputs) # (att out shape: batch_size, 1, max_length), enc in shape: (max_length, batch_size, hidden_size)\n",
        "    print('attent_weights out >>>', attent_weights.shape)\n",
        "    print('enconder_outputs >>>', enconder_outputs.shape)\n",
        "\n",
        "    context = torch.bmm(attent_weights, enconder_outputs.transpose(0,1))\n",
        "    print('context out >>>', context.shape)\n",
        "    cont_dec_out = torch.cat((context, output.transpose(0,1)), 1)\n",
        "    print('to linear out >>>', cont_dec_out.shape)\n",
        "    cont_dec_out = cont_dec_out.view(cont_dec_out.shape[0], -1)\n",
        "    concat_out = self.con_ln(cont_dec_out)\n",
        "    concat_out = torch.tanh(concat_out)\n",
        "\n",
        "    out = self.fc(concat_out)\n",
        "    out = F.softmax(out, dim=1)\n",
        "\n",
        "    return out, hidden"
      ],
      "execution_count": null,
      "outputs": []
    },
    {
      "cell_type": "code",
      "metadata": {
        "id": "--9oa_EJ6_GG",
        "colab_type": "code",
        "colab": {}
      },
      "source": [
        "decoder = DecoderWithAtt(10,16,2)"
      ],
      "execution_count": null,
      "outputs": []
    },
    {
      "cell_type": "code",
      "metadata": {
        "id": "KHklHQXG7x4d",
        "colab_type": "code",
        "colab": {
          "base_uri": "https://localhost:8080/",
          "height": 137
        },
        "outputId": "eeeb0cd9-0cd2-424f-dc6a-3823273e7fdb"
      },
      "source": [
        "x = torch.zeros((4, 1),dtype=torch.long)\n",
        "out, hidden = decoder(hidden, x, output)"
      ],
      "execution_count": null,
      "outputs": [
        {
          "output_type": "stream",
          "text": [
            "embed out >>> torch.Size([1, 4, 16])\n",
            "lstm out >>> torch.Size([1, 4, 16])\n",
            "hidden out >>> torch.Size([3, 4, 16])\n",
            "attent_weights out >>> torch.Size([4, 1, 7])\n",
            "enconder_outputs >>> torch.Size([7, 4, 16])\n",
            "context out >>> torch.Size([4, 1, 16])\n",
            "to linear out >>> torch.Size([4, 2, 16])\n"
          ],
          "name": "stdout"
        }
      ]
    },
    {
      "cell_type": "code",
      "metadata": {
        "id": "oW94xBGOOPQH",
        "colab_type": "code",
        "colab": {
          "base_uri": "https://localhost:8080/",
          "height": 34
        },
        "outputId": "0cc0b4a1-9b8f-4a40-db3a-0a809f844f35"
      },
      "source": [
        "out.shape"
      ],
      "execution_count": null,
      "outputs": [
        {
          "output_type": "execute_result",
          "data": {
            "text/plain": [
              "torch.Size([4, 2])"
            ]
          },
          "metadata": {
            "tags": []
          },
          "execution_count": 96
        }
      ]
    },
    {
      "cell_type": "code",
      "metadata": {
        "id": "fSB0L7_6QyEN",
        "colab_type": "code",
        "colab": {
          "base_uri": "https://localhost:8080/",
          "height": 34
        },
        "outputId": "6b4d1c40-e5b1-446d-c843-4deb13218d54"
      },
      "source": [
        "hidden[0].shape"
      ],
      "execution_count": null,
      "outputs": [
        {
          "output_type": "execute_result",
          "data": {
            "text/plain": [
              "torch.Size([3, 4, 16])"
            ]
          },
          "metadata": {
            "tags": []
          },
          "execution_count": 97
        }
      ]
    },
    {
      "cell_type": "code",
      "metadata": {
        "id": "5Rl0M8_pQ6sD",
        "colab_type": "code",
        "colab": {}
      },
      "source": [
        ""
      ],
      "execution_count": null,
      "outputs": []
    }
  ]
}