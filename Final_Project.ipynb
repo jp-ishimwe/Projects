{
 "cells": [
  {
   "cell_type": "markdown",
   "metadata": {
    "colab_type": "text",
    "id": "view-in-github"
   },
   "source": [
    "<a href=\"https://colab.research.google.com/github/jp-ishimwe/Projects/blob/master/Final_Project.ipynb\" target=\"_parent\"><img src=\"https://colab.research.google.com/assets/colab-badge.svg\" alt=\"Open In Colab\"/></a>"
   ]
  },
  {
   "cell_type": "code",
   "execution_count": 1,
   "metadata": {
    "colab": {},
    "colab_type": "code",
    "id": "mC1GOaVUZ0tj"
   },
   "outputs": [],
   "source": [
    "%%capture\n",
    "!pip3 install transformers --upgrade\n",
    "#!pip install transformers -q\n",
    "#!pip install wandb -q\n",
    "!pip3 install --upgrade wandb\n",
    "!pip3 install dill -q"
   ]
  },
  {
   "cell_type": "code",
   "execution_count": 2,
   "metadata": {
    "colab": {
     "base_uri": "https://localhost:8080/",
     "height": 55
    },
    "colab_type": "code",
    "id": "vxxkIi-xDrUz",
    "outputId": "3089c626-558c-4033-df7a-4a87e7c3743a"
   },
   "outputs": [
    {
     "name": "stderr",
     "output_type": "stream",
     "text": [
      "\u001b[34m\u001b[1mwandb\u001b[0m: \u001b[33mWARNING\u001b[0m W&B installed but not logged in.  Run `wandb login` or set the WANDB_API_KEY env variable.\n"
     ]
    }
   ],
   "source": [
    "#@title Import packages { run: \"auto\", vertical-output: true, display-mode: \"both\" }\n",
    "from __future__ import unicode_literals, print_function, division\n",
    "from io import open\n",
    "import unicodedata\n",
    "import string\n",
    "import re\n",
    "import random\n",
    "import pandas as pd\n",
    "import numpy as np\n",
    "from collections import defaultdict\n",
    "from sklearn.base import BaseEstimator, TransformerMixin\n",
    "from tqdm import tqdm\n",
    "from sklearn.model_selection import train_test_split\n",
    "import pickle\n",
    "import dill\n",
    "import tarfile\n",
    "import json, gzip\n",
    "import math\n",
    "from typing import Optional, Union\n",
    "import os\n",
    "\n",
    "import wandb\n",
    "\n",
    "import torch\n",
    "import torch.nn as nn\n",
    "import torch.optim as optim\n",
    "import torch.nn.functional as F\n",
    "from transformers import T5Tokenizer, T5ForConditionalGeneration\n",
    "from torch.utils.data import Dataset, DataLoader\n",
    "from torch.optim.lr_scheduler import ReduceLROnPlateau\n",
    "\n",
    "# Ignore excessive warnings\n",
    "import logging\n",
    "logging.propagate = False \n",
    "logging.getLogger().setLevel(logging.ERROR)\n",
    "\n",
    "import warnings\n",
    "warnings.filterwarnings('ignore')"
   ]
  },
  {
   "cell_type": "code",
   "execution_count": 3,
   "metadata": {
    "colab": {
     "base_uri": "https://localhost:8080/",
     "height": 126
    },
    "colab_type": "code",
    "id": "LME26NCmM8ne",
    "outputId": "70fadb92-ca06-4952-aa13-baf78a7f8000"
   },
   "outputs": [
    {
     "name": "stdout",
     "output_type": "stream",
     "text": [
      "Go to this URL in a browser: https://accounts.google.com/o/oauth2/auth?client_id=947318989803-6bn6qk8qdgf4n4g3pfee6491hc0brc4i.apps.googleusercontent.com&redirect_uri=urn%3aietf%3awg%3aoauth%3a2.0%3aoob&response_type=code&scope=email%20https%3a%2f%2fwww.googleapis.com%2fauth%2fdocs.test%20https%3a%2f%2fwww.googleapis.com%2fauth%2fdrive%20https%3a%2f%2fwww.googleapis.com%2fauth%2fdrive.photos.readonly%20https%3a%2f%2fwww.googleapis.com%2fauth%2fpeopleapi.readonly\n",
      "\n",
      "Enter your authorization code:\n",
      "··········\n",
      "Mounted at /content/drive\n"
     ]
    }
   ],
   "source": [
    "from google.colab import drive\n",
    "drive.mount('/content/drive')"
   ]
  },
  {
   "cell_type": "code",
   "execution_count": 4,
   "metadata": {
    "colab": {},
    "colab_type": "code",
    "id": "-t7E9fLj8Zjd"
   },
   "outputs": [],
   "source": [
    "#!cp '/root/optimizers.py' '/root/Projects/' # SSH\n",
    "#!cp '/home/jupyter/optimizers.py' '/home/jupyter/Projects/' # for GCP\n",
    "#!cp '/content/drive/My Drive/Colab Notebooks/optimizers.py' .\n",
    "\n",
    "\n",
    "from optimizers import AdaFactor"
   ]
  },
  {
   "cell_type": "code",
   "execution_count": 5,
   "metadata": {
    "colab": {
     "base_uri": "https://localhost:8080/",
     "height": 444
    },
    "colab_type": "code",
    "id": "7rF67H7GnK2U",
    "outputId": "73b7b959-b7c0-46b0-dfab-5d17f41d8b1d"
   },
   "outputs": [
    {
     "name": "stdout",
     "output_type": "stream",
     "text": [
      "Thu Jul 23 12:50:12 2020       \n",
      "+-----------------------------------------------------------------------------+\n",
      "| NVIDIA-SMI 450.51.05    Driver Version: 418.67       CUDA Version: 10.1     |\n",
      "|-------------------------------+----------------------+----------------------+\n",
      "| GPU  Name        Persistence-M| Bus-Id        Disp.A | Volatile Uncorr. ECC |\n",
      "| Fan  Temp  Perf  Pwr:Usage/Cap|         Memory-Usage | GPU-Util  Compute M. |\n",
      "|                               |                      |               MIG M. |\n",
      "|===============================+======================+======================|\n",
      "|   0  Tesla K80           Off  | 00000000:00:04.0 Off |                    0 |\n",
      "| N/A   37C    P8    27W / 149W |     11MiB / 11441MiB |      0%      Default |\n",
      "|                               |                      |                 ERR! |\n",
      "+-------------------------------+----------------------+----------------------+\n",
      "                                                                               \n",
      "+-----------------------------------------------------------------------------+\n",
      "| Processes:                                                                  |\n",
      "|  GPU   GI   CI        PID   Type   Process name                  GPU Memory |\n",
      "|        ID   ID                                                   Usage      |\n",
      "|=============================================================================|\n",
      "|  No running processes found                                                 |\n",
      "+-----------------------------------------------------------------------------+\n",
      "nvcc: NVIDIA (R) Cuda compiler driver\n",
      "Copyright (c) 2005-2019 NVIDIA Corporation\n",
      "Built on Sun_Jul_28_19:07:16_PDT_2019\n",
      "Cuda compilation tools, release 10.1, V10.1.243\n"
     ]
    }
   ],
   "source": [
    "!nvidia-smi\n",
    "!/usr/local/cuda/bin/nvcc --version"
   ]
  },
  {
   "cell_type": "code",
   "execution_count": 3,
   "metadata": {
    "colab": {
     "base_uri": "https://localhost:8080/",
     "height": 35
    },
    "colab_type": "code",
    "id": "1g1xKdoCnMAq",
    "outputId": "eb74740f-11c0-4e87-86c3-ab1bcc3a6255"
   },
   "outputs": [
    {
     "name": "stdout",
     "output_type": "stream",
     "text": [
      "cuda\n"
     ]
    }
   ],
   "source": [
    "#@title To proceed should be cuda { run: \"auto\", vertical-output: true }\n",
    "CUDA = torch.cuda.is_available()\n",
    "device = torch.device(\"cuda\" if CUDA else \"cpu\")\n",
    "print(device)"
   ]
  },
  {
   "cell_type": "code",
   "execution_count": 4,
   "metadata": {
    "colab": {},
    "colab_type": "code",
    "id": "Hw0ODwZcZ0uK"
   },
   "outputs": [],
   "source": [
    "##!wandb login fac9119080ca108ca15c420ede645a5e6e79a07c"
   ]
  },
  {
   "cell_type": "markdown",
   "metadata": {
    "colab_type": "text",
    "id": "nfR90Du5Z0uO"
   },
   "source": [
    "### First Log in "
   ]
  },
  {
   "cell_type": "code",
   "execution_count": 5,
   "metadata": {
    "colab": {
     "base_uri": "https://localhost:8080/",
     "height": 230
    },
    "colab_type": "code",
    "id": "mRGBjUHGZ0uO",
    "outputId": "1298d565-7f9d-43eb-9a38-0970efe560aa"
   },
   "outputs": [],
   "source": [
    "os.environ['WANDB_NOTEBOOK_NAME'] = 'Final_Project.ipynb'"
   ]
  },
  {
   "cell_type": "markdown",
   "metadata": {
    "colab_type": "text",
    "id": "1jvIoL5I0Eb5"
   },
   "source": [
    "#### Getting dataset"
   ]
  },
  {
   "cell_type": "markdown",
   "metadata": {
    "colab_type": "text",
    "id": "wGVOHhrk0GOP"
   },
   "source": [
    "You can find the dataset [here](http://lil.nlp.cornell.edu/newsroom/download/index.html)"
   ]
  },
  {
   "cell_type": "markdown",
   "metadata": {
    "colab_type": "text",
    "id": "zkDYkbKV0SUM"
   },
   "source": [
    "**Loading data**"
   ]
  },
  {
   "cell_type": "code",
   "execution_count": null,
   "metadata": {
    "colab": {},
    "colab_type": "code",
    "id": "AoIiFXg1juKC"
   },
   "outputs": [],
   "source": [
    "# fname = '/content/drive/My Drive/Colab Notebooks/newsroom-release.tar'\n",
    "\n",
    "# tar = tarfile.open(fname, \"r:\")\n",
    "# tar.extractall()\n",
    "# tar.close()"
   ]
  },
  {
   "cell_type": "code",
   "execution_count": null,
   "metadata": {
    "colab": {},
    "colab_type": "code",
    "id": "1YuQmBQpP3C7"
   },
   "outputs": [],
   "source": [
    "#!mv '/content/data/' '/content/drive/My Drive/Colab Notebooks'"
   ]
  },
  {
   "cell_type": "code",
   "execution_count": null,
   "metadata": {
    "colab": {},
    "colab_type": "code",
    "id": "GDTflryEPO9G"
   },
   "outputs": [],
   "source": [
    "#!cp -r '/content/release/' '/content/drive/My Drive/Colab Notebooks/data'"
   ]
  },
  {
   "cell_type": "code",
   "execution_count": 4,
   "metadata": {
    "colab": {},
    "colab_type": "code",
    "id": "5Z9YGB5TmYqR"
   },
   "outputs": [],
   "source": [
    "#path = '/home/jupyter/' # GCp\n",
    "path = '/root/release/' # SSH\n",
    "#path = \"/content/drive/My Drive/Colab Notebooks/data/release/\" # Colab\n",
    "\n",
    "def read_data(path, name):\n",
    "  data = []\n",
    "  with gzip.open(path + name + \".jsonl.gz\") as f: #+\".jsonl.gz\" with GCP\n",
    "      for ln in f:\n",
    "          obj = json.loads(ln)\n",
    "          data.append(obj)\n",
    "  return data\n",
    "\n",
    "trainset = read_data(path, 'train') \n",
    "devset = read_data(path, 'dev')\n",
    "#testset = read_data(path, 'test')"
   ]
  },
  {
   "cell_type": "code",
   "execution_count": 5,
   "metadata": {
    "colab": {},
    "colab_type": "code",
    "id": "Gv1SfBCrIaW4"
   },
   "outputs": [],
   "source": [
    "def get_data(data):\n",
    "  data_dict = {'text': [], 'summary': []}\n",
    "  for article in data:\n",
    "    data_dict['text'].append(article['text'])\n",
    "    data_dict['summary'].append(article['summary'])\n",
    "  return pd.DataFrame(data_dict)\n",
    "\n",
    "train_data = get_data(trainset)\n",
    "valid_data = get_data(devset)\n",
    "# test_data = get_data(testset)"
   ]
  },
  {
   "cell_type": "code",
   "execution_count": 9,
   "metadata": {
    "colab": {
     "base_uri": "https://localhost:8080/",
     "height": 194
    },
    "colab_type": "code",
    "id": "k3sSaZA_Z0ul",
    "outputId": "56ff0a7d-bb37-4fc0-88f6-1d37b35dfee6"
   },
   "outputs": [
    {
     "data": {
      "text/html": [
       "<div>\n",
       "<style scoped>\n",
       "    .dataframe tbody tr th:only-of-type {\n",
       "        vertical-align: middle;\n",
       "    }\n",
       "\n",
       "    .dataframe tbody tr th {\n",
       "        vertical-align: top;\n",
       "    }\n",
       "\n",
       "    .dataframe thead th {\n",
       "        text-align: right;\n",
       "    }\n",
       "</style>\n",
       "<table border=\"1\" class=\"dataframe\">\n",
       "  <thead>\n",
       "    <tr style=\"text-align: right;\">\n",
       "      <th></th>\n",
       "      <th>text</th>\n",
       "      <th>summary</th>\n",
       "    </tr>\n",
       "  </thead>\n",
       "  <tbody>\n",
       "    <tr>\n",
       "      <th>0</th>\n",
       "      <td>HAMBURG, Germany, June 3  As he left the socc...</td>\n",
       "      <td>A surge in discriminatory behavior toward blac...</td>\n",
       "    </tr>\n",
       "    <tr>\n",
       "      <th>1</th>\n",
       "      <td>WASHINGTON, Dec. 23 - The National Security Ag...</td>\n",
       "      <td>The volume of information harvested, without \\...</td>\n",
       "    </tr>\n",
       "    <tr>\n",
       "      <th>2</th>\n",
       "      <td>IF outsized executive pay has indeed become a ...</td>\n",
       "      <td>The battle between Pfizer Inc.'s investors and...</td>\n",
       "    </tr>\n",
       "    <tr>\n",
       "      <th>3</th>\n",
       "      <td>BY A.J. BENZA &amp; MICHAEL LEWITTES\\n\\nIf Simon R...</td>\n",
       "      <td>If Simon Rex looks a little familiar, it may n...</td>\n",
       "    </tr>\n",
       "    <tr>\n",
       "      <th>4</th>\n",
       "      <td>Spinach has terrorized generations of veggie-p...</td>\n",
       "      <td>POPEYE-WORTHY PIE. PHYLLO DOUGH WRAPS SPINACH ...</td>\n",
       "    </tr>\n",
       "  </tbody>\n",
       "</table>\n",
       "</div>"
      ],
      "text/plain": [
       "                                                text                                            summary\n",
       "0  HAMBURG, Germany, June 3  As he left the socc...  A surge in discriminatory behavior toward blac...\n",
       "1  WASHINGTON, Dec. 23 - The National Security Ag...  The volume of information harvested, without \\...\n",
       "2  IF outsized executive pay has indeed become a ...  The battle between Pfizer Inc.'s investors and...\n",
       "3  BY A.J. BENZA & MICHAEL LEWITTES\\n\\nIf Simon R...  If Simon Rex looks a little familiar, it may n...\n",
       "4  Spinach has terrorized generations of veggie-p...  POPEYE-WORTHY PIE. PHYLLO DOUGH WRAPS SPINACH ..."
      ]
     },
     "execution_count": 9,
     "metadata": {},
     "output_type": "execute_result"
    }
   ],
   "source": [
    "train_data.head()"
   ]
  },
  {
   "cell_type": "code",
   "execution_count": 10,
   "metadata": {
    "colab": {
     "base_uri": "https://localhost:8080/",
     "height": 35
    },
    "colab_type": "code",
    "id": "eia69USAvek8",
    "outputId": "5de67e80-2788-4f05-ba70-f3e43ca044ed"
   },
   "outputs": [
    {
     "name": "stdout",
     "output_type": "stream",
     "text": [
      "The size of training dataset:(995041, 2) | validation dataset: (108837, 2)\n"
     ]
    }
   ],
   "source": [
    "print(f'The size of training dataset:{train_data.shape} | validation dataset: {valid_data.shape}')"
   ]
  },
  {
   "cell_type": "code",
   "execution_count": 6,
   "metadata": {
    "colab": {},
    "colab_type": "code",
    "id": "JX6clAc9wHuy"
   },
   "outputs": [],
   "source": [
    "contraction = {\"isn't\": \"is not\", \"aren't\": \"are not\",\"can't\": \"cannot\", \"could've\": \"could have\", \"couldn't\": \"could not\",\n",
    "                           \"didn't\": \"did not\", \"doesn't\": \"does not\", \"don't\": \"do not\", \"hadn't\": \"had not\", \"hasn't\": \"has not\", \"haven't\": \"have not\",\n",
    "                           \"he'd\": \"he would\",\"he'll\": \"he will\", \"he's\": \"he is\", \"how'd\": \"how did\", \"how'd'y\": \"how do you\", \"how'll\": \"how will\", \"how's\": \"how is\",\n",
    "                           \"I'd\": \"I would\", \"I'd've\": \"I would have\", \"I'll\": \"I will\", \"I'll've\": \"I will have\",\"I'm\": \"I am\", \"I've\": \"I have\", \"i'd\": \"i would\",\n",
    "                           \"i'd've\": \"i would have\", \"i'll\": \"i will\",  \"i'll've\": \"i will have\",\"i'm\": \"i am\", \"i've\": \"i have\", \"isn't\": \"is not\", \"it'd\": \"it would\",\n",
    "                           \"it'd've\": \"it would have\", \"it'll\": \"it will\", \"it'll've\": \"it will have\",\"it's\": \"it is\", \"let's\": \"let us\", \"ma'am\": \"madam\",\n",
    "                           \"mayn't\": \"may not\", \"might've\": \"might have\",\"mightn't\": \"might not\",\"mightn't've\": \"might not have\", \"must've\": \"must have\",\n",
    "                           \"mustn't\": \"must not\", \"mustn't've\": \"must not have\", \"needn't\": \"need not\", \"needn't've\": \"need not have\",\"o'clock\": \"of the clock\",\n",
    "                           \"oughtn't\": \"ought not\", \"oughtn't've\": \"ought not have\", \"shan't\": \"shall not\", \"sha'n't\": \"shall not\", \"shan't've\": \"shall not have\",\n",
    "                           \"she'd\": \"she would\", \"she'd've\": \"she would have\", \"she'll\": \"she will\", \"she'll've\": \"she will have\", \"she's\": \"she is\",\n",
    "                           \"should've\": \"should have\", \"shouldn't\": \"should not\", \"shouldn't've\": \"should not have\", \"so've\": \"so have\",\"so's\": \"so as\",\n",
    "                           \"this's\": \"this is\",\"that'd\": \"that would\", \"that'd've\": \"that would have\", \"that's\": \"that is\", \"there'd\": \"there would\",\n",
    "                           \"there'd've\": \"there would have\", \"there's\": \"there is\", \"here's\": \"here is\",\"they'd\": \"they would\", \"they'd've\": \"they would have\",\n",
    "                           \"they'll\": \"they will\", \"they'll've\": \"they will have\", \"they're\": \"they are\", \"they've\": \"they have\", \"to've\": \"to have\",\n",
    "                           \"wasn't\": \"was not\", \"we'd\": \"we would\", \"we'd've\": \"we would have\", \"we'll\": \"we will\", \"we'll've\": \"we will have\", \"we're\": \"we are\",\n",
    "                           \"we've\": \"we have\", \"weren't\": \"were not\", \"what'll\": \"what will\", \"what'll've\": \"what will have\", \"what're\": \"what are\",\n",
    "                           \"what's\": \"what is\", \"what've\": \"what have\", \"when's\": \"when is\", \"when've\": \"when have\", \"where'd\": \"where did\", \"where's\": \"where is\",\n",
    "                           \"where've\": \"where have\", \"who'll\": \"who will\", \"who'll've\": \"who will have\", \"who's\": \"who is\", \"who've\": \"who have\",\n",
    "                           \"why's\": \"why is\", \"why've\": \"why have\", \"will've\": \"will have\", \"won't\": \"will not\", \"won't've\": \"will not have\",\n",
    "                           \"would've\": \"would have\", \"wouldn't\": \"would not\", \"wouldn't've\": \"would not have\", \"y'all\": \"you all\",\n",
    "                           \"y'all'd\": \"you all would\",\"y'all'd've\": \"you all would have\",\"y'all're\": \"you all are\",\"y'all've\": \"you all have\",\n",
    "                           \"you'd\": \"you would\", \"you'd've\": \"you would have\", \"you'll\": \"you will\", \"you ll\":\"you will\", \"you'll've\": \"you will have\",\n",
    "                           \"you're\": \"you are\", \"you re\": \"you are\" , \"you've\": \"you have\"}"
   ]
  },
  {
   "cell_type": "markdown",
   "metadata": {
    "colab_type": "text",
    "id": "E38ktgfStkI9"
   },
   "source": [
    "###### Checking for NA"
   ]
  },
  {
   "cell_type": "code",
   "execution_count": 12,
   "metadata": {
    "colab": {
     "base_uri": "https://localhost:8080/",
     "height": 106
    },
    "colab_type": "code",
    "id": "b-NTfClirfL3",
    "outputId": "10a3b951-f509-471f-9549-dae2a8f265d1"
   },
   "outputs": [
    {
     "data": {
      "text/plain": [
       "(text       0\n",
       " summary    0\n",
       " dtype: int64, text       0\n",
       " summary    0\n",
       " dtype: int64)"
      ]
     },
     "execution_count": 12,
     "metadata": {},
     "output_type": "execute_result"
    }
   ],
   "source": [
    "train_data.isna().sum(), valid_data.isna().sum()"
   ]
  },
  {
   "cell_type": "markdown",
   "metadata": {
    "colab_type": "text",
    "id": "0HQ2wJrXEAcr"
   },
   "source": [
    "##### Preprocessing"
   ]
  },
  {
   "cell_type": "code",
   "execution_count": 7,
   "metadata": {
    "colab": {},
    "colab_type": "code",
    "id": "6_qmLtaZp9s0"
   },
   "outputs": [],
   "source": [
    "class TextProccessing(BaseEstimator, TransformerMixin):\n",
    "  def __init__(self, column, contraction):\n",
    "    self.column = column\n",
    "    self.contraction = contraction\n",
    "  def fit(self, x, y=None):\n",
    "    return self\n",
    "  @staticmethod\n",
    "  def preprocessing(line):\n",
    "    date_pattern = r'(0?[1-9]/|1[0-2]/)(0?[1-9]/|[1-2][0-9]/|3[0-1]/)[0-9]{4}'\n",
    "    line = line.split(\"\\n\")\n",
    "    clean_line = []\n",
    "    for l in line:\n",
    "        if re.match(date_pattern, l) is not None:\n",
    "            pass\n",
    "        else:\n",
    "            clean_line.append(l)\n",
    "    line = \"\\n\".join(clean_line)\n",
    "\n",
    "    line = re.sub(r\"http\\S+\", \" \",line)\n",
    "    line = re.sub(r\"www\\S+\", \" \",line)\n",
    "    line = line.replace('—', ' ')\n",
    "    line = line.replace('-', ' ')\n",
    "    line = line.replace('&', 'and')\n",
    "    line = line.replace('[...]', '')\n",
    "    line = line.replace('...', '.')\n",
    "    line = line.replace('…', ' ')\n",
    "    line = re.sub(re.compile('<.*?>'), '', line)\n",
    "    line = re.sub(re.compile('@\\S+'), r'', line)\n",
    "    line = re.sub(r'#\\S+ ', r'', line)\n",
    "    line = line.replace(\"â\", \"'\") \n",
    "    line = line.replace('--', ' ')\n",
    "    line = re.sub(r'[^\\sa-zA-Z0-9.,!?]',' ',line)\n",
    "    line = line.strip()\n",
    "    line = line.replace(\"\\xa0\", \"\")\n",
    "    line = line.replace(\"click to share on twitter\", \"\")\n",
    "\n",
    "    line = re.sub(r'[ \\t]{2,}',' ', line)\n",
    "    return line\n",
    "\n",
    "  def transform(self, X):\n",
    "    #X = X[self.column].replace(self.contraction)\n",
    "    return X[self.column].replace(self.contraction).fillna('').apply(lambda x: self.preprocessing(x)) "
   ]
  },
  {
   "cell_type": "code",
   "execution_count": 8,
   "metadata": {
    "colab": {},
    "colab_type": "code",
    "id": "m-XAtbFVI24a"
   },
   "outputs": [],
   "source": [
    "class Processor:\n",
    "\n",
    "  def __init__(self, data, \n",
    "               contraction,\n",
    "               max_length = None):\n",
    "    \n",
    "    self.max_length = max_length\n",
    "    self.data = data\n",
    "    self.contraction = contraction\n",
    "\n",
    "    \n",
    "  def cleaning(self, data):\n",
    "    if not isinstance(data, pd.DataFrame):\n",
    "      raise TypeError('Only Dataframes are allowed, but got data={}'.format(data))\n",
    "    else:\n",
    "      print('Please wait, we are cleaning...')\n",
    "      titles = ['text', 'summary']\n",
    "      data_dict = {}\n",
    "\n",
    "      for title in titles:\n",
    "        proc = TextProccessing(title, self.contraction)\n",
    "        res = proc.fit_transform(data)\n",
    "        data_dict[title] = res\n",
    "\n",
    "      ss = pd.DataFrame(data_dict)\n",
    "      \n",
    "      return ss\n",
    "\n",
    "  @staticmethod\n",
    "  def split(data):\n",
    "    return len(data.split())\n",
    "\n",
    "  def get_max_tokens(self, dataframe):\n",
    "\n",
    "    dataframe['article_len'] = dataframe['text'].apply(self.split)\n",
    "    dataframe['summary_len'] = dataframe['summary'].apply(self.split)\n",
    "    \n",
    "    max_len = {'max_article_tokens': max(dataframe['article_len']), \n",
    "                'min_article_tokens': min(dataframe['article_len']),\n",
    "                'max_summary_tokens': max(dataframe['summary_len']),\n",
    "                'min_summary_tokens': min(dataframe['summary_len'])}\n",
    "    return max_len, dataframe\n",
    "\n",
    "  def cleaned_data(self):\n",
    "    dataframe = self.cleaning(self.data)\n",
    "    \n",
    "    if self.max_length is None:\n",
    "      min_len, dataframe = self.get_max_tokens(dataframe)\n",
    "    else:\n",
    "      min_len = self.max_length\n",
    "\n",
    "    min_length = min_len['min_article_tokens']\n",
    "    idx_list = []\n",
    "    for idx, paragraph in tqdm(enumerate(dataframe['text'])):\n",
    "        pragraph = len(paragraph.split())\n",
    "        if pragraph < min_length:\n",
    "          idx_list.append(idx)\n",
    "    final_data = dataframe.drop(idx_list)\n",
    "    final_data = final_data.reset_index(drop=True)\n",
    "\n",
    "    max_len, final_data = self.get_max_tokens(final_data)\n",
    "\n",
    "    print('Done!')\n",
    "    \n",
    "    return final_data, max_len"
   ]
  },
  {
   "cell_type": "code",
   "execution_count": 9,
   "metadata": {
    "colab": {},
    "colab_type": "code",
    "id": "bNRiUhXoVkvY"
   },
   "outputs": [],
   "source": [
    "maxlen = {'max_article_tokens': 512,\n",
    "          'max_summary_tokens': 300,\n",
    "          'min_article_tokens': 100,\n",
    "          'min_summary_tokens': 0}"
   ]
  },
  {
   "cell_type": "code",
   "execution_count": 10,
   "metadata": {
    "colab": {
     "base_uri": "https://localhost:8080/",
     "height": 35
    },
    "colab_type": "code",
    "id": "oBiSvEkhz2ol",
    "outputId": "1e7a03cb-5f67-456c-e00c-5cca001aad15"
   },
   "outputs": [
    {
     "name": "stdout",
     "output_type": "stream",
     "text": [
      "Please wait, we are cleaning...\n"
     ]
    },
    {
     "name": "stderr",
     "output_type": "stream",
     "text": [
      "995041it [00:31, 31844.18it/s]\n"
     ]
    },
    {
     "name": "stdout",
     "output_type": "stream",
     "text": [
      "Done!\n"
     ]
    }
   ],
   "source": [
    "textproc = Processor(train_data, contraction, maxlen)\n",
    "train_processed, doc_lengths = textproc.cleaned_data()"
   ]
  },
  {
   "cell_type": "code",
   "execution_count": 12,
   "metadata": {},
   "outputs": [],
   "source": [
    "train_processed.to_pickle(\"./train_processed.pkl\")"
   ]
  },
  {
   "cell_type": "code",
   "execution_count": 6,
   "metadata": {},
   "outputs": [],
   "source": [
    "train_processed = pd.read_pickle(\"./train_processed.pkl\")"
   ]
  },
  {
   "cell_type": "code",
   "execution_count": 13,
   "metadata": {
    "colab": {},
    "colab_type": "code",
    "id": "AeW5BNIkZ0u7"
   },
   "outputs": [
    {
     "name": "stdout",
     "output_type": "stream",
     "text": [
      "Please wait, we are cleaning...\n"
     ]
    },
    {
     "name": "stderr",
     "output_type": "stream",
     "text": [
      "108837it [00:03, 32442.50it/s]\n"
     ]
    },
    {
     "name": "stdout",
     "output_type": "stream",
     "text": [
      "Done!\n"
     ]
    }
   ],
   "source": [
    "textproc = Processor(valid_data, contraction, maxlen)\n",
    "valid_processed, valid_doc_lengths = textproc.cleaned_data()"
   ]
  },
  {
   "cell_type": "code",
   "execution_count": 14,
   "metadata": {},
   "outputs": [],
   "source": [
    "valid_processed.to_pickle(\"./valid_processed.pkl\")"
   ]
  },
  {
   "cell_type": "code",
   "execution_count": 7,
   "metadata": {},
   "outputs": [],
   "source": [
    "valid_processed = pd.read_pickle(\"./valid_processed.pkl\")"
   ]
  },
  {
   "cell_type": "code",
   "execution_count": 11,
   "metadata": {
    "colab": {
     "base_uri": "https://localhost:8080/",
     "height": 210
    },
    "colab_type": "code",
    "id": "MNmq9Mgx_BNx",
    "outputId": "76787690-88a2-49c8-eed6-de45a698b67f"
   },
   "outputs": [
    {
     "name": "stdout",
     "output_type": "stream",
     "text": [
      "<class 'pandas.core.frame.DataFrame'>\n",
      "RangeIndex: 951381 entries, 0 to 951380\n",
      "Data columns (total 4 columns):\n",
      " #   Column       Non-Null Count   Dtype \n",
      "---  ------       --------------   ----- \n",
      " 0   text         951381 non-null  object\n",
      " 1   summary      951381 non-null  object\n",
      " 2   article_len  951381 non-null  int64 \n",
      " 3   summary_len  951381 non-null  int64 \n",
      "dtypes: int64(2), object(2)\n",
      "memory usage: 29.0+ MB\n"
     ]
    }
   ],
   "source": [
    "train_processed.info()"
   ]
  },
  {
   "cell_type": "markdown",
   "metadata": {
    "colab_type": "text",
    "id": "Ko-HBLqNZ0vA"
   },
   "source": [
    "Only one article droped that was having zeros length. However we still have some article with no summaries. Therefore we can get rid off them."
   ]
  },
  {
   "cell_type": "code",
   "execution_count": 28,
   "metadata": {
    "colab": {
     "base_uri": "https://localhost:8080/",
     "height": 87
    },
    "colab_type": "code",
    "id": "ngCA4TwV1YBW",
    "outputId": "35a242e0-e94a-434d-e6ab-2f4dcaf6022d"
   },
   "outputs": [],
   "source": [
    "doc_lengths"
   ]
  },
  {
   "cell_type": "code",
   "execution_count": 8,
   "metadata": {
    "colab": {},
    "colab_type": "code",
    "id": "6jOAe_ZbZ0vD"
   },
   "outputs": [],
   "source": [
    "indices = np.where(train_processed['summary_len'] < 10)\n",
    "train_processed_data = train_processed.drop(indices[0])\n",
    "train_processed_data = train_processed_data.reset_index(drop=True)\n",
    "#train_processed.iloc[indices[0]]"
   ]
  },
  {
   "cell_type": "code",
   "execution_count": 10,
   "metadata": {
    "colab": {},
    "colab_type": "code",
    "id": "Tcp3ytvbZ0vF"
   },
   "outputs": [],
   "source": [
    "#train_data.iloc[954753]['summary'] # '<ul>\\n\\t<li><b>£', 'Ø¨Ø§ Ø§Û\\x8cÙ\\x86 Ø§Ø\\xadØ³Ø§Ø³ Ø¯Ø±Ù\\x85Ø§Ù\\x86Ø¯Ú¯Û\\x8cØ\\x8c Ø¨Ù\\x87 Ù\\x86Ø¸Ø±Øª Ù\\x85Û\\x8câ\\x80\\x8fØ±Ø³Ø¯ Ú©Ù\\x87 ØªØ\\xadØ±Û\\x8cÙ\\x85â\\x80\\x8fÙ\\x87Ø§ Ø¯Ø§Ø±Ù\\x86Ø¯ Ú©Ø§Ø± Ù\\x85Û\\x8câ\\x80\\x8fÚ©Ù\\x86Ù\\x86Ø¯'"
   ]
  },
  {
   "cell_type": "code",
   "execution_count": 11,
   "metadata": {
    "colab": {},
    "colab_type": "code",
    "id": "m3FQWdFDZ0vK",
    "outputId": "25b1562f-26fc-4abb-b594-65e3be8cdd6e"
   },
   "outputs": [
    {
     "name": "stdout",
     "output_type": "stream",
     "text": [
      "<class 'pandas.core.frame.DataFrame'>\n",
      "RangeIndex: 882676 entries, 0 to 882675\n",
      "Data columns (total 4 columns):\n",
      " #   Column       Non-Null Count   Dtype \n",
      "---  ------       --------------   ----- \n",
      " 0   text         882676 non-null  object\n",
      " 1   summary      882676 non-null  object\n",
      " 2   article_len  882676 non-null  int64 \n",
      " 3   summary_len  882676 non-null  int64 \n",
      "dtypes: int64(2), object(2)\n",
      "memory usage: 26.9+ MB\n"
     ]
    }
   ],
   "source": [
    "train_processed_data.info()"
   ]
  },
  {
   "cell_type": "code",
   "execution_count": 12,
   "metadata": {
    "colab": {
     "base_uri": "https://localhost:8080/",
     "height": 158
    },
    "colab_type": "code",
    "id": "x9chLqw-PK9e",
    "outputId": "e2cebd34-52fa-4767-d432-c8b0c9af6d9d"
   },
   "outputs": [
    {
     "data": {
      "text/plain": [
       "0.5000     24.0\n",
       "0.7500     31.0\n",
       "0.9000     44.0\n",
       "0.9500     58.0\n",
       "0.9900    141.0\n",
       "0.9990    343.0\n",
       "0.9999    663.0\n",
       "Name: summary_len, dtype: float64"
      ]
     },
     "execution_count": 12,
     "metadata": {},
     "output_type": "execute_result"
    }
   ],
   "source": [
    "train_processed_data['summary_len'].quantile([0.5, 0.75, 0.9, 0.95, 0.99, 0.999, 0.9999])"
   ]
  },
  {
   "cell_type": "code",
   "execution_count": 34,
   "metadata": {
    "colab": {
     "base_uri": "https://localhost:8080/",
     "height": 158
    },
    "colab_type": "code",
    "id": "hBlW5wqJpmJK",
    "outputId": "7a8991bf-5f84-4e1a-9a00-e071c1ee35e3"
   },
   "outputs": [
    {
     "data": {
      "text/plain": [
       "0.1000      192.000\n",
       "0.2500      322.000\n",
       "0.4000      465.000\n",
       "0.5000      574.000\n",
       "0.7500      890.000\n",
       "0.9000     1237.000\n",
       "0.9500     1575.000\n",
       "0.9900     3206.250\n",
       "0.9990     8660.600\n",
       "0.9999    23091.975\n",
       "Name: article_len, dtype: float64"
      ]
     },
     "execution_count": 34,
     "metadata": {},
     "output_type": "execute_result"
    }
   ],
   "source": [
    "train_processed_data['article_len'].quantile([0.1,0.25,0.4,0.5, 0.75, 0.9, 0.95, 0.99, 0.999, 0.9999])"
   ]
  },
  {
   "cell_type": "code",
   "execution_count": 35,
   "metadata": {
    "colab": {},
    "colab_type": "code",
    "id": "kv13R15mZ0vR",
    "outputId": "65161116-70d3-47cb-891a-6ab9b410c845"
   },
   "outputs": [
    {
     "name": "stdout",
     "output_type": "stream",
     "text": [
      "<class 'pandas.core.frame.DataFrame'>\n",
      "RangeIndex: 104147 entries, 0 to 104146\n",
      "Data columns (total 4 columns):\n",
      " #   Column       Non-Null Count   Dtype \n",
      "---  ------       --------------   ----- \n",
      " 0   text         104147 non-null  object\n",
      " 1   summary      104147 non-null  object\n",
      " 2   article_len  104147 non-null  int64 \n",
      " 3   summary_len  104147 non-null  int64 \n",
      "dtypes: int64(2), object(2)\n",
      "memory usage: 3.2+ MB\n"
     ]
    }
   ],
   "source": [
    "valid_processed.info()"
   ]
  },
  {
   "cell_type": "code",
   "execution_count": 37,
   "metadata": {
    "colab": {},
    "colab_type": "code",
    "id": "iM7EnQ8MZ0vU",
    "outputId": "1864aa06-c476-4154-9182-b01304eeeb7a"
   },
   "outputs": [],
   "source": [
    "valid_doc_lengths"
   ]
  },
  {
   "cell_type": "code",
   "execution_count": 9,
   "metadata": {
    "colab": {},
    "colab_type": "code",
    "id": "lAWgJ8x4Z0vW"
   },
   "outputs": [],
   "source": [
    "inds = np.where(valid_processed['summary_len'] < 10)\n",
    "#valid_processed.iloc[inds[0]]\n",
    "valid_processed_data = valid_processed.drop(inds[0])\n",
    "valid_processed_data = valid_processed_data.reset_index(drop=True)"
   ]
  },
  {
   "cell_type": "code",
   "execution_count": 14,
   "metadata": {
    "colab": {},
    "colab_type": "code",
    "id": "R7yoTzCmZ0vZ",
    "outputId": "5a1ff212-0dbf-403f-8b94-fe2078e9104a"
   },
   "outputs": [
    {
     "name": "stdout",
     "output_type": "stream",
     "text": [
      "<class 'pandas.core.frame.DataFrame'>\n",
      "RangeIndex: 96581 entries, 0 to 96580\n",
      "Data columns (total 4 columns):\n",
      " #   Column       Non-Null Count  Dtype \n",
      "---  ------       --------------  ----- \n",
      " 0   text         96581 non-null  object\n",
      " 1   summary      96581 non-null  object\n",
      " 2   article_len  96581 non-null  int64 \n",
      " 3   summary_len  96581 non-null  int64 \n",
      "dtypes: int64(2), object(2)\n",
      "memory usage: 2.9+ MB\n"
     ]
    }
   ],
   "source": [
    "valid_processed_data.info()"
   ]
  },
  {
   "cell_type": "code",
   "execution_count": 6,
   "metadata": {
    "colab": {},
    "colab_type": "code",
    "id": "3nMUVVJVZ0vc",
    "outputId": "d29ff526-5af4-4521-f8c4-bea7da5bd62d"
   },
   "outputs": [
    {
     "data": {
      "text/plain": [
       "0.5000      571.000\n",
       "0.7500      885.000\n",
       "0.9000     1228.000\n",
       "0.9500     1568.000\n",
       "0.9900     3119.600\n",
       "0.9990     8641.460\n",
       "0.9999    22122.936\n",
       "Name: article_len, dtype: float64"
      ]
     },
     "execution_count": 6,
     "metadata": {},
     "output_type": "execute_result"
    }
   ],
   "source": [
    "valid_processed_data['article_len'].quantile([0.5, 0.75, 0.9, 0.95, 0.99, 0.999, 0.9999])"
   ]
  },
  {
   "cell_type": "code",
   "execution_count": 7,
   "metadata": {
    "colab": {},
    "colab_type": "code",
    "id": "70NxcZwHZ0ve",
    "outputId": "23d8a423-31aa-4394-abdc-9c85a4b93123"
   },
   "outputs": [
    {
     "data": {
      "text/plain": [
       "0.5000     24.000\n",
       "0.7500     31.000\n",
       "0.9000     45.000\n",
       "0.9500     60.000\n",
       "0.9900    146.000\n",
       "0.9990    364.000\n",
       "0.9999    724.234\n",
       "Name: summary_len, dtype: float64"
      ]
     },
     "execution_count": 7,
     "metadata": {},
     "output_type": "execute_result"
    }
   ],
   "source": [
    "valid_processed_data['summary_len'].quantile([0.5, 0.75, 0.9, 0.95, 0.99, 0.999, 0.9999])"
   ]
  },
  {
   "cell_type": "code",
   "execution_count": 10,
   "metadata": {
    "colab": {
     "base_uri": "https://localhost:8080/",
     "height": 34
    },
    "colab_type": "code",
    "id": "bFFt1a_35GZR",
    "outputId": "f0e6781d-9141-4f4b-d915-9c6d5000a5dc"
   },
   "outputs": [
    {
     "name": "stdout",
     "output_type": "stream",
     "text": [
      "art len:512, sum len:150\n"
     ]
    }
   ],
   "source": [
    "art = 512 #int(train_processed_data['article_len'].quantile(0.9900))\n",
    "sum_ = 150# int(train_processed_data['summary_len'].quantile(0.9900))\n",
    "\n",
    "print(f'art len:{art}, sum len:{sum_}')"
   ]
  },
  {
   "cell_type": "code",
   "execution_count": 11,
   "metadata": {
    "colab": {},
    "colab_type": "code",
    "id": "dxo2FbB0Z0vj",
    "outputId": "ea4b1e36-8de2-4621-f5b1-4d61bb65c352"
   },
   "outputs": [
    {
     "name": "stdout",
     "output_type": "stream",
     "text": [
      "art len:512, sum len:150\n"
     ]
    }
   ],
   "source": [
    "artV = 512 #int(valid_processed_data['article_len'].quantile(0.9900))\n",
    "sumV = 150# int(valid_processed_data['summary_len'].quantile(0.9900))\n",
    "\n",
    "print(f'art len:{artV}, sum len:{sumV}')"
   ]
  },
  {
   "cell_type": "markdown",
   "metadata": {
    "colab_type": "text",
    "id": "dtuTFeLttppa"
   },
   "source": [
    "#### Creating Custom Dataset"
   ]
  },
  {
   "cell_type": "code",
   "execution_count": 12,
   "metadata": {
    "colab": {},
    "colab_type": "code",
    "id": "iYEBtk-Ctyy4"
   },
   "outputs": [],
   "source": [
    "class CustomDataReader(Dataset):\n",
    "  \"\"\"\n",
    "  Loading data to be used in pytorch pre-trained models\n",
    "  \n",
    "  \"\"\"\n",
    "  def __init__(self, dataframe, T5tokenizer, max_article_tokens=None,max_summary_tokens=None ):\n",
    "    self.tokenizer = T5tokenizer\n",
    "    self.dataframe = dataframe\n",
    "    self.eos = ' </s>'  #tokenizer.eos_token\n",
    "    self.sos = '<pad> ' #tokenizer.pad_token\n",
    "    self.source_len = max_article_tokens\n",
    "    self.target_len = max_summary_tokens\n",
    "  \n",
    "  def __len__(self):\n",
    "    return len(self.dataframe)\n",
    "\n",
    "  def __getitem__(self, idx):\n",
    "    articles = \"summarize: \" + self.dataframe.text[idx] + self.eos\n",
    "    articles = ' '.join(articles.split())\n",
    "\n",
    "    summary = self.sos + self.dataframe.summary[idx] + self.eos\n",
    "    summary = ' '.join(summary.split())\n",
    "\n",
    "    source_tokenized = self.tokenizer.batch_encode_plus([articles], max_length= self.source_len, pad_to_max_length=True, truncation=True,return_tensors='pt')\n",
    "    target_tokenized = self.tokenizer.batch_encode_plus([summary], max_length= self.target_len, pad_to_max_length=True, truncation=True,return_tensors='pt')\n",
    "\n",
    "    source_ids = source_tokenized['input_ids'].squeeze(0)\n",
    "    source_mask = source_tokenized['attention_mask'].squeeze(0)\n",
    "\n",
    "    summary_ids = target_tokenized['input_ids'].squeeze(0)\n",
    "    summary_mask = target_tokenized['attention_mask'].squeeze(0)\n",
    "\n",
    "    return source_ids, source_mask, summary_ids, summary_mask\n"
   ]
  },
  {
   "cell_type": "code",
   "execution_count": 13,
   "metadata": {},
   "outputs": [],
   "source": [
    "class AverageMeter:\n",
    "    \"\"\"Computes and stores the average and current value\"\"\"\n",
    "    def __init__(self):\n",
    "        self.reset()\n",
    "\n",
    "    def reset(self):\n",
    "        self.val = 0\n",
    "        self.avg = 0\n",
    "        self.sum = 0\n",
    "        self.count = 0\n",
    "\n",
    "    def update(self, val, n=1):\n",
    "        self.val = val\n",
    "        self.sum += val * n\n",
    "        self.count += n\n",
    "        self.avg = self.sum / self.count"
   ]
  },
  {
   "cell_type": "markdown",
   "metadata": {
    "colab_type": "text",
    "id": "mqfiCrePYQIK"
   },
   "source": [
    "#### Training Loop"
   ]
  },
  {
   "cell_type": "code",
   "execution_count": 14,
   "metadata": {
    "colab": {},
    "colab_type": "code",
    "id": "hQwJS66iz0uS"
   },
   "outputs": [],
   "source": [
    "def training(model, dataset_loader, optimizer,log_interval,eps_sched, batchs, regularizer,iteration=0):\n",
    "\n",
    "    model.train()\n",
    "    avg_loss = 0\n",
    "    nItem = 0\n",
    "\n",
    "\n",
    "    print(f'Start training for epoch: {iteration}')\n",
    "    losses = AverageMeter()\n",
    "    tqdok = tqdm(dataset_loader, total=len(dataset_loader))\n",
    " \n",
    "    for idx, data_train in enumerate(tqdok):\n",
    "\n",
    "        input_ids, source_mask, summary_ids, summary_mask = data_train\n",
    "\n",
    "        input_ids = input_ids.to(device, dtype = torch.long)\n",
    "        source_mask = source_mask.to(device, dtype = torch.float)\n",
    "        summary_ids = summary_ids.to(device, dtype = torch.long)\n",
    "\n",
    "        target_labels = summary_ids[:, :-1].contiguous()\n",
    "        langm_labels = summary_ids[:, 1:].clone().detach()\n",
    "        langm_labels[summary_ids[:, 1:] == tokenizer.pad_token_id] = -100\n",
    "\n",
    "        optimizer.zero_grad()\n",
    "\n",
    "        output = model(input_ids=input_ids, attention_mask = source_mask, decoder_input_ids=target_labels, lm_labels=langm_labels, lamda=regularizer)\n",
    "\n",
    "        loss = output[0]\n",
    "\n",
    "        loss.backward()\n",
    "        optimizer.step()\n",
    "\n",
    "        bs = input_ids.size(0)\n",
    "        nItem += bs        \n",
    "        \n",
    "        itr = iteration*(len(dataset_loader.dataset)//batchs) + idx\n",
    "        optimizer.param_groups[0]['eps'] = eps_sched[itr]\n",
    "\n",
    "        avg_loss += loss.item() * bs\n",
    "\n",
    "        if idx%log_interval == 0:\n",
    "                wandb.log({\"Training Loss\": loss.item()})\n",
    "#         if idx % 5000 == 0:\n",
    "#           print(f'[{idx * len(input_ids)}/{len(dataset_loader.dataset)} ({100. * idx / len(dataset_loader):.0f})%] \\t Training loss: {loss:.3f}')\n",
    "        \n",
    "        losses.update(loss.item(), bs)\n",
    "        tqdok.set_postfix(loss=losses.avg)\n",
    "        \n",
    "    avg_loss /= nItem\n",
    "  \n",
    "    return avg_loss, output\n"
   ]
  },
  {
   "cell_type": "code",
   "execution_count": 15,
   "metadata": {
    "colab": {},
    "colab_type": "code",
    "id": "uYQaqTmxRtzQ"
   },
   "outputs": [],
   "source": [
    "def validation(model, dataset_loader, regularizer):\n",
    "    model.eval()\n",
    "\n",
    "    eval_loss = 0\n",
    "    nItem = 0\n",
    "\n",
    "    losses = AverageMeter()\n",
    "    tqdok = tqdm(dataset_loader, total=len(dataset_loader))\n",
    "\n",
    "    with torch.no_grad():\n",
    "        for idx, data_val in enumerate(tqdok):\n",
    "            input_ids, source_mask, summary_ids, summary_mask = data_val\n",
    "\n",
    "            input_ids = input_ids.to(device, dtype = torch.long)\n",
    "            source_mask = source_mask.to(device, dtype = torch.float)\n",
    "            summary_ids = summary_ids.to(device, dtype = torch.long)\n",
    "\n",
    "            target_labels = summary_ids[:, :-1].contiguous()\n",
    "            langm_labels = summary_ids[:, 1:].clone().detach()\n",
    "            langm_labels[summary_ids[:, 1:] == tokenizer.pad_token_id] = -100\n",
    "\n",
    "            output = model(input_ids=input_ids, attention_mask = source_mask, decoder_input_ids=target_labels, lm_labels=langm_labels, lamda=regularizer)\n",
    "\n",
    "            loss = output[0]\n",
    "\n",
    "            bs = input_ids.size(0)\n",
    "            nItem += bs\n",
    "\n",
    "            eval_loss += loss.item()\n",
    "\n",
    "            losses.update(loss.item(), bs)\n",
    "            tqdok.set_postfix(loss=losses.avg)\n",
    "\n",
    "    eval_loss /= nItem\n",
    "\n",
    "    return eval_loss"
   ]
  },
  {
   "cell_type": "code",
   "execution_count": 16,
   "metadata": {
    "colab": {},
    "colab_type": "code",
    "id": "h5ZhapbZawXG"
   },
   "outputs": [],
   "source": [
    "def saving(PATH, epoch, avg_loss, model,pp, LEARNING_RATE):\n",
    "  torch.save({\n",
    "            'epoch': epoch,\n",
    "            'model_state_dict': model.state_dict(),\n",
    "            'train_loss': avg_loss,\n",
    "            'perplexity': pp,\n",
    "            'learning_rate': LEARNING_RATE\n",
    "            }, PATH)"
   ]
  },
  {
   "cell_type": "markdown",
   "metadata": {
    "colab_type": "text",
    "id": "ZsdXt4STdroJ"
   },
   "source": [
    "#### The model evaluation\n",
    "\n",
    "The perplexity:\n",
    "\n",
    "\\begin{align}\n",
    "\\large \\text{ppl}(p, D) &\\large = 2^{-\\frac{1}{N_{total}}\\log_2 p(D)}\n",
    "\\end{align}\n",
    "\n",
    "where $D=\\{(w_1,\\ldots,w_{N_i})_i\\}_{i=1}^M$ is a dataset of $M$ sequences with total length $N_{\\text{total}}=\\sum_{i}N_i$.\n",
    "\n",
    "\n",
    "#### Computing perplexity\n",
    "\n",
    "Our model's loss is the (negative) log probability of every token in the output sequence, which can be used to compute perplexity.\n",
    "\n",
    "We define perplexity using the **base 2** logarithm."
   ]
  },
  {
   "cell_type": "code",
   "execution_count": 17,
   "metadata": {
    "colab": {},
    "colab_type": "code",
    "id": "FarmceVkcm-Y"
   },
   "outputs": [],
   "source": [
    "def get_perplexity(epoc_loss):\n",
    "  rs = epoc_loss/np.log(2)\n",
    "  pp = 2**rs\n",
    "  return pp"
   ]
  },
  {
   "cell_type": "code",
   "execution_count": 18,
   "metadata": {
    "cellView": "both",
    "colab": {},
    "colab_type": "code",
    "id": "eDlcT25-F-sO"
   },
   "outputs": [
    {
     "data": {
      "application/vnd.jupyter.widget-view+json": {
       "model_id": "f2c4356362f04840af0bb327cb4e2c36",
       "version_major": 2,
       "version_minor": 0
      },
      "text/plain": [
       "HBox(children=(FloatProgress(value=0.0, description='Downloading', max=1199.0, style=ProgressStyle(description…"
      ]
     },
     "metadata": {},
     "output_type": "display_data"
    },
    {
     "name": "stdout",
     "output_type": "stream",
     "text": [
      "\n"
     ]
    },
    {
     "data": {
      "application/vnd.jupyter.widget-view+json": {
       "model_id": "4e18b08937a246b6957fa66f22399e8f",
       "version_major": 2,
       "version_minor": 0
      },
      "text/plain": [
       "HBox(children=(FloatProgress(value=0.0, description='Downloading', max=891691430.0, style=ProgressStyle(descri…"
      ]
     },
     "metadata": {},
     "output_type": "display_data"
    },
    {
     "name": "stdout",
     "output_type": "stream",
     "text": [
      "\n"
     ]
    },
    {
     "data": {
      "application/vnd.jupyter.widget-view+json": {
       "model_id": "947cd3ce10fd4932b16ed7f050b3780c",
       "version_major": 2,
       "version_minor": 0
      },
      "text/plain": [
       "HBox(children=(FloatProgress(value=0.0, description='Downloading', max=791656.0, style=ProgressStyle(descripti…"
      ]
     },
     "metadata": {},
     "output_type": "display_data"
    },
    {
     "name": "stdout",
     "output_type": "stream",
     "text": [
      "\n"
     ]
    }
   ],
   "source": [
    "#@title #### Loading T5 model and its Tokenizer { run: \"auto\" }\n",
    "\n",
    "LEARNING_RATE = 3.55e-4\n",
    "MODEL_NAME = 't5-base' # or T5-Large:770 params, T5-3B, T5-Base: 220 Params, T5-11B\n",
    "t5model = T5ForConditionalGeneration.from_pretrained(MODEL_NAME)\n",
    "tokenizer = T5Tokenizer.from_pretrained(MODEL_NAME)\n",
    "#optimizer = optim.Adam(t5model.parameters(), lr=LEARNING_RATE)"
   ]
  },
  {
   "cell_type": "code",
   "execution_count": 19,
   "metadata": {},
   "outputs": [],
   "source": [
    "class GatedFilterLayer(nn.Module):\n",
    "  r\"\"\"\n",
    "  Receives the keys from the encoder output.\n",
    "\n",
    "  Returns:\n",
    "    Output the values between [0,1]\n",
    "   \"\"\"\n",
    "\n",
    "  def __init__(self, hidden_size_model):\n",
    "    super(GatedFilterLayer, self).__init__()\n",
    "\n",
    "    self.hidden_size_model = hidden_size_model\n",
    "    self.projector = nn.Linear(hidden_size_model, 1, bias=False)\n",
    "\n",
    "#     self.init_weights()\n",
    "\n",
    "#   def init_weights(self):\n",
    "#     initrange = 0.1\n",
    "#     self.projector.bias.data.zero_()\n",
    "#     self.projector.weight.data.uniform_(-initrange, initrange)\n",
    "\n",
    "  def forward(self, last_hidden_encoder):\n",
    "    proj = self.projector(last_hidden_encoder)\n",
    "    gate = torch.sigmoid(proj)\n",
    "    hidden_encoder = gate * last_hidden_encoder\n",
    "    return hidden_encoder, gate"
   ]
  },
  {
   "cell_type": "code",
   "execution_count": 20,
   "metadata": {},
   "outputs": [],
   "source": [
    "class EncoderModule(nn.Module):\n",
    "\n",
    "  def __init__(self, T5ForGmodel=None, model_name = 't5-base'):\n",
    "    super(EncoderModule, self).__init__()\n",
    "\n",
    "    if T5ForGmodel is None:\n",
    "\n",
    "      MODEL_NAME = model_name \n",
    "      if MODEL_NAME not in ['t5-base','t5-small','t5-large','t5-3b','t5-11b']:\n",
    "        raise NameError('Name {} is not specified in T5 model names'.format(MODEL_NAME))\n",
    "\n",
    "      T5model = T5ForConditionalGeneration.from_pretrained(MODEL_NAME)\n",
    "      self.encoder_model = T5model.encoder\n",
    "      dmodel = T5model.config.d_model\n",
    "    else:\n",
    "      self.encoder_model = T5ForGmodel.encoder\n",
    "      dmodel = T5ForGmodel.config.d_model\n",
    "\n",
    "    self.gatefilter = GatedFilterLayer(dmodel)\n",
    "\n",
    "\n",
    "  def forward(self, input_ids=None, attention_mask=None, inputs_embeds=None, head_mask=None, output_hidden_states=False):\n",
    "    \n",
    "    if input_ids is None and inputs_embeds is None:\n",
    "      raise ValueError(\"You have to specify either input_ids or input_embeds\")\n",
    "    \n",
    "    if self.encoder_model.config.output_hidden_states or output_hidden_states:\n",
    "      encoder_out =  self.encoder_model(input_ids=input_ids, \n",
    "                                      attention_mask=attention_mask,\n",
    "                                      inputs_embeds=inputs_embeds,\n",
    "                                      head_mask=head_mask,\n",
    "                                      output_hidden_states=True)\n",
    "    else:\n",
    "      encoder_out =  self.encoder_model(input_ids=input_ids, \n",
    "                                      attention_mask=attention_mask,\n",
    "                                      inputs_embeds=inputs_embeds,\n",
    "                                      head_mask=head_mask)\n",
    "    lst_enc_hidden = encoder_out[0]\n",
    "    last_hidden_out, gate = self.gatefilter(lst_enc_hidden)\n",
    "\n",
    "    last_hidden_out = (last_hidden_out, ) + encoder_out[1:] + (gate,)\n",
    "\n",
    "    return last_hidden_out"
   ]
  },
  {
   "cell_type": "code",
   "execution_count": 21,
   "metadata": {},
   "outputs": [],
   "source": [
    "class GatedT5ForSummurization(nn.Module):\n",
    "  \n",
    "  \"\"\"\n",
    "  Gated T5 with Language Model\n",
    "  \n",
    "  \"\"\"\n",
    "\n",
    "  def __init__(self,t5model=None, MODEL_NAME='t5-base'):\n",
    "    super(GatedT5ForSummurization, self).__init__()\n",
    "\n",
    "    self.encoder = EncoderModule(T5ForGmodel=t5model, model_name=MODEL_NAME)\n",
    "    \n",
    "    if t5model is None:\n",
    "        self.decoder = T5ForConditionalGeneration.from_pretrained(MODEL_NAME)\n",
    "    else:\n",
    "        self.decoder = t5model\n",
    "\n",
    "  def forward(self,input_ids=None, attention_mask=None,\n",
    "              decoder_input_ids=None,decoder_attention_mask=None,\n",
    "              decoder_past_key_value_states=None,use_cache=True,lm_labels=None,\n",
    "              inputs_embeds=None,decoder_inputs_embeds=None, head_mask=None,\n",
    "              output_hidden_states=False,lamda = 0.0,\n",
    "             ):\n",
    "\n",
    "    encoder_outputs = self.encoder(input_ids=input_ids, \n",
    "                                   attention_mask=attention_mask,\n",
    "                                   inputs_embeds=inputs_embeds, \n",
    "                                   head_mask=head_mask,\n",
    "                                   output_hidden_states=output_hidden_states)\n",
    "\n",
    "    decoder_outputs = self.decoder(\n",
    "            encoder_outputs=encoder_outputs,\n",
    "            decoder_input_ids = decoder_input_ids,\n",
    "            decoder_attention_mask=decoder_attention_mask,\n",
    "            decoder_past_key_value_states = decoder_past_key_value_states,\n",
    "            use_cache=use_cache,\n",
    "            lm_labels = lm_labels,\n",
    "            decoder_inputs_embeds=decoder_inputs_embeds,\n",
    "            head_mask=head_mask)\n",
    "        \n",
    "    # Computing MLE Loss + L1 Norm Reg on LN weight\n",
    "    if lm_labels is not None:\n",
    "\n",
    "      Loss_MLE = decoder_outputs[0]\n",
    "      #weight = self.encoder.gatefilter.projector.weight\n",
    "      gate = encoder_outputs[-1]\n",
    "      Loss_gate = torch.sum(gate.squeeze(-1))/(gate.shape[0]*gate.shape[1]) * lamda\n",
    "      Loss = Loss_MLE + Loss_gate\n",
    "    \n",
    "      decoder_outputs = (Loss,) + decoder_outputs[1:]\n",
    "      \n",
    "    return decoder_outputs\n",
    "\n",
    "  def generate(self,\n",
    "               input_ids = None, max_length = None, min_length = None,do_sample = None,\n",
    "        early_stopping = None,num_beams = None,temperature= None,top_k: Optional[int] = None,\n",
    "        top_p: Optional[float] = None, repetition_penalty = None,bad_words_ids = None,\n",
    "        bos_token_id  = None, pad_token_id  = None,eos_token_id = None,length_penalty= None,\n",
    "        no_repeat_ngram_size = None,num_return_sequences = None,attention_mask = None,\n",
    "        decoder_start_token_id = None,use_cache: Optional[bool] = None):\n",
    "\n",
    "    \"\"\"\n",
    "    All possible inputs receive by the generator\n",
    "    For more details look @ huggingface documentation\n",
    "    \n",
    "        input_ids = None, max_length = None, min_length = None,do_sample = None,\n",
    "        early_stopping = None,num_beams = None,temperature= None,top_k: Optional[int] = None,\n",
    "        top_p: Optional[float] = None, repetition_penalty = None,bad_words_ids = None,\n",
    "        bos_token_id  = None, pad_token_id  = None,eos_token_id = None,length_penalty= None,\n",
    "        no_repeat_ngram_size = None,num_return_sequences = None,attention_mask = None,\n",
    "        decoder_start_token_id = None,use_cache: Optional[bool] = None\n",
    "    \"\"\"\n",
    "\n",
    "    return self.decoder.generate(input_ids = input_ids, max_length = max_length, min_length = min_length,do_sample = do_sample,\n",
    "        early_stopping = early_stopping,num_beams = num_beams,temperature= temperature,top_k = top_k,\n",
    "        top_p = top_p, repetition_penalty = repetition_penalty,bad_words_ids = bad_words_ids,\n",
    "        bos_token_id  = bos_token_id, pad_token_id  = pad_token_id,eos_token_id = eos_token_id,length_penalty= length_penalty,\n",
    "        no_repeat_ngram_size = no_repeat_ngram_size,num_return_sequences = num_return_sequences,attention_mask = attention_mask,\n",
    "        decoder_start_token_id = decoder_start_token_id,use_cache = use_cache\n",
    "    )"
   ]
  },
  {
   "cell_type": "code",
   "execution_count": 22,
   "metadata": {},
   "outputs": [],
   "source": [
    "model = GatedT5ForSummurization(t5model=t5model)\n"
   ]
  },
  {
   "cell_type": "code",
   "execution_count": 47,
   "metadata": {
    "colab": {
     "base_uri": "https://localhost:8080/",
     "height": 35
    },
    "colab_type": "code",
    "id": "Jkp7dIU9-ZO3",
    "outputId": "f18b53f5-38d8-4bc1-c664-98b01f61f546"
   },
   "outputs": [
    {
     "data": {
      "text/plain": [
       "('</s>', '<pad>')"
      ]
     },
     "execution_count": 47,
     "metadata": {},
     "output_type": "execute_result"
    }
   ],
   "source": [
    "eos = tokenizer.eos_token\n",
    "sos = tokenizer.pad_token\n",
    "eos, sos"
   ]
  },
  {
   "cell_type": "code",
   "execution_count": 23,
   "metadata": {
    "colab": {},
    "colab_type": "code",
    "id": "W51Hk0xEz0sH"
   },
   "outputs": [],
   "source": [
    "#@title Train, Validation and Test splits { run: \"auto\" }\n",
    "\n",
    "columns = [\"text\",\"summary\"]\n",
    "\n",
    "X_train = train_processed_data[columns] #X_train.reset_index(drop=True)\n",
    "X_valid = valid_processed_data[columns] #X_val.reset_index(drop=True)"
   ]
  },
  {
   "cell_type": "code",
   "execution_count": 24,
   "metadata": {
    "colab": {
     "base_uri": "https://localhost:8080/",
     "height": 195
    },
    "colab_type": "code",
    "id": "sQeVMTtGz0p7",
    "outputId": "3e428252-9f55-4243-8cd2-a5d6f4c6641d"
   },
   "outputs": [
    {
     "data": {
      "text/html": [
       "<div>\n",
       "<style scoped>\n",
       "    .dataframe tbody tr th:only-of-type {\n",
       "        vertical-align: middle;\n",
       "    }\n",
       "\n",
       "    .dataframe tbody tr th {\n",
       "        vertical-align: top;\n",
       "    }\n",
       "\n",
       "    .dataframe thead th {\n",
       "        text-align: right;\n",
       "    }\n",
       "</style>\n",
       "<table border=\"1\" class=\"dataframe\">\n",
       "  <thead>\n",
       "    <tr style=\"text-align: right;\">\n",
       "      <th></th>\n",
       "      <th>text</th>\n",
       "      <th>summary</th>\n",
       "    </tr>\n",
       "  </thead>\n",
       "  <tbody>\n",
       "    <tr>\n",
       "      <th>0</th>\n",
       "      <td>HAMBURG, Germany, June 3 As he left the soccer...</td>\n",
       "      <td>A surge in discriminatory behavior toward blac...</td>\n",
       "    </tr>\n",
       "    <tr>\n",
       "      <th>1</th>\n",
       "      <td>WASHINGTON, Dec. 23 The National Security Agen...</td>\n",
       "      <td>The volume of information harvested, without \\...</td>\n",
       "    </tr>\n",
       "    <tr>\n",
       "      <th>2</th>\n",
       "      <td>IF outsized executive pay has indeed become a ...</td>\n",
       "      <td>The battle between Pfizer Inc. s investors and...</td>\n",
       "    </tr>\n",
       "    <tr>\n",
       "      <th>3</th>\n",
       "      <td>BY A.J. BENZA and MICHAEL LEWITTES\\n\\nIf Simon...</td>\n",
       "      <td>If Simon Rex looks a little familiar, it may n...</td>\n",
       "    </tr>\n",
       "    <tr>\n",
       "      <th>4</th>\n",
       "      <td>Spinach has terrorized generations of veggie p...</td>\n",
       "      <td>POPEYE WORTHY PIE. PHYLLO DOUGH WRAPS SPINACH ...</td>\n",
       "    </tr>\n",
       "  </tbody>\n",
       "</table>\n",
       "</div>"
      ],
      "text/plain": [
       "                                                text                                            summary\n",
       "0  HAMBURG, Germany, June 3 As he left the soccer...  A surge in discriminatory behavior toward blac...\n",
       "1  WASHINGTON, Dec. 23 The National Security Agen...  The volume of information harvested, without \\...\n",
       "2  IF outsized executive pay has indeed become a ...  The battle between Pfizer Inc. s investors and...\n",
       "3  BY A.J. BENZA and MICHAEL LEWITTES\\n\\nIf Simon...  If Simon Rex looks a little familiar, it may n...\n",
       "4  Spinach has terrorized generations of veggie p...  POPEYE WORTHY PIE. PHYLLO DOUGH WRAPS SPINACH ..."
      ]
     },
     "execution_count": 24,
     "metadata": {},
     "output_type": "execute_result"
    }
   ],
   "source": [
    "X_train.head()"
   ]
  },
  {
   "cell_type": "code",
   "execution_count": 25,
   "metadata": {
    "colab": {},
    "colab_type": "code",
    "id": "n97QsOoCZ0v8"
   },
   "outputs": [],
   "source": [
    "def get_dataloader(X, BATCH_SIZE,valid=None, **kwargs):\n",
    "\n",
    "    if valid == 'valid':\n",
    "        val_params = {\n",
    "            'batch_size': BATCH_SIZE,\n",
    "            'shuffle': False,\n",
    "            'num_workers': 2\n",
    "            }\n",
    "        data_set = CustomDataReader(X, tokenizer,**kwargs)\n",
    "        data_loader = DataLoader(data_set, **val_params)\n",
    "        \n",
    "    else:\n",
    "        data_set = CustomDataReader(X, tokenizer,**kwargs)     \n",
    "        train_params = {\n",
    "            'batch_size': BATCH_SIZE,\n",
    "            'shuffle': True,\n",
    "            'num_workers': 2\n",
    "            }\n",
    "        data_loader = DataLoader(data_set, **train_params)\n",
    "    \n",
    "    return data_loader"
   ]
  },
  {
   "cell_type": "code",
   "execution_count": 44,
   "metadata": {
    "colab": {},
    "colab_type": "code",
    "id": "08lW8ejhmgya"
   },
   "outputs": [],
   "source": [
    "Xtrain_trial = X_train.iloc[:50000]\n",
    "Xvalid_trial = X_valid.iloc[:3600]"
   ]
  },
  {
   "cell_type": "code",
   "execution_count": 26,
   "metadata": {},
   "outputs": [],
   "source": [
    "indices = np.random.permutation(len(X_train))\n",
    "valind = np.random.permutation(len(X_valid))\n",
    "\n",
    "ind = indices[:70000]\n",
    "vind = valind[:5000]\n",
    "\n",
    "Xtrain_trial = X_train.iloc[ind]\n",
    "Xvalid_trial = X_valid.iloc[vind]\n",
    "\n",
    "Xtrain_trial = Xtrain_trial.reset_index(drop=True)\n",
    "Xvalid_trial = Xvalid_trial.reset_index(drop=True)"
   ]
  },
  {
   "cell_type": "code",
   "execution_count": 25,
   "metadata": {
    "colab": {},
    "colab_type": "code",
    "id": "sGaGMwWLzfVE"
   },
   "outputs": [],
   "source": [
    "N_EPOCHS = 2\n",
    "path = '/content/drive/My Drive/Colab Notebooks/best_model.pth'\n",
    "pcle = '/content/drive/My Drive/Colab Notebooks/optimizer_state_dict.pkl'\n",
    "#filename = open(pcle, 'wb')"
   ]
  },
  {
   "cell_type": "code",
   "execution_count": 27,
   "metadata": {
    "colab": {},
    "colab_type": "code",
    "id": "csfO3UdlJtEf"
   },
   "outputs": [],
   "source": [
    "def run(model,\n",
    "        X_train, X_valid, \n",
    "        path=None,filename=None,\n",
    "        lr= LEARNING_RATE):\n",
    "\n",
    "    #best_loss = float('inf')\n",
    "    #best_pp = float('inf')\n",
    "    # WandB – Initialize a new run\n",
    "    \n",
    "    wandb.init(entity=\"jp-ishimwe\", project=\"test-summaries\") \n",
    "#     wandb.init(entity=\"jp-ishimwe\", project=\"document-summarization-test\")\n",
    "    #wandb.init(entity=\"jp-ishimwe\", project=\"document-summarization-using-transformer\")\n",
    "#     wandb.watch_called = False # Re-run the model without restarting the runtime, unnecessary after our next release\n",
    "\n",
    "    # WandB – Config is a variable that holds and saves hyperparameters and inputs\n",
    "    # Defining some key variables that will be used later on in the training  \n",
    "    config = wandb.config          \n",
    "    config.BATCH_SIZE = 8\n",
    "    config.EVAL_BATCH_SIZE = 10\n",
    "    config.N_EPOCHS = 3 \n",
    "    config.LEARNING_RATE = lr\n",
    "    config.SEED = 42               \n",
    "    config.art_maxlen = art\n",
    "    config.summary_maxlen = sum_\n",
    "    config.Valid_art_maxlen = artV\n",
    "    config.Valid_summary_maxlen = sumV\n",
    "    config.log_interval = 500     # how many batches to wait before logging training status\n",
    "    config.reg = 0.2113\n",
    "\n",
    "    random.seed(config.SEED)\n",
    "    np.random.seed(config.SEED)\n",
    "    torch.manual_seed(config.SEED)\n",
    "    torch.backends.cudnn.deterministic = True\n",
    "    \n",
    "    kwargs = {'max_article_tokens': config.art_maxlen,\n",
    "                'max_summary_tokens': config.summary_maxlen\n",
    "             }\n",
    "    \n",
    "    kwargsval = {'max_article_tokens': config.Valid_art_maxlen,\n",
    "                'max_summary_tokens': config.Valid_summary_maxlen\n",
    "             }\n",
    "    \n",
    "    \n",
    "    train_loader = get_dataloader(X_train, config.BATCH_SIZE,valid=None, **kwargs)\n",
    "    val_loader  = get_dataloader(X_valid, config.EVAL_BATCH_SIZE,valid='valid', **kwargsval)\n",
    "    \n",
    "    train_loss = []\n",
    "    val_loss = []\n",
    "    perplexity = []\n",
    "    \n",
    "    model = model.to(device)\n",
    "    params = {'params': model.parameters()}\n",
    "    optimizer = optim.Adam([params], lr=config.LEARNING_RATE)\n",
    "    scheduler = ReduceLROnPlateau(optimizer, factor=0.5, patience=0)\n",
    "    \n",
    "    wandb.watch(model, log=\"all\")\n",
    "    #wandb.unwatch(model) \n",
    "\n",
    "    maxiter = config.N_EPOCHS*(len(train_loader.dataset)//config.BATCH_SIZE)\n",
    "    eps_sched = 1e-8 + 0.5-0.5*np.cos(np.linspace(0, np.pi, maxiter))\n",
    "\n",
    "    for epoch in range(config.N_EPOCHS):\n",
    "\n",
    "        avg_loss, outputs = training(model, train_loader, optimizer, config.log_interval,eps_sched, config.BATCH_SIZE, regularizer=config.reg, iteration=epoch)\n",
    "        print('\\nValidation start:')\n",
    "        eval_loss = validation(model, val_loader, regularizer=config.reg)\n",
    "\n",
    "        pp = get_perplexity(eval_loss)\n",
    "\n",
    "        perplexity.append(pp)\n",
    "        train_loss.append(avg_loss)\n",
    "        val_loss.append(eval_loss)\n",
    "        scheduler.step(eval_loss)\n",
    "\n",
    "\n",
    "        print(f'Epoch loss: {avg_loss:.4f}')\n",
    "        print(f'Perplexity: {pp:.4f} | Eval loss: {eval_loss:.4f}')\n",
    "        print(\"--------------\")\n",
    "\n",
    "\n",
    "        wandb.log({\n",
    "            \"Training Loss\": avg_loss,\n",
    "            \"Perplexity \": pp,\n",
    "            \"Eval Loss\": eval_loss})\n",
    "\n",
    "\n",
    "        # Save model to wandb\n",
    "#         torch.save(model.state_dict(), os.path.join(wandb.run.dir, 'model0.pt'))\n",
    "        torch.save(model.state_dict(), '/root/Projects/model2.pt')\n",
    "\n",
    "\n",
    "    return train_loss, perplexity, val_loss, outputs\n",
    "\n",
    "\n",
    "    #     if pp < best_pp:\n",
    "    #       best_pp = pp\n",
    "    #       saving(path, epoch, avg_loss, model, pp, lr)\n",
    "    #       dill.dump(optimizer, filename)\n",
    "\n",
    "    # Save model for every 3 epochs\n",
    "    # if i%3==0:\n",
    "    #   torch.save(model.state_dict(), path)\n",
    "    #print(f'Best Perplexity: {best_pp}')\n",
    "    #filename.close()"
   ]
  },
  {
   "cell_type": "code",
   "execution_count": 28,
   "metadata": {
    "colab": {
     "base_uri": "https://localhost:8080/",
     "height": 1000,
     "referenced_widgets": [
      "cb47163880b644e99674d508f1407349",
      "e94c000d5060445ca93691f6af42e70c",
      "6e1089fcff4a4ad19de6fc9dfb87c171",
      "c5b5410811de4ab59ff76737f353ce27",
      "2f28dc0b45cc4b30acb85fecdc128397",
      "0551f8a91cb547948703416f5c200c93",
      "e8fbc6f859784253a0cf6fe88cc0d9ca",
      "cd662889ecd24a5fbfbf078039e270a8",
      "ddd0f5a0f838494daf3d0581081c3e86",
      "3856954e8b1e47a08fce9fff7a038027",
      "f842c10d414f41c6846c1dc74200f301",
      "a694fbafc40c41e98fe568668e4db732",
      "8365405f8a1c4d178b5ab5cd9d905e32",
      "4800749f8151430c8cc49570cd4ccaf7",
      "dc75ce283dff4270b9c537d4e057d416",
      "992143ed056d4a23afff16b83c514432",
      "dffe3b78e72e4c309bda155884c2c7a7",
      "00632d7b23cc45f59515669601334fcd",
      "d9fb635e32cd4ed4bcddf6574de80b1b",
      "1523672396354424b0658ce14786fbd2",
      "273de981090749b29ce385706c449722",
      "3353a6712b3a482d8907ca80a0824020",
      "ffc60b07ad704ea2afc0ac2c79c10c11",
      "864cb033af344f22b288a320088ec71c",
      "2d96618428094902b80450d649566a66",
      "c7a670342db348f0b703a95438137574",
      "a33ce8bb19284323a89a317403263c0d",
      "90937a3fdc314010948a13e9e2c70e40",
      "b506bbd1464b407980a6ef55a7819828",
      "a2026ad15de541eebf332cb4ce4e1ad2",
      "a56cd84f576841259aace5b34b0efda7",
      "2004cd6b66034fdda39e09c4ea44b3ce",
      "90f39af76e9846b18c45633dce765584",
      "4a42cbf2455346818c8fb92da5665bca",
      "d2a4e7e937804562a63d0191223c0dd0",
      "02d1d8ffcf3a4873880bb4ec2b7eefbf",
      "d689f347b2e040d186d0353abaa96dd4",
      "17e87d4a9a974aa6828c5ae0f9e0cf3a",
      "1f778937b7484fac8de6530ea10a5470",
      "7a0883324f8b4256adf0e8a54c77524f",
      "53c9e46489fc4d708c7fe856173f3b12",
      "27afa2d568d6441690a6d0ee44e40e1c",
      "0cdd1f83587643f68b9cc4659ba75fb8",
      "2732c77700724db3beb39d1c64469852",
      "598b0d3d4ba64ed48d511ce9dd360f64",
      "9efdf4e9fd8c42598cced165c426f5bf",
      "f1010194505c44b588ba44a39e4afd9f",
      "a504d4571ae54c97a6fb586051f17b07",
      "a633f4726f6a4ba5babb0e0414e6c5e1",
      "007752d9ce5e47f480ae606afeb2cd16",
      "58fa30020dc14801a78967796be9df3e",
      "9712936912b84e498783132d111037bf",
      "89f6bfd52126419ab7c6b6ba00894c24",
      "501fe7de2d29471c9ad3580ba42b274d",
      "9e0d68b268384372ae1ec48b6c363b3a",
      "e595378941654a4dbe560a646dc52272",
      "c56a3c25a1284582bdfb1ad9e02ccb06",
      "888804a45395411cb9db622b0e6878cb",
      "b986d76f127a48669bfaf9c674079d87",
      "e941a8dd61c641c88445eb5497fd2760",
      "6736870c4aa94b20adeed80a00507dce",
      "4d3bd152e2b14612bdec4f9692d48739",
      "63ff13ee95f64beea555e0660be15eec",
      "ce7dc5c992754af5a545aa408ed67c88",
      "430de0fcf9ce45799f8cec7b508a8f7f",
      "99791d40ec534ebc9a7f4b01767f9aad",
      "e2be21b2cc584489b535309b9c8904e3",
      "354fdd4a6e064367be8398d996b63d38",
      "8503f63352114056ace6ee5662d746da",
      "fca884b72b1946cd8403edac7d41924e",
      "3008461ae4e440d081f2f3ac46afa685",
      "22e8567701184b729be80c57098badc4",
      "40ef9fea4c03417db6bdc76b480fb59e",
      "3c42fdea3dcd4f2bbd6ba10777f27db3",
      "8b5212a3ed9f49aea201644e1ed1ac53",
      "a637e9d5dda44c3e9c8c3b9154b1b20d",
      "e7ccb000bd83423fb4693a908c638ddb",
      "4e394e72017442e989642afdc2b8abcb",
      "87a5e794f5ff408ebbf2a740a7560adb",
      "200ba008099045719694899c681c2d16",
      "8b0a112033ab4a3a9a970c6eaaec5531",
      "9acb641a7ede4dd6b68097dbff290ce1",
      "8ef3688940ae4ff4840fc3ca4c231125",
      "f7dd810e69fa4f1f91acaec17fb8c64a",
      "68ba61411c5d4097883b053f06493415",
      "838fc6b6bb704fd897d9145830d7bb9f",
      "268c4187cfc9490bacfa1eafe1fbcca1",
      "940db33506ef463788996553c4bf5f74",
      "fb5c1e7223ac4634a16c161784505836",
      "7475bb3748de434eae59ef85715514da",
      "471a09375e984a31824b27e279a6c4f3",
      "27deb6f565ac4447a44770288071a0b8",
      "7a407d5347104eaa9ce6ec36250715d3",
      "37454b94184a4a10a9affa6e84e74f43",
      "e94b124aaf674431b6e424b9c6c1da87",
      "9a9728af9dcb4e67a1a006297cd7b74c",
      "e7fc29feb6d3404d83c1e455602d5c1b",
      "ddf41c306dc441eb85beb6ea7bfbfedd",
      "2d2b6b3effa34b809c30379c42c3c861",
      "f46251823d4f4d219bffc095047f8867",
      "5605c8c2ad12431b88e1404953ecd6b9",
      "ad0c71bcf6d945098f04025bc52055f9",
      "04619e3db74847f5b637c7d2b1d5b8b8",
      "9d3ae70779e447d0aa495a9872209d38",
      "906c310a405b4822a19d206cf3467f9b",
      "75b200a4d1cb4f1cab2204139ac8fff5",
      "61a4358811654212bd669c1c6c40b4cd",
      "917a8ab6a55b4cd382b1cd1982d5a227",
      "7b8fca08cafe4f7e9ad9f519bb005fd1",
      "2df67220b98547639c10a80ceb63b1ef",
      "58d8bd8caffa47788931111cd5d05409",
      "4778d193b45a4e2ca8871f19b195a26b",
      "267a56c7a2f542e3b24a5f790491a550",
      "dc94b3b543714dd0845fdadca7db22a3",
      "db85fdb064634d80b1904313a3b81ddb",
      "1cbf0dd906ac41e985bd752f526fa2d4",
      "ed804e9c6fae4499aa3e6fef00f5de44",
      "9459d0d307814c34aa8a31945a82adb7",
      "41ceec6b9c214b18891c8ab915d5c19c",
      "6005029df2504711a96df12e14290100"
     ]
    },
    "colab_type": "code",
    "id": "npvqrZ9L_Ufl",
    "outputId": "84bc79d3-9ae7-4882-d791-6c3699ca45fb"
   },
   "outputs": [
    {
     "data": {
      "text/html": [
       "\n",
       "                Logging results to <a href=\"https://wandb.com\" target=\"_blank\">Weights & Biases</a> <a href=\"https://docs.wandb.com/integrations/jupyter.html\" target=\"_blank\">(Documentation)</a>.<br/>\n",
       "                Project page: <a href=\"https://app.wandb.ai/jp-ishimwe/test-summaries\" target=\"_blank\">https://app.wandb.ai/jp-ishimwe/test-summaries</a><br/>\n",
       "                Run page: <a href=\"https://app.wandb.ai/jp-ishimwe/test-summaries/runs/371k23k7\" target=\"_blank\">https://app.wandb.ai/jp-ishimwe/test-summaries/runs/371k23k7</a><br/>\n",
       "            "
      ],
      "text/plain": [
       "<IPython.core.display.HTML object>"
      ]
     },
     "metadata": {},
     "output_type": "display_data"
    },
    {
     "name": "stderr",
     "output_type": "stream",
     "text": [
      "  0%|          | 0/8750 [00:00<?, ?it/s]"
     ]
    },
    {
     "name": "stdout",
     "output_type": "stream",
     "text": [
      "Start training for epoch: 0\n"
     ]
    },
    {
     "name": "stderr",
     "output_type": "stream",
     "text": [
      "100%|██████████| 8750/8750 [1:53:56<00:00,  1.28it/s, loss=1.74]  \n",
      "  0%|          | 0/500 [00:00<?, ?it/s]"
     ]
    },
    {
     "name": "stdout",
     "output_type": "stream",
     "text": [
      "\n",
      "Validation start:\n"
     ]
    },
    {
     "name": "stderr",
     "output_type": "stream",
     "text": [
      "100%|██████████| 500/500 [02:44<00:00,  3.05it/s, loss=1.58]\n"
     ]
    },
    {
     "name": "stdout",
     "output_type": "stream",
     "text": [
      "Epoch loss: 1.7417\n",
      "Perplexity: 1.1716 | Eval loss: 0.1584\n",
      "--------------\n"
     ]
    },
    {
     "name": "stderr",
     "output_type": "stream",
     "text": [
      "  0%|          | 0/8750 [00:00<?, ?it/s]"
     ]
    },
    {
     "name": "stdout",
     "output_type": "stream",
     "text": [
      "Start training for epoch: 1\n"
     ]
    },
    {
     "name": "stderr",
     "output_type": "stream",
     "text": [
      "100%|██████████| 8750/8750 [1:53:58<00:00,  1.28it/s, loss=1.7]  \n",
      "  0%|          | 0/500 [00:00<?, ?it/s]"
     ]
    },
    {
     "name": "stdout",
     "output_type": "stream",
     "text": [
      "\n",
      "Validation start:\n"
     ]
    },
    {
     "name": "stderr",
     "output_type": "stream",
     "text": [
      "100%|██████████| 500/500 [02:39<00:00,  3.13it/s, loss=1.58]\n"
     ]
    },
    {
     "name": "stdout",
     "output_type": "stream",
     "text": [
      "Epoch loss: 1.6994\n",
      "Perplexity: 1.1713 | Eval loss: 0.1581\n",
      "--------------\n"
     ]
    },
    {
     "name": "stderr",
     "output_type": "stream",
     "text": [
      "  0%|          | 0/8750 [00:00<?, ?it/s]"
     ]
    },
    {
     "name": "stdout",
     "output_type": "stream",
     "text": [
      "Start training for epoch: 2\n"
     ]
    },
    {
     "name": "stderr",
     "output_type": "stream",
     "text": [
      "100%|██████████| 8750/8750 [1:53:45<00:00,  1.28it/s, loss=1.7]  \n",
      "  0%|          | 0/500 [00:00<?, ?it/s]"
     ]
    },
    {
     "name": "stdout",
     "output_type": "stream",
     "text": [
      "\n",
      "Validation start:\n"
     ]
    },
    {
     "name": "stderr",
     "output_type": "stream",
     "text": [
      "100%|██████████| 500/500 [02:39<00:00,  3.13it/s, loss=1.58]\n"
     ]
    },
    {
     "name": "stdout",
     "output_type": "stream",
     "text": [
      "Epoch loss: 1.6974\n",
      "Perplexity: 1.1712 | Eval loss: 0.1580\n",
      "--------------\n"
     ]
    }
   ],
   "source": [
    "train_loss, perplexity, eval_loss, outputs = run(model, Xtrain_trial, Xvalid_trial,lr= LEARNING_RATE)"
   ]
  },
  {
   "cell_type": "markdown",
   "metadata": {},
   "source": [
    "Evaluating the gate distributions"
   ]
  },
  {
   "cell_type": "code",
   "execution_count": 29,
   "metadata": {},
   "outputs": [
    {
     "data": {
      "text/plain": [
       "torch.Size([8, 512, 1])"
      ]
     },
     "execution_count": 29,
     "metadata": {},
     "output_type": "execute_result"
    }
   ],
   "source": [
    "outputs[-1].shape"
   ]
  },
  {
   "cell_type": "code",
   "execution_count": 30,
   "metadata": {},
   "outputs": [],
   "source": [
    "gates = outputs[-1].squeeze(-1) "
   ]
  },
  {
   "cell_type": "code",
   "execution_count": 31,
   "metadata": {},
   "outputs": [
    {
     "data": {
      "text/plain": [
       "tensor([[0.2737],\n",
       "        [0.5142],\n",
       "        [0.5123],\n",
       "        [0.3169],\n",
       "        [0.4108],\n",
       "        [0.5140],\n",
       "        [0.5034],\n",
       "        [0.4314]], device='cuda:0', grad_fn=<MeanBackward1>)"
      ]
     },
     "execution_count": 31,
     "metadata": {},
     "output_type": "execute_result"
    }
   ],
   "source": [
    "gates.mean(dim=1,keepdim=True)"
   ]
  },
  {
   "cell_type": "code",
   "execution_count": 32,
   "metadata": {},
   "outputs": [
    {
     "data": {
      "text/plain": [
       "tensor([[0.6321],\n",
       "        [0.6554],\n",
       "        [0.6334],\n",
       "        [0.6614],\n",
       "        [0.6642],\n",
       "        [0.6485],\n",
       "        [0.6474],\n",
       "        [0.6493]], device='cuda:0', grad_fn=<MaxBackward0>)"
      ]
     },
     "execution_count": 32,
     "metadata": {},
     "output_type": "execute_result"
    }
   ],
   "source": [
    "values, _ = gates.max(dim=1,keepdim=True)\n",
    "values"
   ]
  },
  {
   "cell_type": "code",
   "execution_count": 33,
   "metadata": {},
   "outputs": [
    {
     "data": {
      "text/plain": [
       "tensor([[0.1194],\n",
       "        [0.3919],\n",
       "        [0.3619],\n",
       "        [0.1201],\n",
       "        [0.1276],\n",
       "        [0.4012],\n",
       "        [0.3267],\n",
       "        [0.1310]], device='cuda:0', grad_fn=<MinBackward0>)"
      ]
     },
     "execution_count": 33,
     "metadata": {},
     "output_type": "execute_result"
    }
   ],
   "source": [
    "vals, _ = gates.min(dim=1,keepdim=True)\n",
    "vals"
   ]
  },
  {
   "cell_type": "code",
   "execution_count": 46,
   "metadata": {
    "colab": {
     "base_uri": "https://localhost:8080/",
     "height": 298
    },
    "colab_type": "code",
    "id": "jmJ94Ryul0vR",
    "outputId": "f5f05284-122e-4f8f-cb3c-176e845c19db"
   },
   "outputs": [
    {
     "data": {
      "image/png": "[encoded data removed]",
      "text/plain": [
       "<Figure size 432x288 with 1 Axes>"
      ]
     },
     "metadata": {
      "needs_background": "light"
     },
     "output_type": "display_data"
    }
   ],
   "source": [
    "import matplotlib.pyplot as plt\n",
    "\n",
    "tr_los = np.array(train_loss)\n",
    "ev_los = np.array(eval_loss)\n",
    "per = np.array(perplexity)\n",
    "\n",
    "plt.plot(tr_los, label='Training loss')\n",
    "plt.plot(ev_los, label='Validation loss')\n",
    "plt.plot(per, label='Perplexity on val data')\n",
    "\n",
    "plt.legend(frameon=False)\n",
    "plt.title('Train loss vs Eval loss and Perplexity')\n",
    "plt.show()"
   ]
  },
  {
   "cell_type": "code",
   "execution_count": 34,
   "metadata": {
    "colab": {},
    "colab_type": "code",
    "id": "jsxZGr_bz0cv"
   },
   "outputs": [],
   "source": [
    "def generator(model, dataset_loader):\n",
    "  \n",
    "  model.eval()\n",
    "\n",
    "  results = {\"generated_summary\": [], \"golden_summary\": []}\n",
    "\n",
    "  with torch.no_grad():\n",
    "\n",
    "    for idx, data_val in enumerate(dataset_loader):\n",
    "      \n",
    "      input_ids, source_mask, summary_ids, summary_mask = data_val \n",
    "      \n",
    "      input_ids = input_ids.to(device, dtype = torch.long)\n",
    "      source_mask = source_mask.to(device, dtype = torch.float)\n",
    "      summary_ids = summary_ids.to(device, dtype = torch.long)\n",
    "\n",
    "      generatation = model.generate(input_ids=input_ids,\n",
    "                                    attention_mask=source_mask, \n",
    "                                    min_length=30, \n",
    "                                    max_length=300, \n",
    "                                    num_beams=1,\n",
    "                                    repetition_penalty=2.5,\n",
    "                                    eos_token_id = model.decoder.config.eos_token_id,               \n",
    "                                    length_penalty=1.0, \n",
    "                                    early_stopping=True\n",
    "                                    )\n",
    "\n",
    "      for gen, sc in zip(generatation, summary_ids): # Taking whole document IDs and docode the summary\n",
    "\n",
    "        gen_tokens_dec = tokenizer.decode(gen, skip_special_tokens=True, clean_up_tokenization_spaces=True)\n",
    "        sc_tokens_dec = tokenizer.decode(sc, skip_special_tokens=True, clean_up_tokenization_spaces=True)\n",
    "\n",
    "        results[\"generated_summary\"].append(gen_tokens_dec)\n",
    "        results[\"golden_summary\"].append(sc_tokens_dec)\n",
    "\n",
    "  return results\n"
   ]
  },
  {
   "cell_type": "markdown",
   "metadata": {
    "colab_type": "text",
    "id": "MwTbUyKag_8R"
   },
   "source": [
    "#### Loading Saved Model"
   ]
  },
  {
   "cell_type": "code",
   "execution_count": null,
   "metadata": {
    "colab": {},
    "colab_type": "code",
    "id": "tTLrSSGio-c-"
   },
   "outputs": [],
   "source": [
    "pretrained = False\n",
    "\n",
    "if pretrained:    \n",
    "\n",
    "    model = .... # first initialize the model and optimizer\n",
    "\n",
    "    #optimizer = ... # optimizer then,\n",
    "    infile = open(pcle,'rb')\n",
    "    optimizer = pickle.load(infile)\n",
    "    infile.close()\n",
    "\n",
    "    checkpoint = torch.load(PATH)\n",
    "    model.load_state_dict(checkpoint['model_state_dict'])\n",
    "    epoch = checkpoint['epoch']\n",
    "    loss = checkpoint['loss']"
   ]
  },
  {
   "cell_type": "code",
   "execution_count": 61,
   "metadata": {},
   "outputs": [
    {
     "name": "stdout",
     "output_type": "stream",
     "text": [
      "Final_Project.ipynb\t     Wheat_rust_classification.ipynb\n",
      "README.md\t\t     model.pt\n",
      "T5_ftransfer_learning.ipynb  valid_processed.pkl\n",
      "Untitled.ipynb\t\t     wandb\n"
     ]
    }
   ],
   "source": [
    "!ls /root/Projects\n"
   ]
  },
  {
   "cell_type": "code",
   "execution_count": 22,
   "metadata": {},
   "outputs": [],
   "source": [
    "model.load_state_dict(torch.load('/root/Projectsmodel0.pt'))\n",
    "model = model.to(device)"
   ]
  },
  {
   "cell_type": "code",
   "execution_count": 23,
   "metadata": {},
   "outputs": [],
   "source": [
    "#model = torch.load('/root/Projects/model.pt')"
   ]
  },
  {
   "cell_type": "code",
   "execution_count": 35,
   "metadata": {},
   "outputs": [],
   "source": [
    "ivind = valind[5000:6000]\n",
    "\n",
    "X_trial = X_valid.iloc[ivind]\n",
    "\n",
    "Xtest_trial = X_trial.reset_index(drop=True)\n",
    "\n",
    "argsval = {'max_article_tokens': 512,\n",
    "                'max_summary_tokens': 150\n",
    "             }\n",
    "    \n",
    "    \n",
    "val_loader  = get_dataloader(Xtest_trial, 8,valid='valid', **argsval)"
   ]
  },
  {
   "cell_type": "code",
   "execution_count": 36,
   "metadata": {},
   "outputs": [
    {
     "name": "stdout",
     "output_type": "stream",
     "text": [
      "CPU times: user 7min 46s, sys: 11.5 s, total: 7min 57s\n",
      "Wall time: 7min 56s\n"
     ]
    }
   ],
   "source": [
    "%time results = generator(model, val_loader)"
   ]
  },
  {
   "cell_type": "code",
   "execution_count": 75,
   "metadata": {},
   "outputs": [],
   "source": [
    " #input_ids, source_mask, summary_ids, summary_mask = next(iter(val_loader))"
   ]
  },
  {
   "cell_type": "markdown",
   "metadata": {
    "colab_type": "text",
    "id": "kNpZ1c5TBmqD"
   },
   "source": [
    "#### Visualizing examples"
   ]
  },
  {
   "cell_type": "markdown",
   "metadata": {
    "colab_type": "text",
    "id": "GkwqzhhvEXqt"
   },
   "source": [
    "**Example 1**"
   ]
  },
  {
   "cell_type": "code",
   "execution_count": 37,
   "metadata": {},
   "outputs": [
    {
     "data": {
      "application/vnd.google.colaboratory.intrinsic+json": {
       "type": "string"
      },
      "text/plain": [
       "'As the clock ticks hurriedly to NHL s opening night Jan. 19, the Ducks gathered Thursday at Honda Center for an informal practice without a coach partially to gauge where their conditioning is before the 48 game sprint of a labor stoppage shortened season.\\n\\n From what I saw, the guys have taken care of themselves and I think we ll be ready to go, said left wing Matt Beleskey, who spent three months of the layoff playing for the Coventry Blaze in England the team covering his expenses with him funding his own insurance.\\n\\nDucks veteran Teemu Selanne assessed players such as Beleskey, defenseman Luca Sbisa, centers Nick Bonino and Andrew Cogliano and right wing Bobby Ryan, who played games over the break and hold an edge over others such as Selanne, who relied on mountain biking, running and informal practices to stay conditioned.\\n\\n The way things are now in this game, everyone comes to camp in great shape, Selanne said. But game shape comes from good practices and games. It doesn t matter what you do riding a bike or running the games take you to another level. \\n\\nRyan, after playing for Sweden s Mora IK, agreed.\\n\\n The little things like timing and issues with the puck and things like that, they can t come by doing what we were doing every day here, Ryan said. So I think going over there gave me a little bit of a base, I guess. It helps cardio wise as well. \\n\\nRyan was on the ice when Anze Kopitar of the Kings injured his knee.\\n\\n Right next to him, Ryan said. Actually it very well could have been me. It was a matter of five feet and could have been me if we had just switched positions. I don t know how serious it is.\\n\\n As a member of hockey, I hope he s OK. As a Duck, it s a little different but you never want to see a guy hurt. It didn t look good. It was just one of those weird, tricky plays. You could see it I think the guy that came to hit him fell. He went forward and backward at the same time, caught up. You could see the knee bend a little bit. Hopefully it s nothing serious. \\n\\nRyan also experienced a 39 hour travel nightmare returning from Sweden, getting dumped off by his team in a remote place to find a train, getting a Stockholm to Newark Los Angeles flight home.\\n\\nCogliano played eight games for the Austrian team Klagenfurt between mid November and December, and also practiced at the Ducks and Kings practice facilities with players including captain Ryan Getzlaf, the players chipping in 20 bucks apiece, to rent the ice time, he said.\\n\\n It worked out good I felt good out there today, Cogliano said. The guys are preparing. This is where we want to be, obviously. \\n\\nDucks Coach Bruce Boudreau, who observed some of Thursday s 90 minute practice from an arena seat about 25 rows above the action, said he was happy to see the players back at work after resolving their drawn out dispute with owners.\\n\\n It s a bit like they have a spare teacher in the classroom today, but I saw they did a good defensive zone drill, and I m happy we re already hard at work on defense, Boudreau said in a nod to the Ducks ranking 19th last season in goals against average 2.73 and missing the playoffs.\\n\\n You ve got to believe they haven t been sitting around on their butts all winter. Some have been playing in other leagues, and that s good. The thing is, though, they haven t hit or been hit by someone they hate yet. And those bumps and bruises might take a toll early on. \\n\\nThe Ducks are scheduled to begin their official training camp with Boudreau on Sunday after NHL players officially ratify the labor deal Saturday. The NHL schedule could be set by Saturday, with it appearing now that the Ducks will open in Vancouver.\\n\\nInstead of the typical September of a 10 day camp and exhibition games to prepare, the Ducks are headed to a Jan. 19 road game since the Honda Center will be occupied by How to Train Your Dragon Live through Jan. 20.\\n\\nSeventeen players worked out Thursday, producing the long awaited clacking of sticks on ice and smacking of pucks that were silenced by the dispute.\\n\\n I hope they come back, Selanne said of fans. They have a right not to, but I hope they know we were missing hockey, too . put those things behind and give us support. \\n\\nPlagued by slow starts in recent years, the Ducks know they can t allow that to happen in this shortened campaign, Getzlaf said.\\n\\n It s the time of year when we usually crank it up, and we need to. The first 10 games are essential, he said.'"
      ]
     },
     "execution_count": 37,
     "metadata": {},
     "output_type": "execute_result"
    }
   ],
   "source": [
    "Xtest_trial.iloc[0,:]['text']"
   ]
  },
  {
   "cell_type": "code",
   "execution_count": 38,
   "metadata": {
    "colab": {
     "base_uri": "https://localhost:8080/",
     "height": 106
    },
    "colab_type": "code",
    "id": "6eQnF1XN_T8r",
    "outputId": "2f75a808-e1ea-44bd-c636-1e1d6a007111"
   },
   "outputs": [
    {
     "name": "stdout",
     "output_type": "stream",
     "text": [
      "Actual summary:\n"
     ]
    },
    {
     "data": {
      "application/vnd.google.colaboratory.intrinsic+json": {
       "type": "string"
      },
      "text/plain": [
       "'As the clock ticks hurriedly to NHL andrsquo s opening night Jan. 19, the Ducks gathered Thursday at Honda Center for an informal practice without a coach partially to gauge where their conditioning is before the 48 game sprint of a labor stoppage shortened season.'"
      ]
     },
     "execution_count": 38,
     "metadata": {},
     "output_type": "execute_result"
    }
   ],
   "source": [
    "print(\"Actual summary:\")\n",
    "results['golden_summary'][0]"
   ]
  },
  {
   "cell_type": "code",
   "execution_count": 39,
   "metadata": {
    "colab": {
     "base_uri": "https://localhost:8080/",
     "height": 177
    },
    "colab_type": "code",
    "id": "PNXoHiQjBjAY",
    "outputId": "ee260cb0-641e-46ce-9a69-bd2ea8441a4f"
   },
   "outputs": [
    {
     "name": "stdout",
     "output_type": "stream",
     "text": [
      "Generated summary:\n"
     ]
    },
    {
     "data": {
      "application/vnd.google.colaboratory.intrinsic+json": {
       "type": "string"
      },
      "text/plain": [
       "'As the clock ticks hurriedly to NHL.com ne Kopitar of The Kings injured his knee. Right next, Ryan said. It very well could have been me.'"
      ]
     },
     "execution_count": 39,
     "metadata": {},
     "output_type": "execute_result"
    }
   ],
   "source": [
    "print('Generated summary:')\n",
    "results['generated_summary'][0]"
   ]
  },
  {
   "cell_type": "markdown",
   "metadata": {
    "colab_type": "text",
    "id": "5xU7pMWeEfh8"
   },
   "source": [
    "**Example 2**"
   ]
  },
  {
   "cell_type": "code",
   "execution_count": 40,
   "metadata": {
    "colab": {
     "base_uri": "https://localhost:8080/",
     "height": 159
    },
    "colab_type": "code",
    "id": "g_K3Q-5GB92N",
    "outputId": "3b960f64-d419-41ab-bdf2-df342e9711ef"
   },
   "outputs": [
    {
     "data": {
      "application/vnd.google.colaboratory.intrinsic+json": {
       "type": "string"
      },
      "text/plain": [
       "'After class action king Bill Lerach avowed in an affidavit last month that his firm never had an agreement to pay a Florida attorney 10 referral fees, that lawyer responded with a declaration listing names of 15 cases that he says he referred to the firm since 1998 and for which, he claims, Lerach s firm or its predecessor paid him in full. The Florida lawyer, Bruce Murphy, is seeking 10 of a 2.5 million fee Lerach Coughlin and its co lead counsel received in a 2004 settlement in a class action against Tut Systems, which is now a unit of Motorola MOT .\\n\\n Lerach is under scrutiny in connection with an unrelated criminal probe that has already led to the indictment of the firm he formerly co ran, Milberg Weiss Bershad and Schulman, and two of that firm s name partners. All defendants have pleaded not guilty. The probe appears to be at a critical stage, and Lerach, 61, has acknowledged that he is considering retirement. See posts here and here. \\n\\nThe earlier back and forth in the referral fee dispute between sole practitioner Murphy, of Vero Beach, Florida, and the class action powerhouse Lerach Coughlin Stoia Geller Rudman and Robbins, has been described in an earlier posting here. The suit against Tut Systems was filed in 2001. Though Lerach and Murphy are listed in the court docket as co counsel for the three original named plaintiffs, Murphy claims that in 2001 he was cut off the service list i.e., the list of attorneys who are to receive court documents as they are filed and that neither he nor the named plaintiffs were ever notified of the 2004 settlement of the case, which they first found out about in October 2006.\\n\\nIn a declaration filed in federal court in Oakland, California, on May 31, Lerach swore, In connection with the initiation of this case, I did not agree, nor was there any pre existing arrangement, that Mr. Murphy would receive a 10 referral fee for filing this lawsuit in association with my firm. Lerach s partner, Dave Walton, who oversaw the filing of the original Tut complaint, also submitted an affidavit saying he did not agree to pay Mr. Murphy any type of referral fee and . . . was not aware of a pre existing fee arrangement with Mr. Murphy. In Murphy s reply, filed yesterday, the Florida solo lists 15 cases in which he says he, in fact, received a full 10 referral fee from either Lerach Coughlin or Milberg Weiss. He says that Lerach personally made the promise to pay him a 10 referral fee in a telephone call in 1998, when Lerach was a name partner at Milberg Weiss, and that the promise was repeated in a 1999 telephone conversation with Milberg Weiss partner Steve Schulman now indicted and Sam Rudman now a name partner and executive committee member of Lerach Coughlin . Lerach and the rest of Milberg Weiss s West Coast office broke away from Milberg Weiss in May 2004, forming Lerach Coughlin. Of the 15 cases in which Murphy claims to have been paid his full 10 referral fee, he says he made one of those referrals directly to Lerach, one directly to Walton, nine others to Rudman, three to Darren Robbins another name partner and executive committee member at Lerach Coughlin , and the last to different Lerach Coughlin lawyer. Neither Robbins nor Rudman submitted affidavits in connection with Lerach Coughlin s May 31 filing. \\n\\nI ve just emailed Lerach, Walton, Robbins, and Rudman seeking comment on Murphy s filings and this posting. They have not responded to any of my calls or emails on recent previous posts. If they respond, I promise to print in full their response so long as it takes up no more words than I have used here.\\n\\n There is no discussion of the ethics of referral fee payments in either Murphy s papers or Lerach Coughlin s. According to ethics professor Stephen Gillers of New York University School of Law, the usual ABA rule in effect in most states is that an attorney can get a referral fee if he either works on the case or if he accepts responsibility for the other lawyer s work. The California rule, Gillers writes in an email, is that attorneys from different firms can t share in a fee unless the client has consented in writing after full disclosure. In a class action, Gillers adds, the court may need to be informed as well. \\n\\nMy previous post on this dispute left one other open question. In response to Murphy s original suggestion that the three original named plaintiffs Carlos Yusty, Andres Jaramillo, and Rodrigo Jaramillo had missed out on their opportunity to recover from the settlement fund, Lerach Coughlin countered that that fund, though fully distributed, probably still had enough money in it due to interest payments to pay off the named plaintiffs claim if Murphy would simply file the necessary paperwork. They claim further that Murphy has thus far failed to do so, notwithstanding recent urgings and invitations to do so from Lerach Coughlin and the fund s claims agent. In his reply papers Murphy suggests that the settlement, mere pennies on the dollar, would be fairly meaningless, and he hopes, therefore, to get larger sanctions and damages for the plaintiffs in light of Lerach Coughlin s conduct. The plaintiffs stock trading losses allegedly came to about 25,800. \\n\\nJudge Claudia Wilken ruled on Murphy s motion today, and turned him down. Even if there was a ten percent referral fee agreement in place, which Lerach Coughlin denies, under the Court s order Mr. Murphy would not be entitled to the 200,000 he seeks, she wrote. No fees were awarded to Mr. Murphy because he did nothing more than contact Mr. Walton, review the complaint drafted by Milberg Weiss and forward the draft complaint to his clients for review and approval. His involvement in the case stopped in December 2001. Then he seemingly forgot about this case until October 2006, when his clients contacted him to inquire about the status of the case. . . . The Court defers to Lerach Coughlin s decision not to allocate any attorney s fees to Mr. Murphy. \\n\\nAs for the other part of Murphy s motion his request for damages and sanctions on behalf of the allegedly neglected named plaintiffs she dismissed the motion without prejudice i.e., without having any negative binding impact on the plaintiffs because Murphy, a Florida lawyer, wasn t admitted to practice in California, and therefore wasn t qualified to represent those plaintiffs.'"
      ]
     },
     "execution_count": 40,
     "metadata": {},
     "output_type": "execute_result"
    }
   ],
   "source": [
    "Xtest_trial.iloc[1,:]['text']"
   ]
  },
  {
   "cell_type": "code",
   "execution_count": 41,
   "metadata": {
    "colab": {
     "base_uri": "https://localhost:8080/",
     "height": 54
    },
    "colab_type": "code",
    "id": "l_CBGaOSBvmL",
    "outputId": "1b18480c-dc94-4d98-dbd5-fada568312d2"
   },
   "outputs": [
    {
     "name": "stdout",
     "output_type": "stream",
     "text": [
      "Actual summary:\n"
     ]
    },
    {
     "data": {
      "application/vnd.google.colaboratory.intrinsic+json": {
       "type": "string"
      },
      "text/plain": [
       "'See update at end After class action king Bill Lerach avowed in an affidavit last month that his firm never had an agreement to pay a Florida attorney 10 referral fees, that lawyer responded with a declaration listing names of 15 cases that he says he referred to the firm since 1998 and for'"
      ]
     },
     "execution_count": 41,
     "metadata": {},
     "output_type": "execute_result"
    }
   ],
   "source": [
    "print(\"Actual summary:\")\n",
    "results['golden_summary'][1]"
   ]
  },
  {
   "cell_type": "code",
   "execution_count": 42,
   "metadata": {
    "colab": {
     "base_uri": "https://localhost:8080/",
     "height": 212
    },
    "colab_type": "code",
    "id": "ITAC0YvZB0um",
    "outputId": "bff5f8b7-b225-44fa-f28a-91cfa698469d"
   },
   "outputs": [
    {
     "name": "stdout",
     "output_type": "stream",
     "text": [
      "Generated summary:\n"
     ]
    },
    {
     "data": {
      "application/vnd.google.colaboratory.intrinsic+json": {
       "type": "string"
      },
      "text/plain": [
       "'after class action king Bill Lerach avowed in an attorney last month that his firm never had an agreement to pay., that neither he nor the named plaintiffs were ever informed of the 2004 settlement of the case and that neither I or the named plaintiff was ever told about the 2004 deal'"
      ]
     },
     "execution_count": 42,
     "metadata": {},
     "output_type": "execute_result"
    }
   ],
   "source": [
    "print('Generated summary:')\n",
    "results['generated_summary'][1]"
   ]
  },
  {
   "cell_type": "markdown",
   "metadata": {
    "colab_type": "text",
    "id": "OuLET9kiEkTa"
   },
   "source": [
    "**Example 3**"
   ]
  },
  {
   "cell_type": "code",
   "execution_count": 43,
   "metadata": {
    "colab": {
     "base_uri": "https://localhost:8080/",
     "height": 159
    },
    "colab_type": "code",
    "id": "s6eSs1ZWD_sD",
    "outputId": "f9af3dd9-6e7a-4c32-9aa4-7a024bb8607e"
   },
   "outputs": [
    {
     "data": {
      "application/vnd.google.colaboratory.intrinsic+json": {
       "type": "string"
      },
      "text/plain": [
       "'After surviving Russian Ultras, England supporters now have encounter with Euro 2016 s friendliest fans\\n\\nFOLLOWING the bloody Battle of Marseille England s loyal following now have a very different encounter with Europe s friendliest fans.\\n\\nRoy Hodgson s Three Lions meet Iceland tomorrow night in the exclusive coastal city of Nice a fortnight after their fans were left battered by Russian ultras.\\n\\nBut the Vikings of Iceland promise the clash will be trouble free as they say they prefer hugs to hooliganism .\\n\\nSome 27,000 Iceland fans have travelled to France, almost 10 percent of the Nordic island s 330,000 strong population.\\n\\nNo smaller country has ever featured at a Euro finals.\\n\\nAnd their supporters say they plan to make the most of the experience.\\n\\nAfter the Group F tie with Hungary pockets of Iceland fans gathered in Marseille s Vieux Port district to chant Boom Boom Hoooo! , leaping in unison on the Hoooo! .\\n\\n It s our Viking song, synchronised and terrifying, laughed Arni Gardar, an IT consultant from Reykjavik.\\n\\n But we don t mean to be scary, we are good Vikings not marauders, actually very nice, we come in peace, he said.\\n\\n Iceland is N Iceland! cried another fan, Jonina Unnur Gunnarsdottir.\\n\\nAnd they are certainly proving a hit with french locals.\\n\\n They are the best fans we have seen yet, said Karim, a cafe owner watching the revelry on the Quai des Belges.\\n\\n It was different last week, he recalled.\\n\\nEngland and Russia fans conducted pitched battles in the worst violence at a football tournament since the 1998 World Cup, prompting police to respond with tear gas and baton charges.\\n\\nAll eyes will be on England s fans tomorrow as it looks like they will have no one else to blame if there is violence before or after the game.\\n\\nWe just want to hug people, I mean come on, just share the love\\n\\nFor fans of the Nordic minnows the Euro 2016 violence has been an eye opening experience.\\n\\n We are a peaceful nation, we have no army, no guns, we re just not into fighting, Atli Gudmundsson told AFP.\\n\\n At home families go to football, no one dreams of ever causing trouble. \\n\\nThe 29 year old attended the Croatia Czech Republic tie in Saint Etienne on Friday where Croatian fans fought among themselves and lit flares, forcing a temporary stoppage in play.\\n\\n Torches on the pitch, fighting in the stands, that kind of thing is new to us, it was quite shocking to see, he said.\\n\\n We just want to hug people, I mean come on, just share the love, said his friend Daniel Ma sson.\\n\\nWe pay for your stories! Do you have a story for The Sun Online news team? Email us at tips sun.co.uk or call 0207 782 4368'"
      ]
     },
     "execution_count": 43,
     "metadata": {},
     "output_type": "execute_result"
    }
   ],
   "source": [
    "Xtest_trial.iloc[3,:]['text']"
   ]
  },
  {
   "cell_type": "code",
   "execution_count": 44,
   "metadata": {
    "colab": {
     "base_uri": "https://localhost:8080/",
     "height": 142
    },
    "colab_type": "code",
    "id": "QTOwXNrqDUMp",
    "outputId": "22ea1bef-0ee9-41e4-9424-1747acabab9f"
   },
   "outputs": [
    {
     "name": "stdout",
     "output_type": "stream",
     "text": [
      "Actual summary:\n"
     ]
    },
    {
     "data": {
      "application/vnd.google.colaboratory.intrinsic+json": {
       "type": "string"
      },
      "text/plain": [
       "'FOLLOWING the bloody Battle of Marseille England s loyal following now have a very different encounter with Europe s friendliest fans. Roy Hodgson sThree Li'"
      ]
     },
     "execution_count": 44,
     "metadata": {},
     "output_type": "execute_result"
    }
   ],
   "source": [
    "print(\"Actual summary:\")\n",
    "results['golden_summary'][3]"
   ]
  },
  {
   "cell_type": "code",
   "execution_count": 45,
   "metadata": {
    "colab": {
     "base_uri": "https://localhost:8080/",
     "height": 177
    },
    "colab_type": "code",
    "id": "8KPpq-pUDcfe",
    "outputId": "f8042bcb-cf9a-4b20-88c9-df472a921934"
   },
   "outputs": [
    {
     "name": "stdout",
     "output_type": "stream",
     "text": [
      "Generated summary:\n"
     ]
    },
    {
     "data": {
      "application/vnd.google.colaboratory.intrinsic+json": {
       "type": "string"
      },
      "text/plain": [
       "'FOLLOWING the bloody Battle of Marseille England s loyal following now have very different encounter with Europe and Russia fans in the worst violence at Euro 2016 since 1998 World Cup, prompting police to respond with tear gas.'"
      ]
     },
     "execution_count": 45,
     "metadata": {},
     "output_type": "execute_result"
    }
   ],
   "source": [
    "print('Generated summary:')\n",
    "results['generated_summary'][3]"
   ]
  },
  {
   "cell_type": "markdown",
   "metadata": {
    "colab_type": "text",
    "id": "C0TEEYozZ0wm"
   },
   "source": [
    "**Example 4**"
   ]
  },
  {
   "cell_type": "code",
   "execution_count": 46,
   "metadata": {
    "colab": {},
    "colab_type": "code",
    "id": "J8J_ZRKZZ0wm",
    "outputId": "283a7426-78d2-4302-c7eb-8f435462639d"
   },
   "outputs": [
    {
     "data": {
      "application/vnd.google.colaboratory.intrinsic+json": {
       "type": "string"
      },
      "text/plain": [
       "'The chairman of the House Judiciary Committee said Thursday that the way the U.S. grants asylum to immigrants may need to be changed in the wake of the Boston Marathon bombings.\\n\\nAccused Boston Marathon bombers Tamerlan and Dzhokhar Tsarnaev are ethnic Chechen brothers from Russia who came to the United States about a decade ago with their parents. The family was granted asylum.\\n\\n We certainly will view that as a part of overall comprehensive immigration reform, Rep. Bob Goodlatte, R Va., told reporters Thursday, adding that no decisions have been made on possible changes to the asylum process.\\n\\nGoodlatte didn t specify what might need to be changed in the process, only saying it s something that bears examination in the wake of the Boston bombings. So do with other aspects of the U.S. immigration system, including the naturalization process by which immigrants become U.S. citizens, Goodlatte said.\\n\\n People getting asylum because they are in the minority, but engaging in aggressive tactics in their home country that may cause them to be susceptible to doing the same thing elsewhere, that obviously ought to be a part of our consideration in granting political asylum to avoid situations like Boston, said Goodlatte, who s working to develop a series of bills to fix problems with the country s immigration system.\\n\\nDzhokhar Tsarnaev is a U.S. citizen while Tamerlan Tsarnaev had sought citizenship but had not had his application granted.\\n\\nTamerlan Tsarnaev was killed in a shootout with police last week. Dzhokhar Tsarnaev was arrested after being found hiding, unarmed, in a boat.\\n\\nOn Thursday, authorities said the brothers were headed for New York s Times Square to blow up the rest of their explosives in a spur of the moment scheme that fell apart when the brothers realized the car they had hijacked was low on gas.\\n\\nHomeland Security Secretary Janet Napolitano defended the asylum process this week in an appearance before the Senate Judiciary Committee, saying it involves multiple layers of vetting.\\n\\nA comprehensive immigration bill introduced last week in the Senate also may undergo changes in response to Boston. One of its authors, Sen. Lindsey Graham, R S.C., has suggested strengthening background checks done on certain immigrants considered higher risk, such as refugees or asylum seekers.\\n\\nSen. John McCain, R Ariz., another author, said Thursday that it s too early to know what changes might be needed.\\n\\n We are completely open to amendments that would in any way prevent what happened in Boston, McCain said at a Christian Science Monitor breakfast for reporters. I am sure that by the time this bill reaches the floor we will be able to reach conclusions and we will include provisions like that if we feel they are necessary. \\n\\nBut the top committee Republican, Sen. Chuck Grassley, R Iowa, raised concerns earlier this week because the bill eliminates a requirement that people apply for asylum within a year of arriving in the country, and allows new applications from those whose cases have been unsuccessful because they didn t comply with the one year bar to reapply.\\n\\nAuthors of the bill, including Sen. Chuck Schumer, D N.Y., have said they re open to changes in the legislation should any issues come to light in the wake of the Boston attack.\\n\\nThe Associated Press contributed to this report.'"
      ]
     },
     "execution_count": 46,
     "metadata": {},
     "output_type": "execute_result"
    }
   ],
   "source": [
    "Xtest_trial.iloc[4,:]['text']"
   ]
  },
  {
   "cell_type": "code",
   "execution_count": 47,
   "metadata": {
    "colab": {},
    "colab_type": "code",
    "id": "NQrei0JEZ0wo",
    "outputId": "1aa75634-2780-49c7-d0c3-0adae8f78971"
   },
   "outputs": [
    {
     "name": "stdout",
     "output_type": "stream",
     "text": [
      "Actual summary:\n"
     ]
    },
    {
     "data": {
      "application/vnd.google.colaboratory.intrinsic+json": {
       "type": "string"
      },
      "text/plain": [
       "'The chairman of the House Judiciary Committee said Thursday that the way the U.S. grants asylum to immigrants may need to be addressed after the Boston Marathon bombing.'"
      ]
     },
     "execution_count": 47,
     "metadata": {},
     "output_type": "execute_result"
    }
   ],
   "source": [
    "print(\"Actual summary:\")\n",
    "results['golden_summary'][4]"
   ]
  },
  {
   "cell_type": "code",
   "execution_count": 48,
   "metadata": {
    "colab": {},
    "colab_type": "code",
    "id": "OJIYcxJ4Z0wp",
    "outputId": "04e4d05f-fc82-4171-80ca-3032539cbf25"
   },
   "outputs": [
    {
     "name": "stdout",
     "output_type": "stream",
     "text": [
      "Generated summary:\n"
     ]
    },
    {
     "data": {
      "application/vnd.google.colaboratory.intrinsic+json": {
       "type": "string"
      },
      "text/plain": [
       "'The chairman of the House Judiciary Committee said Thursday that the way U.S grants asylum to immigrants may need changes in response after the Boston bombings.'"
      ]
     },
     "execution_count": 48,
     "metadata": {},
     "output_type": "execute_result"
    }
   ],
   "source": [
    "print('Generated summary:')\n",
    "results['generated_summary'][4]"
   ]
  },
  {
   "cell_type": "markdown",
   "metadata": {},
   "source": [
    "**Example 5**"
   ]
  },
  {
   "cell_type": "code",
   "execution_count": 49,
   "metadata": {},
   "outputs": [
    {
     "data": {
      "application/vnd.google.colaboratory.intrinsic+json": {
       "type": "string"
      },
      "text/plain": [
       "'Photos Ferguson protests across U.S. 35 photos\\n\\nPhotos Ferguson protests across U.S. 35 photos\\n\\nFerguson protests across U.S. Students at Jackson State University in Jackson, Mississippi, participate in the walkout on December 1.\\n\\nPhotos Ferguson protests across U.S. 35 photos\\n\\nFerguson protests across U.S. Protesters join in the walkout at Union Square in New York on December 1.\\n\\nPhotos Ferguson protests across U.S. 35 photos\\n\\nFerguson protests across U.S. Students at Clayton High School in Clayton, Missouri, take part in a die in protest in the school cafeteria on December 1.\\n\\nPhotos Ferguson protests across U.S. 35 photos\\n\\nFerguson protests across U.S. Boston Arts Academy students and supporters march in downtown Boston on December 1.\\n\\nPhotos Ferguson protests across U.S. 35 photos\\n\\nFerguson protests across U.S. Members of the St. Louis Rams raise their arms as they walk onto the field in St. Louis before their NFL game against the Oakland Raiders on Sunday, November 30.\\n\\nPhotos Ferguson protests across U.S. 35 photos\\n\\nFerguson protests across U.S. Officers wearing riot gear walk through a park in downtown St. Louis on November 30.\\n\\nPhotos Ferguson protests across U.S. 35 photos\\n\\nFerguson protests across U.S. Several hundred people march down M Street in Washington during a Ferguson protest on Saturday, November 29.\\n\\nPhotos Ferguson protests across U.S. 35 photos\\n\\nFerguson protests across U.S. Demonstrators in Brentwood, Missouri, protest inside the Galleria shopping mall on Friday, November 28. The protests forced some retailers to temporarily shutter their entrances on the busiest shopping day of the year.\\n\\nPhotos Ferguson protests across U.S. 35 photos\\n\\nFerguson protests across U.S. A protester is arrested in New York during the Macy s Thanksgiving Day Parade on Thursday, November 27.\\n\\nPhotos Ferguson protests across U.S. 35 photos\\n\\nFerguson protests across U.S. A protester sits in the back of a police bus after being arrested during a demonstration in Los Angeles on Wednesday, November 26.\\n\\nPhotos Ferguson protests across U.S. 35 photos\\n\\nFerguson protests across U.S. Protesters gather on the steps of the National Portrait Gallery in Washington on Tuesday, November 25.\\n\\nPhotos Ferguson protests across U.S. 35 photos\\n\\nFerguson protests across U.S. A protester adds wood to a fire burning in Oakland, California, on November 25.\\n\\nPhotos Ferguson protests across U.S. 35 photos\\n\\nFerguson protests across U.S. A woman joins a rally near Los Angeles police headquarters on November 25.\\n\\nPhotos Ferguson protests across U.S. 35 photos\\n\\nFerguson protests across U.S. Protesters gather in Eugene, Oregon, on November 25.\\n\\nPhotos Ferguson protests across U.S. 35 photos\\n\\nFerguson protests across U.S. Protesters in Atlanta block all northbound lanes of Interstate 75 85 near the Georgia state Capitol on November 25.\\n\\nPhotos Ferguson protests across U.S. 35 photos\\n\\nFerguson protests across U.S. Businesses were looted in Oakland on November 25, including a T Mobile store.\\n\\nPhotos Ferguson protests across U.S. 35 photos\\n\\nFerguson protests across U.S. People march in Newark, New Jersey, on November 25.\\n\\nPhotos Ferguson protests across U.S. 35 photos\\n\\nFerguson protests across U.S. Hundreds of demonstrators gather to protest in Washington on November 25.\\n\\nPhotos Ferguson protests across U.S. 35 photos\\n\\nFerguson protests across U.S. Protesters gather outside Los Angeles police headquarters on November 25.\\n\\nPhotos Ferguson protests across U.S. 35 photos\\n\\nFerguson protests across U.S. Schoolchildren from the Potomac Preparatory Charter School take part in a die in November 25 during a protest outside the Office of Police Complaints in Washington.\\n\\nPhotos Ferguson protests across U.S. 35 photos\\n\\nFerguson protests across U.S. Students at the University of Minnesota in Minneapolis rally in support of police brutality victims on November 25.\\n\\nPhotos Ferguson protests across U.S. 35 photos\\n\\nFerguson protests across U.S. Demonstrators gather November 25 outside the Minneapolis Police Department s Third Precinct.\\n\\nPhotos Ferguson protests across U.S. 35 photos\\n\\nFerguson protests across U.S. Protesters march up New York s Seventh Avenue on Monday, November 24.\\n\\nPhotos Ferguson protests across U.S. 35 photos\\n\\nFerguson protests across U.S. A protester in New York scuffles with police during a march toward Times Square on November 24.\\n\\nPhotos Ferguson protests across U.S. 35 photos\\n\\nFerguson protests across U.S. Demonstrators gather around a fire in the streets of Oakland on November 24.\\n\\nPhotos Ferguson protests across U.S. 35 photos\\n\\nFerguson protests across U.S. Protesters block Interstate 580 in Oakland on November 24.\\n\\nPhotos Ferguson protests across U.S. 35 photos\\n\\nFerguson protests across U.S. Seattle police attempt to push back protesters with pepper spray and flash bang grenades on November 24.\\n\\nPhotos Ferguson protests across U.S. 35 photos\\n\\nFerguson protests across U.S. A Seattle protester pours milk in his eyes after being tear gassed on November 24.\\n\\nPhotos Ferguson protests across U.S. 35 photos\\n\\nFerguson protests across U.S. A protester in Denver holds up his arms during a moment of silence November 24 at Civic Center Park.\\n\\nPhotos Ferguson protests across U.S. 35 photos\\n\\nFerguson protests across U.S. A crowd in Washington gathers outside the White House on November 24.\\n\\nPhotos Ferguson protests across U.S. 35 photos\\n\\nFerguson protests across U.S. Demonstrators march down a street in Washington on November 24.\\n\\nPhotos Ferguson protests across U.S. 35 photos\\n\\nFerguson protests across U.S. Community activist Najee Ali speaks in Los Angeles Leimert Park on November 24.\\n\\nPhotos Ferguson protests across U.S. 35 photos\\n\\nFerguson protests across U.S. Protesters in Los Angeles lie down in a major intersection to block traffic on November 24.\\n\\nPhotos Ferguson protests across U.S. 35 photos\\n\\nFerguson protests across U.S. Protesters march near Chicago police headquarters on November 24.'"
      ]
     },
     "execution_count": 49,
     "metadata": {},
     "output_type": "execute_result"
    }
   ],
   "source": [
    "Xtest_trial.iloc[5,:]['text']"
   ]
  },
  {
   "cell_type": "code",
   "execution_count": 50,
   "metadata": {},
   "outputs": [
    {
     "name": "stdout",
     "output_type": "stream",
     "text": [
      "Actual summary:\n"
     ]
    },
    {
     "data": {
      "application/vnd.google.colaboratory.intrinsic+json": {
       "type": "string"
      },
      "text/plain": [
       "'Nobody said racism made sense. But for a city systematically kept unequal, it has made money, Dorothy A. Brown says.'"
      ]
     },
     "execution_count": 50,
     "metadata": {},
     "output_type": "execute_result"
    }
   ],
   "source": [
    "print(\"Actual summary:\")\n",
    "results['golden_summary'][5]"
   ]
  },
  {
   "cell_type": "code",
   "execution_count": 51,
   "metadata": {},
   "outputs": [
    {
     "name": "stdout",
     "output_type": "stream",
     "text": [
      "Generated summary:\n"
     ]
    },
    {
     "data": {
      "application/vnd.google.colaboratory.intrinsic+json": {
       "type": "string"
      },
      "text/plain": [
       "'Photos Ferguson protests across U.S, 35 photos Ferguson demonstration in New York during the Macy a Thanksgiving Day Parade on Thursday and November 26'"
      ]
     },
     "execution_count": 51,
     "metadata": {},
     "output_type": "execute_result"
    }
   ],
   "source": [
    "print('Generated summary:')\n",
    "results['generated_summary'][5]"
   ]
  },
  {
   "cell_type": "markdown",
   "metadata": {},
   "source": [
    "**Example 6**"
   ]
  },
  {
   "cell_type": "code",
   "execution_count": 52,
   "metadata": {},
   "outputs": [
    {
     "data": {
      "application/vnd.google.colaboratory.intrinsic+json": {
       "type": "string"
      },
      "text/plain": [
       "'FIVE years after his parents divorce, the 14 year old author of a paper on the subject concluded We all know that marriage is the major cause of divorce. But this is no joke especially where children are concerned. \\n\\nWith children of divorce constituting one of the fastest growing segments of the population, legal and medical practitioners gathered in White Plains last weekend to assess divorce and its effect on children.\\n\\nThe one day institute, The Effects of Divorce and Custody on the Child, was sponsored by the Westchester division of New York Hospital, Cornell Medical Center. The conference attracted nearly 200 participants, many drawn by a panel that included Dr. Albert Solnit, Sterling Professor of Pediatrics and Psychiatry at the Yale University School of Medicine, and Dr. Judith S. Wallerstein, professor of social welfare at the University of California, Berkeley, who holds a doctorate in clinical psychology.\\n\\nThe program, in addition to lectures and workshops, featured a mock custody trial, consisting of the final phase of testimony in an actual case and including the contributions of a child psychiatrist. Questions concerning the nature of that contribution were a central issue in the day s deliberations.\\n\\nBehavioral specialists play an increasingly important role in custody suits, but as Dr. Solnit observed, While the concept defines clinician as an advocate for the child, the definition and limits of that role are never clear. Courts have placed psychological experts in the role of clinical policemen, Dr. Solnit argued, by regularly asking these clinicians to decide a case rather than answer questions about the relations between parents. \\n\\nDr. Solnit urged the audience to resist these requests and to be willing to say I don t know when asked about ultimate custody decisions.\\n\\nAnother dilemma surrounding custody decisions is the issue of confidentialty. Use of clinical experts by the courts in custody suits places the mental health professional and the legal counsel in an impossible conflict, panel members agreed. Herman Tarnow, a Manhattan based divorce attorney, said, Here s a person who hurts, and here s a clinician who knows that person hurts. Yet the clinician who hears the person pouring his heart out is then required to report these proceedings to the court. \\n\\nDr. Solnit warned that clinicians must make their dual role very clear to their clients, but Mr. Tarnow said he would continue to urge his clients to speak guardedly to court appointed clinicians.\\n\\n We ve moved away from the notion of moral blame in modern divorce proceedings, said Robert A. Burt, a Yale Law School professor who was on the panel. But fault lives on in custody and visitation proceedings. The behavioral specialist now points the finger of moralistic blame. Professor Burt characterized such a situation as a distinct misuse of the clinician s professional capacities. \\n\\nAlthough some researchers have estimated that as many as 11 million children live with a single parent, comprehensive research on the effects of divorce on these children is not yet available. We are just beginning to get a convergence of results, said Dr. Teresa Levitin, representing the Life Course Review Committee of the National Institute of Mental Health. We can describe some effects of divorce on some children, some of the time. \\n\\nOne of the best studies to emerge, in Dr. Levitin s view, is the California Children of Divorce Project, a five year study of 131 children who were aged 3 to 18 at the time of divorce. The results of that study have recently been published in a book, Surviving the Breakup How Children and Parents Cope With Divorce, by Judith S. Wallerstein and Joan B. Kelly Basic Books. New York. 1980. 18.50 .\\n\\nThe principal investigator for that project, Dr. Wallerstein, cited some immediate effects of divorce that her study revealed as common to every age level among the children studied.\\n\\n Fear is the central response among children, Dr. Wallerstein observed, fright about both the present and the future. Because adults tend to lose ego control when divorcing, children see their parents behave as they have never done before. Dr. Wallerstein added Violence was present in 57 percent of the families studied. \\n\\nThe study showed that at the time of divorce, adults experienced diminished capacity to parent and a loss of judgment just when decisions most needed to be made. It also found that 80 percent of the preschoolers not told in advance of their parents divorce simply awoke one morning to find one parent gone.\\n\\nFinally, divorce tends to socially isolate family and children, the study showed. Even in California, we found an almost phobic reaction in the community during the initial stages of divorce, Dr. Wallerstein said. Study results indicated that children of divorce worried constantly about their parents, might experience a considerable drop in learning ability during the first year of divorce and often showed a rise in aggressive impulses.\\n\\nThe results of the California study suggest the following concepts for children of divorce that Dr. Wallerstein contends parents should explore to reduce the effects of marital breakup \\n\\n Children do best who understand the divorce most quickly. While it is difficult for children to engage in anticipatory thinking, especially younger children, every child who is not prepared for the divorce has more trouble coping with its consequences. There is no substitute for saying and it s going to be rough for a while, Johnny. \\n\\n An appropriate academic agenda should be resumed as quickly as possible and a preschooler should rejoin the play group.\\n\\n An understanding of the father s departure should be mastered. In the California study, some children took several years to accomplish this task, and some never did. Children who did not do well cling to what Dr. Wallerstein describes as the Madame Butterfly syndrome One fine day, he ll return. \\n\\n Children must come to terms with anger at both parents. An irony of divorce, Dr. Wallerstein said, is that a child knows too well that his parents decision was voluntary, that they gave their own interests priority. \\n\\n The permanence of divorce must be accepted.\\n\\n A child must understand what is right and wrong in human relationships by developing for himself a sense that such relationships can endure. This is especially important for adolescents.'"
      ]
     },
     "execution_count": 52,
     "metadata": {},
     "output_type": "execute_result"
    }
   ],
   "source": [
    "Xtest_trial.iloc[6,:]['text']"
   ]
  },
  {
   "cell_type": "code",
   "execution_count": 53,
   "metadata": {},
   "outputs": [
    {
     "name": "stdout",
     "output_type": "stream",
     "text": [
      "Actual summary:\n"
     ]
    },
    {
     "data": {
      "application/vnd.google.colaboratory.intrinsic+json": {
       "type": "string"
      },
      "text/plain": [
       "'FIVE years after his parents divorce, the 14 year old author of a paper on the subject concluded We all know that marriage is the major cause of divorce. But this is no joke especially where children are concerned. With children of divorce constituting one of the fastest growing segments of the population, legal and medical practitioners gathered in White Plains last weekend to assess divorce and its effect on children. The one day institute, The Effects of Divorce and Custody on the Child, was sponsored by the Westchester division of New York Hospital, Cornell Medical Center. The conference attracted nearly 200 participants, many drawn by a panel that included Dr. Albert Solnit, Sterling Professor of Pediatrics and '"
      ]
     },
     "execution_count": 53,
     "metadata": {},
     "output_type": "execute_result"
    }
   ],
   "source": [
    "print(\"Actual summary:\")\n",
    "results['golden_summary'][6]"
   ]
  },
  {
   "cell_type": "code",
   "execution_count": 54,
   "metadata": {},
   "outputs": [
    {
     "name": "stdout",
     "output_type": "stream",
     "text": [
      "Generated summary:\n"
     ]
    },
    {
     "data": {
      "application/vnd.google.colaboratory.intrinsic+json": {
       "type": "string"
      },
      "text/plain": [
       "'FIVE years after his parents divorce, the 14 year old author of a paper onthe subject concluded We all know that marriage is The major cause. But thisis no joke especially where children are concerned'"
      ]
     },
     "execution_count": 54,
     "metadata": {},
     "output_type": "execute_result"
    }
   ],
   "source": [
    "print('Generated summary:')\n",
    "results['generated_summary'][6]"
   ]
  },
  {
   "cell_type": "markdown",
   "metadata": {},
   "source": [
    "**Example 7**"
   ]
  },
  {
   "cell_type": "code",
   "execution_count": 55,
   "metadata": {},
   "outputs": [
    {
     "data": {
      "application/vnd.google.colaboratory.intrinsic+json": {
       "type": "string"
      },
      "text/plain": [
       "'WASHINGTON Eager to soothe tensions, President Barack Obama and Chinese President Hu Jintao shared an unusual and intimate dinner Tuesday night to discuss the strains and common goals that define the complicated relations between the two rival powers.\\n\\nThe private dinner, in the Old Family Dining Room in the White House residence, came amid disputes over China s currency, trade and human rights policies and a search for cooperation on national security. It preceded a planned pomp filled gala for Hu on Wednesday night and illustrated Obama s careful mix of warmth and firmness for the leader of a nation that is at once the largest U.S. competitor and most important potential partner.\\n\\nAlso at the dinner were national security adviser Tom Donilon and Secretary of State Hillary Clinton. Hu brought along two top Chinese officials. Underscoring the desire for candor, the White House said there were no official note takers at the dinner and offered no readout of the discussions.\\n\\nFor Hu, Wednesday s pageantry would be an accomplishment in itself. The U.S. has stiffened its stance against China after initial entreaties from the Obama administration, and any images of a friendly welcome in the U.S. could serve to polish Hu s image at home and abroad and to soften the American public s suspicions about China.\\n\\nHu received red carpet treatment upon landing Tuesday afternoon at a wet Andrews Air Force Base, where he was greeted by Vice President Joe Biden and a military color guard.\\n\\nFor Obama, the visit represents an opportunity to carry out the engagement he promised would be a trademark of his foreign policy. But Obama is also under pressure to show resolve as a range of interest groups from business leaders to human rights advocates press the administration to stand up to Beijing.\\n\\nThe White House on Tuesday stressed that Obama did not intend to avoid difficult subjects.\\n\\n Whether we re dealing with economic discussions, whether we re dealing with those in the security realm, or whether we re doing those with human rights, I think this is an argument that we have and we ll continue to make to the Chinese and push them to do better, White House spokesman Robert Gibbs said.\\n\\nA key moment will come Wednesday when Obama and Hu appear at a brief news conference.\\n\\nThe two will take four questions two from U.S. journalists and two from Chinese reporters. The White House insisted that the two leaders face reporters.\\n\\nIn China, Hu s public appearances are always under controlled circumstances that don t lend themselves to spontaneity. Hu did take questions at a 2005 news conference with President George W. Bush in Beijing, but he refused to do so when Obama visited in 2009.\\n\\nObama plans to host a meeting Wednesday afternoon for Hu and U.S. and Chinese business leaders to promote increased U.S. exports to China and greater Chinese investment in the United States. Among those scheduled to attend are CEOs Steve Ballmer of Microsoft, Lloyd Blankfein of Goldman Sachs, Jeff Immelt of General Electric, Greg Brown of Motorola, Jim McNerney of Boeing and nine other U.S. executives.\\n\\nU.S. companies have been longtime critics of Chinese policies that kept its currency low relative to to contain North Korean aggression against South Korea and its development of a nuclear weapon. The U.S. also needs Chinese support to increase pressure on Iran, as China is a U.N. Security Council member.\\n\\nAmong the security issues that remain unresolved between the two countries are Chinese objections to the U.S. view that it has the right to sail its ships in waters that China claims as restricted.\\n\\nPerhaps the most confrontational aspect of the relationship is the U.S. view that China engages in human rights violations. Last week, Secretary of State Hillary Clinton bluntly called for the release of jailed Chinese dissidents, including Nobel Peace Prize winner Liu Xiaobo, who was prevented from attending the Dec. 10 prize ceremony in the Norwegian capital.\\n\\nThe White House on Tuesday seemed eager to dispel any suggestion that Obama would not press Hu on human rights.\\n\\n That is a topic of some significance that the two leaders will talk about, Gibbs said. We will continue to have difficult conversations . that had to be had with China.'"
      ]
     },
     "execution_count": 55,
     "metadata": {},
     "output_type": "execute_result"
    }
   ],
   "source": [
    "Xtest_trial.iloc[7,:]['text']"
   ]
  },
  {
   "cell_type": "code",
   "execution_count": 56,
   "metadata": {},
   "outputs": [
    {
     "name": "stdout",
     "output_type": "stream",
     "text": [
      "Actual summary:\n"
     ]
    },
    {
     "data": {
      "application/vnd.google.colaboratory.intrinsic+json": {
       "type": "string"
      },
      "text/plain": [
       "'While currency manipulation is topic one for many Americans awaiting the Chinese president s delegation, other topics like intellectual property theft, government contracting and indigenous innovation are also of concern to U.S. businesses and manufacturers.'"
      ]
     },
     "execution_count": 56,
     "metadata": {},
     "output_type": "execute_result"
    }
   ],
   "source": [
    "print(\"Actual summary:\")\n",
    "results['golden_summary'][7]"
   ]
  },
  {
   "cell_type": "code",
   "execution_count": 57,
   "metadata": {},
   "outputs": [
    {
     "name": "stdout",
     "output_type": "stream",
     "text": [
      "Generated summary:\n"
     ]
    },
    {
     "data": {
      "application/vnd.google.colaboratory.intrinsic+json": {
       "type": "string"
      },
      "text/plain": [
       "'Eager to soothe tensions, President Barack Obama and Chinese president Hu Jintao shared an unusual dinner Tuesday night to discuss the strain he promised would be trademark of his foreign policy.'"
      ]
     },
     "execution_count": 57,
     "metadata": {},
     "output_type": "execute_result"
    }
   ],
   "source": [
    "print('Generated summary:')\n",
    "results['generated_summary'][7]"
   ]
  },
  {
   "cell_type": "markdown",
   "metadata": {},
   "source": [
    "**Example 8**"
   ]
  },
  {
   "cell_type": "code",
   "execution_count": 58,
   "metadata": {},
   "outputs": [
    {
     "data": {
      "application/vnd.google.colaboratory.intrinsic+json": {
       "type": "string"
      },
      "text/plain": [
       "'Staff Sgt. Robert Bales entered guilty pleas to 16 counts of murder.\\n\\n CNN Count by count, Army Staff Sgt. Robert Bales on Wednesday admitted to gunning down 16 civilians in a 2012 rampage through two villages near his outpost in southern Afghanistan.\\n\\nBales pleaded guilty to more than 30 criminal charges, including 16 premeditated murder counts, in a hearing before a military judge. He admitted to slipping away from his outpost in southern Afghanistan and going on a house to house killing spree in two nearby villages in March 2012, a massacre that further strained ties between American troops and their Afghan allies.\\n\\nThe move spares the 39 year old Bales the prospect of a death sentence in the killings. But he was unable to offer the judge, Col. Jeffery Nance, an explanation for his actions.\\n\\n I ve asked that question a million times since then. There s not a good reason in the world for the horrible things I did, Bales replied, according to Drew Mikkelson of CNN affilliate KING, who was tweeting from the courtroom.\\n\\nWednesday s hearing was held at Joint Base Lewis McChord, near Tacoma, Washington. Both Nance and Lt. Gen. Robert Brown, commander of the Army s I Corps, have approved the plea agreement, said Lt. Col. Gary Dangerfield, a spokesman for the installation.\\n\\nBales now faces life in prison, but a jury of four officers and two enlisted personnel will decide whether he will have a chance at parole, Dangerfield said. Nance set sentencing for August 19.\\n\\n Sergeant Bales has been waiting for the day that he can accept responsibility for what he has done the day that he can give, hopefully, some sense of peace to the people who are the victims of this tragedy, to his own family and to the soldiers who are still serving in Afghanistan, defense attorney Emma Scanlan said after the hearing. That has been his purpose from the beginning, and that remains what he wants from this. \\n\\nIn addition to the murder counts, Bales pleaded guilty to six counts of attempted murder, seven of assault and the use of illicit steroids and alcohol, but pleaded not guilty to a charge of obstruction of justice.\\n\\nBales is a member of the Army s 3rd Stryker Brigade Combat Team, an element of the 2nd Infantry Division. His attorneys have said the service made a mistake in assigning Bales to another combat tour despite evidence of post traumatic stress disorder and a traumatic brain injury suffered during a combat tour in Iraq.\\n\\nIn the penalty hearings, Scanlan said the defense also will argue that Bales problems were also fueled by drugs and alcohol provided by Special Operations troops at his outpost before the killings.\\n\\n We know all of those things to be true, as does the government, Scanlan told reporters after the hearing. You take that with somebody on their fourth deployment and the stresses of combat, and we get in some parts of the situation we are in today. \\n\\nBut Scanlan added, There s no justification for the massacre. He doesn t have one, and neither do we. \\n\\nLawyer Specials ops troops gave accused killer alcohol, steroids\\n\\nU.S. and allied troops invaded Afghanistan in 2001 in response to the September 11 al Qaeda attacks on New York and Washington. The invasion quickly routed Afghanstan s ruling Taliban, which had allowed al Qaeda to operate from its territory, but the Taliban regrouped and have mounted a guerrilla war against the allied backed government of Afghan President Hamid Karzai ever since.\\n\\nMore than 2,200 Americans and nearly 1,100 allied troops have been killed since the war began in October 2001. Nearly 15,000 civilians have died since 2007, the United Nations reported in February.\\n\\nThe United States plans to remove combat troops from the country by the end of 2014.\\n\\nCNN s Barbara Starr and Devon Sayers contributed to this report.'"
      ]
     },
     "execution_count": 58,
     "metadata": {},
     "output_type": "execute_result"
    }
   ],
   "source": [
    "Xtest_trial.iloc[8,:]['text']"
   ]
  },
  {
   "cell_type": "code",
   "execution_count": 59,
   "metadata": {},
   "outputs": [
    {
     "name": "stdout",
     "output_type": "stream",
     "text": [
      "Actual summary:\n"
     ]
    },
    {
     "data": {
      "application/vnd.google.colaboratory.intrinsic+json": {
       "type": "string"
      },
      "text/plain": [
       "'Hoping to avoid a death sentence, a U.S. Army sergeant entered guilty pleas to 16 murder counts Wednesday in connection with a 2012 massacre of Afghan civilians.'"
      ]
     },
     "execution_count": 59,
     "metadata": {},
     "output_type": "execute_result"
    }
   ],
   "source": [
    "print(\"Actual summary:\")\n",
    "results['golden_summary'][8]"
   ]
  },
  {
   "cell_type": "code",
   "execution_count": 60,
   "metadata": {},
   "outputs": [
    {
     "name": "stdout",
     "output_type": "stream",
     "text": [
      "Generated summary:\n"
     ]
    },
    {
     "data": {
      "application/vnd.google.colaboratory.intrinsic+json": {
       "type": "string"
      },
      "text/plain": [
       "'Count by count, Army Staff Sgt. Robert Bales entered guilty pleas to 16 counts of murder in a hearing before prosecutors at Joint Base Lewis McChord, near Tacom A, Washington'"
      ]
     },
     "execution_count": 60,
     "metadata": {},
     "output_type": "execute_result"
    }
   ],
   "source": [
    "print('Generated summary:')\n",
    "results['generated_summary'][8]"
   ]
  },
  {
   "cell_type": "markdown",
   "metadata": {},
   "source": [
    "**Example 9**"
   ]
  },
  {
   "cell_type": "code",
   "execution_count": 61,
   "metadata": {},
   "outputs": [
    {
     "data": {
      "application/vnd.google.colaboratory.intrinsic+json": {
       "type": "string"
      },
      "text/plain": [
       "'Tali Lennox Fruchtmann and Ian Jones\\n\\n\\nNearly three days after the boyfriend of Tali Lennox Fruchtmann the daughter of singer Annie Lennox went missing after a\\n\\n, authorities say his body may have been recovered.\\n\\nMonday afternoon, a male body was found that matches Jones description, the Dutchess County Sheriff s Office told PEOPLE in a statement, adding that while there is a strong possibility that the body recovered is that of Mr. Jones, it remains only a possibility at this time. \\n\\nAn autopsy to determine the death and identification is scheduled for Tuesday, and the search for Jones has been suspended.\\n\\nVisual artist Lennox Fruchtmann, 22, and model photographer Jones, 32, were kayaking in the Hudson River near Poughkeepsie, New York, Saturday morning when they capsized.\\n\\n The current in the Hudson River is very strong, and we believe the current played a role in the kayak capsizing, and once the two got in the water it was difficult for them to stay together, Dutchess County Sherrif s Captain John Watterson told PEOPLE at the time, adding that alcohol may have played a role as well.\\n\\nLennox Fruchtmann was in the water for about 20 minutes before a passing vessel rescued her meanwhile, rescue teams searched for Jones throughout the weekend into Monday.'"
      ]
     },
     "execution_count": 61,
     "metadata": {},
     "output_type": "execute_result"
    }
   ],
   "source": [
    "Xtest_trial.iloc[9,:]['text']"
   ]
  },
  {
   "cell_type": "code",
   "execution_count": 62,
   "metadata": {},
   "outputs": [
    {
     "name": "stdout",
     "output_type": "stream",
     "text": [
      "Actual summary:\n"
     ]
    },
    {
     "data": {
      "application/vnd.google.colaboratory.intrinsic+json": {
       "type": "string"
      },
      "text/plain": [
       "'Lennox s daughter Tali Lennox Fruchtmann s boyfriend Ian Jones went missing Saturday after their kayak capsized'"
      ]
     },
     "execution_count": 62,
     "metadata": {},
     "output_type": "execute_result"
    }
   ],
   "source": [
    "print(\"Actual summary:\")\n",
    "results['golden_summary'][9]"
   ]
  },
  {
   "cell_type": "code",
   "execution_count": 63,
   "metadata": {},
   "outputs": [
    {
     "name": "stdout",
     "output_type": "stream",
     "text": [
      "Generated summary:\n"
     ]
    },
    {
     "data": {
      "application/vnd.google.colaboratory.intrinsic+json": {
       "type": "string"
      },
      "text/plain": [
       "'Nearly three days after the boyfriend of Tali Lennox Fruchtmann the daughterof singer Annie leennom went missing after a capsize, authorities say his body may have been recovered.'"
      ]
     },
     "execution_count": 63,
     "metadata": {},
     "output_type": "execute_result"
    }
   ],
   "source": [
    "print('Generated summary:')\n",
    "results['generated_summary'][9]"
   ]
  },
  {
   "cell_type": "markdown",
   "metadata": {},
   "source": [
    "**Example 10**"
   ]
  },
  {
   "cell_type": "code",
   "execution_count": 64,
   "metadata": {},
   "outputs": [
    {
     "data": {
      "application/vnd.google.colaboratory.intrinsic+json": {
       "type": "string"
      },
      "text/plain": [
       "'America s devotion to eggnog the frothy festive beverage of milk, sugar, and eggs, served hot or cold and oftentimes spiked with rum, brandy, or other liquors is strong, Army strong. Some have even rioted for their right to indulge in the holiday treat.\\n\\nIn what has been dubbed the Eggnog Riot of 1826, 70 cadets at West Point were involved in a seasonal skirmish after drinking vats of homemade eggnog at a Christmas celebration on campus in defiance of the superintendent of West Point s strict rules about alcohol consumption. The students carried on the eggnog excess of years prior, which led to the court martial of several participants.\\n\\nNowadays, eggnog, customized, entirely legal, and less scandalous, abounds from sea to shining sea at office parties, bars, and homes. While traditional eggnog can be found abroad, nations around the world have their own version of the sweet creamy concoction. But does a nog by any other name taste as sweet?\\n\\nChilean cola de mono literally monkey s tail , Abu Dhabi s silky date milk, and the potent bombardino swilled in the Italian Alps present a strong argument for the affirmative. Whether your holiday travels take you down the street or around the globe, toast the season with the world s top destinations for eggnog. Cheers!\\n\\nCola de Mono Chile Named for former Chilean president Pedro Monkey Montt, Chile s spirited holiday beverage combines coffee, milk, and pisco. Called cola de mono translation monkey s tail , the festive drink is served chilled to combat warm December temperatures. Those heading to the Southern Hemisphere should hit Valpara so s new Palacio Astoreca, a national landmark turned boutique hotel with a restaurant by an elBulli alum. Chef Sergio Barroso serves a killer cola de mono made with local tonka beans, star anise, and an elegant, semi frozen coffee cloud. \\n\\nAdvocaat The Netherlands Holland s holiday spirit is so strong that some versions have to be eaten with a spoon. Dutch advocaat combines brandy or cognac with sugar, fresh vanilla, and a sinfully large quantity of egg yolks. Bottled varieties by Bols or De Kuyper are widely distributed and available internationally, but the best advocaat is made fresh, topped with whipped cream and cocoa, and enjoyed immediately. For a taste of Dutch decadence, try the cardamom scented advocaat amongst the Rembrandts at Restaurant d Vijff Vlieghen in Amsterdam.\\n\\nChilled Camel s Milk United Arab Emirates Although their version is nonalcoholic, Emiratis can teach the world a thing or two about nog. Throughout the UAE, chilled camel s milk is blended with pitted dates in a surprisingly healthy take on the hearty beverage. In keeping with Arab hospitality, the date drink is often offered as a welcome beverage to houseguests throughout the year. At Abu Dhabi s luxe desert resort Qasr Al Sarab, it s lightly sweetened with local honey and presented to guests upon arrival.\\n\\nTamagozake Japan Occasionally called sake nog by Westerners, tamagozake is actually an uncommonly delicious Japanese home remedy for colds. A raw egg and pinch of sugar are continually whisked into warm sake until uniformly dissolved into a thick, creamy texture. Tamagozake can be served year round but rarely appears on Japanese restaurant or bar menus, given its strong medicinal association.\\n\\nSee all 8 eggnogs here\\n\\nMore from The Daily Meal\\n\\n10 Famous Cuisines in Unexpected Places Awesome Apres Ski Spots Which Airlines Have the Healthiest Food 12 Icy Breaks to Take This Winter'"
      ]
     },
     "execution_count": 64,
     "metadata": {},
     "output_type": "execute_result"
    }
   ],
   "source": [
    "Xtest_trial.iloc[15,:]['text']"
   ]
  },
  {
   "cell_type": "code",
   "execution_count": 65,
   "metadata": {},
   "outputs": [
    {
     "name": "stdout",
     "output_type": "stream",
     "text": [
      "Actual summary:\n"
     ]
    },
    {
     "data": {
      "application/vnd.google.colaboratory.intrinsic+json": {
       "type": "string"
      },
      "text/plain": [
       "'A global guide to the iconic mugs of holiday cheer.'"
      ]
     },
     "execution_count": 65,
     "metadata": {},
     "output_type": "execute_result"
    }
   ],
   "source": [
    "print(\"Actual summary:\")\n",
    "results['golden_summary'][15]"
   ]
  },
  {
   "cell_type": "code",
   "execution_count": 66,
   "metadata": {},
   "outputs": [
    {
     "name": "stdout",
     "output_type": "stream",
     "text": [
      "Generated summary:\n"
     ]
    },
    {
     "data": {
      "application/vnd.google.colaboratory.intrinsic+json": {
       "type": "string"
      },
      "text/plain": [
       "'America s devotion to eggnog the sweet festive beverage of milk, sugar and eggs is strong, Army Strong. The Netherlands or Holland advocat are served with local tokka beans, star anisese, and an elegant, semi frozen coffee cloud'"
      ]
     },
     "execution_count": 66,
     "metadata": {},
     "output_type": "execute_result"
    }
   ],
   "source": [
    "print('Generated summary:')\n",
    "results['generated_summary'][15]"
   ]
  },
  {
   "cell_type": "markdown",
   "metadata": {
    "colab_type": "text",
    "id": "4KX71gPzy_bH"
   },
   "source": [
    "### Performance"
   ]
  },
  {
   "cell_type": "code",
   "execution_count": 67,
   "metadata": {
    "colab": {
     "base_uri": "https://localhost:8080/",
     "height": 125
    },
    "colab_type": "code",
    "id": "rdMr6tAWFpG8",
    "outputId": "a0b7677b-be23-49cf-e215-d3f9b566084c"
   },
   "outputs": [
    {
     "name": "stdout",
     "output_type": "stream",
     "text": [
      "Collecting rouge\n",
      "  Downloading https://files.pythonhosted.org/packages/43/cc/e18e33be20971ff73a056ebdb023476b5a545e744e3fc22acd8c758f1e0d/rouge-1.0.0-py3-none-any.whl\n",
      "Requirement already satisfied: six in /usr/local/lib/python3.6/dist-packages (from rouge) (1.15.0)\n",
      "Installing collected packages: rouge\n",
      "Successfully installed rouge-1.0.0\n"
     ]
    }
   ],
   "source": [
    "!pip3 install rouge\n",
    "from rouge import Rouge"
   ]
  },
  {
   "cell_type": "code",
   "execution_count": 68,
   "metadata": {
    "colab": {},
    "colab_type": "code",
    "id": "n-2UrHbnZ0wt",
    "outputId": "eb5d2867-4a2c-4d88-bf4e-44f6871e5dc0"
   },
   "outputs": [
    {
     "name": "stdout",
     "output_type": "stream",
     "text": [
      "Collecting rouge-score\n",
      "  Downloading https://files.pythonhosted.org/packages/1f/56/a81022436c08b9405a5247b71635394d44fe7e1dbedc4b28c740e09c2840/rouge_score-0.0.4-py2.py3-none-any.whl\n",
      "Requirement already satisfied: tqdm in /usr/local/lib/python3.6/dist-packages (4.41.1)\n",
      "Requirement already satisfied: numpy in /usr/local/lib/python3.6/dist-packages (from rouge-score) (1.18.5)\n",
      "Requirement already satisfied: six>=1.14.0 in /usr/local/lib/python3.6/dist-packages (from rouge-score) (1.15.0)\n",
      "Requirement already satisfied: nltk in /usr/local/lib/python3.6/dist-packages (from rouge-score) (3.2.5)\n",
      "Requirement already satisfied: absl-py in /usr/local/lib/python3.6/dist-packages (from rouge-score) (0.8.1)\n",
      "Installing collected packages: rouge-score\n",
      "Successfully installed rouge-score-0.0.4\n"
     ]
    }
   ],
   "source": [
    "!pip3 install rouge-score tqdm\n",
    "from rouge_score import rouge_scorer, scoring"
   ]
  },
  {
   "cell_type": "code",
   "execution_count": 69,
   "metadata": {
    "colab": {},
    "colab_type": "code",
    "id": "ter9ktdQ6_54"
   },
   "outputs": [],
   "source": [
    "from typing import Dict\n",
    "\n",
    "def get_score(summaries) -> Dict:  \n",
    "    \n",
    "    src_labels = summaries['golden_summary']\n",
    "    gen_summary = summaries['generated_summary']\n",
    "    \n",
    "    scorer = rouge_scorer.RougeScorer(['rouge1','rouge2','rougeL'], use_stemmer=True)\n",
    "    aggregator = scoring.BootstrapAggregator()\n",
    "    \n",
    "    for src, gent in zip(src_labels, gen_summary):\n",
    "        scores = scorer.score(gent, src)\n",
    "        aggregator.add_scores(scores)\n",
    "        \n",
    "    results = aggregator.aggregate()\n",
    "    return {key: val.mid.fmeasure for key, val in results.items()}"
   ]
  },
  {
   "cell_type": "code",
   "execution_count": 70,
   "metadata": {
    "colab": {},
    "colab_type": "code",
    "id": "jfhyTtEwZ0ww",
    "outputId": "65e760cf-5c1d-4b3c-b73a-532fbfcf56fa"
   },
   "outputs": [
    {
     "data": {
      "text/plain": [
       "{'rouge1': 0.3040002495869519,\n",
       " 'rouge2': 0.15648412408440554,\n",
       " 'rougeL': 0.2525259402210672}"
      ]
     },
     "execution_count": 70,
     "metadata": {},
     "output_type": "execute_result"
    }
   ],
   "source": [
    "get_score(results)"
   ]
  },
  {
   "cell_type": "code",
   "execution_count": null,
   "metadata": {},
   "outputs": [],
   "source": [
    "{'rouge1': 0.26842624944505433,\n",
    " 'rouge2': 0.11997541219146737,\n",
    " 'rougeL': 0.21621404321691318} #0.21"
   ]
  },
  {
   "cell_type": "code",
   "execution_count": null,
   "metadata": {},
   "outputs": [],
   "source": [
    "{'rouge1': 0.3251555298232545,\n",
    " 'rouge2': 0.17724507880716306,\n",
    " 'rougeL': 0.2734545655096767}"
   ]
  },
  {
   "cell_type": "code",
   "execution_count": 71,
   "metadata": {
    "colab": {},
    "colab_type": "code",
    "id": "6UtF_jowZ0wz",
    "outputId": "e969fe82-4e50-472f-d4ed-68a810008fbe"
   },
   "outputs": [
    {
     "data": {
      "text/plain": [
       "{'rouge-1': 0.272821556293817,\n",
       " 'rouge-2': 0.1424978509052513,\n",
       " 'rouge-l': 0.25330000211649917}"
      ]
     },
     "execution_count": 71,
     "metadata": {},
     "output_type": "execute_result"
    }
   ],
   "source": [
    "rouge = Rouge()\n",
    "\n",
    "score = rouge.get_scores(results['generated_summary'], results['golden_summary'], avg=True)\n",
    "{key: val['f'] for key, val in score.items()}"
   ]
  },
  {
   "cell_type": "code",
   "execution_count": null,
   "metadata": {},
   "outputs": [],
   "source": [
    "{'rouge-1': 0.23891854897729273,\n",
    " 'rouge-2': 0.10855931785640041,\n",
    " 'rouge-l': 0.21982563644064748}"
   ]
  },
  {
   "cell_type": "code",
   "execution_count": null,
   "metadata": {},
   "outputs": [],
   "source": [
    "{'rouge-1': 0.2934569607894014,\n",
    " 'rouge-2': 0.16207342615668757,\n",
    " 'rouge-l': 0.2762959592687011} #0.2"
   ]
  },
  {
   "cell_type": "code",
   "execution_count": null,
   "metadata": {
    "colab": {},
    "colab_type": "code",
    "id": "SuKNdMkjZ0w1"
   },
   "outputs": [],
   "source": []
  },
  {
   "cell_type": "code",
   "execution_count": null,
   "metadata": {
    "colab": {},
    "colab_type": "code",
    "id": "myFwDWpwZ0w2"
   },
   "outputs": [],
   "source": []
  },
  {
   "cell_type": "code",
   "execution_count": null,
   "metadata": {
    "colab": {},
    "colab_type": "code",
    "id": "Stw9mmxRZ0w4"
   },
   "outputs": [],
   "source": []
  },
  {
   "cell_type": "code",
   "execution_count": null,
   "metadata": {
    "colab": {},
    "colab_type": "code",
    "id": "h73v9E6qZ0w5"
   },
   "outputs": [],
   "source": []
  },
  {
   "cell_type": "code",
   "execution_count": null,
   "metadata": {
    "colab": {},
    "colab_type": "code",
    "id": "biX8kzMlZ0w6"
   },
   "outputs": [],
   "source": []
  },
  {
   "cell_type": "code",
   "execution_count": null,
   "metadata": {
    "colab": {},
    "colab_type": "code",
    "id": "8JLMNdinZ0w9"
   },
   "outputs": [],
   "source": []
  },
  {
   "cell_type": "code",
   "execution_count": null,
   "metadata": {
    "colab": {},
    "colab_type": "code",
    "id": "-0iPoe2dZ0w_"
   },
   "outputs": [],
   "source": []
  },
  {
   "cell_type": "code",
   "execution_count": null,
   "metadata": {
    "colab": {},
    "colab_type": "code",
    "id": "38QnkQSRZ0xA"
   },
   "outputs": [],
   "source": []
  },
  {
   "cell_type": "code",
   "execution_count": null,
   "metadata": {
    "colab": {},
    "colab_type": "code",
    "id": "VAOH_oNKZ0xC"
   },
   "outputs": [],
   "source": []
  },
  {
   "cell_type": "code",
   "execution_count": null,
   "metadata": {
    "colab": {},
    "colab_type": "code",
    "id": "Fei2zb35Z0xD"
   },
   "outputs": [],
   "source": []
  },
  {
   "cell_type": "code",
   "execution_count": null,
   "metadata": {
    "colab": {},
    "colab_type": "code",
    "id": "pilwuTxMZ0xF"
   },
   "outputs": [],
   "source": []
  },
  {
   "cell_type": "markdown",
   "metadata": {
    "colab_type": "text",
    "id": "sTkqfrwoy5QR"
   },
   "source": [
    "##### Freezing layers"
   ]
  },
  {
   "cell_type": "code",
   "execution_count": null,
   "metadata": {
    "colab": {},
    "colab_type": "code",
    "id": "tDjdxQUI6_1w"
   },
   "outputs": [],
   "source": [
    "model.decoder.block[11].requires_grad=True\n",
    "model.decoder.block[4].requires_grad=True\n",
    "\n",
    "for param model.parameters():\n",
    "    param.requires_grad = False"
   ]
  },
  {
   "cell_type": "code",
   "execution_count": null,
   "metadata": {
    "colab": {},
    "colab_type": "code",
    "id": "imlmpMSC6_K2"
   },
   "outputs": [],
   "source": []
  },
  {
   "cell_type": "code",
   "execution_count": null,
   "metadata": {
    "colab": {},
    "colab_type": "code",
    "id": "OljFlfM5z0OW"
   },
   "outputs": [],
   "source": [
    "class T5Model(nn.Module):\n",
    "\n",
    "  def __init__(self, t5, )"
   ]
  },
  {
   "cell_type": "code",
   "execution_count": null,
   "metadata": {
    "colab": {},
    "colab_type": "code",
    "id": "wkpccxfe_Rwc"
   },
   "outputs": [],
   "source": [
    "class DictionaryDataset:\n",
    "  def __init__(self, dataset=None):\n",
    "    self.w2index = defaultdict(int)\n",
    "    self.index2w = defaultdict(lambda: 'SOS')\n",
    "    self.symbols = ['SOS','EOS','PAD']\n",
    "    self.wcount = 3\n",
    "\n",
    "    for i, s in enumerate(self.symbols):\n",
    "      self.index2w[i] = s\n",
    "    for i, s in enumerate(self.symbols):\n",
    "      self.w2index[s] = i\n",
    "      \n",
    "    if dataset:\n",
    "      for i, line in tqdm(enumerate(dataset)):\n",
    "        self.word2index(line)\n",
    "\n",
    "  def word2index(self, sentence):\n",
    "    words = sentence.split()\n",
    "    for word in words:\n",
    "      if word not in self.w2index.keys():\n",
    "        self.w2index[word] = self.wcount\n",
    "        self.index2w[self.wcount] = word\n",
    "        self.wcount +=1\n",
    "    \n",
    "  def encode_sequence(self, dataset):\n",
    "    for i, line in tqdm(enumerate(dataset)):\n",
    "      self.word2index(line)\n",
    "\n",
    "  def decode_idx(self, idx):\n",
    "    dec_words = []\n",
    "    for i in idx:\n",
    "      dec_words.append(self.index2w[i])\n",
    "    return dec_words"
   ]
  },
  {
   "cell_type": "markdown",
   "metadata": {
    "colab_type": "text",
    "id": "h01oJ3XRCSBV"
   },
   "source": [
    "![LSTM](https://drive.google.com/open?id=19pYBGaKGx2wTHjDC3QLMkpr5HDqTPbb6)"
   ]
  },
  {
   "cell_type": "markdown",
   "metadata": {
    "colab_type": "text",
    "id": "ujAMkc2nDPaB"
   },
   "source": [
    "![Seq2SeqWithAttention](https://drive.google.com/open?id=1QDLNN0XQ0TfeA-nyAGBhG3YgwAX0bPQU)"
   ]
  },
  {
   "cell_type": "markdown",
   "metadata": {
    "colab_type": "text",
    "id": "gfvg8MT3RBFI"
   },
   "source": [
    "You should use the same number of layers, for encoder and decoder\n",
    "shape for inputs is (batch size, sequence length), (batch size, 1) respectively.\n"
   ]
  },
  {
   "cell_type": "code",
   "execution_count": null,
   "metadata": {
    "colab": {},
    "colab_type": "code",
    "id": "QQF-TwabDk4Q"
   },
   "outputs": [],
   "source": [
    "class Encoder(nn.Module):\n",
    "  def __init__(self,input_size, embed_size, num_hidden, batch_size, num_layers=3, dropout = 0.1):\n",
    "    super(Encoder, self).__init__()\n",
    "    self.num_hidden = num_hidden\n",
    "    self.num_layers = num_layers\n",
    "    self.input_size = input_size\n",
    "    self.batch_size = batch_size\n",
    "\n",
    "    self.embed = nn.Embedding(input_size, embed_size)\n",
    "    self.lstm = nn.LSTM(input_size=embed_size, hidden_size=num_hidden,num_layers = num_layers, dropout=(0 if num_layers ==2 else dropout))\n",
    "\n",
    "  def init_hidden(self):\n",
    "     # The axes semantics are (num_layers, minibatch_size, hidden_dim)\n",
    "    return (torch.zeros(self.num_layers, self.batch_size, self.num_hidden), torch.zeros(self.num_layers, self.batch_size, self.num_hidden))\n",
    "  def forward(self, input, hidden):\n",
    "    # input (batch size, sequence length)\n",
    "    embedding = self.embed(input)\n",
    "    #print(embedding.shape)\n",
    "    embed_out = embedding.transpose(0,1)\n",
    "    print(embed_out.shape)\n",
    "    lstm_out, hidden = self.lstm(embed_out, hidden)\n",
    "\n",
    "    # The shape of lstm_out is (seq_len, batch_size, num_hiddens).\n",
    "    # state contains the hidden state and the memory cell\n",
    "    # of the last time step, the shape is (num_layers, batch_size, num_hiddens)\n",
    "    #lstout is (seq_length, batch_size, num_hiddens)\n",
    "    return lstm_out, hidden"
   ]
  },
  {
   "cell_type": "code",
   "execution_count": null,
   "metadata": {
    "colab": {
     "base_uri": "https://localhost:8080/",
     "height": 34
    },
    "colab_type": "code",
    "id": "m4_h0bXp0cl7",
    "outputId": "1310d376-e495-41c8-fd80-730b4970dca2"
   },
   "outputs": [
    {
     "name": "stdout",
     "output_type": "stream",
     "text": [
      "torch.Size([7, 4, 8])\n"
     ]
    }
   ],
   "source": [
    "encoder = Encoder(input_size =10, embed_size=8, num_hidden=16, batch_size=4)\n",
    "X = torch.zeros((4, 7),dtype=torch.long)\n",
    "hidden = encoder.init_hidden()\n",
    "output, hidden = encoder(X, hidden)"
   ]
  },
  {
   "cell_type": "code",
   "execution_count": null,
   "metadata": {
    "colab": {
     "base_uri": "https://localhost:8080/",
     "height": 34
    },
    "colab_type": "code",
    "id": "zJ53T62V6ZOO",
    "outputId": "70b9e373-d6ba-4eed-da7d-b002257ab62b"
   },
   "outputs": [
    {
     "data": {
      "text/plain": [
       "torch.Size([3, 4, 16])"
      ]
     },
     "execution_count": 89,
     "metadata": {
      "tags": []
     },
     "output_type": "execute_result"
    }
   ],
   "source": [
    "hidden[0].shape"
   ]
  },
  {
   "cell_type": "code",
   "execution_count": null,
   "metadata": {
    "colab": {
     "base_uri": "https://localhost:8080/",
     "height": 34
    },
    "colab_type": "code",
    "id": "0XNO21wuBTGi",
    "outputId": "ab86113b-05af-4271-d479-df115a533fd9"
   },
   "outputs": [
    {
     "data": {
      "text/plain": [
       "torch.Size([7, 4, 16])"
      ]
     },
     "execution_count": 90,
     "metadata": {
      "tags": []
     },
     "output_type": "execute_result"
    }
   ],
   "source": [
    "output.shape"
   ]
  },
  {
   "cell_type": "code",
   "execution_count": null,
   "metadata": {
    "colab": {},
    "colab_type": "code",
    "id": "e55gItUrF_wD"
   },
   "outputs": [],
   "source": [
    "class Attention(nn.Module):\n",
    "  def __init__(self, hidden_size, method='dot'):\n",
    "    super(Attention, self).__init__()\n",
    "    self.method = method\n",
    "    self.hidden_size = hidden_size\n",
    "  def dot_score(self, hidden, encoder_output):\n",
    "    return torch.sum(hidden * encoder_output, dim=2)\n",
    "\n",
    "  def forward(self, hidden, encoder_output):\n",
    "    att_prod = self.dot_score(hidden, encoder_output)\n",
    "    attn_weights = att_prod.t()\n",
    "    return F.softmax(attn_weights, dim=1).unsqueeze(1)\n",
    "\n"
   ]
  },
  {
   "cell_type": "code",
   "execution_count": null,
   "metadata": {
    "colab": {},
    "colab_type": "code",
    "id": "Lp5VhnhRnuaL"
   },
   "outputs": [],
   "source": [
    "class DecoderWithAtt(nn.Module):\n",
    "  def __init__(self, embed_size_in, num_hidden, output_size, att_method=None, num_layers = 3):\n",
    "    super(DecoderWithAtt, self).__init__()\n",
    "    self.num_layers = num_layers\n",
    "    self.num_hidden = num_hidden\n",
    "    self.output_size = output_size\n",
    "    self.att_method = att_method\n",
    "\n",
    "    self.emb = nn.Embedding(embed_size_in, num_hidden)\n",
    "    self.lstm = nn.LSTM(input_size=num_hidden, hidden_size=num_hidden, num_layers = num_layers)\n",
    "    self.con_ln = nn.Linear(num_hidden * 2, num_hidden)\n",
    "    self.drop = nn.Dropout(p=0.2)\n",
    "    self.fc  = nn.Linear(self.num_hidden, self.output_size)\n",
    "    self.attention = Attention(att_method, num_hidden)\n",
    "\n",
    "  def forward(self, prev_hidden, target_input, enconder_outputs):\n",
    "    embed_out = self.emb(target_input).transpose(0,1)\n",
    "    embed_out = self.drop(embed_out)\n",
    "    print('embed out >>>', embed_out.shape)\n",
    "    output, hidden = self.lstm(embed_out, prev_hidden) # shape (1, batch_size, hidden_size), 1 for one time step word \n",
    "    print('lstm out >>>', output.shape)\n",
    "    print('hidden out >>>', hidden[0].shape)\n",
    "\n",
    "    attent_weights = self.attention(output, enconder_outputs) # (att out shape: batch_size, 1, max_length), enc in shape: (max_length, batch_size, hidden_size)\n",
    "    print('attent_weights out >>>', attent_weights.shape)\n",
    "    print('enconder_outputs >>>', enconder_outputs.shape)\n",
    "\n",
    "    context = torch.bmm(attent_weights, enconder_outputs.transpose(0,1))\n",
    "    print('context out >>>', context.shape)\n",
    "    cont_dec_out = torch.cat((context, output.transpose(0,1)), 1)\n",
    "    print('to linear out >>>', cont_dec_out.shape)\n",
    "    cont_dec_out = cont_dec_out.view(cont_dec_out.shape[0], -1)\n",
    "    concat_out = self.con_ln(cont_dec_out)\n",
    "    concat_out = torch.tanh(concat_out)\n",
    "\n",
    "    out = self.fc(concat_out)\n",
    "    out = F.softmax(out, dim=1)\n",
    "\n",
    "    return out, hidden"
   ]
  },
  {
   "cell_type": "code",
   "execution_count": null,
   "metadata": {
    "colab": {},
    "colab_type": "code",
    "id": "--9oa_EJ6_GG"
   },
   "outputs": [],
   "source": [
    "decoder = DecoderWithAtt(10,16,2)"
   ]
  },
  {
   "cell_type": "code",
   "execution_count": null,
   "metadata": {
    "colab": {
     "base_uri": "https://localhost:8080/",
     "height": 137
    },
    "colab_type": "code",
    "id": "KHklHQXG7x4d",
    "outputId": "eeeb0cd9-0cd2-424f-dc6a-3823273e7fdb"
   },
   "outputs": [
    {
     "name": "stdout",
     "output_type": "stream",
     "text": [
      "embed out >>> torch.Size([1, 4, 16])\n",
      "lstm out >>> torch.Size([1, 4, 16])\n",
      "hidden out >>> torch.Size([3, 4, 16])\n",
      "attent_weights out >>> torch.Size([4, 1, 7])\n",
      "enconder_outputs >>> torch.Size([7, 4, 16])\n",
      "context out >>> torch.Size([4, 1, 16])\n",
      "to linear out >>> torch.Size([4, 2, 16])\n"
     ]
    }
   ],
   "source": [
    "x = torch.zeros((4, 1),dtype=torch.long)\n",
    "out, hidden = decoder(hidden, x, output)"
   ]
  },
  {
   "cell_type": "code",
   "execution_count": null,
   "metadata": {
    "colab": {
     "base_uri": "https://localhost:8080/",
     "height": 34
    },
    "colab_type": "code",
    "id": "oW94xBGOOPQH",
    "outputId": "0cc0b4a1-9b8f-4a40-db3a-0a809f844f35"
   },
   "outputs": [
    {
     "data": {
      "text/plain": [
       "torch.Size([4, 2])"
      ]
     },
     "execution_count": 96,
     "metadata": {
      "tags": []
     },
     "output_type": "execute_result"
    }
   ],
   "source": [
    "out.shape"
   ]
  },
  {
   "cell_type": "code",
   "execution_count": null,
   "metadata": {
    "colab": {
     "base_uri": "https://localhost:8080/",
     "height": 34
    },
    "colab_type": "code",
    "id": "fSB0L7_6QyEN",
    "outputId": "6b4d1c40-e5b1-446d-c843-4deb13218d54"
   },
   "outputs": [
    {
     "data": {
      "text/plain": [
       "torch.Size([3, 4, 16])"
      ]
     },
     "execution_count": 97,
     "metadata": {
      "tags": []
     },
     "output_type": "execute_result"
    }
   ],
   "source": [
    "hidden[0].shape"
   ]
  },
  {
   "cell_type": "code",
   "execution_count": null,
   "metadata": {
    "colab": {},
    "colab_type": "code",
    "id": "5Rl0M8_pQ6sD"
   },
   "outputs": [],
   "source": []
  }
 ],
 "metadata": {
  "accelerator": "GPU",
  "colab": {
   "collapsed_sections": [],
   "include_colab_link": true,
   "name": "Final_Project",
   "provenance": [],
   "toc_visible": true
  },
  "environment": {
   "name": "pytorch-gpu.1-4.m49",
   "type": "gcloud",
   "uri": "gcr.io/deeplearning-platform-release/pytorch-gpu.1-4:m49"
  },
  "kernelspec": {
   "display_name": "Python 3",
   "language": "python",
   "name": "python3"
  },
  "language_info": {
   "codemirror_mode": {
    "name": "ipython",
    "version": 3
   },
   "file_extension": ".py",
   "mimetype": "text/x-python",
   "name": "python",
   "nbconvert_exporter": "python",
   "pygments_lexer": "ipython3",
   "version": "3.6.9"
  },
  "widgets": {
   "application/vnd.jupyter.widget-state+json": {
    "00632d7b23cc45f59515669601334fcd": {
     "model_module": "@jupyter-widgets/base",
     "model_name": "LayoutModel",
     "state": {
      "_model_module": "@jupyter-widgets/base",
      "_model_module_version": "1.2.0",
      "_model_name": "LayoutModel",
      "_view_count": null,
      "_view_module": "@jupyter-widgets/base",
      "_view_module_version": "1.2.0",
      "_view_name": "LayoutView",
      "align_content": null,
      "align_items": null,
      "align_self": null,
      "border": null,
      "bottom": null,
      "display": null,
      "flex": null,
      "flex_flow": null,
      "grid_area": null,
      "grid_auto_columns": null,
      "grid_auto_flow": null,
      "grid_auto_rows": null,
      "grid_column": null,
      "grid_gap": null,
      "grid_row": null,
      "grid_template_areas": null,
      "grid_template_columns": null,
      "grid_template_rows": null,
      "height": null,
      "justify_content": null,
      "justify_items": null,
      "left": null,
      "margin": null,
      "max_height": null,
      "max_width": null,
      "min_height": null,
      "min_width": null,
      "object_fit": null,
      "object_position": null,
      "order": null,
      "overflow": null,
      "overflow_x": null,
      "overflow_y": null,
      "padding": null,
      "right": null,
      "top": null,
      "visibility": null,
      "width": null
     }
    },
    "007752d9ce5e47f480ae606afeb2cd16": {
     "model_module": "@jupyter-widgets/base",
     "model_name": "LayoutModel",
     "state": {
      "_model_module": "@jupyter-widgets/base",
      "_model_module_version": "1.2.0",
      "_model_name": "LayoutModel",
      "_view_count": null,
      "_view_module": "@jupyter-widgets/base",
      "_view_module_version": "1.2.0",
      "_view_name": "LayoutView",
      "align_content": null,
      "align_items": null,
      "align_self": null,
      "border": null,
      "bottom": null,
      "display": null,
      "flex": null,
      "flex_flow": null,
      "grid_area": null,
      "grid_auto_columns": null,
      "grid_auto_flow": null,
      "grid_auto_rows": null,
      "grid_column": null,
      "grid_gap": null,
      "grid_row": null,
      "grid_template_areas": null,
      "grid_template_columns": null,
      "grid_template_rows": null,
      "height": null,
      "justify_content": null,
      "justify_items": null,
      "left": null,
      "margin": null,
      "max_height": null,
      "max_width": null,
      "min_height": null,
      "min_width": null,
      "object_fit": null,
      "object_position": null,
      "order": null,
      "overflow": null,
      "overflow_x": null,
      "overflow_y": null,
      "padding": null,
      "right": null,
      "top": null,
      "visibility": null,
      "width": null
     }
    },
    "02d1d8ffcf3a4873880bb4ec2b7eefbf": {
     "model_module": "@jupyter-widgets/controls",
     "model_name": "HTMLModel",
     "state": {
      "_dom_classes": [],
      "_model_module": "@jupyter-widgets/controls",
      "_model_module_version": "1.5.0",
      "_model_name": "HTMLModel",
      "_view_count": null,
      "_view_module": "@jupyter-widgets/controls",
      "_view_module_version": "1.5.0",
      "_view_name": "HTMLView",
      "description": "",
      "description_tooltip": null,
      "layout": "IPY_MODEL_7a0883324f8b4256adf0e8a54c77524f",
      "placeholder": "​",
      "style": "IPY_MODEL_1f778937b7484fac8de6530ea10a5470",
      "value": " 150/? [2:07:40&lt;00:00, 51.07s/it]"
     }
    },
    "04619e3db74847f5b637c7d2b1d5b8b8": {
     "model_module": "@jupyter-widgets/controls",
     "model_name": "DescriptionStyleModel",
     "state": {
      "_model_module": "@jupyter-widgets/controls",
      "_model_module_version": "1.5.0",
      "_model_name": "DescriptionStyleModel",
      "_view_count": null,
      "_view_module": "@jupyter-widgets/base",
      "_view_module_version": "1.2.0",
      "_view_name": "StyleView",
      "description_width": ""
     }
    },
    "0551f8a91cb547948703416f5c200c93": {
     "model_module": "@jupyter-widgets/base",
     "model_name": "LayoutModel",
     "state": {
      "_model_module": "@jupyter-widgets/base",
      "_model_module_version": "1.2.0",
      "_model_name": "LayoutModel",
      "_view_count": null,
      "_view_module": "@jupyter-widgets/base",
      "_view_module_version": "1.2.0",
      "_view_name": "LayoutView",
      "align_content": null,
      "align_items": null,
      "align_self": null,
      "border": null,
      "bottom": null,
      "display": null,
      "flex": null,
      "flex_flow": null,
      "grid_area": null,
      "grid_auto_columns": null,
      "grid_auto_flow": null,
      "grid_auto_rows": null,
      "grid_column": null,
      "grid_gap": null,
      "grid_row": null,
      "grid_template_areas": null,
      "grid_template_columns": null,
      "grid_template_rows": null,
      "height": null,
      "justify_content": null,
      "justify_items": null,
      "left": null,
      "margin": null,
      "max_height": null,
      "max_width": null,
      "min_height": null,
      "min_width": null,
      "object_fit": null,
      "object_position": null,
      "order": null,
      "overflow": null,
      "overflow_x": null,
      "overflow_y": null,
      "padding": null,
      "right": null,
      "top": null,
      "visibility": null,
      "width": null
     }
    },
    "0cdd1f83587643f68b9cc4659ba75fb8": {
     "model_module": "@jupyter-widgets/controls",
     "model_name": "FloatProgressModel",
     "state": {
      "_dom_classes": [],
      "_model_module": "@jupyter-widgets/controls",
      "_model_module_version": "1.5.0",
      "_model_name": "FloatProgressModel",
      "_view_count": null,
      "_view_module": "@jupyter-widgets/controls",
      "_view_module_version": "1.5.0",
      "_view_name": "ProgressView",
      "bar_style": "success",
      "description": "",
      "description_tooltip": null,
      "layout": "IPY_MODEL_9efdf4e9fd8c42598cced165c426f5bf",
      "max": 1,
      "min": 0,
      "orientation": "horizontal",
      "style": "IPY_MODEL_598b0d3d4ba64ed48d511ce9dd360f64",
      "value": 1
     }
    },
    "1523672396354424b0658ce14786fbd2": {
     "model_module": "@jupyter-widgets/controls",
     "model_name": "HTMLModel",
     "state": {
      "_dom_classes": [],
      "_model_module": "@jupyter-widgets/controls",
      "_model_module_version": "1.5.0",
      "_model_name": "HTMLModel",
      "_view_count": null,
      "_view_module": "@jupyter-widgets/controls",
      "_view_module_version": "1.5.0",
      "_view_name": "HTMLView",
      "description": "",
      "description_tooltip": null,
      "layout": "IPY_MODEL_864cb033af344f22b288a320088ec71c",
      "placeholder": "​",
      "style": "IPY_MODEL_ffc60b07ad704ea2afc0ac2c79c10c11",
      "value": " 150/? [01:24&lt;00:00,  1.77it/s]"
     }
    },
    "17e87d4a9a974aa6828c5ae0f9e0cf3a": {
     "model_module": "@jupyter-widgets/base",
     "model_name": "LayoutModel",
     "state": {
      "_model_module": "@jupyter-widgets/base",
      "_model_module_version": "1.2.0",
      "_model_name": "LayoutModel",
      "_view_count": null,
      "_view_module": "@jupyter-widgets/base",
      "_view_module_version": "1.2.0",
      "_view_name": "LayoutView",
      "align_content": null,
      "align_items": null,
      "align_self": null,
      "border": null,
      "bottom": null,
      "display": null,
      "flex": null,
      "flex_flow": null,
      "grid_area": null,
      "grid_auto_columns": null,
      "grid_auto_flow": null,
      "grid_auto_rows": null,
      "grid_column": null,
      "grid_gap": null,
      "grid_row": null,
      "grid_template_areas": null,
      "grid_template_columns": null,
      "grid_template_rows": null,
      "height": null,
      "justify_content": null,
      "justify_items": null,
      "left": null,
      "margin": null,
      "max_height": null,
      "max_width": null,
      "min_height": null,
      "min_width": null,
      "object_fit": null,
      "object_position": null,
      "order": null,
      "overflow": null,
      "overflow_x": null,
      "overflow_y": null,
      "padding": null,
      "right": null,
      "top": null,
      "visibility": null,
      "width": null
     }
    },
    "1cbf0dd906ac41e985bd752f526fa2d4": {
     "model_module": "@jupyter-widgets/controls",
     "model_name": "HTMLModel",
     "state": {
      "_dom_classes": [],
      "_model_module": "@jupyter-widgets/controls",
      "_model_module_version": "1.5.0",
      "_model_name": "HTMLModel",
      "_view_count": null,
      "_view_module": "@jupyter-widgets/controls",
      "_view_module_version": "1.5.0",
      "_view_name": "HTMLView",
      "description": "",
      "description_tooltip": null,
      "layout": "IPY_MODEL_6005029df2504711a96df12e14290100",
      "placeholder": "​",
      "style": "IPY_MODEL_41ceec6b9c214b18891c8ab915d5c19c",
      "value": " 150/? [01:09&lt;00:00,  2.17it/s]"
     }
    },
    "1f778937b7484fac8de6530ea10a5470": {
     "model_module": "@jupyter-widgets/controls",
     "model_name": "DescriptionStyleModel",
     "state": {
      "_model_module": "@jupyter-widgets/controls",
      "_model_module_version": "1.5.0",
      "_model_name": "DescriptionStyleModel",
      "_view_count": null,
      "_view_module": "@jupyter-widgets/base",
      "_view_module_version": "1.2.0",
      "_view_name": "StyleView",
      "description_width": ""
     }
    },
    "2004cd6b66034fdda39e09c4ea44b3ce": {
     "model_module": "@jupyter-widgets/base",
     "model_name": "LayoutModel",
     "state": {
      "_model_module": "@jupyter-widgets/base",
      "_model_module_version": "1.2.0",
      "_model_name": "LayoutModel",
      "_view_count": null,
      "_view_module": "@jupyter-widgets/base",
      "_view_module_version": "1.2.0",
      "_view_name": "LayoutView",
      "align_content": null,
      "align_items": null,
      "align_self": null,
      "border": null,
      "bottom": null,
      "display": null,
      "flex": null,
      "flex_flow": null,
      "grid_area": null,
      "grid_auto_columns": null,
      "grid_auto_flow": null,
      "grid_auto_rows": null,
      "grid_column": null,
      "grid_gap": null,
      "grid_row": null,
      "grid_template_areas": null,
      "grid_template_columns": null,
      "grid_template_rows": null,
      "height": null,
      "justify_content": null,
      "justify_items": null,
      "left": null,
      "margin": null,
      "max_height": null,
      "max_width": null,
      "min_height": null,
      "min_width": null,
      "object_fit": null,
      "object_position": null,
      "order": null,
      "overflow": null,
      "overflow_x": null,
      "overflow_y": null,
      "padding": null,
      "right": null,
      "top": null,
      "visibility": null,
      "width": null
     }
    },
    "200ba008099045719694899c681c2d16": {
     "model_module": "@jupyter-widgets/base",
     "model_name": "LayoutModel",
     "state": {
      "_model_module": "@jupyter-widgets/base",
      "_model_module_version": "1.2.0",
      "_model_name": "LayoutModel",
      "_view_count": null,
      "_view_module": "@jupyter-widgets/base",
      "_view_module_version": "1.2.0",
      "_view_name": "LayoutView",
      "align_content": null,
      "align_items": null,
      "align_self": null,
      "border": null,
      "bottom": null,
      "display": null,
      "flex": null,
      "flex_flow": null,
      "grid_area": null,
      "grid_auto_columns": null,
      "grid_auto_flow": null,
      "grid_auto_rows": null,
      "grid_column": null,
      "grid_gap": null,
      "grid_row": null,
      "grid_template_areas": null,
      "grid_template_columns": null,
      "grid_template_rows": null,
      "height": null,
      "justify_content": null,
      "justify_items": null,
      "left": null,
      "margin": null,
      "max_height": null,
      "max_width": null,
      "min_height": null,
      "min_width": null,
      "object_fit": null,
      "object_position": null,
      "order": null,
      "overflow": null,
      "overflow_x": null,
      "overflow_y": null,
      "padding": null,
      "right": null,
      "top": null,
      "visibility": null,
      "width": null
     }
    },
    "22e8567701184b729be80c57098badc4": {
     "model_module": "@jupyter-widgets/base",
     "model_name": "LayoutModel",
     "state": {
      "_model_module": "@jupyter-widgets/base",
      "_model_module_version": "1.2.0",
      "_model_name": "LayoutModel",
      "_view_count": null,
      "_view_module": "@jupyter-widgets/base",
      "_view_module_version": "1.2.0",
      "_view_name": "LayoutView",
      "align_content": null,
      "align_items": null,
      "align_self": null,
      "border": null,
      "bottom": null,
      "display": null,
      "flex": null,
      "flex_flow": null,
      "grid_area": null,
      "grid_auto_columns": null,
      "grid_auto_flow": null,
      "grid_auto_rows": null,
      "grid_column": null,
      "grid_gap": null,
      "grid_row": null,
      "grid_template_areas": null,
      "grid_template_columns": null,
      "grid_template_rows": null,
      "height": null,
      "justify_content": null,
      "justify_items": null,
      "left": null,
      "margin": null,
      "max_height": null,
      "max_width": null,
      "min_height": null,
      "min_width": null,
      "object_fit": null,
      "object_position": null,
      "order": null,
      "overflow": null,
      "overflow_x": null,
      "overflow_y": null,
      "padding": null,
      "right": null,
      "top": null,
      "visibility": null,
      "width": null
     }
    },
    "267a56c7a2f542e3b24a5f790491a550": {
     "model_module": "@jupyter-widgets/controls",
     "model_name": "HBoxModel",
     "state": {
      "_dom_classes": [],
      "_model_module": "@jupyter-widgets/controls",
      "_model_module_version": "1.5.0",
      "_model_name": "HBoxModel",
      "_view_count": null,
      "_view_module": "@jupyter-widgets/controls",
      "_view_module_version": "1.5.0",
      "_view_name": "HBoxView",
      "box_style": "",
      "children": [
       "IPY_MODEL_db85fdb064634d80b1904313a3b81ddb",
       "IPY_MODEL_1cbf0dd906ac41e985bd752f526fa2d4"
      ],
      "layout": "IPY_MODEL_dc94b3b543714dd0845fdadca7db22a3"
     }
    },
    "268c4187cfc9490bacfa1eafe1fbcca1": {
     "model_module": "@jupyter-widgets/controls",
     "model_name": "DescriptionStyleModel",
     "state": {
      "_model_module": "@jupyter-widgets/controls",
      "_model_module_version": "1.5.0",
      "_model_name": "DescriptionStyleModel",
      "_view_count": null,
      "_view_module": "@jupyter-widgets/base",
      "_view_module_version": "1.2.0",
      "_view_name": "StyleView",
      "description_width": ""
     }
    },
    "2732c77700724db3beb39d1c64469852": {
     "model_module": "@jupyter-widgets/controls",
     "model_name": "HTMLModel",
     "state": {
      "_dom_classes": [],
      "_model_module": "@jupyter-widgets/controls",
      "_model_module_version": "1.5.0",
      "_model_name": "HTMLModel",
      "_view_count": null,
      "_view_module": "@jupyter-widgets/controls",
      "_view_module_version": "1.5.0",
      "_view_name": "HTMLView",
      "description": "",
      "description_tooltip": null,
      "layout": "IPY_MODEL_a504d4571ae54c97a6fb586051f17b07",
      "placeholder": "​",
      "style": "IPY_MODEL_f1010194505c44b588ba44a39e4afd9f",
      "value": " 150/? [01:09&lt;00:00,  2.16it/s]"
     }
    },
    "273de981090749b29ce385706c449722": {
     "model_module": "@jupyter-widgets/controls",
     "model_name": "ProgressStyleModel",
     "state": {
      "_model_module": "@jupyter-widgets/controls",
      "_model_module_version": "1.5.0",
      "_model_name": "ProgressStyleModel",
      "_view_count": null,
      "_view_module": "@jupyter-widgets/base",
      "_view_module_version": "1.2.0",
      "_view_name": "StyleView",
      "bar_color": null,
      "description_width": "initial"
     }
    },
    "27afa2d568d6441690a6d0ee44e40e1c": {
     "model_module": "@jupyter-widgets/base",
     "model_name": "LayoutModel",
     "state": {
      "_model_module": "@jupyter-widgets/base",
      "_model_module_version": "1.2.0",
      "_model_name": "LayoutModel",
      "_view_count": null,
      "_view_module": "@jupyter-widgets/base",
      "_view_module_version": "1.2.0",
      "_view_name": "LayoutView",
      "align_content": null,
      "align_items": null,
      "align_self": null,
      "border": null,
      "bottom": null,
      "display": null,
      "flex": null,
      "flex_flow": null,
      "grid_area": null,
      "grid_auto_columns": null,
      "grid_auto_flow": null,
      "grid_auto_rows": null,
      "grid_column": null,
      "grid_gap": null,
      "grid_row": null,
      "grid_template_areas": null,
      "grid_template_columns": null,
      "grid_template_rows": null,
      "height": null,
      "justify_content": null,
      "justify_items": null,
      "left": null,
      "margin": null,
      "max_height": null,
      "max_width": null,
      "min_height": null,
      "min_width": null,
      "object_fit": null,
      "object_position": null,
      "order": null,
      "overflow": null,
      "overflow_x": null,
      "overflow_y": null,
      "padding": null,
      "right": null,
      "top": null,
      "visibility": null,
      "width": null
     }
    },
    "27deb6f565ac4447a44770288071a0b8": {
     "model_module": "@jupyter-widgets/controls",
     "model_name": "HTMLModel",
     "state": {
      "_dom_classes": [],
      "_model_module": "@jupyter-widgets/controls",
      "_model_module_version": "1.5.0",
      "_model_name": "HTMLModel",
      "_view_count": null,
      "_view_module": "@jupyter-widgets/controls",
      "_view_module_version": "1.5.0",
      "_view_name": "HTMLView",
      "description": "",
      "description_tooltip": null,
      "layout": "IPY_MODEL_9a9728af9dcb4e67a1a006297cd7b74c",
      "placeholder": "​",
      "style": "IPY_MODEL_e94b124aaf674431b6e424b9c6c1da87",
      "value": " 150/? [01:26&lt;00:00,  1.73it/s]"
     }
    },
    "2d2b6b3effa34b809c30379c42c3c861": {
     "model_module": "@jupyter-widgets/controls",
     "model_name": "FloatProgressModel",
     "state": {
      "_dom_classes": [],
      "_model_module": "@jupyter-widgets/controls",
      "_model_module_version": "1.5.0",
      "_model_name": "FloatProgressModel",
      "_view_count": null,
      "_view_module": "@jupyter-widgets/controls",
      "_view_module_version": "1.5.0",
      "_view_name": "ProgressView",
      "bar_style": "success",
      "description": "",
      "description_tooltip": null,
      "layout": "IPY_MODEL_ad0c71bcf6d945098f04025bc52055f9",
      "max": 1,
      "min": 0,
      "orientation": "horizontal",
      "style": "IPY_MODEL_5605c8c2ad12431b88e1404953ecd6b9",
      "value": 1
     }
    },
    "2d96618428094902b80450d649566a66": {
     "model_module": "@jupyter-widgets/controls",
     "model_name": "HBoxModel",
     "state": {
      "_dom_classes": [],
      "_model_module": "@jupyter-widgets/controls",
      "_model_module_version": "1.5.0",
      "_model_name": "HBoxModel",
      "_view_count": null,
      "_view_module": "@jupyter-widgets/controls",
      "_view_module_version": "1.5.0",
      "_view_name": "HBoxView",
      "box_style": "",
      "children": [
       "IPY_MODEL_a33ce8bb19284323a89a317403263c0d",
       "IPY_MODEL_90937a3fdc314010948a13e9e2c70e40"
      ],
      "layout": "IPY_MODEL_c7a670342db348f0b703a95438137574"
     }
    },
    "2df67220b98547639c10a80ceb63b1ef": {
     "model_module": "@jupyter-widgets/base",
     "model_name": "LayoutModel",
     "state": {
      "_model_module": "@jupyter-widgets/base",
      "_model_module_version": "1.2.0",
      "_model_name": "LayoutModel",
      "_view_count": null,
      "_view_module": "@jupyter-widgets/base",
      "_view_module_version": "1.2.0",
      "_view_name": "LayoutView",
      "align_content": null,
      "align_items": null,
      "align_self": null,
      "border": null,
      "bottom": null,
      "display": null,
      "flex": null,
      "flex_flow": null,
      "grid_area": null,
      "grid_auto_columns": null,
      "grid_auto_flow": null,
      "grid_auto_rows": null,
      "grid_column": null,
      "grid_gap": null,
      "grid_row": null,
      "grid_template_areas": null,
      "grid_template_columns": null,
      "grid_template_rows": null,
      "height": null,
      "justify_content": null,
      "justify_items": null,
      "left": null,
      "margin": null,
      "max_height": null,
      "max_width": null,
      "min_height": null,
      "min_width": null,
      "object_fit": null,
      "object_position": null,
      "order": null,
      "overflow": null,
      "overflow_x": null,
      "overflow_y": null,
      "padding": null,
      "right": null,
      "top": null,
      "visibility": null,
      "width": null
     }
    },
    "2f28dc0b45cc4b30acb85fecdc128397": {
     "model_module": "@jupyter-widgets/controls",
     "model_name": "ProgressStyleModel",
     "state": {
      "_model_module": "@jupyter-widgets/controls",
      "_model_module_version": "1.5.0",
      "_model_name": "ProgressStyleModel",
      "_view_count": null,
      "_view_module": "@jupyter-widgets/base",
      "_view_module_version": "1.2.0",
      "_view_name": "StyleView",
      "bar_color": null,
      "description_width": "initial"
     }
    },
    "3008461ae4e440d081f2f3ac46afa685": {
     "model_module": "@jupyter-widgets/controls",
     "model_name": "DescriptionStyleModel",
     "state": {
      "_model_module": "@jupyter-widgets/controls",
      "_model_module_version": "1.5.0",
      "_model_name": "DescriptionStyleModel",
      "_view_count": null,
      "_view_module": "@jupyter-widgets/base",
      "_view_module_version": "1.2.0",
      "_view_name": "StyleView",
      "description_width": ""
     }
    },
    "3353a6712b3a482d8907ca80a0824020": {
     "model_module": "@jupyter-widgets/base",
     "model_name": "LayoutModel",
     "state": {
      "_model_module": "@jupyter-widgets/base",
      "_model_module_version": "1.2.0",
      "_model_name": "LayoutModel",
      "_view_count": null,
      "_view_module": "@jupyter-widgets/base",
      "_view_module_version": "1.2.0",
      "_view_name": "LayoutView",
      "align_content": null,
      "align_items": null,
      "align_self": null,
      "border": null,
      "bottom": null,
      "display": null,
      "flex": null,
      "flex_flow": null,
      "grid_area": null,
      "grid_auto_columns": null,
      "grid_auto_flow": null,
      "grid_auto_rows": null,
      "grid_column": null,
      "grid_gap": null,
      "grid_row": null,
      "grid_template_areas": null,
      "grid_template_columns": null,
      "grid_template_rows": null,
      "height": null,
      "justify_content": null,
      "justify_items": null,
      "left": null,
      "margin": null,
      "max_height": null,
      "max_width": null,
      "min_height": null,
      "min_width": null,
      "object_fit": null,
      "object_position": null,
      "order": null,
      "overflow": null,
      "overflow_x": null,
      "overflow_y": null,
      "padding": null,
      "right": null,
      "top": null,
      "visibility": null,
      "width": null
     }
    },
    "354fdd4a6e064367be8398d996b63d38": {
     "model_module": "@jupyter-widgets/controls",
     "model_name": "HTMLModel",
     "state": {
      "_dom_classes": [],
      "_model_module": "@jupyter-widgets/controls",
      "_model_module_version": "1.5.0",
      "_model_name": "HTMLModel",
      "_view_count": null,
      "_view_module": "@jupyter-widgets/controls",
      "_view_module_version": "1.5.0",
      "_view_name": "HTMLView",
      "description": "",
      "description_tooltip": null,
      "layout": "IPY_MODEL_22e8567701184b729be80c57098badc4",
      "placeholder": "​",
      "style": "IPY_MODEL_3008461ae4e440d081f2f3ac46afa685",
      "value": " 150/? [01:10&lt;00:00,  2.12it/s]"
     }
    },
    "37454b94184a4a10a9affa6e84e74f43": {
     "model_module": "@jupyter-widgets/base",
     "model_name": "LayoutModel",
     "state": {
      "_model_module": "@jupyter-widgets/base",
      "_model_module_version": "1.2.0",
      "_model_name": "LayoutModel",
      "_view_count": null,
      "_view_module": "@jupyter-widgets/base",
      "_view_module_version": "1.2.0",
      "_view_name": "LayoutView",
      "align_content": null,
      "align_items": null,
      "align_self": null,
      "border": null,
      "bottom": null,
      "display": null,
      "flex": null,
      "flex_flow": null,
      "grid_area": null,
      "grid_auto_columns": null,
      "grid_auto_flow": null,
      "grid_auto_rows": null,
      "grid_column": null,
      "grid_gap": null,
      "grid_row": null,
      "grid_template_areas": null,
      "grid_template_columns": null,
      "grid_template_rows": null,
      "height": null,
      "justify_content": null,
      "justify_items": null,
      "left": null,
      "margin": null,
      "max_height": null,
      "max_width": null,
      "min_height": null,
      "min_width": null,
      "object_fit": null,
      "object_position": null,
      "order": null,
      "overflow": null,
      "overflow_x": null,
      "overflow_y": null,
      "padding": null,
      "right": null,
      "top": null,
      "visibility": null,
      "width": null
     }
    },
    "3856954e8b1e47a08fce9fff7a038027": {
     "model_module": "@jupyter-widgets/base",
     "model_name": "LayoutModel",
     "state": {
      "_model_module": "@jupyter-widgets/base",
      "_model_module_version": "1.2.0",
      "_model_name": "LayoutModel",
      "_view_count": null,
      "_view_module": "@jupyter-widgets/base",
      "_view_module_version": "1.2.0",
      "_view_name": "LayoutView",
      "align_content": null,
      "align_items": null,
      "align_self": null,
      "border": null,
      "bottom": null,
      "display": null,
      "flex": null,
      "flex_flow": null,
      "grid_area": null,
      "grid_auto_columns": null,
      "grid_auto_flow": null,
      "grid_auto_rows": null,
      "grid_column": null,
      "grid_gap": null,
      "grid_row": null,
      "grid_template_areas": null,
      "grid_template_columns": null,
      "grid_template_rows": null,
      "height": null,
      "justify_content": null,
      "justify_items": null,
      "left": null,
      "margin": null,
      "max_height": null,
      "max_width": null,
      "min_height": null,
      "min_width": null,
      "object_fit": null,
      "object_position": null,
      "order": null,
      "overflow": null,
      "overflow_x": null,
      "overflow_y": null,
      "padding": null,
      "right": null,
      "top": null,
      "visibility": null,
      "width": null
     }
    },
    "3c42fdea3dcd4f2bbd6ba10777f27db3": {
     "model_module": "@jupyter-widgets/base",
     "model_name": "LayoutModel",
     "state": {
      "_model_module": "@jupyter-widgets/base",
      "_model_module_version": "1.2.0",
      "_model_name": "LayoutModel",
      "_view_count": null,
      "_view_module": "@jupyter-widgets/base",
      "_view_module_version": "1.2.0",
      "_view_name": "LayoutView",
      "align_content": null,
      "align_items": null,
      "align_self": null,
      "border": null,
      "bottom": null,
      "display": null,
      "flex": null,
      "flex_flow": null,
      "grid_area": null,
      "grid_auto_columns": null,
      "grid_auto_flow": null,
      "grid_auto_rows": null,
      "grid_column": null,
      "grid_gap": null,
      "grid_row": null,
      "grid_template_areas": null,
      "grid_template_columns": null,
      "grid_template_rows": null,
      "height": null,
      "justify_content": null,
      "justify_items": null,
      "left": null,
      "margin": null,
      "max_height": null,
      "max_width": null,
      "min_height": null,
      "min_width": null,
      "object_fit": null,
      "object_position": null,
      "order": null,
      "overflow": null,
      "overflow_x": null,
      "overflow_y": null,
      "padding": null,
      "right": null,
      "top": null,
      "visibility": null,
      "width": null
     }
    },
    "40ef9fea4c03417db6bdc76b480fb59e": {
     "model_module": "@jupyter-widgets/controls",
     "model_name": "HBoxModel",
     "state": {
      "_dom_classes": [],
      "_model_module": "@jupyter-widgets/controls",
      "_model_module_version": "1.5.0",
      "_model_name": "HBoxModel",
      "_view_count": null,
      "_view_module": "@jupyter-widgets/controls",
      "_view_module_version": "1.5.0",
      "_view_name": "HBoxView",
      "box_style": "",
      "children": [
       "IPY_MODEL_8b5212a3ed9f49aea201644e1ed1ac53",
       "IPY_MODEL_a637e9d5dda44c3e9c8c3b9154b1b20d"
      ],
      "layout": "IPY_MODEL_3c42fdea3dcd4f2bbd6ba10777f27db3"
     }
    },
    "41ceec6b9c214b18891c8ab915d5c19c": {
     "model_module": "@jupyter-widgets/controls",
     "model_name": "DescriptionStyleModel",
     "state": {
      "_model_module": "@jupyter-widgets/controls",
      "_model_module_version": "1.5.0",
      "_model_name": "DescriptionStyleModel",
      "_view_count": null,
      "_view_module": "@jupyter-widgets/base",
      "_view_module_version": "1.2.0",
      "_view_name": "StyleView",
      "description_width": ""
     }
    },
    "430de0fcf9ce45799f8cec7b508a8f7f": {
     "model_module": "@jupyter-widgets/controls",
     "model_name": "HBoxModel",
     "state": {
      "_dom_classes": [],
      "_model_module": "@jupyter-widgets/controls",
      "_model_module_version": "1.5.0",
      "_model_name": "HBoxModel",
      "_view_count": null,
      "_view_module": "@jupyter-widgets/controls",
      "_view_module_version": "1.5.0",
      "_view_name": "HBoxView",
      "box_style": "",
      "children": [
       "IPY_MODEL_e2be21b2cc584489b535309b9c8904e3",
       "IPY_MODEL_354fdd4a6e064367be8398d996b63d38"
      ],
      "layout": "IPY_MODEL_99791d40ec534ebc9a7f4b01767f9aad"
     }
    },
    "471a09375e984a31824b27e279a6c4f3": {
     "model_module": "@jupyter-widgets/controls",
     "model_name": "FloatProgressModel",
     "state": {
      "_dom_classes": [],
      "_model_module": "@jupyter-widgets/controls",
      "_model_module_version": "1.5.0",
      "_model_name": "FloatProgressModel",
      "_view_count": null,
      "_view_module": "@jupyter-widgets/controls",
      "_view_module_version": "1.5.0",
      "_view_name": "ProgressView",
      "bar_style": "success",
      "description": "",
      "description_tooltip": null,
      "layout": "IPY_MODEL_37454b94184a4a10a9affa6e84e74f43",
      "max": 1,
      "min": 0,
      "orientation": "horizontal",
      "style": "IPY_MODEL_7a407d5347104eaa9ce6ec36250715d3",
      "value": 1
     }
    },
    "4778d193b45a4e2ca8871f19b195a26b": {
     "model_module": "@jupyter-widgets/base",
     "model_name": "LayoutModel",
     "state": {
      "_model_module": "@jupyter-widgets/base",
      "_model_module_version": "1.2.0",
      "_model_name": "LayoutModel",
      "_view_count": null,
      "_view_module": "@jupyter-widgets/base",
      "_view_module_version": "1.2.0",
      "_view_name": "LayoutView",
      "align_content": null,
      "align_items": null,
      "align_self": null,
      "border": null,
      "bottom": null,
      "display": null,
      "flex": null,
      "flex_flow": null,
      "grid_area": null,
      "grid_auto_columns": null,
      "grid_auto_flow": null,
      "grid_auto_rows": null,
      "grid_column": null,
      "grid_gap": null,
      "grid_row": null,
      "grid_template_areas": null,
      "grid_template_columns": null,
      "grid_template_rows": null,
      "height": null,
      "justify_content": null,
      "justify_items": null,
      "left": null,
      "margin": null,
      "max_height": null,
      "max_width": null,
      "min_height": null,
      "min_width": null,
      "object_fit": null,
      "object_position": null,
      "order": null,
      "overflow": null,
      "overflow_x": null,
      "overflow_y": null,
      "padding": null,
      "right": null,
      "top": null,
      "visibility": null,
      "width": null
     }
    },
    "4800749f8151430c8cc49570cd4ccaf7": {
     "model_module": "@jupyter-widgets/base",
     "model_name": "LayoutModel",
     "state": {
      "_model_module": "@jupyter-widgets/base",
      "_model_module_version": "1.2.0",
      "_model_name": "LayoutModel",
      "_view_count": null,
      "_view_module": "@jupyter-widgets/base",
      "_view_module_version": "1.2.0",
      "_view_name": "LayoutView",
      "align_content": null,
      "align_items": null,
      "align_self": null,
      "border": null,
      "bottom": null,
      "display": null,
      "flex": null,
      "flex_flow": null,
      "grid_area": null,
      "grid_auto_columns": null,
      "grid_auto_flow": null,
      "grid_auto_rows": null,
      "grid_column": null,
      "grid_gap": null,
      "grid_row": null,
      "grid_template_areas": null,
      "grid_template_columns": null,
      "grid_template_rows": null,
      "height": null,
      "justify_content": null,
      "justify_items": null,
      "left": null,
      "margin": null,
      "max_height": null,
      "max_width": null,
      "min_height": null,
      "min_width": null,
      "object_fit": null,
      "object_position": null,
      "order": null,
      "overflow": null,
      "overflow_x": null,
      "overflow_y": null,
      "padding": null,
      "right": null,
      "top": null,
      "visibility": null,
      "width": null
     }
    },
    "4a42cbf2455346818c8fb92da5665bca": {
     "model_module": "@jupyter-widgets/base",
     "model_name": "LayoutModel",
     "state": {
      "_model_module": "@jupyter-widgets/base",
      "_model_module_version": "1.2.0",
      "_model_name": "LayoutModel",
      "_view_count": null,
      "_view_module": "@jupyter-widgets/base",
      "_view_module_version": "1.2.0",
      "_view_name": "LayoutView",
      "align_content": null,
      "align_items": null,
      "align_self": null,
      "border": null,
      "bottom": null,
      "display": null,
      "flex": null,
      "flex_flow": null,
      "grid_area": null,
      "grid_auto_columns": null,
      "grid_auto_flow": null,
      "grid_auto_rows": null,
      "grid_column": null,
      "grid_gap": null,
      "grid_row": null,
      "grid_template_areas": null,
      "grid_template_columns": null,
      "grid_template_rows": null,
      "height": null,
      "justify_content": null,
      "justify_items": null,
      "left": null,
      "margin": null,
      "max_height": null,
      "max_width": null,
      "min_height": null,
      "min_width": null,
      "object_fit": null,
      "object_position": null,
      "order": null,
      "overflow": null,
      "overflow_x": null,
      "overflow_y": null,
      "padding": null,
      "right": null,
      "top": null,
      "visibility": null,
      "width": null
     }
    },
    "4d3bd152e2b14612bdec4f9692d48739": {
     "model_module": "@jupyter-widgets/base",
     "model_name": "LayoutModel",
     "state": {
      "_model_module": "@jupyter-widgets/base",
      "_model_module_version": "1.2.0",
      "_model_name": "LayoutModel",
      "_view_count": null,
      "_view_module": "@jupyter-widgets/base",
      "_view_module_version": "1.2.0",
      "_view_name": "LayoutView",
      "align_content": null,
      "align_items": null,
      "align_self": null,
      "border": null,
      "bottom": null,
      "display": null,
      "flex": null,
      "flex_flow": null,
      "grid_area": null,
      "grid_auto_columns": null,
      "grid_auto_flow": null,
      "grid_auto_rows": null,
      "grid_column": null,
      "grid_gap": null,
      "grid_row": null,
      "grid_template_areas": null,
      "grid_template_columns": null,
      "grid_template_rows": null,
      "height": null,
      "justify_content": null,
      "justify_items": null,
      "left": null,
      "margin": null,
      "max_height": null,
      "max_width": null,
      "min_height": null,
      "min_width": null,
      "object_fit": null,
      "object_position": null,
      "order": null,
      "overflow": null,
      "overflow_x": null,
      "overflow_y": null,
      "padding": null,
      "right": null,
      "top": null,
      "visibility": null,
      "width": null
     }
    },
    "4e394e72017442e989642afdc2b8abcb": {
     "model_module": "@jupyter-widgets/base",
     "model_name": "LayoutModel",
     "state": {
      "_model_module": "@jupyter-widgets/base",
      "_model_module_version": "1.2.0",
      "_model_name": "LayoutModel",
      "_view_count": null,
      "_view_module": "@jupyter-widgets/base",
      "_view_module_version": "1.2.0",
      "_view_name": "LayoutView",
      "align_content": null,
      "align_items": null,
      "align_self": null,
      "border": null,
      "bottom": null,
      "display": null,
      "flex": null,
      "flex_flow": null,
      "grid_area": null,
      "grid_auto_columns": null,
      "grid_auto_flow": null,
      "grid_auto_rows": null,
      "grid_column": null,
      "grid_gap": null,
      "grid_row": null,
      "grid_template_areas": null,
      "grid_template_columns": null,
      "grid_template_rows": null,
      "height": null,
      "justify_content": null,
      "justify_items": null,
      "left": null,
      "margin": null,
      "max_height": null,
      "max_width": null,
      "min_height": null,
      "min_width": null,
      "object_fit": null,
      "object_position": null,
      "order": null,
      "overflow": null,
      "overflow_x": null,
      "overflow_y": null,
      "padding": null,
      "right": null,
      "top": null,
      "visibility": null,
      "width": null
     }
    },
    "501fe7de2d29471c9ad3580ba42b274d": {
     "model_module": "@jupyter-widgets/base",
     "model_name": "LayoutModel",
     "state": {
      "_model_module": "@jupyter-widgets/base",
      "_model_module_version": "1.2.0",
      "_model_name": "LayoutModel",
      "_view_count": null,
      "_view_module": "@jupyter-widgets/base",
      "_view_module_version": "1.2.0",
      "_view_name": "LayoutView",
      "align_content": null,
      "align_items": null,
      "align_self": null,
      "border": null,
      "bottom": null,
      "display": null,
      "flex": null,
      "flex_flow": null,
      "grid_area": null,
      "grid_auto_columns": null,
      "grid_auto_flow": null,
      "grid_auto_rows": null,
      "grid_column": null,
      "grid_gap": null,
      "grid_row": null,
      "grid_template_areas": null,
      "grid_template_columns": null,
      "grid_template_rows": null,
      "height": null,
      "justify_content": null,
      "justify_items": null,
      "left": null,
      "margin": null,
      "max_height": null,
      "max_width": null,
      "min_height": null,
      "min_width": null,
      "object_fit": null,
      "object_position": null,
      "order": null,
      "overflow": null,
      "overflow_x": null,
      "overflow_y": null,
      "padding": null,
      "right": null,
      "top": null,
      "visibility": null,
      "width": null
     }
    },
    "53c9e46489fc4d708c7fe856173f3b12": {
     "model_module": "@jupyter-widgets/controls",
     "model_name": "HBoxModel",
     "state": {
      "_dom_classes": [],
      "_model_module": "@jupyter-widgets/controls",
      "_model_module_version": "1.5.0",
      "_model_name": "HBoxModel",
      "_view_count": null,
      "_view_module": "@jupyter-widgets/controls",
      "_view_module_version": "1.5.0",
      "_view_name": "HBoxView",
      "box_style": "",
      "children": [
       "IPY_MODEL_0cdd1f83587643f68b9cc4659ba75fb8",
       "IPY_MODEL_2732c77700724db3beb39d1c64469852"
      ],
      "layout": "IPY_MODEL_27afa2d568d6441690a6d0ee44e40e1c"
     }
    },
    "5605c8c2ad12431b88e1404953ecd6b9": {
     "model_module": "@jupyter-widgets/controls",
     "model_name": "ProgressStyleModel",
     "state": {
      "_model_module": "@jupyter-widgets/controls",
      "_model_module_version": "1.5.0",
      "_model_name": "ProgressStyleModel",
      "_view_count": null,
      "_view_module": "@jupyter-widgets/base",
      "_view_module_version": "1.2.0",
      "_view_name": "StyleView",
      "bar_color": null,
      "description_width": "initial"
     }
    },
    "58d8bd8caffa47788931111cd5d05409": {
     "model_module": "@jupyter-widgets/controls",
     "model_name": "DescriptionStyleModel",
     "state": {
      "_model_module": "@jupyter-widgets/controls",
      "_model_module_version": "1.5.0",
      "_model_name": "DescriptionStyleModel",
      "_view_count": null,
      "_view_module": "@jupyter-widgets/base",
      "_view_module_version": "1.2.0",
      "_view_name": "StyleView",
      "description_width": ""
     }
    },
    "58fa30020dc14801a78967796be9df3e": {
     "model_module": "@jupyter-widgets/controls",
     "model_name": "FloatProgressModel",
     "state": {
      "_dom_classes": [],
      "_model_module": "@jupyter-widgets/controls",
      "_model_module_version": "1.5.0",
      "_model_name": "FloatProgressModel",
      "_view_count": null,
      "_view_module": "@jupyter-widgets/controls",
      "_view_module_version": "1.5.0",
      "_view_name": "ProgressView",
      "bar_style": "success",
      "description": "",
      "description_tooltip": null,
      "layout": "IPY_MODEL_501fe7de2d29471c9ad3580ba42b274d",
      "max": 1,
      "min": 0,
      "orientation": "horizontal",
      "style": "IPY_MODEL_89f6bfd52126419ab7c6b6ba00894c24",
      "value": 1
     }
    },
    "598b0d3d4ba64ed48d511ce9dd360f64": {
     "model_module": "@jupyter-widgets/controls",
     "model_name": "ProgressStyleModel",
     "state": {
      "_model_module": "@jupyter-widgets/controls",
      "_model_module_version": "1.5.0",
      "_model_name": "ProgressStyleModel",
      "_view_count": null,
      "_view_module": "@jupyter-widgets/base",
      "_view_module_version": "1.2.0",
      "_view_name": "StyleView",
      "bar_color": null,
      "description_width": "initial"
     }
    },
    "6005029df2504711a96df12e14290100": {
     "model_module": "@jupyter-widgets/base",
     "model_name": "LayoutModel",
     "state": {
      "_model_module": "@jupyter-widgets/base",
      "_model_module_version": "1.2.0",
      "_model_name": "LayoutModel",
      "_view_count": null,
      "_view_module": "@jupyter-widgets/base",
      "_view_module_version": "1.2.0",
      "_view_name": "LayoutView",
      "align_content": null,
      "align_items": null,
      "align_self": null,
      "border": null,
      "bottom": null,
      "display": null,
      "flex": null,
      "flex_flow": null,
      "grid_area": null,
      "grid_auto_columns": null,
      "grid_auto_flow": null,
      "grid_auto_rows": null,
      "grid_column": null,
      "grid_gap": null,
      "grid_row": null,
      "grid_template_areas": null,
      "grid_template_columns": null,
      "grid_template_rows": null,
      "height": null,
      "justify_content": null,
      "justify_items": null,
      "left": null,
      "margin": null,
      "max_height": null,
      "max_width": null,
      "min_height": null,
      "min_width": null,
      "object_fit": null,
      "object_position": null,
      "order": null,
      "overflow": null,
      "overflow_x": null,
      "overflow_y": null,
      "padding": null,
      "right": null,
      "top": null,
      "visibility": null,
      "width": null
     }
    },
    "61a4358811654212bd669c1c6c40b4cd": {
     "model_module": "@jupyter-widgets/controls",
     "model_name": "FloatProgressModel",
     "state": {
      "_dom_classes": [],
      "_model_module": "@jupyter-widgets/controls",
      "_model_module_version": "1.5.0",
      "_model_name": "FloatProgressModel",
      "_view_count": null,
      "_view_module": "@jupyter-widgets/controls",
      "_view_module_version": "1.5.0",
      "_view_name": "ProgressView",
      "bar_style": "success",
      "description": "",
      "description_tooltip": null,
      "layout": "IPY_MODEL_2df67220b98547639c10a80ceb63b1ef",
      "max": 1,
      "min": 0,
      "orientation": "horizontal",
      "style": "IPY_MODEL_7b8fca08cafe4f7e9ad9f519bb005fd1",
      "value": 1
     }
    },
    "63ff13ee95f64beea555e0660be15eec": {
     "model_module": "@jupyter-widgets/controls",
     "model_name": "DescriptionStyleModel",
     "state": {
      "_model_module": "@jupyter-widgets/controls",
      "_model_module_version": "1.5.0",
      "_model_name": "DescriptionStyleModel",
      "_view_count": null,
      "_view_module": "@jupyter-widgets/base",
      "_view_module_version": "1.2.0",
      "_view_name": "StyleView",
      "description_width": ""
     }
    },
    "6736870c4aa94b20adeed80a00507dce": {
     "model_module": "@jupyter-widgets/controls",
     "model_name": "ProgressStyleModel",
     "state": {
      "_model_module": "@jupyter-widgets/controls",
      "_model_module_version": "1.5.0",
      "_model_name": "ProgressStyleModel",
      "_view_count": null,
      "_view_module": "@jupyter-widgets/base",
      "_view_module_version": "1.2.0",
      "_view_name": "StyleView",
      "bar_color": null,
      "description_width": "initial"
     }
    },
    "68ba61411c5d4097883b053f06493415": {
     "model_module": "@jupyter-widgets/controls",
     "model_name": "ProgressStyleModel",
     "state": {
      "_model_module": "@jupyter-widgets/controls",
      "_model_module_version": "1.5.0",
      "_model_name": "ProgressStyleModel",
      "_view_count": null,
      "_view_module": "@jupyter-widgets/base",
      "_view_module_version": "1.2.0",
      "_view_name": "StyleView",
      "bar_color": null,
      "description_width": "initial"
     }
    },
    "6e1089fcff4a4ad19de6fc9dfb87c171": {
     "model_module": "@jupyter-widgets/controls",
     "model_name": "FloatProgressModel",
     "state": {
      "_dom_classes": [],
      "_model_module": "@jupyter-widgets/controls",
      "_model_module_version": "1.5.0",
      "_model_name": "FloatProgressModel",
      "_view_count": null,
      "_view_module": "@jupyter-widgets/controls",
      "_view_module_version": "1.5.0",
      "_view_name": "ProgressView",
      "bar_style": "success",
      "description": "",
      "description_tooltip": null,
      "layout": "IPY_MODEL_0551f8a91cb547948703416f5c200c93",
      "max": 1,
      "min": 0,
      "orientation": "horizontal",
      "style": "IPY_MODEL_2f28dc0b45cc4b30acb85fecdc128397",
      "value": 1
     }
    },
    "7475bb3748de434eae59ef85715514da": {
     "model_module": "@jupyter-widgets/base",
     "model_name": "LayoutModel",
     "state": {
      "_model_module": "@jupyter-widgets/base",
      "_model_module_version": "1.2.0",
      "_model_name": "LayoutModel",
      "_view_count": null,
      "_view_module": "@jupyter-widgets/base",
      "_view_module_version": "1.2.0",
      "_view_name": "LayoutView",
      "align_content": null,
      "align_items": null,
      "align_self": null,
      "border": null,
      "bottom": null,
      "display": null,
      "flex": null,
      "flex_flow": null,
      "grid_area": null,
      "grid_auto_columns": null,
      "grid_auto_flow": null,
      "grid_auto_rows": null,
      "grid_column": null,
      "grid_gap": null,
      "grid_row": null,
      "grid_template_areas": null,
      "grid_template_columns": null,
      "grid_template_rows": null,
      "height": null,
      "justify_content": null,
      "justify_items": null,
      "left": null,
      "margin": null,
      "max_height": null,
      "max_width": null,
      "min_height": null,
      "min_width": null,
      "object_fit": null,
      "object_position": null,
      "order": null,
      "overflow": null,
      "overflow_x": null,
      "overflow_y": null,
      "padding": null,
      "right": null,
      "top": null,
      "visibility": null,
      "width": null
     }
    },
    "75b200a4d1cb4f1cab2204139ac8fff5": {
     "model_module": "@jupyter-widgets/base",
     "model_name": "LayoutModel",
     "state": {
      "_model_module": "@jupyter-widgets/base",
      "_model_module_version": "1.2.0",
      "_model_name": "LayoutModel",
      "_view_count": null,
      "_view_module": "@jupyter-widgets/base",
      "_view_module_version": "1.2.0",
      "_view_name": "LayoutView",
      "align_content": null,
      "align_items": null,
      "align_self": null,
      "border": null,
      "bottom": null,
      "display": null,
      "flex": null,
      "flex_flow": null,
      "grid_area": null,
      "grid_auto_columns": null,
      "grid_auto_flow": null,
      "grid_auto_rows": null,
      "grid_column": null,
      "grid_gap": null,
      "grid_row": null,
      "grid_template_areas": null,
      "grid_template_columns": null,
      "grid_template_rows": null,
      "height": null,
      "justify_content": null,
      "justify_items": null,
      "left": null,
      "margin": null,
      "max_height": null,
      "max_width": null,
      "min_height": null,
      "min_width": null,
      "object_fit": null,
      "object_position": null,
      "order": null,
      "overflow": null,
      "overflow_x": null,
      "overflow_y": null,
      "padding": null,
      "right": null,
      "top": null,
      "visibility": null,
      "width": null
     }
    },
    "7a0883324f8b4256adf0e8a54c77524f": {
     "model_module": "@jupyter-widgets/base",
     "model_name": "LayoutModel",
     "state": {
      "_model_module": "@jupyter-widgets/base",
      "_model_module_version": "1.2.0",
      "_model_name": "LayoutModel",
      "_view_count": null,
      "_view_module": "@jupyter-widgets/base",
      "_view_module_version": "1.2.0",
      "_view_name": "LayoutView",
      "align_content": null,
      "align_items": null,
      "align_self": null,
      "border": null,
      "bottom": null,
      "display": null,
      "flex": null,
      "flex_flow": null,
      "grid_area": null,
      "grid_auto_columns": null,
      "grid_auto_flow": null,
      "grid_auto_rows": null,
      "grid_column": null,
      "grid_gap": null,
      "grid_row": null,
      "grid_template_areas": null,
      "grid_template_columns": null,
      "grid_template_rows": null,
      "height": null,
      "justify_content": null,
      "justify_items": null,
      "left": null,
      "margin": null,
      "max_height": null,
      "max_width": null,
      "min_height": null,
      "min_width": null,
      "object_fit": null,
      "object_position": null,
      "order": null,
      "overflow": null,
      "overflow_x": null,
      "overflow_y": null,
      "padding": null,
      "right": null,
      "top": null,
      "visibility": null,
      "width": null
     }
    },
    "7a407d5347104eaa9ce6ec36250715d3": {
     "model_module": "@jupyter-widgets/controls",
     "model_name": "ProgressStyleModel",
     "state": {
      "_model_module": "@jupyter-widgets/controls",
      "_model_module_version": "1.5.0",
      "_model_name": "ProgressStyleModel",
      "_view_count": null,
      "_view_module": "@jupyter-widgets/base",
      "_view_module_version": "1.2.0",
      "_view_name": "StyleView",
      "bar_color": null,
      "description_width": "initial"
     }
    },
    "7b8fca08cafe4f7e9ad9f519bb005fd1": {
     "model_module": "@jupyter-widgets/controls",
     "model_name": "ProgressStyleModel",
     "state": {
      "_model_module": "@jupyter-widgets/controls",
      "_model_module_version": "1.5.0",
      "_model_name": "ProgressStyleModel",
      "_view_count": null,
      "_view_module": "@jupyter-widgets/base",
      "_view_module_version": "1.2.0",
      "_view_name": "StyleView",
      "bar_color": null,
      "description_width": "initial"
     }
    },
    "8365405f8a1c4d178b5ab5cd9d905e32": {
     "model_module": "@jupyter-widgets/controls",
     "model_name": "ProgressStyleModel",
     "state": {
      "_model_module": "@jupyter-widgets/controls",
      "_model_module_version": "1.5.0",
      "_model_name": "ProgressStyleModel",
      "_view_count": null,
      "_view_module": "@jupyter-widgets/base",
      "_view_module_version": "1.2.0",
      "_view_name": "StyleView",
      "bar_color": null,
      "description_width": "initial"
     }
    },
    "838fc6b6bb704fd897d9145830d7bb9f": {
     "model_module": "@jupyter-widgets/base",
     "model_name": "LayoutModel",
     "state": {
      "_model_module": "@jupyter-widgets/base",
      "_model_module_version": "1.2.0",
      "_model_name": "LayoutModel",
      "_view_count": null,
      "_view_module": "@jupyter-widgets/base",
      "_view_module_version": "1.2.0",
      "_view_name": "LayoutView",
      "align_content": null,
      "align_items": null,
      "align_self": null,
      "border": null,
      "bottom": null,
      "display": null,
      "flex": null,
      "flex_flow": null,
      "grid_area": null,
      "grid_auto_columns": null,
      "grid_auto_flow": null,
      "grid_auto_rows": null,
      "grid_column": null,
      "grid_gap": null,
      "grid_row": null,
      "grid_template_areas": null,
      "grid_template_columns": null,
      "grid_template_rows": null,
      "height": null,
      "justify_content": null,
      "justify_items": null,
      "left": null,
      "margin": null,
      "max_height": null,
      "max_width": null,
      "min_height": null,
      "min_width": null,
      "object_fit": null,
      "object_position": null,
      "order": null,
      "overflow": null,
      "overflow_x": null,
      "overflow_y": null,
      "padding": null,
      "right": null,
      "top": null,
      "visibility": null,
      "width": null
     }
    },
    "8503f63352114056ace6ee5662d746da": {
     "model_module": "@jupyter-widgets/controls",
     "model_name": "ProgressStyleModel",
     "state": {
      "_model_module": "@jupyter-widgets/controls",
      "_model_module_version": "1.5.0",
      "_model_name": "ProgressStyleModel",
      "_view_count": null,
      "_view_module": "@jupyter-widgets/base",
      "_view_module_version": "1.2.0",
      "_view_name": "StyleView",
      "bar_color": null,
      "description_width": "initial"
     }
    },
    "864cb033af344f22b288a320088ec71c": {
     "model_module": "@jupyter-widgets/base",
     "model_name": "LayoutModel",
     "state": {
      "_model_module": "@jupyter-widgets/base",
      "_model_module_version": "1.2.0",
      "_model_name": "LayoutModel",
      "_view_count": null,
      "_view_module": "@jupyter-widgets/base",
      "_view_module_version": "1.2.0",
      "_view_name": "LayoutView",
      "align_content": null,
      "align_items": null,
      "align_self": null,
      "border": null,
      "bottom": null,
      "display": null,
      "flex": null,
      "flex_flow": null,
      "grid_area": null,
      "grid_auto_columns": null,
      "grid_auto_flow": null,
      "grid_auto_rows": null,
      "grid_column": null,
      "grid_gap": null,
      "grid_row": null,
      "grid_template_areas": null,
      "grid_template_columns": null,
      "grid_template_rows": null,
      "height": null,
      "justify_content": null,
      "justify_items": null,
      "left": null,
      "margin": null,
      "max_height": null,
      "max_width": null,
      "min_height": null,
      "min_width": null,
      "object_fit": null,
      "object_position": null,
      "order": null,
      "overflow": null,
      "overflow_x": null,
      "overflow_y": null,
      "padding": null,
      "right": null,
      "top": null,
      "visibility": null,
      "width": null
     }
    },
    "87a5e794f5ff408ebbf2a740a7560adb": {
     "model_module": "@jupyter-widgets/controls",
     "model_name": "DescriptionStyleModel",
     "state": {
      "_model_module": "@jupyter-widgets/controls",
      "_model_module_version": "1.5.0",
      "_model_name": "DescriptionStyleModel",
      "_view_count": null,
      "_view_module": "@jupyter-widgets/base",
      "_view_module_version": "1.2.0",
      "_view_name": "StyleView",
      "description_width": ""
     }
    },
    "888804a45395411cb9db622b0e6878cb": {
     "model_module": "@jupyter-widgets/base",
     "model_name": "LayoutModel",
     "state": {
      "_model_module": "@jupyter-widgets/base",
      "_model_module_version": "1.2.0",
      "_model_name": "LayoutModel",
      "_view_count": null,
      "_view_module": "@jupyter-widgets/base",
      "_view_module_version": "1.2.0",
      "_view_name": "LayoutView",
      "align_content": null,
      "align_items": null,
      "align_self": null,
      "border": null,
      "bottom": null,
      "display": null,
      "flex": null,
      "flex_flow": null,
      "grid_area": null,
      "grid_auto_columns": null,
      "grid_auto_flow": null,
      "grid_auto_rows": null,
      "grid_column": null,
      "grid_gap": null,
      "grid_row": null,
      "grid_template_areas": null,
      "grid_template_columns": null,
      "grid_template_rows": null,
      "height": null,
      "justify_content": null,
      "justify_items": null,
      "left": null,
      "margin": null,
      "max_height": null,
      "max_width": null,
      "min_height": null,
      "min_width": null,
      "object_fit": null,
      "object_position": null,
      "order": null,
      "overflow": null,
      "overflow_x": null,
      "overflow_y": null,
      "padding": null,
      "right": null,
      "top": null,
      "visibility": null,
      "width": null
     }
    },
    "89f6bfd52126419ab7c6b6ba00894c24": {
     "model_module": "@jupyter-widgets/controls",
     "model_name": "ProgressStyleModel",
     "state": {
      "_model_module": "@jupyter-widgets/controls",
      "_model_module_version": "1.5.0",
      "_model_name": "ProgressStyleModel",
      "_view_count": null,
      "_view_module": "@jupyter-widgets/base",
      "_view_module_version": "1.2.0",
      "_view_name": "StyleView",
      "bar_color": null,
      "description_width": "initial"
     }
    },
    "8b0a112033ab4a3a9a970c6eaaec5531": {
     "model_module": "@jupyter-widgets/controls",
     "model_name": "HBoxModel",
     "state": {
      "_dom_classes": [],
      "_model_module": "@jupyter-widgets/controls",
      "_model_module_version": "1.5.0",
      "_model_name": "HBoxModel",
      "_view_count": null,
      "_view_module": "@jupyter-widgets/controls",
      "_view_module_version": "1.5.0",
      "_view_name": "HBoxView",
      "box_style": "",
      "children": [
       "IPY_MODEL_8ef3688940ae4ff4840fc3ca4c231125",
       "IPY_MODEL_f7dd810e69fa4f1f91acaec17fb8c64a"
      ],
      "layout": "IPY_MODEL_9acb641a7ede4dd6b68097dbff290ce1"
     }
    },
    "8b5212a3ed9f49aea201644e1ed1ac53": {
     "model_module": "@jupyter-widgets/controls",
     "model_name": "FloatProgressModel",
     "state": {
      "_dom_classes": [],
      "_model_module": "@jupyter-widgets/controls",
      "_model_module_version": "1.5.0",
      "_model_name": "FloatProgressModel",
      "_view_count": null,
      "_view_module": "@jupyter-widgets/controls",
      "_view_module_version": "1.5.0",
      "_view_name": "ProgressView",
      "bar_style": "success",
      "description": "",
      "description_tooltip": null,
      "layout": "IPY_MODEL_4e394e72017442e989642afdc2b8abcb",
      "max": 1,
      "min": 0,
      "orientation": "horizontal",
      "style": "IPY_MODEL_e7ccb000bd83423fb4693a908c638ddb",
      "value": 1
     }
    },
    "8ef3688940ae4ff4840fc3ca4c231125": {
     "model_module": "@jupyter-widgets/controls",
     "model_name": "FloatProgressModel",
     "state": {
      "_dom_classes": [],
      "_model_module": "@jupyter-widgets/controls",
      "_model_module_version": "1.5.0",
      "_model_name": "FloatProgressModel",
      "_view_count": null,
      "_view_module": "@jupyter-widgets/controls",
      "_view_module_version": "1.5.0",
      "_view_name": "ProgressView",
      "bar_style": "success",
      "description": "",
      "description_tooltip": null,
      "layout": "IPY_MODEL_838fc6b6bb704fd897d9145830d7bb9f",
      "max": 1,
      "min": 0,
      "orientation": "horizontal",
      "style": "IPY_MODEL_68ba61411c5d4097883b053f06493415",
      "value": 1
     }
    },
    "906c310a405b4822a19d206cf3467f9b": {
     "model_module": "@jupyter-widgets/controls",
     "model_name": "HBoxModel",
     "state": {
      "_dom_classes": [],
      "_model_module": "@jupyter-widgets/controls",
      "_model_module_version": "1.5.0",
      "_model_name": "HBoxModel",
      "_view_count": null,
      "_view_module": "@jupyter-widgets/controls",
      "_view_module_version": "1.5.0",
      "_view_name": "HBoxView",
      "box_style": "",
      "children": [
       "IPY_MODEL_61a4358811654212bd669c1c6c40b4cd",
       "IPY_MODEL_917a8ab6a55b4cd382b1cd1982d5a227"
      ],
      "layout": "IPY_MODEL_75b200a4d1cb4f1cab2204139ac8fff5"
     }
    },
    "90937a3fdc314010948a13e9e2c70e40": {
     "model_module": "@jupyter-widgets/controls",
     "model_name": "HTMLModel",
     "state": {
      "_dom_classes": [],
      "_model_module": "@jupyter-widgets/controls",
      "_model_module_version": "1.5.0",
      "_model_name": "HTMLModel",
      "_view_count": null,
      "_view_module": "@jupyter-widgets/controls",
      "_view_module_version": "1.5.0",
      "_view_name": "HTMLView",
      "description": "",
      "description_tooltip": null,
      "layout": "IPY_MODEL_2004cd6b66034fdda39e09c4ea44b3ce",
      "placeholder": "​",
      "style": "IPY_MODEL_a56cd84f576841259aace5b34b0efda7",
      "value": " 150/? [14:16&lt;00:00,  5.71s/it]"
     }
    },
    "90f39af76e9846b18c45633dce765584": {
     "model_module": "@jupyter-widgets/controls",
     "model_name": "HBoxModel",
     "state": {
      "_dom_classes": [],
      "_model_module": "@jupyter-widgets/controls",
      "_model_module_version": "1.5.0",
      "_model_name": "HBoxModel",
      "_view_count": null,
      "_view_module": "@jupyter-widgets/controls",
      "_view_module_version": "1.5.0",
      "_view_name": "HBoxView",
      "box_style": "",
      "children": [
       "IPY_MODEL_d2a4e7e937804562a63d0191223c0dd0",
       "IPY_MODEL_02d1d8ffcf3a4873880bb4ec2b7eefbf"
      ],
      "layout": "IPY_MODEL_4a42cbf2455346818c8fb92da5665bca"
     }
    },
    "917a8ab6a55b4cd382b1cd1982d5a227": {
     "model_module": "@jupyter-widgets/controls",
     "model_name": "HTMLModel",
     "state": {
      "_dom_classes": [],
      "_model_module": "@jupyter-widgets/controls",
      "_model_module_version": "1.5.0",
      "_model_name": "HTMLModel",
      "_view_count": null,
      "_view_module": "@jupyter-widgets/controls",
      "_view_module_version": "1.5.0",
      "_view_name": "HTMLView",
      "description": "",
      "description_tooltip": null,
      "layout": "IPY_MODEL_4778d193b45a4e2ca8871f19b195a26b",
      "placeholder": "​",
      "style": "IPY_MODEL_58d8bd8caffa47788931111cd5d05409",
      "value": " 150/? [01:08&lt;00:00,  2.18it/s]"
     }
    },
    "940db33506ef463788996553c4bf5f74": {
     "model_module": "@jupyter-widgets/base",
     "model_name": "LayoutModel",
     "state": {
      "_model_module": "@jupyter-widgets/base",
      "_model_module_version": "1.2.0",
      "_model_name": "LayoutModel",
      "_view_count": null,
      "_view_module": "@jupyter-widgets/base",
      "_view_module_version": "1.2.0",
      "_view_name": "LayoutView",
      "align_content": null,
      "align_items": null,
      "align_self": null,
      "border": null,
      "bottom": null,
      "display": null,
      "flex": null,
      "flex_flow": null,
      "grid_area": null,
      "grid_auto_columns": null,
      "grid_auto_flow": null,
      "grid_auto_rows": null,
      "grid_column": null,
      "grid_gap": null,
      "grid_row": null,
      "grid_template_areas": null,
      "grid_template_columns": null,
      "grid_template_rows": null,
      "height": null,
      "justify_content": null,
      "justify_items": null,
      "left": null,
      "margin": null,
      "max_height": null,
      "max_width": null,
      "min_height": null,
      "min_width": null,
      "object_fit": null,
      "object_position": null,
      "order": null,
      "overflow": null,
      "overflow_x": null,
      "overflow_y": null,
      "padding": null,
      "right": null,
      "top": null,
      "visibility": null,
      "width": null
     }
    },
    "9459d0d307814c34aa8a31945a82adb7": {
     "model_module": "@jupyter-widgets/base",
     "model_name": "LayoutModel",
     "state": {
      "_model_module": "@jupyter-widgets/base",
      "_model_module_version": "1.2.0",
      "_model_name": "LayoutModel",
      "_view_count": null,
      "_view_module": "@jupyter-widgets/base",
      "_view_module_version": "1.2.0",
      "_view_name": "LayoutView",
      "align_content": null,
      "align_items": null,
      "align_self": null,
      "border": null,
      "bottom": null,
      "display": null,
      "flex": null,
      "flex_flow": null,
      "grid_area": null,
      "grid_auto_columns": null,
      "grid_auto_flow": null,
      "grid_auto_rows": null,
      "grid_column": null,
      "grid_gap": null,
      "grid_row": null,
      "grid_template_areas": null,
      "grid_template_columns": null,
      "grid_template_rows": null,
      "height": null,
      "justify_content": null,
      "justify_items": null,
      "left": null,
      "margin": null,
      "max_height": null,
      "max_width": null,
      "min_height": null,
      "min_width": null,
      "object_fit": null,
      "object_position": null,
      "order": null,
      "overflow": null,
      "overflow_x": null,
      "overflow_y": null,
      "padding": null,
      "right": null,
      "top": null,
      "visibility": null,
      "width": null
     }
    },
    "9712936912b84e498783132d111037bf": {
     "model_module": "@jupyter-widgets/controls",
     "model_name": "HTMLModel",
     "state": {
      "_dom_classes": [],
      "_model_module": "@jupyter-widgets/controls",
      "_model_module_version": "1.5.0",
      "_model_name": "HTMLModel",
      "_view_count": null,
      "_view_module": "@jupyter-widgets/controls",
      "_view_module_version": "1.5.0",
      "_view_name": "HTMLView",
      "description": "",
      "description_tooltip": null,
      "layout": "IPY_MODEL_e595378941654a4dbe560a646dc52272",
      "placeholder": "​",
      "style": "IPY_MODEL_9e0d68b268384372ae1ec48b6c363b3a",
      "value": " 150/? [1:39:19&lt;00:00, 39.73s/it]"
     }
    },
    "992143ed056d4a23afff16b83c514432": {
     "model_module": "@jupyter-widgets/base",
     "model_name": "LayoutModel",
     "state": {
      "_model_module": "@jupyter-widgets/base",
      "_model_module_version": "1.2.0",
      "_model_name": "LayoutModel",
      "_view_count": null,
      "_view_module": "@jupyter-widgets/base",
      "_view_module_version": "1.2.0",
      "_view_name": "LayoutView",
      "align_content": null,
      "align_items": null,
      "align_self": null,
      "border": null,
      "bottom": null,
      "display": null,
      "flex": null,
      "flex_flow": null,
      "grid_area": null,
      "grid_auto_columns": null,
      "grid_auto_flow": null,
      "grid_auto_rows": null,
      "grid_column": null,
      "grid_gap": null,
      "grid_row": null,
      "grid_template_areas": null,
      "grid_template_columns": null,
      "grid_template_rows": null,
      "height": null,
      "justify_content": null,
      "justify_items": null,
      "left": null,
      "margin": null,
      "max_height": null,
      "max_width": null,
      "min_height": null,
      "min_width": null,
      "object_fit": null,
      "object_position": null,
      "order": null,
      "overflow": null,
      "overflow_x": null,
      "overflow_y": null,
      "padding": null,
      "right": null,
      "top": null,
      "visibility": null,
      "width": null
     }
    },
    "99791d40ec534ebc9a7f4b01767f9aad": {
     "model_module": "@jupyter-widgets/base",
     "model_name": "LayoutModel",
     "state": {
      "_model_module": "@jupyter-widgets/base",
      "_model_module_version": "1.2.0",
      "_model_name": "LayoutModel",
      "_view_count": null,
      "_view_module": "@jupyter-widgets/base",
      "_view_module_version": "1.2.0",
      "_view_name": "LayoutView",
      "align_content": null,
      "align_items": null,
      "align_self": null,
      "border": null,
      "bottom": null,
      "display": null,
      "flex": null,
      "flex_flow": null,
      "grid_area": null,
      "grid_auto_columns": null,
      "grid_auto_flow": null,
      "grid_auto_rows": null,
      "grid_column": null,
      "grid_gap": null,
      "grid_row": null,
      "grid_template_areas": null,
      "grid_template_columns": null,
      "grid_template_rows": null,
      "height": null,
      "justify_content": null,
      "justify_items": null,
      "left": null,
      "margin": null,
      "max_height": null,
      "max_width": null,
      "min_height": null,
      "min_width": null,
      "object_fit": null,
      "object_position": null,
      "order": null,
      "overflow": null,
      "overflow_x": null,
      "overflow_y": null,
      "padding": null,
      "right": null,
      "top": null,
      "visibility": null,
      "width": null
     }
    },
    "9a9728af9dcb4e67a1a006297cd7b74c": {
     "model_module": "@jupyter-widgets/base",
     "model_name": "LayoutModel",
     "state": {
      "_model_module": "@jupyter-widgets/base",
      "_model_module_version": "1.2.0",
      "_model_name": "LayoutModel",
      "_view_count": null,
      "_view_module": "@jupyter-widgets/base",
      "_view_module_version": "1.2.0",
      "_view_name": "LayoutView",
      "align_content": null,
      "align_items": null,
      "align_self": null,
      "border": null,
      "bottom": null,
      "display": null,
      "flex": null,
      "flex_flow": null,
      "grid_area": null,
      "grid_auto_columns": null,
      "grid_auto_flow": null,
      "grid_auto_rows": null,
      "grid_column": null,
      "grid_gap": null,
      "grid_row": null,
      "grid_template_areas": null,
      "grid_template_columns": null,
      "grid_template_rows": null,
      "height": null,
      "justify_content": null,
      "justify_items": null,
      "left": null,
      "margin": null,
      "max_height": null,
      "max_width": null,
      "min_height": null,
      "min_width": null,
      "object_fit": null,
      "object_position": null,
      "order": null,
      "overflow": null,
      "overflow_x": null,
      "overflow_y": null,
      "padding": null,
      "right": null,
      "top": null,
      "visibility": null,
      "width": null
     }
    },
    "9acb641a7ede4dd6b68097dbff290ce1": {
     "model_module": "@jupyter-widgets/base",
     "model_name": "LayoutModel",
     "state": {
      "_model_module": "@jupyter-widgets/base",
      "_model_module_version": "1.2.0",
      "_model_name": "LayoutModel",
      "_view_count": null,
      "_view_module": "@jupyter-widgets/base",
      "_view_module_version": "1.2.0",
      "_view_name": "LayoutView",
      "align_content": null,
      "align_items": null,
      "align_self": null,
      "border": null,
      "bottom": null,
      "display": null,
      "flex": null,
      "flex_flow": null,
      "grid_area": null,
      "grid_auto_columns": null,
      "grid_auto_flow": null,
      "grid_auto_rows": null,
      "grid_column": null,
      "grid_gap": null,
      "grid_row": null,
      "grid_template_areas": null,
      "grid_template_columns": null,
      "grid_template_rows": null,
      "height": null,
      "justify_content": null,
      "justify_items": null,
      "left": null,
      "margin": null,
      "max_height": null,
      "max_width": null,
      "min_height": null,
      "min_width": null,
      "object_fit": null,
      "object_position": null,
      "order": null,
      "overflow": null,
      "overflow_x": null,
      "overflow_y": null,
      "padding": null,
      "right": null,
      "top": null,
      "visibility": null,
      "width": null
     }
    },
    "9d3ae70779e447d0aa495a9872209d38": {
     "model_module": "@jupyter-widgets/base",
     "model_name": "LayoutModel",
     "state": {
      "_model_module": "@jupyter-widgets/base",
      "_model_module_version": "1.2.0",
      "_model_name": "LayoutModel",
      "_view_count": null,
      "_view_module": "@jupyter-widgets/base",
      "_view_module_version": "1.2.0",
      "_view_name": "LayoutView",
      "align_content": null,
      "align_items": null,
      "align_self": null,
      "border": null,
      "bottom": null,
      "display": null,
      "flex": null,
      "flex_flow": null,
      "grid_area": null,
      "grid_auto_columns": null,
      "grid_auto_flow": null,
      "grid_auto_rows": null,
      "grid_column": null,
      "grid_gap": null,
      "grid_row": null,
      "grid_template_areas": null,
      "grid_template_columns": null,
      "grid_template_rows": null,
      "height": null,
      "justify_content": null,
      "justify_items": null,
      "left": null,
      "margin": null,
      "max_height": null,
      "max_width": null,
      "min_height": null,
      "min_width": null,
      "object_fit": null,
      "object_position": null,
      "order": null,
      "overflow": null,
      "overflow_x": null,
      "overflow_y": null,
      "padding": null,
      "right": null,
      "top": null,
      "visibility": null,
      "width": null
     }
    },
    "9e0d68b268384372ae1ec48b6c363b3a": {
     "model_module": "@jupyter-widgets/controls",
     "model_name": "DescriptionStyleModel",
     "state": {
      "_model_module": "@jupyter-widgets/controls",
      "_model_module_version": "1.5.0",
      "_model_name": "DescriptionStyleModel",
      "_view_count": null,
      "_view_module": "@jupyter-widgets/base",
      "_view_module_version": "1.2.0",
      "_view_name": "StyleView",
      "description_width": ""
     }
    },
    "9efdf4e9fd8c42598cced165c426f5bf": {
     "model_module": "@jupyter-widgets/base",
     "model_name": "LayoutModel",
     "state": {
      "_model_module": "@jupyter-widgets/base",
      "_model_module_version": "1.2.0",
      "_model_name": "LayoutModel",
      "_view_count": null,
      "_view_module": "@jupyter-widgets/base",
      "_view_module_version": "1.2.0",
      "_view_name": "LayoutView",
      "align_content": null,
      "align_items": null,
      "align_self": null,
      "border": null,
      "bottom": null,
      "display": null,
      "flex": null,
      "flex_flow": null,
      "grid_area": null,
      "grid_auto_columns": null,
      "grid_auto_flow": null,
      "grid_auto_rows": null,
      "grid_column": null,
      "grid_gap": null,
      "grid_row": null,
      "grid_template_areas": null,
      "grid_template_columns": null,
      "grid_template_rows": null,
      "height": null,
      "justify_content": null,
      "justify_items": null,
      "left": null,
      "margin": null,
      "max_height": null,
      "max_width": null,
      "min_height": null,
      "min_width": null,
      "object_fit": null,
      "object_position": null,
      "order": null,
      "overflow": null,
      "overflow_x": null,
      "overflow_y": null,
      "padding": null,
      "right": null,
      "top": null,
      "visibility": null,
      "width": null
     }
    },
    "a2026ad15de541eebf332cb4ce4e1ad2": {
     "model_module": "@jupyter-widgets/base",
     "model_name": "LayoutModel",
     "state": {
      "_model_module": "@jupyter-widgets/base",
      "_model_module_version": "1.2.0",
      "_model_name": "LayoutModel",
      "_view_count": null,
      "_view_module": "@jupyter-widgets/base",
      "_view_module_version": "1.2.0",
      "_view_name": "LayoutView",
      "align_content": null,
      "align_items": null,
      "align_self": null,
      "border": null,
      "bottom": null,
      "display": null,
      "flex": null,
      "flex_flow": null,
      "grid_area": null,
      "grid_auto_columns": null,
      "grid_auto_flow": null,
      "grid_auto_rows": null,
      "grid_column": null,
      "grid_gap": null,
      "grid_row": null,
      "grid_template_areas": null,
      "grid_template_columns": null,
      "grid_template_rows": null,
      "height": null,
      "justify_content": null,
      "justify_items": null,
      "left": null,
      "margin": null,
      "max_height": null,
      "max_width": null,
      "min_height": null,
      "min_width": null,
      "object_fit": null,
      "object_position": null,
      "order": null,
      "overflow": null,
      "overflow_x": null,
      "overflow_y": null,
      "padding": null,
      "right": null,
      "top": null,
      "visibility": null,
      "width": null
     }
    },
    "a33ce8bb19284323a89a317403263c0d": {
     "model_module": "@jupyter-widgets/controls",
     "model_name": "FloatProgressModel",
     "state": {
      "_dom_classes": [],
      "_model_module": "@jupyter-widgets/controls",
      "_model_module_version": "1.5.0",
      "_model_name": "FloatProgressModel",
      "_view_count": null,
      "_view_module": "@jupyter-widgets/controls",
      "_view_module_version": "1.5.0",
      "_view_name": "ProgressView",
      "bar_style": "success",
      "description": "",
      "description_tooltip": null,
      "layout": "IPY_MODEL_a2026ad15de541eebf332cb4ce4e1ad2",
      "max": 1,
      "min": 0,
      "orientation": "horizontal",
      "style": "IPY_MODEL_b506bbd1464b407980a6ef55a7819828",
      "value": 1
     }
    },
    "a504d4571ae54c97a6fb586051f17b07": {
     "model_module": "@jupyter-widgets/base",
     "model_name": "LayoutModel",
     "state": {
      "_model_module": "@jupyter-widgets/base",
      "_model_module_version": "1.2.0",
      "_model_name": "LayoutModel",
      "_view_count": null,
      "_view_module": "@jupyter-widgets/base",
      "_view_module_version": "1.2.0",
      "_view_name": "LayoutView",
      "align_content": null,
      "align_items": null,
      "align_self": null,
      "border": null,
      "bottom": null,
      "display": null,
      "flex": null,
      "flex_flow": null,
      "grid_area": null,
      "grid_auto_columns": null,
      "grid_auto_flow": null,
      "grid_auto_rows": null,
      "grid_column": null,
      "grid_gap": null,
      "grid_row": null,
      "grid_template_areas": null,
      "grid_template_columns": null,
      "grid_template_rows": null,
      "height": null,
      "justify_content": null,
      "justify_items": null,
      "left": null,
      "margin": null,
      "max_height": null,
      "max_width": null,
      "min_height": null,
      "min_width": null,
      "object_fit": null,
      "object_position": null,
      "order": null,
      "overflow": null,
      "overflow_x": null,
      "overflow_y": null,
      "padding": null,
      "right": null,
      "top": null,
      "visibility": null,
      "width": null
     }
    },
    "a56cd84f576841259aace5b34b0efda7": {
     "model_module": "@jupyter-widgets/controls",
     "model_name": "DescriptionStyleModel",
     "state": {
      "_model_module": "@jupyter-widgets/controls",
      "_model_module_version": "1.5.0",
      "_model_name": "DescriptionStyleModel",
      "_view_count": null,
      "_view_module": "@jupyter-widgets/base",
      "_view_module_version": "1.2.0",
      "_view_name": "StyleView",
      "description_width": ""
     }
    },
    "a633f4726f6a4ba5babb0e0414e6c5e1": {
     "model_module": "@jupyter-widgets/controls",
     "model_name": "HBoxModel",
     "state": {
      "_dom_classes": [],
      "_model_module": "@jupyter-widgets/controls",
      "_model_module_version": "1.5.0",
      "_model_name": "HBoxModel",
      "_view_count": null,
      "_view_module": "@jupyter-widgets/controls",
      "_view_module_version": "1.5.0",
      "_view_name": "HBoxView",
      "box_style": "",
      "children": [
       "IPY_MODEL_58fa30020dc14801a78967796be9df3e",
       "IPY_MODEL_9712936912b84e498783132d111037bf"
      ],
      "layout": "IPY_MODEL_007752d9ce5e47f480ae606afeb2cd16"
     }
    },
    "a637e9d5dda44c3e9c8c3b9154b1b20d": {
     "model_module": "@jupyter-widgets/controls",
     "model_name": "HTMLModel",
     "state": {
      "_dom_classes": [],
      "_model_module": "@jupyter-widgets/controls",
      "_model_module_version": "1.5.0",
      "_model_name": "HTMLModel",
      "_view_count": null,
      "_view_module": "@jupyter-widgets/controls",
      "_view_module_version": "1.5.0",
      "_view_name": "HTMLView",
      "description": "",
      "description_tooltip": null,
      "layout": "IPY_MODEL_200ba008099045719694899c681c2d16",
      "placeholder": "​",
      "style": "IPY_MODEL_87a5e794f5ff408ebbf2a740a7560adb",
      "value": " 150/? [14:12&lt;00:00,  5.68s/it]"
     }
    },
    "a694fbafc40c41e98fe568668e4db732": {
     "model_module": "@jupyter-widgets/controls",
     "model_name": "HTMLModel",
     "state": {
      "_dom_classes": [],
      "_model_module": "@jupyter-widgets/controls",
      "_model_module_version": "1.5.0",
      "_model_name": "HTMLModel",
      "_view_count": null,
      "_view_module": "@jupyter-widgets/controls",
      "_view_module_version": "1.5.0",
      "_view_name": "HTMLView",
      "description": "",
      "description_tooltip": null,
      "layout": "IPY_MODEL_992143ed056d4a23afff16b83c514432",
      "placeholder": "​",
      "style": "IPY_MODEL_dc75ce283dff4270b9c537d4e057d416",
      "value": " 150/? [01:11&lt;00:00,  2.10it/s]"
     }
    },
    "ad0c71bcf6d945098f04025bc52055f9": {
     "model_module": "@jupyter-widgets/base",
     "model_name": "LayoutModel",
     "state": {
      "_model_module": "@jupyter-widgets/base",
      "_model_module_version": "1.2.0",
      "_model_name": "LayoutModel",
      "_view_count": null,
      "_view_module": "@jupyter-widgets/base",
      "_view_module_version": "1.2.0",
      "_view_name": "LayoutView",
      "align_content": null,
      "align_items": null,
      "align_self": null,
      "border": null,
      "bottom": null,
      "display": null,
      "flex": null,
      "flex_flow": null,
      "grid_area": null,
      "grid_auto_columns": null,
      "grid_auto_flow": null,
      "grid_auto_rows": null,
      "grid_column": null,
      "grid_gap": null,
      "grid_row": null,
      "grid_template_areas": null,
      "grid_template_columns": null,
      "grid_template_rows": null,
      "height": null,
      "justify_content": null,
      "justify_items": null,
      "left": null,
      "margin": null,
      "max_height": null,
      "max_width": null,
      "min_height": null,
      "min_width": null,
      "object_fit": null,
      "object_position": null,
      "order": null,
      "overflow": null,
      "overflow_x": null,
      "overflow_y": null,
      "padding": null,
      "right": null,
      "top": null,
      "visibility": null,
      "width": null
     }
    },
    "b506bbd1464b407980a6ef55a7819828": {
     "model_module": "@jupyter-widgets/controls",
     "model_name": "ProgressStyleModel",
     "state": {
      "_model_module": "@jupyter-widgets/controls",
      "_model_module_version": "1.5.0",
      "_model_name": "ProgressStyleModel",
      "_view_count": null,
      "_view_module": "@jupyter-widgets/base",
      "_view_module_version": "1.2.0",
      "_view_name": "StyleView",
      "bar_color": null,
      "description_width": "initial"
     }
    },
    "b986d76f127a48669bfaf9c674079d87": {
     "model_module": "@jupyter-widgets/controls",
     "model_name": "FloatProgressModel",
     "state": {
      "_dom_classes": [],
      "_model_module": "@jupyter-widgets/controls",
      "_model_module_version": "1.5.0",
      "_model_name": "FloatProgressModel",
      "_view_count": null,
      "_view_module": "@jupyter-widgets/controls",
      "_view_module_version": "1.5.0",
      "_view_name": "ProgressView",
      "bar_style": "success",
      "description": "",
      "description_tooltip": null,
      "layout": "IPY_MODEL_4d3bd152e2b14612bdec4f9692d48739",
      "max": 1,
      "min": 0,
      "orientation": "horizontal",
      "style": "IPY_MODEL_6736870c4aa94b20adeed80a00507dce",
      "value": 1
     }
    },
    "c56a3c25a1284582bdfb1ad9e02ccb06": {
     "model_module": "@jupyter-widgets/controls",
     "model_name": "HBoxModel",
     "state": {
      "_dom_classes": [],
      "_model_module": "@jupyter-widgets/controls",
      "_model_module_version": "1.5.0",
      "_model_name": "HBoxModel",
      "_view_count": null,
      "_view_module": "@jupyter-widgets/controls",
      "_view_module_version": "1.5.0",
      "_view_name": "HBoxView",
      "box_style": "",
      "children": [
       "IPY_MODEL_b986d76f127a48669bfaf9c674079d87",
       "IPY_MODEL_e941a8dd61c641c88445eb5497fd2760"
      ],
      "layout": "IPY_MODEL_888804a45395411cb9db622b0e6878cb"
     }
    },
    "c5b5410811de4ab59ff76737f353ce27": {
     "model_module": "@jupyter-widgets/controls",
     "model_name": "HTMLModel",
     "state": {
      "_dom_classes": [],
      "_model_module": "@jupyter-widgets/controls",
      "_model_module_version": "1.5.0",
      "_model_name": "HTMLModel",
      "_view_count": null,
      "_view_module": "@jupyter-widgets/controls",
      "_view_module_version": "1.5.0",
      "_view_name": "HTMLView",
      "description": "",
      "description_tooltip": null,
      "layout": "IPY_MODEL_cd662889ecd24a5fbfbf078039e270a8",
      "placeholder": "​",
      "style": "IPY_MODEL_e8fbc6f859784253a0cf6fe88cc0d9ca",
      "value": " 150/? [01:08&lt;00:00,  2.19it/s]"
     }
    },
    "c7a670342db348f0b703a95438137574": {
     "model_module": "@jupyter-widgets/base",
     "model_name": "LayoutModel",
     "state": {
      "_model_module": "@jupyter-widgets/base",
      "_model_module_version": "1.2.0",
      "_model_name": "LayoutModel",
      "_view_count": null,
      "_view_module": "@jupyter-widgets/base",
      "_view_module_version": "1.2.0",
      "_view_name": "LayoutView",
      "align_content": null,
      "align_items": null,
      "align_self": null,
      "border": null,
      "bottom": null,
      "display": null,
      "flex": null,
      "flex_flow": null,
      "grid_area": null,
      "grid_auto_columns": null,
      "grid_auto_flow": null,
      "grid_auto_rows": null,
      "grid_column": null,
      "grid_gap": null,
      "grid_row": null,
      "grid_template_areas": null,
      "grid_template_columns": null,
      "grid_template_rows": null,
      "height": null,
      "justify_content": null,
      "justify_items": null,
      "left": null,
      "margin": null,
      "max_height": null,
      "max_width": null,
      "min_height": null,
      "min_width": null,
      "object_fit": null,
      "object_position": null,
      "order": null,
      "overflow": null,
      "overflow_x": null,
      "overflow_y": null,
      "padding": null,
      "right": null,
      "top": null,
      "visibility": null,
      "width": null
     }
    },
    "cb47163880b644e99674d508f1407349": {
     "model_module": "@jupyter-widgets/controls",
     "model_name": "HBoxModel",
     "state": {
      "_dom_classes": [],
      "_model_module": "@jupyter-widgets/controls",
      "_model_module_version": "1.5.0",
      "_model_name": "HBoxModel",
      "_view_count": null,
      "_view_module": "@jupyter-widgets/controls",
      "_view_module_version": "1.5.0",
      "_view_name": "HBoxView",
      "box_style": "",
      "children": [
       "IPY_MODEL_6e1089fcff4a4ad19de6fc9dfb87c171",
       "IPY_MODEL_c5b5410811de4ab59ff76737f353ce27"
      ],
      "layout": "IPY_MODEL_e94c000d5060445ca93691f6af42e70c"
     }
    },
    "cd662889ecd24a5fbfbf078039e270a8": {
     "model_module": "@jupyter-widgets/base",
     "model_name": "LayoutModel",
     "state": {
      "_model_module": "@jupyter-widgets/base",
      "_model_module_version": "1.2.0",
      "_model_name": "LayoutModel",
      "_view_count": null,
      "_view_module": "@jupyter-widgets/base",
      "_view_module_version": "1.2.0",
      "_view_name": "LayoutView",
      "align_content": null,
      "align_items": null,
      "align_self": null,
      "border": null,
      "bottom": null,
      "display": null,
      "flex": null,
      "flex_flow": null,
      "grid_area": null,
      "grid_auto_columns": null,
      "grid_auto_flow": null,
      "grid_auto_rows": null,
      "grid_column": null,
      "grid_gap": null,
      "grid_row": null,
      "grid_template_areas": null,
      "grid_template_columns": null,
      "grid_template_rows": null,
      "height": null,
      "justify_content": null,
      "justify_items": null,
      "left": null,
      "margin": null,
      "max_height": null,
      "max_width": null,
      "min_height": null,
      "min_width": null,
      "object_fit": null,
      "object_position": null,
      "order": null,
      "overflow": null,
      "overflow_x": null,
      "overflow_y": null,
      "padding": null,
      "right": null,
      "top": null,
      "visibility": null,
      "width": null
     }
    },
    "ce7dc5c992754af5a545aa408ed67c88": {
     "model_module": "@jupyter-widgets/base",
     "model_name": "LayoutModel",
     "state": {
      "_model_module": "@jupyter-widgets/base",
      "_model_module_version": "1.2.0",
      "_model_name": "LayoutModel",
      "_view_count": null,
      "_view_module": "@jupyter-widgets/base",
      "_view_module_version": "1.2.0",
      "_view_name": "LayoutView",
      "align_content": null,
      "align_items": null,
      "align_self": null,
      "border": null,
      "bottom": null,
      "display": null,
      "flex": null,
      "flex_flow": null,
      "grid_area": null,
      "grid_auto_columns": null,
      "grid_auto_flow": null,
      "grid_auto_rows": null,
      "grid_column": null,
      "grid_gap": null,
      "grid_row": null,
      "grid_template_areas": null,
      "grid_template_columns": null,
      "grid_template_rows": null,
      "height": null,
      "justify_content": null,
      "justify_items": null,
      "left": null,
      "margin": null,
      "max_height": null,
      "max_width": null,
      "min_height": null,
      "min_width": null,
      "object_fit": null,
      "object_position": null,
      "order": null,
      "overflow": null,
      "overflow_x": null,
      "overflow_y": null,
      "padding": null,
      "right": null,
      "top": null,
      "visibility": null,
      "width": null
     }
    },
    "d2a4e7e937804562a63d0191223c0dd0": {
     "model_module": "@jupyter-widgets/controls",
     "model_name": "FloatProgressModel",
     "state": {
      "_dom_classes": [],
      "_model_module": "@jupyter-widgets/controls",
      "_model_module_version": "1.5.0",
      "_model_name": "FloatProgressModel",
      "_view_count": null,
      "_view_module": "@jupyter-widgets/controls",
      "_view_module_version": "1.5.0",
      "_view_name": "ProgressView",
      "bar_style": "success",
      "description": "",
      "description_tooltip": null,
      "layout": "IPY_MODEL_17e87d4a9a974aa6828c5ae0f9e0cf3a",
      "max": 1,
      "min": 0,
      "orientation": "horizontal",
      "style": "IPY_MODEL_d689f347b2e040d186d0353abaa96dd4",
      "value": 1
     }
    },
    "d689f347b2e040d186d0353abaa96dd4": {
     "model_module": "@jupyter-widgets/controls",
     "model_name": "ProgressStyleModel",
     "state": {
      "_model_module": "@jupyter-widgets/controls",
      "_model_module_version": "1.5.0",
      "_model_name": "ProgressStyleModel",
      "_view_count": null,
      "_view_module": "@jupyter-widgets/base",
      "_view_module_version": "1.2.0",
      "_view_name": "StyleView",
      "bar_color": null,
      "description_width": "initial"
     }
    },
    "d9fb635e32cd4ed4bcddf6574de80b1b": {
     "model_module": "@jupyter-widgets/controls",
     "model_name": "FloatProgressModel",
     "state": {
      "_dom_classes": [],
      "_model_module": "@jupyter-widgets/controls",
      "_model_module_version": "1.5.0",
      "_model_name": "FloatProgressModel",
      "_view_count": null,
      "_view_module": "@jupyter-widgets/controls",
      "_view_module_version": "1.5.0",
      "_view_name": "ProgressView",
      "bar_style": "success",
      "description": "",
      "description_tooltip": null,
      "layout": "IPY_MODEL_3353a6712b3a482d8907ca80a0824020",
      "max": 1,
      "min": 0,
      "orientation": "horizontal",
      "style": "IPY_MODEL_273de981090749b29ce385706c449722",
      "value": 1
     }
    },
    "db85fdb064634d80b1904313a3b81ddb": {
     "model_module": "@jupyter-widgets/controls",
     "model_name": "FloatProgressModel",
     "state": {
      "_dom_classes": [],
      "_model_module": "@jupyter-widgets/controls",
      "_model_module_version": "1.5.0",
      "_model_name": "FloatProgressModel",
      "_view_count": null,
      "_view_module": "@jupyter-widgets/controls",
      "_view_module_version": "1.5.0",
      "_view_name": "ProgressView",
      "bar_style": "success",
      "description": "",
      "description_tooltip": null,
      "layout": "IPY_MODEL_9459d0d307814c34aa8a31945a82adb7",
      "max": 1,
      "min": 0,
      "orientation": "horizontal",
      "style": "IPY_MODEL_ed804e9c6fae4499aa3e6fef00f5de44",
      "value": 1
     }
    },
    "dc75ce283dff4270b9c537d4e057d416": {
     "model_module": "@jupyter-widgets/controls",
     "model_name": "DescriptionStyleModel",
     "state": {
      "_model_module": "@jupyter-widgets/controls",
      "_model_module_version": "1.5.0",
      "_model_name": "DescriptionStyleModel",
      "_view_count": null,
      "_view_module": "@jupyter-widgets/base",
      "_view_module_version": "1.2.0",
      "_view_name": "StyleView",
      "description_width": ""
     }
    },
    "dc94b3b543714dd0845fdadca7db22a3": {
     "model_module": "@jupyter-widgets/base",
     "model_name": "LayoutModel",
     "state": {
      "_model_module": "@jupyter-widgets/base",
      "_model_module_version": "1.2.0",
      "_model_name": "LayoutModel",
      "_view_count": null,
      "_view_module": "@jupyter-widgets/base",
      "_view_module_version": "1.2.0",
      "_view_name": "LayoutView",
      "align_content": null,
      "align_items": null,
      "align_self": null,
      "border": null,
      "bottom": null,
      "display": null,
      "flex": null,
      "flex_flow": null,
      "grid_area": null,
      "grid_auto_columns": null,
      "grid_auto_flow": null,
      "grid_auto_rows": null,
      "grid_column": null,
      "grid_gap": null,
      "grid_row": null,
      "grid_template_areas": null,
      "grid_template_columns": null,
      "grid_template_rows": null,
      "height": null,
      "justify_content": null,
      "justify_items": null,
      "left": null,
      "margin": null,
      "max_height": null,
      "max_width": null,
      "min_height": null,
      "min_width": null,
      "object_fit": null,
      "object_position": null,
      "order": null,
      "overflow": null,
      "overflow_x": null,
      "overflow_y": null,
      "padding": null,
      "right": null,
      "top": null,
      "visibility": null,
      "width": null
     }
    },
    "ddd0f5a0f838494daf3d0581081c3e86": {
     "model_module": "@jupyter-widgets/controls",
     "model_name": "HBoxModel",
     "state": {
      "_dom_classes": [],
      "_model_module": "@jupyter-widgets/controls",
      "_model_module_version": "1.5.0",
      "_model_name": "HBoxModel",
      "_view_count": null,
      "_view_module": "@jupyter-widgets/controls",
      "_view_module_version": "1.5.0",
      "_view_name": "HBoxView",
      "box_style": "",
      "children": [
       "IPY_MODEL_f842c10d414f41c6846c1dc74200f301",
       "IPY_MODEL_a694fbafc40c41e98fe568668e4db732"
      ],
      "layout": "IPY_MODEL_3856954e8b1e47a08fce9fff7a038027"
     }
    },
    "ddf41c306dc441eb85beb6ea7bfbfedd": {
     "model_module": "@jupyter-widgets/base",
     "model_name": "LayoutModel",
     "state": {
      "_model_module": "@jupyter-widgets/base",
      "_model_module_version": "1.2.0",
      "_model_name": "LayoutModel",
      "_view_count": null,
      "_view_module": "@jupyter-widgets/base",
      "_view_module_version": "1.2.0",
      "_view_name": "LayoutView",
      "align_content": null,
      "align_items": null,
      "align_self": null,
      "border": null,
      "bottom": null,
      "display": null,
      "flex": null,
      "flex_flow": null,
      "grid_area": null,
      "grid_auto_columns": null,
      "grid_auto_flow": null,
      "grid_auto_rows": null,
      "grid_column": null,
      "grid_gap": null,
      "grid_row": null,
      "grid_template_areas": null,
      "grid_template_columns": null,
      "grid_template_rows": null,
      "height": null,
      "justify_content": null,
      "justify_items": null,
      "left": null,
      "margin": null,
      "max_height": null,
      "max_width": null,
      "min_height": null,
      "min_width": null,
      "object_fit": null,
      "object_position": null,
      "order": null,
      "overflow": null,
      "overflow_x": null,
      "overflow_y": null,
      "padding": null,
      "right": null,
      "top": null,
      "visibility": null,
      "width": null
     }
    },
    "dffe3b78e72e4c309bda155884c2c7a7": {
     "model_module": "@jupyter-widgets/controls",
     "model_name": "HBoxModel",
     "state": {
      "_dom_classes": [],
      "_model_module": "@jupyter-widgets/controls",
      "_model_module_version": "1.5.0",
      "_model_name": "HBoxModel",
      "_view_count": null,
      "_view_module": "@jupyter-widgets/controls",
      "_view_module_version": "1.5.0",
      "_view_name": "HBoxView",
      "box_style": "",
      "children": [
       "IPY_MODEL_d9fb635e32cd4ed4bcddf6574de80b1b",
       "IPY_MODEL_1523672396354424b0658ce14786fbd2"
      ],
      "layout": "IPY_MODEL_00632d7b23cc45f59515669601334fcd"
     }
    },
    "e2be21b2cc584489b535309b9c8904e3": {
     "model_module": "@jupyter-widgets/controls",
     "model_name": "FloatProgressModel",
     "state": {
      "_dom_classes": [],
      "_model_module": "@jupyter-widgets/controls",
      "_model_module_version": "1.5.0",
      "_model_name": "FloatProgressModel",
      "_view_count": null,
      "_view_module": "@jupyter-widgets/controls",
      "_view_module_version": "1.5.0",
      "_view_name": "ProgressView",
      "bar_style": "success",
      "description": "",
      "description_tooltip": null,
      "layout": "IPY_MODEL_fca884b72b1946cd8403edac7d41924e",
      "max": 1,
      "min": 0,
      "orientation": "horizontal",
      "style": "IPY_MODEL_8503f63352114056ace6ee5662d746da",
      "value": 1
     }
    },
    "e595378941654a4dbe560a646dc52272": {
     "model_module": "@jupyter-widgets/base",
     "model_name": "LayoutModel",
     "state": {
      "_model_module": "@jupyter-widgets/base",
      "_model_module_version": "1.2.0",
      "_model_name": "LayoutModel",
      "_view_count": null,
      "_view_module": "@jupyter-widgets/base",
      "_view_module_version": "1.2.0",
      "_view_name": "LayoutView",
      "align_content": null,
      "align_items": null,
      "align_self": null,
      "border": null,
      "bottom": null,
      "display": null,
      "flex": null,
      "flex_flow": null,
      "grid_area": null,
      "grid_auto_columns": null,
      "grid_auto_flow": null,
      "grid_auto_rows": null,
      "grid_column": null,
      "grid_gap": null,
      "grid_row": null,
      "grid_template_areas": null,
      "grid_template_columns": null,
      "grid_template_rows": null,
      "height": null,
      "justify_content": null,
      "justify_items": null,
      "left": null,
      "margin": null,
      "max_height": null,
      "max_width": null,
      "min_height": null,
      "min_width": null,
      "object_fit": null,
      "object_position": null,
      "order": null,
      "overflow": null,
      "overflow_x": null,
      "overflow_y": null,
      "padding": null,
      "right": null,
      "top": null,
      "visibility": null,
      "width": null
     }
    },
    "e7ccb000bd83423fb4693a908c638ddb": {
     "model_module": "@jupyter-widgets/controls",
     "model_name": "ProgressStyleModel",
     "state": {
      "_model_module": "@jupyter-widgets/controls",
      "_model_module_version": "1.5.0",
      "_model_name": "ProgressStyleModel",
      "_view_count": null,
      "_view_module": "@jupyter-widgets/base",
      "_view_module_version": "1.2.0",
      "_view_name": "StyleView",
      "bar_color": null,
      "description_width": "initial"
     }
    },
    "e7fc29feb6d3404d83c1e455602d5c1b": {
     "model_module": "@jupyter-widgets/controls",
     "model_name": "HBoxModel",
     "state": {
      "_dom_classes": [],
      "_model_module": "@jupyter-widgets/controls",
      "_model_module_version": "1.5.0",
      "_model_name": "HBoxModel",
      "_view_count": null,
      "_view_module": "@jupyter-widgets/controls",
      "_view_module_version": "1.5.0",
      "_view_name": "HBoxView",
      "box_style": "",
      "children": [
       "IPY_MODEL_2d2b6b3effa34b809c30379c42c3c861",
       "IPY_MODEL_f46251823d4f4d219bffc095047f8867"
      ],
      "layout": "IPY_MODEL_ddf41c306dc441eb85beb6ea7bfbfedd"
     }
    },
    "e8fbc6f859784253a0cf6fe88cc0d9ca": {
     "model_module": "@jupyter-widgets/controls",
     "model_name": "DescriptionStyleModel",
     "state": {
      "_model_module": "@jupyter-widgets/controls",
      "_model_module_version": "1.5.0",
      "_model_name": "DescriptionStyleModel",
      "_view_count": null,
      "_view_module": "@jupyter-widgets/base",
      "_view_module_version": "1.2.0",
      "_view_name": "StyleView",
      "description_width": ""
     }
    },
    "e941a8dd61c641c88445eb5497fd2760": {
     "model_module": "@jupyter-widgets/controls",
     "model_name": "HTMLModel",
     "state": {
      "_dom_classes": [],
      "_model_module": "@jupyter-widgets/controls",
      "_model_module_version": "1.5.0",
      "_model_name": "HTMLModel",
      "_view_count": null,
      "_view_module": "@jupyter-widgets/controls",
      "_view_module_version": "1.5.0",
      "_view_name": "HTMLView",
      "description": "",
      "description_tooltip": null,
      "layout": "IPY_MODEL_ce7dc5c992754af5a545aa408ed67c88",
      "placeholder": "​",
      "style": "IPY_MODEL_63ff13ee95f64beea555e0660be15eec",
      "value": " 150/? [01:09&lt;00:00,  2.17it/s]"
     }
    },
    "e94b124aaf674431b6e424b9c6c1da87": {
     "model_module": "@jupyter-widgets/controls",
     "model_name": "DescriptionStyleModel",
     "state": {
      "_model_module": "@jupyter-widgets/controls",
      "_model_module_version": "1.5.0",
      "_model_name": "DescriptionStyleModel",
      "_view_count": null,
      "_view_module": "@jupyter-widgets/base",
      "_view_module_version": "1.2.0",
      "_view_name": "StyleView",
      "description_width": ""
     }
    },
    "e94c000d5060445ca93691f6af42e70c": {
     "model_module": "@jupyter-widgets/base",
     "model_name": "LayoutModel",
     "state": {
      "_model_module": "@jupyter-widgets/base",
      "_model_module_version": "1.2.0",
      "_model_name": "LayoutModel",
      "_view_count": null,
      "_view_module": "@jupyter-widgets/base",
      "_view_module_version": "1.2.0",
      "_view_name": "LayoutView",
      "align_content": null,
      "align_items": null,
      "align_self": null,
      "border": null,
      "bottom": null,
      "display": null,
      "flex": null,
      "flex_flow": null,
      "grid_area": null,
      "grid_auto_columns": null,
      "grid_auto_flow": null,
      "grid_auto_rows": null,
      "grid_column": null,
      "grid_gap": null,
      "grid_row": null,
      "grid_template_areas": null,
      "grid_template_columns": null,
      "grid_template_rows": null,
      "height": null,
      "justify_content": null,
      "justify_items": null,
      "left": null,
      "margin": null,
      "max_height": null,
      "max_width": null,
      "min_height": null,
      "min_width": null,
      "object_fit": null,
      "object_position": null,
      "order": null,
      "overflow": null,
      "overflow_x": null,
      "overflow_y": null,
      "padding": null,
      "right": null,
      "top": null,
      "visibility": null,
      "width": null
     }
    },
    "ed804e9c6fae4499aa3e6fef00f5de44": {
     "model_module": "@jupyter-widgets/controls",
     "model_name": "ProgressStyleModel",
     "state": {
      "_model_module": "@jupyter-widgets/controls",
      "_model_module_version": "1.5.0",
      "_model_name": "ProgressStyleModel",
      "_view_count": null,
      "_view_module": "@jupyter-widgets/base",
      "_view_module_version": "1.2.0",
      "_view_name": "StyleView",
      "bar_color": null,
      "description_width": "initial"
     }
    },
    "f1010194505c44b588ba44a39e4afd9f": {
     "model_module": "@jupyter-widgets/controls",
     "model_name": "DescriptionStyleModel",
     "state": {
      "_model_module": "@jupyter-widgets/controls",
      "_model_module_version": "1.5.0",
      "_model_name": "DescriptionStyleModel",
      "_view_count": null,
      "_view_module": "@jupyter-widgets/base",
      "_view_module_version": "1.2.0",
      "_view_name": "StyleView",
      "description_width": ""
     }
    },
    "f46251823d4f4d219bffc095047f8867": {
     "model_module": "@jupyter-widgets/controls",
     "model_name": "HTMLModel",
     "state": {
      "_dom_classes": [],
      "_model_module": "@jupyter-widgets/controls",
      "_model_module_version": "1.5.0",
      "_model_name": "HTMLModel",
      "_view_count": null,
      "_view_module": "@jupyter-widgets/controls",
      "_view_module_version": "1.5.0",
      "_view_name": "HTMLView",
      "description": "",
      "description_tooltip": null,
      "layout": "IPY_MODEL_9d3ae70779e447d0aa495a9872209d38",
      "placeholder": "​",
      "style": "IPY_MODEL_04619e3db74847f5b637c7d2b1d5b8b8",
      "value": " 150/? [14:12&lt;00:00,  5.68s/it]"
     }
    },
    "f7dd810e69fa4f1f91acaec17fb8c64a": {
     "model_module": "@jupyter-widgets/controls",
     "model_name": "HTMLModel",
     "state": {
      "_dom_classes": [],
      "_model_module": "@jupyter-widgets/controls",
      "_model_module_version": "1.5.0",
      "_model_name": "HTMLModel",
      "_view_count": null,
      "_view_module": "@jupyter-widgets/controls",
      "_view_module_version": "1.5.0",
      "_view_name": "HTMLView",
      "description": "",
      "description_tooltip": null,
      "layout": "IPY_MODEL_940db33506ef463788996553c4bf5f74",
      "placeholder": "​",
      "style": "IPY_MODEL_268c4187cfc9490bacfa1eafe1fbcca1",
      "value": " 150/? [42:34&lt;00:00, 17.03s/it]"
     }
    },
    "f842c10d414f41c6846c1dc74200f301": {
     "model_module": "@jupyter-widgets/controls",
     "model_name": "FloatProgressModel",
     "state": {
      "_dom_classes": [],
      "_model_module": "@jupyter-widgets/controls",
      "_model_module_version": "1.5.0",
      "_model_name": "FloatProgressModel",
      "_view_count": null,
      "_view_module": "@jupyter-widgets/controls",
      "_view_module_version": "1.5.0",
      "_view_name": "ProgressView",
      "bar_style": "success",
      "description": "",
      "description_tooltip": null,
      "layout": "IPY_MODEL_4800749f8151430c8cc49570cd4ccaf7",
      "max": 1,
      "min": 0,
      "orientation": "horizontal",
      "style": "IPY_MODEL_8365405f8a1c4d178b5ab5cd9d905e32",
      "value": 1
     }
    },
    "fb5c1e7223ac4634a16c161784505836": {
     "model_module": "@jupyter-widgets/controls",
     "model_name": "HBoxModel",
     "state": {
      "_dom_classes": [],
      "_model_module": "@jupyter-widgets/controls",
      "_model_module_version": "1.5.0",
      "_model_name": "HBoxModel",
      "_view_count": null,
      "_view_module": "@jupyter-widgets/controls",
      "_view_module_version": "1.5.0",
      "_view_name": "HBoxView",
      "box_style": "",
      "children": [
       "IPY_MODEL_471a09375e984a31824b27e279a6c4f3",
       "IPY_MODEL_27deb6f565ac4447a44770288071a0b8"
      ],
      "layout": "IPY_MODEL_7475bb3748de434eae59ef85715514da"
     }
    },
    "fca884b72b1946cd8403edac7d41924e": {
     "model_module": "@jupyter-widgets/base",
     "model_name": "LayoutModel",
     "state": {
      "_model_module": "@jupyter-widgets/base",
      "_model_module_version": "1.2.0",
      "_model_name": "LayoutModel",
      "_view_count": null,
      "_view_module": "@jupyter-widgets/base",
      "_view_module_version": "1.2.0",
      "_view_name": "LayoutView",
      "align_content": null,
      "align_items": null,
      "align_self": null,
      "border": null,
      "bottom": null,
      "display": null,
      "flex": null,
      "flex_flow": null,
      "grid_area": null,
      "grid_auto_columns": null,
      "grid_auto_flow": null,
      "grid_auto_rows": null,
      "grid_column": null,
      "grid_gap": null,
      "grid_row": null,
      "grid_template_areas": null,
      "grid_template_columns": null,
      "grid_template_rows": null,
      "height": null,
      "justify_content": null,
      "justify_items": null,
      "left": null,
      "margin": null,
      "max_height": null,
      "max_width": null,
      "min_height": null,
      "min_width": null,
      "object_fit": null,
      "object_position": null,
      "order": null,
      "overflow": null,
      "overflow_x": null,
      "overflow_y": null,
      "padding": null,
      "right": null,
      "top": null,
      "visibility": null,
      "width": null
     }
    },
    "ffc60b07ad704ea2afc0ac2c79c10c11": {
     "model_module": "@jupyter-widgets/controls",
     "model_name": "DescriptionStyleModel",
     "state": {
      "_model_module": "@jupyter-widgets/controls",
      "_model_module_version": "1.5.0",
      "_model_name": "DescriptionStyleModel",
      "_view_count": null,
      "_view_module": "@jupyter-widgets/base",
      "_view_module_version": "1.2.0",
      "_view_name": "StyleView",
      "description_width": ""
     }
    }
   }
  }
 },
 "nbformat": 4,
 "nbformat_minor": 4
}
