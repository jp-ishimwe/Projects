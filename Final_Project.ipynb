{
  "nbformat": 4,
  "nbformat_minor": 0,
  "metadata": {
    "accelerator": "GPU",
    "colab": {
      "name": "Final_Project",
      "provenance": [],
      "collapsed_sections": [],
      "toc_visible": true,
      "include_colab_link": true
    },
    "environment": {
      "name": "pytorch-gpu.1-4.m49",
      "type": "gcloud",
      "uri": "gcr.io/deeplearning-platform-release/pytorch-gpu.1-4:m49"
    },
    "kernelspec": {
      "display_name": "Python 3",
      "language": "python",
      "name": "python3"
    },
    "language_info": {
      "codemirror_mode": {
        "name": "ipython",
        "version": 3
      },
      "file_extension": ".py",
      "mimetype": "text/x-python",
      "name": "python",
      "nbconvert_exporter": "python",
      "pygments_lexer": "ipython3",
      "version": "3.6.9"
    },
    "widgets": {
      "application/vnd.jupyter.widget-state+json": {
        "cb47163880b644e99674d508f1407349": {
          "model_module": "@jupyter-widgets/controls",
          "model_name": "HBoxModel",
          "state": {
            "_dom_classes": [],
            "_model_module": "@jupyter-widgets/controls",
            "_model_module_version": "1.5.0",
            "_model_name": "HBoxModel",
            "_view_count": null,
            "_view_module": "@jupyter-widgets/controls",
            "_view_module_version": "1.5.0",
            "_view_name": "HBoxView",
            "box_style": "",
            "children": [
              "IPY_MODEL_6e1089fcff4a4ad19de6fc9dfb87c171",
              "IPY_MODEL_c5b5410811de4ab59ff76737f353ce27"
            ],
            "layout": "IPY_MODEL_e94c000d5060445ca93691f6af42e70c"
          }
        },
        "e94c000d5060445ca93691f6af42e70c": {
          "model_module": "@jupyter-widgets/base",
          "model_name": "LayoutModel",
          "state": {
            "_model_module": "@jupyter-widgets/base",
            "_model_module_version": "1.2.0",
            "_model_name": "LayoutModel",
            "_view_count": null,
            "_view_module": "@jupyter-widgets/base",
            "_view_module_version": "1.2.0",
            "_view_name": "LayoutView",
            "align_content": null,
            "align_items": null,
            "align_self": null,
            "border": null,
            "bottom": null,
            "display": null,
            "flex": null,
            "flex_flow": null,
            "grid_area": null,
            "grid_auto_columns": null,
            "grid_auto_flow": null,
            "grid_auto_rows": null,
            "grid_column": null,
            "grid_gap": null,
            "grid_row": null,
            "grid_template_areas": null,
            "grid_template_columns": null,
            "grid_template_rows": null,
            "height": null,
            "justify_content": null,
            "justify_items": null,
            "left": null,
            "margin": null,
            "max_height": null,
            "max_width": null,
            "min_height": null,
            "min_width": null,
            "object_fit": null,
            "object_position": null,
            "order": null,
            "overflow": null,
            "overflow_x": null,
            "overflow_y": null,
            "padding": null,
            "right": null,
            "top": null,
            "visibility": null,
            "width": null
          }
        },
        "6e1089fcff4a4ad19de6fc9dfb87c171": {
          "model_module": "@jupyter-widgets/controls",
          "model_name": "FloatProgressModel",
          "state": {
            "_dom_classes": [],
            "_model_module": "@jupyter-widgets/controls",
            "_model_module_version": "1.5.0",
            "_model_name": "FloatProgressModel",
            "_view_count": null,
            "_view_module": "@jupyter-widgets/controls",
            "_view_module_version": "1.5.0",
            "_view_name": "ProgressView",
            "bar_style": "success",
            "description": "",
            "description_tooltip": null,
            "layout": "IPY_MODEL_0551f8a91cb547948703416f5c200c93",
            "max": 1,
            "min": 0,
            "orientation": "horizontal",
            "style": "IPY_MODEL_2f28dc0b45cc4b30acb85fecdc128397",
            "value": 1
          }
        },
        "c5b5410811de4ab59ff76737f353ce27": {
          "model_module": "@jupyter-widgets/controls",
          "model_name": "HTMLModel",
          "state": {
            "_dom_classes": [],
            "_model_module": "@jupyter-widgets/controls",
            "_model_module_version": "1.5.0",
            "_model_name": "HTMLModel",
            "_view_count": null,
            "_view_module": "@jupyter-widgets/controls",
            "_view_module_version": "1.5.0",
            "_view_name": "HTMLView",
            "description": "",
            "description_tooltip": null,
            "layout": "IPY_MODEL_cd662889ecd24a5fbfbf078039e270a8",
            "placeholder": "​",
            "style": "IPY_MODEL_e8fbc6f859784253a0cf6fe88cc0d9ca",
            "value": " 150/? [01:08&lt;00:00,  2.19it/s]"
          }
        },
        "2f28dc0b45cc4b30acb85fecdc128397": {
          "model_module": "@jupyter-widgets/controls",
          "model_name": "ProgressStyleModel",
          "state": {
            "_model_module": "@jupyter-widgets/controls",
            "_model_module_version": "1.5.0",
            "_model_name": "ProgressStyleModel",
            "_view_count": null,
            "_view_module": "@jupyter-widgets/base",
            "_view_module_version": "1.2.0",
            "_view_name": "StyleView",
            "bar_color": null,
            "description_width": "initial"
          }
        },
        "0551f8a91cb547948703416f5c200c93": {
          "model_module": "@jupyter-widgets/base",
          "model_name": "LayoutModel",
          "state": {
            "_model_module": "@jupyter-widgets/base",
            "_model_module_version": "1.2.0",
            "_model_name": "LayoutModel",
            "_view_count": null,
            "_view_module": "@jupyter-widgets/base",
            "_view_module_version": "1.2.0",
            "_view_name": "LayoutView",
            "align_content": null,
            "align_items": null,
            "align_self": null,
            "border": null,
            "bottom": null,
            "display": null,
            "flex": null,
            "flex_flow": null,
            "grid_area": null,
            "grid_auto_columns": null,
            "grid_auto_flow": null,
            "grid_auto_rows": null,
            "grid_column": null,
            "grid_gap": null,
            "grid_row": null,
            "grid_template_areas": null,
            "grid_template_columns": null,
            "grid_template_rows": null,
            "height": null,
            "justify_content": null,
            "justify_items": null,
            "left": null,
            "margin": null,
            "max_height": null,
            "max_width": null,
            "min_height": null,
            "min_width": null,
            "object_fit": null,
            "object_position": null,
            "order": null,
            "overflow": null,
            "overflow_x": null,
            "overflow_y": null,
            "padding": null,
            "right": null,
            "top": null,
            "visibility": null,
            "width": null
          }
        },
        "e8fbc6f859784253a0cf6fe88cc0d9ca": {
          "model_module": "@jupyter-widgets/controls",
          "model_name": "DescriptionStyleModel",
          "state": {
            "_model_module": "@jupyter-widgets/controls",
            "_model_module_version": "1.5.0",
            "_model_name": "DescriptionStyleModel",
            "_view_count": null,
            "_view_module": "@jupyter-widgets/base",
            "_view_module_version": "1.2.0",
            "_view_name": "StyleView",
            "description_width": ""
          }
        },
        "cd662889ecd24a5fbfbf078039e270a8": {
          "model_module": "@jupyter-widgets/base",
          "model_name": "LayoutModel",
          "state": {
            "_model_module": "@jupyter-widgets/base",
            "_model_module_version": "1.2.0",
            "_model_name": "LayoutModel",
            "_view_count": null,
            "_view_module": "@jupyter-widgets/base",
            "_view_module_version": "1.2.0",
            "_view_name": "LayoutView",
            "align_content": null,
            "align_items": null,
            "align_self": null,
            "border": null,
            "bottom": null,
            "display": null,
            "flex": null,
            "flex_flow": null,
            "grid_area": null,
            "grid_auto_columns": null,
            "grid_auto_flow": null,
            "grid_auto_rows": null,
            "grid_column": null,
            "grid_gap": null,
            "grid_row": null,
            "grid_template_areas": null,
            "grid_template_columns": null,
            "grid_template_rows": null,
            "height": null,
            "justify_content": null,
            "justify_items": null,
            "left": null,
            "margin": null,
            "max_height": null,
            "max_width": null,
            "min_height": null,
            "min_width": null,
            "object_fit": null,
            "object_position": null,
            "order": null,
            "overflow": null,
            "overflow_x": null,
            "overflow_y": null,
            "padding": null,
            "right": null,
            "top": null,
            "visibility": null,
            "width": null
          }
        },
        "ddd0f5a0f838494daf3d0581081c3e86": {
          "model_module": "@jupyter-widgets/controls",
          "model_name": "HBoxModel",
          "state": {
            "_dom_classes": [],
            "_model_module": "@jupyter-widgets/controls",
            "_model_module_version": "1.5.0",
            "_model_name": "HBoxModel",
            "_view_count": null,
            "_view_module": "@jupyter-widgets/controls",
            "_view_module_version": "1.5.0",
            "_view_name": "HBoxView",
            "box_style": "",
            "children": [
              "IPY_MODEL_f842c10d414f41c6846c1dc74200f301",
              "IPY_MODEL_a694fbafc40c41e98fe568668e4db732"
            ],
            "layout": "IPY_MODEL_3856954e8b1e47a08fce9fff7a038027"
          }
        },
        "3856954e8b1e47a08fce9fff7a038027": {
          "model_module": "@jupyter-widgets/base",
          "model_name": "LayoutModel",
          "state": {
            "_model_module": "@jupyter-widgets/base",
            "_model_module_version": "1.2.0",
            "_model_name": "LayoutModel",
            "_view_count": null,
            "_view_module": "@jupyter-widgets/base",
            "_view_module_version": "1.2.0",
            "_view_name": "LayoutView",
            "align_content": null,
            "align_items": null,
            "align_self": null,
            "border": null,
            "bottom": null,
            "display": null,
            "flex": null,
            "flex_flow": null,
            "grid_area": null,
            "grid_auto_columns": null,
            "grid_auto_flow": null,
            "grid_auto_rows": null,
            "grid_column": null,
            "grid_gap": null,
            "grid_row": null,
            "grid_template_areas": null,
            "grid_template_columns": null,
            "grid_template_rows": null,
            "height": null,
            "justify_content": null,
            "justify_items": null,
            "left": null,
            "margin": null,
            "max_height": null,
            "max_width": null,
            "min_height": null,
            "min_width": null,
            "object_fit": null,
            "object_position": null,
            "order": null,
            "overflow": null,
            "overflow_x": null,
            "overflow_y": null,
            "padding": null,
            "right": null,
            "top": null,
            "visibility": null,
            "width": null
          }
        },
        "f842c10d414f41c6846c1dc74200f301": {
          "model_module": "@jupyter-widgets/controls",
          "model_name": "FloatProgressModel",
          "state": {
            "_dom_classes": [],
            "_model_module": "@jupyter-widgets/controls",
            "_model_module_version": "1.5.0",
            "_model_name": "FloatProgressModel",
            "_view_count": null,
            "_view_module": "@jupyter-widgets/controls",
            "_view_module_version": "1.5.0",
            "_view_name": "ProgressView",
            "bar_style": "success",
            "description": "",
            "description_tooltip": null,
            "layout": "IPY_MODEL_4800749f8151430c8cc49570cd4ccaf7",
            "max": 1,
            "min": 0,
            "orientation": "horizontal",
            "style": "IPY_MODEL_8365405f8a1c4d178b5ab5cd9d905e32",
            "value": 1
          }
        },
        "a694fbafc40c41e98fe568668e4db732": {
          "model_module": "@jupyter-widgets/controls",
          "model_name": "HTMLModel",
          "state": {
            "_dom_classes": [],
            "_model_module": "@jupyter-widgets/controls",
            "_model_module_version": "1.5.0",
            "_model_name": "HTMLModel",
            "_view_count": null,
            "_view_module": "@jupyter-widgets/controls",
            "_view_module_version": "1.5.0",
            "_view_name": "HTMLView",
            "description": "",
            "description_tooltip": null,
            "layout": "IPY_MODEL_992143ed056d4a23afff16b83c514432",
            "placeholder": "​",
            "style": "IPY_MODEL_dc75ce283dff4270b9c537d4e057d416",
            "value": " 150/? [01:11&lt;00:00,  2.10it/s]"
          }
        },
        "8365405f8a1c4d178b5ab5cd9d905e32": {
          "model_module": "@jupyter-widgets/controls",
          "model_name": "ProgressStyleModel",
          "state": {
            "_model_module": "@jupyter-widgets/controls",
            "_model_module_version": "1.5.0",
            "_model_name": "ProgressStyleModel",
            "_view_count": null,
            "_view_module": "@jupyter-widgets/base",
            "_view_module_version": "1.2.0",
            "_view_name": "StyleView",
            "bar_color": null,
            "description_width": "initial"
          }
        },
        "4800749f8151430c8cc49570cd4ccaf7": {
          "model_module": "@jupyter-widgets/base",
          "model_name": "LayoutModel",
          "state": {
            "_model_module": "@jupyter-widgets/base",
            "_model_module_version": "1.2.0",
            "_model_name": "LayoutModel",
            "_view_count": null,
            "_view_module": "@jupyter-widgets/base",
            "_view_module_version": "1.2.0",
            "_view_name": "LayoutView",
            "align_content": null,
            "align_items": null,
            "align_self": null,
            "border": null,
            "bottom": null,
            "display": null,
            "flex": null,
            "flex_flow": null,
            "grid_area": null,
            "grid_auto_columns": null,
            "grid_auto_flow": null,
            "grid_auto_rows": null,
            "grid_column": null,
            "grid_gap": null,
            "grid_row": null,
            "grid_template_areas": null,
            "grid_template_columns": null,
            "grid_template_rows": null,
            "height": null,
            "justify_content": null,
            "justify_items": null,
            "left": null,
            "margin": null,
            "max_height": null,
            "max_width": null,
            "min_height": null,
            "min_width": null,
            "object_fit": null,
            "object_position": null,
            "order": null,
            "overflow": null,
            "overflow_x": null,
            "overflow_y": null,
            "padding": null,
            "right": null,
            "top": null,
            "visibility": null,
            "width": null
          }
        },
        "dc75ce283dff4270b9c537d4e057d416": {
          "model_module": "@jupyter-widgets/controls",
          "model_name": "DescriptionStyleModel",
          "state": {
            "_model_module": "@jupyter-widgets/controls",
            "_model_module_version": "1.5.0",
            "_model_name": "DescriptionStyleModel",
            "_view_count": null,
            "_view_module": "@jupyter-widgets/base",
            "_view_module_version": "1.2.0",
            "_view_name": "StyleView",
            "description_width": ""
          }
        },
        "992143ed056d4a23afff16b83c514432": {
          "model_module": "@jupyter-widgets/base",
          "model_name": "LayoutModel",
          "state": {
            "_model_module": "@jupyter-widgets/base",
            "_model_module_version": "1.2.0",
            "_model_name": "LayoutModel",
            "_view_count": null,
            "_view_module": "@jupyter-widgets/base",
            "_view_module_version": "1.2.0",
            "_view_name": "LayoutView",
            "align_content": null,
            "align_items": null,
            "align_self": null,
            "border": null,
            "bottom": null,
            "display": null,
            "flex": null,
            "flex_flow": null,
            "grid_area": null,
            "grid_auto_columns": null,
            "grid_auto_flow": null,
            "grid_auto_rows": null,
            "grid_column": null,
            "grid_gap": null,
            "grid_row": null,
            "grid_template_areas": null,
            "grid_template_columns": null,
            "grid_template_rows": null,
            "height": null,
            "justify_content": null,
            "justify_items": null,
            "left": null,
            "margin": null,
            "max_height": null,
            "max_width": null,
            "min_height": null,
            "min_width": null,
            "object_fit": null,
            "object_position": null,
            "order": null,
            "overflow": null,
            "overflow_x": null,
            "overflow_y": null,
            "padding": null,
            "right": null,
            "top": null,
            "visibility": null,
            "width": null
          }
        },
        "dffe3b78e72e4c309bda155884c2c7a7": {
          "model_module": "@jupyter-widgets/controls",
          "model_name": "HBoxModel",
          "state": {
            "_dom_classes": [],
            "_model_module": "@jupyter-widgets/controls",
            "_model_module_version": "1.5.0",
            "_model_name": "HBoxModel",
            "_view_count": null,
            "_view_module": "@jupyter-widgets/controls",
            "_view_module_version": "1.5.0",
            "_view_name": "HBoxView",
            "box_style": "",
            "children": [
              "IPY_MODEL_d9fb635e32cd4ed4bcddf6574de80b1b",
              "IPY_MODEL_1523672396354424b0658ce14786fbd2"
            ],
            "layout": "IPY_MODEL_00632d7b23cc45f59515669601334fcd"
          }
        },
        "00632d7b23cc45f59515669601334fcd": {
          "model_module": "@jupyter-widgets/base",
          "model_name": "LayoutModel",
          "state": {
            "_model_module": "@jupyter-widgets/base",
            "_model_module_version": "1.2.0",
            "_model_name": "LayoutModel",
            "_view_count": null,
            "_view_module": "@jupyter-widgets/base",
            "_view_module_version": "1.2.0",
            "_view_name": "LayoutView",
            "align_content": null,
            "align_items": null,
            "align_self": null,
            "border": null,
            "bottom": null,
            "display": null,
            "flex": null,
            "flex_flow": null,
            "grid_area": null,
            "grid_auto_columns": null,
            "grid_auto_flow": null,
            "grid_auto_rows": null,
            "grid_column": null,
            "grid_gap": null,
            "grid_row": null,
            "grid_template_areas": null,
            "grid_template_columns": null,
            "grid_template_rows": null,
            "height": null,
            "justify_content": null,
            "justify_items": null,
            "left": null,
            "margin": null,
            "max_height": null,
            "max_width": null,
            "min_height": null,
            "min_width": null,
            "object_fit": null,
            "object_position": null,
            "order": null,
            "overflow": null,
            "overflow_x": null,
            "overflow_y": null,
            "padding": null,
            "right": null,
            "top": null,
            "visibility": null,
            "width": null
          }
        },
        "d9fb635e32cd4ed4bcddf6574de80b1b": {
          "model_module": "@jupyter-widgets/controls",
          "model_name": "FloatProgressModel",
          "state": {
            "_dom_classes": [],
            "_model_module": "@jupyter-widgets/controls",
            "_model_module_version": "1.5.0",
            "_model_name": "FloatProgressModel",
            "_view_count": null,
            "_view_module": "@jupyter-widgets/controls",
            "_view_module_version": "1.5.0",
            "_view_name": "ProgressView",
            "bar_style": "success",
            "description": "",
            "description_tooltip": null,
            "layout": "IPY_MODEL_3353a6712b3a482d8907ca80a0824020",
            "max": 1,
            "min": 0,
            "orientation": "horizontal",
            "style": "IPY_MODEL_273de981090749b29ce385706c449722",
            "value": 1
          }
        },
        "1523672396354424b0658ce14786fbd2": {
          "model_module": "@jupyter-widgets/controls",
          "model_name": "HTMLModel",
          "state": {
            "_dom_classes": [],
            "_model_module": "@jupyter-widgets/controls",
            "_model_module_version": "1.5.0",
            "_model_name": "HTMLModel",
            "_view_count": null,
            "_view_module": "@jupyter-widgets/controls",
            "_view_module_version": "1.5.0",
            "_view_name": "HTMLView",
            "description": "",
            "description_tooltip": null,
            "layout": "IPY_MODEL_864cb033af344f22b288a320088ec71c",
            "placeholder": "​",
            "style": "IPY_MODEL_ffc60b07ad704ea2afc0ac2c79c10c11",
            "value": " 150/? [01:24&lt;00:00,  1.77it/s]"
          }
        },
        "273de981090749b29ce385706c449722": {
          "model_module": "@jupyter-widgets/controls",
          "model_name": "ProgressStyleModel",
          "state": {
            "_model_module": "@jupyter-widgets/controls",
            "_model_module_version": "1.5.0",
            "_model_name": "ProgressStyleModel",
            "_view_count": null,
            "_view_module": "@jupyter-widgets/base",
            "_view_module_version": "1.2.0",
            "_view_name": "StyleView",
            "bar_color": null,
            "description_width": "initial"
          }
        },
        "3353a6712b3a482d8907ca80a0824020": {
          "model_module": "@jupyter-widgets/base",
          "model_name": "LayoutModel",
          "state": {
            "_model_module": "@jupyter-widgets/base",
            "_model_module_version": "1.2.0",
            "_model_name": "LayoutModel",
            "_view_count": null,
            "_view_module": "@jupyter-widgets/base",
            "_view_module_version": "1.2.0",
            "_view_name": "LayoutView",
            "align_content": null,
            "align_items": null,
            "align_self": null,
            "border": null,
            "bottom": null,
            "display": null,
            "flex": null,
            "flex_flow": null,
            "grid_area": null,
            "grid_auto_columns": null,
            "grid_auto_flow": null,
            "grid_auto_rows": null,
            "grid_column": null,
            "grid_gap": null,
            "grid_row": null,
            "grid_template_areas": null,
            "grid_template_columns": null,
            "grid_template_rows": null,
            "height": null,
            "justify_content": null,
            "justify_items": null,
            "left": null,
            "margin": null,
            "max_height": null,
            "max_width": null,
            "min_height": null,
            "min_width": null,
            "object_fit": null,
            "object_position": null,
            "order": null,
            "overflow": null,
            "overflow_x": null,
            "overflow_y": null,
            "padding": null,
            "right": null,
            "top": null,
            "visibility": null,
            "width": null
          }
        },
        "ffc60b07ad704ea2afc0ac2c79c10c11": {
          "model_module": "@jupyter-widgets/controls",
          "model_name": "DescriptionStyleModel",
          "state": {
            "_model_module": "@jupyter-widgets/controls",
            "_model_module_version": "1.5.0",
            "_model_name": "DescriptionStyleModel",
            "_view_count": null,
            "_view_module": "@jupyter-widgets/base",
            "_view_module_version": "1.2.0",
            "_view_name": "StyleView",
            "description_width": ""
          }
        },
        "864cb033af344f22b288a320088ec71c": {
          "model_module": "@jupyter-widgets/base",
          "model_name": "LayoutModel",
          "state": {
            "_model_module": "@jupyter-widgets/base",
            "_model_module_version": "1.2.0",
            "_model_name": "LayoutModel",
            "_view_count": null,
            "_view_module": "@jupyter-widgets/base",
            "_view_module_version": "1.2.0",
            "_view_name": "LayoutView",
            "align_content": null,
            "align_items": null,
            "align_self": null,
            "border": null,
            "bottom": null,
            "display": null,
            "flex": null,
            "flex_flow": null,
            "grid_area": null,
            "grid_auto_columns": null,
            "grid_auto_flow": null,
            "grid_auto_rows": null,
            "grid_column": null,
            "grid_gap": null,
            "grid_row": null,
            "grid_template_areas": null,
            "grid_template_columns": null,
            "grid_template_rows": null,
            "height": null,
            "justify_content": null,
            "justify_items": null,
            "left": null,
            "margin": null,
            "max_height": null,
            "max_width": null,
            "min_height": null,
            "min_width": null,
            "object_fit": null,
            "object_position": null,
            "order": null,
            "overflow": null,
            "overflow_x": null,
            "overflow_y": null,
            "padding": null,
            "right": null,
            "top": null,
            "visibility": null,
            "width": null
          }
        },
        "2d96618428094902b80450d649566a66": {
          "model_module": "@jupyter-widgets/controls",
          "model_name": "HBoxModel",
          "state": {
            "_dom_classes": [],
            "_model_module": "@jupyter-widgets/controls",
            "_model_module_version": "1.5.0",
            "_model_name": "HBoxModel",
            "_view_count": null,
            "_view_module": "@jupyter-widgets/controls",
            "_view_module_version": "1.5.0",
            "_view_name": "HBoxView",
            "box_style": "",
            "children": [
              "IPY_MODEL_a33ce8bb19284323a89a317403263c0d",
              "IPY_MODEL_90937a3fdc314010948a13e9e2c70e40"
            ],
            "layout": "IPY_MODEL_c7a670342db348f0b703a95438137574"
          }
        },
        "c7a670342db348f0b703a95438137574": {
          "model_module": "@jupyter-widgets/base",
          "model_name": "LayoutModel",
          "state": {
            "_model_module": "@jupyter-widgets/base",
            "_model_module_version": "1.2.0",
            "_model_name": "LayoutModel",
            "_view_count": null,
            "_view_module": "@jupyter-widgets/base",
            "_view_module_version": "1.2.0",
            "_view_name": "LayoutView",
            "align_content": null,
            "align_items": null,
            "align_self": null,
            "border": null,
            "bottom": null,
            "display": null,
            "flex": null,
            "flex_flow": null,
            "grid_area": null,
            "grid_auto_columns": null,
            "grid_auto_flow": null,
            "grid_auto_rows": null,
            "grid_column": null,
            "grid_gap": null,
            "grid_row": null,
            "grid_template_areas": null,
            "grid_template_columns": null,
            "grid_template_rows": null,
            "height": null,
            "justify_content": null,
            "justify_items": null,
            "left": null,
            "margin": null,
            "max_height": null,
            "max_width": null,
            "min_height": null,
            "min_width": null,
            "object_fit": null,
            "object_position": null,
            "order": null,
            "overflow": null,
            "overflow_x": null,
            "overflow_y": null,
            "padding": null,
            "right": null,
            "top": null,
            "visibility": null,
            "width": null
          }
        },
        "a33ce8bb19284323a89a317403263c0d": {
          "model_module": "@jupyter-widgets/controls",
          "model_name": "FloatProgressModel",
          "state": {
            "_dom_classes": [],
            "_model_module": "@jupyter-widgets/controls",
            "_model_module_version": "1.5.0",
            "_model_name": "FloatProgressModel",
            "_view_count": null,
            "_view_module": "@jupyter-widgets/controls",
            "_view_module_version": "1.5.0",
            "_view_name": "ProgressView",
            "bar_style": "success",
            "description": "",
            "description_tooltip": null,
            "layout": "IPY_MODEL_a2026ad15de541eebf332cb4ce4e1ad2",
            "max": 1,
            "min": 0,
            "orientation": "horizontal",
            "style": "IPY_MODEL_b506bbd1464b407980a6ef55a7819828",
            "value": 1
          }
        },
        "90937a3fdc314010948a13e9e2c70e40": {
          "model_module": "@jupyter-widgets/controls",
          "model_name": "HTMLModel",
          "state": {
            "_dom_classes": [],
            "_model_module": "@jupyter-widgets/controls",
            "_model_module_version": "1.5.0",
            "_model_name": "HTMLModel",
            "_view_count": null,
            "_view_module": "@jupyter-widgets/controls",
            "_view_module_version": "1.5.0",
            "_view_name": "HTMLView",
            "description": "",
            "description_tooltip": null,
            "layout": "IPY_MODEL_2004cd6b66034fdda39e09c4ea44b3ce",
            "placeholder": "​",
            "style": "IPY_MODEL_a56cd84f576841259aace5b34b0efda7",
            "value": " 150/? [14:16&lt;00:00,  5.71s/it]"
          }
        },
        "b506bbd1464b407980a6ef55a7819828": {
          "model_module": "@jupyter-widgets/controls",
          "model_name": "ProgressStyleModel",
          "state": {
            "_model_module": "@jupyter-widgets/controls",
            "_model_module_version": "1.5.0",
            "_model_name": "ProgressStyleModel",
            "_view_count": null,
            "_view_module": "@jupyter-widgets/base",
            "_view_module_version": "1.2.0",
            "_view_name": "StyleView",
            "bar_color": null,
            "description_width": "initial"
          }
        },
        "a2026ad15de541eebf332cb4ce4e1ad2": {
          "model_module": "@jupyter-widgets/base",
          "model_name": "LayoutModel",
          "state": {
            "_model_module": "@jupyter-widgets/base",
            "_model_module_version": "1.2.0",
            "_model_name": "LayoutModel",
            "_view_count": null,
            "_view_module": "@jupyter-widgets/base",
            "_view_module_version": "1.2.0",
            "_view_name": "LayoutView",
            "align_content": null,
            "align_items": null,
            "align_self": null,
            "border": null,
            "bottom": null,
            "display": null,
            "flex": null,
            "flex_flow": null,
            "grid_area": null,
            "grid_auto_columns": null,
            "grid_auto_flow": null,
            "grid_auto_rows": null,
            "grid_column": null,
            "grid_gap": null,
            "grid_row": null,
            "grid_template_areas": null,
            "grid_template_columns": null,
            "grid_template_rows": null,
            "height": null,
            "justify_content": null,
            "justify_items": null,
            "left": null,
            "margin": null,
            "max_height": null,
            "max_width": null,
            "min_height": null,
            "min_width": null,
            "object_fit": null,
            "object_position": null,
            "order": null,
            "overflow": null,
            "overflow_x": null,
            "overflow_y": null,
            "padding": null,
            "right": null,
            "top": null,
            "visibility": null,
            "width": null
          }
        },
        "a56cd84f576841259aace5b34b0efda7": {
          "model_module": "@jupyter-widgets/controls",
          "model_name": "DescriptionStyleModel",
          "state": {
            "_model_module": "@jupyter-widgets/controls",
            "_model_module_version": "1.5.0",
            "_model_name": "DescriptionStyleModel",
            "_view_count": null,
            "_view_module": "@jupyter-widgets/base",
            "_view_module_version": "1.2.0",
            "_view_name": "StyleView",
            "description_width": ""
          }
        },
        "2004cd6b66034fdda39e09c4ea44b3ce": {
          "model_module": "@jupyter-widgets/base",
          "model_name": "LayoutModel",
          "state": {
            "_model_module": "@jupyter-widgets/base",
            "_model_module_version": "1.2.0",
            "_model_name": "LayoutModel",
            "_view_count": null,
            "_view_module": "@jupyter-widgets/base",
            "_view_module_version": "1.2.0",
            "_view_name": "LayoutView",
            "align_content": null,
            "align_items": null,
            "align_self": null,
            "border": null,
            "bottom": null,
            "display": null,
            "flex": null,
            "flex_flow": null,
            "grid_area": null,
            "grid_auto_columns": null,
            "grid_auto_flow": null,
            "grid_auto_rows": null,
            "grid_column": null,
            "grid_gap": null,
            "grid_row": null,
            "grid_template_areas": null,
            "grid_template_columns": null,
            "grid_template_rows": null,
            "height": null,
            "justify_content": null,
            "justify_items": null,
            "left": null,
            "margin": null,
            "max_height": null,
            "max_width": null,
            "min_height": null,
            "min_width": null,
            "object_fit": null,
            "object_position": null,
            "order": null,
            "overflow": null,
            "overflow_x": null,
            "overflow_y": null,
            "padding": null,
            "right": null,
            "top": null,
            "visibility": null,
            "width": null
          }
        },
        "90f39af76e9846b18c45633dce765584": {
          "model_module": "@jupyter-widgets/controls",
          "model_name": "HBoxModel",
          "state": {
            "_dom_classes": [],
            "_model_module": "@jupyter-widgets/controls",
            "_model_module_version": "1.5.0",
            "_model_name": "HBoxModel",
            "_view_count": null,
            "_view_module": "@jupyter-widgets/controls",
            "_view_module_version": "1.5.0",
            "_view_name": "HBoxView",
            "box_style": "",
            "children": [
              "IPY_MODEL_d2a4e7e937804562a63d0191223c0dd0",
              "IPY_MODEL_02d1d8ffcf3a4873880bb4ec2b7eefbf"
            ],
            "layout": "IPY_MODEL_4a42cbf2455346818c8fb92da5665bca"
          }
        },
        "4a42cbf2455346818c8fb92da5665bca": {
          "model_module": "@jupyter-widgets/base",
          "model_name": "LayoutModel",
          "state": {
            "_model_module": "@jupyter-widgets/base",
            "_model_module_version": "1.2.0",
            "_model_name": "LayoutModel",
            "_view_count": null,
            "_view_module": "@jupyter-widgets/base",
            "_view_module_version": "1.2.0",
            "_view_name": "LayoutView",
            "align_content": null,
            "align_items": null,
            "align_self": null,
            "border": null,
            "bottom": null,
            "display": null,
            "flex": null,
            "flex_flow": null,
            "grid_area": null,
            "grid_auto_columns": null,
            "grid_auto_flow": null,
            "grid_auto_rows": null,
            "grid_column": null,
            "grid_gap": null,
            "grid_row": null,
            "grid_template_areas": null,
            "grid_template_columns": null,
            "grid_template_rows": null,
            "height": null,
            "justify_content": null,
            "justify_items": null,
            "left": null,
            "margin": null,
            "max_height": null,
            "max_width": null,
            "min_height": null,
            "min_width": null,
            "object_fit": null,
            "object_position": null,
            "order": null,
            "overflow": null,
            "overflow_x": null,
            "overflow_y": null,
            "padding": null,
            "right": null,
            "top": null,
            "visibility": null,
            "width": null
          }
        },
        "d2a4e7e937804562a63d0191223c0dd0": {
          "model_module": "@jupyter-widgets/controls",
          "model_name": "FloatProgressModel",
          "state": {
            "_dom_classes": [],
            "_model_module": "@jupyter-widgets/controls",
            "_model_module_version": "1.5.0",
            "_model_name": "FloatProgressModel",
            "_view_count": null,
            "_view_module": "@jupyter-widgets/controls",
            "_view_module_version": "1.5.0",
            "_view_name": "ProgressView",
            "bar_style": "success",
            "description": "",
            "description_tooltip": null,
            "layout": "IPY_MODEL_17e87d4a9a974aa6828c5ae0f9e0cf3a",
            "max": 1,
            "min": 0,
            "orientation": "horizontal",
            "style": "IPY_MODEL_d689f347b2e040d186d0353abaa96dd4",
            "value": 1
          }
        },
        "02d1d8ffcf3a4873880bb4ec2b7eefbf": {
          "model_module": "@jupyter-widgets/controls",
          "model_name": "HTMLModel",
          "state": {
            "_dom_classes": [],
            "_model_module": "@jupyter-widgets/controls",
            "_model_module_version": "1.5.0",
            "_model_name": "HTMLModel",
            "_view_count": null,
            "_view_module": "@jupyter-widgets/controls",
            "_view_module_version": "1.5.0",
            "_view_name": "HTMLView",
            "description": "",
            "description_tooltip": null,
            "layout": "IPY_MODEL_7a0883324f8b4256adf0e8a54c77524f",
            "placeholder": "​",
            "style": "IPY_MODEL_1f778937b7484fac8de6530ea10a5470",
            "value": " 150/? [2:07:40&lt;00:00, 51.07s/it]"
          }
        },
        "d689f347b2e040d186d0353abaa96dd4": {
          "model_module": "@jupyter-widgets/controls",
          "model_name": "ProgressStyleModel",
          "state": {
            "_model_module": "@jupyter-widgets/controls",
            "_model_module_version": "1.5.0",
            "_model_name": "ProgressStyleModel",
            "_view_count": null,
            "_view_module": "@jupyter-widgets/base",
            "_view_module_version": "1.2.0",
            "_view_name": "StyleView",
            "bar_color": null,
            "description_width": "initial"
          }
        },
        "17e87d4a9a974aa6828c5ae0f9e0cf3a": {
          "model_module": "@jupyter-widgets/base",
          "model_name": "LayoutModel",
          "state": {
            "_model_module": "@jupyter-widgets/base",
            "_model_module_version": "1.2.0",
            "_model_name": "LayoutModel",
            "_view_count": null,
            "_view_module": "@jupyter-widgets/base",
            "_view_module_version": "1.2.0",
            "_view_name": "LayoutView",
            "align_content": null,
            "align_items": null,
            "align_self": null,
            "border": null,
            "bottom": null,
            "display": null,
            "flex": null,
            "flex_flow": null,
            "grid_area": null,
            "grid_auto_columns": null,
            "grid_auto_flow": null,
            "grid_auto_rows": null,
            "grid_column": null,
            "grid_gap": null,
            "grid_row": null,
            "grid_template_areas": null,
            "grid_template_columns": null,
            "grid_template_rows": null,
            "height": null,
            "justify_content": null,
            "justify_items": null,
            "left": null,
            "margin": null,
            "max_height": null,
            "max_width": null,
            "min_height": null,
            "min_width": null,
            "object_fit": null,
            "object_position": null,
            "order": null,
            "overflow": null,
            "overflow_x": null,
            "overflow_y": null,
            "padding": null,
            "right": null,
            "top": null,
            "visibility": null,
            "width": null
          }
        },
        "1f778937b7484fac8de6530ea10a5470": {
          "model_module": "@jupyter-widgets/controls",
          "model_name": "DescriptionStyleModel",
          "state": {
            "_model_module": "@jupyter-widgets/controls",
            "_model_module_version": "1.5.0",
            "_model_name": "DescriptionStyleModel",
            "_view_count": null,
            "_view_module": "@jupyter-widgets/base",
            "_view_module_version": "1.2.0",
            "_view_name": "StyleView",
            "description_width": ""
          }
        },
        "7a0883324f8b4256adf0e8a54c77524f": {
          "model_module": "@jupyter-widgets/base",
          "model_name": "LayoutModel",
          "state": {
            "_model_module": "@jupyter-widgets/base",
            "_model_module_version": "1.2.0",
            "_model_name": "LayoutModel",
            "_view_count": null,
            "_view_module": "@jupyter-widgets/base",
            "_view_module_version": "1.2.0",
            "_view_name": "LayoutView",
            "align_content": null,
            "align_items": null,
            "align_self": null,
            "border": null,
            "bottom": null,
            "display": null,
            "flex": null,
            "flex_flow": null,
            "grid_area": null,
            "grid_auto_columns": null,
            "grid_auto_flow": null,
            "grid_auto_rows": null,
            "grid_column": null,
            "grid_gap": null,
            "grid_row": null,
            "grid_template_areas": null,
            "grid_template_columns": null,
            "grid_template_rows": null,
            "height": null,
            "justify_content": null,
            "justify_items": null,
            "left": null,
            "margin": null,
            "max_height": null,
            "max_width": null,
            "min_height": null,
            "min_width": null,
            "object_fit": null,
            "object_position": null,
            "order": null,
            "overflow": null,
            "overflow_x": null,
            "overflow_y": null,
            "padding": null,
            "right": null,
            "top": null,
            "visibility": null,
            "width": null
          }
        },
        "53c9e46489fc4d708c7fe856173f3b12": {
          "model_module": "@jupyter-widgets/controls",
          "model_name": "HBoxModel",
          "state": {
            "_dom_classes": [],
            "_model_module": "@jupyter-widgets/controls",
            "_model_module_version": "1.5.0",
            "_model_name": "HBoxModel",
            "_view_count": null,
            "_view_module": "@jupyter-widgets/controls",
            "_view_module_version": "1.5.0",
            "_view_name": "HBoxView",
            "box_style": "",
            "children": [
              "IPY_MODEL_0cdd1f83587643f68b9cc4659ba75fb8",
              "IPY_MODEL_2732c77700724db3beb39d1c64469852"
            ],
            "layout": "IPY_MODEL_27afa2d568d6441690a6d0ee44e40e1c"
          }
        },
        "27afa2d568d6441690a6d0ee44e40e1c": {
          "model_module": "@jupyter-widgets/base",
          "model_name": "LayoutModel",
          "state": {
            "_model_module": "@jupyter-widgets/base",
            "_model_module_version": "1.2.0",
            "_model_name": "LayoutModel",
            "_view_count": null,
            "_view_module": "@jupyter-widgets/base",
            "_view_module_version": "1.2.0",
            "_view_name": "LayoutView",
            "align_content": null,
            "align_items": null,
            "align_self": null,
            "border": null,
            "bottom": null,
            "display": null,
            "flex": null,
            "flex_flow": null,
            "grid_area": null,
            "grid_auto_columns": null,
            "grid_auto_flow": null,
            "grid_auto_rows": null,
            "grid_column": null,
            "grid_gap": null,
            "grid_row": null,
            "grid_template_areas": null,
            "grid_template_columns": null,
            "grid_template_rows": null,
            "height": null,
            "justify_content": null,
            "justify_items": null,
            "left": null,
            "margin": null,
            "max_height": null,
            "max_width": null,
            "min_height": null,
            "min_width": null,
            "object_fit": null,
            "object_position": null,
            "order": null,
            "overflow": null,
            "overflow_x": null,
            "overflow_y": null,
            "padding": null,
            "right": null,
            "top": null,
            "visibility": null,
            "width": null
          }
        },
        "0cdd1f83587643f68b9cc4659ba75fb8": {
          "model_module": "@jupyter-widgets/controls",
          "model_name": "FloatProgressModel",
          "state": {
            "_dom_classes": [],
            "_model_module": "@jupyter-widgets/controls",
            "_model_module_version": "1.5.0",
            "_model_name": "FloatProgressModel",
            "_view_count": null,
            "_view_module": "@jupyter-widgets/controls",
            "_view_module_version": "1.5.0",
            "_view_name": "ProgressView",
            "bar_style": "success",
            "description": "",
            "description_tooltip": null,
            "layout": "IPY_MODEL_9efdf4e9fd8c42598cced165c426f5bf",
            "max": 1,
            "min": 0,
            "orientation": "horizontal",
            "style": "IPY_MODEL_598b0d3d4ba64ed48d511ce9dd360f64",
            "value": 1
          }
        },
        "2732c77700724db3beb39d1c64469852": {
          "model_module": "@jupyter-widgets/controls",
          "model_name": "HTMLModel",
          "state": {
            "_dom_classes": [],
            "_model_module": "@jupyter-widgets/controls",
            "_model_module_version": "1.5.0",
            "_model_name": "HTMLModel",
            "_view_count": null,
            "_view_module": "@jupyter-widgets/controls",
            "_view_module_version": "1.5.0",
            "_view_name": "HTMLView",
            "description": "",
            "description_tooltip": null,
            "layout": "IPY_MODEL_a504d4571ae54c97a6fb586051f17b07",
            "placeholder": "​",
            "style": "IPY_MODEL_f1010194505c44b588ba44a39e4afd9f",
            "value": " 150/? [01:09&lt;00:00,  2.16it/s]"
          }
        },
        "598b0d3d4ba64ed48d511ce9dd360f64": {
          "model_module": "@jupyter-widgets/controls",
          "model_name": "ProgressStyleModel",
          "state": {
            "_model_module": "@jupyter-widgets/controls",
            "_model_module_version": "1.5.0",
            "_model_name": "ProgressStyleModel",
            "_view_count": null,
            "_view_module": "@jupyter-widgets/base",
            "_view_module_version": "1.2.0",
            "_view_name": "StyleView",
            "bar_color": null,
            "description_width": "initial"
          }
        },
        "9efdf4e9fd8c42598cced165c426f5bf": {
          "model_module": "@jupyter-widgets/base",
          "model_name": "LayoutModel",
          "state": {
            "_model_module": "@jupyter-widgets/base",
            "_model_module_version": "1.2.0",
            "_model_name": "LayoutModel",
            "_view_count": null,
            "_view_module": "@jupyter-widgets/base",
            "_view_module_version": "1.2.0",
            "_view_name": "LayoutView",
            "align_content": null,
            "align_items": null,
            "align_self": null,
            "border": null,
            "bottom": null,
            "display": null,
            "flex": null,
            "flex_flow": null,
            "grid_area": null,
            "grid_auto_columns": null,
            "grid_auto_flow": null,
            "grid_auto_rows": null,
            "grid_column": null,
            "grid_gap": null,
            "grid_row": null,
            "grid_template_areas": null,
            "grid_template_columns": null,
            "grid_template_rows": null,
            "height": null,
            "justify_content": null,
            "justify_items": null,
            "left": null,
            "margin": null,
            "max_height": null,
            "max_width": null,
            "min_height": null,
            "min_width": null,
            "object_fit": null,
            "object_position": null,
            "order": null,
            "overflow": null,
            "overflow_x": null,
            "overflow_y": null,
            "padding": null,
            "right": null,
            "top": null,
            "visibility": null,
            "width": null
          }
        },
        "f1010194505c44b588ba44a39e4afd9f": {
          "model_module": "@jupyter-widgets/controls",
          "model_name": "DescriptionStyleModel",
          "state": {
            "_model_module": "@jupyter-widgets/controls",
            "_model_module_version": "1.5.0",
            "_model_name": "DescriptionStyleModel",
            "_view_count": null,
            "_view_module": "@jupyter-widgets/base",
            "_view_module_version": "1.2.0",
            "_view_name": "StyleView",
            "description_width": ""
          }
        },
        "a504d4571ae54c97a6fb586051f17b07": {
          "model_module": "@jupyter-widgets/base",
          "model_name": "LayoutModel",
          "state": {
            "_model_module": "@jupyter-widgets/base",
            "_model_module_version": "1.2.0",
            "_model_name": "LayoutModel",
            "_view_count": null,
            "_view_module": "@jupyter-widgets/base",
            "_view_module_version": "1.2.0",
            "_view_name": "LayoutView",
            "align_content": null,
            "align_items": null,
            "align_self": null,
            "border": null,
            "bottom": null,
            "display": null,
            "flex": null,
            "flex_flow": null,
            "grid_area": null,
            "grid_auto_columns": null,
            "grid_auto_flow": null,
            "grid_auto_rows": null,
            "grid_column": null,
            "grid_gap": null,
            "grid_row": null,
            "grid_template_areas": null,
            "grid_template_columns": null,
            "grid_template_rows": null,
            "height": null,
            "justify_content": null,
            "justify_items": null,
            "left": null,
            "margin": null,
            "max_height": null,
            "max_width": null,
            "min_height": null,
            "min_width": null,
            "object_fit": null,
            "object_position": null,
            "order": null,
            "overflow": null,
            "overflow_x": null,
            "overflow_y": null,
            "padding": null,
            "right": null,
            "top": null,
            "visibility": null,
            "width": null
          }
        },
        "a633f4726f6a4ba5babb0e0414e6c5e1": {
          "model_module": "@jupyter-widgets/controls",
          "model_name": "HBoxModel",
          "state": {
            "_dom_classes": [],
            "_model_module": "@jupyter-widgets/controls",
            "_model_module_version": "1.5.0",
            "_model_name": "HBoxModel",
            "_view_count": null,
            "_view_module": "@jupyter-widgets/controls",
            "_view_module_version": "1.5.0",
            "_view_name": "HBoxView",
            "box_style": "",
            "children": [
              "IPY_MODEL_58fa30020dc14801a78967796be9df3e",
              "IPY_MODEL_9712936912b84e498783132d111037bf"
            ],
            "layout": "IPY_MODEL_007752d9ce5e47f480ae606afeb2cd16"
          }
        },
        "007752d9ce5e47f480ae606afeb2cd16": {
          "model_module": "@jupyter-widgets/base",
          "model_name": "LayoutModel",
          "state": {
            "_model_module": "@jupyter-widgets/base",
            "_model_module_version": "1.2.0",
            "_model_name": "LayoutModel",
            "_view_count": null,
            "_view_module": "@jupyter-widgets/base",
            "_view_module_version": "1.2.0",
            "_view_name": "LayoutView",
            "align_content": null,
            "align_items": null,
            "align_self": null,
            "border": null,
            "bottom": null,
            "display": null,
            "flex": null,
            "flex_flow": null,
            "grid_area": null,
            "grid_auto_columns": null,
            "grid_auto_flow": null,
            "grid_auto_rows": null,
            "grid_column": null,
            "grid_gap": null,
            "grid_row": null,
            "grid_template_areas": null,
            "grid_template_columns": null,
            "grid_template_rows": null,
            "height": null,
            "justify_content": null,
            "justify_items": null,
            "left": null,
            "margin": null,
            "max_height": null,
            "max_width": null,
            "min_height": null,
            "min_width": null,
            "object_fit": null,
            "object_position": null,
            "order": null,
            "overflow": null,
            "overflow_x": null,
            "overflow_y": null,
            "padding": null,
            "right": null,
            "top": null,
            "visibility": null,
            "width": null
          }
        },
        "58fa30020dc14801a78967796be9df3e": {
          "model_module": "@jupyter-widgets/controls",
          "model_name": "FloatProgressModel",
          "state": {
            "_dom_classes": [],
            "_model_module": "@jupyter-widgets/controls",
            "_model_module_version": "1.5.0",
            "_model_name": "FloatProgressModel",
            "_view_count": null,
            "_view_module": "@jupyter-widgets/controls",
            "_view_module_version": "1.5.0",
            "_view_name": "ProgressView",
            "bar_style": "success",
            "description": "",
            "description_tooltip": null,
            "layout": "IPY_MODEL_501fe7de2d29471c9ad3580ba42b274d",
            "max": 1,
            "min": 0,
            "orientation": "horizontal",
            "style": "IPY_MODEL_89f6bfd52126419ab7c6b6ba00894c24",
            "value": 1
          }
        },
        "9712936912b84e498783132d111037bf": {
          "model_module": "@jupyter-widgets/controls",
          "model_name": "HTMLModel",
          "state": {
            "_dom_classes": [],
            "_model_module": "@jupyter-widgets/controls",
            "_model_module_version": "1.5.0",
            "_model_name": "HTMLModel",
            "_view_count": null,
            "_view_module": "@jupyter-widgets/controls",
            "_view_module_version": "1.5.0",
            "_view_name": "HTMLView",
            "description": "",
            "description_tooltip": null,
            "layout": "IPY_MODEL_e595378941654a4dbe560a646dc52272",
            "placeholder": "​",
            "style": "IPY_MODEL_9e0d68b268384372ae1ec48b6c363b3a",
            "value": " 150/? [1:39:19&lt;00:00, 39.73s/it]"
          }
        },
        "89f6bfd52126419ab7c6b6ba00894c24": {
          "model_module": "@jupyter-widgets/controls",
          "model_name": "ProgressStyleModel",
          "state": {
            "_model_module": "@jupyter-widgets/controls",
            "_model_module_version": "1.5.0",
            "_model_name": "ProgressStyleModel",
            "_view_count": null,
            "_view_module": "@jupyter-widgets/base",
            "_view_module_version": "1.2.0",
            "_view_name": "StyleView",
            "bar_color": null,
            "description_width": "initial"
          }
        },
        "501fe7de2d29471c9ad3580ba42b274d": {
          "model_module": "@jupyter-widgets/base",
          "model_name": "LayoutModel",
          "state": {
            "_model_module": "@jupyter-widgets/base",
            "_model_module_version": "1.2.0",
            "_model_name": "LayoutModel",
            "_view_count": null,
            "_view_module": "@jupyter-widgets/base",
            "_view_module_version": "1.2.0",
            "_view_name": "LayoutView",
            "align_content": null,
            "align_items": null,
            "align_self": null,
            "border": null,
            "bottom": null,
            "display": null,
            "flex": null,
            "flex_flow": null,
            "grid_area": null,
            "grid_auto_columns": null,
            "grid_auto_flow": null,
            "grid_auto_rows": null,
            "grid_column": null,
            "grid_gap": null,
            "grid_row": null,
            "grid_template_areas": null,
            "grid_template_columns": null,
            "grid_template_rows": null,
            "height": null,
            "justify_content": null,
            "justify_items": null,
            "left": null,
            "margin": null,
            "max_height": null,
            "max_width": null,
            "min_height": null,
            "min_width": null,
            "object_fit": null,
            "object_position": null,
            "order": null,
            "overflow": null,
            "overflow_x": null,
            "overflow_y": null,
            "padding": null,
            "right": null,
            "top": null,
            "visibility": null,
            "width": null
          }
        },
        "9e0d68b268384372ae1ec48b6c363b3a": {
          "model_module": "@jupyter-widgets/controls",
          "model_name": "DescriptionStyleModel",
          "state": {
            "_model_module": "@jupyter-widgets/controls",
            "_model_module_version": "1.5.0",
            "_model_name": "DescriptionStyleModel",
            "_view_count": null,
            "_view_module": "@jupyter-widgets/base",
            "_view_module_version": "1.2.0",
            "_view_name": "StyleView",
            "description_width": ""
          }
        },
        "e595378941654a4dbe560a646dc52272": {
          "model_module": "@jupyter-widgets/base",
          "model_name": "LayoutModel",
          "state": {
            "_model_module": "@jupyter-widgets/base",
            "_model_module_version": "1.2.0",
            "_model_name": "LayoutModel",
            "_view_count": null,
            "_view_module": "@jupyter-widgets/base",
            "_view_module_version": "1.2.0",
            "_view_name": "LayoutView",
            "align_content": null,
            "align_items": null,
            "align_self": null,
            "border": null,
            "bottom": null,
            "display": null,
            "flex": null,
            "flex_flow": null,
            "grid_area": null,
            "grid_auto_columns": null,
            "grid_auto_flow": null,
            "grid_auto_rows": null,
            "grid_column": null,
            "grid_gap": null,
            "grid_row": null,
            "grid_template_areas": null,
            "grid_template_columns": null,
            "grid_template_rows": null,
            "height": null,
            "justify_content": null,
            "justify_items": null,
            "left": null,
            "margin": null,
            "max_height": null,
            "max_width": null,
            "min_height": null,
            "min_width": null,
            "object_fit": null,
            "object_position": null,
            "order": null,
            "overflow": null,
            "overflow_x": null,
            "overflow_y": null,
            "padding": null,
            "right": null,
            "top": null,
            "visibility": null,
            "width": null
          }
        },
        "c56a3c25a1284582bdfb1ad9e02ccb06": {
          "model_module": "@jupyter-widgets/controls",
          "model_name": "HBoxModel",
          "state": {
            "_dom_classes": [],
            "_model_module": "@jupyter-widgets/controls",
            "_model_module_version": "1.5.0",
            "_model_name": "HBoxModel",
            "_view_count": null,
            "_view_module": "@jupyter-widgets/controls",
            "_view_module_version": "1.5.0",
            "_view_name": "HBoxView",
            "box_style": "",
            "children": [
              "IPY_MODEL_b986d76f127a48669bfaf9c674079d87",
              "IPY_MODEL_e941a8dd61c641c88445eb5497fd2760"
            ],
            "layout": "IPY_MODEL_888804a45395411cb9db622b0e6878cb"
          }
        },
        "888804a45395411cb9db622b0e6878cb": {
          "model_module": "@jupyter-widgets/base",
          "model_name": "LayoutModel",
          "state": {
            "_model_module": "@jupyter-widgets/base",
            "_model_module_version": "1.2.0",
            "_model_name": "LayoutModel",
            "_view_count": null,
            "_view_module": "@jupyter-widgets/base",
            "_view_module_version": "1.2.0",
            "_view_name": "LayoutView",
            "align_content": null,
            "align_items": null,
            "align_self": null,
            "border": null,
            "bottom": null,
            "display": null,
            "flex": null,
            "flex_flow": null,
            "grid_area": null,
            "grid_auto_columns": null,
            "grid_auto_flow": null,
            "grid_auto_rows": null,
            "grid_column": null,
            "grid_gap": null,
            "grid_row": null,
            "grid_template_areas": null,
            "grid_template_columns": null,
            "grid_template_rows": null,
            "height": null,
            "justify_content": null,
            "justify_items": null,
            "left": null,
            "margin": null,
            "max_height": null,
            "max_width": null,
            "min_height": null,
            "min_width": null,
            "object_fit": null,
            "object_position": null,
            "order": null,
            "overflow": null,
            "overflow_x": null,
            "overflow_y": null,
            "padding": null,
            "right": null,
            "top": null,
            "visibility": null,
            "width": null
          }
        },
        "b986d76f127a48669bfaf9c674079d87": {
          "model_module": "@jupyter-widgets/controls",
          "model_name": "FloatProgressModel",
          "state": {
            "_dom_classes": [],
            "_model_module": "@jupyter-widgets/controls",
            "_model_module_version": "1.5.0",
            "_model_name": "FloatProgressModel",
            "_view_count": null,
            "_view_module": "@jupyter-widgets/controls",
            "_view_module_version": "1.5.0",
            "_view_name": "ProgressView",
            "bar_style": "success",
            "description": "",
            "description_tooltip": null,
            "layout": "IPY_MODEL_4d3bd152e2b14612bdec4f9692d48739",
            "max": 1,
            "min": 0,
            "orientation": "horizontal",
            "style": "IPY_MODEL_6736870c4aa94b20adeed80a00507dce",
            "value": 1
          }
        },
        "e941a8dd61c641c88445eb5497fd2760": {
          "model_module": "@jupyter-widgets/controls",
          "model_name": "HTMLModel",
          "state": {
            "_dom_classes": [],
            "_model_module": "@jupyter-widgets/controls",
            "_model_module_version": "1.5.0",
            "_model_name": "HTMLModel",
            "_view_count": null,
            "_view_module": "@jupyter-widgets/controls",
            "_view_module_version": "1.5.0",
            "_view_name": "HTMLView",
            "description": "",
            "description_tooltip": null,
            "layout": "IPY_MODEL_ce7dc5c992754af5a545aa408ed67c88",
            "placeholder": "​",
            "style": "IPY_MODEL_63ff13ee95f64beea555e0660be15eec",
            "value": " 150/? [01:09&lt;00:00,  2.17it/s]"
          }
        },
        "6736870c4aa94b20adeed80a00507dce": {
          "model_module": "@jupyter-widgets/controls",
          "model_name": "ProgressStyleModel",
          "state": {
            "_model_module": "@jupyter-widgets/controls",
            "_model_module_version": "1.5.0",
            "_model_name": "ProgressStyleModel",
            "_view_count": null,
            "_view_module": "@jupyter-widgets/base",
            "_view_module_version": "1.2.0",
            "_view_name": "StyleView",
            "bar_color": null,
            "description_width": "initial"
          }
        },
        "4d3bd152e2b14612bdec4f9692d48739": {
          "model_module": "@jupyter-widgets/base",
          "model_name": "LayoutModel",
          "state": {
            "_model_module": "@jupyter-widgets/base",
            "_model_module_version": "1.2.0",
            "_model_name": "LayoutModel",
            "_view_count": null,
            "_view_module": "@jupyter-widgets/base",
            "_view_module_version": "1.2.0",
            "_view_name": "LayoutView",
            "align_content": null,
            "align_items": null,
            "align_self": null,
            "border": null,
            "bottom": null,
            "display": null,
            "flex": null,
            "flex_flow": null,
            "grid_area": null,
            "grid_auto_columns": null,
            "grid_auto_flow": null,
            "grid_auto_rows": null,
            "grid_column": null,
            "grid_gap": null,
            "grid_row": null,
            "grid_template_areas": null,
            "grid_template_columns": null,
            "grid_template_rows": null,
            "height": null,
            "justify_content": null,
            "justify_items": null,
            "left": null,
            "margin": null,
            "max_height": null,
            "max_width": null,
            "min_height": null,
            "min_width": null,
            "object_fit": null,
            "object_position": null,
            "order": null,
            "overflow": null,
            "overflow_x": null,
            "overflow_y": null,
            "padding": null,
            "right": null,
            "top": null,
            "visibility": null,
            "width": null
          }
        },
        "63ff13ee95f64beea555e0660be15eec": {
          "model_module": "@jupyter-widgets/controls",
          "model_name": "DescriptionStyleModel",
          "state": {
            "_model_module": "@jupyter-widgets/controls",
            "_model_module_version": "1.5.0",
            "_model_name": "DescriptionStyleModel",
            "_view_count": null,
            "_view_module": "@jupyter-widgets/base",
            "_view_module_version": "1.2.0",
            "_view_name": "StyleView",
            "description_width": ""
          }
        },
        "ce7dc5c992754af5a545aa408ed67c88": {
          "model_module": "@jupyter-widgets/base",
          "model_name": "LayoutModel",
          "state": {
            "_model_module": "@jupyter-widgets/base",
            "_model_module_version": "1.2.0",
            "_model_name": "LayoutModel",
            "_view_count": null,
            "_view_module": "@jupyter-widgets/base",
            "_view_module_version": "1.2.0",
            "_view_name": "LayoutView",
            "align_content": null,
            "align_items": null,
            "align_self": null,
            "border": null,
            "bottom": null,
            "display": null,
            "flex": null,
            "flex_flow": null,
            "grid_area": null,
            "grid_auto_columns": null,
            "grid_auto_flow": null,
            "grid_auto_rows": null,
            "grid_column": null,
            "grid_gap": null,
            "grid_row": null,
            "grid_template_areas": null,
            "grid_template_columns": null,
            "grid_template_rows": null,
            "height": null,
            "justify_content": null,
            "justify_items": null,
            "left": null,
            "margin": null,
            "max_height": null,
            "max_width": null,
            "min_height": null,
            "min_width": null,
            "object_fit": null,
            "object_position": null,
            "order": null,
            "overflow": null,
            "overflow_x": null,
            "overflow_y": null,
            "padding": null,
            "right": null,
            "top": null,
            "visibility": null,
            "width": null
          }
        },
        "430de0fcf9ce45799f8cec7b508a8f7f": {
          "model_module": "@jupyter-widgets/controls",
          "model_name": "HBoxModel",
          "state": {
            "_dom_classes": [],
            "_model_module": "@jupyter-widgets/controls",
            "_model_module_version": "1.5.0",
            "_model_name": "HBoxModel",
            "_view_count": null,
            "_view_module": "@jupyter-widgets/controls",
            "_view_module_version": "1.5.0",
            "_view_name": "HBoxView",
            "box_style": "",
            "children": [
              "IPY_MODEL_e2be21b2cc584489b535309b9c8904e3",
              "IPY_MODEL_354fdd4a6e064367be8398d996b63d38"
            ],
            "layout": "IPY_MODEL_99791d40ec534ebc9a7f4b01767f9aad"
          }
        },
        "99791d40ec534ebc9a7f4b01767f9aad": {
          "model_module": "@jupyter-widgets/base",
          "model_name": "LayoutModel",
          "state": {
            "_model_module": "@jupyter-widgets/base",
            "_model_module_version": "1.2.0",
            "_model_name": "LayoutModel",
            "_view_count": null,
            "_view_module": "@jupyter-widgets/base",
            "_view_module_version": "1.2.0",
            "_view_name": "LayoutView",
            "align_content": null,
            "align_items": null,
            "align_self": null,
            "border": null,
            "bottom": null,
            "display": null,
            "flex": null,
            "flex_flow": null,
            "grid_area": null,
            "grid_auto_columns": null,
            "grid_auto_flow": null,
            "grid_auto_rows": null,
            "grid_column": null,
            "grid_gap": null,
            "grid_row": null,
            "grid_template_areas": null,
            "grid_template_columns": null,
            "grid_template_rows": null,
            "height": null,
            "justify_content": null,
            "justify_items": null,
            "left": null,
            "margin": null,
            "max_height": null,
            "max_width": null,
            "min_height": null,
            "min_width": null,
            "object_fit": null,
            "object_position": null,
            "order": null,
            "overflow": null,
            "overflow_x": null,
            "overflow_y": null,
            "padding": null,
            "right": null,
            "top": null,
            "visibility": null,
            "width": null
          }
        },
        "e2be21b2cc584489b535309b9c8904e3": {
          "model_module": "@jupyter-widgets/controls",
          "model_name": "FloatProgressModel",
          "state": {
            "_dom_classes": [],
            "_model_module": "@jupyter-widgets/controls",
            "_model_module_version": "1.5.0",
            "_model_name": "FloatProgressModel",
            "_view_count": null,
            "_view_module": "@jupyter-widgets/controls",
            "_view_module_version": "1.5.0",
            "_view_name": "ProgressView",
            "bar_style": "success",
            "description": "",
            "description_tooltip": null,
            "layout": "IPY_MODEL_fca884b72b1946cd8403edac7d41924e",
            "max": 1,
            "min": 0,
            "orientation": "horizontal",
            "style": "IPY_MODEL_8503f63352114056ace6ee5662d746da",
            "value": 1
          }
        },
        "354fdd4a6e064367be8398d996b63d38": {
          "model_module": "@jupyter-widgets/controls",
          "model_name": "HTMLModel",
          "state": {
            "_dom_classes": [],
            "_model_module": "@jupyter-widgets/controls",
            "_model_module_version": "1.5.0",
            "_model_name": "HTMLModel",
            "_view_count": null,
            "_view_module": "@jupyter-widgets/controls",
            "_view_module_version": "1.5.0",
            "_view_name": "HTMLView",
            "description": "",
            "description_tooltip": null,
            "layout": "IPY_MODEL_22e8567701184b729be80c57098badc4",
            "placeholder": "​",
            "style": "IPY_MODEL_3008461ae4e440d081f2f3ac46afa685",
            "value": " 150/? [01:10&lt;00:00,  2.12it/s]"
          }
        },
        "8503f63352114056ace6ee5662d746da": {
          "model_module": "@jupyter-widgets/controls",
          "model_name": "ProgressStyleModel",
          "state": {
            "_model_module": "@jupyter-widgets/controls",
            "_model_module_version": "1.5.0",
            "_model_name": "ProgressStyleModel",
            "_view_count": null,
            "_view_module": "@jupyter-widgets/base",
            "_view_module_version": "1.2.0",
            "_view_name": "StyleView",
            "bar_color": null,
            "description_width": "initial"
          }
        },
        "fca884b72b1946cd8403edac7d41924e": {
          "model_module": "@jupyter-widgets/base",
          "model_name": "LayoutModel",
          "state": {
            "_model_module": "@jupyter-widgets/base",
            "_model_module_version": "1.2.0",
            "_model_name": "LayoutModel",
            "_view_count": null,
            "_view_module": "@jupyter-widgets/base",
            "_view_module_version": "1.2.0",
            "_view_name": "LayoutView",
            "align_content": null,
            "align_items": null,
            "align_self": null,
            "border": null,
            "bottom": null,
            "display": null,
            "flex": null,
            "flex_flow": null,
            "grid_area": null,
            "grid_auto_columns": null,
            "grid_auto_flow": null,
            "grid_auto_rows": null,
            "grid_column": null,
            "grid_gap": null,
            "grid_row": null,
            "grid_template_areas": null,
            "grid_template_columns": null,
            "grid_template_rows": null,
            "height": null,
            "justify_content": null,
            "justify_items": null,
            "left": null,
            "margin": null,
            "max_height": null,
            "max_width": null,
            "min_height": null,
            "min_width": null,
            "object_fit": null,
            "object_position": null,
            "order": null,
            "overflow": null,
            "overflow_x": null,
            "overflow_y": null,
            "padding": null,
            "right": null,
            "top": null,
            "visibility": null,
            "width": null
          }
        },
        "3008461ae4e440d081f2f3ac46afa685": {
          "model_module": "@jupyter-widgets/controls",
          "model_name": "DescriptionStyleModel",
          "state": {
            "_model_module": "@jupyter-widgets/controls",
            "_model_module_version": "1.5.0",
            "_model_name": "DescriptionStyleModel",
            "_view_count": null,
            "_view_module": "@jupyter-widgets/base",
            "_view_module_version": "1.2.0",
            "_view_name": "StyleView",
            "description_width": ""
          }
        },
        "22e8567701184b729be80c57098badc4": {
          "model_module": "@jupyter-widgets/base",
          "model_name": "LayoutModel",
          "state": {
            "_model_module": "@jupyter-widgets/base",
            "_model_module_version": "1.2.0",
            "_model_name": "LayoutModel",
            "_view_count": null,
            "_view_module": "@jupyter-widgets/base",
            "_view_module_version": "1.2.0",
            "_view_name": "LayoutView",
            "align_content": null,
            "align_items": null,
            "align_self": null,
            "border": null,
            "bottom": null,
            "display": null,
            "flex": null,
            "flex_flow": null,
            "grid_area": null,
            "grid_auto_columns": null,
            "grid_auto_flow": null,
            "grid_auto_rows": null,
            "grid_column": null,
            "grid_gap": null,
            "grid_row": null,
            "grid_template_areas": null,
            "grid_template_columns": null,
            "grid_template_rows": null,
            "height": null,
            "justify_content": null,
            "justify_items": null,
            "left": null,
            "margin": null,
            "max_height": null,
            "max_width": null,
            "min_height": null,
            "min_width": null,
            "object_fit": null,
            "object_position": null,
            "order": null,
            "overflow": null,
            "overflow_x": null,
            "overflow_y": null,
            "padding": null,
            "right": null,
            "top": null,
            "visibility": null,
            "width": null
          }
        },
        "40ef9fea4c03417db6bdc76b480fb59e": {
          "model_module": "@jupyter-widgets/controls",
          "model_name": "HBoxModel",
          "state": {
            "_dom_classes": [],
            "_model_module": "@jupyter-widgets/controls",
            "_model_module_version": "1.5.0",
            "_model_name": "HBoxModel",
            "_view_count": null,
            "_view_module": "@jupyter-widgets/controls",
            "_view_module_version": "1.5.0",
            "_view_name": "HBoxView",
            "box_style": "",
            "children": [
              "IPY_MODEL_8b5212a3ed9f49aea201644e1ed1ac53",
              "IPY_MODEL_a637e9d5dda44c3e9c8c3b9154b1b20d"
            ],
            "layout": "IPY_MODEL_3c42fdea3dcd4f2bbd6ba10777f27db3"
          }
        },
        "3c42fdea3dcd4f2bbd6ba10777f27db3": {
          "model_module": "@jupyter-widgets/base",
          "model_name": "LayoutModel",
          "state": {
            "_model_module": "@jupyter-widgets/base",
            "_model_module_version": "1.2.0",
            "_model_name": "LayoutModel",
            "_view_count": null,
            "_view_module": "@jupyter-widgets/base",
            "_view_module_version": "1.2.0",
            "_view_name": "LayoutView",
            "align_content": null,
            "align_items": null,
            "align_self": null,
            "border": null,
            "bottom": null,
            "display": null,
            "flex": null,
            "flex_flow": null,
            "grid_area": null,
            "grid_auto_columns": null,
            "grid_auto_flow": null,
            "grid_auto_rows": null,
            "grid_column": null,
            "grid_gap": null,
            "grid_row": null,
            "grid_template_areas": null,
            "grid_template_columns": null,
            "grid_template_rows": null,
            "height": null,
            "justify_content": null,
            "justify_items": null,
            "left": null,
            "margin": null,
            "max_height": null,
            "max_width": null,
            "min_height": null,
            "min_width": null,
            "object_fit": null,
            "object_position": null,
            "order": null,
            "overflow": null,
            "overflow_x": null,
            "overflow_y": null,
            "padding": null,
            "right": null,
            "top": null,
            "visibility": null,
            "width": null
          }
        },
        "8b5212a3ed9f49aea201644e1ed1ac53": {
          "model_module": "@jupyter-widgets/controls",
          "model_name": "FloatProgressModel",
          "state": {
            "_dom_classes": [],
            "_model_module": "@jupyter-widgets/controls",
            "_model_module_version": "1.5.0",
            "_model_name": "FloatProgressModel",
            "_view_count": null,
            "_view_module": "@jupyter-widgets/controls",
            "_view_module_version": "1.5.0",
            "_view_name": "ProgressView",
            "bar_style": "success",
            "description": "",
            "description_tooltip": null,
            "layout": "IPY_MODEL_4e394e72017442e989642afdc2b8abcb",
            "max": 1,
            "min": 0,
            "orientation": "horizontal",
            "style": "IPY_MODEL_e7ccb000bd83423fb4693a908c638ddb",
            "value": 1
          }
        },
        "a637e9d5dda44c3e9c8c3b9154b1b20d": {
          "model_module": "@jupyter-widgets/controls",
          "model_name": "HTMLModel",
          "state": {
            "_dom_classes": [],
            "_model_module": "@jupyter-widgets/controls",
            "_model_module_version": "1.5.0",
            "_model_name": "HTMLModel",
            "_view_count": null,
            "_view_module": "@jupyter-widgets/controls",
            "_view_module_version": "1.5.0",
            "_view_name": "HTMLView",
            "description": "",
            "description_tooltip": null,
            "layout": "IPY_MODEL_200ba008099045719694899c681c2d16",
            "placeholder": "​",
            "style": "IPY_MODEL_87a5e794f5ff408ebbf2a740a7560adb",
            "value": " 150/? [14:12&lt;00:00,  5.68s/it]"
          }
        },
        "e7ccb000bd83423fb4693a908c638ddb": {
          "model_module": "@jupyter-widgets/controls",
          "model_name": "ProgressStyleModel",
          "state": {
            "_model_module": "@jupyter-widgets/controls",
            "_model_module_version": "1.5.0",
            "_model_name": "ProgressStyleModel",
            "_view_count": null,
            "_view_module": "@jupyter-widgets/base",
            "_view_module_version": "1.2.0",
            "_view_name": "StyleView",
            "bar_color": null,
            "description_width": "initial"
          }
        },
        "4e394e72017442e989642afdc2b8abcb": {
          "model_module": "@jupyter-widgets/base",
          "model_name": "LayoutModel",
          "state": {
            "_model_module": "@jupyter-widgets/base",
            "_model_module_version": "1.2.0",
            "_model_name": "LayoutModel",
            "_view_count": null,
            "_view_module": "@jupyter-widgets/base",
            "_view_module_version": "1.2.0",
            "_view_name": "LayoutView",
            "align_content": null,
            "align_items": null,
            "align_self": null,
            "border": null,
            "bottom": null,
            "display": null,
            "flex": null,
            "flex_flow": null,
            "grid_area": null,
            "grid_auto_columns": null,
            "grid_auto_flow": null,
            "grid_auto_rows": null,
            "grid_column": null,
            "grid_gap": null,
            "grid_row": null,
            "grid_template_areas": null,
            "grid_template_columns": null,
            "grid_template_rows": null,
            "height": null,
            "justify_content": null,
            "justify_items": null,
            "left": null,
            "margin": null,
            "max_height": null,
            "max_width": null,
            "min_height": null,
            "min_width": null,
            "object_fit": null,
            "object_position": null,
            "order": null,
            "overflow": null,
            "overflow_x": null,
            "overflow_y": null,
            "padding": null,
            "right": null,
            "top": null,
            "visibility": null,
            "width": null
          }
        },
        "87a5e794f5ff408ebbf2a740a7560adb": {
          "model_module": "@jupyter-widgets/controls",
          "model_name": "DescriptionStyleModel",
          "state": {
            "_model_module": "@jupyter-widgets/controls",
            "_model_module_version": "1.5.0",
            "_model_name": "DescriptionStyleModel",
            "_view_count": null,
            "_view_module": "@jupyter-widgets/base",
            "_view_module_version": "1.2.0",
            "_view_name": "StyleView",
            "description_width": ""
          }
        },
        "200ba008099045719694899c681c2d16": {
          "model_module": "@jupyter-widgets/base",
          "model_name": "LayoutModel",
          "state": {
            "_model_module": "@jupyter-widgets/base",
            "_model_module_version": "1.2.0",
            "_model_name": "LayoutModel",
            "_view_count": null,
            "_view_module": "@jupyter-widgets/base",
            "_view_module_version": "1.2.0",
            "_view_name": "LayoutView",
            "align_content": null,
            "align_items": null,
            "align_self": null,
            "border": null,
            "bottom": null,
            "display": null,
            "flex": null,
            "flex_flow": null,
            "grid_area": null,
            "grid_auto_columns": null,
            "grid_auto_flow": null,
            "grid_auto_rows": null,
            "grid_column": null,
            "grid_gap": null,
            "grid_row": null,
            "grid_template_areas": null,
            "grid_template_columns": null,
            "grid_template_rows": null,
            "height": null,
            "justify_content": null,
            "justify_items": null,
            "left": null,
            "margin": null,
            "max_height": null,
            "max_width": null,
            "min_height": null,
            "min_width": null,
            "object_fit": null,
            "object_position": null,
            "order": null,
            "overflow": null,
            "overflow_x": null,
            "overflow_y": null,
            "padding": null,
            "right": null,
            "top": null,
            "visibility": null,
            "width": null
          }
        },
        "8b0a112033ab4a3a9a970c6eaaec5531": {
          "model_module": "@jupyter-widgets/controls",
          "model_name": "HBoxModel",
          "state": {
            "_dom_classes": [],
            "_model_module": "@jupyter-widgets/controls",
            "_model_module_version": "1.5.0",
            "_model_name": "HBoxModel",
            "_view_count": null,
            "_view_module": "@jupyter-widgets/controls",
            "_view_module_version": "1.5.0",
            "_view_name": "HBoxView",
            "box_style": "",
            "children": [
              "IPY_MODEL_8ef3688940ae4ff4840fc3ca4c231125",
              "IPY_MODEL_f7dd810e69fa4f1f91acaec17fb8c64a"
            ],
            "layout": "IPY_MODEL_9acb641a7ede4dd6b68097dbff290ce1"
          }
        },
        "9acb641a7ede4dd6b68097dbff290ce1": {
          "model_module": "@jupyter-widgets/base",
          "model_name": "LayoutModel",
          "state": {
            "_model_module": "@jupyter-widgets/base",
            "_model_module_version": "1.2.0",
            "_model_name": "LayoutModel",
            "_view_count": null,
            "_view_module": "@jupyter-widgets/base",
            "_view_module_version": "1.2.0",
            "_view_name": "LayoutView",
            "align_content": null,
            "align_items": null,
            "align_self": null,
            "border": null,
            "bottom": null,
            "display": null,
            "flex": null,
            "flex_flow": null,
            "grid_area": null,
            "grid_auto_columns": null,
            "grid_auto_flow": null,
            "grid_auto_rows": null,
            "grid_column": null,
            "grid_gap": null,
            "grid_row": null,
            "grid_template_areas": null,
            "grid_template_columns": null,
            "grid_template_rows": null,
            "height": null,
            "justify_content": null,
            "justify_items": null,
            "left": null,
            "margin": null,
            "max_height": null,
            "max_width": null,
            "min_height": null,
            "min_width": null,
            "object_fit": null,
            "object_position": null,
            "order": null,
            "overflow": null,
            "overflow_x": null,
            "overflow_y": null,
            "padding": null,
            "right": null,
            "top": null,
            "visibility": null,
            "width": null
          }
        },
        "8ef3688940ae4ff4840fc3ca4c231125": {
          "model_module": "@jupyter-widgets/controls",
          "model_name": "FloatProgressModel",
          "state": {
            "_dom_classes": [],
            "_model_module": "@jupyter-widgets/controls",
            "_model_module_version": "1.5.0",
            "_model_name": "FloatProgressModel",
            "_view_count": null,
            "_view_module": "@jupyter-widgets/controls",
            "_view_module_version": "1.5.0",
            "_view_name": "ProgressView",
            "bar_style": "success",
            "description": "",
            "description_tooltip": null,
            "layout": "IPY_MODEL_838fc6b6bb704fd897d9145830d7bb9f",
            "max": 1,
            "min": 0,
            "orientation": "horizontal",
            "style": "IPY_MODEL_68ba61411c5d4097883b053f06493415",
            "value": 1
          }
        },
        "f7dd810e69fa4f1f91acaec17fb8c64a": {
          "model_module": "@jupyter-widgets/controls",
          "model_name": "HTMLModel",
          "state": {
            "_dom_classes": [],
            "_model_module": "@jupyter-widgets/controls",
            "_model_module_version": "1.5.0",
            "_model_name": "HTMLModel",
            "_view_count": null,
            "_view_module": "@jupyter-widgets/controls",
            "_view_module_version": "1.5.0",
            "_view_name": "HTMLView",
            "description": "",
            "description_tooltip": null,
            "layout": "IPY_MODEL_940db33506ef463788996553c4bf5f74",
            "placeholder": "​",
            "style": "IPY_MODEL_268c4187cfc9490bacfa1eafe1fbcca1",
            "value": " 150/? [42:34&lt;00:00, 17.03s/it]"
          }
        },
        "68ba61411c5d4097883b053f06493415": {
          "model_module": "@jupyter-widgets/controls",
          "model_name": "ProgressStyleModel",
          "state": {
            "_model_module": "@jupyter-widgets/controls",
            "_model_module_version": "1.5.0",
            "_model_name": "ProgressStyleModel",
            "_view_count": null,
            "_view_module": "@jupyter-widgets/base",
            "_view_module_version": "1.2.0",
            "_view_name": "StyleView",
            "bar_color": null,
            "description_width": "initial"
          }
        },
        "838fc6b6bb704fd897d9145830d7bb9f": {
          "model_module": "@jupyter-widgets/base",
          "model_name": "LayoutModel",
          "state": {
            "_model_module": "@jupyter-widgets/base",
            "_model_module_version": "1.2.0",
            "_model_name": "LayoutModel",
            "_view_count": null,
            "_view_module": "@jupyter-widgets/base",
            "_view_module_version": "1.2.0",
            "_view_name": "LayoutView",
            "align_content": null,
            "align_items": null,
            "align_self": null,
            "border": null,
            "bottom": null,
            "display": null,
            "flex": null,
            "flex_flow": null,
            "grid_area": null,
            "grid_auto_columns": null,
            "grid_auto_flow": null,
            "grid_auto_rows": null,
            "grid_column": null,
            "grid_gap": null,
            "grid_row": null,
            "grid_template_areas": null,
            "grid_template_columns": null,
            "grid_template_rows": null,
            "height": null,
            "justify_content": null,
            "justify_items": null,
            "left": null,
            "margin": null,
            "max_height": null,
            "max_width": null,
            "min_height": null,
            "min_width": null,
            "object_fit": null,
            "object_position": null,
            "order": null,
            "overflow": null,
            "overflow_x": null,
            "overflow_y": null,
            "padding": null,
            "right": null,
            "top": null,
            "visibility": null,
            "width": null
          }
        },
        "268c4187cfc9490bacfa1eafe1fbcca1": {
          "model_module": "@jupyter-widgets/controls",
          "model_name": "DescriptionStyleModel",
          "state": {
            "_model_module": "@jupyter-widgets/controls",
            "_model_module_version": "1.5.0",
            "_model_name": "DescriptionStyleModel",
            "_view_count": null,
            "_view_module": "@jupyter-widgets/base",
            "_view_module_version": "1.2.0",
            "_view_name": "StyleView",
            "description_width": ""
          }
        },
        "940db33506ef463788996553c4bf5f74": {
          "model_module": "@jupyter-widgets/base",
          "model_name": "LayoutModel",
          "state": {
            "_model_module": "@jupyter-widgets/base",
            "_model_module_version": "1.2.0",
            "_model_name": "LayoutModel",
            "_view_count": null,
            "_view_module": "@jupyter-widgets/base",
            "_view_module_version": "1.2.0",
            "_view_name": "LayoutView",
            "align_content": null,
            "align_items": null,
            "align_self": null,
            "border": null,
            "bottom": null,
            "display": null,
            "flex": null,
            "flex_flow": null,
            "grid_area": null,
            "grid_auto_columns": null,
            "grid_auto_flow": null,
            "grid_auto_rows": null,
            "grid_column": null,
            "grid_gap": null,
            "grid_row": null,
            "grid_template_areas": null,
            "grid_template_columns": null,
            "grid_template_rows": null,
            "height": null,
            "justify_content": null,
            "justify_items": null,
            "left": null,
            "margin": null,
            "max_height": null,
            "max_width": null,
            "min_height": null,
            "min_width": null,
            "object_fit": null,
            "object_position": null,
            "order": null,
            "overflow": null,
            "overflow_x": null,
            "overflow_y": null,
            "padding": null,
            "right": null,
            "top": null,
            "visibility": null,
            "width": null
          }
        },
        "fb5c1e7223ac4634a16c161784505836": {
          "model_module": "@jupyter-widgets/controls",
          "model_name": "HBoxModel",
          "state": {
            "_dom_classes": [],
            "_model_module": "@jupyter-widgets/controls",
            "_model_module_version": "1.5.0",
            "_model_name": "HBoxModel",
            "_view_count": null,
            "_view_module": "@jupyter-widgets/controls",
            "_view_module_version": "1.5.0",
            "_view_name": "HBoxView",
            "box_style": "",
            "children": [
              "IPY_MODEL_471a09375e984a31824b27e279a6c4f3",
              "IPY_MODEL_27deb6f565ac4447a44770288071a0b8"
            ],
            "layout": "IPY_MODEL_7475bb3748de434eae59ef85715514da"
          }
        },
        "7475bb3748de434eae59ef85715514da": {
          "model_module": "@jupyter-widgets/base",
          "model_name": "LayoutModel",
          "state": {
            "_model_module": "@jupyter-widgets/base",
            "_model_module_version": "1.2.0",
            "_model_name": "LayoutModel",
            "_view_count": null,
            "_view_module": "@jupyter-widgets/base",
            "_view_module_version": "1.2.0",
            "_view_name": "LayoutView",
            "align_content": null,
            "align_items": null,
            "align_self": null,
            "border": null,
            "bottom": null,
            "display": null,
            "flex": null,
            "flex_flow": null,
            "grid_area": null,
            "grid_auto_columns": null,
            "grid_auto_flow": null,
            "grid_auto_rows": null,
            "grid_column": null,
            "grid_gap": null,
            "grid_row": null,
            "grid_template_areas": null,
            "grid_template_columns": null,
            "grid_template_rows": null,
            "height": null,
            "justify_content": null,
            "justify_items": null,
            "left": null,
            "margin": null,
            "max_height": null,
            "max_width": null,
            "min_height": null,
            "min_width": null,
            "object_fit": null,
            "object_position": null,
            "order": null,
            "overflow": null,
            "overflow_x": null,
            "overflow_y": null,
            "padding": null,
            "right": null,
            "top": null,
            "visibility": null,
            "width": null
          }
        },
        "471a09375e984a31824b27e279a6c4f3": {
          "model_module": "@jupyter-widgets/controls",
          "model_name": "FloatProgressModel",
          "state": {
            "_dom_classes": [],
            "_model_module": "@jupyter-widgets/controls",
            "_model_module_version": "1.5.0",
            "_model_name": "FloatProgressModel",
            "_view_count": null,
            "_view_module": "@jupyter-widgets/controls",
            "_view_module_version": "1.5.0",
            "_view_name": "ProgressView",
            "bar_style": "success",
            "description": "",
            "description_tooltip": null,
            "layout": "IPY_MODEL_37454b94184a4a10a9affa6e84e74f43",
            "max": 1,
            "min": 0,
            "orientation": "horizontal",
            "style": "IPY_MODEL_7a407d5347104eaa9ce6ec36250715d3",
            "value": 1
          }
        },
        "27deb6f565ac4447a44770288071a0b8": {
          "model_module": "@jupyter-widgets/controls",
          "model_name": "HTMLModel",
          "state": {
            "_dom_classes": [],
            "_model_module": "@jupyter-widgets/controls",
            "_model_module_version": "1.5.0",
            "_model_name": "HTMLModel",
            "_view_count": null,
            "_view_module": "@jupyter-widgets/controls",
            "_view_module_version": "1.5.0",
            "_view_name": "HTMLView",
            "description": "",
            "description_tooltip": null,
            "layout": "IPY_MODEL_9a9728af9dcb4e67a1a006297cd7b74c",
            "placeholder": "​",
            "style": "IPY_MODEL_e94b124aaf674431b6e424b9c6c1da87",
            "value": " 150/? [01:26&lt;00:00,  1.73it/s]"
          }
        },
        "7a407d5347104eaa9ce6ec36250715d3": {
          "model_module": "@jupyter-widgets/controls",
          "model_name": "ProgressStyleModel",
          "state": {
            "_model_module": "@jupyter-widgets/controls",
            "_model_module_version": "1.5.0",
            "_model_name": "ProgressStyleModel",
            "_view_count": null,
            "_view_module": "@jupyter-widgets/base",
            "_view_module_version": "1.2.0",
            "_view_name": "StyleView",
            "bar_color": null,
            "description_width": "initial"
          }
        },
        "37454b94184a4a10a9affa6e84e74f43": {
          "model_module": "@jupyter-widgets/base",
          "model_name": "LayoutModel",
          "state": {
            "_model_module": "@jupyter-widgets/base",
            "_model_module_version": "1.2.0",
            "_model_name": "LayoutModel",
            "_view_count": null,
            "_view_module": "@jupyter-widgets/base",
            "_view_module_version": "1.2.0",
            "_view_name": "LayoutView",
            "align_content": null,
            "align_items": null,
            "align_self": null,
            "border": null,
            "bottom": null,
            "display": null,
            "flex": null,
            "flex_flow": null,
            "grid_area": null,
            "grid_auto_columns": null,
            "grid_auto_flow": null,
            "grid_auto_rows": null,
            "grid_column": null,
            "grid_gap": null,
            "grid_row": null,
            "grid_template_areas": null,
            "grid_template_columns": null,
            "grid_template_rows": null,
            "height": null,
            "justify_content": null,
            "justify_items": null,
            "left": null,
            "margin": null,
            "max_height": null,
            "max_width": null,
            "min_height": null,
            "min_width": null,
            "object_fit": null,
            "object_position": null,
            "order": null,
            "overflow": null,
            "overflow_x": null,
            "overflow_y": null,
            "padding": null,
            "right": null,
            "top": null,
            "visibility": null,
            "width": null
          }
        },
        "e94b124aaf674431b6e424b9c6c1da87": {
          "model_module": "@jupyter-widgets/controls",
          "model_name": "DescriptionStyleModel",
          "state": {
            "_model_module": "@jupyter-widgets/controls",
            "_model_module_version": "1.5.0",
            "_model_name": "DescriptionStyleModel",
            "_view_count": null,
            "_view_module": "@jupyter-widgets/base",
            "_view_module_version": "1.2.0",
            "_view_name": "StyleView",
            "description_width": ""
          }
        },
        "9a9728af9dcb4e67a1a006297cd7b74c": {
          "model_module": "@jupyter-widgets/base",
          "model_name": "LayoutModel",
          "state": {
            "_model_module": "@jupyter-widgets/base",
            "_model_module_version": "1.2.0",
            "_model_name": "LayoutModel",
            "_view_count": null,
            "_view_module": "@jupyter-widgets/base",
            "_view_module_version": "1.2.0",
            "_view_name": "LayoutView",
            "align_content": null,
            "align_items": null,
            "align_self": null,
            "border": null,
            "bottom": null,
            "display": null,
            "flex": null,
            "flex_flow": null,
            "grid_area": null,
            "grid_auto_columns": null,
            "grid_auto_flow": null,
            "grid_auto_rows": null,
            "grid_column": null,
            "grid_gap": null,
            "grid_row": null,
            "grid_template_areas": null,
            "grid_template_columns": null,
            "grid_template_rows": null,
            "height": null,
            "justify_content": null,
            "justify_items": null,
            "left": null,
            "margin": null,
            "max_height": null,
            "max_width": null,
            "min_height": null,
            "min_width": null,
            "object_fit": null,
            "object_position": null,
            "order": null,
            "overflow": null,
            "overflow_x": null,
            "overflow_y": null,
            "padding": null,
            "right": null,
            "top": null,
            "visibility": null,
            "width": null
          }
        },
        "e7fc29feb6d3404d83c1e455602d5c1b": {
          "model_module": "@jupyter-widgets/controls",
          "model_name": "HBoxModel",
          "state": {
            "_dom_classes": [],
            "_model_module": "@jupyter-widgets/controls",
            "_model_module_version": "1.5.0",
            "_model_name": "HBoxModel",
            "_view_count": null,
            "_view_module": "@jupyter-widgets/controls",
            "_view_module_version": "1.5.0",
            "_view_name": "HBoxView",
            "box_style": "",
            "children": [
              "IPY_MODEL_2d2b6b3effa34b809c30379c42c3c861",
              "IPY_MODEL_f46251823d4f4d219bffc095047f8867"
            ],
            "layout": "IPY_MODEL_ddf41c306dc441eb85beb6ea7bfbfedd"
          }
        },
        "ddf41c306dc441eb85beb6ea7bfbfedd": {
          "model_module": "@jupyter-widgets/base",
          "model_name": "LayoutModel",
          "state": {
            "_model_module": "@jupyter-widgets/base",
            "_model_module_version": "1.2.0",
            "_model_name": "LayoutModel",
            "_view_count": null,
            "_view_module": "@jupyter-widgets/base",
            "_view_module_version": "1.2.0",
            "_view_name": "LayoutView",
            "align_content": null,
            "align_items": null,
            "align_self": null,
            "border": null,
            "bottom": null,
            "display": null,
            "flex": null,
            "flex_flow": null,
            "grid_area": null,
            "grid_auto_columns": null,
            "grid_auto_flow": null,
            "grid_auto_rows": null,
            "grid_column": null,
            "grid_gap": null,
            "grid_row": null,
            "grid_template_areas": null,
            "grid_template_columns": null,
            "grid_template_rows": null,
            "height": null,
            "justify_content": null,
            "justify_items": null,
            "left": null,
            "margin": null,
            "max_height": null,
            "max_width": null,
            "min_height": null,
            "min_width": null,
            "object_fit": null,
            "object_position": null,
            "order": null,
            "overflow": null,
            "overflow_x": null,
            "overflow_y": null,
            "padding": null,
            "right": null,
            "top": null,
            "visibility": null,
            "width": null
          }
        },
        "2d2b6b3effa34b809c30379c42c3c861": {
          "model_module": "@jupyter-widgets/controls",
          "model_name": "FloatProgressModel",
          "state": {
            "_dom_classes": [],
            "_model_module": "@jupyter-widgets/controls",
            "_model_module_version": "1.5.0",
            "_model_name": "FloatProgressModel",
            "_view_count": null,
            "_view_module": "@jupyter-widgets/controls",
            "_view_module_version": "1.5.0",
            "_view_name": "ProgressView",
            "bar_style": "success",
            "description": "",
            "description_tooltip": null,
            "layout": "IPY_MODEL_ad0c71bcf6d945098f04025bc52055f9",
            "max": 1,
            "min": 0,
            "orientation": "horizontal",
            "style": "IPY_MODEL_5605c8c2ad12431b88e1404953ecd6b9",
            "value": 1
          }
        },
        "f46251823d4f4d219bffc095047f8867": {
          "model_module": "@jupyter-widgets/controls",
          "model_name": "HTMLModel",
          "state": {
            "_dom_classes": [],
            "_model_module": "@jupyter-widgets/controls",
            "_model_module_version": "1.5.0",
            "_model_name": "HTMLModel",
            "_view_count": null,
            "_view_module": "@jupyter-widgets/controls",
            "_view_module_version": "1.5.0",
            "_view_name": "HTMLView",
            "description": "",
            "description_tooltip": null,
            "layout": "IPY_MODEL_9d3ae70779e447d0aa495a9872209d38",
            "placeholder": "​",
            "style": "IPY_MODEL_04619e3db74847f5b637c7d2b1d5b8b8",
            "value": " 150/? [14:12&lt;00:00,  5.68s/it]"
          }
        },
        "5605c8c2ad12431b88e1404953ecd6b9": {
          "model_module": "@jupyter-widgets/controls",
          "model_name": "ProgressStyleModel",
          "state": {
            "_model_module": "@jupyter-widgets/controls",
            "_model_module_version": "1.5.0",
            "_model_name": "ProgressStyleModel",
            "_view_count": null,
            "_view_module": "@jupyter-widgets/base",
            "_view_module_version": "1.2.0",
            "_view_name": "StyleView",
            "bar_color": null,
            "description_width": "initial"
          }
        },
        "ad0c71bcf6d945098f04025bc52055f9": {
          "model_module": "@jupyter-widgets/base",
          "model_name": "LayoutModel",
          "state": {
            "_model_module": "@jupyter-widgets/base",
            "_model_module_version": "1.2.0",
            "_model_name": "LayoutModel",
            "_view_count": null,
            "_view_module": "@jupyter-widgets/base",
            "_view_module_version": "1.2.0",
            "_view_name": "LayoutView",
            "align_content": null,
            "align_items": null,
            "align_self": null,
            "border": null,
            "bottom": null,
            "display": null,
            "flex": null,
            "flex_flow": null,
            "grid_area": null,
            "grid_auto_columns": null,
            "grid_auto_flow": null,
            "grid_auto_rows": null,
            "grid_column": null,
            "grid_gap": null,
            "grid_row": null,
            "grid_template_areas": null,
            "grid_template_columns": null,
            "grid_template_rows": null,
            "height": null,
            "justify_content": null,
            "justify_items": null,
            "left": null,
            "margin": null,
            "max_height": null,
            "max_width": null,
            "min_height": null,
            "min_width": null,
            "object_fit": null,
            "object_position": null,
            "order": null,
            "overflow": null,
            "overflow_x": null,
            "overflow_y": null,
            "padding": null,
            "right": null,
            "top": null,
            "visibility": null,
            "width": null
          }
        },
        "04619e3db74847f5b637c7d2b1d5b8b8": {
          "model_module": "@jupyter-widgets/controls",
          "model_name": "DescriptionStyleModel",
          "state": {
            "_model_module": "@jupyter-widgets/controls",
            "_model_module_version": "1.5.0",
            "_model_name": "DescriptionStyleModel",
            "_view_count": null,
            "_view_module": "@jupyter-widgets/base",
            "_view_module_version": "1.2.0",
            "_view_name": "StyleView",
            "description_width": ""
          }
        },
        "9d3ae70779e447d0aa495a9872209d38": {
          "model_module": "@jupyter-widgets/base",
          "model_name": "LayoutModel",
          "state": {
            "_model_module": "@jupyter-widgets/base",
            "_model_module_version": "1.2.0",
            "_model_name": "LayoutModel",
            "_view_count": null,
            "_view_module": "@jupyter-widgets/base",
            "_view_module_version": "1.2.0",
            "_view_name": "LayoutView",
            "align_content": null,
            "align_items": null,
            "align_self": null,
            "border": null,
            "bottom": null,
            "display": null,
            "flex": null,
            "flex_flow": null,
            "grid_area": null,
            "grid_auto_columns": null,
            "grid_auto_flow": null,
            "grid_auto_rows": null,
            "grid_column": null,
            "grid_gap": null,
            "grid_row": null,
            "grid_template_areas": null,
            "grid_template_columns": null,
            "grid_template_rows": null,
            "height": null,
            "justify_content": null,
            "justify_items": null,
            "left": null,
            "margin": null,
            "max_height": null,
            "max_width": null,
            "min_height": null,
            "min_width": null,
            "object_fit": null,
            "object_position": null,
            "order": null,
            "overflow": null,
            "overflow_x": null,
            "overflow_y": null,
            "padding": null,
            "right": null,
            "top": null,
            "visibility": null,
            "width": null
          }
        },
        "906c310a405b4822a19d206cf3467f9b": {
          "model_module": "@jupyter-widgets/controls",
          "model_name": "HBoxModel",
          "state": {
            "_dom_classes": [],
            "_model_module": "@jupyter-widgets/controls",
            "_model_module_version": "1.5.0",
            "_model_name": "HBoxModel",
            "_view_count": null,
            "_view_module": "@jupyter-widgets/controls",
            "_view_module_version": "1.5.0",
            "_view_name": "HBoxView",
            "box_style": "",
            "children": [
              "IPY_MODEL_61a4358811654212bd669c1c6c40b4cd",
              "IPY_MODEL_917a8ab6a55b4cd382b1cd1982d5a227"
            ],
            "layout": "IPY_MODEL_75b200a4d1cb4f1cab2204139ac8fff5"
          }
        },
        "75b200a4d1cb4f1cab2204139ac8fff5": {
          "model_module": "@jupyter-widgets/base",
          "model_name": "LayoutModel",
          "state": {
            "_model_module": "@jupyter-widgets/base",
            "_model_module_version": "1.2.0",
            "_model_name": "LayoutModel",
            "_view_count": null,
            "_view_module": "@jupyter-widgets/base",
            "_view_module_version": "1.2.0",
            "_view_name": "LayoutView",
            "align_content": null,
            "align_items": null,
            "align_self": null,
            "border": null,
            "bottom": null,
            "display": null,
            "flex": null,
            "flex_flow": null,
            "grid_area": null,
            "grid_auto_columns": null,
            "grid_auto_flow": null,
            "grid_auto_rows": null,
            "grid_column": null,
            "grid_gap": null,
            "grid_row": null,
            "grid_template_areas": null,
            "grid_template_columns": null,
            "grid_template_rows": null,
            "height": null,
            "justify_content": null,
            "justify_items": null,
            "left": null,
            "margin": null,
            "max_height": null,
            "max_width": null,
            "min_height": null,
            "min_width": null,
            "object_fit": null,
            "object_position": null,
            "order": null,
            "overflow": null,
            "overflow_x": null,
            "overflow_y": null,
            "padding": null,
            "right": null,
            "top": null,
            "visibility": null,
            "width": null
          }
        },
        "61a4358811654212bd669c1c6c40b4cd": {
          "model_module": "@jupyter-widgets/controls",
          "model_name": "FloatProgressModel",
          "state": {
            "_dom_classes": [],
            "_model_module": "@jupyter-widgets/controls",
            "_model_module_version": "1.5.0",
            "_model_name": "FloatProgressModel",
            "_view_count": null,
            "_view_module": "@jupyter-widgets/controls",
            "_view_module_version": "1.5.0",
            "_view_name": "ProgressView",
            "bar_style": "success",
            "description": "",
            "description_tooltip": null,
            "layout": "IPY_MODEL_2df67220b98547639c10a80ceb63b1ef",
            "max": 1,
            "min": 0,
            "orientation": "horizontal",
            "style": "IPY_MODEL_7b8fca08cafe4f7e9ad9f519bb005fd1",
            "value": 1
          }
        },
        "917a8ab6a55b4cd382b1cd1982d5a227": {
          "model_module": "@jupyter-widgets/controls",
          "model_name": "HTMLModel",
          "state": {
            "_dom_classes": [],
            "_model_module": "@jupyter-widgets/controls",
            "_model_module_version": "1.5.0",
            "_model_name": "HTMLModel",
            "_view_count": null,
            "_view_module": "@jupyter-widgets/controls",
            "_view_module_version": "1.5.0",
            "_view_name": "HTMLView",
            "description": "",
            "description_tooltip": null,
            "layout": "IPY_MODEL_4778d193b45a4e2ca8871f19b195a26b",
            "placeholder": "​",
            "style": "IPY_MODEL_58d8bd8caffa47788931111cd5d05409",
            "value": " 150/? [01:08&lt;00:00,  2.18it/s]"
          }
        },
        "7b8fca08cafe4f7e9ad9f519bb005fd1": {
          "model_module": "@jupyter-widgets/controls",
          "model_name": "ProgressStyleModel",
          "state": {
            "_model_module": "@jupyter-widgets/controls",
            "_model_module_version": "1.5.0",
            "_model_name": "ProgressStyleModel",
            "_view_count": null,
            "_view_module": "@jupyter-widgets/base",
            "_view_module_version": "1.2.0",
            "_view_name": "StyleView",
            "bar_color": null,
            "description_width": "initial"
          }
        },
        "2df67220b98547639c10a80ceb63b1ef": {
          "model_module": "@jupyter-widgets/base",
          "model_name": "LayoutModel",
          "state": {
            "_model_module": "@jupyter-widgets/base",
            "_model_module_version": "1.2.0",
            "_model_name": "LayoutModel",
            "_view_count": null,
            "_view_module": "@jupyter-widgets/base",
            "_view_module_version": "1.2.0",
            "_view_name": "LayoutView",
            "align_content": null,
            "align_items": null,
            "align_self": null,
            "border": null,
            "bottom": null,
            "display": null,
            "flex": null,
            "flex_flow": null,
            "grid_area": null,
            "grid_auto_columns": null,
            "grid_auto_flow": null,
            "grid_auto_rows": null,
            "grid_column": null,
            "grid_gap": null,
            "grid_row": null,
            "grid_template_areas": null,
            "grid_template_columns": null,
            "grid_template_rows": null,
            "height": null,
            "justify_content": null,
            "justify_items": null,
            "left": null,
            "margin": null,
            "max_height": null,
            "max_width": null,
            "min_height": null,
            "min_width": null,
            "object_fit": null,
            "object_position": null,
            "order": null,
            "overflow": null,
            "overflow_x": null,
            "overflow_y": null,
            "padding": null,
            "right": null,
            "top": null,
            "visibility": null,
            "width": null
          }
        },
        "58d8bd8caffa47788931111cd5d05409": {
          "model_module": "@jupyter-widgets/controls",
          "model_name": "DescriptionStyleModel",
          "state": {
            "_model_module": "@jupyter-widgets/controls",
            "_model_module_version": "1.5.0",
            "_model_name": "DescriptionStyleModel",
            "_view_count": null,
            "_view_module": "@jupyter-widgets/base",
            "_view_module_version": "1.2.0",
            "_view_name": "StyleView",
            "description_width": ""
          }
        },
        "4778d193b45a4e2ca8871f19b195a26b": {
          "model_module": "@jupyter-widgets/base",
          "model_name": "LayoutModel",
          "state": {
            "_model_module": "@jupyter-widgets/base",
            "_model_module_version": "1.2.0",
            "_model_name": "LayoutModel",
            "_view_count": null,
            "_view_module": "@jupyter-widgets/base",
            "_view_module_version": "1.2.0",
            "_view_name": "LayoutView",
            "align_content": null,
            "align_items": null,
            "align_self": null,
            "border": null,
            "bottom": null,
            "display": null,
            "flex": null,
            "flex_flow": null,
            "grid_area": null,
            "grid_auto_columns": null,
            "grid_auto_flow": null,
            "grid_auto_rows": null,
            "grid_column": null,
            "grid_gap": null,
            "grid_row": null,
            "grid_template_areas": null,
            "grid_template_columns": null,
            "grid_template_rows": null,
            "height": null,
            "justify_content": null,
            "justify_items": null,
            "left": null,
            "margin": null,
            "max_height": null,
            "max_width": null,
            "min_height": null,
            "min_width": null,
            "object_fit": null,
            "object_position": null,
            "order": null,
            "overflow": null,
            "overflow_x": null,
            "overflow_y": null,
            "padding": null,
            "right": null,
            "top": null,
            "visibility": null,
            "width": null
          }
        },
        "267a56c7a2f542e3b24a5f790491a550": {
          "model_module": "@jupyter-widgets/controls",
          "model_name": "HBoxModel",
          "state": {
            "_dom_classes": [],
            "_model_module": "@jupyter-widgets/controls",
            "_model_module_version": "1.5.0",
            "_model_name": "HBoxModel",
            "_view_count": null,
            "_view_module": "@jupyter-widgets/controls",
            "_view_module_version": "1.5.0",
            "_view_name": "HBoxView",
            "box_style": "",
            "children": [
              "IPY_MODEL_db85fdb064634d80b1904313a3b81ddb",
              "IPY_MODEL_1cbf0dd906ac41e985bd752f526fa2d4"
            ],
            "layout": "IPY_MODEL_dc94b3b543714dd0845fdadca7db22a3"
          }
        },
        "dc94b3b543714dd0845fdadca7db22a3": {
          "model_module": "@jupyter-widgets/base",
          "model_name": "LayoutModel",
          "state": {
            "_model_module": "@jupyter-widgets/base",
            "_model_module_version": "1.2.0",
            "_model_name": "LayoutModel",
            "_view_count": null,
            "_view_module": "@jupyter-widgets/base",
            "_view_module_version": "1.2.0",
            "_view_name": "LayoutView",
            "align_content": null,
            "align_items": null,
            "align_self": null,
            "border": null,
            "bottom": null,
            "display": null,
            "flex": null,
            "flex_flow": null,
            "grid_area": null,
            "grid_auto_columns": null,
            "grid_auto_flow": null,
            "grid_auto_rows": null,
            "grid_column": null,
            "grid_gap": null,
            "grid_row": null,
            "grid_template_areas": null,
            "grid_template_columns": null,
            "grid_template_rows": null,
            "height": null,
            "justify_content": null,
            "justify_items": null,
            "left": null,
            "margin": null,
            "max_height": null,
            "max_width": null,
            "min_height": null,
            "min_width": null,
            "object_fit": null,
            "object_position": null,
            "order": null,
            "overflow": null,
            "overflow_x": null,
            "overflow_y": null,
            "padding": null,
            "right": null,
            "top": null,
            "visibility": null,
            "width": null
          }
        },
        "db85fdb064634d80b1904313a3b81ddb": {
          "model_module": "@jupyter-widgets/controls",
          "model_name": "FloatProgressModel",
          "state": {
            "_dom_classes": [],
            "_model_module": "@jupyter-widgets/controls",
            "_model_module_version": "1.5.0",
            "_model_name": "FloatProgressModel",
            "_view_count": null,
            "_view_module": "@jupyter-widgets/controls",
            "_view_module_version": "1.5.0",
            "_view_name": "ProgressView",
            "bar_style": "success",
            "description": "",
            "description_tooltip": null,
            "layout": "IPY_MODEL_9459d0d307814c34aa8a31945a82adb7",
            "max": 1,
            "min": 0,
            "orientation": "horizontal",
            "style": "IPY_MODEL_ed804e9c6fae4499aa3e6fef00f5de44",
            "value": 1
          }
        },
        "1cbf0dd906ac41e985bd752f526fa2d4": {
          "model_module": "@jupyter-widgets/controls",
          "model_name": "HTMLModel",
          "state": {
            "_dom_classes": [],
            "_model_module": "@jupyter-widgets/controls",
            "_model_module_version": "1.5.0",
            "_model_name": "HTMLModel",
            "_view_count": null,
            "_view_module": "@jupyter-widgets/controls",
            "_view_module_version": "1.5.0",
            "_view_name": "HTMLView",
            "description": "",
            "description_tooltip": null,
            "layout": "IPY_MODEL_6005029df2504711a96df12e14290100",
            "placeholder": "​",
            "style": "IPY_MODEL_41ceec6b9c214b18891c8ab915d5c19c",
            "value": " 150/? [01:09&lt;00:00,  2.17it/s]"
          }
        },
        "ed804e9c6fae4499aa3e6fef00f5de44": {
          "model_module": "@jupyter-widgets/controls",
          "model_name": "ProgressStyleModel",
          "state": {
            "_model_module": "@jupyter-widgets/controls",
            "_model_module_version": "1.5.0",
            "_model_name": "ProgressStyleModel",
            "_view_count": null,
            "_view_module": "@jupyter-widgets/base",
            "_view_module_version": "1.2.0",
            "_view_name": "StyleView",
            "bar_color": null,
            "description_width": "initial"
          }
        },
        "9459d0d307814c34aa8a31945a82adb7": {
          "model_module": "@jupyter-widgets/base",
          "model_name": "LayoutModel",
          "state": {
            "_model_module": "@jupyter-widgets/base",
            "_model_module_version": "1.2.0",
            "_model_name": "LayoutModel",
            "_view_count": null,
            "_view_module": "@jupyter-widgets/base",
            "_view_module_version": "1.2.0",
            "_view_name": "LayoutView",
            "align_content": null,
            "align_items": null,
            "align_self": null,
            "border": null,
            "bottom": null,
            "display": null,
            "flex": null,
            "flex_flow": null,
            "grid_area": null,
            "grid_auto_columns": null,
            "grid_auto_flow": null,
            "grid_auto_rows": null,
            "grid_column": null,
            "grid_gap": null,
            "grid_row": null,
            "grid_template_areas": null,
            "grid_template_columns": null,
            "grid_template_rows": null,
            "height": null,
            "justify_content": null,
            "justify_items": null,
            "left": null,
            "margin": null,
            "max_height": null,
            "max_width": null,
            "min_height": null,
            "min_width": null,
            "object_fit": null,
            "object_position": null,
            "order": null,
            "overflow": null,
            "overflow_x": null,
            "overflow_y": null,
            "padding": null,
            "right": null,
            "top": null,
            "visibility": null,
            "width": null
          }
        },
        "41ceec6b9c214b18891c8ab915d5c19c": {
          "model_module": "@jupyter-widgets/controls",
          "model_name": "DescriptionStyleModel",
          "state": {
            "_model_module": "@jupyter-widgets/controls",
            "_model_module_version": "1.5.0",
            "_model_name": "DescriptionStyleModel",
            "_view_count": null,
            "_view_module": "@jupyter-widgets/base",
            "_view_module_version": "1.2.0",
            "_view_name": "StyleView",
            "description_width": ""
          }
        },
        "6005029df2504711a96df12e14290100": {
          "model_module": "@jupyter-widgets/base",
          "model_name": "LayoutModel",
          "state": {
            "_model_module": "@jupyter-widgets/base",
            "_model_module_version": "1.2.0",
            "_model_name": "LayoutModel",
            "_view_count": null,
            "_view_module": "@jupyter-widgets/base",
            "_view_module_version": "1.2.0",
            "_view_name": "LayoutView",
            "align_content": null,
            "align_items": null,
            "align_self": null,
            "border": null,
            "bottom": null,
            "display": null,
            "flex": null,
            "flex_flow": null,
            "grid_area": null,
            "grid_auto_columns": null,
            "grid_auto_flow": null,
            "grid_auto_rows": null,
            "grid_column": null,
            "grid_gap": null,
            "grid_row": null,
            "grid_template_areas": null,
            "grid_template_columns": null,
            "grid_template_rows": null,
            "height": null,
            "justify_content": null,
            "justify_items": null,
            "left": null,
            "margin": null,
            "max_height": null,
            "max_width": null,
            "min_height": null,
            "min_width": null,
            "object_fit": null,
            "object_position": null,
            "order": null,
            "overflow": null,
            "overflow_x": null,
            "overflow_y": null,
            "padding": null,
            "right": null,
            "top": null,
            "visibility": null,
            "width": null
          }
        }
      }
    }
  },
  "cells": [
    {
      "cell_type": "markdown",
      "metadata": {
        "id": "view-in-github",
        "colab_type": "text"
      },
      "source": [
        "<a href=\"https://colab.research.google.com/github/jp-ishimwe/Projects/blob/master/Final_Project.ipynb\" target=\"_parent\"><img src=\"https://colab.research.google.com/assets/colab-badge.svg\" alt=\"Open In Colab\"/></a>"
      ]
    },
    {
      "cell_type": "code",
      "metadata": {
        "id": "mC1GOaVUZ0tj",
        "colab_type": "code",
        "colab": {}
      },
      "source": [
        "%%capture\n",
        "!pip install transformers --upgrade\n",
        "#!pip install transformers -q\n",
        "#!pip install wandb -q\n",
        "!pip install --upgrade wandb\n",
        "!pip install dill -q"
      ],
      "execution_count": 1,
      "outputs": []
    },
    {
      "cell_type": "code",
      "metadata": {
        "colab_type": "code",
        "id": "vxxkIi-xDrUz",
        "colab": {
          "base_uri": "https://localhost:8080/",
          "height": 55
        },
        "outputId": "3089c626-558c-4033-df7a-4a87e7c3743a"
      },
      "source": [
        "#@title Import packages { run: \"auto\", vertical-output: true, display-mode: \"both\" }\n",
        "from __future__ import unicode_literals, print_function, division\n",
        "from io import open\n",
        "import unicodedata\n",
        "import string\n",
        "import re\n",
        "import random\n",
        "import pandas as pd\n",
        "import numpy as np\n",
        "from collections import defaultdict\n",
        "from sklearn.base import BaseEstimator, TransformerMixin\n",
        "from tqdm.notebook import tqdm\n",
        "from sklearn.model_selection import train_test_split\n",
        "import pickle\n",
        "import dill\n",
        "import tarfile\n",
        "import json, gzip\n",
        "\n",
        "import wandb\n",
        "\n",
        "import torch\n",
        "import torch.nn as nn\n",
        "import torch.optim as optim\n",
        "import torch.nn.functional as F\n",
        "from transformers import T5Tokenizer, T5ForConditionalGeneration\n",
        "from torch.utils.data import Dataset, DataLoader\n",
        "from torch.optim.lr_scheduler import ReduceLROnPlateau\n",
        "\n",
        "# Ignore excessive warnings\n",
        "import logging\n",
        "logging.propagate = False \n",
        "logging.getLogger().setLevel(logging.ERROR)\n",
        "\n",
        "import warnings\n",
        "warnings.filterwarnings('ignore')"
      ],
      "execution_count": 2,
      "outputs": [
        {
          "output_type": "stream",
          "text": [
            "\u001b[34m\u001b[1mwandb\u001b[0m: \u001b[33mWARNING\u001b[0m W&B installed but not logged in.  Run `wandb login` or set the WANDB_API_KEY env variable.\n"
          ],
          "name": "stderr"
        }
      ]
    },
    {
      "cell_type": "code",
      "metadata": {
        "colab_type": "code",
        "id": "LME26NCmM8ne",
        "colab": {
          "base_uri": "https://localhost:8080/",
          "height": 126
        },
        "outputId": "70fadb92-ca06-4952-aa13-baf78a7f8000"
      },
      "source": [
        "from google.colab import drive\n",
        "drive.mount('/content/drive')"
      ],
      "execution_count": 3,
      "outputs": [
        {
          "output_type": "stream",
          "text": [
            "Go to this URL in a browser: https://accounts.google.com/o/oauth2/auth?client_id=947318989803-6bn6qk8qdgf4n4g3pfee6491hc0brc4i.apps.googleusercontent.com&redirect_uri=urn%3aietf%3awg%3aoauth%3a2.0%3aoob&response_type=code&scope=email%20https%3a%2f%2fwww.googleapis.com%2fauth%2fdocs.test%20https%3a%2f%2fwww.googleapis.com%2fauth%2fdrive%20https%3a%2f%2fwww.googleapis.com%2fauth%2fdrive.photos.readonly%20https%3a%2f%2fwww.googleapis.com%2fauth%2fpeopleapi.readonly\n",
            "\n",
            "Enter your authorization code:\n",
            "··········\n",
            "Mounted at /content/drive\n"
          ],
          "name": "stdout"
        }
      ]
    },
    {
      "cell_type": "code",
      "metadata": {
        "id": "7x02sz9RZ0tw",
        "colab_type": "code",
        "colab": {},
        "outputId": "4f4d2786-1846-4047-b82b-3f98f9c02a35"
      },
      "source": [
        "pwd"
      ],
      "execution_count": null,
      "outputs": [
        {
          "output_type": "execute_result",
          "data": {
            "application/vnd.google.colaboratory.intrinsic+json": {
              "type": "string"
            },
            "text/plain": [
              "'/root/Projects'"
            ]
          },
          "metadata": {
            "tags": []
          },
          "execution_count": 3
        }
      ]
    },
    {
      "cell_type": "code",
      "metadata": {
        "colab_type": "code",
        "id": "-t7E9fLj8Zjd",
        "colab": {}
      },
      "source": [
        "#!cp '/root/optimizers.py' '/root/Projects/' # SSH\n",
        "#!cp '/home/jupyter/optimizers.py' '/home/jupyter/Projects/' # for GCP\n",
        "!cp '/content/drive/My Drive/Colab Notebooks/optimizers.py' .\n",
        "\n",
        "\n",
        "from optimizers import AdaFactor"
      ],
      "execution_count": 4,
      "outputs": []
    },
    {
      "cell_type": "code",
      "metadata": {
        "colab_type": "code",
        "id": "7rF67H7GnK2U",
        "colab": {
          "base_uri": "https://localhost:8080/",
          "height": 444
        },
        "outputId": "73b7b959-b7c0-46b0-dfab-5d17f41d8b1d"
      },
      "source": [
        "!nvidia-smi\n",
        "!/usr/local/cuda/bin/nvcc --version"
      ],
      "execution_count": 5,
      "outputs": [
        {
          "output_type": "stream",
          "text": [
            "Thu Jul 23 12:50:12 2020       \n",
            "+-----------------------------------------------------------------------------+\n",
            "| NVIDIA-SMI 450.51.05    Driver Version: 418.67       CUDA Version: 10.1     |\n",
            "|-------------------------------+----------------------+----------------------+\n",
            "| GPU  Name        Persistence-M| Bus-Id        Disp.A | Volatile Uncorr. ECC |\n",
            "| Fan  Temp  Perf  Pwr:Usage/Cap|         Memory-Usage | GPU-Util  Compute M. |\n",
            "|                               |                      |               MIG M. |\n",
            "|===============================+======================+======================|\n",
            "|   0  Tesla K80           Off  | 00000000:00:04.0 Off |                    0 |\n",
            "| N/A   37C    P8    27W / 149W |     11MiB / 11441MiB |      0%      Default |\n",
            "|                               |                      |                 ERR! |\n",
            "+-------------------------------+----------------------+----------------------+\n",
            "                                                                               \n",
            "+-----------------------------------------------------------------------------+\n",
            "| Processes:                                                                  |\n",
            "|  GPU   GI   CI        PID   Type   Process name                  GPU Memory |\n",
            "|        ID   ID                                                   Usage      |\n",
            "|=============================================================================|\n",
            "|  No running processes found                                                 |\n",
            "+-----------------------------------------------------------------------------+\n",
            "nvcc: NVIDIA (R) Cuda compiler driver\n",
            "Copyright (c) 2005-2019 NVIDIA Corporation\n",
            "Built on Sun_Jul_28_19:07:16_PDT_2019\n",
            "Cuda compilation tools, release 10.1, V10.1.243\n"
          ],
          "name": "stdout"
        }
      ]
    },
    {
      "cell_type": "code",
      "metadata": {
        "colab_type": "code",
        "id": "1g1xKdoCnMAq",
        "colab": {
          "base_uri": "https://localhost:8080/",
          "height": 35
        },
        "outputId": "eb74740f-11c0-4e87-86c3-ab1bcc3a6255"
      },
      "source": [
        "#@title To proceed should be cuda { run: \"auto\", vertical-output: true }\n",
        "CUDA = torch.cuda.is_available()\n",
        "device = torch.device(\"cuda\" if CUDA else \"cpu\")\n",
        "print(device)"
      ],
      "execution_count": 6,
      "outputs": [
        {
          "output_type": "stream",
          "text": [
            "cuda\n"
          ],
          "name": "stdout"
        }
      ]
    },
    {
      "cell_type": "code",
      "metadata": {
        "id": "Hw0ODwZcZ0uK",
        "colab_type": "code",
        "colab": {}
      },
      "source": [
        "##!wandb login fac9119080ca108ca15c420ede645a5e6e79a07c"
      ],
      "execution_count": null,
      "outputs": []
    },
    {
      "cell_type": "markdown",
      "metadata": {
        "id": "nfR90Du5Z0uO",
        "colab_type": "text"
      },
      "source": [
        "### First Log in "
      ]
    },
    {
      "cell_type": "code",
      "metadata": {
        "id": "mRGBjUHGZ0uO",
        "colab_type": "code",
        "colab": {
          "base_uri": "https://localhost:8080/",
          "height": 230
        },
        "outputId": "1298d565-7f9d-43eb-9a38-0970efe560aa"
      },
      "source": [
        "!wandb login"
      ],
      "execution_count": 7,
      "outputs": [
        {
          "output_type": "stream",
          "text": [
            "\u001b[34m\u001b[1mwandb\u001b[0m: (1) Create a W&B account\n",
            "\u001b[34m\u001b[1mwandb\u001b[0m: (2) Use an existing W&B account\n",
            "\u001b[34m\u001b[1mwandb\u001b[0m: (3) Don't visualize my results\n",
            "\u001b[34m\u001b[1mwandb\u001b[0m: Enter your choice: 2\n",
            "\u001b[34m\u001b[1mwandb\u001b[0m: You chose 'Use an existing W&B account'\n",
            "\u001b[34m\u001b[1mwandb\u001b[0m: You can find your API key in your browser here: https://app.wandb.ai/authorize\n",
            "\u001b[34m\u001b[1mwandb\u001b[0m: Paste an API key from your profile and hit enter\n",
            "\u001b[34m\u001b[1mwandb\u001b[0m: Appending key for api.wandb.ai to your netrc file: /root/.netrc\n",
            "\u001b[34m\u001b[1mwandb\u001b[0m: You can find your API key in your browser here: https://app.wandb.ai/authorize\n",
            "\u001b[34m\u001b[1mwandb\u001b[0m: Paste an API key from your profile and hit enter: fac9119080ca108ca15c420ede645a5e6e79a07c\n",
            "\u001b[34m\u001b[1mwandb\u001b[0m: Appending key for api.wandb.ai to your netrc file: /root/.netrc\n",
            "\u001b[32mSuccessfully logged in to Weights & Biases!\u001b[0m\n"
          ],
          "name": "stdout"
        }
      ]
    },
    {
      "cell_type": "markdown",
      "metadata": {
        "colab_type": "text",
        "id": "1jvIoL5I0Eb5"
      },
      "source": [
        "#### Getting dataset"
      ]
    },
    {
      "cell_type": "markdown",
      "metadata": {
        "colab_type": "text",
        "id": "wGVOHhrk0GOP"
      },
      "source": [
        "You can find the dataset [here](http://lil.nlp.cornell.edu/newsroom/download/index.html)"
      ]
    },
    {
      "cell_type": "markdown",
      "metadata": {
        "colab_type": "text",
        "id": "zkDYkbKV0SUM"
      },
      "source": [
        "**Loading data**"
      ]
    },
    {
      "cell_type": "code",
      "metadata": {
        "colab_type": "code",
        "id": "AoIiFXg1juKC",
        "colab": {}
      },
      "source": [
        "# fname = '/content/drive/My Drive/Colab Notebooks/newsroom-release.tar'\n",
        "\n",
        "# tar = tarfile.open(fname, \"r:\")\n",
        "# tar.extractall()\n",
        "# tar.close()"
      ],
      "execution_count": null,
      "outputs": []
    },
    {
      "cell_type": "code",
      "metadata": {
        "colab_type": "code",
        "id": "1YuQmBQpP3C7",
        "colab": {}
      },
      "source": [
        "!mv '/content/data/' '/content/drive/My Drive/Colab Notebooks'"
      ],
      "execution_count": null,
      "outputs": []
    },
    {
      "cell_type": "code",
      "metadata": {
        "colab_type": "code",
        "id": "GDTflryEPO9G",
        "colab": {}
      },
      "source": [
        "!cp -r '/content/release/' '/content/drive/My Drive/Colab Notebooks/data'"
      ],
      "execution_count": null,
      "outputs": []
    },
    {
      "cell_type": "code",
      "metadata": {
        "colab_type": "code",
        "id": "5Z9YGB5TmYqR",
        "colab": {}
      },
      "source": [
        "#path = '/home/jupyter/' # GCp\n",
        "#path = '/root/release/' # SSH\n",
        "path = \"/content/drive/My Drive/Colab Notebooks/data/release/\" # Colab\n",
        "\n",
        "def read_data(path, name):\n",
        "  data = []\n",
        "  with gzip.open(path + name + \".jsonl.gz\") as f: #+\".jsonl.gz\" with GCP\n",
        "      for ln in f:\n",
        "          obj = json.loads(ln)\n",
        "          data.append(obj)\n",
        "  return data\n",
        "\n",
        "trainset = read_data(path, 'train') \n",
        "devset = read_data(path, 'dev')\n",
        "#testset = read_data(path, 'test')"
      ],
      "execution_count": 10,
      "outputs": []
    },
    {
      "cell_type": "code",
      "metadata": {
        "colab_type": "code",
        "id": "Gv1SfBCrIaW4",
        "colab": {}
      },
      "source": [
        "def get_data(data):\n",
        "  data_dict = {'text': [], 'summary': []}\n",
        "  for article in data:\n",
        "    data_dict['text'].append(article['text'])\n",
        "    data_dict['summary'].append(article['summary'])\n",
        "  return pd.DataFrame(data_dict)\n",
        "\n",
        "train_data = get_data(trainset)\n",
        "valid_data = get_data(devset)\n",
        "# test_data = get_data(testset)"
      ],
      "execution_count": 11,
      "outputs": []
    },
    {
      "cell_type": "code",
      "metadata": {
        "id": "k3sSaZA_Z0ul",
        "colab_type": "code",
        "colab": {
          "base_uri": "https://localhost:8080/",
          "height": 194
        },
        "outputId": "56ff0a7d-bb37-4fc0-88f6-1d37b35dfee6"
      },
      "source": [
        "train_data.head()"
      ],
      "execution_count": 12,
      "outputs": [
        {
          "output_type": "execute_result",
          "data": {
            "text/html": [
              "<div>\n",
              "<style scoped>\n",
              "    .dataframe tbody tr th:only-of-type {\n",
              "        vertical-align: middle;\n",
              "    }\n",
              "\n",
              "    .dataframe tbody tr th {\n",
              "        vertical-align: top;\n",
              "    }\n",
              "\n",
              "    .dataframe thead th {\n",
              "        text-align: right;\n",
              "    }\n",
              "</style>\n",
              "<table border=\"1\" class=\"dataframe\">\n",
              "  <thead>\n",
              "    <tr style=\"text-align: right;\">\n",
              "      <th></th>\n",
              "      <th>text</th>\n",
              "      <th>summary</th>\n",
              "    </tr>\n",
              "  </thead>\n",
              "  <tbody>\n",
              "    <tr>\n",
              "      <th>0</th>\n",
              "      <td>HAMBURG, Germany, June 3  As he left the socc...</td>\n",
              "      <td>A surge in discriminatory behavior toward blac...</td>\n",
              "    </tr>\n",
              "    <tr>\n",
              "      <th>1</th>\n",
              "      <td>WASHINGTON, Dec. 23 - The National Security Ag...</td>\n",
              "      <td>The volume of information harvested, without \\...</td>\n",
              "    </tr>\n",
              "    <tr>\n",
              "      <th>2</th>\n",
              "      <td>IF outsized executive pay has indeed become a ...</td>\n",
              "      <td>The battle between Pfizer Inc.'s investors and...</td>\n",
              "    </tr>\n",
              "    <tr>\n",
              "      <th>3</th>\n",
              "      <td>BY A.J. BENZA &amp; MICHAEL LEWITTES\\n\\nIf Simon R...</td>\n",
              "      <td>If Simon Rex looks a little familiar, it may n...</td>\n",
              "    </tr>\n",
              "    <tr>\n",
              "      <th>4</th>\n",
              "      <td>Spinach has terrorized generations of veggie-p...</td>\n",
              "      <td>POPEYE-WORTHY PIE. PHYLLO DOUGH WRAPS SPINACH ...</td>\n",
              "    </tr>\n",
              "  </tbody>\n",
              "</table>\n",
              "</div>"
            ],
            "text/plain": [
              "                                                text                                            summary\n",
              "0  HAMBURG, Germany, June 3  As he left the socc...  A surge in discriminatory behavior toward blac...\n",
              "1  WASHINGTON, Dec. 23 - The National Security Ag...  The volume of information harvested, without \\...\n",
              "2  IF outsized executive pay has indeed become a ...  The battle between Pfizer Inc.'s investors and...\n",
              "3  BY A.J. BENZA & MICHAEL LEWITTES\\n\\nIf Simon R...  If Simon Rex looks a little familiar, it may n...\n",
              "4  Spinach has terrorized generations of veggie-p...  POPEYE-WORTHY PIE. PHYLLO DOUGH WRAPS SPINACH ..."
            ]
          },
          "metadata": {
            "tags": []
          },
          "execution_count": 12
        }
      ]
    },
    {
      "cell_type": "code",
      "metadata": {
        "colab_type": "code",
        "id": "eia69USAvek8",
        "colab": {
          "base_uri": "https://localhost:8080/",
          "height": 35
        },
        "outputId": "5de67e80-2788-4f05-ba70-f3e43ca044ed"
      },
      "source": [
        "print(f'The size of training dataset:{train_data.shape} | validation dataset: {valid_data.shape}')"
      ],
      "execution_count": 13,
      "outputs": [
        {
          "output_type": "stream",
          "text": [
            "The size of training dataset:(995041, 2) | validation dataset: (108837, 2)\n"
          ],
          "name": "stdout"
        }
      ]
    },
    {
      "cell_type": "code",
      "metadata": {
        "colab_type": "code",
        "id": "JX6clAc9wHuy",
        "colab": {}
      },
      "source": [
        "contraction = {\"isn't\": \"is not\", \"aren't\": \"are not\",\"can't\": \"cannot\", \"could've\": \"could have\", \"couldn't\": \"could not\",\n",
        "                           \"didn't\": \"did not\", \"doesn't\": \"does not\", \"don't\": \"do not\", \"hadn't\": \"had not\", \"hasn't\": \"has not\", \"haven't\": \"have not\",\n",
        "                           \"he'd\": \"he would\",\"he'll\": \"he will\", \"he's\": \"he is\", \"how'd\": \"how did\", \"how'd'y\": \"how do you\", \"how'll\": \"how will\", \"how's\": \"how is\",\n",
        "                           \"I'd\": \"I would\", \"I'd've\": \"I would have\", \"I'll\": \"I will\", \"I'll've\": \"I will have\",\"I'm\": \"I am\", \"I've\": \"I have\", \"i'd\": \"i would\",\n",
        "                           \"i'd've\": \"i would have\", \"i'll\": \"i will\",  \"i'll've\": \"i will have\",\"i'm\": \"i am\", \"i've\": \"i have\", \"isn't\": \"is not\", \"it'd\": \"it would\",\n",
        "                           \"it'd've\": \"it would have\", \"it'll\": \"it will\", \"it'll've\": \"it will have\",\"it's\": \"it is\", \"let's\": \"let us\", \"ma'am\": \"madam\",\n",
        "                           \"mayn't\": \"may not\", \"might've\": \"might have\",\"mightn't\": \"might not\",\"mightn't've\": \"might not have\", \"must've\": \"must have\",\n",
        "                           \"mustn't\": \"must not\", \"mustn't've\": \"must not have\", \"needn't\": \"need not\", \"needn't've\": \"need not have\",\"o'clock\": \"of the clock\",\n",
        "                           \"oughtn't\": \"ought not\", \"oughtn't've\": \"ought not have\", \"shan't\": \"shall not\", \"sha'n't\": \"shall not\", \"shan't've\": \"shall not have\",\n",
        "                           \"she'd\": \"she would\", \"she'd've\": \"she would have\", \"she'll\": \"she will\", \"she'll've\": \"she will have\", \"she's\": \"she is\",\n",
        "                           \"should've\": \"should have\", \"shouldn't\": \"should not\", \"shouldn't've\": \"should not have\", \"so've\": \"so have\",\"so's\": \"so as\",\n",
        "                           \"this's\": \"this is\",\"that'd\": \"that would\", \"that'd've\": \"that would have\", \"that's\": \"that is\", \"there'd\": \"there would\",\n",
        "                           \"there'd've\": \"there would have\", \"there's\": \"there is\", \"here's\": \"here is\",\"they'd\": \"they would\", \"they'd've\": \"they would have\",\n",
        "                           \"they'll\": \"they will\", \"they'll've\": \"they will have\", \"they're\": \"they are\", \"they've\": \"they have\", \"to've\": \"to have\",\n",
        "                           \"wasn't\": \"was not\", \"we'd\": \"we would\", \"we'd've\": \"we would have\", \"we'll\": \"we will\", \"we'll've\": \"we will have\", \"we're\": \"we are\",\n",
        "                           \"we've\": \"we have\", \"weren't\": \"were not\", \"what'll\": \"what will\", \"what'll've\": \"what will have\", \"what're\": \"what are\",\n",
        "                           \"what's\": \"what is\", \"what've\": \"what have\", \"when's\": \"when is\", \"when've\": \"when have\", \"where'd\": \"where did\", \"where's\": \"where is\",\n",
        "                           \"where've\": \"where have\", \"who'll\": \"who will\", \"who'll've\": \"who will have\", \"who's\": \"who is\", \"who've\": \"who have\",\n",
        "                           \"why's\": \"why is\", \"why've\": \"why have\", \"will've\": \"will have\", \"won't\": \"will not\", \"won't've\": \"will not have\",\n",
        "                           \"would've\": \"would have\", \"wouldn't\": \"would not\", \"wouldn't've\": \"would not have\", \"y'all\": \"you all\",\n",
        "                           \"y'all'd\": \"you all would\",\"y'all'd've\": \"you all would have\",\"y'all're\": \"you all are\",\"y'all've\": \"you all have\",\n",
        "                           \"you'd\": \"you would\", \"you'd've\": \"you would have\", \"you'll\": \"you will\", \"you ll\":\"you will\", \"you'll've\": \"you will have\",\n",
        "                           \"you're\": \"you are\", \"you re\": \"you are\" , \"you've\": \"you have\"}"
      ],
      "execution_count": 14,
      "outputs": []
    },
    {
      "cell_type": "markdown",
      "metadata": {
        "colab_type": "text",
        "id": "E38ktgfStkI9"
      },
      "source": [
        "###### Checking for NA"
      ]
    },
    {
      "cell_type": "code",
      "metadata": {
        "colab_type": "code",
        "id": "b-NTfClirfL3",
        "colab": {
          "base_uri": "https://localhost:8080/",
          "height": 106
        },
        "outputId": "10a3b951-f509-471f-9549-dae2a8f265d1"
      },
      "source": [
        "train_data.isna().sum(), valid_data.isna().sum()"
      ],
      "execution_count": 15,
      "outputs": [
        {
          "output_type": "execute_result",
          "data": {
            "text/plain": [
              "(text       0\n",
              " summary    0\n",
              " dtype: int64, text       0\n",
              " summary    0\n",
              " dtype: int64)"
            ]
          },
          "metadata": {
            "tags": []
          },
          "execution_count": 15
        }
      ]
    },
    {
      "cell_type": "markdown",
      "metadata": {
        "colab_type": "text",
        "id": "0HQ2wJrXEAcr"
      },
      "source": [
        "##### Preprocessing"
      ]
    },
    {
      "cell_type": "code",
      "metadata": {
        "colab_type": "code",
        "id": "6_qmLtaZp9s0",
        "colab": {}
      },
      "source": [
        "class TextProccessing(BaseEstimator, TransformerMixin):\n",
        "  def __init__(self, column, contraction):\n",
        "    self.column = column\n",
        "    self.contraction = contraction\n",
        "  def fit(self, x, y=None):\n",
        "    return self\n",
        "  @staticmethod\n",
        "  def preprocessing(line):\n",
        "    date_pattern = r'(0?[1-9]/|1[0-2]/)(0?[1-9]/|[1-2][0-9]/|3[0-1]/)[0-9]{4}'\n",
        "    line = line.split(\"\\n\")\n",
        "    clean_line = []\n",
        "    for l in line:\n",
        "        if re.match(date_pattern, l) is not None:\n",
        "            pass\n",
        "        else:\n",
        "            clean_line.append(l)\n",
        "    line = \"\\n\".join(clean_line)\n",
        "\n",
        "    line = re.sub(r\"http\\S+\", \" \",line)\n",
        "    line = re.sub(r\"www\\S+\", \" \",line)\n",
        "    line = line.replace('—', ' ')\n",
        "    line = line.replace('-', ' ')\n",
        "    line = line.replace('&', 'and')\n",
        "    line = line.replace('[...]', '')\n",
        "    line = line.replace('...', '.')\n",
        "    line = line.replace('…', ' ')\n",
        "    line = re.sub(re.compile('<.*?>'), '', line)\n",
        "    line = re.sub(re.compile('@\\S+'), r'', line)\n",
        "    line = re.sub(r'#\\S+ ', r'', line)\n",
        "    line = line.replace(\"â\", \"'\") \n",
        "    line = line.replace('--', ' ')\n",
        "    line = re.sub(r'[^\\sa-zA-Z0-9.,!?]',' ',line)\n",
        "    line = line.strip()\n",
        "    line = line.replace(\"\\xa0\", \"\")\n",
        "    line = line.replace(\"click to share on twitter\", \"\")\n",
        "\n",
        "    line = re.sub(r'[ \\t]{2,}',' ', line)\n",
        "    return line\n",
        "\n",
        "  def transform(self, X):\n",
        "    #X = X[self.column].replace(self.contraction)\n",
        "    return X[self.column].replace(self.contraction).fillna('').apply(lambda x: self.preprocessing(x)) "
      ],
      "execution_count": 16,
      "outputs": []
    },
    {
      "cell_type": "code",
      "metadata": {
        "colab_type": "code",
        "id": "m-XAtbFVI24a",
        "colab": {}
      },
      "source": [
        "class Processor:\n",
        "\n",
        "  def __init__(self, data, \n",
        "               contraction,\n",
        "               max_length = None):\n",
        "    \n",
        "    self.max_length = max_length\n",
        "    self.data = data\n",
        "    self.contraction = contraction\n",
        "\n",
        "    \n",
        "  def cleaning(self, data):\n",
        "    if not isinstance(data, pd.DataFrame):\n",
        "      raise TypeError('Only Dataframes are allowed, but got data={}'.format(data))\n",
        "    else:\n",
        "      print('Please wait, we are cleaning...')\n",
        "      titles = ['text', 'summary']\n",
        "      data_dict = {}\n",
        "\n",
        "      for title in titles:\n",
        "        proc = TextProccessing(title, self.contraction)\n",
        "        res = proc.fit_transform(data)\n",
        "        data_dict[title] = res\n",
        "\n",
        "      ss = pd.DataFrame(data_dict)\n",
        "      \n",
        "      return ss\n",
        "\n",
        "  @staticmethod\n",
        "  def split(data):\n",
        "    return len(data.split())\n",
        "\n",
        "  def get_max_tokens(self, dataframe):\n",
        "\n",
        "    dataframe['article_len'] = dataframe['text'].apply(self.split)\n",
        "    dataframe['summary_len'] = dataframe['summary'].apply(self.split)\n",
        "    \n",
        "    max_len = {'max_article_tokens': max(dataframe['article_len']), \n",
        "                'min_article_tokens': min(dataframe['article_len']),\n",
        "                'max_summary_tokens': max(dataframe['summary_len']),\n",
        "                'min_summary_tokens': min(dataframe['summary_len'])}\n",
        "    return max_len, dataframe\n",
        "\n",
        "  def cleaned_data(self):\n",
        "    dataframe = self.cleaning(self.data)\n",
        "    \n",
        "    if self.max_length is None:\n",
        "      min_len, dataframe = self.get_max_tokens(dataframe)\n",
        "    else:\n",
        "      min_len = self.max_length\n",
        "\n",
        "    min_length = min_len['min_article_tokens']\n",
        "    idx_list = []\n",
        "    for idx, paragraph in tqdm(enumerate(dataframe['text'])):\n",
        "        pragraph = len(paragraph.split())\n",
        "        if pragraph < min_length:\n",
        "          idx_list.append(idx)\n",
        "    final_data = dataframe.drop(idx_list)\n",
        "    final_data = final_data.reset_index(drop=True)\n",
        "\n",
        "    max_len, _ = self.get_max_tokens(final_data)\n",
        "\n",
        "    print('Done!')\n",
        "    \n",
        "    return final_data, max_len"
      ],
      "execution_count": 17,
      "outputs": []
    },
    {
      "cell_type": "code",
      "metadata": {
        "colab_type": "code",
        "id": "bNRiUhXoVkvY",
        "colab": {}
      },
      "source": [
        "maxlen = {'max_article_tokens': 512,\n",
        "          'max_summary_tokens': 300,\n",
        "          'min_article_tokens': 30,\n",
        "          'min_summary_tokens': 0}"
      ],
      "execution_count": 18,
      "outputs": []
    },
    {
      "cell_type": "code",
      "metadata": {
        "colab_type": "code",
        "id": "oBiSvEkhz2ol",
        "colab": {
          "base_uri": "https://localhost:8080/",
          "height": 35
        },
        "outputId": "1e7a03cb-5f67-456c-e00c-5cca001aad15"
      },
      "source": [
        "textproc = Processor(train_data, contraction, maxlen)\n",
        "train_processed, doc_lengths = textproc.cleaned_data()"
      ],
      "execution_count": null,
      "outputs": [
        {
          "output_type": "stream",
          "text": [
            "Please wait, we are cleaning...\n"
          ],
          "name": "stdout"
        }
      ]
    },
    {
      "cell_type": "code",
      "metadata": {
        "id": "AeW5BNIkZ0u7",
        "colab_type": "code",
        "colab": {}
      },
      "source": [
        "textproc = Processor(valid_data, contraction, maxlen)\n",
        "valid_processed, valid_doc_lengths = textproc.cleaned_data()"
      ],
      "execution_count": null,
      "outputs": []
    },
    {
      "cell_type": "code",
      "metadata": {
        "colab_type": "code",
        "id": "MNmq9Mgx_BNx",
        "colab": {
          "base_uri": "https://localhost:8080/",
          "height": 210
        },
        "outputId": "76787690-88a2-49c8-eed6-de45a698b67f"
      },
      "source": [
        "train_processed.info()"
      ],
      "execution_count": null,
      "outputs": [
        {
          "output_type": "stream",
          "text": [
            "<class 'pandas.core.frame.DataFrame'>\n",
            "RangeIndex: 994994 entries, 0 to 994993\n",
            "Data columns (total 4 columns):\n",
            " #   Column       Non-Null Count   Dtype \n",
            "---  ------       --------------   ----- \n",
            " 0   text         994994 non-null  object\n",
            " 1   summary      994994 non-null  object\n",
            " 2   article_len  994994 non-null  int64 \n",
            " 3   summary_len  994994 non-null  int64 \n",
            "dtypes: int64(2), object(2)\n",
            "memory usage: 30.4+ MB\n"
          ],
          "name": "stdout"
        }
      ]
    },
    {
      "cell_type": "markdown",
      "metadata": {
        "id": "Ko-HBLqNZ0vA",
        "colab_type": "text"
      },
      "source": [
        "Only one article droped that was having zeros length. However we still have some article with no summaries. Therefore we can get rid off them."
      ]
    },
    {
      "cell_type": "code",
      "metadata": {
        "colab_type": "code",
        "id": "ngCA4TwV1YBW",
        "colab": {
          "base_uri": "https://localhost:8080/",
          "height": 87
        },
        "outputId": "35a242e0-e94a-434d-e6ab-2f4dcaf6022d"
      },
      "source": [
        "doc_lengths"
      ],
      "execution_count": null,
      "outputs": [
        {
          "output_type": "execute_result",
          "data": {
            "text/plain": [
              "{'max_article_tokens': 115752,\n",
              " 'max_summary_tokens': 6534,\n",
              " 'min_article_tokens': 31,\n",
              " 'min_summary_tokens': 0}"
            ]
          },
          "metadata": {
            "tags": []
          },
          "execution_count": 19
        }
      ]
    },
    {
      "cell_type": "code",
      "metadata": {
        "id": "6jOAe_ZbZ0vD",
        "colab_type": "code",
        "colab": {}
      },
      "source": [
        "indices = np.where(train_processed['summary_len'] == 0)\n",
        "#train_processed.iloc[indices[0]]"
      ],
      "execution_count": null,
      "outputs": []
    },
    {
      "cell_type": "code",
      "metadata": {
        "id": "Tcp3ytvbZ0vF",
        "colab_type": "code",
        "colab": {}
      },
      "source": [
        "#train_data.iloc[954753]['summary'] # '<ul>\\n\\t<li><b>£', 'Ø¨Ø§ Ø§Û\\x8cÙ\\x86 Ø§Ø\\xadØ³Ø§Ø³ Ø¯Ø±Ù\\x85Ø§Ù\\x86Ø¯Ú¯Û\\x8cØ\\x8c Ø¨Ù\\x87 Ù\\x86Ø¸Ø±Øª Ù\\x85Û\\x8câ\\x80\\x8fØ±Ø³Ø¯ Ú©Ù\\x87 ØªØ\\xadØ±Û\\x8cÙ\\x85â\\x80\\x8fÙ\\x87Ø§ Ø¯Ø§Ø±Ù\\x86Ø¯ Ú©Ø§Ø± Ù\\x85Û\\x8câ\\x80\\x8fÚ©Ù\\x86Ù\\x86Ø¯'"
      ],
      "execution_count": null,
      "outputs": []
    },
    {
      "cell_type": "code",
      "metadata": {
        "id": "05YyhlT2Z0vH",
        "colab_type": "code",
        "colab": {}
      },
      "source": [
        "train_processed_data = train_processed.drop(indices[0])\n",
        "train_processed_data = train_processed_data.reset_index(drop=True)"
      ],
      "execution_count": null,
      "outputs": []
    },
    {
      "cell_type": "code",
      "metadata": {
        "id": "m3FQWdFDZ0vK",
        "colab_type": "code",
        "colab": {},
        "outputId": "25b1562f-26fc-4abb-b594-65e3be8cdd6e"
      },
      "source": [
        "train_processed_data.info()"
      ],
      "execution_count": null,
      "outputs": [
        {
          "output_type": "stream",
          "text": [
            "<class 'pandas.core.frame.DataFrame'>\n",
            "RangeIndex: 994970 entries, 0 to 994969\n",
            "Data columns (total 4 columns):\n",
            " #   Column       Non-Null Count   Dtype \n",
            "---  ------       --------------   ----- \n",
            " 0   text         994970 non-null  object\n",
            " 1   summary      994970 non-null  object\n",
            " 2   article_len  994970 non-null  int64 \n",
            " 3   summary_len  994970 non-null  int64 \n",
            "dtypes: int64(2), object(2)\n",
            "memory usage: 30.4+ MB\n"
          ],
          "name": "stdout"
        }
      ]
    },
    {
      "cell_type": "code",
      "metadata": {
        "colab_type": "code",
        "id": "x9chLqw-PK9e",
        "colab": {
          "base_uri": "https://localhost:8080/",
          "height": 158
        },
        "outputId": "e2cebd34-52fa-4767-d432-c8b0c9af6d9d"
      },
      "source": [
        "train_processed_data['summary_len'].quantile([0.5, 0.75, 0.9, 0.95, 0.99, 0.999, 0.9999])"
      ],
      "execution_count": null,
      "outputs": [
        {
          "output_type": "execute_result",
          "data": {
            "text/plain": [
              "0.5000     23.000\n",
              "0.7500     30.000\n",
              "0.9000     42.000\n",
              "0.9500     55.000\n",
              "0.9900    133.000\n",
              "0.9990    331.031\n",
              "0.9999    635.000\n",
              "Name: summary_len, dtype: float64"
            ]
          },
          "metadata": {
            "tags": []
          },
          "execution_count": 24
        }
      ]
    },
    {
      "cell_type": "code",
      "metadata": {
        "colab_type": "code",
        "id": "hBlW5wqJpmJK",
        "colab": {
          "base_uri": "https://localhost:8080/",
          "height": 158
        },
        "outputId": "7a8991bf-5f84-4e1a-9a00-e071c1ee35e3"
      },
      "source": [
        "train_processed_data['article_len'].quantile([0.5, 0.75, 0.9, 0.95, 0.99, 0.999, 0.9999])"
      ],
      "execution_count": null,
      "outputs": [
        {
          "output_type": "execute_result",
          "data": {
            "text/plain": [
              "0.5000      539.0000\n",
              "0.7500      867.0000\n",
              "0.9000     1213.0000\n",
              "0.9500     1548.0000\n",
              "0.9900     3205.0000\n",
              "0.9990     9351.0000\n",
              "0.9999    26156.1045\n",
              "Name: article_len, dtype: float64"
            ]
          },
          "metadata": {
            "tags": []
          },
          "execution_count": 25
        }
      ]
    },
    {
      "cell_type": "code",
      "metadata": {
        "id": "kv13R15mZ0vR",
        "colab_type": "code",
        "colab": {},
        "outputId": "65161116-70d3-47cb-891a-6ab9b410c845"
      },
      "source": [
        "valid_processed.info()"
      ],
      "execution_count": null,
      "outputs": [
        {
          "output_type": "stream",
          "text": [
            "<class 'pandas.core.frame.DataFrame'>\n",
            "RangeIndex: 108830 entries, 0 to 108829\n",
            "Data columns (total 4 columns):\n",
            " #   Column       Non-Null Count   Dtype \n",
            "---  ------       --------------   ----- \n",
            " 0   text         108830 non-null  object\n",
            " 1   summary      108830 non-null  object\n",
            " 2   article_len  108830 non-null  int64 \n",
            " 3   summary_len  108830 non-null  int64 \n",
            "dtypes: int64(2), object(2)\n",
            "memory usage: 3.3+ MB\n"
          ],
          "name": "stdout"
        }
      ]
    },
    {
      "cell_type": "code",
      "metadata": {
        "id": "iM7EnQ8MZ0vU",
        "colab_type": "code",
        "colab": {},
        "outputId": "1864aa06-c476-4154-9182-b01304eeeb7a"
      },
      "source": [
        "valid_doc_lengths"
      ],
      "execution_count": null,
      "outputs": [
        {
          "output_type": "execute_result",
          "data": {
            "text/plain": [
              "{'max_article_tokens': 67366,\n",
              " 'max_summary_tokens': 1502,\n",
              " 'min_article_tokens': 31,\n",
              " 'min_summary_tokens': 0}"
            ]
          },
          "metadata": {
            "tags": []
          },
          "execution_count": 27
        }
      ]
    },
    {
      "cell_type": "code",
      "metadata": {
        "id": "lAWgJ8x4Z0vW",
        "colab_type": "code",
        "colab": {}
      },
      "source": [
        "inds = np.where(valid_processed['summary_len'] == 0)\n",
        "#valid_processed.iloc[inds[0]]\n",
        "valid_processed_data = valid_processed.drop(inds[0])\n",
        "valid_processed_data = valid_processed_data.reset_index(drop=True)"
      ],
      "execution_count": null,
      "outputs": []
    },
    {
      "cell_type": "code",
      "metadata": {
        "id": "R7yoTzCmZ0vZ",
        "colab_type": "code",
        "colab": {},
        "outputId": "5a1ff212-0dbf-403f-8b94-fe2078e9104a"
      },
      "source": [
        "valid_processed_data.info()"
      ],
      "execution_count": null,
      "outputs": [
        {
          "output_type": "stream",
          "text": [
            "<class 'pandas.core.frame.DataFrame'>\n",
            "RangeIndex: 108828 entries, 0 to 108827\n",
            "Data columns (total 4 columns):\n",
            " #   Column       Non-Null Count   Dtype \n",
            "---  ------       --------------   ----- \n",
            " 0   text         108828 non-null  object\n",
            " 1   summary      108828 non-null  object\n",
            " 2   article_len  108828 non-null  int64 \n",
            " 3   summary_len  108828 non-null  int64 \n",
            "dtypes: int64(2), object(2)\n",
            "memory usage: 3.3+ MB\n"
          ],
          "name": "stdout"
        }
      ]
    },
    {
      "cell_type": "code",
      "metadata": {
        "id": "3nMUVVJVZ0vc",
        "colab_type": "code",
        "colab": {},
        "outputId": "d29ff526-5af4-4521-f8c4-bea7da5bd62d"
      },
      "source": [
        "valid_processed_data['article_len'].quantile([0.5, 0.75, 0.9, 0.95, 0.99, 0.999, 0.9999])"
      ],
      "execution_count": null,
      "outputs": [
        {
          "output_type": "execute_result",
          "data": {
            "text/plain": [
              "0.5000      536.0000\n",
              "0.7500      861.0000\n",
              "0.9000     1207.0000\n",
              "0.9500     1536.0000\n",
              "0.9900     3146.0000\n",
              "0.9990     9070.7680\n",
              "0.9999    23476.3765\n",
              "Name: article_len, dtype: float64"
            ]
          },
          "metadata": {
            "tags": []
          },
          "execution_count": 30
        }
      ]
    },
    {
      "cell_type": "code",
      "metadata": {
        "id": "70NxcZwHZ0ve",
        "colab_type": "code",
        "colab": {},
        "outputId": "23d8a423-31aa-4394-abdc-9c85a4b93123"
      },
      "source": [
        "valid_processed_data['summary_len'].quantile([0.5, 0.75, 0.9, 0.95, 0.99, 0.999, 0.9999])"
      ],
      "execution_count": null,
      "outputs": [
        {
          "output_type": "execute_result",
          "data": {
            "text/plain": [
              "0.5000     23.0000\n",
              "0.7500     31.0000\n",
              "0.9000     43.0000\n",
              "0.9500     57.0000\n",
              "0.9900    138.0000\n",
              "0.9990    346.1730\n",
              "0.9999    685.8709\n",
              "Name: summary_len, dtype: float64"
            ]
          },
          "metadata": {
            "tags": []
          },
          "execution_count": 31
        }
      ]
    },
    {
      "cell_type": "code",
      "metadata": {
        "colab_type": "code",
        "id": "bFFt1a_35GZR",
        "colab": {
          "base_uri": "https://localhost:8080/",
          "height": 34
        },
        "outputId": "f0e6781d-9141-4f4b-d915-9c6d5000a5dc"
      },
      "source": [
        "art = 512 #int(train_processed_data['article_len'].quantile(0.9900))\n",
        "sum_ = 150# int(train_processed_data['summary_len'].quantile(0.9900))\n",
        "\n",
        "print(f'art len:{art}, sum len:{sum_}')"
      ],
      "execution_count": null,
      "outputs": [
        {
          "output_type": "stream",
          "text": [
            "art len:512, sum len:150\n"
          ],
          "name": "stdout"
        }
      ]
    },
    {
      "cell_type": "code",
      "metadata": {
        "id": "dxo2FbB0Z0vj",
        "colab_type": "code",
        "colab": {},
        "outputId": "ea4b1e36-8de2-4621-f5b1-4d61bb65c352"
      },
      "source": [
        "artV = 512 #int(valid_processed_data['article_len'].quantile(0.9900))\n",
        "sumV = 150# int(valid_processed_data['summary_len'].quantile(0.9900))\n",
        "\n",
        "print(f'art len:{artV}, sum len:{sumV}')"
      ],
      "execution_count": null,
      "outputs": [
        {
          "output_type": "stream",
          "text": [
            "art len:512, sum len:150\n"
          ],
          "name": "stdout"
        }
      ]
    },
    {
      "cell_type": "markdown",
      "metadata": {
        "colab_type": "text",
        "id": "dtuTFeLttppa"
      },
      "source": [
        "#### Creating Custom Dataset"
      ]
    },
    {
      "cell_type": "code",
      "metadata": {
        "colab_type": "code",
        "id": "iYEBtk-Ctyy4",
        "colab": {}
      },
      "source": [
        "class CustomDataReader(Dataset):\n",
        "  \"\"\"\n",
        "  Loading data to be used in pytorch pre-trained models\n",
        "  \n",
        "  \"\"\"\n",
        "  def __init__(self, dataframe, T5tokenizer, max_article_tokens=None,max_summary_tokens=None ):\n",
        "    self.tokenizer = T5tokenizer\n",
        "    self.dataframe = dataframe\n",
        "    self.eos = ' </s>'  #tokenizer.eos_token\n",
        "    self.sos = '<pad> ' #tokenizer.pad_token\n",
        "    self.source_len = max_article_tokens\n",
        "    self.target_len = max_summary_tokens\n",
        "  \n",
        "  def __len__(self):\n",
        "    return len(self.dataframe)\n",
        "\n",
        "  def __getitem__(self, idx):\n",
        "    articles = \"summarize: \" + self.dataframe.text[idx] + self.eos\n",
        "    articles = ' '.join(articles.split())\n",
        "\n",
        "    summary = self.sos + self.dataframe.summary[idx] + self.eos\n",
        "    summary = ' '.join(summary.split())\n",
        "\n",
        "    source_tokenized = self.tokenizer.batch_encode_plus([articles], max_length= self.source_len, pad_to_max_length=True, truncation=True,return_tensors='pt')\n",
        "    target_tokenized = self.tokenizer.batch_encode_plus([summary], max_length= self.target_len, pad_to_max_length=True, truncation=True,return_tensors='pt')\n",
        "\n",
        "    source_ids = source_tokenized['input_ids'].squeeze(0)\n",
        "    source_mask = source_tokenized['attention_mask'].squeeze(0)\n",
        "\n",
        "    summary_ids = target_tokenized['input_ids'].squeeze(0)\n",
        "    summary_mask = target_tokenized['attention_mask'].squeeze(0)\n",
        "\n",
        "    return source_ids, source_mask, summary_ids, summary_mask\n"
      ],
      "execution_count": null,
      "outputs": []
    },
    {
      "cell_type": "markdown",
      "metadata": {
        "colab_type": "text",
        "id": "mqfiCrePYQIK"
      },
      "source": [
        "#### Training Loop"
      ]
    },
    {
      "cell_type": "code",
      "metadata": {
        "colab_type": "code",
        "id": "hQwJS66iz0uS",
        "colab": {}
      },
      "source": [
        "def training(model, dataset_loader, optimizer, iteration=0):\n",
        "\n",
        "  model.train()\n",
        "  avg_loss = 0\n",
        "  nItem = 0\n",
        "\n",
        "\n",
        "  print(f'Start training for epoch: {iteration}')\n",
        " \n",
        "  for idx, data_train in enumerate(dataset_loader):\n",
        "\n",
        "    input_ids, source_mask, summary_ids, summary_mask = data_train\n",
        "\n",
        "    input_ids = input_ids.to(device, dtype = torch.long)\n",
        "    source_mask = source_mask.to(device, dtype = torch.float)\n",
        "    summary_ids = summary_ids.to(device, dtype = torch.long)\n",
        "\n",
        "    target_labels = summary_ids[:, :-1].contiguous()\n",
        "    langm_labels = summary_ids[:, 1:].clone().detach()\n",
        "    langm_labels[summary_ids[:, 1:] == tokenizer.pad_token_id] = -100\n",
        "\n",
        "    optimizer.zero_grad()\n",
        "    \n",
        "    output = model(input_ids=input_ids, attention_mask = source_mask, decoder_input_ids=target_labels, lm_labels=langm_labels, output_hidden_states=True)\n",
        "    \n",
        "    loss = output[0]\n",
        "\n",
        "    loss.backward()\n",
        "    optimizer.step()\n",
        "\n",
        "    bs = input_ids.size(0)\n",
        "    nItem += bs\n",
        "\n",
        "    avg_loss += loss.item() * bs\n",
        "    \n",
        "    if idx%config.log_interval == 0:\n",
        "            wandb.log({\"Training Loss\": loss.item()})\n",
        "    if idx % 100 == 0:\n",
        "      print(f'[{idx * len(input_ids)}/{len(dataset_loader.dataset)} ({100. * idx / len(dataset_loader):.0f})%] \\t Training loss: {loss:.3f}')\n",
        "  \n",
        "  avg_loss /= nItem\n",
        "  \n",
        "  return avg_loss, output\n"
      ],
      "execution_count": null,
      "outputs": []
    },
    {
      "cell_type": "code",
      "metadata": {
        "colab_type": "code",
        "id": "uYQaqTmxRtzQ",
        "colab": {}
      },
      "source": [
        "def validation(model, dataset_loader):\n",
        "  model.eval()\n",
        "\n",
        "  eval_loss = 0\n",
        "  nItem = 0\n",
        "\n",
        "  with torch.no_grad():\n",
        "    for idx, data_val in tqdm(enumerate(dataset_loader)):\n",
        "\n",
        "      input_ids, source_mask, summary_ids, summary_mask = data_val\n",
        "\n",
        "      input_ids = input_ids.to(device, dtype = torch.long)\n",
        "      source_mask = source_mask.to(device, dtype = torch.float)\n",
        "      summary_ids = summary_ids.to(device, dtype = torch.long)\n",
        "\n",
        "      target_labels = summary_ids[:, :-1].contiguous()\n",
        "      langm_labels = summary_ids[:, 1:].clone().detach()\n",
        "      langm_labels[summary_ids[:, 1:] == tokenizer.pad_token_id] = -100\n",
        "      \n",
        "      output = model(input_ids=input_ids, attention_mask = source_mask, decoder_input_ids=target_labels, lm_labels=langm_labels)\n",
        "      \n",
        "      loss = output[0]\n",
        "\n",
        "      bs = input_ids.size(0)\n",
        "      nItem += bs\n",
        "\n",
        "      eval_loss += loss.item()\n",
        "\n",
        "    eval_loss /= nItem\n",
        "\n",
        "    return eval_loss"
      ],
      "execution_count": null,
      "outputs": []
    },
    {
      "cell_type": "code",
      "metadata": {
        "colab_type": "code",
        "id": "h5ZhapbZawXG",
        "colab": {}
      },
      "source": [
        "def saving(PATH, epoch, avg_loss, model,pp, LEARNING_RATE):\n",
        "  torch.save({\n",
        "            'epoch': epoch,\n",
        "            'model_state_dict': model.state_dict(),\n",
        "            'train_loss': avg_loss,\n",
        "            'perplexity': pp,\n",
        "            'learning_rate': LEARNING_RATE\n",
        "            }, PATH)"
      ],
      "execution_count": null,
      "outputs": []
    },
    {
      "cell_type": "markdown",
      "metadata": {
        "colab_type": "text",
        "id": "ZsdXt4STdroJ"
      },
      "source": [
        "#### The model evaluation\n",
        "\n",
        "The perplexity:\n",
        "\n",
        "\\begin{align}\n",
        "\\large \\text{ppl}(p, D) &\\large = 2^{-\\frac{1}{N_{total}}\\log_2 p(D)}\n",
        "\\end{align}\n",
        "\n",
        "where $D=\\{(w_1,\\ldots,w_{N_i})_i\\}_{i=1}^M$ is a dataset of $M$ sequences with total length $N_{\\text{total}}=\\sum_{i}N_i$.\n",
        "\n",
        "#### Computing perplexity\n",
        "\n",
        "Our model's loss is the (negative) log probability of every token in the output sequence, which can be used to compute perplexity.\n",
        "\n",
        "We define perplexity using the **base 2** logarithm."
      ]
    },
    {
      "cell_type": "code",
      "metadata": {
        "colab_type": "code",
        "id": "FarmceVkcm-Y",
        "colab": {}
      },
      "source": [
        "def get_perplexity(epoc_loss):\n",
        "  rs = epoc_loss/np.log(2)\n",
        "  pp = 2**rs\n",
        "  return pp"
      ],
      "execution_count": null,
      "outputs": []
    },
    {
      "cell_type": "code",
      "metadata": {
        "cellView": "both",
        "colab_type": "code",
        "id": "eDlcT25-F-sO",
        "colab": {}
      },
      "source": [
        "#@title #### Loading T5 model and its Tokenizer { run: \"auto\" }\n",
        "\n",
        "LEARNING_RATE = 3e-4\n",
        "MODEL_NAME = 't5-base' # or T5-Large:770 params, T5-3B, T5-Base: 220 Params, T5-11B\n",
        "model = T5ForConditionalGeneration.from_pretrained(MODEL_NAME)\n",
        "tokenizer = T5Tokenizer.from_pretrained(MODEL_NAME)\n",
        "#optimizer = optim.Adam(model.parameters(), lr=LEARNING_RATE)"
      ],
      "execution_count": null,
      "outputs": []
    },
    {
      "cell_type": "code",
      "metadata": {
        "colab_type": "code",
        "id": "Jkp7dIU9-ZO3",
        "colab": {
          "base_uri": "https://localhost:8080/",
          "height": 35
        },
        "outputId": "f18b53f5-38d8-4bc1-c664-98b01f61f546"
      },
      "source": [
        "eos = tokenizer.eos_token\n",
        "sos = tokenizer.pad_token\n",
        "eos, sos"
      ],
      "execution_count": null,
      "outputs": [
        {
          "output_type": "execute_result",
          "data": {
            "text/plain": [
              "('</s>', '<pad>')"
            ]
          },
          "metadata": {
            "tags": []
          },
          "execution_count": 106
        }
      ]
    },
    {
      "cell_type": "code",
      "metadata": {
        "colab_type": "code",
        "id": "W51Hk0xEz0sH",
        "colab": {}
      },
      "source": [
        "#@title Train, Validation and Test splits { run: \"auto\" }\n",
        "\n",
        "columns = [\"text\",\"summary\"]\n",
        "\n",
        "X_train = train_processed_data[columns] #X_train.reset_index(drop=True)\n",
        "X_valid = valid_processed_data[columns] #X_val.reset_index(drop=True)"
      ],
      "execution_count": null,
      "outputs": []
    },
    {
      "cell_type": "code",
      "metadata": {
        "colab_type": "code",
        "id": "sQeVMTtGz0p7",
        "colab": {
          "base_uri": "https://localhost:8080/",
          "height": 195
        },
        "outputId": "3e428252-9f55-4243-8cd2-a5d6f4c6641d"
      },
      "source": [
        "X_train.head()"
      ],
      "execution_count": null,
      "outputs": [
        {
          "output_type": "execute_result",
          "data": {
            "text/html": [
              "<div>\n",
              "<style scoped>\n",
              "    .dataframe tbody tr th:only-of-type {\n",
              "        vertical-align: middle;\n",
              "    }\n",
              "\n",
              "    .dataframe tbody tr th {\n",
              "        vertical-align: top;\n",
              "    }\n",
              "\n",
              "    .dataframe thead th {\n",
              "        text-align: right;\n",
              "    }\n",
              "</style>\n",
              "<table border=\"1\" class=\"dataframe\">\n",
              "  <thead>\n",
              "    <tr style=\"text-align: right;\">\n",
              "      <th></th>\n",
              "      <th>text</th>\n",
              "      <th>summary</th>\n",
              "    </tr>\n",
              "  </thead>\n",
              "  <tbody>\n",
              "    <tr>\n",
              "      <th>0</th>\n",
              "      <td>HAMBURG, Germany, June 3 As he left the soccer...</td>\n",
              "      <td>A surge in discriminatory behavior toward blac...</td>\n",
              "    </tr>\n",
              "    <tr>\n",
              "      <th>1</th>\n",
              "      <td>WASHINGTON, Dec. 23 The National Security Agen...</td>\n",
              "      <td>The volume of information harvested, without \\...</td>\n",
              "    </tr>\n",
              "    <tr>\n",
              "      <th>2</th>\n",
              "      <td>IF outsized executive pay has indeed become a ...</td>\n",
              "      <td>The battle between Pfizer Inc. s investors and...</td>\n",
              "    </tr>\n",
              "    <tr>\n",
              "      <th>3</th>\n",
              "      <td>BY A.J. BENZA and MICHAEL LEWITTES\\n\\nIf Simon...</td>\n",
              "      <td>If Simon Rex looks a little familiar, it may n...</td>\n",
              "    </tr>\n",
              "    <tr>\n",
              "      <th>4</th>\n",
              "      <td>Spinach has terrorized generations of veggie p...</td>\n",
              "      <td>POPEYE WORTHY PIE. PHYLLO DOUGH WRAPS SPINACH ...</td>\n",
              "    </tr>\n",
              "  </tbody>\n",
              "</table>\n",
              "</div>"
            ],
            "text/plain": [
              "                                                text                                            summary\n",
              "0  HAMBURG, Germany, June 3 As he left the soccer...  A surge in discriminatory behavior toward blac...\n",
              "1  WASHINGTON, Dec. 23 The National Security Agen...  The volume of information harvested, without \\...\n",
              "2  IF outsized executive pay has indeed become a ...  The battle between Pfizer Inc. s investors and...\n",
              "3  BY A.J. BENZA and MICHAEL LEWITTES\\n\\nIf Simon...  If Simon Rex looks a little familiar, it may n...\n",
              "4  Spinach has terrorized generations of veggie p...  POPEYE WORTHY PIE. PHYLLO DOUGH WRAPS SPINACH ..."
            ]
          },
          "metadata": {
            "tags": []
          },
          "execution_count": 41
        }
      ]
    },
    {
      "cell_type": "code",
      "metadata": {
        "id": "n97QsOoCZ0v8",
        "colab_type": "code",
        "colab": {}
      },
      "source": [
        "def get_dataloader(X, BATCH_SIZE,valid=None, **kwargs):\n",
        "\n",
        "    if valid == 'valid':\n",
        "        val_params = {\n",
        "            'batch_size': BATCH_SIZE,\n",
        "            'shuffle': False,\n",
        "            'num_workers': 2\n",
        "            }\n",
        "        data_set = CustomDataReader(X, tokenizer,**kwargs)\n",
        "        data_loader = DataLoader(data_set, **val_params)\n",
        "        \n",
        "    else:\n",
        "        data_set = CustomDataReader(X, tokenizer,**kwargs)     \n",
        "        train_params = {\n",
        "            'batch_size': BATCH_SIZE,\n",
        "            'shuffle': True,\n",
        "            'num_workers': 2\n",
        "            }\n",
        "        data_loader = DataLoader(data_set, **train_params)\n",
        "    \n",
        "    return data_loader"
      ],
      "execution_count": null,
      "outputs": []
    },
    {
      "cell_type": "code",
      "metadata": {
        "colab_type": "code",
        "id": "08lW8ejhmgya",
        "colab": {}
      },
      "source": [
        "Xtrain_trial = X_train.iloc[:100000]\n",
        "Xvalid_trial = X_valid.iloc[:11600]"
      ],
      "execution_count": null,
      "outputs": []
    },
    {
      "cell_type": "code",
      "metadata": {
        "colab_type": "code",
        "id": "sGaGMwWLzfVE",
        "colab": {}
      },
      "source": [
        "N_EPOCHS = 5\n",
        "path = '/content/drive/My Drive/Colab Notebooks/best_model.pth'\n",
        "pcle = '/content/drive/My Drive/Colab Notebooks/optimizer_state_dict.pkl'\n",
        "#filename = open(pcle, 'wb')"
      ],
      "execution_count": null,
      "outputs": []
    },
    {
      "cell_type": "code",
      "metadata": {
        "colab_type": "code",
        "id": "csfO3UdlJtEf",
        "colab": {}
      },
      "source": [
        "def run(model,\n",
        "        X_train, X_valid, \n",
        "        path=None,filename=None,\n",
        "        lr= LEARNING_RATE):\n",
        "\n",
        "    #best_loss = float('inf')\n",
        "    #best_pp = float('inf')\n",
        "    # WandB – Initialize a new run\n",
        "\n",
        "    wandb.init(entity=\"jp-ishimwe\", project=\"document-summarization-using-transformer\")\n",
        "    wandb.watch_called = False # Re-run the model without restarting the runtime, unnecessary after our next release\n",
        "\n",
        "    # WandB – Config is a variable that holds and saves hyperparameters and inputs\n",
        "    # Defining some key variables that will be used later on in the training  \n",
        "    config = wandb.config          \n",
        "    config.BATCH_SIZE = 4\n",
        "    config.EVAL_BATCH_SIZE = 10\n",
        "    config.N_EPOCHS = 5 \n",
        "    config.LEARNING_RATE = lr\n",
        "    config.SEED = 42               \n",
        "    config.art_maxlen = art\n",
        "    config.summary_maxlen = sum_\n",
        "    config.Valid_art_maxlen = artV\n",
        "    config.Valid_summary_maxlen = sumV\n",
        "    config.log_interval = 10     # how many batches to wait before logging training status\n",
        "\n",
        "    random.seed(config.SEED)\n",
        "    np.random.seed(config.SEED)\n",
        "    torch.manual_seed(config.SEED)\n",
        "    torch.backends.cudnn.deterministic = True\n",
        "    \n",
        "    kwargs = {'max_article_tokens': art_maxlen,\n",
        "                'max_summary_tokens': summary_maxlen\n",
        "             }\n",
        "    \n",
        "    kwargsval = {'max_article_tokens': Valid_art_maxlen,\n",
        "                'max_summary_tokens': Valid_summary_maxlen\n",
        "             }\n",
        "    \n",
        "    \n",
        "    train_loader = get_dataloader(X_train, BATCH_SIZE,valid=None, **kwargs)\n",
        "    val_loader  = get_dataloader(X_valid, EVAL_BATCH_SIZE,valid='valid', **kwargsval)\n",
        "    \n",
        "    train_loss = []\n",
        "    val_loss = []\n",
        "    perplexity = []\n",
        "    \n",
        "    model = model.to(device)\n",
        "    optimizer = AdaFactor(model.parameters(), lr=LEARNING_RATE)\n",
        "    scheduler = ReduceLROnPlateau(optimizer, factor=0.5, patience=0)\n",
        "    \n",
        "    wandb.watch(model, log=\"all\")\n",
        "\n",
        "    for epoch in range(N_EPOCHS):\n",
        "\n",
        "        avg_loss, outputs = training(model, train_loader, optimizer, iteration=epoch)\n",
        "        print('\\nValidation start:')\n",
        "        eval_loss = validation(model, val_loader)\n",
        "\n",
        "        pp = get_perplexity(eval_loss)\n",
        "\n",
        "        perplexity.append(pp)\n",
        "        train_loss.append(avg_loss)\n",
        "        val_loss.append(eval_loss)\n",
        "        scheduler.step(eval_loss)\n",
        "\n",
        "\n",
        "        print(f'Epoch loss: {avg_loss:.2f}')\n",
        "        print(f'Perplexity: {pp:.3f} | Eval loss: {eval_loss:.2f}')\n",
        "        print(\"--------------\")\n",
        "        \n",
        "        \n",
        "        wandb.log({\n",
        "            \"Training Loss\": avg_loss,\n",
        "            \"Perplexity \": pp,\n",
        "            \"Eval Loss\": eval_loss})\n",
        "\n",
        "\n",
        "    #     if pp < best_pp:\n",
        "    #       best_pp = pp\n",
        "    #       saving(path, epoch, avg_loss, model, pp, lr)\n",
        "    #       dill.dump(optimizer, filename)\n",
        "\n",
        "    # Save model for every 3 epochs\n",
        "    # if i%3==0:\n",
        "    #   torch.save(model.state_dict(), path)\n",
        "    #print(f'Best Perplexity: {best_pp}')\n",
        "    #filename.close()\n",
        "\n",
        "    return train_loss, perplexity, val_loss, outputs"
      ],
      "execution_count": null,
      "outputs": []
    },
    {
      "cell_type": "code",
      "metadata": {
        "colab_type": "code",
        "id": "npvqrZ9L_Ufl",
        "colab": {
          "base_uri": "https://localhost:8080/",
          "height": 1000,
          "referenced_widgets": [
            "cb47163880b644e99674d508f1407349",
            "e94c000d5060445ca93691f6af42e70c",
            "6e1089fcff4a4ad19de6fc9dfb87c171",
            "c5b5410811de4ab59ff76737f353ce27",
            "2f28dc0b45cc4b30acb85fecdc128397",
            "0551f8a91cb547948703416f5c200c93",
            "e8fbc6f859784253a0cf6fe88cc0d9ca",
            "cd662889ecd24a5fbfbf078039e270a8",
            "ddd0f5a0f838494daf3d0581081c3e86",
            "3856954e8b1e47a08fce9fff7a038027",
            "f842c10d414f41c6846c1dc74200f301",
            "a694fbafc40c41e98fe568668e4db732",
            "8365405f8a1c4d178b5ab5cd9d905e32",
            "4800749f8151430c8cc49570cd4ccaf7",
            "dc75ce283dff4270b9c537d4e057d416",
            "992143ed056d4a23afff16b83c514432",
            "dffe3b78e72e4c309bda155884c2c7a7",
            "00632d7b23cc45f59515669601334fcd",
            "d9fb635e32cd4ed4bcddf6574de80b1b",
            "1523672396354424b0658ce14786fbd2",
            "273de981090749b29ce385706c449722",
            "3353a6712b3a482d8907ca80a0824020",
            "ffc60b07ad704ea2afc0ac2c79c10c11",
            "864cb033af344f22b288a320088ec71c",
            "2d96618428094902b80450d649566a66",
            "c7a670342db348f0b703a95438137574",
            "a33ce8bb19284323a89a317403263c0d",
            "90937a3fdc314010948a13e9e2c70e40",
            "b506bbd1464b407980a6ef55a7819828",
            "a2026ad15de541eebf332cb4ce4e1ad2",
            "a56cd84f576841259aace5b34b0efda7",
            "2004cd6b66034fdda39e09c4ea44b3ce",
            "90f39af76e9846b18c45633dce765584",
            "4a42cbf2455346818c8fb92da5665bca",
            "d2a4e7e937804562a63d0191223c0dd0",
            "02d1d8ffcf3a4873880bb4ec2b7eefbf",
            "d689f347b2e040d186d0353abaa96dd4",
            "17e87d4a9a974aa6828c5ae0f9e0cf3a",
            "1f778937b7484fac8de6530ea10a5470",
            "7a0883324f8b4256adf0e8a54c77524f",
            "53c9e46489fc4d708c7fe856173f3b12",
            "27afa2d568d6441690a6d0ee44e40e1c",
            "0cdd1f83587643f68b9cc4659ba75fb8",
            "2732c77700724db3beb39d1c64469852",
            "598b0d3d4ba64ed48d511ce9dd360f64",
            "9efdf4e9fd8c42598cced165c426f5bf",
            "f1010194505c44b588ba44a39e4afd9f",
            "a504d4571ae54c97a6fb586051f17b07",
            "a633f4726f6a4ba5babb0e0414e6c5e1",
            "007752d9ce5e47f480ae606afeb2cd16",
            "58fa30020dc14801a78967796be9df3e",
            "9712936912b84e498783132d111037bf",
            "89f6bfd52126419ab7c6b6ba00894c24",
            "501fe7de2d29471c9ad3580ba42b274d",
            "9e0d68b268384372ae1ec48b6c363b3a",
            "e595378941654a4dbe560a646dc52272",
            "c56a3c25a1284582bdfb1ad9e02ccb06",
            "888804a45395411cb9db622b0e6878cb",
            "b986d76f127a48669bfaf9c674079d87",
            "e941a8dd61c641c88445eb5497fd2760",
            "6736870c4aa94b20adeed80a00507dce",
            "4d3bd152e2b14612bdec4f9692d48739",
            "63ff13ee95f64beea555e0660be15eec",
            "ce7dc5c992754af5a545aa408ed67c88",
            "430de0fcf9ce45799f8cec7b508a8f7f",
            "99791d40ec534ebc9a7f4b01767f9aad",
            "e2be21b2cc584489b535309b9c8904e3",
            "354fdd4a6e064367be8398d996b63d38",
            "8503f63352114056ace6ee5662d746da",
            "fca884b72b1946cd8403edac7d41924e",
            "3008461ae4e440d081f2f3ac46afa685",
            "22e8567701184b729be80c57098badc4",
            "40ef9fea4c03417db6bdc76b480fb59e",
            "3c42fdea3dcd4f2bbd6ba10777f27db3",
            "8b5212a3ed9f49aea201644e1ed1ac53",
            "a637e9d5dda44c3e9c8c3b9154b1b20d",
            "e7ccb000bd83423fb4693a908c638ddb",
            "4e394e72017442e989642afdc2b8abcb",
            "87a5e794f5ff408ebbf2a740a7560adb",
            "200ba008099045719694899c681c2d16",
            "8b0a112033ab4a3a9a970c6eaaec5531",
            "9acb641a7ede4dd6b68097dbff290ce1",
            "8ef3688940ae4ff4840fc3ca4c231125",
            "f7dd810e69fa4f1f91acaec17fb8c64a",
            "68ba61411c5d4097883b053f06493415",
            "838fc6b6bb704fd897d9145830d7bb9f",
            "268c4187cfc9490bacfa1eafe1fbcca1",
            "940db33506ef463788996553c4bf5f74",
            "fb5c1e7223ac4634a16c161784505836",
            "7475bb3748de434eae59ef85715514da",
            "471a09375e984a31824b27e279a6c4f3",
            "27deb6f565ac4447a44770288071a0b8",
            "7a407d5347104eaa9ce6ec36250715d3",
            "37454b94184a4a10a9affa6e84e74f43",
            "e94b124aaf674431b6e424b9c6c1da87",
            "9a9728af9dcb4e67a1a006297cd7b74c",
            "e7fc29feb6d3404d83c1e455602d5c1b",
            "ddf41c306dc441eb85beb6ea7bfbfedd",
            "2d2b6b3effa34b809c30379c42c3c861",
            "f46251823d4f4d219bffc095047f8867",
            "5605c8c2ad12431b88e1404953ecd6b9",
            "ad0c71bcf6d945098f04025bc52055f9",
            "04619e3db74847f5b637c7d2b1d5b8b8",
            "9d3ae70779e447d0aa495a9872209d38",
            "906c310a405b4822a19d206cf3467f9b",
            "75b200a4d1cb4f1cab2204139ac8fff5",
            "61a4358811654212bd669c1c6c40b4cd",
            "917a8ab6a55b4cd382b1cd1982d5a227",
            "7b8fca08cafe4f7e9ad9f519bb005fd1",
            "2df67220b98547639c10a80ceb63b1ef",
            "58d8bd8caffa47788931111cd5d05409",
            "4778d193b45a4e2ca8871f19b195a26b",
            "267a56c7a2f542e3b24a5f790491a550",
            "dc94b3b543714dd0845fdadca7db22a3",
            "db85fdb064634d80b1904313a3b81ddb",
            "1cbf0dd906ac41e985bd752f526fa2d4",
            "ed804e9c6fae4499aa3e6fef00f5de44",
            "9459d0d307814c34aa8a31945a82adb7",
            "41ceec6b9c214b18891c8ab915d5c19c",
            "6005029df2504711a96df12e14290100"
          ]
        },
        "outputId": "84bc79d3-9ae7-4882-d791-6c3699ca45fb"
      },
      "source": [
        "train_loss, perplexity, eval_loss, outputs = run(model, Xtrain_trial, Xvalid_trial,lr= LEARNING_RATE)"
      ],
      "execution_count": null,
      "outputs": [
        {
          "output_type": "stream",
          "text": [
            "Start training for epoch: 0\n"
          ],
          "name": "stdout"
        },
        {
          "output_type": "stream",
          "text": [
            "/pytorch/torch/csrc/utils/python_arg_parser.cpp:756: UserWarning: This overload of add_ is deprecated:\n",
            "\tadd_(Number alpha, Tensor other)\n",
            "Consider using one of the following signatures instead:\n",
            "\tadd_(Tensor other, *, Number alpha)\n"
          ],
          "name": "stderr"
        },
        {
          "output_type": "stream",
          "text": [
            "[0/994970 (0)%] \t Training loss: 3.257\n",
            "[400/994970 (0)%] \t Training loss: 2.431\n",
            "[800/994970 (0)%] \t Training loss: 1.212\n",
            "[1200/994970 (0)%] \t Training loss: 2.144\n",
            "[1600/994970 (0)%] \t Training loss: 2.432\n",
            "[2000/994970 (0)%] \t Training loss: 0.968\n"
          ],
          "name": "stdout"
        }
      ]
    },
    {
      "cell_type": "code",
      "metadata": {
        "colab_type": "code",
        "id": "jmJ94Ryul0vR",
        "colab": {
          "base_uri": "https://localhost:8080/",
          "height": 298
        },
        "outputId": "f5f05284-122e-4f8f-cb3c-176e845c19db"
      },
      "source": [
        "import matplotlib.pyplot as plt\n",
        "\n",
        "tr_los = np.array(train_loss)\n",
        "ev_los = np.array(eval_loss)\n",
        "per = np.array(perplexity)\n",
        "\n",
        "plt.plot(tr_los, label='Training loss')\n",
        "plt.plot(ev_los, label='Validation loss')\n",
        "plt.plot(per, label='Perplexity on val data')\n",
        "\n",
        "plt.legend(frameon=False)\n",
        "plt.title('Train loss vs Eval loss and Perplexity')\n",
        "plt.show()"
      ],
      "execution_count": null,
      "outputs": [
        {
          "output_type": "display_data",
          "data": {
            "image/png": "[encoded data removed]",
            "text/plain": [
              "<Figure size 432x288 with 1 Axes>"
            ]
          },
          "metadata": {
            "tags": [],
            "needs_background": "light"
          }
        }
      ]
    },
    {
      "cell_type": "code",
      "metadata": {
        "colab_type": "code",
        "id": "jsxZGr_bz0cv",
        "colab": {}
      },
      "source": [
        "def generator(model, dataset_loader):\n",
        "  \n",
        "  model.eval()\n",
        "\n",
        "  results = {\"generated_summary\": [], \"golden_summary\": []}\n",
        "\n",
        "  with torch.no_grad():\n",
        "\n",
        "    for idx, data_val in enumerate(dataset_loader):\n",
        "      \n",
        "      input_ids, source_mask, summary_ids, summary_mask = data_val \n",
        "      \n",
        "      input_ids = input_ids.to(device, dtype = torch.long)\n",
        "      source_mask = source_mask.to(device, dtype = torch.float)\n",
        "      summary_ids = summary_ids.to(device, dtype = torch.long)\n",
        "\n",
        "      generatation = model.generate(input_ids=input_ids,\n",
        "                                    attention_mask=source_mask, \n",
        "                                    min_length=30, \n",
        "                                    max_length=300, \n",
        "                                    num_beams=1,\n",
        "                                    repetition_penalty=2.5,\n",
        "                                    eos_token_id = model.config.eos_token_id,               \n",
        "                                    length_penalty=1.0, \n",
        "                                    early_stopping=True\n",
        "                                    )\n",
        "\n",
        "      for gen, sc in zip(generatation, summary_ids): # Taking whole document IDs and docode the summary\n",
        "\n",
        "        gen_tokens_dec = tokenizer.decode(gen, skip_special_tokens=True, clean_up_tokenization_spaces=True)\n",
        "        sc_tokens_dec = tokenizer.decode(sc, skip_special_tokens=True, clean_up_tokenization_spaces=True)\n",
        "\n",
        "        results[\"generated_summary\"].append(gen_tokens_dec)\n",
        "        results[\"golden_summary\"].append(sc_tokens_dec)\n",
        "\n",
        "  return results\n"
      ],
      "execution_count": null,
      "outputs": []
    },
    {
      "cell_type": "markdown",
      "metadata": {
        "colab_type": "text",
        "id": "MwTbUyKag_8R"
      },
      "source": [
        "#### Loading Saved Model"
      ]
    },
    {
      "cell_type": "code",
      "metadata": {
        "colab_type": "code",
        "id": "tTLrSSGio-c-",
        "colab": {}
      },
      "source": [
        "pretrained = False\n",
        "\n",
        "if pretrained:    \n",
        "\n",
        "    model = .... # first initialize the model and optimizer\n",
        "\n",
        "    #optimizer = ... # optimizer then,\n",
        "    infile = open(pcle,'rb')\n",
        "    optimizer = pickle.load(infile)\n",
        "    infile.close()\n",
        "\n",
        "    checkpoint = torch.load(PATH)\n",
        "    model.load_state_dict(checkpoint['model_state_dict'])\n",
        "    epoch = checkpoint['epoch']\n",
        "    loss = checkpoint['loss']"
      ],
      "execution_count": null,
      "outputs": []
    },
    {
      "cell_type": "code",
      "metadata": {
        "colab_type": "code",
        "id": "N1yAtA49oJ4X",
        "colab": {
          "base_uri": "https://localhost:8080/",
          "height": 52
        },
        "outputId": "8bf203b2-65bd-42aa-a13b-a367a980c6b4"
      },
      "source": [
        "%time results = generator(model, val_loader)"
      ],
      "execution_count": null,
      "outputs": [
        {
          "output_type": "stream",
          "text": [
            "CPU times: user 23min 6s, sys: 50 s, total: 23min 56s\n",
            "Wall time: 21min 3s\n"
          ],
          "name": "stdout"
        }
      ]
    },
    {
      "cell_type": "markdown",
      "metadata": {
        "colab_type": "text",
        "id": "kNpZ1c5TBmqD"
      },
      "source": [
        "#### Visualizing examples"
      ]
    },
    {
      "cell_type": "markdown",
      "metadata": {
        "colab_type": "text",
        "id": "GkwqzhhvEXqt"
      },
      "source": [
        "**Example 1**"
      ]
    },
    {
      "cell_type": "code",
      "metadata": {
        "colab_type": "code",
        "id": "6eQnF1XN_T8r",
        "colab": {
          "base_uri": "https://localhost:8080/",
          "height": 106
        },
        "outputId": "2f75a808-e1ea-44bd-c636-1e1d6a007111"
      },
      "source": [
        "print(\"Actual summary:\")\n",
        "results['golden_summary'][0]"
      ],
      "execution_count": null,
      "outputs": [
        {
          "output_type": "stream",
          "text": [
            "Actual summary:\n"
          ],
          "name": "stdout"
        },
        {
          "output_type": "execute_result",
          "data": {
            "application/vnd.google.colaboratory.intrinsic": {
              "type": "string"
            },
            "text/plain": [
              "'SAN DIEGO PADRES team notebook'"
            ]
          },
          "metadata": {
            "tags": []
          },
          "execution_count": 151
        }
      ]
    },
    {
      "cell_type": "code",
      "metadata": {
        "colab_type": "code",
        "id": "PNXoHiQjBjAY",
        "colab": {
          "base_uri": "https://localhost:8080/",
          "height": 177
        },
        "outputId": "ee260cb0-641e-46ce-9a69-bd2ea8441a4f"
      },
      "source": [
        "print('Generated summary:')\n",
        "results['generated_summary'][0]"
      ],
      "execution_count": null,
      "outputs": [
        {
          "output_type": "stream",
          "text": [
            "Generated summary:\n"
          ],
          "name": "stdout"
        },
        {
          "output_type": "execute_result",
          "data": {
            "application/vnd.google.colaboratory.intrinsic": {
              "type": "string"
            },
            "text/plain": [
              "'So sayeth Padre general manager Kevin Towers. Less than two weeks after unofficially setting his starting rotation by trading for No. 1 Kevin Brown and re signing No. 5 Pete Smith, Towers stirred the pot Jan. 7 by signing Mark Langston to a minor league contract. But the Padres have no intention of having Langston pitch at Triple A Las Vegas. And neither does the 37 year old left hander. We didn t get him to pitch at Las Vegas, said GM Kevin Towers emphatically.'"
            ]
          },
          "metadata": {
            "tags": []
          },
          "execution_count": 152
        }
      ]
    },
    {
      "cell_type": "markdown",
      "metadata": {
        "colab_type": "text",
        "id": "5xU7pMWeEfh8"
      },
      "source": [
        "**Example 2**"
      ]
    },
    {
      "cell_type": "code",
      "metadata": {
        "colab_type": "code",
        "id": "g_K3Q-5GB92N",
        "colab": {
          "base_uri": "https://localhost:8080/",
          "height": 159
        },
        "outputId": "3b960f64-d419-41ab-bdf2-df342e9711ef"
      },
      "source": [
        "Xtest_trial.iloc[10,:]['text']"
      ],
      "execution_count": null,
      "outputs": [
        {
          "output_type": "execute_result",
          "data": {
            "application/vnd.google.colaboratory.intrinsic": {
              "type": "string"
            },
            "text/plain": [
              "'As the lights went down at the nearly sold out House of Blues on Saturday, Robert Johnson s 1936 Delta blues Cross Roads came up, and 19 year old Jake Bugg ambled onto the darkened stage with his two bandmates, greeted by shrieks from all sides.\\n\\nWith his fetching mop top and boyish charm, this JB comes off like the anti pop Justin Beiber, reviving rock n roll as sincere but sexy folk music for the long tailed digital age.\\n\\n Definitely not the radio, said 17 year old Stoneham resident Caroline Thompson when asked how she d learned about the English singer songwriter, whose 2012 debut topped the UK charts but never broke the US top 40. Instead, Thompson and two separately interviewed older male concertgoers credited music festivals. To promote his second album, Shangri La, Bugg has performed in Boston several times recently, at successively larger venues.\\n\\nAt the 2,400 capacity House of Blues, the bassist and drummer planted themselves at either end of the large stage and Bugg took the center, clutching a classical acoustic guitar. From the opening Dylan esque word spree There s a Beast and We All Feed It, the singer s evident absorption in the music captivated the notably diverse crowd, and he won cheers simply by wandering here or glancing there.\\n\\nThe excitement held firm through the first eight numbers, each a striking uptempo amalgam of old folk, skiffle, and rockabilly styles, climaxing with the instantly winning Two Fingers and after Bugg switched to electric guitar the new Messed Up Kids. The mood ebbed during a couple of tender acoustic ballads and the long jag of bluesy and punky numbers that closed the hourlong set. But a three song encore grabbed it back. It included Bugg s strong rendition of Neil Young s My My, Hey Hey, during which he delivered the line rock n roll can never die as if it were still feasible.\\n\\nFronting a black clad five piece band, Albert Hammond Jr., of the Strokes, preceded Bugg with clich tinged songs and a smug indifference that showed why the claim was ever in doubt.'"
            ]
          },
          "metadata": {
            "tags": []
          },
          "execution_count": 156
        }
      ]
    },
    {
      "cell_type": "code",
      "metadata": {
        "colab_type": "code",
        "id": "l_CBGaOSBvmL",
        "colab": {
          "base_uri": "https://localhost:8080/",
          "height": 54
        },
        "outputId": "1b18480c-dc94-4d98-dbd5-fada568312d2"
      },
      "source": [
        "print(\"Actual summary:\")\n",
        "results['golden_summary'][10]"
      ],
      "execution_count": null,
      "outputs": [
        {
          "output_type": "stream",
          "text": [
            "Actual summary:\n"
          ],
          "name": "stdout"
        },
        {
          "output_type": "execute_result",
          "data": {
            "application/vnd.google.colaboratory.intrinsic": {
              "type": "string"
            },
            "text/plain": [
              "'As the lights went down at the nearly sold out House of Blues on Saturday, Robert Johnson s 1936 Delta blues Cross Roads came up, and 19 year old Jake Bugg ambled onto the darkened stage with his two bandmates, greeted by shrieks from all sides. With his fetching mop top and boyish charm, this JB comes off like the anti pop Justin Beiber, reviving rock n roll as sincere but sexy folk music for the long tailed digital age. To promote his second album, Shagri La, Bugg has performed in Boston several times recently, at successively larger venues. At the 2,400 capacity House of Blue'"
            ]
          },
          "metadata": {
            "tags": []
          },
          "execution_count": 157
        }
      ]
    },
    {
      "cell_type": "code",
      "metadata": {
        "colab_type": "code",
        "id": "ITAC0YvZB0um",
        "colab": {
          "base_uri": "https://localhost:8080/",
          "height": 212
        },
        "outputId": "bff5f8b7-b225-44fa-f28a-91cfa698469d"
      },
      "source": [
        "print('Generated summary:')\n",
        "results['generated_summary'][10]"
      ],
      "execution_count": null,
      "outputs": [
        {
          "output_type": "stream",
          "text": [
            "Generated summary:\n"
          ],
          "name": "stdout"
        },
        {
          "output_type": "execute_result",
          "data": {
            "application/vnd.google.colaboratory.intrinsic": {
              "type": "string"
            },
            "text/plain": [
              "'As the lights went down at the nearly sold out House of Blues on Saturday, Robert Johnson s 1936 Delta blues Cross Roads came up, and 19 year old Jake Bugg ambled onto the darkened stage with his two bandmates, greeted by shrieks from all sides. With his fetching mop top and boyish charm, this JB comes off like the anti pop Justin Beiber, reviving rock n roll as sincere but sexy folk music for the long tailed digital age. Definitely not the radio, said 17 year old Stoneham resident Caroline Thompson when asked how she d learned about the English singer songwriter, whose 2012 debut topped the UK charts but never broke the US top 40. Instead, Thompson and two separately interviewed older male concertgoers credited music festivals.'"
            ]
          },
          "metadata": {
            "tags": []
          },
          "execution_count": 158
        }
      ]
    },
    {
      "cell_type": "markdown",
      "metadata": {
        "colab_type": "text",
        "id": "OuLET9kiEkTa"
      },
      "source": [
        "**Example 3**"
      ]
    },
    {
      "cell_type": "code",
      "metadata": {
        "colab_type": "code",
        "id": "s6eSs1ZWD_sD",
        "colab": {
          "base_uri": "https://localhost:8080/",
          "height": 159
        },
        "outputId": "f9af3dd9-6e7a-4c32-9aa4-7a024bb8607e"
      },
      "source": [
        "Xtest_trial.iloc[3,:]['text']"
      ],
      "execution_count": null,
      "outputs": [
        {
          "output_type": "execute_result",
          "data": {
            "application/vnd.google.colaboratory.intrinsic": {
              "type": "string"
            },
            "text/plain": [
              "'Remember when everyone on Earth was glued to Twitter and their TVs, of course as 33 Chilean miners were hoisted from captivity after 69 days underground? If you thought that story would top this week s Twitter trends chart, think again, pal.\\n\\nTurns out, nothing can top the trend power of Korean boy band Super Junior specifically the singer Kim Hee chul, whose name, you may have noticed, rarely left the top of the trending topics this week. With Bieber esque panache, Hee chul launched Super Junior to the top of this week s chart, leaving the Chilean miners down below too soon? at number two.\\n\\nAnd there s good news this week for tweeters who like their trends highbrow. News around the recently announced Nobel Prize winners continued to trend strongly for the second week in a row, moving the topic up from fourth to third.\\n\\nCurious about the rest of this week s top Twitter topics? Scroll on down to the complete chart below, which is compiled by our friends over at What The Trend. Because this is a topical list, hashtag memes and games have been omitted from the chart.\\n\\nYou can check past Twitter trends in our Top Twitter Topics section as well as read more about this past week s trends on What The Trend.\\n\\nDavid Arquette Courtney Cox\\n\\nHip Hop Awards TV Show \\n\\nImage courtesy of iStockphoto, ricardoinfante'"
            ]
          },
          "metadata": {
            "tags": []
          },
          "execution_count": 160
        }
      ]
    },
    {
      "cell_type": "code",
      "metadata": {
        "colab_type": "code",
        "id": "QTOwXNrqDUMp",
        "colab": {
          "base_uri": "https://localhost:8080/",
          "height": 142
        },
        "outputId": "22ea1bef-0ee9-41e4-9424-1747acabab9f"
      },
      "source": [
        "print(\"Actual summary:\")\n",
        "results['golden_summary'][3]"
      ],
      "execution_count": null,
      "outputs": [
        {
          "output_type": "stream",
          "text": [
            "Actual summary:\n"
          ],
          "name": "stdout"
        },
        {
          "output_type": "execute_result",
          "data": {
            "application/vnd.google.colaboratory.intrinsic": {
              "type": "string"
            },
            "text/plain": [
              "'Check out the chart to find out what the world was talking about on Twitter this past week.'"
            ]
          },
          "metadata": {
            "tags": []
          },
          "execution_count": 161
        }
      ]
    },
    {
      "cell_type": "code",
      "metadata": {
        "colab_type": "code",
        "id": "8KPpq-pUDcfe",
        "colab": {
          "base_uri": "https://localhost:8080/",
          "height": 177
        },
        "outputId": "f8042bcb-cf9a-4b20-88c9-df472a921934"
      },
      "source": [
        "print('Generated summary:')\n",
        "results['generated_summary'][3]"
      ],
      "execution_count": null,
      "outputs": [
        {
          "output_type": "stream",
          "text": [
            "Generated summary:\n"
          ],
          "name": "stdout"
        },
        {
          "output_type": "execute_result",
          "data": {
            "application/vnd.google.colaboratory.intrinsic": {
              "type": "string"
            },
            "text/plain": [
              "'The trending topics on Twitter this week have barely topped the charts, but there s good news for those who like their tweets highbrow.'"
            ]
          },
          "metadata": {
            "tags": []
          },
          "execution_count": 162
        }
      ]
    },
    {
      "cell_type": "markdown",
      "metadata": {
        "id": "C0TEEYozZ0wm",
        "colab_type": "text"
      },
      "source": [
        "**Example 4**"
      ]
    },
    {
      "cell_type": "code",
      "metadata": {
        "id": "J8J_ZRKZZ0wm",
        "colab_type": "code",
        "colab": {},
        "outputId": "283a7426-78d2-4302-c7eb-8f435462639d"
      },
      "source": [
        "Xtest_trial.iloc[2,:]['text']"
      ],
      "execution_count": null,
      "outputs": [
        {
          "output_type": "execute_result",
          "data": {
            "application/vnd.google.colaboratory.intrinsic": {
              "type": "string"
            },
            "text/plain": [
              "'This story was reported by NICK CHARLES, AUSTIN EVANS FENNER AND SAMSON MULUGETA It was written by KAREN HUNTER\\n\\nTuesday, October 17th 1995, 4 20AM\\n\\nAs many black men marched on Washington yesterday, some New Yorkers spoke of their pride in the event and their disappointment in not being there, too.\\n\\n I felt like the only black person working, said Roderick Vinson, 38, of Harlem. That feeling made me sick to my stomach. I couldn t believe I missed one of the important events of my life. \\n\\nWinston Ford, 50, had to work, too. He makes his living selling incense and body oils in Brooklyn.\\n\\n I didn t have the finances to make the trip, he said. But my heart and soul is with them in Washington. \\n\\nFor HIV positive Sheldon Julius of Harlem, the Million Man March was a wakeup call. Long an absentee father, he called his 15 year old son Sunday night and for the first time ever told him that he loved him. The calling of the march made me realize my responsibility, he said.\\n\\nBut some other black New Yorkers said they had no use for march organizer Louis Farrakhan and made no apologies for missing the rally.\\n\\n Farrakhan s wrong, said Allen Washington, 61, a retired Triborough Bridge and Tunnel Authority worker. Whites and blacks need each other. If we worked together, we d be a great nation. \\n\\n Louis Farrakhan shouldn t be at the march because of the remarks he has made about Jews and whites, agreed Brooklyn construction worker Cyril Peter, 35. As long as he s there, there will be a negative effect. \\n\\nCharles Williams, 45, an East Elmhurst, Queens, graphics worker, decided that the event was hollow. There is no agenda, he said. It isn t about jobs or housing, it s just about a paper platform. \\n\\nStill, drug counselor Jeanette Morgan was bursting with hope and pride as she sipped coffee in a Queens diner and thought about her brothers, sons and grandsons marching in Washington.\\n\\n I am so emotional about this day, I can barely talk about it, Morgan said. When the men return, I hope they go to their brothers at a street corner and offer to help. \\n\\nOn one Harlem corner yesterday, college student Mike Carr stood shaking his head as he watched a man idly nurse a 40 ounce beer in a bag.\\n\\n It s a shame, said Carr. These are the brothers who could have used the march the most.'"
            ]
          },
          "metadata": {
            "tags": []
          },
          "execution_count": 163
        }
      ]
    },
    {
      "cell_type": "code",
      "metadata": {
        "id": "NQrei0JEZ0wo",
        "colab_type": "code",
        "colab": {},
        "outputId": "1aa75634-2780-49c7-d0c3-0adae8f78971"
      },
      "source": [
        "print(\"Actual summary:\")\n",
        "results['golden_summary'][2]"
      ],
      "execution_count": null,
      "outputs": [
        {
          "output_type": "stream",
          "text": [
            "Actual summary:\n"
          ],
          "name": "stdout"
        },
        {
          "output_type": "execute_result",
          "data": {
            "application/vnd.google.colaboratory.intrinsic": {
              "type": "string"
            },
            "text/plain": [
              "'As many black men marched on Washington yesterday, some New Yorkers spoke of their pride in the event and their disappointment in not being there, too. I felt like the only black person working, said Roderick Vinson, 38, of Harlem. That feeling made me sick to my stomach. I couldn t believe I missed one of the important events of my life. Winston Ford, 50, had to work, too. He makes his living selling'"
            ]
          },
          "metadata": {
            "tags": []
          },
          "execution_count": 164
        }
      ]
    },
    {
      "cell_type": "code",
      "metadata": {
        "id": "OJIYcxJ4Z0wp",
        "colab_type": "code",
        "colab": {},
        "outputId": "04e4d05f-fc82-4171-80ca-3032539cbf25"
      },
      "source": [
        "print('Generated summary:')\n",
        "results['generated_summary'][2]"
      ],
      "execution_count": null,
      "outputs": [
        {
          "output_type": "stream",
          "text": [
            "Generated summary:\n"
          ],
          "name": "stdout"
        },
        {
          "output_type": "execute_result",
          "data": {
            "application/vnd.google.colaboratory.intrinsic": {
              "type": "string"
            },
            "text/plain": [
              "'As many black men marched on Washington yesterday, some New Yorkers spoke of their pride in the event and their disappointment in not being there, too. I felt like the only black person working, said Roderick Vinson, 38, of Harlem. That feeling made me sick to my stomach. I couldn t believe I missed one of the important events of my life. Winston Ford, 50, had to work, too. He makes his living selling incense and body oils in Brooklyn. I didn t have the finances to make the trip, he said. But my heart and soul is with them in Washington.'"
            ]
          },
          "metadata": {
            "tags": []
          },
          "execution_count": 165
        }
      ]
    },
    {
      "cell_type": "markdown",
      "metadata": {
        "colab_type": "text",
        "id": "4KX71gPzy_bH"
      },
      "source": [
        "######Performance"
      ]
    },
    {
      "cell_type": "code",
      "metadata": {
        "colab_type": "code",
        "id": "rdMr6tAWFpG8",
        "colab": {
          "base_uri": "https://localhost:8080/",
          "height": 125
        },
        "outputId": "a0b7677b-be23-49cf-e215-d3f9b566084c"
      },
      "source": [
        "!pip3 install rouge\n",
        "from rouge import Rouge"
      ],
      "execution_count": null,
      "outputs": [
        {
          "output_type": "stream",
          "text": [
            "Collecting rouge\n",
            "  Downloading https://files.pythonhosted.org/packages/43/cc/e18e33be20971ff73a056ebdb023476b5a545e744e3fc22acd8c758f1e0d/rouge-1.0.0-py3-none-any.whl\n",
            "Requirement already satisfied: six in /usr/local/lib/python3.6/dist-packages (from rouge) (1.12.0)\n",
            "Installing collected packages: rouge\n",
            "Successfully installed rouge-1.0.0\n"
          ],
          "name": "stdout"
        }
      ]
    },
    {
      "cell_type": "code",
      "metadata": {
        "id": "n-2UrHbnZ0wt",
        "colab_type": "code",
        "colab": {},
        "outputId": "eb5d2867-4a2c-4d88-bf4e-44f6871e5dc0"
      },
      "source": [
        "!pip3 install rouge-score tqdm\n",
        "from rouge_score import rouge_scorer, scoring"
      ],
      "execution_count": null,
      "outputs": [
        {
          "output_type": "stream",
          "text": [
            "Requirement already satisfied: rouge-score in /usr/local/lib/python3.6/dist-packages (0.0.4)\n",
            "Requirement already satisfied: tqdm in /usr/local/lib/python3.6/dist-packages (4.41.1)\n",
            "Requirement already satisfied: six>=1.14.0 in /usr/local/lib/python3.6/dist-packages (from rouge-score) (1.15.0)\n",
            "Requirement already satisfied: absl-py in /usr/local/lib/python3.6/dist-packages (from rouge-score) (0.9.0)\n",
            "Requirement already satisfied: nltk in /usr/local/lib/python3.6/dist-packages (from rouge-score) (3.2.5)\n",
            "Requirement already satisfied: numpy in /usr/local/lib/python3.6/dist-packages (from rouge-score) (1.18.5)\n"
          ],
          "name": "stdout"
        }
      ]
    },
    {
      "cell_type": "code",
      "metadata": {
        "colab_type": "code",
        "id": "ter9ktdQ6_54",
        "colab": {}
      },
      "source": [
        "from typing import Dict\n",
        "\n",
        "def get_score(summaries) -> Dict:  \n",
        "    \n",
        "    src_labels = summaries['golden_summary']\n",
        "    gen_summary = summaries['generated_summary']\n",
        "    \n",
        "    scorer = rouge_scorer.RougeScorer(['rouge1','rouge2','rougeL'], use_stemmer=True)\n",
        "    aggregator = scoring.BootstrapAggregator()\n",
        "    \n",
        "    for src, gent in zip(src_labels, gen_summary):\n",
        "        scores = scorer.score(gent, src)\n",
        "        aggregator.add_scores(scores)\n",
        "        \n",
        "    results = aggregator.aggregate()\n",
        "    return {key: val.mid.fmeasure for key, val in results.items()}"
      ],
      "execution_count": null,
      "outputs": []
    },
    {
      "cell_type": "code",
      "metadata": {
        "id": "jfhyTtEwZ0ww",
        "colab_type": "code",
        "colab": {},
        "outputId": "65e760cf-5c1d-4b3c-b73a-532fbfcf56fa"
      },
      "source": [
        "get_score(results)"
      ],
      "execution_count": null,
      "outputs": [
        {
          "output_type": "execute_result",
          "data": {
            "text/plain": [
              "{'rouge1': 0.37475500865610795,\n",
              " 'rouge2': 0.2654813985916763,\n",
              " 'rougeL': 0.336889087504554}"
            ]
          },
          "metadata": {
            "tags": []
          },
          "execution_count": 171
        }
      ]
    },
    {
      "cell_type": "code",
      "metadata": {
        "id": "6UtF_jowZ0wz",
        "colab_type": "code",
        "colab": {},
        "outputId": "e969fe82-4e50-472f-d4ed-68a810008fbe"
      },
      "source": [
        "rouge = Rouge()\n",
        "\n",
        "score = rouge.get_scores(results['generated_summary'], results['golden_summary'], avg=True)\n",
        "{key: val['f'] for key, val in score.items()}"
      ],
      "execution_count": null,
      "outputs": [
        {
          "output_type": "execute_result",
          "data": {
            "text/plain": [
              "{'rouge-1': 0.3492512018706707,\n",
              " 'rouge-2': 0.25526757621917745,\n",
              " 'rouge-l': 0.3449526534575657}"
            ]
          },
          "metadata": {
            "tags": []
          },
          "execution_count": 174
        }
      ]
    },
    {
      "cell_type": "code",
      "metadata": {
        "id": "SuKNdMkjZ0w1",
        "colab_type": "code",
        "colab": {}
      },
      "source": [
        ""
      ],
      "execution_count": null,
      "outputs": []
    },
    {
      "cell_type": "code",
      "metadata": {
        "id": "myFwDWpwZ0w2",
        "colab_type": "code",
        "colab": {}
      },
      "source": [
        ""
      ],
      "execution_count": null,
      "outputs": []
    },
    {
      "cell_type": "code",
      "metadata": {
        "id": "Stw9mmxRZ0w4",
        "colab_type": "code",
        "colab": {}
      },
      "source": [
        ""
      ],
      "execution_count": null,
      "outputs": []
    },
    {
      "cell_type": "code",
      "metadata": {
        "id": "h73v9E6qZ0w5",
        "colab_type": "code",
        "colab": {}
      },
      "source": [
        ""
      ],
      "execution_count": null,
      "outputs": []
    },
    {
      "cell_type": "code",
      "metadata": {
        "id": "biX8kzMlZ0w6",
        "colab_type": "code",
        "colab": {}
      },
      "source": [
        ""
      ],
      "execution_count": null,
      "outputs": []
    },
    {
      "cell_type": "code",
      "metadata": {
        "id": "8JLMNdinZ0w9",
        "colab_type": "code",
        "colab": {}
      },
      "source": [
        ""
      ],
      "execution_count": null,
      "outputs": []
    },
    {
      "cell_type": "code",
      "metadata": {
        "id": "-0iPoe2dZ0w_",
        "colab_type": "code",
        "colab": {}
      },
      "source": [
        ""
      ],
      "execution_count": null,
      "outputs": []
    },
    {
      "cell_type": "code",
      "metadata": {
        "id": "38QnkQSRZ0xA",
        "colab_type": "code",
        "colab": {}
      },
      "source": [
        ""
      ],
      "execution_count": null,
      "outputs": []
    },
    {
      "cell_type": "code",
      "metadata": {
        "id": "VAOH_oNKZ0xC",
        "colab_type": "code",
        "colab": {}
      },
      "source": [
        ""
      ],
      "execution_count": null,
      "outputs": []
    },
    {
      "cell_type": "code",
      "metadata": {
        "id": "Fei2zb35Z0xD",
        "colab_type": "code",
        "colab": {}
      },
      "source": [
        ""
      ],
      "execution_count": null,
      "outputs": []
    },
    {
      "cell_type": "code",
      "metadata": {
        "id": "pilwuTxMZ0xF",
        "colab_type": "code",
        "colab": {}
      },
      "source": [
        ""
      ],
      "execution_count": null,
      "outputs": []
    },
    {
      "cell_type": "markdown",
      "metadata": {
        "colab_type": "text",
        "id": "sTkqfrwoy5QR"
      },
      "source": [
        "##### Freezing layers"
      ]
    },
    {
      "cell_type": "code",
      "metadata": {
        "colab_type": "code",
        "id": "tDjdxQUI6_1w",
        "colab": {}
      },
      "source": [
        "model.decoder.block[11].requires_grad=True\n",
        "model.decoder.block[4].requires_grad=True\n",
        "\n",
        "for param model.parameters():\n",
        "    param.requires_grad = False"
      ],
      "execution_count": null,
      "outputs": []
    },
    {
      "cell_type": "code",
      "metadata": {
        "colab_type": "code",
        "id": "imlmpMSC6_K2",
        "colab": {}
      },
      "source": [
        ""
      ],
      "execution_count": null,
      "outputs": []
    },
    {
      "cell_type": "code",
      "metadata": {
        "colab_type": "code",
        "id": "OljFlfM5z0OW",
        "colab": {}
      },
      "source": [
        "class T5Model(nn.Module):\n",
        "\n",
        "  def __init__(self, t5, )"
      ],
      "execution_count": null,
      "outputs": []
    },
    {
      "cell_type": "code",
      "metadata": {
        "colab_type": "code",
        "id": "wkpccxfe_Rwc",
        "colab": {}
      },
      "source": [
        "class DictionaryDataset:\n",
        "  def __init__(self, dataset=None):\n",
        "    self.w2index = defaultdict(int)\n",
        "    self.index2w = defaultdict(lambda: 'SOS')\n",
        "    self.symbols = ['SOS','EOS','PAD']\n",
        "    self.wcount = 3\n",
        "\n",
        "    for i, s in enumerate(self.symbols):\n",
        "      self.index2w[i] = s\n",
        "    for i, s in enumerate(self.symbols):\n",
        "      self.w2index[s] = i\n",
        "      \n",
        "    if dataset:\n",
        "      for i, line in tqdm(enumerate(dataset)):\n",
        "        self.word2index(line)\n",
        "\n",
        "  def word2index(self, sentence):\n",
        "    words = sentence.split()\n",
        "    for word in words:\n",
        "      if word not in self.w2index.keys():\n",
        "        self.w2index[word] = self.wcount\n",
        "        self.index2w[self.wcount] = word\n",
        "        self.wcount +=1\n",
        "    \n",
        "  def encode_sequence(self, dataset):\n",
        "    for i, line in tqdm(enumerate(dataset)):\n",
        "      self.word2index(line)\n",
        "\n",
        "  def decode_idx(self, idx):\n",
        "    dec_words = []\n",
        "    for i in idx:\n",
        "      dec_words.append(self.index2w[i])\n",
        "    return dec_words"
      ],
      "execution_count": null,
      "outputs": []
    },
    {
      "cell_type": "markdown",
      "metadata": {
        "colab_type": "text",
        "id": "h01oJ3XRCSBV"
      },
      "source": [
        "![LSTM](https://drive.google.com/open?id=19pYBGaKGx2wTHjDC3QLMkpr5HDqTPbb6)"
      ]
    },
    {
      "cell_type": "markdown",
      "metadata": {
        "colab_type": "text",
        "id": "ujAMkc2nDPaB"
      },
      "source": [
        "![Seq2SeqWithAttention](https://drive.google.com/open?id=1QDLNN0XQ0TfeA-nyAGBhG3YgwAX0bPQU)"
      ]
    },
    {
      "cell_type": "markdown",
      "metadata": {
        "colab_type": "text",
        "id": "gfvg8MT3RBFI"
      },
      "source": [
        "You should use the same number of layers, for encoder and decoder\n",
        "shape for inputs is (batch size, sequence length), (batch size, 1) respectively.\n"
      ]
    },
    {
      "cell_type": "code",
      "metadata": {
        "colab_type": "code",
        "id": "QQF-TwabDk4Q",
        "colab": {}
      },
      "source": [
        "class Encoder(nn.Module):\n",
        "  def __init__(self,input_size, embed_size, num_hidden, batch_size, num_layers=3, dropout = 0.1):\n",
        "    super(Encoder, self).__init__()\n",
        "    self.num_hidden = num_hidden\n",
        "    self.num_layers = num_layers\n",
        "    self.input_size = input_size\n",
        "    self.batch_size = batch_size\n",
        "\n",
        "    self.embed = nn.Embedding(input_size, embed_size)\n",
        "    self.lstm = nn.LSTM(input_size=embed_size, hidden_size=num_hidden,num_layers = num_layers, dropout=(0 if num_layers ==2 else dropout))\n",
        "\n",
        "  def init_hidden(self):\n",
        "     # The axes semantics are (num_layers, minibatch_size, hidden_dim)\n",
        "    return (torch.zeros(self.num_layers, self.batch_size, self.num_hidden), torch.zeros(self.num_layers, self.batch_size, self.num_hidden))\n",
        "  def forward(self, input, hidden):\n",
        "    # input (batch size, sequence length)\n",
        "    embedding = self.embed(input)\n",
        "    #print(embedding.shape)\n",
        "    embed_out = embedding.transpose(0,1)\n",
        "    print(embed_out.shape)\n",
        "    lstm_out, hidden = self.lstm(embed_out, hidden)\n",
        "\n",
        "    # The shape of lstm_out is (seq_len, batch_size, num_hiddens).\n",
        "    # state contains the hidden state and the memory cell\n",
        "    # of the last time step, the shape is (num_layers, batch_size, num_hiddens)\n",
        "    #lstout is (seq_length, batch_size, num_hiddens)\n",
        "    return lstm_out, hidden"
      ],
      "execution_count": null,
      "outputs": []
    },
    {
      "cell_type": "code",
      "metadata": {
        "colab_type": "code",
        "id": "m4_h0bXp0cl7",
        "colab": {
          "base_uri": "https://localhost:8080/",
          "height": 34
        },
        "outputId": "1310d376-e495-41c8-fd80-730b4970dca2"
      },
      "source": [
        "encoder = Encoder(input_size =10, embed_size=8, num_hidden=16, batch_size=4)\n",
        "X = torch.zeros((4, 7),dtype=torch.long)\n",
        "hidden = encoder.init_hidden()\n",
        "output, hidden = encoder(X, hidden)"
      ],
      "execution_count": null,
      "outputs": [
        {
          "output_type": "stream",
          "text": [
            "torch.Size([7, 4, 8])\n"
          ],
          "name": "stdout"
        }
      ]
    },
    {
      "cell_type": "code",
      "metadata": {
        "colab_type": "code",
        "id": "zJ53T62V6ZOO",
        "colab": {
          "base_uri": "https://localhost:8080/",
          "height": 34
        },
        "outputId": "70b9e373-d6ba-4eed-da7d-b002257ab62b"
      },
      "source": [
        "hidden[0].shape"
      ],
      "execution_count": null,
      "outputs": [
        {
          "output_type": "execute_result",
          "data": {
            "text/plain": [
              "torch.Size([3, 4, 16])"
            ]
          },
          "metadata": {
            "tags": []
          },
          "execution_count": 89
        }
      ]
    },
    {
      "cell_type": "code",
      "metadata": {
        "colab_type": "code",
        "id": "0XNO21wuBTGi",
        "colab": {
          "base_uri": "https://localhost:8080/",
          "height": 34
        },
        "outputId": "ab86113b-05af-4271-d479-df115a533fd9"
      },
      "source": [
        "output.shape"
      ],
      "execution_count": null,
      "outputs": [
        {
          "output_type": "execute_result",
          "data": {
            "text/plain": [
              "torch.Size([7, 4, 16])"
            ]
          },
          "metadata": {
            "tags": []
          },
          "execution_count": 90
        }
      ]
    },
    {
      "cell_type": "code",
      "metadata": {
        "colab_type": "code",
        "id": "e55gItUrF_wD",
        "colab": {}
      },
      "source": [
        "class Attention(nn.Module):\n",
        "  def __init__(self, hidden_size, method='dot'):\n",
        "    super(Attention, self).__init__()\n",
        "    self.method = method\n",
        "    self.hidden_size = hidden_size\n",
        "  def dot_score(self, hidden, encoder_output):\n",
        "    return torch.sum(hidden * encoder_output, dim=2)\n",
        "\n",
        "  def forward(self, hidden, encoder_output):\n",
        "    att_prod = self.dot_score(hidden, encoder_output)\n",
        "    attn_weights = att_prod.t()\n",
        "    return F.softmax(attn_weights, dim=1).unsqueeze(1)\n",
        "\n"
      ],
      "execution_count": null,
      "outputs": []
    },
    {
      "cell_type": "code",
      "metadata": {
        "colab_type": "code",
        "id": "Lp5VhnhRnuaL",
        "colab": {}
      },
      "source": [
        "class DecoderWithAtt(nn.Module):\n",
        "  def __init__(self, embed_size_in, num_hidden, output_size, att_method=None, num_layers = 3):\n",
        "    super(DecoderWithAtt, self).__init__()\n",
        "    self.num_layers = num_layers\n",
        "    self.num_hidden = num_hidden\n",
        "    self.output_size = output_size\n",
        "    self.att_method = att_method\n",
        "\n",
        "    self.emb = nn.Embedding(embed_size_in, num_hidden)\n",
        "    self.lstm = nn.LSTM(input_size=num_hidden, hidden_size=num_hidden, num_layers = num_layers)\n",
        "    self.con_ln = nn.Linear(num_hidden * 2, num_hidden)\n",
        "    self.drop = nn.Dropout(p=0.2)\n",
        "    self.fc  = nn.Linear(self.num_hidden, self.output_size)\n",
        "    self.attention = Attention(att_method, num_hidden)\n",
        "\n",
        "  def forward(self, prev_hidden, target_input, enconder_outputs):\n",
        "    embed_out = self.emb(target_input).transpose(0,1)\n",
        "    embed_out = self.drop(embed_out)\n",
        "    print('embed out >>>', embed_out.shape)\n",
        "    output, hidden = self.lstm(embed_out, prev_hidden) # shape (1, batch_size, hidden_size), 1 for one time step word \n",
        "    print('lstm out >>>', output.shape)\n",
        "    print('hidden out >>>', hidden[0].shape)\n",
        "\n",
        "    attent_weights = self.attention(output, enconder_outputs) # (att out shape: batch_size, 1, max_length), enc in shape: (max_length, batch_size, hidden_size)\n",
        "    print('attent_weights out >>>', attent_weights.shape)\n",
        "    print('enconder_outputs >>>', enconder_outputs.shape)\n",
        "\n",
        "    context = torch.bmm(attent_weights, enconder_outputs.transpose(0,1))\n",
        "    print('context out >>>', context.shape)\n",
        "    cont_dec_out = torch.cat((context, output.transpose(0,1)), 1)\n",
        "    print('to linear out >>>', cont_dec_out.shape)\n",
        "    cont_dec_out = cont_dec_out.view(cont_dec_out.shape[0], -1)\n",
        "    concat_out = self.con_ln(cont_dec_out)\n",
        "    concat_out = torch.tanh(concat_out)\n",
        "\n",
        "    out = self.fc(concat_out)\n",
        "    out = F.softmax(out, dim=1)\n",
        "\n",
        "    return out, hidden"
      ],
      "execution_count": null,
      "outputs": []
    },
    {
      "cell_type": "code",
      "metadata": {
        "colab_type": "code",
        "id": "--9oa_EJ6_GG",
        "colab": {}
      },
      "source": [
        "decoder = DecoderWithAtt(10,16,2)"
      ],
      "execution_count": null,
      "outputs": []
    },
    {
      "cell_type": "code",
      "metadata": {
        "colab_type": "code",
        "id": "KHklHQXG7x4d",
        "colab": {
          "base_uri": "https://localhost:8080/",
          "height": 137
        },
        "outputId": "eeeb0cd9-0cd2-424f-dc6a-3823273e7fdb"
      },
      "source": [
        "x = torch.zeros((4, 1),dtype=torch.long)\n",
        "out, hidden = decoder(hidden, x, output)"
      ],
      "execution_count": null,
      "outputs": [
        {
          "output_type": "stream",
          "text": [
            "embed out >>> torch.Size([1, 4, 16])\n",
            "lstm out >>> torch.Size([1, 4, 16])\n",
            "hidden out >>> torch.Size([3, 4, 16])\n",
            "attent_weights out >>> torch.Size([4, 1, 7])\n",
            "enconder_outputs >>> torch.Size([7, 4, 16])\n",
            "context out >>> torch.Size([4, 1, 16])\n",
            "to linear out >>> torch.Size([4, 2, 16])\n"
          ],
          "name": "stdout"
        }
      ]
    },
    {
      "cell_type": "code",
      "metadata": {
        "colab_type": "code",
        "id": "oW94xBGOOPQH",
        "colab": {
          "base_uri": "https://localhost:8080/",
          "height": 34
        },
        "outputId": "0cc0b4a1-9b8f-4a40-db3a-0a809f844f35"
      },
      "source": [
        "out.shape"
      ],
      "execution_count": null,
      "outputs": [
        {
          "output_type": "execute_result",
          "data": {
            "text/plain": [
              "torch.Size([4, 2])"
            ]
          },
          "metadata": {
            "tags": []
          },
          "execution_count": 96
        }
      ]
    },
    {
      "cell_type": "code",
      "metadata": {
        "colab_type": "code",
        "id": "fSB0L7_6QyEN",
        "colab": {
          "base_uri": "https://localhost:8080/",
          "height": 34
        },
        "outputId": "6b4d1c40-e5b1-446d-c843-4deb13218d54"
      },
      "source": [
        "hidden[0].shape"
      ],
      "execution_count": null,
      "outputs": [
        {
          "output_type": "execute_result",
          "data": {
            "text/plain": [
              "torch.Size([3, 4, 16])"
            ]
          },
          "metadata": {
            "tags": []
          },
          "execution_count": 97
        }
      ]
    },
    {
      "cell_type": "code",
      "metadata": {
        "colab_type": "code",
        "id": "5Rl0M8_pQ6sD",
        "colab": {}
      },
      "source": [
        ""
      ],
      "execution_count": null,
      "outputs": []
    }
  ]
}