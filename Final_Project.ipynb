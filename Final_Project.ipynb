{
 "cells": [
  {
   "cell_type": "markdown",
   "metadata": {
    "colab_type": "text",
    "id": "view-in-github"
   },
   "source": [
    "<a href=\"https://colab.research.google.com/github/jp-ishimwe/Projects/blob/master/Final_Project.ipynb\" target=\"_parent\"><img src=\"https://colab.research.google.com/assets/colab-badge.svg\" alt=\"Open In Colab\"/></a>"
   ]
  },
  {
   "cell_type": "code",
   "execution_count": 1,
   "metadata": {
    "colab": {},
    "colab_type": "code",
    "id": "mC1GOaVUZ0tj"
   },
   "outputs": [],
   "source": [
    "%%capture\n",
    "!pip3 install transformers --upgrade\n",
    "#!pip install transformers -q\n",
    "#!pip install wandb -q\n",
    "!pip3 install --upgrade wandb\n",
    "!pip3 install dill -q"
   ]
  },
  {
   "cell_type": "code",
   "execution_count": 3,
   "metadata": {
    "colab": {
     "base_uri": "https://localhost:8080/",
     "height": 55
    },
    "colab_type": "code",
    "id": "vxxkIi-xDrUz",
    "outputId": "3089c626-558c-4033-df7a-4a87e7c3743a"
   },
   "outputs": [
    {
     "name": "stderr",
     "output_type": "stream",
     "text": [
      "\u001b[34m\u001b[1mwandb\u001b[0m: \u001b[33mWARNING\u001b[0m W&B installed but not logged in.  Run `wandb login` or set the WANDB_API_KEY env variable.\n"
     ]
    }
   ],
   "source": [
    "#@title Import packages { run: \"auto\", vertical-output: true, display-mode: \"both\" }\n",
    "from __future__ import unicode_literals, print_function, division\n",
    "from io import open\n",
    "import unicodedata\n",
    "import string\n",
    "import re\n",
    "import random\n",
    "import pandas as pd\n",
    "import numpy as np\n",
    "from collections import defaultdict\n",
    "from sklearn.base import BaseEstimator, TransformerMixin\n",
    "from tqdm import tqdm\n",
    "from sklearn.model_selection import train_test_split\n",
    "import pickle\n",
    "import dill\n",
    "import tarfile\n",
    "import json, gzip\n",
    "import math\n",
    "from typing import Optional, Union\n",
    "import os\n",
    "\n",
    "import wandb\n",
    "\n",
    "import torch\n",
    "import torch.nn as nn\n",
    "import torch.optim as optim\n",
    "import torch.nn.functional as F\n",
    "from transformers import T5Tokenizer, T5ForConditionalGeneration\n",
    "from torch.utils.data import Dataset, DataLoader\n",
    "from torch.optim.lr_scheduler import ReduceLROnPlateau\n",
    "\n",
    "# Ignore excessive warnings\n",
    "import logging\n",
    "logging.propagate = False \n",
    "logging.getLogger().setLevel(logging.ERROR)\n",
    "\n",
    "import warnings\n",
    "warnings.filterwarnings('ignore')"
   ]
  },
  {
   "cell_type": "code",
   "execution_count": 3,
   "metadata": {
    "colab": {
     "base_uri": "https://localhost:8080/",
     "height": 126
    },
    "colab_type": "code",
    "id": "LME26NCmM8ne",
    "outputId": "70fadb92-ca06-4952-aa13-baf78a7f8000"
   },
   "outputs": [
    {
     "name": "stdout",
     "output_type": "stream",
     "text": [
      "Go to this URL in a browser: https://accounts.google.com/o/oauth2/auth?client_id=947318989803-6bn6qk8qdgf4n4g3pfee6491hc0brc4i.apps.googleusercontent.com&redirect_uri=urn%3aietf%3awg%3aoauth%3a2.0%3aoob&response_type=code&scope=email%20https%3a%2f%2fwww.googleapis.com%2fauth%2fdocs.test%20https%3a%2f%2fwww.googleapis.com%2fauth%2fdrive%20https%3a%2f%2fwww.googleapis.com%2fauth%2fdrive.photos.readonly%20https%3a%2f%2fwww.googleapis.com%2fauth%2fpeopleapi.readonly\n",
      "\n",
      "Enter your authorization code:\n",
      "··········\n",
      "Mounted at /content/drive\n"
     ]
    }
   ],
   "source": [
    "from google.colab import drive\n",
    "drive.mount('/content/drive')"
   ]
  },
  {
   "cell_type": "code",
   "execution_count": 4,
   "metadata": {
    "colab": {},
    "colab_type": "code",
    "id": "-t7E9fLj8Zjd"
   },
   "outputs": [],
   "source": [
    "#!cp '/root/optimizers.py' '/root/Projects/' # SSH\n",
    "#!cp '/home/jupyter/optimizers.py' '/home/jupyter/Projects/' # for GCP\n",
    "#!cp '/content/drive/My Drive/Colab Notebooks/optimizers.py' .\n",
    "\n",
    "\n",
    "from optimizers import AdaFactor"
   ]
  },
  {
   "cell_type": "code",
   "execution_count": 5,
   "metadata": {
    "colab": {
     "base_uri": "https://localhost:8080/",
     "height": 444
    },
    "colab_type": "code",
    "id": "7rF67H7GnK2U",
    "outputId": "73b7b959-b7c0-46b0-dfab-5d17f41d8b1d"
   },
   "outputs": [
    {
     "name": "stdout",
     "output_type": "stream",
     "text": [
      "Thu Jul 23 12:50:12 2020       \n",
      "+-----------------------------------------------------------------------------+\n",
      "| NVIDIA-SMI 450.51.05    Driver Version: 418.67       CUDA Version: 10.1     |\n",
      "|-------------------------------+----------------------+----------------------+\n",
      "| GPU  Name        Persistence-M| Bus-Id        Disp.A | Volatile Uncorr. ECC |\n",
      "| Fan  Temp  Perf  Pwr:Usage/Cap|         Memory-Usage | GPU-Util  Compute M. |\n",
      "|                               |                      |               MIG M. |\n",
      "|===============================+======================+======================|\n",
      "|   0  Tesla K80           Off  | 00000000:00:04.0 Off |                    0 |\n",
      "| N/A   37C    P8    27W / 149W |     11MiB / 11441MiB |      0%      Default |\n",
      "|                               |                      |                 ERR! |\n",
      "+-------------------------------+----------------------+----------------------+\n",
      "                                                                               \n",
      "+-----------------------------------------------------------------------------+\n",
      "| Processes:                                                                  |\n",
      "|  GPU   GI   CI        PID   Type   Process name                  GPU Memory |\n",
      "|        ID   ID                                                   Usage      |\n",
      "|=============================================================================|\n",
      "|  No running processes found                                                 |\n",
      "+-----------------------------------------------------------------------------+\n",
      "nvcc: NVIDIA (R) Cuda compiler driver\n",
      "Copyright (c) 2005-2019 NVIDIA Corporation\n",
      "Built on Sun_Jul_28_19:07:16_PDT_2019\n",
      "Cuda compilation tools, release 10.1, V10.1.243\n"
     ]
    }
   ],
   "source": [
    "!nvidia-smi\n",
    "!/usr/local/cuda/bin/nvcc --version"
   ]
  },
  {
   "cell_type": "code",
   "execution_count": 5,
   "metadata": {
    "colab": {
     "base_uri": "https://localhost:8080/",
     "height": 35
    },
    "colab_type": "code",
    "id": "1g1xKdoCnMAq",
    "outputId": "eb74740f-11c0-4e87-86c3-ab1bcc3a6255"
   },
   "outputs": [
    {
     "name": "stdout",
     "output_type": "stream",
     "text": [
      "cuda\n"
     ]
    }
   ],
   "source": [
    "#@title To proceed should be cuda { run: \"auto\", vertical-output: true }\n",
    "CUDA = torch.cuda.is_available()\n",
    "device = torch.device(\"cuda\" if CUDA else \"cpu\")\n",
    "print(device)"
   ]
  },
  {
   "cell_type": "code",
   "execution_count": null,
   "metadata": {
    "colab": {},
    "colab_type": "code",
    "id": "Hw0ODwZcZ0uK"
   },
   "outputs": [],
   "source": [
    "##!wandb login fac9119080ca108ca15c420ede645a5e6e79a07c"
   ]
  },
  {
   "cell_type": "markdown",
   "metadata": {
    "colab_type": "text",
    "id": "nfR90Du5Z0uO"
   },
   "source": [
    "### First Log in "
   ]
  },
  {
   "cell_type": "code",
   "execution_count": 6,
   "metadata": {
    "colab": {
     "base_uri": "https://localhost:8080/",
     "height": 230
    },
    "colab_type": "code",
    "id": "mRGBjUHGZ0uO",
    "outputId": "1298d565-7f9d-43eb-9a38-0970efe560aa"
   },
   "outputs": [],
   "source": [
    "os.environ['WANDB_NOTEBOOK_NAME'] = 'Final_Project.ipynb'"
   ]
  },
  {
   "cell_type": "markdown",
   "metadata": {
    "colab_type": "text",
    "id": "1jvIoL5I0Eb5"
   },
   "source": [
    "#### Getting dataset"
   ]
  },
  {
   "cell_type": "markdown",
   "metadata": {
    "colab_type": "text",
    "id": "wGVOHhrk0GOP"
   },
   "source": [
    "You can find the dataset [here](http://lil.nlp.cornell.edu/newsroom/download/index.html)"
   ]
  },
  {
   "cell_type": "markdown",
   "metadata": {
    "colab_type": "text",
    "id": "zkDYkbKV0SUM"
   },
   "source": [
    "**Loading data**"
   ]
  },
  {
   "cell_type": "code",
   "execution_count": null,
   "metadata": {
    "colab": {},
    "colab_type": "code",
    "id": "AoIiFXg1juKC"
   },
   "outputs": [],
   "source": [
    "# fname = '/content/drive/My Drive/Colab Notebooks/newsroom-release.tar'\n",
    "\n",
    "# tar = tarfile.open(fname, \"r:\")\n",
    "# tar.extractall()\n",
    "# tar.close()"
   ]
  },
  {
   "cell_type": "code",
   "execution_count": null,
   "metadata": {
    "colab": {},
    "colab_type": "code",
    "id": "1YuQmBQpP3C7"
   },
   "outputs": [],
   "source": [
    "#!mv '/content/data/' '/content/drive/My Drive/Colab Notebooks'"
   ]
  },
  {
   "cell_type": "code",
   "execution_count": null,
   "metadata": {
    "colab": {},
    "colab_type": "code",
    "id": "GDTflryEPO9G"
   },
   "outputs": [],
   "source": [
    "#!cp -r '/content/release/' '/content/drive/My Drive/Colab Notebooks/data'"
   ]
  },
  {
   "cell_type": "code",
   "execution_count": 4,
   "metadata": {
    "colab": {},
    "colab_type": "code",
    "id": "5Z9YGB5TmYqR"
   },
   "outputs": [],
   "source": [
    "#path = '/home/jupyter/' # GCp\n",
    "path = '/root/release/' # SSH\n",
    "#path = \"/content/drive/My Drive/Colab Notebooks/data/release/\" # Colab\n",
    "\n",
    "def read_data(path, name):\n",
    "  data = []\n",
    "  with gzip.open(path + name + \".jsonl.gz\") as f: #+\".jsonl.gz\" with GCP\n",
    "      for ln in f:\n",
    "          obj = json.loads(ln)\n",
    "          data.append(obj)\n",
    "  return data\n",
    "\n",
    "trainset = read_data(path, 'train') \n",
    "devset = read_data(path, 'dev')\n",
    "#testset = read_data(path, 'test')"
   ]
  },
  {
   "cell_type": "code",
   "execution_count": 5,
   "metadata": {
    "colab": {},
    "colab_type": "code",
    "id": "Gv1SfBCrIaW4"
   },
   "outputs": [],
   "source": [
    "def get_data(data):\n",
    "  data_dict = {'text': [], 'summary': []}\n",
    "  for article in data:\n",
    "    data_dict['text'].append(article['text'])\n",
    "    data_dict['summary'].append(article['summary'])\n",
    "  return pd.DataFrame(data_dict)\n",
    "\n",
    "train_data = get_data(trainset)\n",
    "valid_data = get_data(devset)\n",
    "# test_data = get_data(testset)"
   ]
  },
  {
   "cell_type": "code",
   "execution_count": 9,
   "metadata": {
    "colab": {
     "base_uri": "https://localhost:8080/",
     "height": 194
    },
    "colab_type": "code",
    "id": "k3sSaZA_Z0ul",
    "outputId": "56ff0a7d-bb37-4fc0-88f6-1d37b35dfee6"
   },
   "outputs": [
    {
     "data": {
      "text/html": [
       "<div>\n",
       "<style scoped>\n",
       "    .dataframe tbody tr th:only-of-type {\n",
       "        vertical-align: middle;\n",
       "    }\n",
       "\n",
       "    .dataframe tbody tr th {\n",
       "        vertical-align: top;\n",
       "    }\n",
       "\n",
       "    .dataframe thead th {\n",
       "        text-align: right;\n",
       "    }\n",
       "</style>\n",
       "<table border=\"1\" class=\"dataframe\">\n",
       "  <thead>\n",
       "    <tr style=\"text-align: right;\">\n",
       "      <th></th>\n",
       "      <th>text</th>\n",
       "      <th>summary</th>\n",
       "    </tr>\n",
       "  </thead>\n",
       "  <tbody>\n",
       "    <tr>\n",
       "      <th>0</th>\n",
       "      <td>HAMBURG, Germany, June 3  As he left the socc...</td>\n",
       "      <td>A surge in discriminatory behavior toward blac...</td>\n",
       "    </tr>\n",
       "    <tr>\n",
       "      <th>1</th>\n",
       "      <td>WASHINGTON, Dec. 23 - The National Security Ag...</td>\n",
       "      <td>The volume of information harvested, without \\...</td>\n",
       "    </tr>\n",
       "    <tr>\n",
       "      <th>2</th>\n",
       "      <td>IF outsized executive pay has indeed become a ...</td>\n",
       "      <td>The battle between Pfizer Inc.'s investors and...</td>\n",
       "    </tr>\n",
       "    <tr>\n",
       "      <th>3</th>\n",
       "      <td>BY A.J. BENZA &amp; MICHAEL LEWITTES\\n\\nIf Simon R...</td>\n",
       "      <td>If Simon Rex looks a little familiar, it may n...</td>\n",
       "    </tr>\n",
       "    <tr>\n",
       "      <th>4</th>\n",
       "      <td>Spinach has terrorized generations of veggie-p...</td>\n",
       "      <td>POPEYE-WORTHY PIE. PHYLLO DOUGH WRAPS SPINACH ...</td>\n",
       "    </tr>\n",
       "  </tbody>\n",
       "</table>\n",
       "</div>"
      ],
      "text/plain": [
       "                                                text                                            summary\n",
       "0  HAMBURG, Germany, June 3  As he left the socc...  A surge in discriminatory behavior toward blac...\n",
       "1  WASHINGTON, Dec. 23 - The National Security Ag...  The volume of information harvested, without \\...\n",
       "2  IF outsized executive pay has indeed become a ...  The battle between Pfizer Inc.'s investors and...\n",
       "3  BY A.J. BENZA & MICHAEL LEWITTES\\n\\nIf Simon R...  If Simon Rex looks a little familiar, it may n...\n",
       "4  Spinach has terrorized generations of veggie-p...  POPEYE-WORTHY PIE. PHYLLO DOUGH WRAPS SPINACH ..."
      ]
     },
     "execution_count": 9,
     "metadata": {},
     "output_type": "execute_result"
    }
   ],
   "source": [
    "train_data.head()"
   ]
  },
  {
   "cell_type": "code",
   "execution_count": 10,
   "metadata": {
    "colab": {
     "base_uri": "https://localhost:8080/",
     "height": 35
    },
    "colab_type": "code",
    "id": "eia69USAvek8",
    "outputId": "5de67e80-2788-4f05-ba70-f3e43ca044ed"
   },
   "outputs": [
    {
     "name": "stdout",
     "output_type": "stream",
     "text": [
      "The size of training dataset:(995041, 2) | validation dataset: (108837, 2)\n"
     ]
    }
   ],
   "source": [
    "print(f'The size of training dataset:{train_data.shape} | validation dataset: {valid_data.shape}')"
   ]
  },
  {
   "cell_type": "code",
   "execution_count": 6,
   "metadata": {
    "colab": {},
    "colab_type": "code",
    "id": "JX6clAc9wHuy"
   },
   "outputs": [],
   "source": [
    "contraction = {\"isn't\": \"is not\", \"aren't\": \"are not\",\"can't\": \"cannot\", \"could've\": \"could have\", \"couldn't\": \"could not\",\n",
    "                           \"didn't\": \"did not\", \"doesn't\": \"does not\", \"don't\": \"do not\", \"hadn't\": \"had not\", \"hasn't\": \"has not\", \"haven't\": \"have not\",\n",
    "                           \"he'd\": \"he would\",\"he'll\": \"he will\", \"he's\": \"he is\", \"how'd\": \"how did\", \"how'd'y\": \"how do you\", \"how'll\": \"how will\", \"how's\": \"how is\",\n",
    "                           \"I'd\": \"I would\", \"I'd've\": \"I would have\", \"I'll\": \"I will\", \"I'll've\": \"I will have\",\"I'm\": \"I am\", \"I've\": \"I have\", \"i'd\": \"i would\",\n",
    "                           \"i'd've\": \"i would have\", \"i'll\": \"i will\",  \"i'll've\": \"i will have\",\"i'm\": \"i am\", \"i've\": \"i have\", \"isn't\": \"is not\", \"it'd\": \"it would\",\n",
    "                           \"it'd've\": \"it would have\", \"it'll\": \"it will\", \"it'll've\": \"it will have\",\"it's\": \"it is\", \"let's\": \"let us\", \"ma'am\": \"madam\",\n",
    "                           \"mayn't\": \"may not\", \"might've\": \"might have\",\"mightn't\": \"might not\",\"mightn't've\": \"might not have\", \"must've\": \"must have\",\n",
    "                           \"mustn't\": \"must not\", \"mustn't've\": \"must not have\", \"needn't\": \"need not\", \"needn't've\": \"need not have\",\"o'clock\": \"of the clock\",\n",
    "                           \"oughtn't\": \"ought not\", \"oughtn't've\": \"ought not have\", \"shan't\": \"shall not\", \"sha'n't\": \"shall not\", \"shan't've\": \"shall not have\",\n",
    "                           \"she'd\": \"she would\", \"she'd've\": \"she would have\", \"she'll\": \"she will\", \"she'll've\": \"she will have\", \"she's\": \"she is\",\n",
    "                           \"should've\": \"should have\", \"shouldn't\": \"should not\", \"shouldn't've\": \"should not have\", \"so've\": \"so have\",\"so's\": \"so as\",\n",
    "                           \"this's\": \"this is\",\"that'd\": \"that would\", \"that'd've\": \"that would have\", \"that's\": \"that is\", \"there'd\": \"there would\",\n",
    "                           \"there'd've\": \"there would have\", \"there's\": \"there is\", \"here's\": \"here is\",\"they'd\": \"they would\", \"they'd've\": \"they would have\",\n",
    "                           \"they'll\": \"they will\", \"they'll've\": \"they will have\", \"they're\": \"they are\", \"they've\": \"they have\", \"to've\": \"to have\",\n",
    "                           \"wasn't\": \"was not\", \"we'd\": \"we would\", \"we'd've\": \"we would have\", \"we'll\": \"we will\", \"we'll've\": \"we will have\", \"we're\": \"we are\",\n",
    "                           \"we've\": \"we have\", \"weren't\": \"were not\", \"what'll\": \"what will\", \"what'll've\": \"what will have\", \"what're\": \"what are\",\n",
    "                           \"what's\": \"what is\", \"what've\": \"what have\", \"when's\": \"when is\", \"when've\": \"when have\", \"where'd\": \"where did\", \"where's\": \"where is\",\n",
    "                           \"where've\": \"where have\", \"who'll\": \"who will\", \"who'll've\": \"who will have\", \"who's\": \"who is\", \"who've\": \"who have\",\n",
    "                           \"why's\": \"why is\", \"why've\": \"why have\", \"will've\": \"will have\", \"won't\": \"will not\", \"won't've\": \"will not have\",\n",
    "                           \"would've\": \"would have\", \"wouldn't\": \"would not\", \"wouldn't've\": \"would not have\", \"y'all\": \"you all\",\n",
    "                           \"y'all'd\": \"you all would\",\"y'all'd've\": \"you all would have\",\"y'all're\": \"you all are\",\"y'all've\": \"you all have\",\n",
    "                           \"you'd\": \"you would\", \"you'd've\": \"you would have\", \"you'll\": \"you will\", \"you ll\":\"you will\", \"you'll've\": \"you will have\",\n",
    "                           \"you're\": \"you are\", \"you re\": \"you are\" , \"you've\": \"you have\"}"
   ]
  },
  {
   "cell_type": "markdown",
   "metadata": {
    "colab_type": "text",
    "id": "E38ktgfStkI9"
   },
   "source": [
    "###### Checking for NA"
   ]
  },
  {
   "cell_type": "code",
   "execution_count": 12,
   "metadata": {
    "colab": {
     "base_uri": "https://localhost:8080/",
     "height": 106
    },
    "colab_type": "code",
    "id": "b-NTfClirfL3",
    "outputId": "10a3b951-f509-471f-9549-dae2a8f265d1"
   },
   "outputs": [
    {
     "data": {
      "text/plain": [
       "(text       0\n",
       " summary    0\n",
       " dtype: int64, text       0\n",
       " summary    0\n",
       " dtype: int64)"
      ]
     },
     "execution_count": 12,
     "metadata": {},
     "output_type": "execute_result"
    }
   ],
   "source": [
    "train_data.isna().sum(), valid_data.isna().sum()"
   ]
  },
  {
   "cell_type": "markdown",
   "metadata": {
    "colab_type": "text",
    "id": "0HQ2wJrXEAcr"
   },
   "source": [
    "##### Preprocessing"
   ]
  },
  {
   "cell_type": "code",
   "execution_count": 7,
   "metadata": {
    "colab": {},
    "colab_type": "code",
    "id": "6_qmLtaZp9s0"
   },
   "outputs": [],
   "source": [
    "class TextProccessing(BaseEstimator, TransformerMixin):\n",
    "  def __init__(self, column, contraction):\n",
    "    self.column = column\n",
    "    self.contraction = contraction\n",
    "  def fit(self, x, y=None):\n",
    "    return self\n",
    "  @staticmethod\n",
    "  def preprocessing(line):\n",
    "    date_pattern = r'(0?[1-9]/|1[0-2]/)(0?[1-9]/|[1-2][0-9]/|3[0-1]/)[0-9]{4}'\n",
    "    line = line.split(\"\\n\")\n",
    "    clean_line = []\n",
    "    for l in line:\n",
    "        if re.match(date_pattern, l) is not None:\n",
    "            pass\n",
    "        else:\n",
    "            clean_line.append(l)\n",
    "    line = \"\\n\".join(clean_line)\n",
    "\n",
    "    line = re.sub(r\"http\\S+\", \" \",line)\n",
    "    line = re.sub(r\"www\\S+\", \" \",line)\n",
    "    line = line.replace('—', ' ')\n",
    "    line = line.replace('-', ' ')\n",
    "    line = line.replace('&', 'and')\n",
    "    line = line.replace('[...]', '')\n",
    "    line = line.replace('...', '.')\n",
    "    line = line.replace('…', ' ')\n",
    "    line = re.sub(re.compile('<.*?>'), '', line)\n",
    "    line = re.sub(re.compile('@\\S+'), r'', line)\n",
    "    line = re.sub(r'#\\S+ ', r'', line)\n",
    "    line = line.replace(\"â\", \"'\") \n",
    "    line = line.replace('--', ' ')\n",
    "    line = re.sub(r'[^\\sa-zA-Z0-9.,!?]',' ',line)\n",
    "    line = line.strip()\n",
    "    line = line.replace(\"\\xa0\", \"\")\n",
    "    line = line.replace(\"click to share on twitter\", \"\")\n",
    "\n",
    "    line = re.sub(r'[ \\t]{2,}',' ', line)\n",
    "    return line\n",
    "\n",
    "  def transform(self, X):\n",
    "    #X = X[self.column].replace(self.contraction)\n",
    "    return X[self.column].replace(self.contraction).fillna('').apply(lambda x: self.preprocessing(x)) "
   ]
  },
  {
   "cell_type": "code",
   "execution_count": 8,
   "metadata": {
    "colab": {},
    "colab_type": "code",
    "id": "m-XAtbFVI24a"
   },
   "outputs": [],
   "source": [
    "class Processor:\n",
    "\n",
    "  def __init__(self, data, \n",
    "               contraction,\n",
    "               max_length = None):\n",
    "    \n",
    "    self.max_length = max_length\n",
    "    self.data = data\n",
    "    self.contraction = contraction\n",
    "\n",
    "    \n",
    "  def cleaning(self, data):\n",
    "    if not isinstance(data, pd.DataFrame):\n",
    "      raise TypeError('Only Dataframes are allowed, but got data={}'.format(data))\n",
    "    else:\n",
    "      print('Please wait, we are cleaning...')\n",
    "      titles = ['text', 'summary']\n",
    "      data_dict = {}\n",
    "\n",
    "      for title in titles:\n",
    "        proc = TextProccessing(title, self.contraction)\n",
    "        res = proc.fit_transform(data)\n",
    "        data_dict[title] = res\n",
    "\n",
    "      ss = pd.DataFrame(data_dict)\n",
    "      \n",
    "      return ss\n",
    "\n",
    "  @staticmethod\n",
    "  def split(data):\n",
    "    return len(data.split())\n",
    "\n",
    "  def get_max_tokens(self, dataframe):\n",
    "\n",
    "    dataframe['article_len'] = dataframe['text'].apply(self.split)\n",
    "    dataframe['summary_len'] = dataframe['summary'].apply(self.split)\n",
    "    \n",
    "    max_len = {'max_article_tokens': max(dataframe['article_len']), \n",
    "                'min_article_tokens': min(dataframe['article_len']),\n",
    "                'max_summary_tokens': max(dataframe['summary_len']),\n",
    "                'min_summary_tokens': min(dataframe['summary_len'])}\n",
    "    return max_len, dataframe\n",
    "\n",
    "  def cleaned_data(self):\n",
    "    dataframe = self.cleaning(self.data)\n",
    "    \n",
    "    if self.max_length is None:\n",
    "      min_len, dataframe = self.get_max_tokens(dataframe)\n",
    "    else:\n",
    "      min_len = self.max_length\n",
    "\n",
    "    min_length = min_len['min_article_tokens']\n",
    "    idx_list = []\n",
    "    for idx, paragraph in tqdm(enumerate(dataframe['text'])):\n",
    "        pragraph = len(paragraph.split())\n",
    "        if pragraph < min_length:\n",
    "          idx_list.append(idx)\n",
    "    final_data = dataframe.drop(idx_list)\n",
    "    final_data = final_data.reset_index(drop=True)\n",
    "\n",
    "    max_len, final_data = self.get_max_tokens(final_data)\n",
    "\n",
    "    print('Done!')\n",
    "    \n",
    "    return final_data, max_len"
   ]
  },
  {
   "cell_type": "code",
   "execution_count": 9,
   "metadata": {
    "colab": {},
    "colab_type": "code",
    "id": "bNRiUhXoVkvY"
   },
   "outputs": [],
   "source": [
    "maxlen = {'max_article_tokens': 512,\n",
    "          'max_summary_tokens': 300,\n",
    "          'min_article_tokens': 100,\n",
    "          'min_summary_tokens': 0}"
   ]
  },
  {
   "cell_type": "code",
   "execution_count": 10,
   "metadata": {
    "colab": {
     "base_uri": "https://localhost:8080/",
     "height": 35
    },
    "colab_type": "code",
    "id": "oBiSvEkhz2ol",
    "outputId": "1e7a03cb-5f67-456c-e00c-5cca001aad15"
   },
   "outputs": [
    {
     "name": "stdout",
     "output_type": "stream",
     "text": [
      "Please wait, we are cleaning...\n"
     ]
    },
    {
     "name": "stderr",
     "output_type": "stream",
     "text": [
      "995041it [00:31, 31844.18it/s]\n"
     ]
    },
    {
     "name": "stdout",
     "output_type": "stream",
     "text": [
      "Done!\n"
     ]
    }
   ],
   "source": [
    "textproc = Processor(train_data, contraction, maxlen)\n",
    "train_processed, doc_lengths = textproc.cleaned_data()"
   ]
  },
  {
   "cell_type": "code",
   "execution_count": 12,
   "metadata": {},
   "outputs": [],
   "source": [
    "train_processed.to_pickle(\"./train_processed.pkl\")"
   ]
  },
  {
   "cell_type": "code",
   "execution_count": 7,
   "metadata": {},
   "outputs": [],
   "source": [
    "train_processed = pd.read_pickle(\"./train_processed.pkl\")"
   ]
  },
  {
   "cell_type": "code",
   "execution_count": 13,
   "metadata": {
    "colab": {},
    "colab_type": "code",
    "id": "AeW5BNIkZ0u7"
   },
   "outputs": [
    {
     "name": "stdout",
     "output_type": "stream",
     "text": [
      "Please wait, we are cleaning...\n"
     ]
    },
    {
     "name": "stderr",
     "output_type": "stream",
     "text": [
      "108837it [00:03, 32442.50it/s]\n"
     ]
    },
    {
     "name": "stdout",
     "output_type": "stream",
     "text": [
      "Done!\n"
     ]
    }
   ],
   "source": [
    "textproc = Processor(valid_data, contraction, maxlen)\n",
    "valid_processed, valid_doc_lengths = textproc.cleaned_data()"
   ]
  },
  {
   "cell_type": "code",
   "execution_count": 14,
   "metadata": {},
   "outputs": [],
   "source": [
    "valid_processed.to_pickle(\"./valid_processed.pkl\")"
   ]
  },
  {
   "cell_type": "code",
   "execution_count": 8,
   "metadata": {},
   "outputs": [],
   "source": [
    "valid_processed = pd.read_pickle(\"./valid_processed.pkl\")"
   ]
  },
  {
   "cell_type": "code",
   "execution_count": 9,
   "metadata": {
    "colab": {
     "base_uri": "https://localhost:8080/",
     "height": 210
    },
    "colab_type": "code",
    "id": "MNmq9Mgx_BNx",
    "outputId": "76787690-88a2-49c8-eed6-de45a698b67f"
   },
   "outputs": [
    {
     "name": "stdout",
     "output_type": "stream",
     "text": [
      "<class 'pandas.core.frame.DataFrame'>\n",
      "RangeIndex: 951381 entries, 0 to 951380\n",
      "Data columns (total 4 columns):\n",
      " #   Column       Non-Null Count   Dtype \n",
      "---  ------       --------------   ----- \n",
      " 0   text         951381 non-null  object\n",
      " 1   summary      951381 non-null  object\n",
      " 2   article_len  951381 non-null  int64 \n",
      " 3   summary_len  951381 non-null  int64 \n",
      "dtypes: int64(2), object(2)\n",
      "memory usage: 29.0+ MB\n"
     ]
    }
   ],
   "source": [
    "train_processed.info()"
   ]
  },
  {
   "cell_type": "markdown",
   "metadata": {
    "colab_type": "text",
    "id": "Ko-HBLqNZ0vA"
   },
   "source": [
    "Only one article droped that was having zeros length. However we still have some article with no summaries. Therefore we can get rid off them."
   ]
  },
  {
   "cell_type": "code",
   "execution_count": 28,
   "metadata": {
    "colab": {
     "base_uri": "https://localhost:8080/",
     "height": 87
    },
    "colab_type": "code",
    "id": "ngCA4TwV1YBW",
    "outputId": "35a242e0-e94a-434d-e6ab-2f4dcaf6022d"
   },
   "outputs": [],
   "source": [
    "doc_lengths"
   ]
  },
  {
   "cell_type": "code",
   "execution_count": 9,
   "metadata": {
    "colab": {},
    "colab_type": "code",
    "id": "6jOAe_ZbZ0vD"
   },
   "outputs": [],
   "source": [
    "indices = np.where(train_processed['summary_len'] < 10)\n",
    "train_processed_data = train_processed.drop(indices[0])\n",
    "train_processed_data = train_processed_data.reset_index(drop=True)\n",
    "#train_processed.iloc[indices[0]]"
   ]
  },
  {
   "cell_type": "code",
   "execution_count": 30,
   "metadata": {
    "colab": {},
    "colab_type": "code",
    "id": "Tcp3ytvbZ0vF"
   },
   "outputs": [],
   "source": [
    "#train_data.iloc[954753]['summary'] # '<ul>\\n\\t<li><b>£', 'Ø¨Ø§ Ø§Û\\x8cÙ\\x86 Ø§Ø\\xadØ³Ø§Ø³ Ø¯Ø±Ù\\x85Ø§Ù\\x86Ø¯Ú¯Û\\x8cØ\\x8c Ø¨Ù\\x87 Ù\\x86Ø¸Ø±Øª Ù\\x85Û\\x8câ\\x80\\x8fØ±Ø³Ø¯ Ú©Ù\\x87 ØªØ\\xadØ±Û\\x8cÙ\\x85â\\x80\\x8fÙ\\x87Ø§ Ø¯Ø§Ø±Ù\\x86Ø¯ Ú©Ø§Ø± Ù\\x85Û\\x8câ\\x80\\x8fÚ©Ù\\x86Ù\\x86Ø¯'"
   ]
  },
  {
   "cell_type": "code",
   "execution_count": 32,
   "metadata": {
    "colab": {},
    "colab_type": "code",
    "id": "m3FQWdFDZ0vK",
    "outputId": "25b1562f-26fc-4abb-b594-65e3be8cdd6e"
   },
   "outputs": [
    {
     "name": "stdout",
     "output_type": "stream",
     "text": [
      "<class 'pandas.core.frame.DataFrame'>\n",
      "RangeIndex: 882676 entries, 0 to 882675\n",
      "Data columns (total 4 columns):\n",
      " #   Column       Non-Null Count   Dtype \n",
      "---  ------       --------------   ----- \n",
      " 0   text         882676 non-null  object\n",
      " 1   summary      882676 non-null  object\n",
      " 2   article_len  882676 non-null  int64 \n",
      " 3   summary_len  882676 non-null  int64 \n",
      "dtypes: int64(2), object(2)\n",
      "memory usage: 26.9+ MB\n"
     ]
    }
   ],
   "source": [
    "train_processed_data.info()"
   ]
  },
  {
   "cell_type": "code",
   "execution_count": 33,
   "metadata": {
    "colab": {
     "base_uri": "https://localhost:8080/",
     "height": 158
    },
    "colab_type": "code",
    "id": "x9chLqw-PK9e",
    "outputId": "e2cebd34-52fa-4767-d432-c8b0c9af6d9d"
   },
   "outputs": [
    {
     "data": {
      "text/plain": [
       "0.5000     24.0\n",
       "0.7500     31.0\n",
       "0.9000     44.0\n",
       "0.9500     58.0\n",
       "0.9900    141.0\n",
       "0.9990    343.0\n",
       "0.9999    663.0\n",
       "Name: summary_len, dtype: float64"
      ]
     },
     "execution_count": 33,
     "metadata": {},
     "output_type": "execute_result"
    }
   ],
   "source": [
    "train_processed_data['summary_len'].quantile([0.5, 0.75, 0.9, 0.95, 0.99, 0.999, 0.9999])"
   ]
  },
  {
   "cell_type": "code",
   "execution_count": 34,
   "metadata": {
    "colab": {
     "base_uri": "https://localhost:8080/",
     "height": 158
    },
    "colab_type": "code",
    "id": "hBlW5wqJpmJK",
    "outputId": "7a8991bf-5f84-4e1a-9a00-e071c1ee35e3"
   },
   "outputs": [
    {
     "data": {
      "text/plain": [
       "0.1000      192.000\n",
       "0.2500      322.000\n",
       "0.4000      465.000\n",
       "0.5000      574.000\n",
       "0.7500      890.000\n",
       "0.9000     1237.000\n",
       "0.9500     1575.000\n",
       "0.9900     3206.250\n",
       "0.9990     8660.600\n",
       "0.9999    23091.975\n",
       "Name: article_len, dtype: float64"
      ]
     },
     "execution_count": 34,
     "metadata": {},
     "output_type": "execute_result"
    }
   ],
   "source": [
    "train_processed_data['article_len'].quantile([0.1,0.25,0.4,0.5, 0.75, 0.9, 0.95, 0.99, 0.999, 0.9999])"
   ]
  },
  {
   "cell_type": "code",
   "execution_count": 35,
   "metadata": {
    "colab": {},
    "colab_type": "code",
    "id": "kv13R15mZ0vR",
    "outputId": "65161116-70d3-47cb-891a-6ab9b410c845"
   },
   "outputs": [
    {
     "name": "stdout",
     "output_type": "stream",
     "text": [
      "<class 'pandas.core.frame.DataFrame'>\n",
      "RangeIndex: 104147 entries, 0 to 104146\n",
      "Data columns (total 4 columns):\n",
      " #   Column       Non-Null Count   Dtype \n",
      "---  ------       --------------   ----- \n",
      " 0   text         104147 non-null  object\n",
      " 1   summary      104147 non-null  object\n",
      " 2   article_len  104147 non-null  int64 \n",
      " 3   summary_len  104147 non-null  int64 \n",
      "dtypes: int64(2), object(2)\n",
      "memory usage: 3.2+ MB\n"
     ]
    }
   ],
   "source": [
    "valid_processed.info()"
   ]
  },
  {
   "cell_type": "code",
   "execution_count": 37,
   "metadata": {
    "colab": {},
    "colab_type": "code",
    "id": "iM7EnQ8MZ0vU",
    "outputId": "1864aa06-c476-4154-9182-b01304eeeb7a"
   },
   "outputs": [],
   "source": [
    "valid_doc_lengths"
   ]
  },
  {
   "cell_type": "code",
   "execution_count": 10,
   "metadata": {
    "colab": {},
    "colab_type": "code",
    "id": "lAWgJ8x4Z0vW"
   },
   "outputs": [],
   "source": [
    "inds = np.where(valid_processed['summary_len'] < 10)\n",
    "#valid_processed.iloc[inds[0]]\n",
    "valid_processed_data = valid_processed.drop(inds[0])\n",
    "valid_processed_data = valid_processed_data.reset_index(drop=True)"
   ]
  },
  {
   "cell_type": "code",
   "execution_count": 5,
   "metadata": {
    "colab": {},
    "colab_type": "code",
    "id": "R7yoTzCmZ0vZ",
    "outputId": "5a1ff212-0dbf-403f-8b94-fe2078e9104a"
   },
   "outputs": [
    {
     "name": "stdout",
     "output_type": "stream",
     "text": [
      "<class 'pandas.core.frame.DataFrame'>\n",
      "RangeIndex: 96581 entries, 0 to 96580\n",
      "Data columns (total 4 columns):\n",
      " #   Column       Non-Null Count  Dtype \n",
      "---  ------       --------------  ----- \n",
      " 0   text         96581 non-null  object\n",
      " 1   summary      96581 non-null  object\n",
      " 2   article_len  96581 non-null  int64 \n",
      " 3   summary_len  96581 non-null  int64 \n",
      "dtypes: int64(2), object(2)\n",
      "memory usage: 2.9+ MB\n"
     ]
    }
   ],
   "source": [
    "valid_processed_data.info()"
   ]
  },
  {
   "cell_type": "code",
   "execution_count": 6,
   "metadata": {
    "colab": {},
    "colab_type": "code",
    "id": "3nMUVVJVZ0vc",
    "outputId": "d29ff526-5af4-4521-f8c4-bea7da5bd62d"
   },
   "outputs": [
    {
     "data": {
      "text/plain": [
       "0.5000      571.000\n",
       "0.7500      885.000\n",
       "0.9000     1228.000\n",
       "0.9500     1568.000\n",
       "0.9900     3119.600\n",
       "0.9990     8641.460\n",
       "0.9999    22122.936\n",
       "Name: article_len, dtype: float64"
      ]
     },
     "execution_count": 6,
     "metadata": {},
     "output_type": "execute_result"
    }
   ],
   "source": [
    "valid_processed_data['article_len'].quantile([0.5, 0.75, 0.9, 0.95, 0.99, 0.999, 0.9999])"
   ]
  },
  {
   "cell_type": "code",
   "execution_count": 7,
   "metadata": {
    "colab": {},
    "colab_type": "code",
    "id": "70NxcZwHZ0ve",
    "outputId": "23d8a423-31aa-4394-abdc-9c85a4b93123"
   },
   "outputs": [
    {
     "data": {
      "text/plain": [
       "0.5000     24.000\n",
       "0.7500     31.000\n",
       "0.9000     45.000\n",
       "0.9500     60.000\n",
       "0.9900    146.000\n",
       "0.9990    364.000\n",
       "0.9999    724.234\n",
       "Name: summary_len, dtype: float64"
      ]
     },
     "execution_count": 7,
     "metadata": {},
     "output_type": "execute_result"
    }
   ],
   "source": [
    "valid_processed_data['summary_len'].quantile([0.5, 0.75, 0.9, 0.95, 0.99, 0.999, 0.9999])"
   ]
  },
  {
   "cell_type": "code",
   "execution_count": 11,
   "metadata": {
    "colab": {
     "base_uri": "https://localhost:8080/",
     "height": 34
    },
    "colab_type": "code",
    "id": "bFFt1a_35GZR",
    "outputId": "f0e6781d-9141-4f4b-d915-9c6d5000a5dc"
   },
   "outputs": [
    {
     "name": "stdout",
     "output_type": "stream",
     "text": [
      "art len:512, sum len:150\n"
     ]
    }
   ],
   "source": [
    "art = 512 #int(train_processed_data['article_len'].quantile(0.9900))\n",
    "sum_ = 150# int(train_processed_data['summary_len'].quantile(0.9900))\n",
    "\n",
    "print(f'art len:{art}, sum len:{sum_}')"
   ]
  },
  {
   "cell_type": "code",
   "execution_count": 12,
   "metadata": {
    "colab": {},
    "colab_type": "code",
    "id": "dxo2FbB0Z0vj",
    "outputId": "ea4b1e36-8de2-4621-f5b1-4d61bb65c352"
   },
   "outputs": [
    {
     "name": "stdout",
     "output_type": "stream",
     "text": [
      "art len:512, sum len:150\n"
     ]
    }
   ],
   "source": [
    "artV = 512 #int(valid_processed_data['article_len'].quantile(0.9900))\n",
    "sumV = 150# int(valid_processed_data['summary_len'].quantile(0.9900))\n",
    "\n",
    "print(f'art len:{artV}, sum len:{sumV}')"
   ]
  },
  {
   "cell_type": "markdown",
   "metadata": {
    "colab_type": "text",
    "id": "dtuTFeLttppa"
   },
   "source": [
    "#### Creating Custom Dataset"
   ]
  },
  {
   "cell_type": "code",
   "execution_count": 13,
   "metadata": {
    "colab": {},
    "colab_type": "code",
    "id": "iYEBtk-Ctyy4"
   },
   "outputs": [],
   "source": [
    "class CustomDataReader(Dataset):\n",
    "  \"\"\"\n",
    "  Loading data to be used in pytorch pre-trained models\n",
    "  \n",
    "  \"\"\"\n",
    "  def __init__(self, dataframe, T5tokenizer, max_article_tokens=None,max_summary_tokens=None ):\n",
    "    self.tokenizer = T5tokenizer\n",
    "    self.dataframe = dataframe\n",
    "    self.eos = ' </s>'  #tokenizer.eos_token\n",
    "    self.sos = '<pad> ' #tokenizer.pad_token\n",
    "    self.source_len = max_article_tokens\n",
    "    self.target_len = max_summary_tokens\n",
    "  \n",
    "  def __len__(self):\n",
    "    return len(self.dataframe)\n",
    "\n",
    "  def __getitem__(self, idx):\n",
    "    articles = \"summarize: \" + self.dataframe.text[idx] + self.eos\n",
    "    articles = ' '.join(articles.split())\n",
    "\n",
    "    summary = self.sos + self.dataframe.summary[idx] + self.eos\n",
    "    summary = ' '.join(summary.split())\n",
    "\n",
    "    source_tokenized = self.tokenizer.batch_encode_plus([articles], max_length= self.source_len, pad_to_max_length=True, truncation=True,return_tensors='pt')\n",
    "    target_tokenized = self.tokenizer.batch_encode_plus([summary], max_length= self.target_len, pad_to_max_length=True, truncation=True,return_tensors='pt')\n",
    "\n",
    "    source_ids = source_tokenized['input_ids'].squeeze(0)\n",
    "    source_mask = source_tokenized['attention_mask'].squeeze(0)\n",
    "\n",
    "    summary_ids = target_tokenized['input_ids'].squeeze(0)\n",
    "    summary_mask = target_tokenized['attention_mask'].squeeze(0)\n",
    "\n",
    "    return source_ids, source_mask, summary_ids, summary_mask\n"
   ]
  },
  {
   "cell_type": "code",
   "execution_count": 14,
   "metadata": {},
   "outputs": [],
   "source": [
    "class AverageMeter:\n",
    "    \"\"\"Computes and stores the average and current value\"\"\"\n",
    "    def __init__(self):\n",
    "        self.reset()\n",
    "\n",
    "    def reset(self):\n",
    "        self.val = 0\n",
    "        self.avg = 0\n",
    "        self.sum = 0\n",
    "        self.count = 0\n",
    "\n",
    "    def update(self, val, n=1):\n",
    "        self.val = val\n",
    "        self.sum += val * n\n",
    "        self.count += n\n",
    "        self.avg = self.sum / self.count"
   ]
  },
  {
   "cell_type": "markdown",
   "metadata": {
    "colab_type": "text",
    "id": "mqfiCrePYQIK"
   },
   "source": [
    "#### Training Loop"
   ]
  },
  {
   "cell_type": "code",
   "execution_count": 15,
   "metadata": {
    "colab": {},
    "colab_type": "code",
    "id": "hQwJS66iz0uS"
   },
   "outputs": [],
   "source": [
    "def training(model, dataset_loader, optimizer, log_interval, regularizer, iteration=0):\n",
    "\n",
    "    model.train()\n",
    "    avg_loss = 0\n",
    "    nItem = 0\n",
    "\n",
    "\n",
    "    print(f'Start training for epoch: {iteration}')\n",
    "    losses = AverageMeter()\n",
    "    tqdok = tqdm(dataset_loader, total=len(dataset_loader))\n",
    " \n",
    "    for idx, data_train in enumerate(tqdok):\n",
    "\n",
    "        input_ids, source_mask, summary_ids, summary_mask = data_train\n",
    "\n",
    "        input_ids = input_ids.to(device, dtype = torch.long)\n",
    "        source_mask = source_mask.to(device, dtype = torch.float)\n",
    "        summary_ids = summary_ids.to(device, dtype = torch.long)\n",
    "\n",
    "        target_labels = summary_ids[:, :-1].contiguous()\n",
    "        langm_labels = summary_ids[:, 1:].clone().detach()\n",
    "        langm_labels[summary_ids[:, 1:] == tokenizer.pad_token_id] = -100\n",
    "\n",
    "        optimizer.zero_grad()\n",
    "\n",
    "        output = model(input_ids=input_ids, attention_mask = source_mask, decoder_input_ids=target_labels, lm_labels=langm_labels, lamda=regularizer)\n",
    "\n",
    "        loss = output[0]\n",
    "\n",
    "        loss.backward()\n",
    "        optimizer.step()\n",
    "\n",
    "        bs = input_ids.size(0)\n",
    "        nItem += bs        \n",
    "        \n",
    "#         itr = iteration*(len(dataset_loader.dataset)//bs) + idx\n",
    "#         optimizer.param_groups[0]['eps'] = eps_sched[itr]\n",
    "\n",
    "        avg_loss += loss.item() * bs\n",
    "\n",
    "        if idx%log_interval == 0:\n",
    "                wandb.log({\"Training Loss\": loss.item()})\n",
    "#         if idx % 5000 == 0:\n",
    "#           print(f'[{idx * len(input_ids)}/{len(dataset_loader.dataset)} ({100. * idx / len(dataset_loader):.0f})%] \\t Training loss: {loss:.3f}')\n",
    "        \n",
    "        losses.update(loss.item(), bs)\n",
    "        tqdok.set_postfix(loss=losses.avg)\n",
    "        \n",
    "    avg_loss /= nItem\n",
    "  \n",
    "    return avg_loss, output\n"
   ]
  },
  {
   "cell_type": "code",
   "execution_count": 16,
   "metadata": {
    "colab": {},
    "colab_type": "code",
    "id": "uYQaqTmxRtzQ"
   },
   "outputs": [],
   "source": [
    "def validation(model, dataset_loader, regularizer):\n",
    "    model.eval()\n",
    "\n",
    "    eval_loss = 0\n",
    "    nItem = 0\n",
    "\n",
    "    losses = AverageMeter()\n",
    "    tqdok = tqdm(dataset_loader, total=len(dataset_loader))\n",
    "\n",
    "    with torch.no_grad():\n",
    "        for idx, data_val in enumerate(tqdok):\n",
    "            input_ids, source_mask, summary_ids, summary_mask = data_val\n",
    "\n",
    "            input_ids = input_ids.to(device, dtype = torch.long)\n",
    "            source_mask = source_mask.to(device, dtype = torch.float)\n",
    "            summary_ids = summary_ids.to(device, dtype = torch.long)\n",
    "\n",
    "            target_labels = summary_ids[:, :-1].contiguous()\n",
    "            langm_labels = summary_ids[:, 1:].clone().detach()\n",
    "            langm_labels[summary_ids[:, 1:] == tokenizer.pad_token_id] = -100\n",
    "\n",
    "            output = model(input_ids=input_ids, attention_mask = source_mask, decoder_input_ids=target_labels, lm_labels=langm_labels, lamda=regularizer)\n",
    "\n",
    "            loss = output[0]\n",
    "\n",
    "            bs = input_ids.size(0)\n",
    "            nItem += bs\n",
    "\n",
    "            eval_loss += loss.item()\n",
    "\n",
    "            losses.update(loss.item(), bs)\n",
    "            tqdok.set_postfix(loss=losses.avg)\n",
    "\n",
    "    eval_loss /= nItem\n",
    "\n",
    "    return eval_loss"
   ]
  },
  {
   "cell_type": "code",
   "execution_count": 19,
   "metadata": {
    "colab": {},
    "colab_type": "code",
    "id": "h5ZhapbZawXG"
   },
   "outputs": [],
   "source": [
    "def saving(PATH, epoch, avg_loss, model,pp, LEARNING_RATE):\n",
    "  torch.save({\n",
    "            'epoch': epoch,\n",
    "            'model_state_dict': model.state_dict(),\n",
    "            'train_loss': avg_loss,\n",
    "            'perplexity': pp,\n",
    "            'learning_rate': LEARNING_RATE\n",
    "            }, PATH)"
   ]
  },
  {
   "cell_type": "markdown",
   "metadata": {
    "colab_type": "text",
    "id": "ZsdXt4STdroJ"
   },
   "source": [
    "#### The model evaluation\n",
    "\n",
    "The perplexity:\n",
    "\n",
    "\\begin{align}\n",
    "\\large \\text{ppl}(p, D) &\\large = 2^{-\\frac{1}{N_{total}}\\log_2 p(D)}\n",
    "\\end{align}\n",
    "\n",
    "where $D=\\{(w_1,\\ldots,w_{N_i})_i\\}_{i=1}^M$ is a dataset of $M$ sequences with total length $N_{\\text{total}}=\\sum_{i}N_i$.\n",
    "\n",
    "\n",
    "#### Computing perplexity\n",
    "\n",
    "Our model's loss is the (negative) log probability of every token in the output sequence, which can be used to compute perplexity.\n",
    "\n",
    "We define perplexity using the **base 2** logarithm."
   ]
  },
  {
   "cell_type": "code",
   "execution_count": 17,
   "metadata": {
    "colab": {},
    "colab_type": "code",
    "id": "FarmceVkcm-Y"
   },
   "outputs": [],
   "source": [
    "def get_perplexity(epoc_loss):\n",
    "  rs = epoc_loss/np.log(2)\n",
    "  pp = 2**rs\n",
    "  return pp"
   ]
  },
  {
   "cell_type": "code",
   "execution_count": 18,
   "metadata": {
    "cellView": "both",
    "colab": {},
    "colab_type": "code",
    "id": "eDlcT25-F-sO"
   },
   "outputs": [
    {
     "data": {
      "application/vnd.jupyter.widget-view+json": {
       "model_id": "4e23db23443141329274b600e4b2f558",
       "version_major": 2,
       "version_minor": 0
      },
      "text/plain": [
       "HBox(children=(FloatProgress(value=0.0, description='Downloading', max=1199.0, style=ProgressStyle(description…"
      ]
     },
     "metadata": {},
     "output_type": "display_data"
    },
    {
     "name": "stdout",
     "output_type": "stream",
     "text": [
      "\n"
     ]
    },
    {
     "data": {
      "application/vnd.jupyter.widget-view+json": {
       "model_id": "11947f078112421881e9f8a6e5962f00",
       "version_major": 2,
       "version_minor": 0
      },
      "text/plain": [
       "HBox(children=(FloatProgress(value=0.0, description='Downloading', max=891691430.0, style=ProgressStyle(descri…"
      ]
     },
     "metadata": {},
     "output_type": "display_data"
    },
    {
     "name": "stdout",
     "output_type": "stream",
     "text": [
      "\n"
     ]
    },
    {
     "data": {
      "application/vnd.jupyter.widget-view+json": {
       "model_id": "2b2b17a7a3524262ab03d9522768ce17",
       "version_major": 2,
       "version_minor": 0
      },
      "text/plain": [
       "HBox(children=(FloatProgress(value=0.0, description='Downloading', max=791656.0, style=ProgressStyle(descripti…"
      ]
     },
     "metadata": {},
     "output_type": "display_data"
    },
    {
     "name": "stdout",
     "output_type": "stream",
     "text": [
      "\n"
     ]
    }
   ],
   "source": [
    "#@title #### Loading T5 model and its Tokenizer { run: \"auto\" }\n",
    "\n",
    "LEARNING_RATE = 2.108e-4\n",
    "MODEL_NAME = 't5-base' # or T5-Large:770 params, T5-3B, T5-Base: 220 Params, T5-11B\n",
    "t5model = T5ForConditionalGeneration.from_pretrained(MODEL_NAME)\n",
    "tokenizer = T5Tokenizer.from_pretrained(MODEL_NAME)\n",
    "#optimizer = optim.Adam(model.parameters(), lr=LEARNING_RATE)"
   ]
  },
  {
   "cell_type": "code",
   "execution_count": 19,
   "metadata": {},
   "outputs": [],
   "source": [
    "class GatedFilterLayer(nn.Module):\n",
    "  r\"\"\"\n",
    "  Receives the keys from the encoder output.\n",
    "\n",
    "  Returns:\n",
    "    Output the values between [0,1]\n",
    "   \"\"\"\n",
    "\n",
    "  def __init__(self, hidden_size_model):\n",
    "    super(GatedFilterLayer, self).__init__()\n",
    "\n",
    "    self.hidden_size_model = hidden_size_model\n",
    "    self.projector = nn.Linear(hidden_size_model, 1)\n",
    "\n",
    "    self.init_weights()\n",
    "\n",
    "  def init_weights(self):\n",
    "    initrange = 0.1\n",
    "    self.projector.bias.data.zero_()\n",
    "    self.projector.weight.data.uniform_(-initrange, initrange)\n",
    "\n",
    "  def forward(self, last_hidden_encoder):\n",
    "    proj = self.projector(last_hidden_encoder)\n",
    "    gate = torch.sigmoid(proj)\n",
    "    hidden_encoder = gate * last_hidden_encoder\n",
    "    return hidden_encoder, gate"
   ]
  },
  {
   "cell_type": "code",
   "execution_count": 20,
   "metadata": {},
   "outputs": [],
   "source": [
    "class EncoderModule(nn.Module):\n",
    "\n",
    "  def __init__(self, T5ForGmodel=None, model_name = 't5-base'):\n",
    "    super(EncoderModule, self).__init__()\n",
    "\n",
    "    if T5ForGmodel is None:\n",
    "\n",
    "      MODEL_NAME = model_name \n",
    "      if MODEL_NAME not in ['t5-base','t5-small','t5-large','t5-3b','t5-11b']:\n",
    "        raise NameError('Name {} is not specified in T5 model names'.format(MODEL_NAME))\n",
    "\n",
    "      T5model = T5ForConditionalGeneration.from_pretrained(MODEL_NAME)\n",
    "      self.encoder_model = T5model.encoder\n",
    "      dmodel = T5model.config.d_model\n",
    "    else:\n",
    "      self.encoder_model = T5ForGmodel.encoder\n",
    "      dmodel = T5ForGmodel.config.d_model\n",
    "\n",
    "    self.gatefilter = GatedFilterLayer(dmodel)\n",
    "\n",
    "\n",
    "  def forward(self, input_ids=None, attention_mask=None, inputs_embeds=None, head_mask=None, output_hidden_states=False):\n",
    "    \n",
    "    if input_ids is None and inputs_embeds is None:\n",
    "      raise ValueError(\"You have to specify either input_ids or input_embeds\")\n",
    "    \n",
    "    if self.encoder_model.config.output_hidden_states or output_hidden_states:\n",
    "      encoder_out =  self.encoder_model(input_ids=input_ids, \n",
    "                                      attention_mask=attention_mask,\n",
    "                                      inputs_embeds=inputs_embeds,\n",
    "                                      head_mask=head_mask,\n",
    "                                      output_hidden_states=True)\n",
    "    else:\n",
    "      encoder_out =  self.encoder_model(input_ids=input_ids, \n",
    "                                      attention_mask=attention_mask,\n",
    "                                      inputs_embeds=inputs_embeds,\n",
    "                                      head_mask=head_mask)\n",
    "    lst_enc_hidden = encoder_out[0]\n",
    "    last_hidden_out, gate = self.gatefilter(lst_enc_hidden)\n",
    "\n",
    "    last_hidden_out = (last_hidden_out, ) + encoder_out[1:] + (gate,)\n",
    "\n",
    "    return last_hidden_out"
   ]
  },
  {
   "cell_type": "code",
   "execution_count": 21,
   "metadata": {},
   "outputs": [],
   "source": [
    "class GatedT5ForSummurization(nn.Module):\n",
    "  \n",
    "  \"\"\"\n",
    "  Gated T5 with Language Model\n",
    "  \n",
    "  \"\"\"\n",
    "\n",
    "  def __init__(self,t5model=None, MODEL_NAME='t5-base'):\n",
    "    super(GatedT5ForSummurization, self).__init__()\n",
    "\n",
    "    self.encoder = EncoderModule(T5ForGmodel=t5model, model_name=MODEL_NAME)\n",
    "    \n",
    "    if t5model is None:\n",
    "        self.decoder = T5ForConditionalGeneration.from_pretrained(MODEL_NAME)\n",
    "    else:\n",
    "        self.decoder = t5model\n",
    "\n",
    "  def forward(self,input_ids=None, attention_mask=None,\n",
    "              decoder_input_ids=None,decoder_attention_mask=None,\n",
    "              decoder_past_key_value_states=None,use_cache=True,lm_labels=None,\n",
    "              inputs_embeds=None,decoder_inputs_embeds=None, head_mask=None,\n",
    "              output_hidden_states=False,lamda = 0.0,\n",
    "             ):\n",
    "\n",
    "    encoder_outputs = self.encoder(input_ids=input_ids, \n",
    "                                   attention_mask=attention_mask,\n",
    "                                   inputs_embeds=inputs_embeds, \n",
    "                                   head_mask=head_mask,\n",
    "                                   output_hidden_states=output_hidden_states)\n",
    "\n",
    "    decoder_outputs = self.decoder(\n",
    "            encoder_outputs=encoder_outputs,\n",
    "            decoder_input_ids = decoder_input_ids,\n",
    "            decoder_attention_mask=decoder_attention_mask,\n",
    "            decoder_past_key_value_states = decoder_past_key_value_states,\n",
    "            use_cache=use_cache,\n",
    "            lm_labels = lm_labels,\n",
    "            decoder_inputs_embeds=decoder_inputs_embeds,\n",
    "            head_mask=head_mask)\n",
    "        \n",
    "    # Computing MLE Loss + L1 Norm Reg on LN weight\n",
    "    if lm_labels is not None:\n",
    "\n",
    "      Loss_MLE = decoder_outputs[0]\n",
    "      #weight = self.encoder.gatefilter.projector.weight\n",
    "      gate = encoder_outputs[-1]\n",
    "      Loss_gate = torch.sum(gate.squeeze(-1))/(gate.shape[0]*gate.shape[1]) * lamda\n",
    "      Loss = Loss_MLE + Loss_gate\n",
    "    \n",
    "      decoder_outputs = (Loss,) + decoder_outputs[1:]\n",
    "      \n",
    "    return decoder_outputs\n",
    "\n",
    "  def generate(self,\n",
    "               input_ids = None, max_length = None, min_length = None,do_sample = None,\n",
    "        early_stopping = None,num_beams = None,temperature= None,top_k: Optional[int] = None,\n",
    "        top_p: Optional[float] = None, repetition_penalty = None,bad_words_ids = None,\n",
    "        bos_token_id  = None, pad_token_id  = None,eos_token_id = None,length_penalty= None,\n",
    "        no_repeat_ngram_size = None,num_return_sequences = None,attention_mask = None,\n",
    "        decoder_start_token_id = None,use_cache: Optional[bool] = None):\n",
    "\n",
    "    \"\"\"\n",
    "    All possible inputs receive by the generator\n",
    "    For more details look @ huggingface documentation\n",
    "    \n",
    "        input_ids = None, max_length = None, min_length = None,do_sample = None,\n",
    "        early_stopping = None,num_beams = None,temperature= None,top_k: Optional[int] = None,\n",
    "        top_p: Optional[float] = None, repetition_penalty = None,bad_words_ids = None,\n",
    "        bos_token_id  = None, pad_token_id  = None,eos_token_id = None,length_penalty= None,\n",
    "        no_repeat_ngram_size = None,num_return_sequences = None,attention_mask = None,\n",
    "        decoder_start_token_id = None,use_cache: Optional[bool] = None\n",
    "    \"\"\"\n",
    "\n",
    "    return self.decoder.generate(input_ids = input_ids, max_length = max_length, min_length = min_length,do_sample = do_sample,\n",
    "        early_stopping = early_stopping,num_beams = num_beams,temperature= temperature,top_k = top_k,\n",
    "        top_p = top_p, repetition_penalty = repetition_penalty,bad_words_ids = bad_words_ids,\n",
    "        bos_token_id  = bos_token_id, pad_token_id  = pad_token_id,eos_token_id = eos_token_id,length_penalty= length_penalty,\n",
    "        no_repeat_ngram_size = no_repeat_ngram_size,num_return_sequences = num_return_sequences,attention_mask = attention_mask,\n",
    "        decoder_start_token_id = decoder_start_token_id,use_cache = use_cache\n",
    "    )"
   ]
  },
  {
   "cell_type": "code",
   "execution_count": 22,
   "metadata": {},
   "outputs": [],
   "source": [
    "model = GatedT5ForSummurization(t5model=t5model)\n"
   ]
  },
  {
   "cell_type": "code",
   "execution_count": 47,
   "metadata": {
    "colab": {
     "base_uri": "https://localhost:8080/",
     "height": 35
    },
    "colab_type": "code",
    "id": "Jkp7dIU9-ZO3",
    "outputId": "f18b53f5-38d8-4bc1-c664-98b01f61f546"
   },
   "outputs": [
    {
     "data": {
      "text/plain": [
       "('</s>', '<pad>')"
      ]
     },
     "execution_count": 47,
     "metadata": {},
     "output_type": "execute_result"
    }
   ],
   "source": [
    "eos = tokenizer.eos_token\n",
    "sos = tokenizer.pad_token\n",
    "eos, sos"
   ]
  },
  {
   "cell_type": "code",
   "execution_count": 23,
   "metadata": {
    "colab": {},
    "colab_type": "code",
    "id": "W51Hk0xEz0sH"
   },
   "outputs": [],
   "source": [
    "#@title Train, Validation and Test splits { run: \"auto\" }\n",
    "\n",
    "columns = [\"text\",\"summary\"]\n",
    "\n",
    "X_train = train_processed_data[columns] #X_train.reset_index(drop=True)\n",
    "X_valid = valid_processed_data[columns] #X_val.reset_index(drop=True)"
   ]
  },
  {
   "cell_type": "code",
   "execution_count": 24,
   "metadata": {
    "colab": {
     "base_uri": "https://localhost:8080/",
     "height": 195
    },
    "colab_type": "code",
    "id": "sQeVMTtGz0p7",
    "outputId": "3e428252-9f55-4243-8cd2-a5d6f4c6641d"
   },
   "outputs": [
    {
     "data": {
      "text/html": [
       "<div>\n",
       "<style scoped>\n",
       "    .dataframe tbody tr th:only-of-type {\n",
       "        vertical-align: middle;\n",
       "    }\n",
       "\n",
       "    .dataframe tbody tr th {\n",
       "        vertical-align: top;\n",
       "    }\n",
       "\n",
       "    .dataframe thead th {\n",
       "        text-align: right;\n",
       "    }\n",
       "</style>\n",
       "<table border=\"1\" class=\"dataframe\">\n",
       "  <thead>\n",
       "    <tr style=\"text-align: right;\">\n",
       "      <th></th>\n",
       "      <th>text</th>\n",
       "      <th>summary</th>\n",
       "    </tr>\n",
       "  </thead>\n",
       "  <tbody>\n",
       "    <tr>\n",
       "      <th>0</th>\n",
       "      <td>HAMBURG, Germany, June 3 As he left the soccer...</td>\n",
       "      <td>A surge in discriminatory behavior toward blac...</td>\n",
       "    </tr>\n",
       "    <tr>\n",
       "      <th>1</th>\n",
       "      <td>WASHINGTON, Dec. 23 The National Security Agen...</td>\n",
       "      <td>The volume of information harvested, without \\...</td>\n",
       "    </tr>\n",
       "    <tr>\n",
       "      <th>2</th>\n",
       "      <td>IF outsized executive pay has indeed become a ...</td>\n",
       "      <td>The battle between Pfizer Inc. s investors and...</td>\n",
       "    </tr>\n",
       "    <tr>\n",
       "      <th>3</th>\n",
       "      <td>BY A.J. BENZA and MICHAEL LEWITTES\\n\\nIf Simon...</td>\n",
       "      <td>If Simon Rex looks a little familiar, it may n...</td>\n",
       "    </tr>\n",
       "    <tr>\n",
       "      <th>4</th>\n",
       "      <td>Spinach has terrorized generations of veggie p...</td>\n",
       "      <td>POPEYE WORTHY PIE. PHYLLO DOUGH WRAPS SPINACH ...</td>\n",
       "    </tr>\n",
       "  </tbody>\n",
       "</table>\n",
       "</div>"
      ],
      "text/plain": [
       "                                                text                                            summary\n",
       "0  HAMBURG, Germany, June 3 As he left the soccer...  A surge in discriminatory behavior toward blac...\n",
       "1  WASHINGTON, Dec. 23 The National Security Agen...  The volume of information harvested, without \\...\n",
       "2  IF outsized executive pay has indeed become a ...  The battle between Pfizer Inc. s investors and...\n",
       "3  BY A.J. BENZA and MICHAEL LEWITTES\\n\\nIf Simon...  If Simon Rex looks a little familiar, it may n...\n",
       "4  Spinach has terrorized generations of veggie p...  POPEYE WORTHY PIE. PHYLLO DOUGH WRAPS SPINACH ..."
      ]
     },
     "execution_count": 24,
     "metadata": {},
     "output_type": "execute_result"
    }
   ],
   "source": [
    "X_train.head()"
   ]
  },
  {
   "cell_type": "code",
   "execution_count": 25,
   "metadata": {
    "colab": {},
    "colab_type": "code",
    "id": "n97QsOoCZ0v8"
   },
   "outputs": [],
   "source": [
    "def get_dataloader(X, BATCH_SIZE,valid=None, **kwargs):\n",
    "\n",
    "    if valid == 'valid':\n",
    "        val_params = {\n",
    "            'batch_size': BATCH_SIZE,\n",
    "            'shuffle': False,\n",
    "            'num_workers': 2\n",
    "            }\n",
    "        data_set = CustomDataReader(X, tokenizer,**kwargs)\n",
    "        data_loader = DataLoader(data_set, **val_params)\n",
    "        \n",
    "    else:\n",
    "        data_set = CustomDataReader(X, tokenizer,**kwargs)     \n",
    "        train_params = {\n",
    "            'batch_size': BATCH_SIZE,\n",
    "            'shuffle': True,\n",
    "            'num_workers': 2\n",
    "            }\n",
    "        data_loader = DataLoader(data_set, **train_params)\n",
    "    \n",
    "    return data_loader"
   ]
  },
  {
   "cell_type": "code",
   "execution_count": 44,
   "metadata": {
    "colab": {},
    "colab_type": "code",
    "id": "08lW8ejhmgya"
   },
   "outputs": [],
   "source": [
    "Xtrain_trial = X_train.iloc[:50000]\n",
    "Xvalid_trial = X_valid.iloc[:3600]"
   ]
  },
  {
   "cell_type": "code",
   "execution_count": 26,
   "metadata": {},
   "outputs": [],
   "source": [
    "indices = np.random.permutation(len(X_train))\n",
    "valind = np.random.permutation(len(X_valid))\n",
    "\n",
    "ind = indices[:70000]\n",
    "vind = valind[:5000]\n",
    "\n",
    "Xtrain_trial = X_train.iloc[ind]\n",
    "Xvalid_trial = X_valid.iloc[vind]\n",
    "\n",
    "Xtrain_trial = Xtrain_trial.reset_index(drop=True)\n",
    "Xvalid_trial = Xvalid_trial.reset_index(drop=True)"
   ]
  },
  {
   "cell_type": "code",
   "execution_count": 25,
   "metadata": {
    "colab": {},
    "colab_type": "code",
    "id": "sGaGMwWLzfVE"
   },
   "outputs": [],
   "source": [
    "N_EPOCHS = 2\n",
    "path = '/content/drive/My Drive/Colab Notebooks/best_model.pth'\n",
    "pcle = '/content/drive/My Drive/Colab Notebooks/optimizer_state_dict.pkl'\n",
    "#filename = open(pcle, 'wb')"
   ]
  },
  {
   "cell_type": "code",
   "execution_count": 27,
   "metadata": {
    "colab": {},
    "colab_type": "code",
    "id": "csfO3UdlJtEf"
   },
   "outputs": [],
   "source": [
    "def run(model,\n",
    "        X_train, X_valid, \n",
    "        path=None,filename=None,\n",
    "        lr= LEARNING_RATE):\n",
    "\n",
    "    #best_loss = float('inf')\n",
    "    #best_pp = float('inf')\n",
    "    # WandB – Initialize a new run\n",
    "    \n",
    "    wandb.init(entity=\"jp-ishimwe\", project=\"test-summaries\")\n",
    "    #wandb.init(entity=\"jp-ishimwe\", project=\"document-summarization-test\")\n",
    "    #wandb.init(entity=\"jp-ishimwe\", project=\"document-summarization-using-transformer\")\n",
    "#     wandb.watch_called = False # Re-run the model without restarting the runtime, unnecessary after our next release\n",
    "\n",
    "    # WandB – Config is a variable that holds and saves hyperparameters and inputs\n",
    "    # Defining some key variables that will be used later on in the training  \n",
    "    config = wandb.config          \n",
    "    config.BATCH_SIZE = 6\n",
    "    config.EVAL_BATCH_SIZE = 8\n",
    "    config.N_EPOCHS = 3 \n",
    "    config.LEARNING_RATE = lr\n",
    "    config.SEED = 42               \n",
    "    config.art_maxlen = art\n",
    "    config.summary_maxlen = sum_\n",
    "    config.Valid_art_maxlen = artV\n",
    "    config.Valid_summary_maxlen = sumV\n",
    "    config.log_interval = 500     # how many batches to wait before logging training status\n",
    "    config.reg = 0.1081\n",
    "\n",
    "    random.seed(config.SEED)\n",
    "    np.random.seed(config.SEED)\n",
    "    torch.manual_seed(config.SEED)\n",
    "    torch.backends.cudnn.deterministic = True\n",
    "    \n",
    "    kwargs = {'max_article_tokens': config.art_maxlen,\n",
    "                'max_summary_tokens': config.summary_maxlen\n",
    "             }\n",
    "    \n",
    "    kwargsval = {'max_article_tokens': config.Valid_art_maxlen,\n",
    "                'max_summary_tokens': config.Valid_summary_maxlen\n",
    "             }\n",
    "    \n",
    "    \n",
    "    train_loader = get_dataloader(X_train, config.BATCH_SIZE,valid=None, **kwargs)\n",
    "    val_loader  = get_dataloader(X_valid, config.EVAL_BATCH_SIZE,valid='valid', **kwargsval)\n",
    "    \n",
    "    train_loss = []\n",
    "    val_loss = []\n",
    "    perplexity = []\n",
    "    \n",
    "    model = model.to(device)\n",
    "    optimizer = AdaFactor(model.parameters(), lr=config.LEARNING_RATE)\n",
    "    scheduler = ReduceLROnPlateau(optimizer, factor=0.5, patience=0)\n",
    "    \n",
    "    wandb.watch(model, log=\"all\")\n",
    "    wandb.unwatch(model) \n",
    "\n",
    "#     maxiter = config.N_EPOCHS*(len(train_loader.dataset)//config.BATCH_SIZE)\n",
    "#     eps_sched = 1e-8 + 0.5-0.5*np.cos(np.linspace(0, np.pi, maxiter))\n",
    "\n",
    "    for epoch in range(config.N_EPOCHS):\n",
    "\n",
    "        avg_loss, outputs = training(model, train_loader, optimizer, config.log_interval, regularizer=config.reg, iteration=epoch)\n",
    "        print('\\nValidation start:')\n",
    "        eval_loss = validation(model, val_loader, regularizer=config.reg)\n",
    "\n",
    "        pp = get_perplexity(eval_loss)\n",
    "\n",
    "        perplexity.append(pp)\n",
    "        train_loss.append(avg_loss)\n",
    "        val_loss.append(eval_loss)\n",
    "        scheduler.step(eval_loss)\n",
    "\n",
    "\n",
    "        print(f'Epoch loss: {avg_loss:.4f}')\n",
    "        print(f'Perplexity: {pp:.4f} | Eval loss: {eval_loss:.4f}')\n",
    "        print(\"--------------\")\n",
    "\n",
    "\n",
    "        wandb.log({\n",
    "            \"Training Loss\": avg_loss,\n",
    "            \"Perplexity \": pp,\n",
    "            \"Eval Loss\": eval_loss})\n",
    "\n",
    "\n",
    "        # Save model to wandb\n",
    "#         torch.save(model.state_dict(), os.path.join(wandb.run.dir, 'model0.pt'))\n",
    "        torch.save(model.state_dict(), '/root/Projectsmodel0.pt')\n",
    "\n",
    "\n",
    "    return train_loss, perplexity, val_loss, outputs\n",
    "\n",
    "\n",
    "    #     if pp < best_pp:\n",
    "    #       best_pp = pp\n",
    "    #       saving(path, epoch, avg_loss, model, pp, lr)\n",
    "    #       dill.dump(optimizer, filename)\n",
    "\n",
    "    # Save model for every 3 epochs\n",
    "    # if i%3==0:\n",
    "    #   torch.save(model.state_dict(), path)\n",
    "    #print(f'Best Perplexity: {best_pp}')\n",
    "    #filename.close()"
   ]
  },
  {
   "cell_type": "code",
   "execution_count": 28,
   "metadata": {
    "colab": {
     "base_uri": "https://localhost:8080/",
     "height": 1000,
     "referenced_widgets": [
      "cb47163880b644e99674d508f1407349",
      "e94c000d5060445ca93691f6af42e70c",
      "6e1089fcff4a4ad19de6fc9dfb87c171",
      "c5b5410811de4ab59ff76737f353ce27",
      "2f28dc0b45cc4b30acb85fecdc128397",
      "0551f8a91cb547948703416f5c200c93",
      "e8fbc6f859784253a0cf6fe88cc0d9ca",
      "cd662889ecd24a5fbfbf078039e270a8",
      "ddd0f5a0f838494daf3d0581081c3e86",
      "3856954e8b1e47a08fce9fff7a038027",
      "f842c10d414f41c6846c1dc74200f301",
      "a694fbafc40c41e98fe568668e4db732",
      "8365405f8a1c4d178b5ab5cd9d905e32",
      "4800749f8151430c8cc49570cd4ccaf7",
      "dc75ce283dff4270b9c537d4e057d416",
      "992143ed056d4a23afff16b83c514432",
      "dffe3b78e72e4c309bda155884c2c7a7",
      "00632d7b23cc45f59515669601334fcd",
      "d9fb635e32cd4ed4bcddf6574de80b1b",
      "1523672396354424b0658ce14786fbd2",
      "273de981090749b29ce385706c449722",
      "3353a6712b3a482d8907ca80a0824020",
      "ffc60b07ad704ea2afc0ac2c79c10c11",
      "864cb033af344f22b288a320088ec71c",
      "2d96618428094902b80450d649566a66",
      "c7a670342db348f0b703a95438137574",
      "a33ce8bb19284323a89a317403263c0d",
      "90937a3fdc314010948a13e9e2c70e40",
      "b506bbd1464b407980a6ef55a7819828",
      "a2026ad15de541eebf332cb4ce4e1ad2",
      "a56cd84f576841259aace5b34b0efda7",
      "2004cd6b66034fdda39e09c4ea44b3ce",
      "90f39af76e9846b18c45633dce765584",
      "4a42cbf2455346818c8fb92da5665bca",
      "d2a4e7e937804562a63d0191223c0dd0",
      "02d1d8ffcf3a4873880bb4ec2b7eefbf",
      "d689f347b2e040d186d0353abaa96dd4",
      "17e87d4a9a974aa6828c5ae0f9e0cf3a",
      "1f778937b7484fac8de6530ea10a5470",
      "7a0883324f8b4256adf0e8a54c77524f",
      "53c9e46489fc4d708c7fe856173f3b12",
      "27afa2d568d6441690a6d0ee44e40e1c",
      "0cdd1f83587643f68b9cc4659ba75fb8",
      "2732c77700724db3beb39d1c64469852",
      "598b0d3d4ba64ed48d511ce9dd360f64",
      "9efdf4e9fd8c42598cced165c426f5bf",
      "f1010194505c44b588ba44a39e4afd9f",
      "a504d4571ae54c97a6fb586051f17b07",
      "a633f4726f6a4ba5babb0e0414e6c5e1",
      "007752d9ce5e47f480ae606afeb2cd16",
      "58fa30020dc14801a78967796be9df3e",
      "9712936912b84e498783132d111037bf",
      "89f6bfd52126419ab7c6b6ba00894c24",
      "501fe7de2d29471c9ad3580ba42b274d",
      "9e0d68b268384372ae1ec48b6c363b3a",
      "e595378941654a4dbe560a646dc52272",
      "c56a3c25a1284582bdfb1ad9e02ccb06",
      "888804a45395411cb9db622b0e6878cb",
      "b986d76f127a48669bfaf9c674079d87",
      "e941a8dd61c641c88445eb5497fd2760",
      "6736870c4aa94b20adeed80a00507dce",
      "4d3bd152e2b14612bdec4f9692d48739",
      "63ff13ee95f64beea555e0660be15eec",
      "ce7dc5c992754af5a545aa408ed67c88",
      "430de0fcf9ce45799f8cec7b508a8f7f",
      "99791d40ec534ebc9a7f4b01767f9aad",
      "e2be21b2cc584489b535309b9c8904e3",
      "354fdd4a6e064367be8398d996b63d38",
      "8503f63352114056ace6ee5662d746da",
      "fca884b72b1946cd8403edac7d41924e",
      "3008461ae4e440d081f2f3ac46afa685",
      "22e8567701184b729be80c57098badc4",
      "40ef9fea4c03417db6bdc76b480fb59e",
      "3c42fdea3dcd4f2bbd6ba10777f27db3",
      "8b5212a3ed9f49aea201644e1ed1ac53",
      "a637e9d5dda44c3e9c8c3b9154b1b20d",
      "e7ccb000bd83423fb4693a908c638ddb",
      "4e394e72017442e989642afdc2b8abcb",
      "87a5e794f5ff408ebbf2a740a7560adb",
      "200ba008099045719694899c681c2d16",
      "8b0a112033ab4a3a9a970c6eaaec5531",
      "9acb641a7ede4dd6b68097dbff290ce1",
      "8ef3688940ae4ff4840fc3ca4c231125",
      "f7dd810e69fa4f1f91acaec17fb8c64a",
      "68ba61411c5d4097883b053f06493415",
      "838fc6b6bb704fd897d9145830d7bb9f",
      "268c4187cfc9490bacfa1eafe1fbcca1",
      "940db33506ef463788996553c4bf5f74",
      "fb5c1e7223ac4634a16c161784505836",
      "7475bb3748de434eae59ef85715514da",
      "471a09375e984a31824b27e279a6c4f3",
      "27deb6f565ac4447a44770288071a0b8",
      "7a407d5347104eaa9ce6ec36250715d3",
      "37454b94184a4a10a9affa6e84e74f43",
      "e94b124aaf674431b6e424b9c6c1da87",
      "9a9728af9dcb4e67a1a006297cd7b74c",
      "e7fc29feb6d3404d83c1e455602d5c1b",
      "ddf41c306dc441eb85beb6ea7bfbfedd",
      "2d2b6b3effa34b809c30379c42c3c861",
      "f46251823d4f4d219bffc095047f8867",
      "5605c8c2ad12431b88e1404953ecd6b9",
      "ad0c71bcf6d945098f04025bc52055f9",
      "04619e3db74847f5b637c7d2b1d5b8b8",
      "9d3ae70779e447d0aa495a9872209d38",
      "906c310a405b4822a19d206cf3467f9b",
      "75b200a4d1cb4f1cab2204139ac8fff5",
      "61a4358811654212bd669c1c6c40b4cd",
      "917a8ab6a55b4cd382b1cd1982d5a227",
      "7b8fca08cafe4f7e9ad9f519bb005fd1",
      "2df67220b98547639c10a80ceb63b1ef",
      "58d8bd8caffa47788931111cd5d05409",
      "4778d193b45a4e2ca8871f19b195a26b",
      "267a56c7a2f542e3b24a5f790491a550",
      "dc94b3b543714dd0845fdadca7db22a3",
      "db85fdb064634d80b1904313a3b81ddb",
      "1cbf0dd906ac41e985bd752f526fa2d4",
      "ed804e9c6fae4499aa3e6fef00f5de44",
      "9459d0d307814c34aa8a31945a82adb7",
      "41ceec6b9c214b18891c8ab915d5c19c",
      "6005029df2504711a96df12e14290100"
     ]
    },
    "colab_type": "code",
    "id": "npvqrZ9L_Ufl",
    "outputId": "84bc79d3-9ae7-4882-d791-6c3699ca45fb"
   },
   "outputs": [
    {
     "data": {
      "text/html": [
       "\n",
       "                Logging results to <a href=\"https://wandb.com\" target=\"_blank\">Weights & Biases</a> <a href=\"https://docs.wandb.com/integrations/jupyter.html\" target=\"_blank\">(Documentation)</a>.<br/>\n",
       "                Project page: <a href=\"https://app.wandb.ai/jp-ishimwe/test-summaries\" target=\"_blank\">https://app.wandb.ai/jp-ishimwe/test-summaries</a><br/>\n",
       "                Run page: <a href=\"https://app.wandb.ai/jp-ishimwe/test-summaries/runs/11w5e6pf\" target=\"_blank\">https://app.wandb.ai/jp-ishimwe/test-summaries/runs/11w5e6pf</a><br/>\n",
       "            "
      ],
      "text/plain": [
       "<IPython.core.display.HTML object>"
      ]
     },
     "metadata": {},
     "output_type": "display_data"
    },
    {
     "name": "stderr",
     "output_type": "stream",
     "text": [
      "  0%|          | 0/11667 [00:00<?, ?it/s]"
     ]
    },
    {
     "name": "stdout",
     "output_type": "stream",
     "text": [
      "Start training for epoch: 0\n"
     ]
    },
    {
     "name": "stderr",
     "output_type": "stream",
     "text": [
      "100%|██████████| 11667/11667 [2:15:00<00:00,  1.44it/s, loss=1.71] \n",
      "  0%|          | 0/625 [00:00<?, ?it/s]"
     ]
    },
    {
     "name": "stdout",
     "output_type": "stream",
     "text": [
      "\n",
      "Validation start:\n"
     ]
    },
    {
     "name": "stderr",
     "output_type": "stream",
     "text": [
      "100%|██████████| 625/625 [02:35<00:00,  4.01it/s, loss=1.52]\n"
     ]
    },
    {
     "name": "stdout",
     "output_type": "stream",
     "text": [
      "Epoch loss: 1.71\n",
      "Perplexity: 1.209 | Eval loss: 0.19\n",
      "--------------\n"
     ]
    },
    {
     "name": "stderr",
     "output_type": "stream",
     "text": [
      "  0%|          | 0/11667 [00:00<?, ?it/s]"
     ]
    },
    {
     "name": "stdout",
     "output_type": "stream",
     "text": [
      "Start training for epoch: 1\n"
     ]
    },
    {
     "name": "stderr",
     "output_type": "stream",
     "text": [
      "100%|██████████| 11667/11667 [2:14:30<00:00,  1.45it/s, loss=1.5]  \n",
      "  0%|          | 0/625 [00:00<?, ?it/s]"
     ]
    },
    {
     "name": "stdout",
     "output_type": "stream",
     "text": [
      "\n",
      "Validation start:\n"
     ]
    },
    {
     "name": "stderr",
     "output_type": "stream",
     "text": [
      "100%|██████████| 625/625 [02:35<00:00,  4.01it/s, loss=1.49]\n"
     ]
    },
    {
     "name": "stdout",
     "output_type": "stream",
     "text": [
      "Epoch loss: 1.50\n",
      "Perplexity: 1.205 | Eval loss: 0.19\n",
      "--------------\n"
     ]
    },
    {
     "name": "stderr",
     "output_type": "stream",
     "text": [
      "  0%|          | 0/11667 [00:00<?, ?it/s]"
     ]
    },
    {
     "name": "stdout",
     "output_type": "stream",
     "text": [
      "Start training for epoch: 2\n"
     ]
    },
    {
     "name": "stderr",
     "output_type": "stream",
     "text": [
      "100%|██████████| 11667/11667 [2:14:25<00:00,  1.45it/s, loss=1.37] \n",
      "  0%|          | 0/625 [00:00<?, ?it/s]"
     ]
    },
    {
     "name": "stdout",
     "output_type": "stream",
     "text": [
      "\n",
      "Validation start:\n"
     ]
    },
    {
     "name": "stderr",
     "output_type": "stream",
     "text": [
      "100%|██████████| 625/625 [02:35<00:00,  4.01it/s, loss=1.48]\n"
     ]
    },
    {
     "name": "stdout",
     "output_type": "stream",
     "text": [
      "Epoch loss: 1.37\n",
      "Perplexity: 1.204 | Eval loss: 0.19\n",
      "--------------\n"
     ]
    }
   ],
   "source": [
    "train_loss, perplexity, eval_loss, outputs = run(model, Xtrain_trial, Xvalid_trial,lr= LEARNING_RATE)"
   ]
  },
  {
   "cell_type": "code",
   "execution_count": 34,
   "metadata": {},
   "outputs": [],
   "source": [
    "gates = outputs[-1].squeeze(-1) "
   ]
  },
  {
   "cell_type": "code",
   "execution_count": 35,
   "metadata": {},
   "outputs": [
    {
     "data": {
      "text/plain": [
       "tensor([[0.1661],\n",
       "        [0.2258],\n",
       "        [0.3560],\n",
       "        [0.3269]], device='cuda:0', grad_fn=<MeanBackward1>)"
      ]
     },
     "execution_count": 35,
     "metadata": {},
     "output_type": "execute_result"
    }
   ],
   "source": [
    "gates.mean(dim=1,keepdim=True)"
   ]
  },
  {
   "cell_type": "code",
   "execution_count": 36,
   "metadata": {},
   "outputs": [
    {
     "data": {
      "text/plain": [
       "tensor([[0.5192],\n",
       "        [0.5296],\n",
       "        [0.5251],\n",
       "        [0.5483]], device='cuda:0', grad_fn=<MaxBackward0>)"
      ]
     },
     "execution_count": 36,
     "metadata": {},
     "output_type": "execute_result"
    }
   ],
   "source": [
    "values, _ = gates.max(dim=1,keepdim=True)\n",
    "values"
   ]
  },
  {
   "cell_type": "code",
   "execution_count": 37,
   "metadata": {},
   "outputs": [
    {
     "data": {
      "text/plain": [
       "tensor([[0.0292],\n",
       "        [0.0303],\n",
       "        [0.1157],\n",
       "        [0.0288]], device='cuda:0', grad_fn=<MinBackward0>)"
      ]
     },
     "execution_count": 37,
     "metadata": {},
     "output_type": "execute_result"
    }
   ],
   "source": [
    "vals, _ = gates.min(dim=1,keepdim=True)\n",
    "vals"
   ]
  },
  {
   "cell_type": "code",
   "execution_count": 29,
   "metadata": {
    "colab": {
     "base_uri": "https://localhost:8080/",
     "height": 298
    },
    "colab_type": "code",
    "id": "jmJ94Ryul0vR",
    "outputId": "f5f05284-122e-4f8f-cb3c-176e845c19db"
   },
   "outputs": [
    {
     "data": {
      "image/png": "[encoded data removed]",
      "text/plain": [
       "<Figure size 432x288 with 1 Axes>"
      ]
     },
     "metadata": {
      "needs_background": "light"
     },
     "output_type": "display_data"
    }
   ],
   "source": [
    "import matplotlib.pyplot as plt\n",
    "\n",
    "tr_los = np.array(train_loss)\n",
    "ev_los = np.array(eval_loss)\n",
    "per = np.array(perplexity)\n",
    "\n",
    "plt.plot(tr_los, label='Training loss')\n",
    "plt.plot(ev_los, label='Validation loss')\n",
    "plt.plot(per, label='Perplexity on val data')\n",
    "\n",
    "plt.legend(frameon=False)\n",
    "plt.title('Train loss vs Eval loss and Perplexity')\n",
    "plt.show()"
   ]
  },
  {
   "cell_type": "code",
   "execution_count": 20,
   "metadata": {
    "colab": {},
    "colab_type": "code",
    "id": "jsxZGr_bz0cv"
   },
   "outputs": [],
   "source": [
    "def generator(model, dataset_loader):\n",
    "  \n",
    "  model.eval()\n",
    "\n",
    "  results = {\"generated_summary\": [], \"golden_summary\": []}\n",
    "\n",
    "  with torch.no_grad():\n",
    "\n",
    "    for idx, data_val in enumerate(dataset_loader):\n",
    "      \n",
    "      input_ids, source_mask, summary_ids, summary_mask = data_val \n",
    "      \n",
    "      input_ids = input_ids.to(device, dtype = torch.long)\n",
    "      source_mask = source_mask.to(device, dtype = torch.float)\n",
    "      summary_ids = summary_ids.to(device, dtype = torch.long)\n",
    "\n",
    "      generatation = model.generate(input_ids=input_ids,\n",
    "                                    attention_mask=source_mask, \n",
    "                                    min_length=30, \n",
    "                                    max_length=300, \n",
    "                                    num_beams=1,\n",
    "                                    repetition_penalty=2.5,\n",
    "                                    eos_token_id = model.decoder.config.eos_token_id,               \n",
    "                                    length_penalty=1.0, \n",
    "                                    early_stopping=True\n",
    "                                    )\n",
    "\n",
    "      for gen, sc in zip(generatation, summary_ids): # Taking whole document IDs and docode the summary\n",
    "\n",
    "        gen_tokens_dec = tokenizer.decode(gen, skip_special_tokens=True, clean_up_tokenization_spaces=True)\n",
    "        sc_tokens_dec = tokenizer.decode(sc, skip_special_tokens=True, clean_up_tokenization_spaces=True)\n",
    "\n",
    "        results[\"generated_summary\"].append(gen_tokens_dec)\n",
    "        results[\"golden_summary\"].append(sc_tokens_dec)\n",
    "\n",
    "  return results\n"
   ]
  },
  {
   "cell_type": "markdown",
   "metadata": {
    "colab_type": "text",
    "id": "MwTbUyKag_8R"
   },
   "source": [
    "#### Loading Saved Model"
   ]
  },
  {
   "cell_type": "code",
   "execution_count": null,
   "metadata": {
    "colab": {},
    "colab_type": "code",
    "id": "tTLrSSGio-c-"
   },
   "outputs": [],
   "source": [
    "pretrained = False\n",
    "\n",
    "if pretrained:    \n",
    "\n",
    "    model = .... # first initialize the model and optimizer\n",
    "\n",
    "    #optimizer = ... # optimizer then,\n",
    "    infile = open(pcle,'rb')\n",
    "    optimizer = pickle.load(infile)\n",
    "    infile.close()\n",
    "\n",
    "    checkpoint = torch.load(PATH)\n",
    "    model.load_state_dict(checkpoint['model_state_dict'])\n",
    "    epoch = checkpoint['epoch']\n",
    "    loss = checkpoint['loss']"
   ]
  },
  {
   "cell_type": "code",
   "execution_count": 61,
   "metadata": {},
   "outputs": [
    {
     "name": "stdout",
     "output_type": "stream",
     "text": [
      "Final_Project.ipynb\t     Wheat_rust_classification.ipynb\n",
      "README.md\t\t     model.pt\n",
      "T5_ftransfer_learning.ipynb  valid_processed.pkl\n",
      "Untitled.ipynb\t\t     wandb\n"
     ]
    }
   ],
   "source": [
    "!ls /root/Projects\n"
   ]
  },
  {
   "cell_type": "code",
   "execution_count": 22,
   "metadata": {},
   "outputs": [],
   "source": [
    "model.load_state_dict(torch.load('/root/Projectsmodel0.pt'))\n",
    "model = model.to(device)"
   ]
  },
  {
   "cell_type": "code",
   "execution_count": 23,
   "metadata": {},
   "outputs": [],
   "source": [
    "#model = torch.load('/root/Projects/model.pt')"
   ]
  },
  {
   "cell_type": "code",
   "execution_count": 27,
   "metadata": {},
   "outputs": [],
   "source": [
    "ivind = valind[5000:6000]\n",
    "\n",
    "X_trial = X_valid.iloc[ivind]\n",
    "\n",
    "Xtest_trial = X_trial.reset_index(drop=True)\n",
    "\n",
    "argsval = {'max_article_tokens': 512,\n",
    "                'max_summary_tokens': 150\n",
    "             }\n",
    "    \n",
    "    \n",
    "val_loader  = get_dataloader(Xtest_trial, 5,valid='valid', **argsval)"
   ]
  },
  {
   "cell_type": "code",
   "execution_count": 28,
   "metadata": {},
   "outputs": [
    {
     "name": "stdout",
     "output_type": "stream",
     "text": [
      "CPU times: user 6min, sys: 12 s, total: 6min 12s\n",
      "Wall time: 6min 1s\n"
     ]
    }
   ],
   "source": [
    "%time results = generator(model, val_loader)"
   ]
  },
  {
   "cell_type": "markdown",
   "metadata": {
    "colab_type": "text",
    "id": "kNpZ1c5TBmqD"
   },
   "source": [
    "#### Visualizing examples"
   ]
  },
  {
   "cell_type": "markdown",
   "metadata": {
    "colab_type": "text",
    "id": "GkwqzhhvEXqt"
   },
   "source": [
    "**Example 1**"
   ]
  },
  {
   "cell_type": "code",
   "execution_count": 31,
   "metadata": {},
   "outputs": [
    {
     "data": {
      "application/vnd.google.colaboratory.intrinsic+json": {
       "type": "string"
      },
      "text/plain": [
       "'Image Mashable composite Justin Sullivan Getty Images, Sasha Mordovets Getty Images\\n\\nDonald Trump finally found a running mate just as, shall we say, respected, as himself Vladimir Putin.\\n\\nJust kidding! The duo aren t actually political partners despite having nothing but complimentary words for each other earlier this week but that didn t stop GOP presidential candidate John Kasich from creating a satirical campaign website and press release announcing Putin as Trump s choice for VP.\\n\\nWho cares about the Constitution when you have something as amazing as TRUMP PUTIN 2016?! \\n\\n Trump Putin 2016 December 19, 2015\\n\\nKasich campaign also out with a press release TRUMP NAMES PUTIN AS HIS RUNNING MATE pic.twitter.com R83oMtdg69\\n\\n Zeke Miller December 19, 2015\\n\\nThe biting website boasts the slogan Make tyranny great again parodying Trump s Make America great again phrase.\\n\\nIt also mocks Trump s and Putin s bombastic and controversial views with disclaimers like By signing up you are waiving all constitutional rights, civil liberties, notion of privacy and subjecting yourself to a steady stream of hugely outrageous comments. \\n\\nTrump has yet to respond to the parody but we hope it doesn t give him any ideas.'"
      ]
     },
     "execution_count": 31,
     "metadata": {},
     "output_type": "execute_result"
    }
   ],
   "source": [
    "Xtest_trial.iloc[0,:]['text']"
   ]
  },
  {
   "cell_type": "code",
   "execution_count": 29,
   "metadata": {
    "colab": {
     "base_uri": "https://localhost:8080/",
     "height": 106
    },
    "colab_type": "code",
    "id": "6eQnF1XN_T8r",
    "outputId": "2f75a808-e1ea-44bd-c636-1e1d6a007111"
   },
   "outputs": [
    {
     "name": "stdout",
     "output_type": "stream",
     "text": [
      "Actual summary:\n"
     ]
    },
    {
     "data": {
      "application/vnd.google.colaboratory.intrinsic+json": {
       "type": "string"
      },
      "text/plain": [
       "'GOP presidential candidate John Kasich created a satirical website and press release announcing Vladimir Putin as Trump s VP choice.'"
      ]
     },
     "execution_count": 29,
     "metadata": {},
     "output_type": "execute_result"
    }
   ],
   "source": [
    "print(\"Actual summary:\")\n",
    "results['golden_summary'][0]"
   ]
  },
  {
   "cell_type": "code",
   "execution_count": 30,
   "metadata": {
    "colab": {
     "base_uri": "https://localhost:8080/",
     "height": 177
    },
    "colab_type": "code",
    "id": "PNXoHiQjBjAY",
    "outputId": "ee260cb0-641e-46ce-9a69-bd2ea8441a4f"
   },
   "outputs": [
    {
     "name": "stdout",
     "output_type": "stream",
     "text": [
      "Generated summary:\n"
     ]
    },
    {
     "data": {
      "application/vnd.google.colaboratory.intrinsic+json": {
       "type": "string"
      },
      "text/plain": [
       "'Donald Trump finally found a running partner just as, shall we say respect. Just kidding! The duo arent actually political partners but that didn GOP presidential candidate John Kasich from creating satirical campaign website and press release announcing Putin as his choice for VP'"
      ]
     },
     "execution_count": 30,
     "metadata": {},
     "output_type": "execute_result"
    }
   ],
   "source": [
    "print('Generated summary:')\n",
    "results['generated_summary'][0]"
   ]
  },
  {
   "cell_type": "markdown",
   "metadata": {
    "colab_type": "text",
    "id": "5xU7pMWeEfh8"
   },
   "source": [
    "**Example 2**"
   ]
  },
  {
   "cell_type": "code",
   "execution_count": 32,
   "metadata": {
    "colab": {
     "base_uri": "https://localhost:8080/",
     "height": 159
    },
    "colab_type": "code",
    "id": "g_K3Q-5GB92N",
    "outputId": "3b960f64-d419-41ab-bdf2-df342e9711ef"
   },
   "outputs": [
    {
     "data": {
      "application/vnd.google.colaboratory.intrinsic+json": {
       "type": "string"
      },
      "text/plain": [
       "'PORT AU PRINCE, Haiti Oh, what a party there would have been. Sound trucks with towering speakers. Dancers in eye catching outfits. Three days of rum fueled, dusk to dawn debauchery.\\n\\nLynsey Addario for The New York Times\\n\\nHaitians danced and sang religious songs Sunday in Port au Prince. The quake hit just as Carnival season was gearing up.\\n\\nBut Haiti s Carnival was called off, replaced with an equal period of mourning, and the grand Champ de Mars square on Sunday had none of the boisterous joy that usually breaks out this time of year. Religious leaders shouted out sermons and their followers, packed together tightly, held their arms toward the sky. Some Haitians did take to the streets for some dancing on Sunday. But most of all there was glumness across this crumbled capital.\\n\\n It would have been such a big day, said Ralph Severe, 28, who had been set to dance in the 2010 Carnival parade here. There would have been so much music, so many colors. \\n\\nA reviewing stand, where important people would have watched the spectacle, looked oddly out of place on the Champ de Mars, surrounded by thousands of tents sheltering those who have lost their homes. The only masks on people s faces were surgical ones, to cover up the putrid smell.\\n\\nAlthough many Haitians said they missed Carnival, this troubled country s biggest holiday, there was really no debate about whether it ought to go on so soon after such a devastating natural disaster.\\n\\n The earthquake destroyed my life even though I m living, said Mr. Severe, with similarly traumatized people all around him. I live on the street. I lost everything. Today, I should be dancing but the earthquake ruined everything. \\n\\nIn a flowered dress that she would have worn to Carnival, Guerrier Guilene, 25, agreed. I m sad not because we don t have Carnival, she said. I m sad because I lost eight people of my family. They ll never dance again. \\n\\nFar more than a party, Kanaval, as it is known in Creole, is a respite from another year of difficult living. Political leaders know the importance of this annual national release, and they are well aware that their success and Carnival s success can often be one and the same.\\n\\n Oh my God, Carnival is more important than Christmas here, said Jacqueline Denis, a singer and television executive. It s a moment of joy. Everyone is loose. That s why we have so many babies after Carnival. \\n\\nRaoul Denis Junior, an entertainer who was on the organizing committee for the 2010 Carnival, preferred the Carnivals of his youth, when the crowds were smaller, the decibel level lower and any commercial sponsorship far less obtrusive. It gets worse and worse every year, he said. It s become too aggressive. There s fighting. It s a license for everything. \\n\\nBut it seems to serve a purpose in a place where, for much of the population, there is little to look forward to from one year to the next. It s like mental therapy, said Robert Denis, who performed in Carnival bands decades ago and is married to Jacqueline. It s the only time where there is no rich, no poor, no black, no white, no mulatto. It s a time when everyone is the same. \\n\\nThe Jan. 12 earthquake hit just as Carnival season was gearing up. Two days before, bands began moving through the streets, revealing their new songs. Hours before the ground started shaking, a Carnival planning session was under way in the now flattened National Palace.\\n\\nAnd at the very moment the quake began, Haitian singers were in studios recording their latest hits.\\n\\n Everyone was happy, said Jessy James Mourra, who was in a studio that collapsed, killing his 27 year old cousin, Sabrina Cadet, who was photographing the recording session. Afterward, everyone was sad. \\n\\nThe songs played at Carnival are blared so many times before the actual celebration that every last Haitian seems to know them by heart. They are mischievous songs, full of double entendres, at times raunchy and often political. They poke fun at presidents, lament Haiti s poverty and swing back and forth from trying to inspire and to enrage.\\n\\nNobody could venture a guess as to whether Haiti would be ready to celebrate by this time next year. Levanord Hochaste, 67, who has sold wood carvings right where the bands have passed since the 1970s, usually makes an especially good profit during Carnival season. Sitting glumly, he said, I hope we re ready by then.'"
      ]
     },
     "execution_count": 32,
     "metadata": {},
     "output_type": "execute_result"
    }
   ],
   "source": [
    "Xtest_trial.iloc[1,:]['text']"
   ]
  },
  {
   "cell_type": "code",
   "execution_count": 33,
   "metadata": {
    "colab": {
     "base_uri": "https://localhost:8080/",
     "height": 54
    },
    "colab_type": "code",
    "id": "l_CBGaOSBvmL",
    "outputId": "1b18480c-dc94-4d98-dbd5-fada568312d2"
   },
   "outputs": [
    {
     "name": "stdout",
     "output_type": "stream",
     "text": [
      "Actual summary:\n"
     ]
    },
    {
     "data": {
      "application/vnd.google.colaboratory.intrinsic+json": {
       "type": "string"
      },
      "text/plain": [
       "'Haiti s three day Carnival was called off, replaced with an equal period of mourning in Port au Prince.'"
      ]
     },
     "execution_count": 33,
     "metadata": {},
     "output_type": "execute_result"
    }
   ],
   "source": [
    "print(\"Actual summary:\")\n",
    "results['golden_summary'][1]"
   ]
  },
  {
   "cell_type": "code",
   "execution_count": 34,
   "metadata": {
    "colab": {
     "base_uri": "https://localhost:8080/",
     "height": 212
    },
    "colab_type": "code",
    "id": "ITAC0YvZB0um",
    "outputId": "bff5f8b7-b225-44fa-f28a-91cfa698469d"
   },
   "outputs": [
    {
     "name": "stdout",
     "output_type": "stream",
     "text": [
      "Generated summary:\n"
     ]
    },
    {
     "data": {
      "application/vnd.google.colaboratory.intrinsic+json": {
       "type": "string"
      },
      "text/plain": [
       "'PORT A Prince, Haiti Oh what an annual national celebration after such a devastating natural disaster, there was no debate about whether it ought to go on so soon.'"
      ]
     },
     "execution_count": 34,
     "metadata": {},
     "output_type": "execute_result"
    }
   ],
   "source": [
    "print('Generated summary:')\n",
    "results['generated_summary'][1]"
   ]
  },
  {
   "cell_type": "markdown",
   "metadata": {
    "colab_type": "text",
    "id": "OuLET9kiEkTa"
   },
   "source": [
    "**Example 3**"
   ]
  },
  {
   "cell_type": "code",
   "execution_count": 35,
   "metadata": {
    "colab": {
     "base_uri": "https://localhost:8080/",
     "height": 159
    },
    "colab_type": "code",
    "id": "s6eSs1ZWD_sD",
    "outputId": "f9af3dd9-6e7a-4c32-9aa4-7a024bb8607e"
   },
   "outputs": [
    {
     "data": {
      "application/vnd.google.colaboratory.intrinsic+json": {
       "type": "string"
      },
      "text/plain": [
       "'WASHINGTON As he struggles to sell his nuclear deal with Iran to resistant Republicans and Democrats in Congress, President Obama describes it in the narrowest possible terms, as a limited transaction in which Tehran gives up the bomb and gets sanction relief in return.\\n\\nIn a conference call with liberal groups on Thursday night, he stuck to his talking points The principal danger is if the Iranians get a nuclear weapon, which is exactly what this deal prevents. \\n\\nWhat the president and his aides do not talk about these days for fear of further antagonizing lawmakers on Capitol Hill who have cast Iran as the ultimate enemy of the United States are their grander ambitions for a deal they hope could open up relations with Tehran and be part of a transformation in the Middle East.\\n\\n Over 15 years, things happen in countries, and if you look at Iran today, very educated, used to be very friendly with a lot of nations in the region, including Israel, Secretary of State John Kerry said at the Council on Foreign Relations last week. You know, there s a long history with Persia. And the reality is that those young people, who are 20 percent unemployed, want a future. \\n\\nA guide to help you navigate the talks between global powers and Tehran.\\n\\nAdministration officials say Mr. Kerry is hopeful that once the nuclear accord is solidified, he will be able to begin talking with the Iranians about ending their support for President Bashar al Assad of Syria. Russia and Iran are the two biggest supporters of the regime in Syria, a senior administration official said in an interview. Mr. Obama has already spoken to Russia s president, Vladimir V. Putin, about removing Mr. Assad, the official said.\\n\\n There may be an opportunity with Iran as the deal is implemented to pursue a similar conversation, the official said.\\n\\nIn public, Mr. Obama has played down expectations that the Iran deal could lead to a resolution of the Syrian conflict, saying in a recent White House news conference that Iran was just one of the players in the conflict and that he did not anticipate any time in the near future restored normal diplomatic relations with Iran. \\n\\nBut the official said the administration would be open to talking with Iran about its battles in Iraq against the Islamic State as the United States fights its own parallel war against the terrorist group.\\n\\nMore broadly, Mr. Obama and his top aides see the possibility of a new equilibrium between Sunni and Shiite groups in the region, a potential shift in alliances that worries America s closest Arab allies, like Saudi Arabia.\\n\\nIn a press briefing at the White House on Thursday, Josh Earnest, the press secretary, said of the deal, We re hopeful that it might result in some kind of change emanating from Iran, but we re certainly not counting on it. \\n\\nDespite White House hopes, many experts say it is na ve to expect that Iran, which provides critical military support to Mr. Assad as well as to the militant group Hezbollah in Lebanon, would be receptive to the administration s overtures.\\n\\n I don t see any evidence that Iran is increasingly disposed toward facilitating a negotiated solution to the Syrian crisis, Frederic C. Hof, a former senior State Department official in the Obama administration and now an expert on Syria at the Atlantic Council, told reporters this week. On the contrary, I think Iran and Hezbollah have been engaged in some very intensive consultations centering on the question of just how much of Assad s Syria they will defend. \\n\\nBefore his fight for the deal in Congress, Mr. Obama was far more open about his ultimate goals. In an interview in The Atlantic in March 2014, he said that a nuclear agreement with Iran was a good idea, even if the regime remained unchanged. But an agreement could do far more than that, he said \\n\\n If, on the other hand, they are capable of changing if, in fact, as a consequence of a deal on their nuclear program those voices and trends inside of Iran are strengthened, and their economy becomes more integrated into the international community, and there s more travel and greater openness, even if that takes a decade or 15 years or 20 years, then that s very much an outcome we should desire, he said.\\n\\nHere is a look at what Iran and the United States wanted, and what they got.\\n\\nIn a similar vein, Mr. Obama told The New Yorker, If we were able to get Iran to operate in a responsible fashion not funding terrorist organizations, not trying to stir up sectarian discontent in other countries, and not developing a nuclear weapon you could see an equilibrium developing between Sunni, or predominantly Sunni, gulf states and Iran in which there s competition, perhaps suspicion, but not an active or proxy warfare. \\n\\nAnd in an interview in December, Mr. Obama even seemed to welcome the rise of a powerful Iran. They have a path to break through that isolation and they should seize it, he said. Because if they do, there s incredible talent and resources and sophistication inside of inside of Iran, and it would be a very successful regional power. \\n\\nThe gap between the administration s quiet ambitions for the deal and its recent public pronouncements has much to do with its assessment about how to sell the agreement to Congress into September, when Congress is to vote on the accord.\\n\\n If they sell this as transformative, and in the immediate term Iran takes more reactionary actions, such as locking up more people, then the administration will be setting themselves up for failure, said Karim Sadjadpour of the Carnegie Endowment for International Peace. People will say they re na ve about the regime. \\n\\nAbbas Milani, director of Iranian studies at Stanford University, agreed. He s selling it tactically, whereas much of the wisdom of this deal is strategic, he said. But that s because there s a lot of troubled waters ahead. \\n\\nA senior administration official said that Mr. Obama sees the deal as helping ameliorate the meta conflict in the Middle East caused by sectarianism and the rivalry between Saudi Arabia and Iran.\\n\\n There is definitely a larger picture here, the official said.\\n\\nRobert Satloff, director of the Washington Institute for Near East Policy, said such remarks demonstrate that the nuclear deal is part of a new grand strategy for America in the Middle East that Mr. Satloff believes is worrisome.\\n\\n Because this deal solidifies the current regime s hold in Iran, it doesn t threaten it, Mr. Satloff said.\\n\\nSo while much of the debate over the next two months will be about centrifuges, inspections and whether Iran is actually prevented from getting a nuclear weapon, the administration s larger strategy is likely to get far less attention. But for administration officials, that long term strategic bet is at least as important as the short term nuclear deal, officials said.\\n\\n We believe that a world in which there is a deal with Iran is much more likely to produce an evolution in Iranian behavior than a world in which there is no deal, Benjamin J. Rhodes, the deputy national security adviser, said just before the deal was announced.\\n\\nMichael R. Gordon contributed reporting.'"
      ]
     },
     "execution_count": 35,
     "metadata": {},
     "output_type": "execute_result"
    }
   ],
   "source": [
    "Xtest_trial.iloc[3,:]['text']"
   ]
  },
  {
   "cell_type": "code",
   "execution_count": 36,
   "metadata": {
    "colab": {
     "base_uri": "https://localhost:8080/",
     "height": 142
    },
    "colab_type": "code",
    "id": "QTOwXNrqDUMp",
    "outputId": "22ea1bef-0ee9-41e4-9424-1747acabab9f"
   },
   "outputs": [
    {
     "name": "stdout",
     "output_type": "stream",
     "text": [
      "Actual summary:\n"
     ]
    },
    {
     "data": {
      "application/vnd.google.colaboratory.intrinsic+json": {
       "type": "string"
      },
      "text/plain": [
       "'The Obama administration may have grander ambitions to open up American relations with Tehran and be part of a transformation in the Middle East.'"
      ]
     },
     "execution_count": 36,
     "metadata": {},
     "output_type": "execute_result"
    }
   ],
   "source": [
    "print(\"Actual summary:\")\n",
    "results['golden_summary'][3]"
   ]
  },
  {
   "cell_type": "code",
   "execution_count": 37,
   "metadata": {
    "colab": {
     "base_uri": "https://localhost:8080/",
     "height": 177
    },
    "colab_type": "code",
    "id": "8KPpq-pUDcfe",
    "outputId": "f8042bcb-cf9a-4b20-88c9-df472a921934"
   },
   "outputs": [
    {
     "name": "stdout",
     "output_type": "stream",
     "text": [
      "Generated summary:\n"
     ]
    },
    {
     "data": {
      "application/vnd.google.colaboratory.intrinsic+json": {
       "type": "string"
      },
      "text/plain": [
       "'President Obama describes his nuclear deal with Iran in the narrowest possible terms, as a limited transaction in which Tehran gives up its support for President Bashar al'"
      ]
     },
     "execution_count": 37,
     "metadata": {},
     "output_type": "execute_result"
    }
   ],
   "source": [
    "print('Generated summary:')\n",
    "results['generated_summary'][3]"
   ]
  },
  {
   "cell_type": "markdown",
   "metadata": {
    "colab_type": "text",
    "id": "C0TEEYozZ0wm"
   },
   "source": [
    "**Example 4**"
   ]
  },
  {
   "cell_type": "code",
   "execution_count": 38,
   "metadata": {
    "colab": {},
    "colab_type": "code",
    "id": "J8J_ZRKZZ0wm",
    "outputId": "283a7426-78d2-4302-c7eb-8f435462639d"
   },
   "outputs": [
    {
     "data": {
      "application/vnd.google.colaboratory.intrinsic+json": {
       "type": "string"
      },
      "text/plain": [
       "'Image by AFP Getty Images via \\n\\nMundra Port and Special Economic Zone, India s largest private sector port operator owned by Gautam Adani, the country s sixth richest person net worth 10 billion , won a 2 billion bid to acquire Abbot Point Port in Queensland, Australia on a 99 year lease. Owned by the North Queensland Bulk Ports Corporation, Abbot Point has a deepwater coal terminal capable of handling 50 million tons annually.\\n\\nIn a statement released to the Bombay Stock Exchange where Mundra is listed, Adani said that the deal for Abbot was in keeping with his international aspirations for Mundra. We were in search of the right business opportunity with a strategic fit. \\n\\nThis latest purchase, Adani s second in Australia, ties in with his acquisition last year of a valuable coal mining lease from Linc Energy for 2.7 billion including royalties , also located in the northern part of Queensland.\\n\\nAdani, who has substantial interests in power, has been among those leading the race by Indian power producers to secure coal assets overseas. Apart from the Australian acquisition, he inked a deal last year worth 1.65 billion with Bukit Asam, Indonesia s state owned miner for coal supplies and other infrastructure, including a port.\\n\\nAdani s Mudra, located on India s Western coast in the state of Gujarat, has a capacity of 50 million tons and ambitions to expand it to 200 million tons by 2020 to become the country s largest port.\\n\\nAdani, 48, who started his career as a trader in 1988, has been growing at a scorching pace lately. In 2008, the college dropout debuted on Forbes Billionaires List as Asia s richest newcomer with a net worth of 9.3 billion, following the successful 2007 listing of Mundra. He derives his fortune from a 78 stake in flagship Adani Enterprises which he holds with his family. The stock fell by over 5.4 today to 625 rupees. Shares in Mundra, which is a subsidiary of Adani Enterprises, also declined by 5 to 138.75 rupees.'"
      ]
     },
     "execution_count": 38,
     "metadata": {},
     "output_type": "execute_result"
    }
   ],
   "source": [
    "Xtest_trial.iloc[4,:]['text']"
   ]
  },
  {
   "cell_type": "code",
   "execution_count": 39,
   "metadata": {
    "colab": {},
    "colab_type": "code",
    "id": "NQrei0JEZ0wo",
    "outputId": "1aa75634-2780-49c7-d0c3-0adae8f78971"
   },
   "outputs": [
    {
     "name": "stdout",
     "output_type": "stream",
     "text": [
      "Actual summary:\n"
     ]
    },
    {
     "data": {
      "application/vnd.google.colaboratory.intrinsic+json": {
       "type": "string"
      },
      "text/plain": [
       "'Gautam Adani s Adani Group wins bid for Abbot Point'"
      ]
     },
     "execution_count": 39,
     "metadata": {},
     "output_type": "execute_result"
    }
   ],
   "source": [
    "print(\"Actual summary:\")\n",
    "results['golden_summary'][4]"
   ]
  },
  {
   "cell_type": "code",
   "execution_count": 40,
   "metadata": {
    "colab": {},
    "colab_type": "code",
    "id": "OJIYcxJ4Z0wp",
    "outputId": "04e4d05f-fc82-4171-80ca-3032539cbf25"
   },
   "outputs": [
    {
     "name": "stdout",
     "output_type": "stream",
     "text": [
      "Generated summary:\n"
     ]
    },
    {
     "data": {
      "application/vnd.google.colaboratory.intrinsic+json": {
       "type": "string"
      },
      "text/plain": [
       "'India s largest private sector port operator won 2 billion bid to acquire Abbot Point Port in Queensland, Australia on 99 year lease. Mundra, located on India and Gujarat, has capacity of 50 million tons and ambition is to become country 10'"
      ]
     },
     "execution_count": 40,
     "metadata": {},
     "output_type": "execute_result"
    }
   ],
   "source": [
    "print('Generated summary:')\n",
    "results['generated_summary'][4]"
   ]
  },
  {
   "cell_type": "markdown",
   "metadata": {},
   "source": [
    "**Example 5**"
   ]
  },
  {
   "cell_type": "code",
   "execution_count": 41,
   "metadata": {},
   "outputs": [
    {
     "data": {
      "application/vnd.google.colaboratory.intrinsic+json": {
       "type": "string"
      },
      "text/plain": [
       "'Twelve year old twins who were unconscious when firefighters carried them out of a burning townhouse unit in Gatineau, Que., died in hospital Sunday evening, the mother of the boy and girl told Radio Canada.\\n\\nGabrielle and Jacob Rondeau, both 12, were asleep in their Gatineau, Que., townhome unit when a fire broke out late Saturday night. They died Sunday night in hospital.\\n\\nGabrielle and Jacob Rondeau, both 12, were asleep in their Gatineau, Que., townhome unit when a fire broke out late Saturday night. They died Sunday night in hospital.\\n\\nGabrielle and Jacob Rondeau were asleep on Saturday night when their 17 year old brother left them alone in the townhome on Marengere Road to go get pizza with his girlfriend, he told Radio Canada.\\n\\nDaniel Rondeau said firefighters were battling smoke and flames when he returned around 11 p.m. ET.\\n\\nThe twins were unconscious when they were rescued from their second floor unit.\\n\\nNeighbour Andre Valliquette said the twins had been at his home with his kids earlier in the night. A few hours after they went back to their townhouse, he said he heard the smoke alarm and rushed over to find a small fire on the kitchen stove.\\n\\nTeddy bears and flowers sit on the stoop of the townhouse on Marengere Road in Gatineau where the Rondeaus live. Radio Canada \\n\\n It just blew into a big ball of fire, it just lit up so fast he said. I opened the door, but it was too late. \\n\\nGatineau police said Monday it was an accidental cooking fire and they re trying to determine if a pot of cooking oil was left on one of the stove s heating elements.\\n\\n We want people to make sure that when they are doing a cooking oil fire, they have to stay in front of the stove and make sure they can extinguish the fire, said Eric Lajeunesse, of the Gatineau fire department.\\n\\nNo charges will be laid, police said.\\n\\nMore than 20 people were forced out of the four unit building during the fire.'"
      ]
     },
     "execution_count": 41,
     "metadata": {},
     "output_type": "execute_result"
    }
   ],
   "source": [
    "Xtest_trial.iloc[5,:]['text']"
   ]
  },
  {
   "cell_type": "code",
   "execution_count": 42,
   "metadata": {},
   "outputs": [
    {
     "name": "stdout",
     "output_type": "stream",
     "text": [
      "Actual summary:\n"
     ]
    },
    {
     "data": {
      "application/vnd.google.colaboratory.intrinsic+json": {
       "type": "string"
      },
      "text/plain": [
       "'Twelve year old twins who were unconscious when firefighters carried them out of a burning townhome in Gatineau, Que., died in hospital Sunday evening, the mother of the boy and girl told Radio Canada.'"
      ]
     },
     "execution_count": 42,
     "metadata": {},
     "output_type": "execute_result"
    }
   ],
   "source": [
    "print(\"Actual summary:\")\n",
    "results['golden_summary'][5]"
   ]
  },
  {
   "cell_type": "code",
   "execution_count": 43,
   "metadata": {},
   "outputs": [
    {
     "name": "stdout",
     "output_type": "stream",
     "text": [
      "Generated summary:\n"
     ]
    },
    {
     "data": {
      "application/vnd.google.colaboratory.intrinsic+json": {
       "type": "string"
      },
      "text/plain": [
       "'Twelve year old twins who were unconscious when firefighters carried them out of a burning townhouse unit in Gatineau, Que. died Sunday evening, the mother and father told Radio Canada'"
      ]
     },
     "execution_count": 43,
     "metadata": {},
     "output_type": "execute_result"
    }
   ],
   "source": [
    "print('Generated summary:')\n",
    "results['generated_summary'][5]"
   ]
  },
  {
   "cell_type": "markdown",
   "metadata": {},
   "source": [
    "**Example 6**"
   ]
  },
  {
   "cell_type": "code",
   "execution_count": 44,
   "metadata": {},
   "outputs": [
    {
     "data": {
      "application/vnd.google.colaboratory.intrinsic+json": {
       "type": "string"
      },
      "text/plain": [
       "'It is Syria s misfortune that its torment at the hands of Bashar al Assad and his murderous cronies had to come after the West s ordeals in Iraq and Afghanistan, and in the wake of a global financial crisis that has left accountants in charge of foreign policy. Wearied and broke, we have no appetite for another military adventure.\\n\\nOur impotence in the face of daily horrors from Damascus, Homs, Deraa, Aleppo and countless other places martyred in the savagery of this civil war is obvious to the world. The interventionist idealism Tony Blair mapped out in Chicago more than a decade ago never recovered from its humiliations in Basra and Helmand. Now we are reduced to wringing our hands on the sidelines, incapable even of addressing the war s humanitarian consequences. Images claiming to depict the victims of a chemical attack on civilians by the regime s forces have provoked lamentations of despair and little else. Barack Obama said last year that the use of such weapons was the red line that, once crossed, would change everything. So far, it hasn t.\\n\\nIn Europe, the very word gas plays on our collective memory. We stiffen at its mention, our subconscious prompting our revulsion. As a child, my favourite relative was my mother s uncle. He kept a revolver in his bedside table, and a German bayonet that for years served to dispatch the rabbits in the hutch at the bottom of the garden for Sunday lunch. It now sits on my desk alongside his medals. Another souvenir of Verdun he never got rid of was the effects of the gas.\\n\\nWe knew to keep his inhaler and pills within reach as he tried to convey to us the terror, the suffocating horror and foaming mouths. No one will ever understand, he would say. A century after the trenches, Europe remains conditioned to react differently to a way of killing that is arguably no more grisly than dropping barrels of high explosive from helicopters, or slitting children s throats.\\n\\nIn this conflict, such barbarity is a commonplace. I had an email recently from a young Syrian interpreter I worked with in Lebanon earlier this year, who described his luck at escaping the clutches of Assad s secret police without being tortured. They took all my stuff and then they tied my hands behind my back with my eyes blindfolded, he said. They made me stand facing the wall for a very long time four or five hours maybe . And they started torturing someone behind me, they started whipping him, hitting him, shouting and threatening him that he will be killed in a very painful way if he didn t give them the information they need They used electricity shocks on him. Of course I couldn t see anything, but what I ve heard was enough to destroy me and make me lose any hope I had. Some luck.\\n\\nIf we are to judge by such accounts, and thousands of others, then Syria crossed into the unspeakable long before sarin was allegedly used near Aleppo. Yet it still seemed to matter when Mr Obama laid out his red line last August, stating that the use of such weapons would draw the strongest possible response.\\n\\nA month ago, in a long meeting with Benjamin Netanyahu, the president was presented with Israeli evidence that Syrian forces had done precisely that. He stayed quiet, and talked of responding prudently . This prompted Israel to go public. Since then the CIA has endorsed the conclusions of MI6 and other intelligence agencies that chemical weapons probably were used. Quite how, and by whom, remains a point of argument. Whether Assad himself ordered their deployment, or whether they were being tested in improvised form by a local commander, is unclear.\\n\\nThis debate, though, is academic. The Syrian president has never made a secret of his belief that use of such weapons is legitimate. I know this because he told me so, when I interviewed him for this newspaper early in 2004. It was the height of attempts to bring him in from the cold, although even then there were plenty of clues that he wouldn t play ball I can still see the look on Tony Blair s face at a memorable press conference in Damascus when Assad humiliated him by departing from the script to praise Palestinian suicide bombers as worthy successors to the French Resistance .\\n\\n It is natural for us to look for means to defend ourselves, he told me then, before going on to promise a Blair style big conversation with the Syrian people about democracy. His father s notoriety as the butcher of Hama, where tens of thousands were massacred in 1982, might have taught us to suspect that the son would one day use those weapons to protect himself from his own people and that their conversation would be a civil war of exceptional brutality.\\n\\nThe disaster of Syria is spreading far and wide. Refugees are pouring into surrounding countries, bringing with them misery and instability. Jordan is on the brink of collapse as a state a monarchy whose ethnic base is already outnumbered by Palestinian immigrants finds itself unable to cope with more than a million new arrivals. Lebanon, scarcely stable in any event, is fracturing under the strain of a similar influx, which will soon be equal to a quarter of its population. Iraq s Shia government, terrified that Syria s Sunni insurgents will first seize control of the country, and then link up with their co religionists across the border, is said to be offering discreet help to Assad.\\n\\nAs Syria and its neighbours fall apart as functioning states, it is not hard to imagine a final sectarian reckoning between Shia and Sunni that will make us nostalgic for the easy certainties of the Israeli Palestinian wars. If Iraq at its worst was a magnet for all the hatreds of the region, Syria is a black hole.\\n\\nIn this catastrophe, Britain is a marginal participant at best. The Government has shown no appetite for any kind of involvement. The consequences of austerity mean we do not have the resources to contemplate action, even if the United States were to surprise us by deciding to intervene. At most, we might agree to join special forces missions to secure Assad s chemical weapons. But we cannot afford anything more and even if we could, our experience of well intentioned excursions into Muslim countries has put us off the idea. We are wary, and weary.\\n\\nUnlike Libya, Syria does not lend itself to a few air attacks from the sea, and home in time for tea. The best ministers can do is to lobby Turkey, the only credible power in the region and itself coping with a mass influx of refugees , to coordinate a regional no fly zone with Qatar and Saudi Arabia, in order to ground the MiGs and helicopter gunships that Assad is using to wreak so much destruction. Even then, they will have to get past Russian intransigence, which continues to baffle diplomats. Moscow has been guaranteed the retention of its naval and intelligence bases on the Syrian coast, yet it continues to block any international measures against Assad, and to keep him supplied militarily, even while admitting it has no desire to see him remain in power. Perhaps the thought of those chemical weapons finding their way from a collapsed Syria into the Caucasus and on to his doorstep might make Vladimir Putin amenable to a deal.\\n\\nThe financial crisis has taught us the limits of what we can do at home. Syria reminds us that we are diminished in our ambitions abroad, too. It doesn t matter where we put the red lines the terrible truth is that we are more powerless than we dare to admit.\\n\\nRead more by Benedict Brogan on Telegraph Blogs Follow Telegraph Blogs on Twitter'"
      ]
     },
     "execution_count": 44,
     "metadata": {},
     "output_type": "execute_result"
    }
   ],
   "source": [
    "Xtest_trial.iloc[6,:]['text']"
   ]
  },
  {
   "cell_type": "code",
   "execution_count": 45,
   "metadata": {},
   "outputs": [
    {
     "name": "stdout",
     "output_type": "stream",
     "text": [
      "Actual summary:\n"
     ]
    },
    {
     "data": {
      "application/vnd.google.colaboratory.intrinsic+json": {
       "type": "string"
      },
      "text/plain": [
       "'From Tuesday s Daily Telegraph It is Syria s misfortune that its torment at the hands of Bashar al Assad and his murderous cronies had to come after the West s ordeals in Iraq and Afghanistan, and in the wake of a global financial crisis that has left accountants in charge of foreign policy. Wearied and broke, we have'"
      ]
     },
     "execution_count": 45,
     "metadata": {},
     "output_type": "execute_result"
    }
   ],
   "source": [
    "print(\"Actual summary:\")\n",
    "results['golden_summary'][6]"
   ]
  },
  {
   "cell_type": "code",
   "execution_count": 46,
   "metadata": {},
   "outputs": [
    {
     "name": "stdout",
     "output_type": "stream",
     "text": [
      "Generated summary:\n"
     ]
    },
    {
     "data": {
      "application/vnd.google.colaboratory.intrinsic+json": {
       "type": "string"
      },
      "text/plain": [
       "'It is Syria s misfortune that its torment at the hands of Bashar al Afi and his murderous cronies hadto come after Iraq, Afghanistan and inthe wake.'"
      ]
     },
     "execution_count": 46,
     "metadata": {},
     "output_type": "execute_result"
    }
   ],
   "source": [
    "print('Generated summary:')\n",
    "results['generated_summary'][6]"
   ]
  },
  {
   "cell_type": "markdown",
   "metadata": {},
   "source": [
    "**Example 7**"
   ]
  },
  {
   "cell_type": "code",
   "execution_count": 47,
   "metadata": {},
   "outputs": [
    {
     "data": {
      "application/vnd.google.colaboratory.intrinsic+json": {
       "type": "string"
      },
      "text/plain": [
       "'WILMINGTON, Del. A 16 year old Delaware girl is dead, leaving her family and town devastated.She died after a fight in a high school bathroom, but it s unclear how or why.\\n\\nIn a cellphone video, Amy Joyner is seen on her knees before she was allegedly killed by a group of girls in a bathroom brawl.\\n\\nWilmington police confirm the horrific attack was filmed perhaps by more than one girl. Police say no weapons were used. Joyner was airlifted Thursday to a local hospital, where she died shortly after arriving.\\n\\nAn image taken from a cellphone video shows Amy Joyner, right, being punched during a fight shortly before she died.\\n\\nAuthorities say they have questioned three girls who have now been suspended from school.\\n\\n Now they know they re in very serious trouble and could spend a substantial amount of time in prison, Mayor Dennis Williams told CBS News.\\n\\nWhen asked if he thinks that s what should happen to the teenagers, Williams responded, I m a retired police officer. If the physical evidence shows that they are the perpetrators and a person loses their life, absolutely. \\n\\nThe violence of the attack has shocked Wilmington. At a vigil Friday night, hundreds turned out to remember Joyner. Maya Cofield considered her a close friend.\\n\\n Just love each other, Cofield told CBS News when asked what her message was after Joyner s death, stop trying to fight with each other. \\n\\nSenior Suleida Zayas says students often try to outdo each other by posting violent videos online.\\n\\n Social media plays a big part in a lot of what s going on nowadays, Zayas said. It s cool to record a fight. It s cool to be on social media because of fight, and I think that s where a lot of us mess up. \\n\\nWilliams, the father of three daughters, says parents have to take charge.\\n\\n I had a rebellious one. Oh yeah. But I won the battle by going toe to toe with her, Williams said. Parents need to step it up. \\n\\nA small memorial sits in front of the high school, where classes will resume Monday. The police chief says charges will likely be filed next week after the autopsy report has been completed.\\n\\n 2016 CBS Interactive Inc. All Rights Reserved.'"
      ]
     },
     "execution_count": 47,
     "metadata": {},
     "output_type": "execute_result"
    }
   ],
   "source": [
    "Xtest_trial.iloc[7,:]['text']"
   ]
  },
  {
   "cell_type": "code",
   "execution_count": 48,
   "metadata": {},
   "outputs": [
    {
     "name": "stdout",
     "output_type": "stream",
     "text": [
      "Actual summary:\n"
     ]
    },
    {
     "data": {
      "application/vnd.google.colaboratory.intrinsic+json": {
       "type": "string"
      },
      "text/plain": [
       "'Three girls have been questioned by Delaware police, suspended from school in connection with 16 year old Amy Joyner s death'"
      ]
     },
     "execution_count": 48,
     "metadata": {},
     "output_type": "execute_result"
    }
   ],
   "source": [
    "print(\"Actual summary:\")\n",
    "results['golden_summary'][7]"
   ]
  },
  {
   "cell_type": "code",
   "execution_count": 49,
   "metadata": {},
   "outputs": [
    {
     "name": "stdout",
     "output_type": "stream",
     "text": [
      "Generated summary:\n"
     ]
    },
    {
     "data": {
      "application/vnd.google.colaboratory.intrinsic+json": {
       "type": "string"
      },
      "text/plain": [
       "'A 16 year old Delaware girl is dead, leaving her family and town devastated.She died after a fight in the high school bathroom, but it'"
      ]
     },
     "execution_count": 49,
     "metadata": {},
     "output_type": "execute_result"
    }
   ],
   "source": [
    "print('Generated summary:')\n",
    "results['generated_summary'][7]"
   ]
  },
  {
   "cell_type": "markdown",
   "metadata": {},
   "source": [
    "**Example 8**"
   ]
  },
  {
   "cell_type": "code",
   "execution_count": 50,
   "metadata": {},
   "outputs": [
    {
     "data": {
      "application/vnd.google.colaboratory.intrinsic+json": {
       "type": "string"
      },
      "text/plain": [
       "'When Tyler Atkins heard about the fatal shooting of Michael Brown, 18, an unarmed black teenager in Ferguson, Mo., he posted on Twitter a picture of himself in a tuxedo, with a saxophone around his neck, next to a photograph of himself dressed in a black T shirt with a blue bandanna tied around his head and his finger pointed at the camera.\\n\\nLike hundreds of young African Americans, he placed his pictures under the hashtag protesting Mr. Brown s killing by a police officer and the way young black men are depicted in the news media. He said that Mr. Brown s identity was distorted and filtered through negative stereotypes, and that the same would have been done to him with the bandanna image if he found himself the victim of a similar event.\\n\\nThe first picture was taken after a jazz concert at the High School for the Performing and Visual Arts in Houston, where Mr. Atkins, a senior, studies music. The other was taken during a recording for a rap video he made with friends for a school math project.\\n\\nThe speed with which the shooting of Michael Brown resonated on social media helped propel and transform a local shooting into a national cause, Tanzina Vega reports.\\n\\n Had the media gained ahold of this picture, I feel it would be used to portray that I was in a gang, which is not true at all, Mr. Atkins, 17, wrote in an email.\\n\\nThe speed with which the shooting of Mr. Brown has resonated on social media has helped propel and transform a local shooting into a national cause, as African American commenters draw attention to continued episodes of violence directed at African Americans and the media portrayals of young black men. This affects me deeply because the stories of Mike Brown, Renisha McBride, Trayvon Martin, Sean Bell, Amadou Diallo and many more could have been me, Mr. Atkins wrote, referring to the shooting deaths of blacks, some at the hands of police officers.\\n\\nOn Tuesday, President Obama issued a statement calling the shooting heartbreaking and urging Americans to remember Mr. Brown through reflection and understanding. \\n\\nMr. Obama said, I know the events of the past few days have prompted strong passions, adding, We should comfort each other and talk with one another in a way that heals, not in a way that wounds. \\n\\nBrittney Gault, 28, a student at DePaul University, said the campaign gained popularity because of the strength of black Twitter users collectively known as Black Twitter. \\n\\n They are really a media response team, Ms. Gault said. Everybody is tapped into Black Twitter. \\n\\nAnd the social media chatter and anguish have become part of a complicated sea of viral words and images a picture Tuesday of police officers in combat gear pointing military style rifles at a young black man in jeans and a blue T shirt was one of them that have created a new and charged environment for social activism.\\n\\nAccording to data from the Pew Research Internet Project, 40 percent of African Americans ages 18 to 29 use Twitter, compared with 28 percent of whites of the same age.\\n\\nSince the campaign began, the phrase has been used on Twitter more than 168,000 times. Commenters on Twitter are also hoping to organize a series of vigils called the National Moment of Silence, which is meant to commemorate victims like Mr. Brown. The St. Louis County N.A.A.C.P. urged people on Twitter to use the hashtags and so that your posts can be seen nationally. \\n\\nLocal authorities in Ferguson are less enthusiastic about social media s role, blaming it for inciting looting and violence following after the events. They have the ability to understand where they re all going to be, and they can basically plan where they want to go next, said Jon Belmar, the St. Louis County police chief. So it s a really efficient way to communicate. \\n\\nLocal officials have also declined to release the name of the officer who shot Mr. Brown, citing concerns about the officer s safety because of threats on social media.\\n\\nThe image of Mr. Brown that spurred the campaign on Twitter showed him with the fingers of his right hand extended in what some considered a peace sign, but which others called a gang sign. A spokeswoman for NBC News, one of the outlets that published the photograph online, said it was taken from Mr. Brown s personal Facebook page, where it was his profile picture.\\n\\nCorrected Link Unarmed Missouri teen killed by officer after physical confrontation pic.twitter.com t4CNLdq6C4\\n\\nIn a subsequent article about Mr. Brown s killing, the network used a different photograph of him that showed him wearing headphones and gazing at the camera.\\n\\nFBI launches investigation into fatal police shooting of unarmed Missouri teen Michael Brown pic.twitter.com xdrbTzegBr\\n\\nTosan Tutse Tonwe, 32, a blogger, consultant and co founder of a nonprofit group called Act 4 Accountability, said photographs remove context from a situation, particularly in the wake of negative stereotypes about black men.\\n\\nMr. Tutse Tonwe posted a photograph of himself wearing a T shirt from his group and another with a black male friend who is flashing peace signs. Mr. Tutse Tonwe said he chose to post the photograph with his friend after the image of Mr. Brown making the same hand gesture was circulated.\\n\\n Mike was throwing up a peace sign and people thought it was a gang sign? You ve got to be kidding me, Mr. Tutse Tonwe said. People make these leaps and there s no basis in them and they go unchecked. \\n\\nJeremy Connally, 24, a student studying computer science at University of Texas at Arlington, agreed. They re portrayed as if they deserved it, cop versus robbers, good guys versus bad guys, he said. The Twitter engagement is part of broader efforts to use social media as a tool for education and engagement, particularly among the young. Few things have been more of a spur to passionate campaigns on Twitter and other social media than some of the racially charged killings of young blacks in recent years.\\n\\nLast week, when The Associated Press published a Twitter message announcing that Theodore P. Wafer had been found guilty of second degree murder for killing Ms. McBride, Twitter users reacted swiftly, criticizing the post that described Mr. Wafer as a suburban Detroit homeowner and Ms. McBride as a woman who showed up drunk on porch. \\n\\nIn response, Twitter users posted African American history images, including one featuring a slave ship with the headline, Families board wrong ship, end up in wrong place. \\n\\nYemisi Miller Tonnet, 19, a student at Spelman College in Atlanta, said social media movements should be taken seriously. Hashtag activism is activism, Ms. Miller Tonnet said. We might be tweeting from a couch, but we re also getting up and doing the work that needs to be done. \\n\\nSamantha Storey and Alan Blinder contributed reporting.\\n\\nA version of this article appears in print on August 13, 2014, on page A1 of the New York edition with the headline Shooting Spurs Hashtag Effort on Stereotypes. Order Reprints Today s Paper Subscribe'"
      ]
     },
     "execution_count": 50,
     "metadata": {},
     "output_type": "execute_result"
    }
   ],
   "source": [
    "Xtest_trial.iloc[8,:]['text']"
   ]
  },
  {
   "cell_type": "code",
   "execution_count": 51,
   "metadata": {},
   "outputs": [
    {
     "name": "stdout",
     "output_type": "stream",
     "text": [
      "Actual summary:\n"
     ]
    },
    {
     "data": {
      "application/vnd.google.colaboratory.intrinsic+json": {
       "type": "string"
      },
      "text/plain": [
       "'The police shooting of Michael Brown, a Missouri teenager, has prompted a social media campaign over negative depictions of young black men in the news media.'"
      ]
     },
     "execution_count": 51,
     "metadata": {},
     "output_type": "execute_result"
    }
   ],
   "source": [
    "print(\"Actual summary:\")\n",
    "results['golden_summary'][8]"
   ]
  },
  {
   "cell_type": "code",
   "execution_count": 52,
   "metadata": {},
   "outputs": [
    {
     "name": "stdout",
     "output_type": "stream",
     "text": [
      "Generated summary:\n"
     ]
    },
    {
     "data": {
      "application/vnd.google.colaboratory.intrinsic+json": {
       "type": "string"
      },
      "text/plain": [
       "'When Tyler Atkins heard about the fatal shooting of Michael Brown, 18, an unarmed black teenager in Ferguson. he posted on Twitter a picture of himself wearing tuxedo next to rap video he made with friends for school math project.'"
      ]
     },
     "execution_count": 52,
     "metadata": {},
     "output_type": "execute_result"
    }
   ],
   "source": [
    "print('Generated summary:')\n",
    "results['generated_summary'][8]"
   ]
  },
  {
   "cell_type": "markdown",
   "metadata": {},
   "source": [
    "**Example 9**"
   ]
  },
  {
   "cell_type": "code",
   "execution_count": 53,
   "metadata": {},
   "outputs": [
    {
     "data": {
      "application/vnd.google.colaboratory.intrinsic+json": {
       "type": "string"
      },
      "text/plain": [
       "'NEW YORK A walk along the East River in Brooklyn is like no other stroll along the waterfront. Sure, there are the obligatory benches and paved paths that open up to breathtaking vistas of the Manhattan skyline.\\n\\nBut for 1.3 miles along the river s edge, visitors experience playgrounds, soccer fields, basketball courts, an outdoor roller rink, a pop up swimming pool, cafes, barbecue pits, beaches, and performance spaces. And just when you think it can t get any better, you spy a hand painted carousel that spins under the Brooklyn Bridge.\\n\\nNow this is how you develop a waterfront.\\n\\nBrooklyn Bridge Park is a six year old public space that Jim Canales, president of the Barr Foundation in Boston, has hailed as a model. Turns out a bunch of Bostonians who are shaping our own harbor s edge have also checked out the 85 acre park.\\n\\nAfter visiting the space last week, I couldn t help but think about our own Seaport District, with its ho hum towers, and ask Did we just blow it?\\n\\nNew Yorkers made a decision long ago that this part of Brooklyn would not go to the highest bidder but be set aside as a waterfront for all. Not just passive patches of grass, but spaces teeming with recreation. Initiated as a joint city state project, the 400 million park is built on old Port Authority land and is operated and maintained by a not for profit owned by the city of New York.\\n\\nBoston s leaders made a different decision. They left it up to the private sector to drive development and offer public amenities such as parks, walkways, and cultural space.\\n\\nThe result The Seaport District may be one of the hottest real estate markets in the country, but it is also one of the most soulless parts of our city. Instead of another Esplanade, we got another Financial District.\\n\\nAs if sensing another inferiority complex in the making, Boston Redevelopment Authority waterfront planner Rich McGuinness, who has visited the Brooklyn park, tried to assure me We didn t blow it. \\n\\nMcGuinness explained that when Boston started planning the Seaport District in earnest back in the 1980s, the city was losing population, and developers weren t lining up to build here. To make the South Boston Waterfront desirable, billions of dollars of public investment went into the area the Big Dig, the Moakley Courthouse, the convention center, the Silver Line. The intention all along was to get a return on our investment, even if it meant public spaces would feel like an afterthought.\\n\\nMy takeaway Fuggedaboutit. We ll never get a grand waterfront park in the Seaport.\\n\\n It would have been a lot easier to do it 10 years ago, acknowledged Tom Glynn, who runs the Massachusetts Port Authority and toured the Brooklyn park with McGuinness last year.\\n\\nNeither man is giving up hope that elements of Brooklyn Bridge Park can happen here. Boston s waterfront is a lot smaller than New York s, but as parks get built or are redone, both see a trend toward more engaging experiences.\\n\\nAlready, the A Street park by State Street s building along Fort Point Channel includes a basketball court, a playground, and a dog park.\\n\\nJennifer Taylor for The Boston Globe\\n\\nPeople walk and jog along the waterfront in Brooklyn Bridge Park in New York City.\\n\\nIn East Boston, the newly renovated LoPresti Park features an artificial turf soccer field and basketball courts with postcard views of the North End and downtown Boston.\\n\\nGlynn and McGuinness also think that Eastie may be our best shot at creating an imaginative public space on the water, where development is not yet fully formed.\\n\\nCity Councilor Sal LaMattina thinks so, too, and during his own pilgrimage to Brooklyn Bridge Park last year he focused on how its ferry system could be vital to creating a vibrant waterfront.\\n\\n We don t want every developer to do the same community benefit, said LaMattina, who lives in East Boston but also represents Charlestown and the North End. He points to one developer in East Boston who wants to provide water transportation to Charlestown, while another might build a kayak launch.\\n\\nMassport, a major waterfront landowner, also plays a role. The authority owns four acres of empty waterfront land in East Boston that is designated for public use the so called second phase of Piers Park.\\n\\nWhat s up in the air is who will pay for the next phase.\\n\\nMcGuinness also sees opportunity for more open space as the city deals with climate change. Boston may need to fill in some shoreline as a buffer to rising sea levels.\\n\\n We can create land, he said. Those are some of the fun things we are looking at. \\n\\nFeeling a little better about the future of our waterfront, I circled back to Canales, of the Barr Foundation. He was the one who holds up the Brooklyn park as aspirational after the foundation pledged last month to get involved in shaping the waterfront.\\n\\n There is an opportunity here, and we have multiple actors who can come together and make something exciting, Canales said.\\n\\nHis favorite part of the Brooklyn park also happens to be mine the sense that everyone belongs there, from locals to tourists, whether rich or poor, the kind of place where a construction worker would feel as comfortable as a Wall Street banker.\\n\\nRegina Myer, the president of Brooklyn Bridge Park, summed up best the park s most compelling attribute It s a place that s deeply democratic. \\n\\nWe don t have enough of those types of spaces in Boston, especially along the downtown harborfront. We may have lost our opportunity to create something on the scale of a Brooklyn Bridge Park, but we shouldn t give up pushing developers and government to reimagine public use on the harbor.\\n\\nIn other words, we still have time to make it right.\\n\\nJennifer Taylor for The Boston Globe\\n\\nA family enjoyed a barbecue at Brooklyn Bridge Park in New York City.'"
      ]
     },
     "execution_count": 53,
     "metadata": {},
     "output_type": "execute_result"
    }
   ],
   "source": [
    "Xtest_trial.iloc[9,:]['text']"
   ]
  },
  {
   "cell_type": "code",
   "execution_count": 54,
   "metadata": {},
   "outputs": [
    {
     "name": "stdout",
     "output_type": "stream",
     "text": [
      "Actual summary:\n"
     ]
    },
    {
     "data": {
      "application/vnd.google.colaboratory.intrinsic+json": {
       "type": "string"
      },
      "text/plain": [
       "'It s not too late for us to improve our waterfront. Brooklyn Bridge Park is a model for success.'"
      ]
     },
     "execution_count": 54,
     "metadata": {},
     "output_type": "execute_result"
    }
   ],
   "source": [
    "print(\"Actual summary:\")\n",
    "results['golden_summary'][9]"
   ]
  },
  {
   "cell_type": "code",
   "execution_count": 55,
   "metadata": {},
   "outputs": [
    {
     "name": "stdout",
     "output_type": "stream",
     "text": [
      "Generated summary:\n"
     ]
    },
    {
     "data": {
      "application/vnd.google.colaboratory.intrinsic+json": {
       "type": "string"
      },
      "text/plain": [
       "'A walk along the East River in Brooklyn is like no other stroll along a waterfront. But for 1.3 miles along its edge, visitors experience playgrounds, soccer fields and basketball courts'"
      ]
     },
     "execution_count": 55,
     "metadata": {},
     "output_type": "execute_result"
    }
   ],
   "source": [
    "print('Generated summary:')\n",
    "results['generated_summary'][9]"
   ]
  },
  {
   "cell_type": "markdown",
   "metadata": {},
   "source": [
    "**Example 10**"
   ]
  },
  {
   "cell_type": "code",
   "execution_count": 56,
   "metadata": {},
   "outputs": [
    {
     "data": {
      "application/vnd.google.colaboratory.intrinsic+json": {
       "type": "string"
      },
      "text/plain": [
       "'The Carolina Panthers are 13 0 and closing in on the fifth perfect regular season in N.F.L. history, with quarterback Cam Newton making a strong case for the Most Valuable Player Award.\\n\\nThe Giants are 6 7, have a habit of throwing games away late and are alive in the playoff chase only because they are lucky enough to play in the pitiful N.F.C. East.\\n\\nSo Sunday s game between the teams might seem like a mismatch. What would one expect the opening betting line on the game to be? Ten points? Fourteen? More?\\n\\nThe head scratchingly low number may have caused some fans to grab their wallets and rush to the nearest legal or illegal bookmaker. But before you take out a second mortgage, it is worth considering why the line is as low as it is.\\n\\n The Giants are hosting the game, which is generally considered to be worth about 3 points. By extension, a neutral site game between the teams might have a line of 7 and a game in Carolina a line of 10, both of which feel more right.\\n\\n The Panthers are less impressive than one might expect a perfect team to be, with a schedule significantly easier than most of this season s other elite teams . The Panthers had a good win over Green Bay and beat Seattle on the road when that team was struggling, but otherwise they have mostly been playing noncontenders.\\n\\nHow can my team make the N.F.L. playoffs? It s a simple question, but answering it can be devilishly complicated. This interactive simulator walks you through the scenarios.\\n\\nEarly in the season, the Panthers played a number of close games that perhaps could have gone the other way, and seven of their wins have been by single digits. Oddsmakers much prefer to see blowouts that clearly establish a superior team. Carolina s three biggest wins of the season came in the last four weeks, so this trend may be changing. \\n\\nThe website Inpredictable, which analyzes Las Vegas lines, says bookmakers currently rank Carolina as only the third best team in football.\\n\\n In contrast, the Giants may be better than their record appears. Six of their seven losses have been by 6 points or fewer. Losing games in the last seconds may drive fans crazy, but it is looked on much more favorably by oddsmakers, who see it as a sign the team was competitive. The Giants 1 point loss to the New England Patriots last month was as impressive as many of the Panthers victories.\\n\\n Motivation is a trickier category. Both teams would seem to be eager to win the Giants to keep their playoff hopes alive and the Panthers to make history. But late in the season, teams fighting for a playoff berth have tended to fare better than teams playing just for seeding or for a historically good record.\\n\\nMany bettors found a line of 4 points too good to be true, and it has since drifted upward to 5, 5 or even 6. Still, 6 point favorites often lose in the N.F.L. The Panthers may be much more vulnerable Sunday than meets the eye.\\n\\nA similar situation may arise in the playoffs. The Panthers are virtually certain to be the N.F.C. s top seed, and a possible opponent for them in their first game is Seattle, which is on track to be a No. 5 or 6 seed. Although the Seahawks are 8 5, computer rankings and oddsmakers love them. Their early season struggles seem to be behind them, and they have won six of seven, including consecutive road blowouts against the Minnesota Vikings and the Baltimore Ravens.\\n\\nInpredictable says that the Seahawks are actually the top team in the league by the odds, ranking them 1 points better than Carolina. Even with home field and a possible 16 0 record, the Panthers might find themselves only a 1 or 2 point favorite in their playoff opener.\\n\\nThe Panthers may have to become the first 19 0 Super Bowl winner before the last skeptic is convinced.\\n\\nA version of this article appears in print on December 17, 2015, on page B17 of the New York edition with the headline A Victor in 13 Straight Games Still Has to Win Over Oddsmakers. Order Reprints Today s Paper Subscribe'"
      ]
     },
     "execution_count": 56,
     "metadata": {},
     "output_type": "execute_result"
    }
   ],
   "source": [
    "Xtest_trial.iloc[15,:]['text']"
   ]
  },
  {
   "cell_type": "code",
   "execution_count": 57,
   "metadata": {},
   "outputs": [
    {
     "name": "stdout",
     "output_type": "stream",
     "text": [
      "Actual summary:\n"
     ]
    },
    {
     "data": {
      "application/vnd.google.colaboratory.intrinsic+json": {
       "type": "string"
      },
      "text/plain": [
       "'Bookmakers remained skeptical about the Panthers 13 0 record, making them only 4 point favorites in the opening betting line for their game against the 6 7 Giants.'"
      ]
     },
     "execution_count": 57,
     "metadata": {},
     "output_type": "execute_result"
    }
   ],
   "source": [
    "print(\"Actual summary:\")\n",
    "results['golden_summary'][15]"
   ]
  },
  {
   "cell_type": "code",
   "execution_count": 58,
   "metadata": {},
   "outputs": [
    {
     "name": "stdout",
     "output_type": "stream",
     "text": [
      "Generated summary:\n"
     ]
    },
    {
     "data": {
      "application/vnd.google.colaboratory.intrinsic+json": {
       "type": "string"
      },
      "text/plain": [
       "'The Carolina Panthers are less impressive than one might expect a perfect team to be, with fewer lines. But answering it can devilishly complicated'"
      ]
     },
     "execution_count": 58,
     "metadata": {},
     "output_type": "execute_result"
    }
   ],
   "source": [
    "print('Generated summary:')\n",
    "results['generated_summary'][15]"
   ]
  },
  {
   "cell_type": "markdown",
   "metadata": {
    "colab_type": "text",
    "id": "4KX71gPzy_bH"
   },
   "source": [
    "### Performance"
   ]
  },
  {
   "cell_type": "code",
   "execution_count": 59,
   "metadata": {
    "colab": {
     "base_uri": "https://localhost:8080/",
     "height": 125
    },
    "colab_type": "code",
    "id": "rdMr6tAWFpG8",
    "outputId": "a0b7677b-be23-49cf-e215-d3f9b566084c"
   },
   "outputs": [
    {
     "name": "stdout",
     "output_type": "stream",
     "text": [
      "Collecting rouge\n",
      "  Downloading https://files.pythonhosted.org/packages/43/cc/e18e33be20971ff73a056ebdb023476b5a545e744e3fc22acd8c758f1e0d/rouge-1.0.0-py3-none-any.whl\n",
      "Requirement already satisfied: six in /usr/local/lib/python3.6/dist-packages (from rouge) (1.15.0)\n",
      "Installing collected packages: rouge\n",
      "Successfully installed rouge-1.0.0\n"
     ]
    }
   ],
   "source": [
    "!pip3 install rouge\n",
    "from rouge import Rouge"
   ]
  },
  {
   "cell_type": "code",
   "execution_count": 60,
   "metadata": {
    "colab": {},
    "colab_type": "code",
    "id": "n-2UrHbnZ0wt",
    "outputId": "eb5d2867-4a2c-4d88-bf4e-44f6871e5dc0"
   },
   "outputs": [
    {
     "name": "stdout",
     "output_type": "stream",
     "text": [
      "Collecting rouge-score\n",
      "  Downloading https://files.pythonhosted.org/packages/1f/56/a81022436c08b9405a5247b71635394d44fe7e1dbedc4b28c740e09c2840/rouge_score-0.0.4-py2.py3-none-any.whl\n",
      "Requirement already satisfied: tqdm in /usr/local/lib/python3.6/dist-packages (4.41.1)\n",
      "Requirement already satisfied: nltk in /usr/local/lib/python3.6/dist-packages (from rouge-score) (3.2.5)\n",
      "Requirement already satisfied: absl-py in /usr/local/lib/python3.6/dist-packages (from rouge-score) (0.9.0)\n",
      "Requirement already satisfied: numpy in /usr/local/lib/python3.6/dist-packages (from rouge-score) (1.18.5)\n",
      "Requirement already satisfied: six>=1.14.0 in /usr/local/lib/python3.6/dist-packages (from rouge-score) (1.15.0)\n",
      "Installing collected packages: rouge-score\n",
      "Successfully installed rouge-score-0.0.4\n"
     ]
    }
   ],
   "source": [
    "!pip3 install rouge-score tqdm\n",
    "from rouge_score import rouge_scorer, scoring"
   ]
  },
  {
   "cell_type": "code",
   "execution_count": 61,
   "metadata": {
    "colab": {},
    "colab_type": "code",
    "id": "ter9ktdQ6_54"
   },
   "outputs": [],
   "source": [
    "from typing import Dict\n",
    "\n",
    "def get_score(summaries) -> Dict:  \n",
    "    \n",
    "    src_labels = summaries['golden_summary']\n",
    "    gen_summary = summaries['generated_summary']\n",
    "    \n",
    "    scorer = rouge_scorer.RougeScorer(['rouge1','rouge2','rougeL'], use_stemmer=True)\n",
    "    aggregator = scoring.BootstrapAggregator()\n",
    "    \n",
    "    for src, gent in zip(src_labels, gen_summary):\n",
    "        scores = scorer.score(gent, src)\n",
    "        aggregator.add_scores(scores)\n",
    "        \n",
    "    results = aggregator.aggregate()\n",
    "    return {key: val.mid.fmeasure for key, val in results.items()}"
   ]
  },
  {
   "cell_type": "code",
   "execution_count": 62,
   "metadata": {
    "colab": {},
    "colab_type": "code",
    "id": "jfhyTtEwZ0ww",
    "outputId": "65e760cf-5c1d-4b3c-b73a-532fbfcf56fa"
   },
   "outputs": [
    {
     "data": {
      "text/plain": [
       "{'rouge1': 0.3251555298232545,\n",
       " 'rouge2': 0.17724507880716306,\n",
       " 'rougeL': 0.2734545655096767}"
      ]
     },
     "execution_count": 62,
     "metadata": {},
     "output_type": "execute_result"
    }
   ],
   "source": [
    "get_score(results)"
   ]
  },
  {
   "cell_type": "code",
   "execution_count": 63,
   "metadata": {
    "colab": {},
    "colab_type": "code",
    "id": "6UtF_jowZ0wz",
    "outputId": "e969fe82-4e50-472f-d4ed-68a810008fbe"
   },
   "outputs": [
    {
     "data": {
      "text/plain": [
       "{'rouge-1': 0.2934569607894014,\n",
       " 'rouge-2': 0.16207342615668757,\n",
       " 'rouge-l': 0.2762959592687011}"
      ]
     },
     "execution_count": 63,
     "metadata": {},
     "output_type": "execute_result"
    }
   ],
   "source": [
    "rouge = Rouge()\n",
    "\n",
    "score = rouge.get_scores(results['generated_summary'], results['golden_summary'], avg=True)\n",
    "{key: val['f'] for key, val in score.items()}"
   ]
  },
  {
   "cell_type": "code",
   "execution_count": null,
   "metadata": {
    "colab": {},
    "colab_type": "code",
    "id": "SuKNdMkjZ0w1"
   },
   "outputs": [],
   "source": []
  },
  {
   "cell_type": "code",
   "execution_count": null,
   "metadata": {
    "colab": {},
    "colab_type": "code",
    "id": "myFwDWpwZ0w2"
   },
   "outputs": [],
   "source": []
  },
  {
   "cell_type": "code",
   "execution_count": null,
   "metadata": {
    "colab": {},
    "colab_type": "code",
    "id": "Stw9mmxRZ0w4"
   },
   "outputs": [],
   "source": []
  },
  {
   "cell_type": "code",
   "execution_count": null,
   "metadata": {
    "colab": {},
    "colab_type": "code",
    "id": "h73v9E6qZ0w5"
   },
   "outputs": [],
   "source": []
  },
  {
   "cell_type": "code",
   "execution_count": null,
   "metadata": {
    "colab": {},
    "colab_type": "code",
    "id": "biX8kzMlZ0w6"
   },
   "outputs": [],
   "source": []
  },
  {
   "cell_type": "code",
   "execution_count": null,
   "metadata": {
    "colab": {},
    "colab_type": "code",
    "id": "8JLMNdinZ0w9"
   },
   "outputs": [],
   "source": []
  },
  {
   "cell_type": "code",
   "execution_count": null,
   "metadata": {
    "colab": {},
    "colab_type": "code",
    "id": "-0iPoe2dZ0w_"
   },
   "outputs": [],
   "source": []
  },
  {
   "cell_type": "code",
   "execution_count": null,
   "metadata": {
    "colab": {},
    "colab_type": "code",
    "id": "38QnkQSRZ0xA"
   },
   "outputs": [],
   "source": []
  },
  {
   "cell_type": "code",
   "execution_count": null,
   "metadata": {
    "colab": {},
    "colab_type": "code",
    "id": "VAOH_oNKZ0xC"
   },
   "outputs": [],
   "source": []
  },
  {
   "cell_type": "code",
   "execution_count": null,
   "metadata": {
    "colab": {},
    "colab_type": "code",
    "id": "Fei2zb35Z0xD"
   },
   "outputs": [],
   "source": []
  },
  {
   "cell_type": "code",
   "execution_count": null,
   "metadata": {
    "colab": {},
    "colab_type": "code",
    "id": "pilwuTxMZ0xF"
   },
   "outputs": [],
   "source": []
  },
  {
   "cell_type": "markdown",
   "metadata": {
    "colab_type": "text",
    "id": "sTkqfrwoy5QR"
   },
   "source": [
    "##### Freezing layers"
   ]
  },
  {
   "cell_type": "code",
   "execution_count": null,
   "metadata": {
    "colab": {},
    "colab_type": "code",
    "id": "tDjdxQUI6_1w"
   },
   "outputs": [],
   "source": [
    "model.decoder.block[11].requires_grad=True\n",
    "model.decoder.block[4].requires_grad=True\n",
    "\n",
    "for param model.parameters():\n",
    "    param.requires_grad = False"
   ]
  },
  {
   "cell_type": "code",
   "execution_count": null,
   "metadata": {
    "colab": {},
    "colab_type": "code",
    "id": "imlmpMSC6_K2"
   },
   "outputs": [],
   "source": []
  },
  {
   "cell_type": "code",
   "execution_count": null,
   "metadata": {
    "colab": {},
    "colab_type": "code",
    "id": "OljFlfM5z0OW"
   },
   "outputs": [],
   "source": [
    "class T5Model(nn.Module):\n",
    "\n",
    "  def __init__(self, t5, )"
   ]
  },
  {
   "cell_type": "code",
   "execution_count": null,
   "metadata": {
    "colab": {},
    "colab_type": "code",
    "id": "wkpccxfe_Rwc"
   },
   "outputs": [],
   "source": [
    "class DictionaryDataset:\n",
    "  def __init__(self, dataset=None):\n",
    "    self.w2index = defaultdict(int)\n",
    "    self.index2w = defaultdict(lambda: 'SOS')\n",
    "    self.symbols = ['SOS','EOS','PAD']\n",
    "    self.wcount = 3\n",
    "\n",
    "    for i, s in enumerate(self.symbols):\n",
    "      self.index2w[i] = s\n",
    "    for i, s in enumerate(self.symbols):\n",
    "      self.w2index[s] = i\n",
    "      \n",
    "    if dataset:\n",
    "      for i, line in tqdm(enumerate(dataset)):\n",
    "        self.word2index(line)\n",
    "\n",
    "  def word2index(self, sentence):\n",
    "    words = sentence.split()\n",
    "    for word in words:\n",
    "      if word not in self.w2index.keys():\n",
    "        self.w2index[word] = self.wcount\n",
    "        self.index2w[self.wcount] = word\n",
    "        self.wcount +=1\n",
    "    \n",
    "  def encode_sequence(self, dataset):\n",
    "    for i, line in tqdm(enumerate(dataset)):\n",
    "      self.word2index(line)\n",
    "\n",
    "  def decode_idx(self, idx):\n",
    "    dec_words = []\n",
    "    for i in idx:\n",
    "      dec_words.append(self.index2w[i])\n",
    "    return dec_words"
   ]
  },
  {
   "cell_type": "markdown",
   "metadata": {
    "colab_type": "text",
    "id": "h01oJ3XRCSBV"
   },
   "source": [
    "![LSTM](https://drive.google.com/open?id=19pYBGaKGx2wTHjDC3QLMkpr5HDqTPbb6)"
   ]
  },
  {
   "cell_type": "markdown",
   "metadata": {
    "colab_type": "text",
    "id": "ujAMkc2nDPaB"
   },
   "source": [
    "![Seq2SeqWithAttention](https://drive.google.com/open?id=1QDLNN0XQ0TfeA-nyAGBhG3YgwAX0bPQU)"
   ]
  },
  {
   "cell_type": "markdown",
   "metadata": {
    "colab_type": "text",
    "id": "gfvg8MT3RBFI"
   },
   "source": [
    "You should use the same number of layers, for encoder and decoder\n",
    "shape for inputs is (batch size, sequence length), (batch size, 1) respectively.\n"
   ]
  },
  {
   "cell_type": "code",
   "execution_count": null,
   "metadata": {
    "colab": {},
    "colab_type": "code",
    "id": "QQF-TwabDk4Q"
   },
   "outputs": [],
   "source": [
    "class Encoder(nn.Module):\n",
    "  def __init__(self,input_size, embed_size, num_hidden, batch_size, num_layers=3, dropout = 0.1):\n",
    "    super(Encoder, self).__init__()\n",
    "    self.num_hidden = num_hidden\n",
    "    self.num_layers = num_layers\n",
    "    self.input_size = input_size\n",
    "    self.batch_size = batch_size\n",
    "\n",
    "    self.embed = nn.Embedding(input_size, embed_size)\n",
    "    self.lstm = nn.LSTM(input_size=embed_size, hidden_size=num_hidden,num_layers = num_layers, dropout=(0 if num_layers ==2 else dropout))\n",
    "\n",
    "  def init_hidden(self):\n",
    "     # The axes semantics are (num_layers, minibatch_size, hidden_dim)\n",
    "    return (torch.zeros(self.num_layers, self.batch_size, self.num_hidden), torch.zeros(self.num_layers, self.batch_size, self.num_hidden))\n",
    "  def forward(self, input, hidden):\n",
    "    # input (batch size, sequence length)\n",
    "    embedding = self.embed(input)\n",
    "    #print(embedding.shape)\n",
    "    embed_out = embedding.transpose(0,1)\n",
    "    print(embed_out.shape)\n",
    "    lstm_out, hidden = self.lstm(embed_out, hidden)\n",
    "\n",
    "    # The shape of lstm_out is (seq_len, batch_size, num_hiddens).\n",
    "    # state contains the hidden state and the memory cell\n",
    "    # of the last time step, the shape is (num_layers, batch_size, num_hiddens)\n",
    "    #lstout is (seq_length, batch_size, num_hiddens)\n",
    "    return lstm_out, hidden"
   ]
  },
  {
   "cell_type": "code",
   "execution_count": null,
   "metadata": {
    "colab": {
     "base_uri": "https://localhost:8080/",
     "height": 34
    },
    "colab_type": "code",
    "id": "m4_h0bXp0cl7",
    "outputId": "1310d376-e495-41c8-fd80-730b4970dca2"
   },
   "outputs": [
    {
     "name": "stdout",
     "output_type": "stream",
     "text": [
      "torch.Size([7, 4, 8])\n"
     ]
    }
   ],
   "source": [
    "encoder = Encoder(input_size =10, embed_size=8, num_hidden=16, batch_size=4)\n",
    "X = torch.zeros((4, 7),dtype=torch.long)\n",
    "hidden = encoder.init_hidden()\n",
    "output, hidden = encoder(X, hidden)"
   ]
  },
  {
   "cell_type": "code",
   "execution_count": null,
   "metadata": {
    "colab": {
     "base_uri": "https://localhost:8080/",
     "height": 34
    },
    "colab_type": "code",
    "id": "zJ53T62V6ZOO",
    "outputId": "70b9e373-d6ba-4eed-da7d-b002257ab62b"
   },
   "outputs": [
    {
     "data": {
      "text/plain": [
       "torch.Size([3, 4, 16])"
      ]
     },
     "execution_count": 89,
     "metadata": {
      "tags": []
     },
     "output_type": "execute_result"
    }
   ],
   "source": [
    "hidden[0].shape"
   ]
  },
  {
   "cell_type": "code",
   "execution_count": null,
   "metadata": {
    "colab": {
     "base_uri": "https://localhost:8080/",
     "height": 34
    },
    "colab_type": "code",
    "id": "0XNO21wuBTGi",
    "outputId": "ab86113b-05af-4271-d479-df115a533fd9"
   },
   "outputs": [
    {
     "data": {
      "text/plain": [
       "torch.Size([7, 4, 16])"
      ]
     },
     "execution_count": 90,
     "metadata": {
      "tags": []
     },
     "output_type": "execute_result"
    }
   ],
   "source": [
    "output.shape"
   ]
  },
  {
   "cell_type": "code",
   "execution_count": null,
   "metadata": {
    "colab": {},
    "colab_type": "code",
    "id": "e55gItUrF_wD"
   },
   "outputs": [],
   "source": [
    "class Attention(nn.Module):\n",
    "  def __init__(self, hidden_size, method='dot'):\n",
    "    super(Attention, self).__init__()\n",
    "    self.method = method\n",
    "    self.hidden_size = hidden_size\n",
    "  def dot_score(self, hidden, encoder_output):\n",
    "    return torch.sum(hidden * encoder_output, dim=2)\n",
    "\n",
    "  def forward(self, hidden, encoder_output):\n",
    "    att_prod = self.dot_score(hidden, encoder_output)\n",
    "    attn_weights = att_prod.t()\n",
    "    return F.softmax(attn_weights, dim=1).unsqueeze(1)\n",
    "\n"
   ]
  },
  {
   "cell_type": "code",
   "execution_count": null,
   "metadata": {
    "colab": {},
    "colab_type": "code",
    "id": "Lp5VhnhRnuaL"
   },
   "outputs": [],
   "source": [
    "class DecoderWithAtt(nn.Module):\n",
    "  def __init__(self, embed_size_in, num_hidden, output_size, att_method=None, num_layers = 3):\n",
    "    super(DecoderWithAtt, self).__init__()\n",
    "    self.num_layers = num_layers\n",
    "    self.num_hidden = num_hidden\n",
    "    self.output_size = output_size\n",
    "    self.att_method = att_method\n",
    "\n",
    "    self.emb = nn.Embedding(embed_size_in, num_hidden)\n",
    "    self.lstm = nn.LSTM(input_size=num_hidden, hidden_size=num_hidden, num_layers = num_layers)\n",
    "    self.con_ln = nn.Linear(num_hidden * 2, num_hidden)\n",
    "    self.drop = nn.Dropout(p=0.2)\n",
    "    self.fc  = nn.Linear(self.num_hidden, self.output_size)\n",
    "    self.attention = Attention(att_method, num_hidden)\n",
    "\n",
    "  def forward(self, prev_hidden, target_input, enconder_outputs):\n",
    "    embed_out = self.emb(target_input).transpose(0,1)\n",
    "    embed_out = self.drop(embed_out)\n",
    "    print('embed out >>>', embed_out.shape)\n",
    "    output, hidden = self.lstm(embed_out, prev_hidden) # shape (1, batch_size, hidden_size), 1 for one time step word \n",
    "    print('lstm out >>>', output.shape)\n",
    "    print('hidden out >>>', hidden[0].shape)\n",
    "\n",
    "    attent_weights = self.attention(output, enconder_outputs) # (att out shape: batch_size, 1, max_length), enc in shape: (max_length, batch_size, hidden_size)\n",
    "    print('attent_weights out >>>', attent_weights.shape)\n",
    "    print('enconder_outputs >>>', enconder_outputs.shape)\n",
    "\n",
    "    context = torch.bmm(attent_weights, enconder_outputs.transpose(0,1))\n",
    "    print('context out >>>', context.shape)\n",
    "    cont_dec_out = torch.cat((context, output.transpose(0,1)), 1)\n",
    "    print('to linear out >>>', cont_dec_out.shape)\n",
    "    cont_dec_out = cont_dec_out.view(cont_dec_out.shape[0], -1)\n",
    "    concat_out = self.con_ln(cont_dec_out)\n",
    "    concat_out = torch.tanh(concat_out)\n",
    "\n",
    "    out = self.fc(concat_out)\n",
    "    out = F.softmax(out, dim=1)\n",
    "\n",
    "    return out, hidden"
   ]
  },
  {
   "cell_type": "code",
   "execution_count": null,
   "metadata": {
    "colab": {},
    "colab_type": "code",
    "id": "--9oa_EJ6_GG"
   },
   "outputs": [],
   "source": [
    "decoder = DecoderWithAtt(10,16,2)"
   ]
  },
  {
   "cell_type": "code",
   "execution_count": null,
   "metadata": {
    "colab": {
     "base_uri": "https://localhost:8080/",
     "height": 137
    },
    "colab_type": "code",
    "id": "KHklHQXG7x4d",
    "outputId": "eeeb0cd9-0cd2-424f-dc6a-3823273e7fdb"
   },
   "outputs": [
    {
     "name": "stdout",
     "output_type": "stream",
     "text": [
      "embed out >>> torch.Size([1, 4, 16])\n",
      "lstm out >>> torch.Size([1, 4, 16])\n",
      "hidden out >>> torch.Size([3, 4, 16])\n",
      "attent_weights out >>> torch.Size([4, 1, 7])\n",
      "enconder_outputs >>> torch.Size([7, 4, 16])\n",
      "context out >>> torch.Size([4, 1, 16])\n",
      "to linear out >>> torch.Size([4, 2, 16])\n"
     ]
    }
   ],
   "source": [
    "x = torch.zeros((4, 1),dtype=torch.long)\n",
    "out, hidden = decoder(hidden, x, output)"
   ]
  },
  {
   "cell_type": "code",
   "execution_count": null,
   "metadata": {
    "colab": {
     "base_uri": "https://localhost:8080/",
     "height": 34
    },
    "colab_type": "code",
    "id": "oW94xBGOOPQH",
    "outputId": "0cc0b4a1-9b8f-4a40-db3a-0a809f844f35"
   },
   "outputs": [
    {
     "data": {
      "text/plain": [
       "torch.Size([4, 2])"
      ]
     },
     "execution_count": 96,
     "metadata": {
      "tags": []
     },
     "output_type": "execute_result"
    }
   ],
   "source": [
    "out.shape"
   ]
  },
  {
   "cell_type": "code",
   "execution_count": null,
   "metadata": {
    "colab": {
     "base_uri": "https://localhost:8080/",
     "height": 34
    },
    "colab_type": "code",
    "id": "fSB0L7_6QyEN",
    "outputId": "6b4d1c40-e5b1-446d-c843-4deb13218d54"
   },
   "outputs": [
    {
     "data": {
      "text/plain": [
       "torch.Size([3, 4, 16])"
      ]
     },
     "execution_count": 97,
     "metadata": {
      "tags": []
     },
     "output_type": "execute_result"
    }
   ],
   "source": [
    "hidden[0].shape"
   ]
  },
  {
   "cell_type": "code",
   "execution_count": null,
   "metadata": {
    "colab": {},
    "colab_type": "code",
    "id": "5Rl0M8_pQ6sD"
   },
   "outputs": [],
   "source": []
  }
 ],
 "metadata": {
  "accelerator": "GPU",
  "colab": {
   "collapsed_sections": [],
   "include_colab_link": true,
   "name": "Final_Project",
   "provenance": [],
   "toc_visible": true
  },
  "environment": {
   "name": "pytorch-gpu.1-4.m49",
   "type": "gcloud",
   "uri": "gcr.io/deeplearning-platform-release/pytorch-gpu.1-4:m49"
  },
  "kernelspec": {
   "display_name": "Python 3",
   "language": "python",
   "name": "python3"
  },
  "language_info": {
   "codemirror_mode": {
    "name": "ipython",
    "version": 3
   },
   "file_extension": ".py",
   "mimetype": "text/x-python",
   "name": "python",
   "nbconvert_exporter": "python",
   "pygments_lexer": "ipython3",
   "version": "3.6.9"
  },
  "widgets": {
   "application/vnd.jupyter.widget-state+json": {
    "00632d7b23cc45f59515669601334fcd": {
     "model_module": "@jupyter-widgets/base",
     "model_name": "LayoutModel",
     "state": {
      "_model_module": "@jupyter-widgets/base",
      "_model_module_version": "1.2.0",
      "_model_name": "LayoutModel",
      "_view_count": null,
      "_view_module": "@jupyter-widgets/base",
      "_view_module_version": "1.2.0",
      "_view_name": "LayoutView",
      "align_content": null,
      "align_items": null,
      "align_self": null,
      "border": null,
      "bottom": null,
      "display": null,
      "flex": null,
      "flex_flow": null,
      "grid_area": null,
      "grid_auto_columns": null,
      "grid_auto_flow": null,
      "grid_auto_rows": null,
      "grid_column": null,
      "grid_gap": null,
      "grid_row": null,
      "grid_template_areas": null,
      "grid_template_columns": null,
      "grid_template_rows": null,
      "height": null,
      "justify_content": null,
      "justify_items": null,
      "left": null,
      "margin": null,
      "max_height": null,
      "max_width": null,
      "min_height": null,
      "min_width": null,
      "object_fit": null,
      "object_position": null,
      "order": null,
      "overflow": null,
      "overflow_x": null,
      "overflow_y": null,
      "padding": null,
      "right": null,
      "top": null,
      "visibility": null,
      "width": null
     }
    },
    "007752d9ce5e47f480ae606afeb2cd16": {
     "model_module": "@jupyter-widgets/base",
     "model_name": "LayoutModel",
     "state": {
      "_model_module": "@jupyter-widgets/base",
      "_model_module_version": "1.2.0",
      "_model_name": "LayoutModel",
      "_view_count": null,
      "_view_module": "@jupyter-widgets/base",
      "_view_module_version": "1.2.0",
      "_view_name": "LayoutView",
      "align_content": null,
      "align_items": null,
      "align_self": null,
      "border": null,
      "bottom": null,
      "display": null,
      "flex": null,
      "flex_flow": null,
      "grid_area": null,
      "grid_auto_columns": null,
      "grid_auto_flow": null,
      "grid_auto_rows": null,
      "grid_column": null,
      "grid_gap": null,
      "grid_row": null,
      "grid_template_areas": null,
      "grid_template_columns": null,
      "grid_template_rows": null,
      "height": null,
      "justify_content": null,
      "justify_items": null,
      "left": null,
      "margin": null,
      "max_height": null,
      "max_width": null,
      "min_height": null,
      "min_width": null,
      "object_fit": null,
      "object_position": null,
      "order": null,
      "overflow": null,
      "overflow_x": null,
      "overflow_y": null,
      "padding": null,
      "right": null,
      "top": null,
      "visibility": null,
      "width": null
     }
    },
    "02d1d8ffcf3a4873880bb4ec2b7eefbf": {
     "model_module": "@jupyter-widgets/controls",
     "model_name": "HTMLModel",
     "state": {
      "_dom_classes": [],
      "_model_module": "@jupyter-widgets/controls",
      "_model_module_version": "1.5.0",
      "_model_name": "HTMLModel",
      "_view_count": null,
      "_view_module": "@jupyter-widgets/controls",
      "_view_module_version": "1.5.0",
      "_view_name": "HTMLView",
      "description": "",
      "description_tooltip": null,
      "layout": "IPY_MODEL_7a0883324f8b4256adf0e8a54c77524f",
      "placeholder": "​",
      "style": "IPY_MODEL_1f778937b7484fac8de6530ea10a5470",
      "value": " 150/? [2:07:40&lt;00:00, 51.07s/it]"
     }
    },
    "04619e3db74847f5b637c7d2b1d5b8b8": {
     "model_module": "@jupyter-widgets/controls",
     "model_name": "DescriptionStyleModel",
     "state": {
      "_model_module": "@jupyter-widgets/controls",
      "_model_module_version": "1.5.0",
      "_model_name": "DescriptionStyleModel",
      "_view_count": null,
      "_view_module": "@jupyter-widgets/base",
      "_view_module_version": "1.2.0",
      "_view_name": "StyleView",
      "description_width": ""
     }
    },
    "0551f8a91cb547948703416f5c200c93": {
     "model_module": "@jupyter-widgets/base",
     "model_name": "LayoutModel",
     "state": {
      "_model_module": "@jupyter-widgets/base",
      "_model_module_version": "1.2.0",
      "_model_name": "LayoutModel",
      "_view_count": null,
      "_view_module": "@jupyter-widgets/base",
      "_view_module_version": "1.2.0",
      "_view_name": "LayoutView",
      "align_content": null,
      "align_items": null,
      "align_self": null,
      "border": null,
      "bottom": null,
      "display": null,
      "flex": null,
      "flex_flow": null,
      "grid_area": null,
      "grid_auto_columns": null,
      "grid_auto_flow": null,
      "grid_auto_rows": null,
      "grid_column": null,
      "grid_gap": null,
      "grid_row": null,
      "grid_template_areas": null,
      "grid_template_columns": null,
      "grid_template_rows": null,
      "height": null,
      "justify_content": null,
      "justify_items": null,
      "left": null,
      "margin": null,
      "max_height": null,
      "max_width": null,
      "min_height": null,
      "min_width": null,
      "object_fit": null,
      "object_position": null,
      "order": null,
      "overflow": null,
      "overflow_x": null,
      "overflow_y": null,
      "padding": null,
      "right": null,
      "top": null,
      "visibility": null,
      "width": null
     }
    },
    "0cdd1f83587643f68b9cc4659ba75fb8": {
     "model_module": "@jupyter-widgets/controls",
     "model_name": "FloatProgressModel",
     "state": {
      "_dom_classes": [],
      "_model_module": "@jupyter-widgets/controls",
      "_model_module_version": "1.5.0",
      "_model_name": "FloatProgressModel",
      "_view_count": null,
      "_view_module": "@jupyter-widgets/controls",
      "_view_module_version": "1.5.0",
      "_view_name": "ProgressView",
      "bar_style": "success",
      "description": "",
      "description_tooltip": null,
      "layout": "IPY_MODEL_9efdf4e9fd8c42598cced165c426f5bf",
      "max": 1,
      "min": 0,
      "orientation": "horizontal",
      "style": "IPY_MODEL_598b0d3d4ba64ed48d511ce9dd360f64",
      "value": 1
     }
    },
    "1523672396354424b0658ce14786fbd2": {
     "model_module": "@jupyter-widgets/controls",
     "model_name": "HTMLModel",
     "state": {
      "_dom_classes": [],
      "_model_module": "@jupyter-widgets/controls",
      "_model_module_version": "1.5.0",
      "_model_name": "HTMLModel",
      "_view_count": null,
      "_view_module": "@jupyter-widgets/controls",
      "_view_module_version": "1.5.0",
      "_view_name": "HTMLView",
      "description": "",
      "description_tooltip": null,
      "layout": "IPY_MODEL_864cb033af344f22b288a320088ec71c",
      "placeholder": "​",
      "style": "IPY_MODEL_ffc60b07ad704ea2afc0ac2c79c10c11",
      "value": " 150/? [01:24&lt;00:00,  1.77it/s]"
     }
    },
    "17e87d4a9a974aa6828c5ae0f9e0cf3a": {
     "model_module": "@jupyter-widgets/base",
     "model_name": "LayoutModel",
     "state": {
      "_model_module": "@jupyter-widgets/base",
      "_model_module_version": "1.2.0",
      "_model_name": "LayoutModel",
      "_view_count": null,
      "_view_module": "@jupyter-widgets/base",
      "_view_module_version": "1.2.0",
      "_view_name": "LayoutView",
      "align_content": null,
      "align_items": null,
      "align_self": null,
      "border": null,
      "bottom": null,
      "display": null,
      "flex": null,
      "flex_flow": null,
      "grid_area": null,
      "grid_auto_columns": null,
      "grid_auto_flow": null,
      "grid_auto_rows": null,
      "grid_column": null,
      "grid_gap": null,
      "grid_row": null,
      "grid_template_areas": null,
      "grid_template_columns": null,
      "grid_template_rows": null,
      "height": null,
      "justify_content": null,
      "justify_items": null,
      "left": null,
      "margin": null,
      "max_height": null,
      "max_width": null,
      "min_height": null,
      "min_width": null,
      "object_fit": null,
      "object_position": null,
      "order": null,
      "overflow": null,
      "overflow_x": null,
      "overflow_y": null,
      "padding": null,
      "right": null,
      "top": null,
      "visibility": null,
      "width": null
     }
    },
    "1cbf0dd906ac41e985bd752f526fa2d4": {
     "model_module": "@jupyter-widgets/controls",
     "model_name": "HTMLModel",
     "state": {
      "_dom_classes": [],
      "_model_module": "@jupyter-widgets/controls",
      "_model_module_version": "1.5.0",
      "_model_name": "HTMLModel",
      "_view_count": null,
      "_view_module": "@jupyter-widgets/controls",
      "_view_module_version": "1.5.0",
      "_view_name": "HTMLView",
      "description": "",
      "description_tooltip": null,
      "layout": "IPY_MODEL_6005029df2504711a96df12e14290100",
      "placeholder": "​",
      "style": "IPY_MODEL_41ceec6b9c214b18891c8ab915d5c19c",
      "value": " 150/? [01:09&lt;00:00,  2.17it/s]"
     }
    },
    "1f778937b7484fac8de6530ea10a5470": {
     "model_module": "@jupyter-widgets/controls",
     "model_name": "DescriptionStyleModel",
     "state": {
      "_model_module": "@jupyter-widgets/controls",
      "_model_module_version": "1.5.0",
      "_model_name": "DescriptionStyleModel",
      "_view_count": null,
      "_view_module": "@jupyter-widgets/base",
      "_view_module_version": "1.2.0",
      "_view_name": "StyleView",
      "description_width": ""
     }
    },
    "2004cd6b66034fdda39e09c4ea44b3ce": {
     "model_module": "@jupyter-widgets/base",
     "model_name": "LayoutModel",
     "state": {
      "_model_module": "@jupyter-widgets/base",
      "_model_module_version": "1.2.0",
      "_model_name": "LayoutModel",
      "_view_count": null,
      "_view_module": "@jupyter-widgets/base",
      "_view_module_version": "1.2.0",
      "_view_name": "LayoutView",
      "align_content": null,
      "align_items": null,
      "align_self": null,
      "border": null,
      "bottom": null,
      "display": null,
      "flex": null,
      "flex_flow": null,
      "grid_area": null,
      "grid_auto_columns": null,
      "grid_auto_flow": null,
      "grid_auto_rows": null,
      "grid_column": null,
      "grid_gap": null,
      "grid_row": null,
      "grid_template_areas": null,
      "grid_template_columns": null,
      "grid_template_rows": null,
      "height": null,
      "justify_content": null,
      "justify_items": null,
      "left": null,
      "margin": null,
      "max_height": null,
      "max_width": null,
      "min_height": null,
      "min_width": null,
      "object_fit": null,
      "object_position": null,
      "order": null,
      "overflow": null,
      "overflow_x": null,
      "overflow_y": null,
      "padding": null,
      "right": null,
      "top": null,
      "visibility": null,
      "width": null
     }
    },
    "200ba008099045719694899c681c2d16": {
     "model_module": "@jupyter-widgets/base",
     "model_name": "LayoutModel",
     "state": {
      "_model_module": "@jupyter-widgets/base",
      "_model_module_version": "1.2.0",
      "_model_name": "LayoutModel",
      "_view_count": null,
      "_view_module": "@jupyter-widgets/base",
      "_view_module_version": "1.2.0",
      "_view_name": "LayoutView",
      "align_content": null,
      "align_items": null,
      "align_self": null,
      "border": null,
      "bottom": null,
      "display": null,
      "flex": null,
      "flex_flow": null,
      "grid_area": null,
      "grid_auto_columns": null,
      "grid_auto_flow": null,
      "grid_auto_rows": null,
      "grid_column": null,
      "grid_gap": null,
      "grid_row": null,
      "grid_template_areas": null,
      "grid_template_columns": null,
      "grid_template_rows": null,
      "height": null,
      "justify_content": null,
      "justify_items": null,
      "left": null,
      "margin": null,
      "max_height": null,
      "max_width": null,
      "min_height": null,
      "min_width": null,
      "object_fit": null,
      "object_position": null,
      "order": null,
      "overflow": null,
      "overflow_x": null,
      "overflow_y": null,
      "padding": null,
      "right": null,
      "top": null,
      "visibility": null,
      "width": null
     }
    },
    "22e8567701184b729be80c57098badc4": {
     "model_module": "@jupyter-widgets/base",
     "model_name": "LayoutModel",
     "state": {
      "_model_module": "@jupyter-widgets/base",
      "_model_module_version": "1.2.0",
      "_model_name": "LayoutModel",
      "_view_count": null,
      "_view_module": "@jupyter-widgets/base",
      "_view_module_version": "1.2.0",
      "_view_name": "LayoutView",
      "align_content": null,
      "align_items": null,
      "align_self": null,
      "border": null,
      "bottom": null,
      "display": null,
      "flex": null,
      "flex_flow": null,
      "grid_area": null,
      "grid_auto_columns": null,
      "grid_auto_flow": null,
      "grid_auto_rows": null,
      "grid_column": null,
      "grid_gap": null,
      "grid_row": null,
      "grid_template_areas": null,
      "grid_template_columns": null,
      "grid_template_rows": null,
      "height": null,
      "justify_content": null,
      "justify_items": null,
      "left": null,
      "margin": null,
      "max_height": null,
      "max_width": null,
      "min_height": null,
      "min_width": null,
      "object_fit": null,
      "object_position": null,
      "order": null,
      "overflow": null,
      "overflow_x": null,
      "overflow_y": null,
      "padding": null,
      "right": null,
      "top": null,
      "visibility": null,
      "width": null
     }
    },
    "267a56c7a2f542e3b24a5f790491a550": {
     "model_module": "@jupyter-widgets/controls",
     "model_name": "HBoxModel",
     "state": {
      "_dom_classes": [],
      "_model_module": "@jupyter-widgets/controls",
      "_model_module_version": "1.5.0",
      "_model_name": "HBoxModel",
      "_view_count": null,
      "_view_module": "@jupyter-widgets/controls",
      "_view_module_version": "1.5.0",
      "_view_name": "HBoxView",
      "box_style": "",
      "children": [
       "IPY_MODEL_db85fdb064634d80b1904313a3b81ddb",
       "IPY_MODEL_1cbf0dd906ac41e985bd752f526fa2d4"
      ],
      "layout": "IPY_MODEL_dc94b3b543714dd0845fdadca7db22a3"
     }
    },
    "268c4187cfc9490bacfa1eafe1fbcca1": {
     "model_module": "@jupyter-widgets/controls",
     "model_name": "DescriptionStyleModel",
     "state": {
      "_model_module": "@jupyter-widgets/controls",
      "_model_module_version": "1.5.0",
      "_model_name": "DescriptionStyleModel",
      "_view_count": null,
      "_view_module": "@jupyter-widgets/base",
      "_view_module_version": "1.2.0",
      "_view_name": "StyleView",
      "description_width": ""
     }
    },
    "2732c77700724db3beb39d1c64469852": {
     "model_module": "@jupyter-widgets/controls",
     "model_name": "HTMLModel",
     "state": {
      "_dom_classes": [],
      "_model_module": "@jupyter-widgets/controls",
      "_model_module_version": "1.5.0",
      "_model_name": "HTMLModel",
      "_view_count": null,
      "_view_module": "@jupyter-widgets/controls",
      "_view_module_version": "1.5.0",
      "_view_name": "HTMLView",
      "description": "",
      "description_tooltip": null,
      "layout": "IPY_MODEL_a504d4571ae54c97a6fb586051f17b07",
      "placeholder": "​",
      "style": "IPY_MODEL_f1010194505c44b588ba44a39e4afd9f",
      "value": " 150/? [01:09&lt;00:00,  2.16it/s]"
     }
    },
    "273de981090749b29ce385706c449722": {
     "model_module": "@jupyter-widgets/controls",
     "model_name": "ProgressStyleModel",
     "state": {
      "_model_module": "@jupyter-widgets/controls",
      "_model_module_version": "1.5.0",
      "_model_name": "ProgressStyleModel",
      "_view_count": null,
      "_view_module": "@jupyter-widgets/base",
      "_view_module_version": "1.2.0",
      "_view_name": "StyleView",
      "bar_color": null,
      "description_width": "initial"
     }
    },
    "27afa2d568d6441690a6d0ee44e40e1c": {
     "model_module": "@jupyter-widgets/base",
     "model_name": "LayoutModel",
     "state": {
      "_model_module": "@jupyter-widgets/base",
      "_model_module_version": "1.2.0",
      "_model_name": "LayoutModel",
      "_view_count": null,
      "_view_module": "@jupyter-widgets/base",
      "_view_module_version": "1.2.0",
      "_view_name": "LayoutView",
      "align_content": null,
      "align_items": null,
      "align_self": null,
      "border": null,
      "bottom": null,
      "display": null,
      "flex": null,
      "flex_flow": null,
      "grid_area": null,
      "grid_auto_columns": null,
      "grid_auto_flow": null,
      "grid_auto_rows": null,
      "grid_column": null,
      "grid_gap": null,
      "grid_row": null,
      "grid_template_areas": null,
      "grid_template_columns": null,
      "grid_template_rows": null,
      "height": null,
      "justify_content": null,
      "justify_items": null,
      "left": null,
      "margin": null,
      "max_height": null,
      "max_width": null,
      "min_height": null,
      "min_width": null,
      "object_fit": null,
      "object_position": null,
      "order": null,
      "overflow": null,
      "overflow_x": null,
      "overflow_y": null,
      "padding": null,
      "right": null,
      "top": null,
      "visibility": null,
      "width": null
     }
    },
    "27deb6f565ac4447a44770288071a0b8": {
     "model_module": "@jupyter-widgets/controls",
     "model_name": "HTMLModel",
     "state": {
      "_dom_classes": [],
      "_model_module": "@jupyter-widgets/controls",
      "_model_module_version": "1.5.0",
      "_model_name": "HTMLModel",
      "_view_count": null,
      "_view_module": "@jupyter-widgets/controls",
      "_view_module_version": "1.5.0",
      "_view_name": "HTMLView",
      "description": "",
      "description_tooltip": null,
      "layout": "IPY_MODEL_9a9728af9dcb4e67a1a006297cd7b74c",
      "placeholder": "​",
      "style": "IPY_MODEL_e94b124aaf674431b6e424b9c6c1da87",
      "value": " 150/? [01:26&lt;00:00,  1.73it/s]"
     }
    },
    "2d2b6b3effa34b809c30379c42c3c861": {
     "model_module": "@jupyter-widgets/controls",
     "model_name": "FloatProgressModel",
     "state": {
      "_dom_classes": [],
      "_model_module": "@jupyter-widgets/controls",
      "_model_module_version": "1.5.0",
      "_model_name": "FloatProgressModel",
      "_view_count": null,
      "_view_module": "@jupyter-widgets/controls",
      "_view_module_version": "1.5.0",
      "_view_name": "ProgressView",
      "bar_style": "success",
      "description": "",
      "description_tooltip": null,
      "layout": "IPY_MODEL_ad0c71bcf6d945098f04025bc52055f9",
      "max": 1,
      "min": 0,
      "orientation": "horizontal",
      "style": "IPY_MODEL_5605c8c2ad12431b88e1404953ecd6b9",
      "value": 1
     }
    },
    "2d96618428094902b80450d649566a66": {
     "model_module": "@jupyter-widgets/controls",
     "model_name": "HBoxModel",
     "state": {
      "_dom_classes": [],
      "_model_module": "@jupyter-widgets/controls",
      "_model_module_version": "1.5.0",
      "_model_name": "HBoxModel",
      "_view_count": null,
      "_view_module": "@jupyter-widgets/controls",
      "_view_module_version": "1.5.0",
      "_view_name": "HBoxView",
      "box_style": "",
      "children": [
       "IPY_MODEL_a33ce8bb19284323a89a317403263c0d",
       "IPY_MODEL_90937a3fdc314010948a13e9e2c70e40"
      ],
      "layout": "IPY_MODEL_c7a670342db348f0b703a95438137574"
     }
    },
    "2df67220b98547639c10a80ceb63b1ef": {
     "model_module": "@jupyter-widgets/base",
     "model_name": "LayoutModel",
     "state": {
      "_model_module": "@jupyter-widgets/base",
      "_model_module_version": "1.2.0",
      "_model_name": "LayoutModel",
      "_view_count": null,
      "_view_module": "@jupyter-widgets/base",
      "_view_module_version": "1.2.0",
      "_view_name": "LayoutView",
      "align_content": null,
      "align_items": null,
      "align_self": null,
      "border": null,
      "bottom": null,
      "display": null,
      "flex": null,
      "flex_flow": null,
      "grid_area": null,
      "grid_auto_columns": null,
      "grid_auto_flow": null,
      "grid_auto_rows": null,
      "grid_column": null,
      "grid_gap": null,
      "grid_row": null,
      "grid_template_areas": null,
      "grid_template_columns": null,
      "grid_template_rows": null,
      "height": null,
      "justify_content": null,
      "justify_items": null,
      "left": null,
      "margin": null,
      "max_height": null,
      "max_width": null,
      "min_height": null,
      "min_width": null,
      "object_fit": null,
      "object_position": null,
      "order": null,
      "overflow": null,
      "overflow_x": null,
      "overflow_y": null,
      "padding": null,
      "right": null,
      "top": null,
      "visibility": null,
      "width": null
     }
    },
    "2f28dc0b45cc4b30acb85fecdc128397": {
     "model_module": "@jupyter-widgets/controls",
     "model_name": "ProgressStyleModel",
     "state": {
      "_model_module": "@jupyter-widgets/controls",
      "_model_module_version": "1.5.0",
      "_model_name": "ProgressStyleModel",
      "_view_count": null,
      "_view_module": "@jupyter-widgets/base",
      "_view_module_version": "1.2.0",
      "_view_name": "StyleView",
      "bar_color": null,
      "description_width": "initial"
     }
    },
    "3008461ae4e440d081f2f3ac46afa685": {
     "model_module": "@jupyter-widgets/controls",
     "model_name": "DescriptionStyleModel",
     "state": {
      "_model_module": "@jupyter-widgets/controls",
      "_model_module_version": "1.5.0",
      "_model_name": "DescriptionStyleModel",
      "_view_count": null,
      "_view_module": "@jupyter-widgets/base",
      "_view_module_version": "1.2.0",
      "_view_name": "StyleView",
      "description_width": ""
     }
    },
    "3353a6712b3a482d8907ca80a0824020": {
     "model_module": "@jupyter-widgets/base",
     "model_name": "LayoutModel",
     "state": {
      "_model_module": "@jupyter-widgets/base",
      "_model_module_version": "1.2.0",
      "_model_name": "LayoutModel",
      "_view_count": null,
      "_view_module": "@jupyter-widgets/base",
      "_view_module_version": "1.2.0",
      "_view_name": "LayoutView",
      "align_content": null,
      "align_items": null,
      "align_self": null,
      "border": null,
      "bottom": null,
      "display": null,
      "flex": null,
      "flex_flow": null,
      "grid_area": null,
      "grid_auto_columns": null,
      "grid_auto_flow": null,
      "grid_auto_rows": null,
      "grid_column": null,
      "grid_gap": null,
      "grid_row": null,
      "grid_template_areas": null,
      "grid_template_columns": null,
      "grid_template_rows": null,
      "height": null,
      "justify_content": null,
      "justify_items": null,
      "left": null,
      "margin": null,
      "max_height": null,
      "max_width": null,
      "min_height": null,
      "min_width": null,
      "object_fit": null,
      "object_position": null,
      "order": null,
      "overflow": null,
      "overflow_x": null,
      "overflow_y": null,
      "padding": null,
      "right": null,
      "top": null,
      "visibility": null,
      "width": null
     }
    },
    "354fdd4a6e064367be8398d996b63d38": {
     "model_module": "@jupyter-widgets/controls",
     "model_name": "HTMLModel",
     "state": {
      "_dom_classes": [],
      "_model_module": "@jupyter-widgets/controls",
      "_model_module_version": "1.5.0",
      "_model_name": "HTMLModel",
      "_view_count": null,
      "_view_module": "@jupyter-widgets/controls",
      "_view_module_version": "1.5.0",
      "_view_name": "HTMLView",
      "description": "",
      "description_tooltip": null,
      "layout": "IPY_MODEL_22e8567701184b729be80c57098badc4",
      "placeholder": "​",
      "style": "IPY_MODEL_3008461ae4e440d081f2f3ac46afa685",
      "value": " 150/? [01:10&lt;00:00,  2.12it/s]"
     }
    },
    "37454b94184a4a10a9affa6e84e74f43": {
     "model_module": "@jupyter-widgets/base",
     "model_name": "LayoutModel",
     "state": {
      "_model_module": "@jupyter-widgets/base",
      "_model_module_version": "1.2.0",
      "_model_name": "LayoutModel",
      "_view_count": null,
      "_view_module": "@jupyter-widgets/base",
      "_view_module_version": "1.2.0",
      "_view_name": "LayoutView",
      "align_content": null,
      "align_items": null,
      "align_self": null,
      "border": null,
      "bottom": null,
      "display": null,
      "flex": null,
      "flex_flow": null,
      "grid_area": null,
      "grid_auto_columns": null,
      "grid_auto_flow": null,
      "grid_auto_rows": null,
      "grid_column": null,
      "grid_gap": null,
      "grid_row": null,
      "grid_template_areas": null,
      "grid_template_columns": null,
      "grid_template_rows": null,
      "height": null,
      "justify_content": null,
      "justify_items": null,
      "left": null,
      "margin": null,
      "max_height": null,
      "max_width": null,
      "min_height": null,
      "min_width": null,
      "object_fit": null,
      "object_position": null,
      "order": null,
      "overflow": null,
      "overflow_x": null,
      "overflow_y": null,
      "padding": null,
      "right": null,
      "top": null,
      "visibility": null,
      "width": null
     }
    },
    "3856954e8b1e47a08fce9fff7a038027": {
     "model_module": "@jupyter-widgets/base",
     "model_name": "LayoutModel",
     "state": {
      "_model_module": "@jupyter-widgets/base",
      "_model_module_version": "1.2.0",
      "_model_name": "LayoutModel",
      "_view_count": null,
      "_view_module": "@jupyter-widgets/base",
      "_view_module_version": "1.2.0",
      "_view_name": "LayoutView",
      "align_content": null,
      "align_items": null,
      "align_self": null,
      "border": null,
      "bottom": null,
      "display": null,
      "flex": null,
      "flex_flow": null,
      "grid_area": null,
      "grid_auto_columns": null,
      "grid_auto_flow": null,
      "grid_auto_rows": null,
      "grid_column": null,
      "grid_gap": null,
      "grid_row": null,
      "grid_template_areas": null,
      "grid_template_columns": null,
      "grid_template_rows": null,
      "height": null,
      "justify_content": null,
      "justify_items": null,
      "left": null,
      "margin": null,
      "max_height": null,
      "max_width": null,
      "min_height": null,
      "min_width": null,
      "object_fit": null,
      "object_position": null,
      "order": null,
      "overflow": null,
      "overflow_x": null,
      "overflow_y": null,
      "padding": null,
      "right": null,
      "top": null,
      "visibility": null,
      "width": null
     }
    },
    "3c42fdea3dcd4f2bbd6ba10777f27db3": {
     "model_module": "@jupyter-widgets/base",
     "model_name": "LayoutModel",
     "state": {
      "_model_module": "@jupyter-widgets/base",
      "_model_module_version": "1.2.0",
      "_model_name": "LayoutModel",
      "_view_count": null,
      "_view_module": "@jupyter-widgets/base",
      "_view_module_version": "1.2.0",
      "_view_name": "LayoutView",
      "align_content": null,
      "align_items": null,
      "align_self": null,
      "border": null,
      "bottom": null,
      "display": null,
      "flex": null,
      "flex_flow": null,
      "grid_area": null,
      "grid_auto_columns": null,
      "grid_auto_flow": null,
      "grid_auto_rows": null,
      "grid_column": null,
      "grid_gap": null,
      "grid_row": null,
      "grid_template_areas": null,
      "grid_template_columns": null,
      "grid_template_rows": null,
      "height": null,
      "justify_content": null,
      "justify_items": null,
      "left": null,
      "margin": null,
      "max_height": null,
      "max_width": null,
      "min_height": null,
      "min_width": null,
      "object_fit": null,
      "object_position": null,
      "order": null,
      "overflow": null,
      "overflow_x": null,
      "overflow_y": null,
      "padding": null,
      "right": null,
      "top": null,
      "visibility": null,
      "width": null
     }
    },
    "40ef9fea4c03417db6bdc76b480fb59e": {
     "model_module": "@jupyter-widgets/controls",
     "model_name": "HBoxModel",
     "state": {
      "_dom_classes": [],
      "_model_module": "@jupyter-widgets/controls",
      "_model_module_version": "1.5.0",
      "_model_name": "HBoxModel",
      "_view_count": null,
      "_view_module": "@jupyter-widgets/controls",
      "_view_module_version": "1.5.0",
      "_view_name": "HBoxView",
      "box_style": "",
      "children": [
       "IPY_MODEL_8b5212a3ed9f49aea201644e1ed1ac53",
       "IPY_MODEL_a637e9d5dda44c3e9c8c3b9154b1b20d"
      ],
      "layout": "IPY_MODEL_3c42fdea3dcd4f2bbd6ba10777f27db3"
     }
    },
    "41ceec6b9c214b18891c8ab915d5c19c": {
     "model_module": "@jupyter-widgets/controls",
     "model_name": "DescriptionStyleModel",
     "state": {
      "_model_module": "@jupyter-widgets/controls",
      "_model_module_version": "1.5.0",
      "_model_name": "DescriptionStyleModel",
      "_view_count": null,
      "_view_module": "@jupyter-widgets/base",
      "_view_module_version": "1.2.0",
      "_view_name": "StyleView",
      "description_width": ""
     }
    },
    "430de0fcf9ce45799f8cec7b508a8f7f": {
     "model_module": "@jupyter-widgets/controls",
     "model_name": "HBoxModel",
     "state": {
      "_dom_classes": [],
      "_model_module": "@jupyter-widgets/controls",
      "_model_module_version": "1.5.0",
      "_model_name": "HBoxModel",
      "_view_count": null,
      "_view_module": "@jupyter-widgets/controls",
      "_view_module_version": "1.5.0",
      "_view_name": "HBoxView",
      "box_style": "",
      "children": [
       "IPY_MODEL_e2be21b2cc584489b535309b9c8904e3",
       "IPY_MODEL_354fdd4a6e064367be8398d996b63d38"
      ],
      "layout": "IPY_MODEL_99791d40ec534ebc9a7f4b01767f9aad"
     }
    },
    "471a09375e984a31824b27e279a6c4f3": {
     "model_module": "@jupyter-widgets/controls",
     "model_name": "FloatProgressModel",
     "state": {
      "_dom_classes": [],
      "_model_module": "@jupyter-widgets/controls",
      "_model_module_version": "1.5.0",
      "_model_name": "FloatProgressModel",
      "_view_count": null,
      "_view_module": "@jupyter-widgets/controls",
      "_view_module_version": "1.5.0",
      "_view_name": "ProgressView",
      "bar_style": "success",
      "description": "",
      "description_tooltip": null,
      "layout": "IPY_MODEL_37454b94184a4a10a9affa6e84e74f43",
      "max": 1,
      "min": 0,
      "orientation": "horizontal",
      "style": "IPY_MODEL_7a407d5347104eaa9ce6ec36250715d3",
      "value": 1
     }
    },
    "4778d193b45a4e2ca8871f19b195a26b": {
     "model_module": "@jupyter-widgets/base",
     "model_name": "LayoutModel",
     "state": {
      "_model_module": "@jupyter-widgets/base",
      "_model_module_version": "1.2.0",
      "_model_name": "LayoutModel",
      "_view_count": null,
      "_view_module": "@jupyter-widgets/base",
      "_view_module_version": "1.2.0",
      "_view_name": "LayoutView",
      "align_content": null,
      "align_items": null,
      "align_self": null,
      "border": null,
      "bottom": null,
      "display": null,
      "flex": null,
      "flex_flow": null,
      "grid_area": null,
      "grid_auto_columns": null,
      "grid_auto_flow": null,
      "grid_auto_rows": null,
      "grid_column": null,
      "grid_gap": null,
      "grid_row": null,
      "grid_template_areas": null,
      "grid_template_columns": null,
      "grid_template_rows": null,
      "height": null,
      "justify_content": null,
      "justify_items": null,
      "left": null,
      "margin": null,
      "max_height": null,
      "max_width": null,
      "min_height": null,
      "min_width": null,
      "object_fit": null,
      "object_position": null,
      "order": null,
      "overflow": null,
      "overflow_x": null,
      "overflow_y": null,
      "padding": null,
      "right": null,
      "top": null,
      "visibility": null,
      "width": null
     }
    },
    "4800749f8151430c8cc49570cd4ccaf7": {
     "model_module": "@jupyter-widgets/base",
     "model_name": "LayoutModel",
     "state": {
      "_model_module": "@jupyter-widgets/base",
      "_model_module_version": "1.2.0",
      "_model_name": "LayoutModel",
      "_view_count": null,
      "_view_module": "@jupyter-widgets/base",
      "_view_module_version": "1.2.0",
      "_view_name": "LayoutView",
      "align_content": null,
      "align_items": null,
      "align_self": null,
      "border": null,
      "bottom": null,
      "display": null,
      "flex": null,
      "flex_flow": null,
      "grid_area": null,
      "grid_auto_columns": null,
      "grid_auto_flow": null,
      "grid_auto_rows": null,
      "grid_column": null,
      "grid_gap": null,
      "grid_row": null,
      "grid_template_areas": null,
      "grid_template_columns": null,
      "grid_template_rows": null,
      "height": null,
      "justify_content": null,
      "justify_items": null,
      "left": null,
      "margin": null,
      "max_height": null,
      "max_width": null,
      "min_height": null,
      "min_width": null,
      "object_fit": null,
      "object_position": null,
      "order": null,
      "overflow": null,
      "overflow_x": null,
      "overflow_y": null,
      "padding": null,
      "right": null,
      "top": null,
      "visibility": null,
      "width": null
     }
    },
    "4a42cbf2455346818c8fb92da5665bca": {
     "model_module": "@jupyter-widgets/base",
     "model_name": "LayoutModel",
     "state": {
      "_model_module": "@jupyter-widgets/base",
      "_model_module_version": "1.2.0",
      "_model_name": "LayoutModel",
      "_view_count": null,
      "_view_module": "@jupyter-widgets/base",
      "_view_module_version": "1.2.0",
      "_view_name": "LayoutView",
      "align_content": null,
      "align_items": null,
      "align_self": null,
      "border": null,
      "bottom": null,
      "display": null,
      "flex": null,
      "flex_flow": null,
      "grid_area": null,
      "grid_auto_columns": null,
      "grid_auto_flow": null,
      "grid_auto_rows": null,
      "grid_column": null,
      "grid_gap": null,
      "grid_row": null,
      "grid_template_areas": null,
      "grid_template_columns": null,
      "grid_template_rows": null,
      "height": null,
      "justify_content": null,
      "justify_items": null,
      "left": null,
      "margin": null,
      "max_height": null,
      "max_width": null,
      "min_height": null,
      "min_width": null,
      "object_fit": null,
      "object_position": null,
      "order": null,
      "overflow": null,
      "overflow_x": null,
      "overflow_y": null,
      "padding": null,
      "right": null,
      "top": null,
      "visibility": null,
      "width": null
     }
    },
    "4d3bd152e2b14612bdec4f9692d48739": {
     "model_module": "@jupyter-widgets/base",
     "model_name": "LayoutModel",
     "state": {
      "_model_module": "@jupyter-widgets/base",
      "_model_module_version": "1.2.0",
      "_model_name": "LayoutModel",
      "_view_count": null,
      "_view_module": "@jupyter-widgets/base",
      "_view_module_version": "1.2.0",
      "_view_name": "LayoutView",
      "align_content": null,
      "align_items": null,
      "align_self": null,
      "border": null,
      "bottom": null,
      "display": null,
      "flex": null,
      "flex_flow": null,
      "grid_area": null,
      "grid_auto_columns": null,
      "grid_auto_flow": null,
      "grid_auto_rows": null,
      "grid_column": null,
      "grid_gap": null,
      "grid_row": null,
      "grid_template_areas": null,
      "grid_template_columns": null,
      "grid_template_rows": null,
      "height": null,
      "justify_content": null,
      "justify_items": null,
      "left": null,
      "margin": null,
      "max_height": null,
      "max_width": null,
      "min_height": null,
      "min_width": null,
      "object_fit": null,
      "object_position": null,
      "order": null,
      "overflow": null,
      "overflow_x": null,
      "overflow_y": null,
      "padding": null,
      "right": null,
      "top": null,
      "visibility": null,
      "width": null
     }
    },
    "4e394e72017442e989642afdc2b8abcb": {
     "model_module": "@jupyter-widgets/base",
     "model_name": "LayoutModel",
     "state": {
      "_model_module": "@jupyter-widgets/base",
      "_model_module_version": "1.2.0",
      "_model_name": "LayoutModel",
      "_view_count": null,
      "_view_module": "@jupyter-widgets/base",
      "_view_module_version": "1.2.0",
      "_view_name": "LayoutView",
      "align_content": null,
      "align_items": null,
      "align_self": null,
      "border": null,
      "bottom": null,
      "display": null,
      "flex": null,
      "flex_flow": null,
      "grid_area": null,
      "grid_auto_columns": null,
      "grid_auto_flow": null,
      "grid_auto_rows": null,
      "grid_column": null,
      "grid_gap": null,
      "grid_row": null,
      "grid_template_areas": null,
      "grid_template_columns": null,
      "grid_template_rows": null,
      "height": null,
      "justify_content": null,
      "justify_items": null,
      "left": null,
      "margin": null,
      "max_height": null,
      "max_width": null,
      "min_height": null,
      "min_width": null,
      "object_fit": null,
      "object_position": null,
      "order": null,
      "overflow": null,
      "overflow_x": null,
      "overflow_y": null,
      "padding": null,
      "right": null,
      "top": null,
      "visibility": null,
      "width": null
     }
    },
    "501fe7de2d29471c9ad3580ba42b274d": {
     "model_module": "@jupyter-widgets/base",
     "model_name": "LayoutModel",
     "state": {
      "_model_module": "@jupyter-widgets/base",
      "_model_module_version": "1.2.0",
      "_model_name": "LayoutModel",
      "_view_count": null,
      "_view_module": "@jupyter-widgets/base",
      "_view_module_version": "1.2.0",
      "_view_name": "LayoutView",
      "align_content": null,
      "align_items": null,
      "align_self": null,
      "border": null,
      "bottom": null,
      "display": null,
      "flex": null,
      "flex_flow": null,
      "grid_area": null,
      "grid_auto_columns": null,
      "grid_auto_flow": null,
      "grid_auto_rows": null,
      "grid_column": null,
      "grid_gap": null,
      "grid_row": null,
      "grid_template_areas": null,
      "grid_template_columns": null,
      "grid_template_rows": null,
      "height": null,
      "justify_content": null,
      "justify_items": null,
      "left": null,
      "margin": null,
      "max_height": null,
      "max_width": null,
      "min_height": null,
      "min_width": null,
      "object_fit": null,
      "object_position": null,
      "order": null,
      "overflow": null,
      "overflow_x": null,
      "overflow_y": null,
      "padding": null,
      "right": null,
      "top": null,
      "visibility": null,
      "width": null
     }
    },
    "53c9e46489fc4d708c7fe856173f3b12": {
     "model_module": "@jupyter-widgets/controls",
     "model_name": "HBoxModel",
     "state": {
      "_dom_classes": [],
      "_model_module": "@jupyter-widgets/controls",
      "_model_module_version": "1.5.0",
      "_model_name": "HBoxModel",
      "_view_count": null,
      "_view_module": "@jupyter-widgets/controls",
      "_view_module_version": "1.5.0",
      "_view_name": "HBoxView",
      "box_style": "",
      "children": [
       "IPY_MODEL_0cdd1f83587643f68b9cc4659ba75fb8",
       "IPY_MODEL_2732c77700724db3beb39d1c64469852"
      ],
      "layout": "IPY_MODEL_27afa2d568d6441690a6d0ee44e40e1c"
     }
    },
    "5605c8c2ad12431b88e1404953ecd6b9": {
     "model_module": "@jupyter-widgets/controls",
     "model_name": "ProgressStyleModel",
     "state": {
      "_model_module": "@jupyter-widgets/controls",
      "_model_module_version": "1.5.0",
      "_model_name": "ProgressStyleModel",
      "_view_count": null,
      "_view_module": "@jupyter-widgets/base",
      "_view_module_version": "1.2.0",
      "_view_name": "StyleView",
      "bar_color": null,
      "description_width": "initial"
     }
    },
    "58d8bd8caffa47788931111cd5d05409": {
     "model_module": "@jupyter-widgets/controls",
     "model_name": "DescriptionStyleModel",
     "state": {
      "_model_module": "@jupyter-widgets/controls",
      "_model_module_version": "1.5.0",
      "_model_name": "DescriptionStyleModel",
      "_view_count": null,
      "_view_module": "@jupyter-widgets/base",
      "_view_module_version": "1.2.0",
      "_view_name": "StyleView",
      "description_width": ""
     }
    },
    "58fa30020dc14801a78967796be9df3e": {
     "model_module": "@jupyter-widgets/controls",
     "model_name": "FloatProgressModel",
     "state": {
      "_dom_classes": [],
      "_model_module": "@jupyter-widgets/controls",
      "_model_module_version": "1.5.0",
      "_model_name": "FloatProgressModel",
      "_view_count": null,
      "_view_module": "@jupyter-widgets/controls",
      "_view_module_version": "1.5.0",
      "_view_name": "ProgressView",
      "bar_style": "success",
      "description": "",
      "description_tooltip": null,
      "layout": "IPY_MODEL_501fe7de2d29471c9ad3580ba42b274d",
      "max": 1,
      "min": 0,
      "orientation": "horizontal",
      "style": "IPY_MODEL_89f6bfd52126419ab7c6b6ba00894c24",
      "value": 1
     }
    },
    "598b0d3d4ba64ed48d511ce9dd360f64": {
     "model_module": "@jupyter-widgets/controls",
     "model_name": "ProgressStyleModel",
     "state": {
      "_model_module": "@jupyter-widgets/controls",
      "_model_module_version": "1.5.0",
      "_model_name": "ProgressStyleModel",
      "_view_count": null,
      "_view_module": "@jupyter-widgets/base",
      "_view_module_version": "1.2.0",
      "_view_name": "StyleView",
      "bar_color": null,
      "description_width": "initial"
     }
    },
    "6005029df2504711a96df12e14290100": {
     "model_module": "@jupyter-widgets/base",
     "model_name": "LayoutModel",
     "state": {
      "_model_module": "@jupyter-widgets/base",
      "_model_module_version": "1.2.0",
      "_model_name": "LayoutModel",
      "_view_count": null,
      "_view_module": "@jupyter-widgets/base",
      "_view_module_version": "1.2.0",
      "_view_name": "LayoutView",
      "align_content": null,
      "align_items": null,
      "align_self": null,
      "border": null,
      "bottom": null,
      "display": null,
      "flex": null,
      "flex_flow": null,
      "grid_area": null,
      "grid_auto_columns": null,
      "grid_auto_flow": null,
      "grid_auto_rows": null,
      "grid_column": null,
      "grid_gap": null,
      "grid_row": null,
      "grid_template_areas": null,
      "grid_template_columns": null,
      "grid_template_rows": null,
      "height": null,
      "justify_content": null,
      "justify_items": null,
      "left": null,
      "margin": null,
      "max_height": null,
      "max_width": null,
      "min_height": null,
      "min_width": null,
      "object_fit": null,
      "object_position": null,
      "order": null,
      "overflow": null,
      "overflow_x": null,
      "overflow_y": null,
      "padding": null,
      "right": null,
      "top": null,
      "visibility": null,
      "width": null
     }
    },
    "61a4358811654212bd669c1c6c40b4cd": {
     "model_module": "@jupyter-widgets/controls",
     "model_name": "FloatProgressModel",
     "state": {
      "_dom_classes": [],
      "_model_module": "@jupyter-widgets/controls",
      "_model_module_version": "1.5.0",
      "_model_name": "FloatProgressModel",
      "_view_count": null,
      "_view_module": "@jupyter-widgets/controls",
      "_view_module_version": "1.5.0",
      "_view_name": "ProgressView",
      "bar_style": "success",
      "description": "",
      "description_tooltip": null,
      "layout": "IPY_MODEL_2df67220b98547639c10a80ceb63b1ef",
      "max": 1,
      "min": 0,
      "orientation": "horizontal",
      "style": "IPY_MODEL_7b8fca08cafe4f7e9ad9f519bb005fd1",
      "value": 1
     }
    },
    "63ff13ee95f64beea555e0660be15eec": {
     "model_module": "@jupyter-widgets/controls",
     "model_name": "DescriptionStyleModel",
     "state": {
      "_model_module": "@jupyter-widgets/controls",
      "_model_module_version": "1.5.0",
      "_model_name": "DescriptionStyleModel",
      "_view_count": null,
      "_view_module": "@jupyter-widgets/base",
      "_view_module_version": "1.2.0",
      "_view_name": "StyleView",
      "description_width": ""
     }
    },
    "6736870c4aa94b20adeed80a00507dce": {
     "model_module": "@jupyter-widgets/controls",
     "model_name": "ProgressStyleModel",
     "state": {
      "_model_module": "@jupyter-widgets/controls",
      "_model_module_version": "1.5.0",
      "_model_name": "ProgressStyleModel",
      "_view_count": null,
      "_view_module": "@jupyter-widgets/base",
      "_view_module_version": "1.2.0",
      "_view_name": "StyleView",
      "bar_color": null,
      "description_width": "initial"
     }
    },
    "68ba61411c5d4097883b053f06493415": {
     "model_module": "@jupyter-widgets/controls",
     "model_name": "ProgressStyleModel",
     "state": {
      "_model_module": "@jupyter-widgets/controls",
      "_model_module_version": "1.5.0",
      "_model_name": "ProgressStyleModel",
      "_view_count": null,
      "_view_module": "@jupyter-widgets/base",
      "_view_module_version": "1.2.0",
      "_view_name": "StyleView",
      "bar_color": null,
      "description_width": "initial"
     }
    },
    "6e1089fcff4a4ad19de6fc9dfb87c171": {
     "model_module": "@jupyter-widgets/controls",
     "model_name": "FloatProgressModel",
     "state": {
      "_dom_classes": [],
      "_model_module": "@jupyter-widgets/controls",
      "_model_module_version": "1.5.0",
      "_model_name": "FloatProgressModel",
      "_view_count": null,
      "_view_module": "@jupyter-widgets/controls",
      "_view_module_version": "1.5.0",
      "_view_name": "ProgressView",
      "bar_style": "success",
      "description": "",
      "description_tooltip": null,
      "layout": "IPY_MODEL_0551f8a91cb547948703416f5c200c93",
      "max": 1,
      "min": 0,
      "orientation": "horizontal",
      "style": "IPY_MODEL_2f28dc0b45cc4b30acb85fecdc128397",
      "value": 1
     }
    },
    "7475bb3748de434eae59ef85715514da": {
     "model_module": "@jupyter-widgets/base",
     "model_name": "LayoutModel",
     "state": {
      "_model_module": "@jupyter-widgets/base",
      "_model_module_version": "1.2.0",
      "_model_name": "LayoutModel",
      "_view_count": null,
      "_view_module": "@jupyter-widgets/base",
      "_view_module_version": "1.2.0",
      "_view_name": "LayoutView",
      "align_content": null,
      "align_items": null,
      "align_self": null,
      "border": null,
      "bottom": null,
      "display": null,
      "flex": null,
      "flex_flow": null,
      "grid_area": null,
      "grid_auto_columns": null,
      "grid_auto_flow": null,
      "grid_auto_rows": null,
      "grid_column": null,
      "grid_gap": null,
      "grid_row": null,
      "grid_template_areas": null,
      "grid_template_columns": null,
      "grid_template_rows": null,
      "height": null,
      "justify_content": null,
      "justify_items": null,
      "left": null,
      "margin": null,
      "max_height": null,
      "max_width": null,
      "min_height": null,
      "min_width": null,
      "object_fit": null,
      "object_position": null,
      "order": null,
      "overflow": null,
      "overflow_x": null,
      "overflow_y": null,
      "padding": null,
      "right": null,
      "top": null,
      "visibility": null,
      "width": null
     }
    },
    "75b200a4d1cb4f1cab2204139ac8fff5": {
     "model_module": "@jupyter-widgets/base",
     "model_name": "LayoutModel",
     "state": {
      "_model_module": "@jupyter-widgets/base",
      "_model_module_version": "1.2.0",
      "_model_name": "LayoutModel",
      "_view_count": null,
      "_view_module": "@jupyter-widgets/base",
      "_view_module_version": "1.2.0",
      "_view_name": "LayoutView",
      "align_content": null,
      "align_items": null,
      "align_self": null,
      "border": null,
      "bottom": null,
      "display": null,
      "flex": null,
      "flex_flow": null,
      "grid_area": null,
      "grid_auto_columns": null,
      "grid_auto_flow": null,
      "grid_auto_rows": null,
      "grid_column": null,
      "grid_gap": null,
      "grid_row": null,
      "grid_template_areas": null,
      "grid_template_columns": null,
      "grid_template_rows": null,
      "height": null,
      "justify_content": null,
      "justify_items": null,
      "left": null,
      "margin": null,
      "max_height": null,
      "max_width": null,
      "min_height": null,
      "min_width": null,
      "object_fit": null,
      "object_position": null,
      "order": null,
      "overflow": null,
      "overflow_x": null,
      "overflow_y": null,
      "padding": null,
      "right": null,
      "top": null,
      "visibility": null,
      "width": null
     }
    },
    "7a0883324f8b4256adf0e8a54c77524f": {
     "model_module": "@jupyter-widgets/base",
     "model_name": "LayoutModel",
     "state": {
      "_model_module": "@jupyter-widgets/base",
      "_model_module_version": "1.2.0",
      "_model_name": "LayoutModel",
      "_view_count": null,
      "_view_module": "@jupyter-widgets/base",
      "_view_module_version": "1.2.0",
      "_view_name": "LayoutView",
      "align_content": null,
      "align_items": null,
      "align_self": null,
      "border": null,
      "bottom": null,
      "display": null,
      "flex": null,
      "flex_flow": null,
      "grid_area": null,
      "grid_auto_columns": null,
      "grid_auto_flow": null,
      "grid_auto_rows": null,
      "grid_column": null,
      "grid_gap": null,
      "grid_row": null,
      "grid_template_areas": null,
      "grid_template_columns": null,
      "grid_template_rows": null,
      "height": null,
      "justify_content": null,
      "justify_items": null,
      "left": null,
      "margin": null,
      "max_height": null,
      "max_width": null,
      "min_height": null,
      "min_width": null,
      "object_fit": null,
      "object_position": null,
      "order": null,
      "overflow": null,
      "overflow_x": null,
      "overflow_y": null,
      "padding": null,
      "right": null,
      "top": null,
      "visibility": null,
      "width": null
     }
    },
    "7a407d5347104eaa9ce6ec36250715d3": {
     "model_module": "@jupyter-widgets/controls",
     "model_name": "ProgressStyleModel",
     "state": {
      "_model_module": "@jupyter-widgets/controls",
      "_model_module_version": "1.5.0",
      "_model_name": "ProgressStyleModel",
      "_view_count": null,
      "_view_module": "@jupyter-widgets/base",
      "_view_module_version": "1.2.0",
      "_view_name": "StyleView",
      "bar_color": null,
      "description_width": "initial"
     }
    },
    "7b8fca08cafe4f7e9ad9f519bb005fd1": {
     "model_module": "@jupyter-widgets/controls",
     "model_name": "ProgressStyleModel",
     "state": {
      "_model_module": "@jupyter-widgets/controls",
      "_model_module_version": "1.5.0",
      "_model_name": "ProgressStyleModel",
      "_view_count": null,
      "_view_module": "@jupyter-widgets/base",
      "_view_module_version": "1.2.0",
      "_view_name": "StyleView",
      "bar_color": null,
      "description_width": "initial"
     }
    },
    "8365405f8a1c4d178b5ab5cd9d905e32": {
     "model_module": "@jupyter-widgets/controls",
     "model_name": "ProgressStyleModel",
     "state": {
      "_model_module": "@jupyter-widgets/controls",
      "_model_module_version": "1.5.0",
      "_model_name": "ProgressStyleModel",
      "_view_count": null,
      "_view_module": "@jupyter-widgets/base",
      "_view_module_version": "1.2.0",
      "_view_name": "StyleView",
      "bar_color": null,
      "description_width": "initial"
     }
    },
    "838fc6b6bb704fd897d9145830d7bb9f": {
     "model_module": "@jupyter-widgets/base",
     "model_name": "LayoutModel",
     "state": {
      "_model_module": "@jupyter-widgets/base",
      "_model_module_version": "1.2.0",
      "_model_name": "LayoutModel",
      "_view_count": null,
      "_view_module": "@jupyter-widgets/base",
      "_view_module_version": "1.2.0",
      "_view_name": "LayoutView",
      "align_content": null,
      "align_items": null,
      "align_self": null,
      "border": null,
      "bottom": null,
      "display": null,
      "flex": null,
      "flex_flow": null,
      "grid_area": null,
      "grid_auto_columns": null,
      "grid_auto_flow": null,
      "grid_auto_rows": null,
      "grid_column": null,
      "grid_gap": null,
      "grid_row": null,
      "grid_template_areas": null,
      "grid_template_columns": null,
      "grid_template_rows": null,
      "height": null,
      "justify_content": null,
      "justify_items": null,
      "left": null,
      "margin": null,
      "max_height": null,
      "max_width": null,
      "min_height": null,
      "min_width": null,
      "object_fit": null,
      "object_position": null,
      "order": null,
      "overflow": null,
      "overflow_x": null,
      "overflow_y": null,
      "padding": null,
      "right": null,
      "top": null,
      "visibility": null,
      "width": null
     }
    },
    "8503f63352114056ace6ee5662d746da": {
     "model_module": "@jupyter-widgets/controls",
     "model_name": "ProgressStyleModel",
     "state": {
      "_model_module": "@jupyter-widgets/controls",
      "_model_module_version": "1.5.0",
      "_model_name": "ProgressStyleModel",
      "_view_count": null,
      "_view_module": "@jupyter-widgets/base",
      "_view_module_version": "1.2.0",
      "_view_name": "StyleView",
      "bar_color": null,
      "description_width": "initial"
     }
    },
    "864cb033af344f22b288a320088ec71c": {
     "model_module": "@jupyter-widgets/base",
     "model_name": "LayoutModel",
     "state": {
      "_model_module": "@jupyter-widgets/base",
      "_model_module_version": "1.2.0",
      "_model_name": "LayoutModel",
      "_view_count": null,
      "_view_module": "@jupyter-widgets/base",
      "_view_module_version": "1.2.0",
      "_view_name": "LayoutView",
      "align_content": null,
      "align_items": null,
      "align_self": null,
      "border": null,
      "bottom": null,
      "display": null,
      "flex": null,
      "flex_flow": null,
      "grid_area": null,
      "grid_auto_columns": null,
      "grid_auto_flow": null,
      "grid_auto_rows": null,
      "grid_column": null,
      "grid_gap": null,
      "grid_row": null,
      "grid_template_areas": null,
      "grid_template_columns": null,
      "grid_template_rows": null,
      "height": null,
      "justify_content": null,
      "justify_items": null,
      "left": null,
      "margin": null,
      "max_height": null,
      "max_width": null,
      "min_height": null,
      "min_width": null,
      "object_fit": null,
      "object_position": null,
      "order": null,
      "overflow": null,
      "overflow_x": null,
      "overflow_y": null,
      "padding": null,
      "right": null,
      "top": null,
      "visibility": null,
      "width": null
     }
    },
    "87a5e794f5ff408ebbf2a740a7560adb": {
     "model_module": "@jupyter-widgets/controls",
     "model_name": "DescriptionStyleModel",
     "state": {
      "_model_module": "@jupyter-widgets/controls",
      "_model_module_version": "1.5.0",
      "_model_name": "DescriptionStyleModel",
      "_view_count": null,
      "_view_module": "@jupyter-widgets/base",
      "_view_module_version": "1.2.0",
      "_view_name": "StyleView",
      "description_width": ""
     }
    },
    "888804a45395411cb9db622b0e6878cb": {
     "model_module": "@jupyter-widgets/base",
     "model_name": "LayoutModel",
     "state": {
      "_model_module": "@jupyter-widgets/base",
      "_model_module_version": "1.2.0",
      "_model_name": "LayoutModel",
      "_view_count": null,
      "_view_module": "@jupyter-widgets/base",
      "_view_module_version": "1.2.0",
      "_view_name": "LayoutView",
      "align_content": null,
      "align_items": null,
      "align_self": null,
      "border": null,
      "bottom": null,
      "display": null,
      "flex": null,
      "flex_flow": null,
      "grid_area": null,
      "grid_auto_columns": null,
      "grid_auto_flow": null,
      "grid_auto_rows": null,
      "grid_column": null,
      "grid_gap": null,
      "grid_row": null,
      "grid_template_areas": null,
      "grid_template_columns": null,
      "grid_template_rows": null,
      "height": null,
      "justify_content": null,
      "justify_items": null,
      "left": null,
      "margin": null,
      "max_height": null,
      "max_width": null,
      "min_height": null,
      "min_width": null,
      "object_fit": null,
      "object_position": null,
      "order": null,
      "overflow": null,
      "overflow_x": null,
      "overflow_y": null,
      "padding": null,
      "right": null,
      "top": null,
      "visibility": null,
      "width": null
     }
    },
    "89f6bfd52126419ab7c6b6ba00894c24": {
     "model_module": "@jupyter-widgets/controls",
     "model_name": "ProgressStyleModel",
     "state": {
      "_model_module": "@jupyter-widgets/controls",
      "_model_module_version": "1.5.0",
      "_model_name": "ProgressStyleModel",
      "_view_count": null,
      "_view_module": "@jupyter-widgets/base",
      "_view_module_version": "1.2.0",
      "_view_name": "StyleView",
      "bar_color": null,
      "description_width": "initial"
     }
    },
    "8b0a112033ab4a3a9a970c6eaaec5531": {
     "model_module": "@jupyter-widgets/controls",
     "model_name": "HBoxModel",
     "state": {
      "_dom_classes": [],
      "_model_module": "@jupyter-widgets/controls",
      "_model_module_version": "1.5.0",
      "_model_name": "HBoxModel",
      "_view_count": null,
      "_view_module": "@jupyter-widgets/controls",
      "_view_module_version": "1.5.0",
      "_view_name": "HBoxView",
      "box_style": "",
      "children": [
       "IPY_MODEL_8ef3688940ae4ff4840fc3ca4c231125",
       "IPY_MODEL_f7dd810e69fa4f1f91acaec17fb8c64a"
      ],
      "layout": "IPY_MODEL_9acb641a7ede4dd6b68097dbff290ce1"
     }
    },
    "8b5212a3ed9f49aea201644e1ed1ac53": {
     "model_module": "@jupyter-widgets/controls",
     "model_name": "FloatProgressModel",
     "state": {
      "_dom_classes": [],
      "_model_module": "@jupyter-widgets/controls",
      "_model_module_version": "1.5.0",
      "_model_name": "FloatProgressModel",
      "_view_count": null,
      "_view_module": "@jupyter-widgets/controls",
      "_view_module_version": "1.5.0",
      "_view_name": "ProgressView",
      "bar_style": "success",
      "description": "",
      "description_tooltip": null,
      "layout": "IPY_MODEL_4e394e72017442e989642afdc2b8abcb",
      "max": 1,
      "min": 0,
      "orientation": "horizontal",
      "style": "IPY_MODEL_e7ccb000bd83423fb4693a908c638ddb",
      "value": 1
     }
    },
    "8ef3688940ae4ff4840fc3ca4c231125": {
     "model_module": "@jupyter-widgets/controls",
     "model_name": "FloatProgressModel",
     "state": {
      "_dom_classes": [],
      "_model_module": "@jupyter-widgets/controls",
      "_model_module_version": "1.5.0",
      "_model_name": "FloatProgressModel",
      "_view_count": null,
      "_view_module": "@jupyter-widgets/controls",
      "_view_module_version": "1.5.0",
      "_view_name": "ProgressView",
      "bar_style": "success",
      "description": "",
      "description_tooltip": null,
      "layout": "IPY_MODEL_838fc6b6bb704fd897d9145830d7bb9f",
      "max": 1,
      "min": 0,
      "orientation": "horizontal",
      "style": "IPY_MODEL_68ba61411c5d4097883b053f06493415",
      "value": 1
     }
    },
    "906c310a405b4822a19d206cf3467f9b": {
     "model_module": "@jupyter-widgets/controls",
     "model_name": "HBoxModel",
     "state": {
      "_dom_classes": [],
      "_model_module": "@jupyter-widgets/controls",
      "_model_module_version": "1.5.0",
      "_model_name": "HBoxModel",
      "_view_count": null,
      "_view_module": "@jupyter-widgets/controls",
      "_view_module_version": "1.5.0",
      "_view_name": "HBoxView",
      "box_style": "",
      "children": [
       "IPY_MODEL_61a4358811654212bd669c1c6c40b4cd",
       "IPY_MODEL_917a8ab6a55b4cd382b1cd1982d5a227"
      ],
      "layout": "IPY_MODEL_75b200a4d1cb4f1cab2204139ac8fff5"
     }
    },
    "90937a3fdc314010948a13e9e2c70e40": {
     "model_module": "@jupyter-widgets/controls",
     "model_name": "HTMLModel",
     "state": {
      "_dom_classes": [],
      "_model_module": "@jupyter-widgets/controls",
      "_model_module_version": "1.5.0",
      "_model_name": "HTMLModel",
      "_view_count": null,
      "_view_module": "@jupyter-widgets/controls",
      "_view_module_version": "1.5.0",
      "_view_name": "HTMLView",
      "description": "",
      "description_tooltip": null,
      "layout": "IPY_MODEL_2004cd6b66034fdda39e09c4ea44b3ce",
      "placeholder": "​",
      "style": "IPY_MODEL_a56cd84f576841259aace5b34b0efda7",
      "value": " 150/? [14:16&lt;00:00,  5.71s/it]"
     }
    },
    "90f39af76e9846b18c45633dce765584": {
     "model_module": "@jupyter-widgets/controls",
     "model_name": "HBoxModel",
     "state": {
      "_dom_classes": [],
      "_model_module": "@jupyter-widgets/controls",
      "_model_module_version": "1.5.0",
      "_model_name": "HBoxModel",
      "_view_count": null,
      "_view_module": "@jupyter-widgets/controls",
      "_view_module_version": "1.5.0",
      "_view_name": "HBoxView",
      "box_style": "",
      "children": [
       "IPY_MODEL_d2a4e7e937804562a63d0191223c0dd0",
       "IPY_MODEL_02d1d8ffcf3a4873880bb4ec2b7eefbf"
      ],
      "layout": "IPY_MODEL_4a42cbf2455346818c8fb92da5665bca"
     }
    },
    "917a8ab6a55b4cd382b1cd1982d5a227": {
     "model_module": "@jupyter-widgets/controls",
     "model_name": "HTMLModel",
     "state": {
      "_dom_classes": [],
      "_model_module": "@jupyter-widgets/controls",
      "_model_module_version": "1.5.0",
      "_model_name": "HTMLModel",
      "_view_count": null,
      "_view_module": "@jupyter-widgets/controls",
      "_view_module_version": "1.5.0",
      "_view_name": "HTMLView",
      "description": "",
      "description_tooltip": null,
      "layout": "IPY_MODEL_4778d193b45a4e2ca8871f19b195a26b",
      "placeholder": "​",
      "style": "IPY_MODEL_58d8bd8caffa47788931111cd5d05409",
      "value": " 150/? [01:08&lt;00:00,  2.18it/s]"
     }
    },
    "940db33506ef463788996553c4bf5f74": {
     "model_module": "@jupyter-widgets/base",
     "model_name": "LayoutModel",
     "state": {
      "_model_module": "@jupyter-widgets/base",
      "_model_module_version": "1.2.0",
      "_model_name": "LayoutModel",
      "_view_count": null,
      "_view_module": "@jupyter-widgets/base",
      "_view_module_version": "1.2.0",
      "_view_name": "LayoutView",
      "align_content": null,
      "align_items": null,
      "align_self": null,
      "border": null,
      "bottom": null,
      "display": null,
      "flex": null,
      "flex_flow": null,
      "grid_area": null,
      "grid_auto_columns": null,
      "grid_auto_flow": null,
      "grid_auto_rows": null,
      "grid_column": null,
      "grid_gap": null,
      "grid_row": null,
      "grid_template_areas": null,
      "grid_template_columns": null,
      "grid_template_rows": null,
      "height": null,
      "justify_content": null,
      "justify_items": null,
      "left": null,
      "margin": null,
      "max_height": null,
      "max_width": null,
      "min_height": null,
      "min_width": null,
      "object_fit": null,
      "object_position": null,
      "order": null,
      "overflow": null,
      "overflow_x": null,
      "overflow_y": null,
      "padding": null,
      "right": null,
      "top": null,
      "visibility": null,
      "width": null
     }
    },
    "9459d0d307814c34aa8a31945a82adb7": {
     "model_module": "@jupyter-widgets/base",
     "model_name": "LayoutModel",
     "state": {
      "_model_module": "@jupyter-widgets/base",
      "_model_module_version": "1.2.0",
      "_model_name": "LayoutModel",
      "_view_count": null,
      "_view_module": "@jupyter-widgets/base",
      "_view_module_version": "1.2.0",
      "_view_name": "LayoutView",
      "align_content": null,
      "align_items": null,
      "align_self": null,
      "border": null,
      "bottom": null,
      "display": null,
      "flex": null,
      "flex_flow": null,
      "grid_area": null,
      "grid_auto_columns": null,
      "grid_auto_flow": null,
      "grid_auto_rows": null,
      "grid_column": null,
      "grid_gap": null,
      "grid_row": null,
      "grid_template_areas": null,
      "grid_template_columns": null,
      "grid_template_rows": null,
      "height": null,
      "justify_content": null,
      "justify_items": null,
      "left": null,
      "margin": null,
      "max_height": null,
      "max_width": null,
      "min_height": null,
      "min_width": null,
      "object_fit": null,
      "object_position": null,
      "order": null,
      "overflow": null,
      "overflow_x": null,
      "overflow_y": null,
      "padding": null,
      "right": null,
      "top": null,
      "visibility": null,
      "width": null
     }
    },
    "9712936912b84e498783132d111037bf": {
     "model_module": "@jupyter-widgets/controls",
     "model_name": "HTMLModel",
     "state": {
      "_dom_classes": [],
      "_model_module": "@jupyter-widgets/controls",
      "_model_module_version": "1.5.0",
      "_model_name": "HTMLModel",
      "_view_count": null,
      "_view_module": "@jupyter-widgets/controls",
      "_view_module_version": "1.5.0",
      "_view_name": "HTMLView",
      "description": "",
      "description_tooltip": null,
      "layout": "IPY_MODEL_e595378941654a4dbe560a646dc52272",
      "placeholder": "​",
      "style": "IPY_MODEL_9e0d68b268384372ae1ec48b6c363b3a",
      "value": " 150/? [1:39:19&lt;00:00, 39.73s/it]"
     }
    },
    "992143ed056d4a23afff16b83c514432": {
     "model_module": "@jupyter-widgets/base",
     "model_name": "LayoutModel",
     "state": {
      "_model_module": "@jupyter-widgets/base",
      "_model_module_version": "1.2.0",
      "_model_name": "LayoutModel",
      "_view_count": null,
      "_view_module": "@jupyter-widgets/base",
      "_view_module_version": "1.2.0",
      "_view_name": "LayoutView",
      "align_content": null,
      "align_items": null,
      "align_self": null,
      "border": null,
      "bottom": null,
      "display": null,
      "flex": null,
      "flex_flow": null,
      "grid_area": null,
      "grid_auto_columns": null,
      "grid_auto_flow": null,
      "grid_auto_rows": null,
      "grid_column": null,
      "grid_gap": null,
      "grid_row": null,
      "grid_template_areas": null,
      "grid_template_columns": null,
      "grid_template_rows": null,
      "height": null,
      "justify_content": null,
      "justify_items": null,
      "left": null,
      "margin": null,
      "max_height": null,
      "max_width": null,
      "min_height": null,
      "min_width": null,
      "object_fit": null,
      "object_position": null,
      "order": null,
      "overflow": null,
      "overflow_x": null,
      "overflow_y": null,
      "padding": null,
      "right": null,
      "top": null,
      "visibility": null,
      "width": null
     }
    },
    "99791d40ec534ebc9a7f4b01767f9aad": {
     "model_module": "@jupyter-widgets/base",
     "model_name": "LayoutModel",
     "state": {
      "_model_module": "@jupyter-widgets/base",
      "_model_module_version": "1.2.0",
      "_model_name": "LayoutModel",
      "_view_count": null,
      "_view_module": "@jupyter-widgets/base",
      "_view_module_version": "1.2.0",
      "_view_name": "LayoutView",
      "align_content": null,
      "align_items": null,
      "align_self": null,
      "border": null,
      "bottom": null,
      "display": null,
      "flex": null,
      "flex_flow": null,
      "grid_area": null,
      "grid_auto_columns": null,
      "grid_auto_flow": null,
      "grid_auto_rows": null,
      "grid_column": null,
      "grid_gap": null,
      "grid_row": null,
      "grid_template_areas": null,
      "grid_template_columns": null,
      "grid_template_rows": null,
      "height": null,
      "justify_content": null,
      "justify_items": null,
      "left": null,
      "margin": null,
      "max_height": null,
      "max_width": null,
      "min_height": null,
      "min_width": null,
      "object_fit": null,
      "object_position": null,
      "order": null,
      "overflow": null,
      "overflow_x": null,
      "overflow_y": null,
      "padding": null,
      "right": null,
      "top": null,
      "visibility": null,
      "width": null
     }
    },
    "9a9728af9dcb4e67a1a006297cd7b74c": {
     "model_module": "@jupyter-widgets/base",
     "model_name": "LayoutModel",
     "state": {
      "_model_module": "@jupyter-widgets/base",
      "_model_module_version": "1.2.0",
      "_model_name": "LayoutModel",
      "_view_count": null,
      "_view_module": "@jupyter-widgets/base",
      "_view_module_version": "1.2.0",
      "_view_name": "LayoutView",
      "align_content": null,
      "align_items": null,
      "align_self": null,
      "border": null,
      "bottom": null,
      "display": null,
      "flex": null,
      "flex_flow": null,
      "grid_area": null,
      "grid_auto_columns": null,
      "grid_auto_flow": null,
      "grid_auto_rows": null,
      "grid_column": null,
      "grid_gap": null,
      "grid_row": null,
      "grid_template_areas": null,
      "grid_template_columns": null,
      "grid_template_rows": null,
      "height": null,
      "justify_content": null,
      "justify_items": null,
      "left": null,
      "margin": null,
      "max_height": null,
      "max_width": null,
      "min_height": null,
      "min_width": null,
      "object_fit": null,
      "object_position": null,
      "order": null,
      "overflow": null,
      "overflow_x": null,
      "overflow_y": null,
      "padding": null,
      "right": null,
      "top": null,
      "visibility": null,
      "width": null
     }
    },
    "9acb641a7ede4dd6b68097dbff290ce1": {
     "model_module": "@jupyter-widgets/base",
     "model_name": "LayoutModel",
     "state": {
      "_model_module": "@jupyter-widgets/base",
      "_model_module_version": "1.2.0",
      "_model_name": "LayoutModel",
      "_view_count": null,
      "_view_module": "@jupyter-widgets/base",
      "_view_module_version": "1.2.0",
      "_view_name": "LayoutView",
      "align_content": null,
      "align_items": null,
      "align_self": null,
      "border": null,
      "bottom": null,
      "display": null,
      "flex": null,
      "flex_flow": null,
      "grid_area": null,
      "grid_auto_columns": null,
      "grid_auto_flow": null,
      "grid_auto_rows": null,
      "grid_column": null,
      "grid_gap": null,
      "grid_row": null,
      "grid_template_areas": null,
      "grid_template_columns": null,
      "grid_template_rows": null,
      "height": null,
      "justify_content": null,
      "justify_items": null,
      "left": null,
      "margin": null,
      "max_height": null,
      "max_width": null,
      "min_height": null,
      "min_width": null,
      "object_fit": null,
      "object_position": null,
      "order": null,
      "overflow": null,
      "overflow_x": null,
      "overflow_y": null,
      "padding": null,
      "right": null,
      "top": null,
      "visibility": null,
      "width": null
     }
    },
    "9d3ae70779e447d0aa495a9872209d38": {
     "model_module": "@jupyter-widgets/base",
     "model_name": "LayoutModel",
     "state": {
      "_model_module": "@jupyter-widgets/base",
      "_model_module_version": "1.2.0",
      "_model_name": "LayoutModel",
      "_view_count": null,
      "_view_module": "@jupyter-widgets/base",
      "_view_module_version": "1.2.0",
      "_view_name": "LayoutView",
      "align_content": null,
      "align_items": null,
      "align_self": null,
      "border": null,
      "bottom": null,
      "display": null,
      "flex": null,
      "flex_flow": null,
      "grid_area": null,
      "grid_auto_columns": null,
      "grid_auto_flow": null,
      "grid_auto_rows": null,
      "grid_column": null,
      "grid_gap": null,
      "grid_row": null,
      "grid_template_areas": null,
      "grid_template_columns": null,
      "grid_template_rows": null,
      "height": null,
      "justify_content": null,
      "justify_items": null,
      "left": null,
      "margin": null,
      "max_height": null,
      "max_width": null,
      "min_height": null,
      "min_width": null,
      "object_fit": null,
      "object_position": null,
      "order": null,
      "overflow": null,
      "overflow_x": null,
      "overflow_y": null,
      "padding": null,
      "right": null,
      "top": null,
      "visibility": null,
      "width": null
     }
    },
    "9e0d68b268384372ae1ec48b6c363b3a": {
     "model_module": "@jupyter-widgets/controls",
     "model_name": "DescriptionStyleModel",
     "state": {
      "_model_module": "@jupyter-widgets/controls",
      "_model_module_version": "1.5.0",
      "_model_name": "DescriptionStyleModel",
      "_view_count": null,
      "_view_module": "@jupyter-widgets/base",
      "_view_module_version": "1.2.0",
      "_view_name": "StyleView",
      "description_width": ""
     }
    },
    "9efdf4e9fd8c42598cced165c426f5bf": {
     "model_module": "@jupyter-widgets/base",
     "model_name": "LayoutModel",
     "state": {
      "_model_module": "@jupyter-widgets/base",
      "_model_module_version": "1.2.0",
      "_model_name": "LayoutModel",
      "_view_count": null,
      "_view_module": "@jupyter-widgets/base",
      "_view_module_version": "1.2.0",
      "_view_name": "LayoutView",
      "align_content": null,
      "align_items": null,
      "align_self": null,
      "border": null,
      "bottom": null,
      "display": null,
      "flex": null,
      "flex_flow": null,
      "grid_area": null,
      "grid_auto_columns": null,
      "grid_auto_flow": null,
      "grid_auto_rows": null,
      "grid_column": null,
      "grid_gap": null,
      "grid_row": null,
      "grid_template_areas": null,
      "grid_template_columns": null,
      "grid_template_rows": null,
      "height": null,
      "justify_content": null,
      "justify_items": null,
      "left": null,
      "margin": null,
      "max_height": null,
      "max_width": null,
      "min_height": null,
      "min_width": null,
      "object_fit": null,
      "object_position": null,
      "order": null,
      "overflow": null,
      "overflow_x": null,
      "overflow_y": null,
      "padding": null,
      "right": null,
      "top": null,
      "visibility": null,
      "width": null
     }
    },
    "a2026ad15de541eebf332cb4ce4e1ad2": {
     "model_module": "@jupyter-widgets/base",
     "model_name": "LayoutModel",
     "state": {
      "_model_module": "@jupyter-widgets/base",
      "_model_module_version": "1.2.0",
      "_model_name": "LayoutModel",
      "_view_count": null,
      "_view_module": "@jupyter-widgets/base",
      "_view_module_version": "1.2.0",
      "_view_name": "LayoutView",
      "align_content": null,
      "align_items": null,
      "align_self": null,
      "border": null,
      "bottom": null,
      "display": null,
      "flex": null,
      "flex_flow": null,
      "grid_area": null,
      "grid_auto_columns": null,
      "grid_auto_flow": null,
      "grid_auto_rows": null,
      "grid_column": null,
      "grid_gap": null,
      "grid_row": null,
      "grid_template_areas": null,
      "grid_template_columns": null,
      "grid_template_rows": null,
      "height": null,
      "justify_content": null,
      "justify_items": null,
      "left": null,
      "margin": null,
      "max_height": null,
      "max_width": null,
      "min_height": null,
      "min_width": null,
      "object_fit": null,
      "object_position": null,
      "order": null,
      "overflow": null,
      "overflow_x": null,
      "overflow_y": null,
      "padding": null,
      "right": null,
      "top": null,
      "visibility": null,
      "width": null
     }
    },
    "a33ce8bb19284323a89a317403263c0d": {
     "model_module": "@jupyter-widgets/controls",
     "model_name": "FloatProgressModel",
     "state": {
      "_dom_classes": [],
      "_model_module": "@jupyter-widgets/controls",
      "_model_module_version": "1.5.0",
      "_model_name": "FloatProgressModel",
      "_view_count": null,
      "_view_module": "@jupyter-widgets/controls",
      "_view_module_version": "1.5.0",
      "_view_name": "ProgressView",
      "bar_style": "success",
      "description": "",
      "description_tooltip": null,
      "layout": "IPY_MODEL_a2026ad15de541eebf332cb4ce4e1ad2",
      "max": 1,
      "min": 0,
      "orientation": "horizontal",
      "style": "IPY_MODEL_b506bbd1464b407980a6ef55a7819828",
      "value": 1
     }
    },
    "a504d4571ae54c97a6fb586051f17b07": {
     "model_module": "@jupyter-widgets/base",
     "model_name": "LayoutModel",
     "state": {
      "_model_module": "@jupyter-widgets/base",
      "_model_module_version": "1.2.0",
      "_model_name": "LayoutModel",
      "_view_count": null,
      "_view_module": "@jupyter-widgets/base",
      "_view_module_version": "1.2.0",
      "_view_name": "LayoutView",
      "align_content": null,
      "align_items": null,
      "align_self": null,
      "border": null,
      "bottom": null,
      "display": null,
      "flex": null,
      "flex_flow": null,
      "grid_area": null,
      "grid_auto_columns": null,
      "grid_auto_flow": null,
      "grid_auto_rows": null,
      "grid_column": null,
      "grid_gap": null,
      "grid_row": null,
      "grid_template_areas": null,
      "grid_template_columns": null,
      "grid_template_rows": null,
      "height": null,
      "justify_content": null,
      "justify_items": null,
      "left": null,
      "margin": null,
      "max_height": null,
      "max_width": null,
      "min_height": null,
      "min_width": null,
      "object_fit": null,
      "object_position": null,
      "order": null,
      "overflow": null,
      "overflow_x": null,
      "overflow_y": null,
      "padding": null,
      "right": null,
      "top": null,
      "visibility": null,
      "width": null
     }
    },
    "a56cd84f576841259aace5b34b0efda7": {
     "model_module": "@jupyter-widgets/controls",
     "model_name": "DescriptionStyleModel",
     "state": {
      "_model_module": "@jupyter-widgets/controls",
      "_model_module_version": "1.5.0",
      "_model_name": "DescriptionStyleModel",
      "_view_count": null,
      "_view_module": "@jupyter-widgets/base",
      "_view_module_version": "1.2.0",
      "_view_name": "StyleView",
      "description_width": ""
     }
    },
    "a633f4726f6a4ba5babb0e0414e6c5e1": {
     "model_module": "@jupyter-widgets/controls",
     "model_name": "HBoxModel",
     "state": {
      "_dom_classes": [],
      "_model_module": "@jupyter-widgets/controls",
      "_model_module_version": "1.5.0",
      "_model_name": "HBoxModel",
      "_view_count": null,
      "_view_module": "@jupyter-widgets/controls",
      "_view_module_version": "1.5.0",
      "_view_name": "HBoxView",
      "box_style": "",
      "children": [
       "IPY_MODEL_58fa30020dc14801a78967796be9df3e",
       "IPY_MODEL_9712936912b84e498783132d111037bf"
      ],
      "layout": "IPY_MODEL_007752d9ce5e47f480ae606afeb2cd16"
     }
    },
    "a637e9d5dda44c3e9c8c3b9154b1b20d": {
     "model_module": "@jupyter-widgets/controls",
     "model_name": "HTMLModel",
     "state": {
      "_dom_classes": [],
      "_model_module": "@jupyter-widgets/controls",
      "_model_module_version": "1.5.0",
      "_model_name": "HTMLModel",
      "_view_count": null,
      "_view_module": "@jupyter-widgets/controls",
      "_view_module_version": "1.5.0",
      "_view_name": "HTMLView",
      "description": "",
      "description_tooltip": null,
      "layout": "IPY_MODEL_200ba008099045719694899c681c2d16",
      "placeholder": "​",
      "style": "IPY_MODEL_87a5e794f5ff408ebbf2a740a7560adb",
      "value": " 150/? [14:12&lt;00:00,  5.68s/it]"
     }
    },
    "a694fbafc40c41e98fe568668e4db732": {
     "model_module": "@jupyter-widgets/controls",
     "model_name": "HTMLModel",
     "state": {
      "_dom_classes": [],
      "_model_module": "@jupyter-widgets/controls",
      "_model_module_version": "1.5.0",
      "_model_name": "HTMLModel",
      "_view_count": null,
      "_view_module": "@jupyter-widgets/controls",
      "_view_module_version": "1.5.0",
      "_view_name": "HTMLView",
      "description": "",
      "description_tooltip": null,
      "layout": "IPY_MODEL_992143ed056d4a23afff16b83c514432",
      "placeholder": "​",
      "style": "IPY_MODEL_dc75ce283dff4270b9c537d4e057d416",
      "value": " 150/? [01:11&lt;00:00,  2.10it/s]"
     }
    },
    "ad0c71bcf6d945098f04025bc52055f9": {
     "model_module": "@jupyter-widgets/base",
     "model_name": "LayoutModel",
     "state": {
      "_model_module": "@jupyter-widgets/base",
      "_model_module_version": "1.2.0",
      "_model_name": "LayoutModel",
      "_view_count": null,
      "_view_module": "@jupyter-widgets/base",
      "_view_module_version": "1.2.0",
      "_view_name": "LayoutView",
      "align_content": null,
      "align_items": null,
      "align_self": null,
      "border": null,
      "bottom": null,
      "display": null,
      "flex": null,
      "flex_flow": null,
      "grid_area": null,
      "grid_auto_columns": null,
      "grid_auto_flow": null,
      "grid_auto_rows": null,
      "grid_column": null,
      "grid_gap": null,
      "grid_row": null,
      "grid_template_areas": null,
      "grid_template_columns": null,
      "grid_template_rows": null,
      "height": null,
      "justify_content": null,
      "justify_items": null,
      "left": null,
      "margin": null,
      "max_height": null,
      "max_width": null,
      "min_height": null,
      "min_width": null,
      "object_fit": null,
      "object_position": null,
      "order": null,
      "overflow": null,
      "overflow_x": null,
      "overflow_y": null,
      "padding": null,
      "right": null,
      "top": null,
      "visibility": null,
      "width": null
     }
    },
    "b506bbd1464b407980a6ef55a7819828": {
     "model_module": "@jupyter-widgets/controls",
     "model_name": "ProgressStyleModel",
     "state": {
      "_model_module": "@jupyter-widgets/controls",
      "_model_module_version": "1.5.0",
      "_model_name": "ProgressStyleModel",
      "_view_count": null,
      "_view_module": "@jupyter-widgets/base",
      "_view_module_version": "1.2.0",
      "_view_name": "StyleView",
      "bar_color": null,
      "description_width": "initial"
     }
    },
    "b986d76f127a48669bfaf9c674079d87": {
     "model_module": "@jupyter-widgets/controls",
     "model_name": "FloatProgressModel",
     "state": {
      "_dom_classes": [],
      "_model_module": "@jupyter-widgets/controls",
      "_model_module_version": "1.5.0",
      "_model_name": "FloatProgressModel",
      "_view_count": null,
      "_view_module": "@jupyter-widgets/controls",
      "_view_module_version": "1.5.0",
      "_view_name": "ProgressView",
      "bar_style": "success",
      "description": "",
      "description_tooltip": null,
      "layout": "IPY_MODEL_4d3bd152e2b14612bdec4f9692d48739",
      "max": 1,
      "min": 0,
      "orientation": "horizontal",
      "style": "IPY_MODEL_6736870c4aa94b20adeed80a00507dce",
      "value": 1
     }
    },
    "c56a3c25a1284582bdfb1ad9e02ccb06": {
     "model_module": "@jupyter-widgets/controls",
     "model_name": "HBoxModel",
     "state": {
      "_dom_classes": [],
      "_model_module": "@jupyter-widgets/controls",
      "_model_module_version": "1.5.0",
      "_model_name": "HBoxModel",
      "_view_count": null,
      "_view_module": "@jupyter-widgets/controls",
      "_view_module_version": "1.5.0",
      "_view_name": "HBoxView",
      "box_style": "",
      "children": [
       "IPY_MODEL_b986d76f127a48669bfaf9c674079d87",
       "IPY_MODEL_e941a8dd61c641c88445eb5497fd2760"
      ],
      "layout": "IPY_MODEL_888804a45395411cb9db622b0e6878cb"
     }
    },
    "c5b5410811de4ab59ff76737f353ce27": {
     "model_module": "@jupyter-widgets/controls",
     "model_name": "HTMLModel",
     "state": {
      "_dom_classes": [],
      "_model_module": "@jupyter-widgets/controls",
      "_model_module_version": "1.5.0",
      "_model_name": "HTMLModel",
      "_view_count": null,
      "_view_module": "@jupyter-widgets/controls",
      "_view_module_version": "1.5.0",
      "_view_name": "HTMLView",
      "description": "",
      "description_tooltip": null,
      "layout": "IPY_MODEL_cd662889ecd24a5fbfbf078039e270a8",
      "placeholder": "​",
      "style": "IPY_MODEL_e8fbc6f859784253a0cf6fe88cc0d9ca",
      "value": " 150/? [01:08&lt;00:00,  2.19it/s]"
     }
    },
    "c7a670342db348f0b703a95438137574": {
     "model_module": "@jupyter-widgets/base",
     "model_name": "LayoutModel",
     "state": {
      "_model_module": "@jupyter-widgets/base",
      "_model_module_version": "1.2.0",
      "_model_name": "LayoutModel",
      "_view_count": null,
      "_view_module": "@jupyter-widgets/base",
      "_view_module_version": "1.2.0",
      "_view_name": "LayoutView",
      "align_content": null,
      "align_items": null,
      "align_self": null,
      "border": null,
      "bottom": null,
      "display": null,
      "flex": null,
      "flex_flow": null,
      "grid_area": null,
      "grid_auto_columns": null,
      "grid_auto_flow": null,
      "grid_auto_rows": null,
      "grid_column": null,
      "grid_gap": null,
      "grid_row": null,
      "grid_template_areas": null,
      "grid_template_columns": null,
      "grid_template_rows": null,
      "height": null,
      "justify_content": null,
      "justify_items": null,
      "left": null,
      "margin": null,
      "max_height": null,
      "max_width": null,
      "min_height": null,
      "min_width": null,
      "object_fit": null,
      "object_position": null,
      "order": null,
      "overflow": null,
      "overflow_x": null,
      "overflow_y": null,
      "padding": null,
      "right": null,
      "top": null,
      "visibility": null,
      "width": null
     }
    },
    "cb47163880b644e99674d508f1407349": {
     "model_module": "@jupyter-widgets/controls",
     "model_name": "HBoxModel",
     "state": {
      "_dom_classes": [],
      "_model_module": "@jupyter-widgets/controls",
      "_model_module_version": "1.5.0",
      "_model_name": "HBoxModel",
      "_view_count": null,
      "_view_module": "@jupyter-widgets/controls",
      "_view_module_version": "1.5.0",
      "_view_name": "HBoxView",
      "box_style": "",
      "children": [
       "IPY_MODEL_6e1089fcff4a4ad19de6fc9dfb87c171",
       "IPY_MODEL_c5b5410811de4ab59ff76737f353ce27"
      ],
      "layout": "IPY_MODEL_e94c000d5060445ca93691f6af42e70c"
     }
    },
    "cd662889ecd24a5fbfbf078039e270a8": {
     "model_module": "@jupyter-widgets/base",
     "model_name": "LayoutModel",
     "state": {
      "_model_module": "@jupyter-widgets/base",
      "_model_module_version": "1.2.0",
      "_model_name": "LayoutModel",
      "_view_count": null,
      "_view_module": "@jupyter-widgets/base",
      "_view_module_version": "1.2.0",
      "_view_name": "LayoutView",
      "align_content": null,
      "align_items": null,
      "align_self": null,
      "border": null,
      "bottom": null,
      "display": null,
      "flex": null,
      "flex_flow": null,
      "grid_area": null,
      "grid_auto_columns": null,
      "grid_auto_flow": null,
      "grid_auto_rows": null,
      "grid_column": null,
      "grid_gap": null,
      "grid_row": null,
      "grid_template_areas": null,
      "grid_template_columns": null,
      "grid_template_rows": null,
      "height": null,
      "justify_content": null,
      "justify_items": null,
      "left": null,
      "margin": null,
      "max_height": null,
      "max_width": null,
      "min_height": null,
      "min_width": null,
      "object_fit": null,
      "object_position": null,
      "order": null,
      "overflow": null,
      "overflow_x": null,
      "overflow_y": null,
      "padding": null,
      "right": null,
      "top": null,
      "visibility": null,
      "width": null
     }
    },
    "ce7dc5c992754af5a545aa408ed67c88": {
     "model_module": "@jupyter-widgets/base",
     "model_name": "LayoutModel",
     "state": {
      "_model_module": "@jupyter-widgets/base",
      "_model_module_version": "1.2.0",
      "_model_name": "LayoutModel",
      "_view_count": null,
      "_view_module": "@jupyter-widgets/base",
      "_view_module_version": "1.2.0",
      "_view_name": "LayoutView",
      "align_content": null,
      "align_items": null,
      "align_self": null,
      "border": null,
      "bottom": null,
      "display": null,
      "flex": null,
      "flex_flow": null,
      "grid_area": null,
      "grid_auto_columns": null,
      "grid_auto_flow": null,
      "grid_auto_rows": null,
      "grid_column": null,
      "grid_gap": null,
      "grid_row": null,
      "grid_template_areas": null,
      "grid_template_columns": null,
      "grid_template_rows": null,
      "height": null,
      "justify_content": null,
      "justify_items": null,
      "left": null,
      "margin": null,
      "max_height": null,
      "max_width": null,
      "min_height": null,
      "min_width": null,
      "object_fit": null,
      "object_position": null,
      "order": null,
      "overflow": null,
      "overflow_x": null,
      "overflow_y": null,
      "padding": null,
      "right": null,
      "top": null,
      "visibility": null,
      "width": null
     }
    },
    "d2a4e7e937804562a63d0191223c0dd0": {
     "model_module": "@jupyter-widgets/controls",
     "model_name": "FloatProgressModel",
     "state": {
      "_dom_classes": [],
      "_model_module": "@jupyter-widgets/controls",
      "_model_module_version": "1.5.0",
      "_model_name": "FloatProgressModel",
      "_view_count": null,
      "_view_module": "@jupyter-widgets/controls",
      "_view_module_version": "1.5.0",
      "_view_name": "ProgressView",
      "bar_style": "success",
      "description": "",
      "description_tooltip": null,
      "layout": "IPY_MODEL_17e87d4a9a974aa6828c5ae0f9e0cf3a",
      "max": 1,
      "min": 0,
      "orientation": "horizontal",
      "style": "IPY_MODEL_d689f347b2e040d186d0353abaa96dd4",
      "value": 1
     }
    },
    "d689f347b2e040d186d0353abaa96dd4": {
     "model_module": "@jupyter-widgets/controls",
     "model_name": "ProgressStyleModel",
     "state": {
      "_model_module": "@jupyter-widgets/controls",
      "_model_module_version": "1.5.0",
      "_model_name": "ProgressStyleModel",
      "_view_count": null,
      "_view_module": "@jupyter-widgets/base",
      "_view_module_version": "1.2.0",
      "_view_name": "StyleView",
      "bar_color": null,
      "description_width": "initial"
     }
    },
    "d9fb635e32cd4ed4bcddf6574de80b1b": {
     "model_module": "@jupyter-widgets/controls",
     "model_name": "FloatProgressModel",
     "state": {
      "_dom_classes": [],
      "_model_module": "@jupyter-widgets/controls",
      "_model_module_version": "1.5.0",
      "_model_name": "FloatProgressModel",
      "_view_count": null,
      "_view_module": "@jupyter-widgets/controls",
      "_view_module_version": "1.5.0",
      "_view_name": "ProgressView",
      "bar_style": "success",
      "description": "",
      "description_tooltip": null,
      "layout": "IPY_MODEL_3353a6712b3a482d8907ca80a0824020",
      "max": 1,
      "min": 0,
      "orientation": "horizontal",
      "style": "IPY_MODEL_273de981090749b29ce385706c449722",
      "value": 1
     }
    },
    "db85fdb064634d80b1904313a3b81ddb": {
     "model_module": "@jupyter-widgets/controls",
     "model_name": "FloatProgressModel",
     "state": {
      "_dom_classes": [],
      "_model_module": "@jupyter-widgets/controls",
      "_model_module_version": "1.5.0",
      "_model_name": "FloatProgressModel",
      "_view_count": null,
      "_view_module": "@jupyter-widgets/controls",
      "_view_module_version": "1.5.0",
      "_view_name": "ProgressView",
      "bar_style": "success",
      "description": "",
      "description_tooltip": null,
      "layout": "IPY_MODEL_9459d0d307814c34aa8a31945a82adb7",
      "max": 1,
      "min": 0,
      "orientation": "horizontal",
      "style": "IPY_MODEL_ed804e9c6fae4499aa3e6fef00f5de44",
      "value": 1
     }
    },
    "dc75ce283dff4270b9c537d4e057d416": {
     "model_module": "@jupyter-widgets/controls",
     "model_name": "DescriptionStyleModel",
     "state": {
      "_model_module": "@jupyter-widgets/controls",
      "_model_module_version": "1.5.0",
      "_model_name": "DescriptionStyleModel",
      "_view_count": null,
      "_view_module": "@jupyter-widgets/base",
      "_view_module_version": "1.2.0",
      "_view_name": "StyleView",
      "description_width": ""
     }
    },
    "dc94b3b543714dd0845fdadca7db22a3": {
     "model_module": "@jupyter-widgets/base",
     "model_name": "LayoutModel",
     "state": {
      "_model_module": "@jupyter-widgets/base",
      "_model_module_version": "1.2.0",
      "_model_name": "LayoutModel",
      "_view_count": null,
      "_view_module": "@jupyter-widgets/base",
      "_view_module_version": "1.2.0",
      "_view_name": "LayoutView",
      "align_content": null,
      "align_items": null,
      "align_self": null,
      "border": null,
      "bottom": null,
      "display": null,
      "flex": null,
      "flex_flow": null,
      "grid_area": null,
      "grid_auto_columns": null,
      "grid_auto_flow": null,
      "grid_auto_rows": null,
      "grid_column": null,
      "grid_gap": null,
      "grid_row": null,
      "grid_template_areas": null,
      "grid_template_columns": null,
      "grid_template_rows": null,
      "height": null,
      "justify_content": null,
      "justify_items": null,
      "left": null,
      "margin": null,
      "max_height": null,
      "max_width": null,
      "min_height": null,
      "min_width": null,
      "object_fit": null,
      "object_position": null,
      "order": null,
      "overflow": null,
      "overflow_x": null,
      "overflow_y": null,
      "padding": null,
      "right": null,
      "top": null,
      "visibility": null,
      "width": null
     }
    },
    "ddd0f5a0f838494daf3d0581081c3e86": {
     "model_module": "@jupyter-widgets/controls",
     "model_name": "HBoxModel",
     "state": {
      "_dom_classes": [],
      "_model_module": "@jupyter-widgets/controls",
      "_model_module_version": "1.5.0",
      "_model_name": "HBoxModel",
      "_view_count": null,
      "_view_module": "@jupyter-widgets/controls",
      "_view_module_version": "1.5.0",
      "_view_name": "HBoxView",
      "box_style": "",
      "children": [
       "IPY_MODEL_f842c10d414f41c6846c1dc74200f301",
       "IPY_MODEL_a694fbafc40c41e98fe568668e4db732"
      ],
      "layout": "IPY_MODEL_3856954e8b1e47a08fce9fff7a038027"
     }
    },
    "ddf41c306dc441eb85beb6ea7bfbfedd": {
     "model_module": "@jupyter-widgets/base",
     "model_name": "LayoutModel",
     "state": {
      "_model_module": "@jupyter-widgets/base",
      "_model_module_version": "1.2.0",
      "_model_name": "LayoutModel",
      "_view_count": null,
      "_view_module": "@jupyter-widgets/base",
      "_view_module_version": "1.2.0",
      "_view_name": "LayoutView",
      "align_content": null,
      "align_items": null,
      "align_self": null,
      "border": null,
      "bottom": null,
      "display": null,
      "flex": null,
      "flex_flow": null,
      "grid_area": null,
      "grid_auto_columns": null,
      "grid_auto_flow": null,
      "grid_auto_rows": null,
      "grid_column": null,
      "grid_gap": null,
      "grid_row": null,
      "grid_template_areas": null,
      "grid_template_columns": null,
      "grid_template_rows": null,
      "height": null,
      "justify_content": null,
      "justify_items": null,
      "left": null,
      "margin": null,
      "max_height": null,
      "max_width": null,
      "min_height": null,
      "min_width": null,
      "object_fit": null,
      "object_position": null,
      "order": null,
      "overflow": null,
      "overflow_x": null,
      "overflow_y": null,
      "padding": null,
      "right": null,
      "top": null,
      "visibility": null,
      "width": null
     }
    },
    "dffe3b78e72e4c309bda155884c2c7a7": {
     "model_module": "@jupyter-widgets/controls",
     "model_name": "HBoxModel",
     "state": {
      "_dom_classes": [],
      "_model_module": "@jupyter-widgets/controls",
      "_model_module_version": "1.5.0",
      "_model_name": "HBoxModel",
      "_view_count": null,
      "_view_module": "@jupyter-widgets/controls",
      "_view_module_version": "1.5.0",
      "_view_name": "HBoxView",
      "box_style": "",
      "children": [
       "IPY_MODEL_d9fb635e32cd4ed4bcddf6574de80b1b",
       "IPY_MODEL_1523672396354424b0658ce14786fbd2"
      ],
      "layout": "IPY_MODEL_00632d7b23cc45f59515669601334fcd"
     }
    },
    "e2be21b2cc584489b535309b9c8904e3": {
     "model_module": "@jupyter-widgets/controls",
     "model_name": "FloatProgressModel",
     "state": {
      "_dom_classes": [],
      "_model_module": "@jupyter-widgets/controls",
      "_model_module_version": "1.5.0",
      "_model_name": "FloatProgressModel",
      "_view_count": null,
      "_view_module": "@jupyter-widgets/controls",
      "_view_module_version": "1.5.0",
      "_view_name": "ProgressView",
      "bar_style": "success",
      "description": "",
      "description_tooltip": null,
      "layout": "IPY_MODEL_fca884b72b1946cd8403edac7d41924e",
      "max": 1,
      "min": 0,
      "orientation": "horizontal",
      "style": "IPY_MODEL_8503f63352114056ace6ee5662d746da",
      "value": 1
     }
    },
    "e595378941654a4dbe560a646dc52272": {
     "model_module": "@jupyter-widgets/base",
     "model_name": "LayoutModel",
     "state": {
      "_model_module": "@jupyter-widgets/base",
      "_model_module_version": "1.2.0",
      "_model_name": "LayoutModel",
      "_view_count": null,
      "_view_module": "@jupyter-widgets/base",
      "_view_module_version": "1.2.0",
      "_view_name": "LayoutView",
      "align_content": null,
      "align_items": null,
      "align_self": null,
      "border": null,
      "bottom": null,
      "display": null,
      "flex": null,
      "flex_flow": null,
      "grid_area": null,
      "grid_auto_columns": null,
      "grid_auto_flow": null,
      "grid_auto_rows": null,
      "grid_column": null,
      "grid_gap": null,
      "grid_row": null,
      "grid_template_areas": null,
      "grid_template_columns": null,
      "grid_template_rows": null,
      "height": null,
      "justify_content": null,
      "justify_items": null,
      "left": null,
      "margin": null,
      "max_height": null,
      "max_width": null,
      "min_height": null,
      "min_width": null,
      "object_fit": null,
      "object_position": null,
      "order": null,
      "overflow": null,
      "overflow_x": null,
      "overflow_y": null,
      "padding": null,
      "right": null,
      "top": null,
      "visibility": null,
      "width": null
     }
    },
    "e7ccb000bd83423fb4693a908c638ddb": {
     "model_module": "@jupyter-widgets/controls",
     "model_name": "ProgressStyleModel",
     "state": {
      "_model_module": "@jupyter-widgets/controls",
      "_model_module_version": "1.5.0",
      "_model_name": "ProgressStyleModel",
      "_view_count": null,
      "_view_module": "@jupyter-widgets/base",
      "_view_module_version": "1.2.0",
      "_view_name": "StyleView",
      "bar_color": null,
      "description_width": "initial"
     }
    },
    "e7fc29feb6d3404d83c1e455602d5c1b": {
     "model_module": "@jupyter-widgets/controls",
     "model_name": "HBoxModel",
     "state": {
      "_dom_classes": [],
      "_model_module": "@jupyter-widgets/controls",
      "_model_module_version": "1.5.0",
      "_model_name": "HBoxModel",
      "_view_count": null,
      "_view_module": "@jupyter-widgets/controls",
      "_view_module_version": "1.5.0",
      "_view_name": "HBoxView",
      "box_style": "",
      "children": [
       "IPY_MODEL_2d2b6b3effa34b809c30379c42c3c861",
       "IPY_MODEL_f46251823d4f4d219bffc095047f8867"
      ],
      "layout": "IPY_MODEL_ddf41c306dc441eb85beb6ea7bfbfedd"
     }
    },
    "e8fbc6f859784253a0cf6fe88cc0d9ca": {
     "model_module": "@jupyter-widgets/controls",
     "model_name": "DescriptionStyleModel",
     "state": {
      "_model_module": "@jupyter-widgets/controls",
      "_model_module_version": "1.5.0",
      "_model_name": "DescriptionStyleModel",
      "_view_count": null,
      "_view_module": "@jupyter-widgets/base",
      "_view_module_version": "1.2.0",
      "_view_name": "StyleView",
      "description_width": ""
     }
    },
    "e941a8dd61c641c88445eb5497fd2760": {
     "model_module": "@jupyter-widgets/controls",
     "model_name": "HTMLModel",
     "state": {
      "_dom_classes": [],
      "_model_module": "@jupyter-widgets/controls",
      "_model_module_version": "1.5.0",
      "_model_name": "HTMLModel",
      "_view_count": null,
      "_view_module": "@jupyter-widgets/controls",
      "_view_module_version": "1.5.0",
      "_view_name": "HTMLView",
      "description": "",
      "description_tooltip": null,
      "layout": "IPY_MODEL_ce7dc5c992754af5a545aa408ed67c88",
      "placeholder": "​",
      "style": "IPY_MODEL_63ff13ee95f64beea555e0660be15eec",
      "value": " 150/? [01:09&lt;00:00,  2.17it/s]"
     }
    },
    "e94b124aaf674431b6e424b9c6c1da87": {
     "model_module": "@jupyter-widgets/controls",
     "model_name": "DescriptionStyleModel",
     "state": {
      "_model_module": "@jupyter-widgets/controls",
      "_model_module_version": "1.5.0",
      "_model_name": "DescriptionStyleModel",
      "_view_count": null,
      "_view_module": "@jupyter-widgets/base",
      "_view_module_version": "1.2.0",
      "_view_name": "StyleView",
      "description_width": ""
     }
    },
    "e94c000d5060445ca93691f6af42e70c": {
     "model_module": "@jupyter-widgets/base",
     "model_name": "LayoutModel",
     "state": {
      "_model_module": "@jupyter-widgets/base",
      "_model_module_version": "1.2.0",
      "_model_name": "LayoutModel",
      "_view_count": null,
      "_view_module": "@jupyter-widgets/base",
      "_view_module_version": "1.2.0",
      "_view_name": "LayoutView",
      "align_content": null,
      "align_items": null,
      "align_self": null,
      "border": null,
      "bottom": null,
      "display": null,
      "flex": null,
      "flex_flow": null,
      "grid_area": null,
      "grid_auto_columns": null,
      "grid_auto_flow": null,
      "grid_auto_rows": null,
      "grid_column": null,
      "grid_gap": null,
      "grid_row": null,
      "grid_template_areas": null,
      "grid_template_columns": null,
      "grid_template_rows": null,
      "height": null,
      "justify_content": null,
      "justify_items": null,
      "left": null,
      "margin": null,
      "max_height": null,
      "max_width": null,
      "min_height": null,
      "min_width": null,
      "object_fit": null,
      "object_position": null,
      "order": null,
      "overflow": null,
      "overflow_x": null,
      "overflow_y": null,
      "padding": null,
      "right": null,
      "top": null,
      "visibility": null,
      "width": null
     }
    },
    "ed804e9c6fae4499aa3e6fef00f5de44": {
     "model_module": "@jupyter-widgets/controls",
     "model_name": "ProgressStyleModel",
     "state": {
      "_model_module": "@jupyter-widgets/controls",
      "_model_module_version": "1.5.0",
      "_model_name": "ProgressStyleModel",
      "_view_count": null,
      "_view_module": "@jupyter-widgets/base",
      "_view_module_version": "1.2.0",
      "_view_name": "StyleView",
      "bar_color": null,
      "description_width": "initial"
     }
    },
    "f1010194505c44b588ba44a39e4afd9f": {
     "model_module": "@jupyter-widgets/controls",
     "model_name": "DescriptionStyleModel",
     "state": {
      "_model_module": "@jupyter-widgets/controls",
      "_model_module_version": "1.5.0",
      "_model_name": "DescriptionStyleModel",
      "_view_count": null,
      "_view_module": "@jupyter-widgets/base",
      "_view_module_version": "1.2.0",
      "_view_name": "StyleView",
      "description_width": ""
     }
    },
    "f46251823d4f4d219bffc095047f8867": {
     "model_module": "@jupyter-widgets/controls",
     "model_name": "HTMLModel",
     "state": {
      "_dom_classes": [],
      "_model_module": "@jupyter-widgets/controls",
      "_model_module_version": "1.5.0",
      "_model_name": "HTMLModel",
      "_view_count": null,
      "_view_module": "@jupyter-widgets/controls",
      "_view_module_version": "1.5.0",
      "_view_name": "HTMLView",
      "description": "",
      "description_tooltip": null,
      "layout": "IPY_MODEL_9d3ae70779e447d0aa495a9872209d38",
      "placeholder": "​",
      "style": "IPY_MODEL_04619e3db74847f5b637c7d2b1d5b8b8",
      "value": " 150/? [14:12&lt;00:00,  5.68s/it]"
     }
    },
    "f7dd810e69fa4f1f91acaec17fb8c64a": {
     "model_module": "@jupyter-widgets/controls",
     "model_name": "HTMLModel",
     "state": {
      "_dom_classes": [],
      "_model_module": "@jupyter-widgets/controls",
      "_model_module_version": "1.5.0",
      "_model_name": "HTMLModel",
      "_view_count": null,
      "_view_module": "@jupyter-widgets/controls",
      "_view_module_version": "1.5.0",
      "_view_name": "HTMLView",
      "description": "",
      "description_tooltip": null,
      "layout": "IPY_MODEL_940db33506ef463788996553c4bf5f74",
      "placeholder": "​",
      "style": "IPY_MODEL_268c4187cfc9490bacfa1eafe1fbcca1",
      "value": " 150/? [42:34&lt;00:00, 17.03s/it]"
     }
    },
    "f842c10d414f41c6846c1dc74200f301": {
     "model_module": "@jupyter-widgets/controls",
     "model_name": "FloatProgressModel",
     "state": {
      "_dom_classes": [],
      "_model_module": "@jupyter-widgets/controls",
      "_model_module_version": "1.5.0",
      "_model_name": "FloatProgressModel",
      "_view_count": null,
      "_view_module": "@jupyter-widgets/controls",
      "_view_module_version": "1.5.0",
      "_view_name": "ProgressView",
      "bar_style": "success",
      "description": "",
      "description_tooltip": null,
      "layout": "IPY_MODEL_4800749f8151430c8cc49570cd4ccaf7",
      "max": 1,
      "min": 0,
      "orientation": "horizontal",
      "style": "IPY_MODEL_8365405f8a1c4d178b5ab5cd9d905e32",
      "value": 1
     }
    },
    "fb5c1e7223ac4634a16c161784505836": {
     "model_module": "@jupyter-widgets/controls",
     "model_name": "HBoxModel",
     "state": {
      "_dom_classes": [],
      "_model_module": "@jupyter-widgets/controls",
      "_model_module_version": "1.5.0",
      "_model_name": "HBoxModel",
      "_view_count": null,
      "_view_module": "@jupyter-widgets/controls",
      "_view_module_version": "1.5.0",
      "_view_name": "HBoxView",
      "box_style": "",
      "children": [
       "IPY_MODEL_471a09375e984a31824b27e279a6c4f3",
       "IPY_MODEL_27deb6f565ac4447a44770288071a0b8"
      ],
      "layout": "IPY_MODEL_7475bb3748de434eae59ef85715514da"
     }
    },
    "fca884b72b1946cd8403edac7d41924e": {
     "model_module": "@jupyter-widgets/base",
     "model_name": "LayoutModel",
     "state": {
      "_model_module": "@jupyter-widgets/base",
      "_model_module_version": "1.2.0",
      "_model_name": "LayoutModel",
      "_view_count": null,
      "_view_module": "@jupyter-widgets/base",
      "_view_module_version": "1.2.0",
      "_view_name": "LayoutView",
      "align_content": null,
      "align_items": null,
      "align_self": null,
      "border": null,
      "bottom": null,
      "display": null,
      "flex": null,
      "flex_flow": null,
      "grid_area": null,
      "grid_auto_columns": null,
      "grid_auto_flow": null,
      "grid_auto_rows": null,
      "grid_column": null,
      "grid_gap": null,
      "grid_row": null,
      "grid_template_areas": null,
      "grid_template_columns": null,
      "grid_template_rows": null,
      "height": null,
      "justify_content": null,
      "justify_items": null,
      "left": null,
      "margin": null,
      "max_height": null,
      "max_width": null,
      "min_height": null,
      "min_width": null,
      "object_fit": null,
      "object_position": null,
      "order": null,
      "overflow": null,
      "overflow_x": null,
      "overflow_y": null,
      "padding": null,
      "right": null,
      "top": null,
      "visibility": null,
      "width": null
     }
    },
    "ffc60b07ad704ea2afc0ac2c79c10c11": {
     "model_module": "@jupyter-widgets/controls",
     "model_name": "DescriptionStyleModel",
     "state": {
      "_model_module": "@jupyter-widgets/controls",
      "_model_module_version": "1.5.0",
      "_model_name": "DescriptionStyleModel",
      "_view_count": null,
      "_view_module": "@jupyter-widgets/base",
      "_view_module_version": "1.2.0",
      "_view_name": "StyleView",
      "description_width": ""
     }
    }
   }
  }
 },
 "nbformat": 4,
 "nbformat_minor": 4
}
